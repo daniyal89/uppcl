{
 "cells": [
  {
   "cell_type": "code",
   "execution_count": 1,
   "id": "afa746f2-8ad2-4bf4-a45f-967a09672180",
   "metadata": {
    "tags": []
   },
   "outputs": [],
   "source": [
    "import pandas as pd\n",
    "import numpy as np\n",
    "from joblib import Parallel, delayed\n",
    "from datetime import datetime \n",
    "\n",
    "import time"
   ]
  },
  {
   "cell_type": "code",
   "execution_count": 2,
   "id": "44dedf5d-0ecc-4a7b-9d31-802150c0a1c8",
   "metadata": {
    "tags": []
   },
   "outputs": [],
   "source": [
    "#  parameters\n",
    "circle=\"Zone\"\n",
    "month=\"nov2023\"\n",
    "month_doc=9\n",
    "month_unpaid=12\n",
    "date='13122023'\n",
    "ftpHost = 'ftp.uppclonline.com'\n",
    "ftpUname = 'mvftpreport'\n",
    "ftpPass = 'Mvftp@321'\n",
    "localFolderPath = f\".\\\\{month}\\\\billed\"\n",
    "remoteFolder = f\"CSV_BILLED/{date}\""
   ]
  },
  {
   "cell_type": "code",
   "execution_count": 3,
   "id": "18b8fedf-6cc7-478e-9c58-81b02773e007",
   "metadata": {
    "tags": []
   },
   "outputs": [],
   "source": [
    "def NonGOVT(df):\n",
    "    convert_dict = {'SUPPLY_TYPE': str}\n",
    "    df = df.astype(convert_dict)\n",
    "    df['SUPPLY_TYPE'] = df['SUPPLY_TYPE'].astype(str).str.replace('\\\\.0+$', '')\n",
    "    govt = ['30','31','32','33','34','35','36','37','38','39','40','40A', '41', '41A', '42', '42A', '43', '44', '45','48','72','73','74','75','80','81','82','83','100','101','102','103','104','105','106','107','80B','42A','41A','40A','H31'\n",
    "           'H32','H33','H41','H42','H43','HV41','H13','H14']\n",
    "    govt = [str(x) for x in govt]\n",
    "    df['gov_flag'] = df['SUPPLY_TYPE'].isin(govt)\n",
    "    return df"
   ]
  },
  {
   "cell_type": "code",
   "execution_count": 4,
   "id": "4272b924-237c-4d60-967a-6b12b13386ec",
   "metadata": {
    "tags": []
   },
   "outputs": [],
   "source": [
    "def categories(df):\n",
    "    #Supplytype.srs.startswith('1') for lmv1\n",
    "    convert_dict = {'SUPPLY_TYPE': str,\n",
    "                \n",
    "                }\n",
    " \n",
    "    df = df.astype(convert_dict)\n",
    "    df['SUPPLY_TYPE'] = df['SUPPLY_TYPE'].astype(str).str.replace('\\\\.0+$', '')\n",
    "    df['Cat'] = None\n",
    "#     df[df['SUPPLY_TYPE'].str.startswith('1')] = \"LMV1\"\n",
    "    df.loc[df['SUPPLY_TYPE'].str.startswith('1', na=False),\"Cat\"] = \"LMV1\"\n",
    "    df.loc[df['SUPPLY_TYPE'].str.startswith('2',na=False),\"Cat\"] = \"LMV2\"\n",
    "    df.loc[df['SUPPLY_TYPE'].str.startswith('3', na=False),\"Cat\"] = \"LMV3\"\n",
    "    # df.loc[df['SUPPLY_TYPE'].str.startswith('4', na=False),\"Cat\"] = \"LMV4\"\n",
    "    df.loc[df['SUPPLY_TYPE'].str.startswith('5', na=False),\"Cat\"] = \"LMV5\"\n",
    "    df.loc[df['SUPPLY_TYPE'].str.startswith('6', na=False),\"Cat\"] = \"LMV6\"\n",
    "    df.loc[df['SUPPLY_TYPE'].str.startswith('7', na=False),\"Cat\"] = \"LMV7\"\n",
    "    df.loc[df['SUPPLY_TYPE'].str.startswith('8', na=False),\"Cat\"] = \"LMV8\"\n",
    "    df.loc[df['SUPPLY_TYPE'].str.startswith('9', na=False),\"Cat\"] = \"LMV9\"\n",
    "#     df.loc[df['SUPPLY_TYPE'].str.startswith('10'),\"Cat\"] = \"LMV10\"\n",
    "    df.loc[df['SUPPLY_TYPE'].str.startswith('H1', na=False),\"Cat\"] = \"HV1\"\n",
    "    df.loc[df['SUPPLY_TYPE'].str.startswith('H2', na=False),\"Cat\"] = \"HV2\"\n",
    "    df.loc[df['SUPPLY_TYPE'].str.startswith('H3', na=False),\"Cat\"] = \"HV3\"\n",
    "    df.loc[df['SUPPLY_TYPE'].str.startswith('H4', na=False),\"Cat\"] = \"HV4\"\n",
    "    lmv10 = ['100', '101', '103', '104', '105']\n",
    "    # df['gov_flag'] = df['SUPPLY_TYPE'].isin(lmv10)\n",
    "    df.loc[df['SUPPLY_TYPE'].isin(lmv10),\"Cat\"] = \"LMV10\"\n",
    "    lmv4a = ['40','40A', '41', '41A', '42', '42A', ]\n",
    "    lmv4b = ['46', '47','43', '44', '45','48']\n",
    "    df.loc[df['SUPPLY_TYPE'].isin(lmv4a),\"Cat\"] = \"LMV4A\"\n",
    "    df.loc[df['SUPPLY_TYPE'].isin(lmv4b),\"Cat\"] = \"LMV4B\"\n",
    "    return df"
   ]
  },
  {
   "cell_type": "code",
   "execution_count": 5,
   "id": "d20765b7-80c7-4708-91f8-1c0d90aa76d0",
   "metadata": {
    "tags": []
   },
   "outputs": [],
   "source": [
    "def CatLoad(df):\n",
    "    df['SANCTION_LOAD'] = pd.to_numeric(df['SANCTION_LOAD'])   #,errors=\"coerce\"\n",
    "    df['LOAD_FILTER'] = None\n",
    "    df.loc[df['SANCTION_LOAD'] < 5,\"LOAD_FILTER\"] = \"1-5kw\"\n",
    "    df.loc[((df['SANCTION_LOAD'] >= 5) & (df['SANCTION_LOAD'] < 10)),\"LOAD_FILTER\"] = \"5-9kw\"\n",
    "    df.loc[df['SANCTION_LOAD'] >= 10,\"LOAD_FILTER\"] = \"great than 10kw\"\n",
    "    return df\n"
   ]
  },
  {
   "cell_type": "code",
   "execution_count": 6,
   "id": "db67c3fc-2557-4c0a-9b0f-6995fdace958",
   "metadata": {
    "tags": []
   },
   "outputs": [],
   "source": [
    "# def billable(df):\n",
    "#     bil = ['In Service','TD']\n",
    "#     df['bilable_flag'] = df['CON_STATUS'].isin(bil)\n",
    "#     return df\n",
    "  "
   ]
  },
  {
   "cell_type": "code",
   "execution_count": 7,
   "id": "e04eaefa-6da8-45d2-94fe-49678f8a6850",
   "metadata": {
    "tags": []
   },
   "outputs": [],
   "source": [
    "import os, shutil\n",
    "folder = f\".\\\\{month}\\\\billed\"\n",
    "for filename in os.listdir(folder):\n",
    "    file_path = os.path.join(folder, filename)\n",
    "    try:\n",
    "        if os.path.isfile(file_path) or os.path.islink(file_path):\n",
    "            os.unlink(file_path)\n",
    "        elif os.path.isdir(file_path):\n",
    "            shutil.rmtree(file_path)\n",
    "    except Exception as e:\n",
    "        print('Failed to delete %s. Reason: %s' % (file_path, e))\n",
    "        \n",
    "folder = f\".\\\\{month}\\\\unbilled\"\n",
    "for filename in os.listdir(folder):\n",
    "    file_path = os.path.join(folder, filename)\n",
    "    try:\n",
    "        if os.path.isfile(file_path) or os.path.islink(file_path):\n",
    "            os.unlink(file_path)\n",
    "        elif os.path.isdir(file_path):\n",
    "            shutil.rmtree(file_path)\n",
    "    except Exception as e:\n",
    "        print('Failed to delete %s. Reason: %s' % (file_path, e))\n"
   ]
  },
  {
   "cell_type": "code",
   "execution_count": 8,
   "id": "7dd8deff-de0c-4ddf-8f19-4b6abaa5647f",
   "metadata": {
    "tags": []
   },
   "outputs": [],
   "source": [
    "# df_master = pd.read_csv(f\".\\\\{month}\\\\{circle}\\\\Zonesep23_8oct.csv\")"
   ]
  },
  {
   "cell_type": "code",
   "execution_count": 9,
   "id": "5ad1aacf-167e-472f-8142-06fced4658fe",
   "metadata": {
    "tags": []
   },
   "outputs": [],
   "source": [
    "# df_master.columns"
   ]
  },
  {
   "cell_type": "code",
   "execution_count": 10,
   "id": "1ec35e1b-0546-45d8-8fb9-7ed639725d30",
   "metadata": {
    "tags": []
   },
   "outputs": [],
   "source": [
    "# df_master = df_master[df_master['Circle_Name'] == 'EDC Bahraich']"
   ]
  },
  {
   "cell_type": "code",
   "execution_count": 11,
   "id": "90e223ca-4715-4c2d-b6a7-9f851f8a8260",
   "metadata": {
    "tags": []
   },
   "outputs": [],
   "source": [
    "# # quit and close the connection\n",
    "# import ftplib\n",
    "\n",
    "\n",
    "# def getFtpFilenames(ftpHost,  ftpUname, ftpPass, remoteWorkingDirectory):\n",
    "#     # create an FTP client instance, use the timeout(seconds) parameter for slow connections only\n",
    "#     ftp = ftplib.FTP(timeout=30)\n",
    "    \n",
    "#     # connect to the FTP server\n",
    "#     ftp.connect(ftpHost)\n",
    "    \n",
    "#     # login to the FTP server\n",
    "#     ftp.login(ftpUname, ftpPass)\n",
    "\n",
    "#     # change current working directory if specified\n",
    "#     if not (remoteWorkingDirectory == None or remoteWorkingDirectory.strip() == \"\"):\n",
    "#         _ = ftp.cwd(remoteWorkingDirectory)\n",
    "    \n",
    "#     # initialize the filenames as an empty list\n",
    "#     fnames = []\n",
    "    \n",
    "#     try:\n",
    "#         # use nlst function to get the list of filenames\n",
    "#         fnames = ftp.nlst()\n",
    "#     except ftplib.error_perm as resp:\n",
    "#         if str(resp) == \"550 No files found\":\n",
    "#             fnames = []\n",
    "#         else:\n",
    "#             raise\n",
    "    \n",
    "#     # send QUIT command to the FTP server and close the connection\n",
    "#     ftp.quit()\n",
    "\n",
    "#     # return the list of filenames\n",
    "#     return fnames\n",
    "\n",
    "# # connection parameters\n",
    "# ftpHost = 'ftp.uppclonline.com'\n",
    "# ftpUname = 'mvftpreport'\n",
    "# ftpPass = 'Mvftp@321'\n",
    "# ftpcwd = f'CSV_BILLED/{date}/'\n",
    "# fnames = getFtpFilenames(ftpHost,ftpUname, ftpPass,ftpcwd )\n",
    "# print(fnames)\n",
    "# print(\"execution complete...\")"
   ]
  },
  {
   "cell_type": "code",
   "execution_count": 12,
   "id": "6d3a79f9-5660-4bdc-8657-30e73cb7eb73",
   "metadata": {
    "tags": []
   },
   "outputs": [],
   "source": [
    "def low_consumtion_filter(df):\n",
    "    \n",
    "#     df = df[df['TOTAL_OUTSTANDING'] > 0]\n",
    "    df['low_consumtion_filter'] = None\n",
    "    df.loc[df['BILLED_UNITS'] <= 10,\"low_consumtion_filter\"] = \"0-10\"\n",
    "    df.loc[((df['BILLED_UNITS'] > 10 ) & (df['BILLED_UNITS'] <= 30)),\"low_consumtion_filter\"] = \"10-30\"\n",
    "    df.loc[((df['BILLED_UNITS'] > 30) & (df['BILLED_UNITS'] <= 50)),\"low_consumtion_filter\"] = \"30-50\"\n",
    "    df.loc[((df['BILLED_UNITS'] > 50) & (df['BILLED_UNITS'] <=100)),\"low_consumtion_filter\"] = \"50-100\"\n",
    "    df.loc[df['BILLED_UNITS'] > 100,\"low_consumtion_filter\"] = \"> 100\"\n",
    "    \n",
    "    return df"
   ]
  },
  {
   "cell_type": "code",
   "execution_count": 13,
   "id": "1a016ebb-2787-4cc3-9524-a3a16fd4215b",
   "metadata": {
    "tags": []
   },
   "outputs": [],
   "source": [
    "def unpaid(df):\n",
    "    df['paid_status_curr'] = 0\n",
    "    # df.loc[df['LAST_PAY_DATE'] < pd.Timestamp(2023, 1, month_unpaid),\"unpaid_status\"] = 0\n",
    "    # df.loc[(pd.isnull(df['LAST_PAY_DATE'] )),\"unpaid_status\"] = 0     \n",
    "    df.loc[df['LAST_PAY_DATE'] >= pd.Timestamp(2023, month_unpaid,1),\"paid_status_curr\"] = 1\n",
    "    \n",
    "    return df"
   ]
  },
  {
   "cell_type": "code",
   "execution_count": 14,
   "id": "1a47e349-9296-4e22-a1f9-8c9a8dbcc423",
   "metadata": {
    "tags": []
   },
   "outputs": [],
   "source": [
    "def curr_paid_amount(df):\n",
    "    df['curr_paid_amount'] = 0\n",
    "    df.loc[df['paid_status_curr'] == 1,\"curr_paid_amount\"] = df[df['paid_status_curr'] == 1]['LAST_PAYMENT_AMOUNT']\n",
    "    \n",
    "    return df\n",
    "    "
   ]
  },
  {
   "cell_type": "code",
   "execution_count": 15,
   "id": "116b9734-316b-4a88-9faf-4a9abb51ef75",
   "metadata": {
    "tags": []
   },
   "outputs": [],
   "source": [
    "def correction():\n",
    "    # rankings_pd.rename(columns = {'test':'TEST'}, inplace = True)\n",
    "    unbilled.rename(columns = {'LAST_BILL_DATE':'BILL_DATE','LAST_PAY_AMT':'LAST_PAYMENT_AMOUNT'}, inplace = True)\n",
    "    unbilled.drop(['KNO', 'BOOK_NO', 'DISCOM', 'ZONE_CODE','CIRCLE_CODE','DIV_CODE', 'SDO_CODE','SCNO','MTR_SRL_NO','METER_STATUS','ACCT_INF_FLG'], axis=1, inplace=True)\n",
    "    billed.drop(['BOOK_NO', 'SCNO', 'DISCOM', 'ZONE_CODE', 'CIRCLE_CODE','SDO_CODE'], axis=1, inplace=True)\n",
    "    return"
   ]
  },
  {
   "cell_type": "code",
   "execution_count": 16,
   "id": "68ff25c3-500b-4029-94cc-0380a94f4249",
   "metadata": {
    "tags": []
   },
   "outputs": [
    {
     "name": "stdout",
     "output_type": "stream",
     "text": [
      "BILLED_MVVNL_DIV354921_13122023.csv.gz\n",
      ".\\nov2023\\billed\\BILLED_MVVNL_DIV354921_13122023.csv.gz\n",
      "downloading file BILLED_MVVNL_DIV354921_13122023.csv.gz\n",
      "BILLED_MVVNL_DIV354922_13122023.csv.gz\n",
      ".\\nov2023\\billed\\BILLED_MVVNL_DIV354922_13122023.csv.gz\n",
      "downloading file BILLED_MVVNL_DIV354922_13122023.csv.gz\n"
     ]
    },
    {
     "ename": "TimeoutError",
     "evalue": "timed out",
     "output_type": "error",
     "traceback": [
      "\u001b[1;31m---------------------------------------------------------------------------\u001b[0m",
      "\u001b[1;31mTimeoutError\u001b[0m                              Traceback (most recent call last)",
      "Cell \u001b[1;32mIn[16], line 59\u001b[0m\n\u001b[0;32m     55\u001b[0m remoteFilenames \u001b[38;5;241m=\u001b[39m [ \u001b[38;5;124mf\u001b[39m\u001b[38;5;124m'\u001b[39m\u001b[38;5;124mBILLED_MVVNL_DIV354921_\u001b[39m\u001b[38;5;132;01m{\u001b[39;00mdate\u001b[38;5;132;01m}\u001b[39;00m\u001b[38;5;124m.csv.gz\u001b[39m\u001b[38;5;124m'\u001b[39m, \u001b[38;5;124mf\u001b[39m\u001b[38;5;124m'\u001b[39m\u001b[38;5;124mBILLED_MVVNL_DIV354922_\u001b[39m\u001b[38;5;132;01m{\u001b[39;00mdate\u001b[38;5;132;01m}\u001b[39;00m\u001b[38;5;124m.csv.gz\u001b[39m\u001b[38;5;124m'\u001b[39m, \u001b[38;5;124mf\u001b[39m\u001b[38;5;124m'\u001b[39m\u001b[38;5;124mBILLED_MVVNL_DIV354923_\u001b[39m\u001b[38;5;132;01m{\u001b[39;00mdate\u001b[38;5;132;01m}\u001b[39;00m\u001b[38;5;124m.csv.gz\u001b[39m\u001b[38;5;124m'\u001b[39m, \u001b[38;5;124mf\u001b[39m\u001b[38;5;124m'\u001b[39m\u001b[38;5;124mBILLED_MVVNL_DIV355131_\u001b[39m\u001b[38;5;132;01m{\u001b[39;00mdate\u001b[38;5;132;01m}\u001b[39;00m\u001b[38;5;124m.csv.gz\u001b[39m\u001b[38;5;124m'\u001b[39m, \u001b[38;5;124mf\u001b[39m\u001b[38;5;124m'\u001b[39m\u001b[38;5;124mBILLED_MVVNL_DIV355132_\u001b[39m\u001b[38;5;132;01m{\u001b[39;00mdate\u001b[38;5;132;01m}\u001b[39;00m\u001b[38;5;124m.csv.gz\u001b[39m\u001b[38;5;124m'\u001b[39m, \u001b[38;5;124mf\u001b[39m\u001b[38;5;124m'\u001b[39m\u001b[38;5;124mBILLED_MVVNL_DIV355133_\u001b[39m\u001b[38;5;132;01m{\u001b[39;00mdate\u001b[38;5;132;01m}\u001b[39;00m\u001b[38;5;124m.csv.gz\u001b[39m\u001b[38;5;124m'\u001b[39m, \u001b[38;5;124mf\u001b[39m\u001b[38;5;124m'\u001b[39m\u001b[38;5;124mBILLED_MVVNL_DIV355211_\u001b[39m\u001b[38;5;132;01m{\u001b[39;00mdate\u001b[38;5;132;01m}\u001b[39;00m\u001b[38;5;124m.csv.gz\u001b[39m\u001b[38;5;124m'\u001b[39m, \u001b[38;5;124mf\u001b[39m\u001b[38;5;124m'\u001b[39m\u001b[38;5;124mBILLED_MVVNL_DIV355212_\u001b[39m\u001b[38;5;132;01m{\u001b[39;00mdate\u001b[38;5;132;01m}\u001b[39;00m\u001b[38;5;124m.csv.gz\u001b[39m\u001b[38;5;124m'\u001b[39m, \u001b[38;5;124mf\u001b[39m\u001b[38;5;124m'\u001b[39m\u001b[38;5;124mBILLED_MVVNL_DIV355213_\u001b[39m\u001b[38;5;132;01m{\u001b[39;00mdate\u001b[38;5;132;01m}\u001b[39;00m\u001b[38;5;124m.csv.gz\u001b[39m\u001b[38;5;124m'\u001b[39m, \u001b[38;5;124mf\u001b[39m\u001b[38;5;124m'\u001b[39m\u001b[38;5;124mBILLED_MVVNL_DIV355214_\u001b[39m\u001b[38;5;132;01m{\u001b[39;00mdate\u001b[38;5;132;01m}\u001b[39;00m\u001b[38;5;124m.csv.gz\u001b[39m\u001b[38;5;124m'\u001b[39m]\n\u001b[0;32m     58\u001b[0m \u001b[38;5;66;03m# run the function to download the files from FTP server\u001b[39;00m\n\u001b[1;32m---> 59\u001b[0m isDownloadSuccess \u001b[38;5;241m=\u001b[39m downloadFilesFromFtp(\n\u001b[0;32m     60\u001b[0m     localFolderPath,remoteFilenames, ftpHost,ftpUname, ftpPass, remoteFolder)\n\u001b[0;32m     62\u001b[0m \u001b[38;5;28mprint\u001b[39m(\u001b[38;5;124m\"\u001b[39m\u001b[38;5;124mdownload status = \u001b[39m\u001b[38;5;132;01m{0}\u001b[39;00m\u001b[38;5;124m\"\u001b[39m\u001b[38;5;241m.\u001b[39mformat(isDownloadSuccess))\n",
      "Cell \u001b[1;32mIn[16], line 37\u001b[0m, in \u001b[0;36mdownloadFilesFromFtp\u001b[1;34m(localfolderPath, targetFilenames, ftpHost, ftpUname, ftpPass, remoteWorkingDirectory)\u001b[0m\n\u001b[0;32m     35\u001b[0m \u001b[38;5;66;03m# download FTP file using retrbinary function\u001b[39;00m\n\u001b[0;32m     36\u001b[0m \u001b[38;5;28;01mwith\u001b[39;00m \u001b[38;5;28mopen\u001b[39m(localFilePath, \u001b[38;5;124m\"\u001b[39m\u001b[38;5;124mwb\u001b[39m\u001b[38;5;124m\"\u001b[39m) \u001b[38;5;28;01mas\u001b[39;00m file:\n\u001b[1;32m---> 37\u001b[0m     retCode \u001b[38;5;241m=\u001b[39m ftp\u001b[38;5;241m.\u001b[39mretrbinary(\u001b[38;5;124m\"\u001b[39m\u001b[38;5;124mRETR \u001b[39m\u001b[38;5;124m\"\u001b[39m \u001b[38;5;241m+\u001b[39m targetFilename, file\u001b[38;5;241m.\u001b[39mwrite)\n\u001b[0;32m     39\u001b[0m \u001b[38;5;28;01mwith\u001b[39;00m gzip\u001b[38;5;241m.\u001b[39mopen(localFilePath, \u001b[38;5;124m'\u001b[39m\u001b[38;5;124mrb\u001b[39m\u001b[38;5;124m'\u001b[39m) \u001b[38;5;28;01mas\u001b[39;00m f_in:\n\u001b[0;32m     40\u001b[0m     \u001b[38;5;28;01mwith\u001b[39;00m \u001b[38;5;28mopen\u001b[39m(localFilePath[:\u001b[38;5;241m-\u001b[39m\u001b[38;5;241m3\u001b[39m], \u001b[38;5;124m'\u001b[39m\u001b[38;5;124mwb\u001b[39m\u001b[38;5;124m'\u001b[39m) \u001b[38;5;28;01mas\u001b[39;00m f_out:\n",
      "File \u001b[1;32m~\\anaconda3\\Lib\\ftplib.py:438\u001b[0m, in \u001b[0;36mFTP.retrbinary\u001b[1;34m(self, cmd, callback, blocksize, rest)\u001b[0m\n\u001b[0;32m    436\u001b[0m \u001b[38;5;28;01mwith\u001b[39;00m \u001b[38;5;28mself\u001b[39m\u001b[38;5;241m.\u001b[39mtransfercmd(cmd, rest) \u001b[38;5;28;01mas\u001b[39;00m conn:\n\u001b[0;32m    437\u001b[0m     \u001b[38;5;28;01mwhile\u001b[39;00m \u001b[38;5;241m1\u001b[39m:\n\u001b[1;32m--> 438\u001b[0m         data \u001b[38;5;241m=\u001b[39m conn\u001b[38;5;241m.\u001b[39mrecv(blocksize)\n\u001b[0;32m    439\u001b[0m         \u001b[38;5;28;01mif\u001b[39;00m \u001b[38;5;129;01mnot\u001b[39;00m data:\n\u001b[0;32m    440\u001b[0m             \u001b[38;5;28;01mbreak\u001b[39;00m\n",
      "\u001b[1;31mTimeoutError\u001b[0m: timed out"
     ]
    }
   ],
   "source": [
    "import ftplib\n",
    "import os\n",
    "import gzip\n",
    "import shutil\n",
    "import time\n",
    "\n",
    "\n",
    "\n",
    "def downloadFilesFromFtp(localfolderPath, targetFilenames, ftpHost, ftpUname, ftpPass, remoteWorkingDirectory):\n",
    "    # initialize the flag that specifies if download is success\n",
    "    isDownloadSuccess: bool = False\n",
    "\n",
    "    # create an FTP client instance, use the timeout parameter for slow connections only\n",
    "    ftp = ftplib.FTP(timeout=30)\n",
    "    ftp.encoding = \"utf-8\"\n",
    "\n",
    "    # connect to the FTP server\n",
    "    ftp.connect(ftpHost)\n",
    "\n",
    "    # login to the FTP server\n",
    "    ftp.login(ftpUname, ftpPass)\n",
    "\n",
    "    # change current working directory if specified\n",
    "    if not (remoteWorkingDirectory == None or remoteWorkingDirectory.strip() == \"\"):\n",
    "        _ = ftp.cwd(remoteWorkingDirectory)\n",
    "\n",
    "    # iterate through each remote filename and download\n",
    "    for fItr in range(len(targetFilenames)):\n",
    "        targetFilename = targetFilenames[fItr]\n",
    "        print(targetFilename)\n",
    "        # derive the local file path by appending the local folder path with remote filename\n",
    "        localFilePath = os.path.join(localfolderPath, targetFilename)\n",
    "        print(localFilePath)\n",
    "        print(\"downloading file {0}\".format(targetFilename))\n",
    "        # download FTP file using retrbinary function\n",
    "        with open(localFilePath, \"wb\") as file:\n",
    "            retCode = ftp.retrbinary(\"RETR \" + targetFilename, file.write)\n",
    "         \n",
    "        with gzip.open(localFilePath, 'rb') as f_in:\n",
    "            with open(localFilePath[:-3], 'wb') as f_out:\n",
    "                shutil.copyfileobj(f_in, f_out)\n",
    "        os.remove(localFilePath)\n",
    "    # read file\n",
    "            \n",
    "    # send QUIT command to the FTP server and close the connection\n",
    "    ftp.quit()\n",
    "\n",
    "    # check if download is success using the return code (retCode)\n",
    "    if retCode.startswith('226'):\n",
    "        isDownloadSuccess = True\n",
    "    return isDownloadSuccess\n",
    "\n",
    "\n",
    "\n",
    "remoteFilenames = [ f'BILLED_MVVNL_DIV354921_{date}.csv.gz', f'BILLED_MVVNL_DIV354922_{date}.csv.gz', f'BILLED_MVVNL_DIV354923_{date}.csv.gz', f'BILLED_MVVNL_DIV355131_{date}.csv.gz', f'BILLED_MVVNL_DIV355132_{date}.csv.gz', f'BILLED_MVVNL_DIV355133_{date}.csv.gz', f'BILLED_MVVNL_DIV355211_{date}.csv.gz', f'BILLED_MVVNL_DIV355212_{date}.csv.gz', f'BILLED_MVVNL_DIV355213_{date}.csv.gz', f'BILLED_MVVNL_DIV355214_{date}.csv.gz']\n",
    "\n",
    "\n",
    "# run the function to download the files from FTP server\n",
    "isDownloadSuccess = downloadFilesFromFtp(\n",
    "    localFolderPath,remoteFilenames, ftpHost,ftpUname, ftpPass, remoteFolder)\n",
    "\n",
    "print(\"download status = {0}\".format(isDownloadSuccess))"
   ]
  },
  {
   "cell_type": "code",
   "execution_count": null,
   "id": "c38a1be4-76f9-4e4d-9803-207af2351c35",
   "metadata": {
    "tags": []
   },
   "outputs": [],
   "source": [
    "localFolderPath = f\".\\\\{month}\\\\unbilled\"\n",
    "remoteFolder = f\"CSV_UNBILLED/{date}\""
   ]
  },
  {
   "cell_type": "code",
   "execution_count": null,
   "id": "5fedda97-930c-41ec-80a7-4721f4534271",
   "metadata": {
    "tags": []
   },
   "outputs": [],
   "source": [
    "import ftplib\n",
    "import os\n",
    "import gzip\n",
    "import shutil\n",
    "import time\n",
    "\n",
    "\n",
    "\n",
    "def downloadFilesFromFtp(localfolderPath, targetFilenames, ftpHost, ftpUname, ftpPass, remoteWorkingDirectory):\n",
    "    # initialize the flag that specifies if download is success\n",
    "    isDownloadSuccess: bool = False\n",
    "\n",
    "    # create an FTP client instance, use the timeout parameter for slow connections only\n",
    "    ftp = ftplib.FTP(timeout=30)\n",
    "    ftp.encoding = \"utf-8\"\n",
    "\n",
    "    # connect to the FTP server\n",
    "    ftp.connect(ftpHost)\n",
    "\n",
    "    # login to the FTP server\n",
    "    ftp.login(ftpUname, ftpPass)\n",
    "\n",
    "    # change current working directory if specified\n",
    "    if not (remoteWorkingDirectory == None or remoteWorkingDirectory.strip() == \"\"):\n",
    "        _ = ftp.cwd(remoteWorkingDirectory)\n",
    "\n",
    "    # iterate through each remote filename and download\n",
    "    for fItr in range(len(targetFilenames)):\n",
    "        targetFilename = targetFilenames[fItr]\n",
    "        print(targetFilename)\n",
    "        # derive the local file path by appending the local folder path with remote filename\n",
    "        localFilePath = os.path.join(localfolderPath, targetFilename)\n",
    "        print(localFilePath)\n",
    "        print(\"downloading file {0}\".format(targetFilename))\n",
    "        # download FTP file using retrbinary function\n",
    "        with open(localFilePath, \"wb\") as file:\n",
    "            retCode = ftp.retrbinary(\"RETR \" + targetFilename, file.write)\n",
    "         \n",
    "        with gzip.open(localFilePath, 'rb') as f_in:\n",
    "            with open(localFilePath[:-3], 'wb') as f_out:\n",
    "                shutil.copyfileobj(f_in, f_out)\n",
    "        os.remove(localFilePath)\n",
    "    # read file\n",
    "            \n",
    "    # send QUIT command to the FTP server and close the connection\n",
    "    ftp.quit()\n",
    "\n",
    "    # check if download is success using the return code (retCode)\n",
    "    if retCode.startswith('226'):\n",
    "        isDownloadSuccess = True\n",
    "    return isDownloadSuccess\n",
    "\n",
    "\n",
    "remoteFilenames = [ f'UNBILLED_MVVNL_DIV354921_{date}.csv.gz', f'UNBILLED_MVVNL_DIV354922_{date}.csv.gz', f'UNBILLED_MVVNL_DIV354923_{date}.csv.gz', f'UNBILLED_MVVNL_DIV355131_{date}.csv.gz', f'UNBILLED_MVVNL_DIV355132_{date}.csv.gz', f'UNBILLED_MVVNL_DIV355133_{date}.csv.gz', f'UNBILLED_MVVNL_DIV355211_{date}.csv.gz', f'UNBILLED_MVVNL_DIV355212_{date}.csv.gz', f'UNBILLED_MVVNL_DIV355213_{date}.csv.gz', f'UNBILLED_MVVNL_DIV355214_{date}.csv.gz']\n",
    "\n",
    "# run the function to download the files from FTP server\n",
    "isDownloadSuccess = downloadFilesFromFtp(\n",
    "    localFolderPath,remoteFilenames, ftpHost,ftpUname, ftpPass, remoteFolder)\n",
    "\n",
    "print(\"download status = {0}\".format(isDownloadSuccess))"
   ]
  },
  {
   "cell_type": "code",
   "execution_count": null,
   "id": "b64ca8eb-8f32-4564-b045-7270b450e515",
   "metadata": {
    "tags": []
   },
   "outputs": [],
   "source": [
    "bill=\"billed\""
   ]
  },
  {
   "cell_type": "code",
   "execution_count": null,
   "id": "05f3b3e2-3617-4d2d-8d90-2e3bb8b521bf",
   "metadata": {
    "tags": []
   },
   "outputs": [],
   "source": [
    "def loop(file_name):\n",
    "    return pd.read_csv(f\"{month}/{bill}/{file_name}\")"
   ]
  },
  {
   "cell_type": "code",
   "execution_count": null,
   "id": "3103c58e-4b31-41cf-b789-0aa868f4098b",
   "metadata": {
    "tags": []
   },
   "outputs": [],
   "source": [
    "mylist = os.listdir(f\"{month}/{bill}\")"
   ]
  },
  {
   "cell_type": "code",
   "execution_count": null,
   "id": "989707fe-900b-4ad6-a180-db0db313f64f",
   "metadata": {
    "tags": []
   },
   "outputs": [],
   "source": [
    "mylist"
   ]
  },
  {
   "cell_type": "code",
   "execution_count": null,
   "id": "cfb7abc4-a678-4526-9761-b2f90a5a5bc9",
   "metadata": {
    "tags": []
   },
   "outputs": [],
   "source": [
    "start = time.time()\n",
    "billed = []\n",
    "billed = Parallel(n_jobs=-1, verbose=10,prefer=\"threads\")(delayed(loop)(file_name) for file_name in mylist)\n",
    "billed = pd.concat(billed, ignore_index=True)\n",
    "\n",
    "end = time.time()\n",
    "print(\"CSV:\", end - start)"
   ]
  },
  {
   "cell_type": "code",
   "execution_count": null,
   "id": "956c3e68-d9e7-4067-941d-630690cd54aa",
   "metadata": {
    "tags": []
   },
   "outputs": [],
   "source": [
    "bill=\"unbilled\"\n",
    "def loop(file_name):\n",
    "    return pd.read_csv(f\"{month}/{bill}/{file_name}\")\n",
    "mylist = os.listdir(f\"{month}/{bill}\")\n",
    "mylist"
   ]
  },
  {
   "cell_type": "code",
   "execution_count": null,
   "id": "feb699cb-2497-435c-be16-35e11d5e27d8",
   "metadata": {
    "tags": []
   },
   "outputs": [],
   "source": [
    "start = time.time()\n",
    "unbilled = []\n",
    "unbilled = Parallel(n_jobs=-1, verbose=10,prefer=\"threads\")(delayed(loop)(file_name) for file_name in mylist)\n",
    "unbilled = pd.concat(unbilled, ignore_index=True)\n",
    "\n",
    "end = time.time()\n",
    "print(\"CSV:\", end - start)"
   ]
  },
  {
   "cell_type": "code",
   "execution_count": null,
   "id": "d2714ea2-2ba4-4da5-9698-4c947a84fa77",
   "metadata": {
    "tags": []
   },
   "outputs": [],
   "source": []
  },
  {
   "cell_type": "code",
   "execution_count": null,
   "id": "4ae3d74f-e583-4d0c-b947-af4fbb40acf1",
   "metadata": {
    "tags": []
   },
   "outputs": [],
   "source": [
    "\n",
    "\n",
    "billed['bill'] = 1\n",
    "unbilled['bill'] = 0\n",
    "correction()\n",
    "data=[]\n",
    "data = [billed,unbilled]"
   ]
  },
  {
   "cell_type": "code",
   "execution_count": null,
   "id": "30ca9838-c165-4b25-8657-14d78c3753f4",
   "metadata": {
    "tags": []
   },
   "outputs": [],
   "source": [
    "billed.columns"
   ]
  },
  {
   "cell_type": "code",
   "execution_count": null,
   "id": "6bef31df-80fd-4b3b-89c7-d66511e5a52b",
   "metadata": {
    "tags": []
   },
   "outputs": [],
   "source": [
    "unbilled.columns"
   ]
  },
  {
   "cell_type": "code",
   "execution_count": null,
   "id": "0a7e6bf0-8a03-48e9-9127-21ecb92446b9",
   "metadata": {
    "tags": []
   },
   "outputs": [],
   "source": [
    "# bill_unbill = pd.concat(data, ignore_index=True)"
   ]
  },
  {
   "cell_type": "code",
   "execution_count": null,
   "id": "73749d6a-0fe3-402c-8249-6130384fb9f1",
   "metadata": {
    "tags": []
   },
   "outputs": [],
   "source": [
    "billed = billed[billed['ACCT_ID'].notna()]"
   ]
  },
  {
   "cell_type": "code",
   "execution_count": null,
   "id": "519b62ad-01cf-4b27-ada3-0a537e6d187e",
   "metadata": {
    "tags": []
   },
   "outputs": [],
   "source": []
  },
  {
   "cell_type": "code",
   "execution_count": null,
   "id": "2c4a7c51-0063-431a-a928-f75cf4b7cbf0",
   "metadata": {
    "tags": []
   },
   "outputs": [],
   "source": []
  },
  {
   "cell_type": "code",
   "execution_count": null,
   "id": "051c51f1-e8ca-4f66-be92-ae4160df3e68",
   "metadata": {
    "tags": []
   },
   "outputs": [],
   "source": [
    "# bill_unbill.PAYMENT_MODE.value_counts()"
   ]
  },
  {
   "cell_type": "code",
   "execution_count": null,
   "id": "9f16d747-2319-4e9b-ae8a-0ae11e03fbf4",
   "metadata": {
    "tags": []
   },
   "outputs": [],
   "source": []
  },
  {
   "cell_type": "code",
   "execution_count": null,
   "id": "5bb189e1-a471-4d48-ab3a-3026f423ea12",
   "metadata": {
    "tags": []
   },
   "outputs": [],
   "source": [
    "# unbilled['LAST_PAY_DATE'] = pd.to_datetime(unbilled['LAST_PAY_DATE'],dayfirst=True,errors ='coerce')"
   ]
  },
  {
   "cell_type": "code",
   "execution_count": null,
   "id": "24e39920-89f4-48ad-98f0-02fb931c2f6a",
   "metadata": {
    "tags": []
   },
   "outputs": [],
   "source": []
  },
  {
   "cell_type": "code",
   "execution_count": null,
   "id": "5c5ef0c4-d85c-4216-9628-36ac8701f31b",
   "metadata": {
    "tags": []
   },
   "outputs": [],
   "source": [
    "# unbilled = unpaid(unbilled)"
   ]
  },
  {
   "cell_type": "code",
   "execution_count": null,
   "id": "c19ae6e1-a583-44ce-a6d6-37f2fae574db",
   "metadata": {
    "tags": []
   },
   "outputs": [],
   "source": [
    "# billed[billed['paid_status_curr']==1].to_csv(f\"{month}/{circle}/{circle}_{date}_billed.csv\") "
   ]
  },
  {
   "cell_type": "code",
   "execution_count": null,
   "id": "4596658a-18f8-4bf3-a9d2-539b3eed3b76",
   "metadata": {
    "tags": []
   },
   "outputs": [],
   "source": [
    "# unbilled[unbilled['paid_status_curr']==1].to_csv(f\"{month}/{circle}/{circle}_{date}_unbilled.csv\") "
   ]
  },
  {
   "cell_type": "code",
   "execution_count": null,
   "id": "d6e5e8c7-5058-4362-a65a-ba82f708313e",
   "metadata": {
    "tags": []
   },
   "outputs": [],
   "source": [
    "\n",
    "BILLED_PAY=(billed.pivot_table(index='DIV_NAME', columns=['TARIFF_TYPE'],values=['LAST_PAYMENT_AMOUNT'],\n",
    "                    aggfunc={'LAST_PAYMENT_AMOUNT':np.sum},fill_value=0,margins=True,margins_name='Total' ))\n"
   ]
  },
  {
   "cell_type": "code",
   "execution_count": null,
   "id": "d5b35723-b65b-4c8c-871c-ed23a48e1880",
   "metadata": {
    "tags": []
   },
   "outputs": [],
   "source": [
    "\n",
    "UNBILLED_PAY=(unbilled.pivot_table(index='DIV_NAME', columns=['TARIFF_TYPE'],values=['LAST_PAY_AMT'],\n",
    "                    aggfunc={'LAST_PAY_AMT':np.sum},fill_value=0,margins=True,margins_name='Total' ))\n"
   ]
  },
  {
   "cell_type": "code",
   "execution_count": null,
   "id": "e8059732-2bef-4a68-a5df-24997a27692f",
   "metadata": {
    "tags": []
   },
   "outputs": [],
   "source": [
    "UNBILLED_PAY.to_excel(f\"{month}/{circle}/{circle}_UNBILLED_PAY.xlsx\")\n",
    "\n"
   ]
  },
  {
   "cell_type": "code",
   "execution_count": null,
   "id": "bd308c92-6f22-4e90-adf9-de6594c176d6",
   "metadata": {
    "tags": []
   },
   "outputs": [],
   "source": [
    "bill_unbill = pd.concat(data, ignore_index=True)"
   ]
  },
  {
   "cell_type": "code",
   "execution_count": null,
   "id": "43c869ff-d56d-456a-9367-71b42b898da7",
   "metadata": {
    "tags": []
   },
   "outputs": [],
   "source": [
    "bill_unbill.columns"
   ]
  },
  {
   "cell_type": "code",
   "execution_count": null,
   "id": "715f4a6d-9c0d-4a8c-aa48-8a6b36020aaf",
   "metadata": {
    "tags": []
   },
   "outputs": [],
   "source": [
    "bill_unbill['ACCT_ID'] = pd.to_numeric(bill_unbill['ACCT_ID'],errors='coerce')\n",
    "bill_unbill.dropna(subset = ['ACCT_ID'], inplace=True)\n",
    "bill_unbill['BILLED_UNITS'] = pd.to_numeric(bill_unbill['BILLED_UNITS'],errors='coerce')\n",
    "bill_unbill['LAST_PAY_DATE'] = pd.to_datetime(billed['LAST_PAY_DATE'],dayfirst=True,errors='coerce')\n",
    "bill_unbill['BILL_DATE'] = pd.to_datetime(bill_unbill['BILL_DATE'],dayfirst=True,errors='coerce')"
   ]
  },
  {
   "cell_type": "code",
   "execution_count": null,
   "id": "b2c2ac26-b0f7-46f3-a5a6-3ca6a17ca0c5",
   "metadata": {
    "tags": []
   },
   "outputs": [],
   "source": [
    "bill_unbill['LAST_PAYMENT_AMOUNT'] = pd.to_numeric(bill_unbill['LAST_PAYMENT_AMOUNT'],errors='coerce')"
   ]
  },
  {
   "cell_type": "code",
   "execution_count": null,
   "id": "385b7f41-a908-4023-aaff-b1a598a6a6e2",
   "metadata": {
    "tags": []
   },
   "outputs": [],
   "source": [
    "# bill_unbill['LAST_PAY_DATE'] = pd.to_datetime(billed['LAST_PAY_DATE'],dayfirst=True,errors ='coerce')\n",
    "\n",
    "bill_unbill['PAYMENT_MODE']=bill_unbill['PAYMENT_MODE'].str.strip()"
   ]
  },
  {
   "cell_type": "code",
   "execution_count": null,
   "id": "f2009181-56cb-4ba1-b81d-ff1da9b10119",
   "metadata": {
    "tags": []
   },
   "outputs": [],
   "source": [
    "bill_unbill['PAYMENT_MODE'].value_counts()"
   ]
  },
  {
   "cell_type": "code",
   "execution_count": null,
   "id": "d0fd152f-e8ca-405c-85c9-6255e75fe4c8",
   "metadata": {
    "tags": []
   },
   "outputs": [],
   "source": [
    "bill_unbill['DIV_NAME'].shape"
   ]
  },
  {
   "cell_type": "code",
   "execution_count": null,
   "id": "d756bac4-b2d4-4433-81f1-fa0e15869e52",
   "metadata": {
    "tags": []
   },
   "outputs": [],
   "source": []
  },
  {
   "cell_type": "code",
   "execution_count": null,
   "id": "733a53d3-39c6-46da-af4b-28b12e1767b4",
   "metadata": {
    "tags": []
   },
   "outputs": [],
   "source": [
    "column =list(billed.columns)"
   ]
  },
  {
   "cell_type": "code",
   "execution_count": null,
   "id": "f00400bf-d71b-49bc-9719-6545792d8149",
   "metadata": {
    "tags": []
   },
   "outputs": [],
   "source": [
    "column"
   ]
  },
  {
   "cell_type": "code",
   "execution_count": null,
   "id": "c508cb5b-5190-4336-83aa-8963c37c2e1e",
   "metadata": {
    "tags": []
   },
   "outputs": [],
   "source": [
    "imp_column =['ACCT_ID','MOBILE_NO',\n",
    " 'TARIFF_TYPE',\n",
    "             'SUPPLY_TYPE',\n",
    " 'SANCTION_LOAD',\n",
    " 'SANCTION_LOAD_UOM',\n",
    "             'MF',\n",
    " 'SUBSTATION',\n",
    " 'FEEDER','BILL_BASIS', 'BILL_DATE',\n",
    " 'BILLED_UNITS',\n",
    "\n",
    " 'LAST_PAY_DATE',\n",
    " 'LAST_PAYMENT_AMOUNT',\n",
    " 'AMOUNT_PAYABLE',\n",
    "\n",
    " 'CA',\n",
    " 'PAYMENT_MODE'\n",
    "             \n",
    "            ]"
   ]
  },
  {
   "cell_type": "code",
   "execution_count": null,
   "id": "536743bd-c10b-4834-a28c-e40235ef9d0e",
   "metadata": {
    "tags": []
   },
   "outputs": [],
   "source": [
    "billed.info()"
   ]
  },
  {
   "cell_type": "code",
   "execution_count": null,
   "id": "12d815f5-332c-49f0-91f3-68a5fb2ad22a",
   "metadata": {
    "tags": []
   },
   "outputs": [],
   "source": [
    "billed.BILL_BASIS.value_counts()"
   ]
  },
  {
   "cell_type": "code",
   "execution_count": null,
   "id": "61a209ee-1d74-4246-8988-423cdf64403b",
   "metadata": {
    "tags": []
   },
   "outputs": [],
   "source": [
    "billed.TARIFF_TYPE.value_counts()"
   ]
  },
  {
   "cell_type": "code",
   "execution_count": null,
   "id": "79bc70a0-6f1a-42eb-a675-dbc25759bd2c",
   "metadata": {
    "tags": []
   },
   "outputs": [],
   "source": [
    "bill_unbill = low_consumtion_filter(bill_unbill)\n",
    "bill_unbill = unpaid(bill_unbill)\n",
    "bill_unbill = curr_paid_amount(bill_unbill)\n",
    "# bill_unbill = billable(bill_unbill)\n",
    "bill_unbill = NonGOVT(bill_unbill)\n"
   ]
  },
  {
   "cell_type": "code",
   "execution_count": null,
   "id": "7aa95448-bc1a-4d96-b1c6-e6e2e2725986",
   "metadata": {
    "tags": []
   },
   "outputs": [],
   "source": [
    "bill_unbill = CatLoad(bill_unbill)"
   ]
  },
  {
   "cell_type": "code",
   "execution_count": null,
   "id": "81a9ab0f-ec2e-4196-be07-1fc488b741c2",
   "metadata": {
    "tags": []
   },
   "outputs": [],
   "source": [
    "bill_unbill.columns"
   ]
  },
  {
   "cell_type": "code",
   "execution_count": null,
   "id": "0d1825ef-eaec-4c7a-a554-c50a331332ac",
   "metadata": {
    "tags": []
   },
   "outputs": [],
   "source": [
    "# df1=bill_unbill[bill_unbill['LOAD_FILTER'] == \"great than 10kw\"]"
   ]
  },
  {
   "cell_type": "code",
   "execution_count": null,
   "id": "1099ade1-7ef4-4a81-a585-3d3685af1411",
   "metadata": {
    "tags": []
   },
   "outputs": [],
   "source": [
    "bill_unbill = categories(bill_unbill)"
   ]
  },
  {
   "cell_type": "code",
   "execution_count": null,
   "id": "e478f070-ee7e-4915-8231-7d01f0168336",
   "metadata": {
    "tags": []
   },
   "outputs": [],
   "source": [
    "bill_unbill['Cat'].value_counts()"
   ]
  },
  {
   "cell_type": "code",
   "execution_count": null,
   "id": "c0d7324d-9372-45e6-9785-c887fea3793d",
   "metadata": {
    "tags": []
   },
   "outputs": [],
   "source": [
    "cat = bill_unbill['Cat'].unique() \n",
    "cat"
   ]
  },
  {
   "cell_type": "code",
   "execution_count": null,
   "id": "1db2c986-6772-4f5f-8cc6-db24af240453",
   "metadata": {
    "tags": []
   },
   "outputs": [],
   "source": [
    "cat = [ 'LMV2', 'LMV6','LMV4']"
   ]
  },
  {
   "cell_type": "code",
   "execution_count": null,
   "id": "734b0ece-f2eb-4a3e-8f20-506a034f00aa",
   "metadata": {
    "tags": []
   },
   "outputs": [],
   "source": [
    "div_billed=billed[(billed.TARIFF_TYPE.isin(cat))].pivot_table(index=['CIRCLE_NAME','DIV_NAME'], columns=['BILL_BASIS'],values=['ACCT_ID'],\n",
    "                    aggfunc={'ACCT_ID':'count'},fill_value=0 )"
   ]
  },
  {
   "cell_type": "code",
   "execution_count": null,
   "id": "cdd8b716-9379-4051-babd-ec761f767e11",
   "metadata": {
    "tags": []
   },
   "outputs": [],
   "source": [
    "div_billed.to_excel(f\"{month}/zone/report/{circle}_{date}_billed.xlsx\")"
   ]
  },
  {
   "cell_type": "code",
   "execution_count": null,
   "id": "53ceae74-3940-4e2e-88c2-665ade5bb852",
   "metadata": {
    "tags": []
   },
   "outputs": [],
   "source": [
    "div_csc_other_nov=bill_unbill[((bill_unbill.paid_status_curr==1) & (bill_unbill.PAYMENT_MODE=='EGSIL001'))].pivot_table(index=['LAST_PAY_DATE'], columns=['CIRCLE_NAME','DIV_NAME'],values=['LAST_PAYMENT_AMOUNT'],\n",
    "                    aggfunc={'LAST_PAYMENT_AMOUNT':np.sum},fill_value=0 )"
   ]
  },
  {
   "cell_type": "code",
   "execution_count": null,
   "id": "64f8a02e-4db3-4d0f-bb4f-b9201c78b309",
   "metadata": {
    "tags": []
   },
   "outputs": [],
   "source": [
    "div_payment_nov=bill_unbill[((bill_unbill.paid_status_curr==1) & (bill_unbill.TARIFF_TYPE!='LMV3')&(bill_unbill.TARIFF_TYPE!='LMV7'))].pivot_table(index=['LAST_PAY_DATE'], columns=['CIRCLE_NAME','DIV_NAME'],values=['LAST_PAYMENT_AMOUNT'],\n",
    "                    aggfunc={'LAST_PAYMENT_AMOUNT':np.sum},fill_value=0 )"
   ]
  },
  {
   "cell_type": "code",
   "execution_count": null,
   "id": "8534c042-4963-4fdc-b456-2b815f83d865",
   "metadata": {
    "tags": []
   },
   "outputs": [],
   "source": [
    "div_payment_all_nov = bill_unbill[((bill_unbill.paid_status_curr == 1)&(bill_unbill.Cat.isin(cat)))].pivot_table(\n",
    "    index=['LAST_PAY_DATE'], columns=['CIRCLE_NAME', 'DIV_NAME'], values=['LAST_PAYMENT_AMOUNT'],\n",
    "    aggfunc={'LAST_PAYMENT_AMOUNT': np.sum}, fill_value=0\n",
    ")"
   ]
  },
  {
   "cell_type": "code",
   "execution_count": null,
   "id": "c70fddbf-c1c3-4a56-b371-d76d6123032c",
   "metadata": {
    "tags": []
   },
   "outputs": [],
   "source": [
    "div_payment_37_nov = bill_unbill[((bill_unbill.paid_status_curr == 1) & ((bill_unbill.TARIFF_TYPE == 'LMV3') | (bill_unbill.TARIFF_TYPE == 'LMV7')))].pivot_table(\n",
    "    index=['LAST_PAY_DATE'], columns=['CIRCLE_NAME', 'DIV_NAME'], values=['LAST_PAYMENT_AMOUNT'],\n",
    "    aggfunc={'LAST_PAYMENT_AMOUNT': np.sum}, fill_value=0\n",
    ")"
   ]
  },
  {
   "cell_type": "code",
   "execution_count": null,
   "id": "869b08a1-a957-4d53-bdd0-bfe393ae913a",
   "metadata": {
    "tags": []
   },
   "outputs": [],
   "source": [
    "zone_merge_28['TARIFF_TYPE'].value_counts()"
   ]
  },
  {
   "cell_type": "code",
   "execution_count": null,
   "id": "60f980ba-a691-4c2b-a05a-26524628c1bf",
   "metadata": {
    "tags": []
   },
   "outputs": [],
   "source": [
    "div_load_nov=bill_unbill[((bill_unbill.TARIFF_TYPE!='LMV5')& (bill_unbill.gov_flag== False))].pivot_table(index=['CIRCLE_NAME','DIV_NAME'], columns=['LOAD_FILTER'],values=['ACCT_ID','bill','paid_status_curr'],\n",
    "                    aggfunc={'ACCT_ID':'count','bill':np.sum,'paid_status_curr':np.sum,},fill_value=0 )"
   ]
  },
  {
   "cell_type": "code",
   "execution_count": null,
   "id": "a5ba8bda-92e0-46ba-b5ba-266056be5a79",
   "metadata": {
    "tags": []
   },
   "outputs": [],
   "source": [
    "div_csc_other_nov.to_excel(f\"{month}/{circle}/report/{circle}_{date}_CSC.xlsx\")"
   ]
  },
  {
   "cell_type": "code",
   "execution_count": null,
   "id": "c47527b4-a4f6-4f97-8d42-6631fce6210f",
   "metadata": {
    "tags": []
   },
   "outputs": [],
   "source": [
    "df1.to_excel(f\"{month}/{circle}_{date}_10.xlsx\")"
   ]
  },
  {
   "cell_type": "code",
   "execution_count": null,
   "id": "b1b02a6a-ce58-4ff0-b789-02a5931695de",
   "metadata": {
    "tags": []
   },
   "outputs": [],
   "source": [
    "div_load_nov.to_excel(f\"{month}/{circle}/report/{circle}_{date}_load.xlsx\")"
   ]
  },
  {
   "cell_type": "code",
   "execution_count": null,
   "id": "7843ad47-b089-42be-b324-7032ee04cbce",
   "metadata": {
    "tags": []
   },
   "outputs": [],
   "source": [
    "div_payment_37_nov.to_excel(f\"{month}/{circle}/report/{circle}_{date}_payment37.xlsx\")"
   ]
  },
  {
   "cell_type": "code",
   "execution_count": null,
   "id": "06205802-26c4-4e77-a7eb-725d62f3e959",
   "metadata": {
    "tags": []
   },
   "outputs": [],
   "source": [
    "div_payment_all_nov.to_excel(f\"{month}/{circle}/report/{circle}_{date}_paymentnot.xlsx\")"
   ]
  },
  {
   "cell_type": "code",
   "execution_count": null,
   "id": "4607e410-ffbf-498e-a722-4544a93ee9f6",
   "metadata": {
    "tags": []
   },
   "outputs": [],
   "source": [
    "zone_merge_28.to_csv(f\"{month}/{circle}/{circle}_{date}_merge.csv\") "
   ]
  },
  {
   "cell_type": "code",
   "execution_count": null,
   "id": "a95ae34b-7f00-45c6-8c37-1fab01e13012",
   "metadata": {},
   "outputs": [],
   "source": []
  }
 ],
 "metadata": {
  "kernelspec": {
   "display_name": "Python 3 (ipykernel)",
   "language": "python",
   "name": "python3"
  },
  "language_info": {
   "codemirror_mode": {
    "name": "ipython",
    "version": 3
   },
   "file_extension": ".py",
   "mimetype": "text/x-python",
   "name": "python",
   "nbconvert_exporter": "python",
   "pygments_lexer": "ipython3",
   "version": "3.11.4"
  }
 },
 "nbformat": 4,
 "nbformat_minor": 5
}
