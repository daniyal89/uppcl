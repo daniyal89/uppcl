{
 "cells": [
  {
   "cell_type": "code",
   "execution_count": 3,
   "id": "1f903290",
   "metadata": {},
   "outputs": [
    {
     "name": "stdout",
     "output_type": "stream",
     "text": [
      "Merge successful. Merged data saved to load/rural/merged_data.csv\n"
     ]
    }
   ],
   "source": [
    "import pandas as pd\n",
    "\n",
    "# Load CSV files for each month\n",
    "file_jul = \"./load/rural/jul.xlsx\"\n",
    "file_jun = \"./load/rural/jun.xlsx\"\n",
    "file_may = \"./load/rural/may.xlsx\"\n",
    "\n",
    "\n",
    "df_jul = pd.read_excel(file_jul)\n",
    "df_jun = pd.read_excel(file_jun)\n",
    "df_may = pd.read_excel(file_may)\n",
    "\n",
    "# Merge dataframes based on the 'account_id' column\n",
    "merged_df = pd.merge(df_jul, df_jun, on='ACCOUNTNO', how='outer',suffixes=('_jul', '_jun'))\n",
    "merged_df = pd.merge(merged_df, df_may, on='ACCOUNTNO', how='outer',suffixes=('', '_may'))\n",
    "# merged_df = pd.merge(merged_df, df_april, on='ACCOUNTNO', how='outer')\n",
    "\n",
    "# Save the merged dataframe to a new CSV file\n",
    "merged_file = \"load/rural/merged_data.csv\"\n",
    "merged_df.to_csv(merged_file, index=False)\n",
    "\n",
    "print(\"Merge successful. Merged data saved to\", merged_file)\n"
   ]
  },
  {
   "cell_type": "code",
   "execution_count": null,
   "id": "2d4c6f7f",
   "metadata": {},
   "outputs": [],
   "source": []
  }
 ],
 "metadata": {
  "kernelspec": {
   "display_name": "Python 3 (ipykernel)",
   "language": "python",
   "name": "python3"
  },
  "language_info": {
   "codemirror_mode": {
    "name": "ipython",
    "version": 3
   },
   "file_extension": ".py",
   "mimetype": "text/x-python",
   "name": "python",
   "nbconvert_exporter": "python",
   "pygments_lexer": "ipython3",
   "version": "3.11.4"
  }
 },
 "nbformat": 4,
 "nbformat_minor": 5
}
