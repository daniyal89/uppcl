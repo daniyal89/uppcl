{
 "cells": [
  {
   "cell_type": "code",
   "execution_count": 1,
   "metadata": {
    "tags": []
   },
   "outputs": [],
   "source": [
    "import pandas as pd\n",
    "import numpy as np\n",
    "from joblib import Parallel, delayed\n",
    "from datetime import datetime \n",
    "\n",
    "import time"
   ]
  },
  {
   "cell_type": "code",
   "execution_count": 2,
   "metadata": {
    "tags": []
   },
   "outputs": [],
   "source": [
    "circle=\"Edc Gonda\"\n",
    "month=\"jul2023\"\n",
    "month_doc=5\n",
    "month_unpaid=7"
   ]
  },
  {
   "cell_type": "code",
   "execution_count": 3,
   "metadata": {
    "tags": []
   },
   "outputs": [],
   "source": [
    "def loop(file_name):\n",
    "#     encoding = \"ISO-8859-1\"\n",
    "    return pd.read_csv(f\"{month}/{circle}/rural/{file_name}\", encoding = \"ISO-8859-1\")"
   ]
  },
  {
   "cell_type": "code",
   "execution_count": 4,
   "metadata": {
    "tags": []
   },
   "outputs": [],
   "source": [
    "def NonGOVT(df):\n",
    "    govt = [30,31,32,33,34,35,36,37,38,39,40,41,42,43,44,45,48,72,73,74,75,80,81,82,101,102,103,104,105,106,107,'80B','42A','41A','40A','H31'\n",
    "           'H32','H33','H41','H42','H43','HV41','H13']\n",
    "    govt = [str(x) for x in govt]\n",
    "    df['gov_flag'] = df['SUPPLY_TYPE'].isin(govt)\n",
    "    return df"
   ]
  },
  {
   "cell_type": "code",
   "execution_count": 5,
   "metadata": {
    "tags": []
   },
   "outputs": [],
   "source": [
    "def billable(df):\n",
    "    bil = ['Live','First Bill Issued','New Connection','Temp.Disconnected']\n",
    "    df['bilable_flag'] = df['BILLING_STATUS'].isin(bil)\n",
    "    return df"
   ]
  },
  {
   "cell_type": "code",
   "execution_count": 6,
   "metadata": {
    "tags": []
   },
   "outputs": [],
   "source": [
    "def arrear(df):\n",
    "#     df = df[df['TOTPAYAMT'] > 0]\n",
    "    df['ARREAR_FILTER'] = None\n",
    "    df.loc[df['AMOUNT'] < 5000,\"ARREAR_FILTER\"] = \"<5k\"\n",
    "    df.loc[((df['AMOUNT'] >= 5000) &(df['AMOUNT'] < 10000) ),\"ARREAR_FILTER\"]= \">=5k-10k\"\n",
    "#     df.loc[df['TOTPAYAMT'] <= 10000,\"ARREAR_FILTER\"] = \"<=10k\"\n",
    "    df.loc[((df['AMOUNT'] >= 10000) & (df['AMOUNT'] < 100000)),\"ARREAR_FILTER\"] = \"10k-1L\"\n",
    "#     df.loc[((df['AMOUNT'] >= 10000) & (df['AMOUNT'] < 50000)),\"ARREAR_FILTER\"] = \"10k-50k\"\n",
    "    df.loc[(df['AMOUNT'] >= 100000),\"ARREAR_FILTER\"] = \">=1L\"\n",
    "#     df.loc[df['AMOUNT'] >= 50000,\"ARREAR_FILTER\"] = \">=50k\"\n",
    "    \n",
    "    return df\n",
    "    "
   ]
  },
  {
   "cell_type": "code",
   "execution_count": 7,
   "metadata": {
    "tags": []
   },
   "outputs": [],
   "source": [
    "def CatLoad(df):\n",
    "    df['CONTRACTLOAD'] = pd.to_numeric(df['CONTRACTLOAD'],errors=\"coerce\")\n",
    "    df['LOAD_FILTER'] = None\n",
    "    df.loc[df['CONTRACTLOAD'] < 5,\"LOAD_FILTER\"] = \"0-5kw\"\n",
    "    df.loc[((df['CONTRACTLOAD'] >= 5) & (df['CONTRACTLOAD'] < 10)),\"LOAD_FILTER\"] = \"5-9kw\"\n",
    "    df.loc[df['CONTRACTLOAD'] >= 10,\"LOAD_FILTER\"] = \"great than 10kw\"\n",
    "    return df\n",
    "\n",
    "    "
   ]
  },
  {
   "cell_type": "code",
   "execution_count": 8,
   "metadata": {
    "tags": []
   },
   "outputs": [],
   "source": [
    "def relGov(df):\n",
    "#     ((df['gov_flag'] == False) & ( (pd.isnull(df['GOVT_FLAG'] )) | (df['GOVT_FLAG'] == 'NON-GOVERNMENT'))) \n",
    "    df['relGov'] = 'Goverment'\n",
    "    df.loc[((df['gov_flag'] == False) & ( (pd.isnull(df['GOVT_FLAG'] )) | (df['GOVT_FLAG'] == 'NON-GOVERNMENT'))) ,\"relGov\"] = 'Non-Goverment'\n",
    "    return df"
   ]
  },
  {
   "cell_type": "code",
   "execution_count": null,
   "metadata": {},
   "outputs": [],
   "source": []
  },
  {
   "cell_type": "code",
   "execution_count": 9,
   "metadata": {
    "tags": []
   },
   "outputs": [],
   "source": [
    "def faulty_Ageing(df):\n",
    "    df['METER_FAULT_CNT'] = pd.to_numeric(df['METER_FAULT_CNT'],errors=\"coerce\")\n",
    "    df['faulty_Ageing'] = None\n",
    "    df.loc[df['METER_FAULT_CNT'] < 2,\"faulty_Ageing\"] = \"faulty<2\"\n",
    "    df.loc[((df['METER_FAULT_CNT'] >= 2) & (df['METER_FAULT_CNT'] < 3)),\"faulty_Ageing\"] = \"faulty>=2 TO <3\"\n",
    "    df.loc[df['METER_FAULT_CNT'] >= 3,'METER_FAULT_CNT'] = \"faulty >=3\"\n",
    "    return df"
   ]
  },
  {
   "cell_type": "code",
   "execution_count": 10,
   "metadata": {
    "tags": []
   },
   "outputs": [],
   "source": [
    "def date(df):\n",
    "    df['LAST_PAID_DATE'] = pd.to_datetime(df['LAST_PAID_DATE'],format='%d-%m-%Y',errors = \"coerce\")\n",
    "    df['SUPP_RELEASE_DATE'] = pd.to_datetime(df['SUPP_RELEASE_DATE'],format='%d-%b-%Y',errors = \"coerce\")\n",
    "#     df['BILLDATE'] = pd.to_datetime(df['BILLDATE'],format=\"%d-%m-%Y %H:%M:%S\",errors = \"coerce\")\n",
    "#     df['LAST_MU_RDG_DATE'] = pd.to_datetime(df['LAST_MU_RDG_DATE'],format=\"%d-%b-%y\",errors = \"coerce\")\n",
    "    df['KYC_CREATE_DATE'] = pd.to_datetime(df['KYC_CREATE_DATE'],format=\"%d-%b-%y\",errors = \"coerce\")\n",
    "#     df['DISCONNECTION_DT'] = pd.to_datetime(df['DISCONNECTION_DT'],format='%d-%b-%y',errors = \"coerce\")\n",
    "#     df['DISCONNECTION_CREATE_DT'] = pd.to_datetime(df['DISCONNECTION_CREATE_DT'],format='%d-%b-%y',errors = \"coerce\")\n",
    "    \n",
    "    return df"
   ]
  },
  {
   "cell_type": "code",
   "execution_count": 11,
   "metadata": {
    "tags": []
   },
   "outputs": [],
   "source": [
    "def unpaid(df):\n",
    "    df['unpaid_status'] = None\n",
    "    df.loc[df['LAST_PAID_DATE'] < pd.Timestamp(2023, 1, month_unpaid),\"unpaid_status\"] = \"unpaid\"\n",
    "    df.loc[(pd.isnull(df['LAST_PAID_DATE'] )),\"unpaid_status\"] = \"unpaid\"     \n",
    "    df.loc[df['LAST_PAID_DATE'] >= pd.Timestamp(2023, 1, month_unpaid),\"unpaid_status\"] = \"paid\"\n",
    "    \n",
    "    return df"
   ]
  },
  {
   "cell_type": "code",
   "execution_count": 12,
   "metadata": {
    "tags": []
   },
   "outputs": [],
   "source": [
    "def Neverpaid(df):\n",
    "    df['Neverpaid_status'] = None\n",
    "    df.loc[((pd.isnull(df['LAST_PAID_DATE'] )) & (df['SUPP_RELEASE_DATE'] < pd.Timestamp(2023, 1, month_doc))),\"Neverpaid_status\"] = 1\n",
    "    df.loc[pd.isnull(df['Neverpaid_status']),\"Neverpaid_status\"] = 0\n",
    "    \n",
    "    return df"
   ]
  },
  {
   "cell_type": "code",
   "execution_count": 13,
   "metadata": {
    "tags": []
   },
   "outputs": [],
   "source": [
    "def kyc_status(df):\n",
    "    df['kyc_status'] = None\n",
    "    df.loc[df['KYC_CREATE_DATE'] >= pd.Timestamp(2022, 1, 9),\"kyc_status\"] = 1\n",
    "    df.loc[pd.isnull(df['KYC_CREATE_DATE']) ,\"kyc_status\"] = 0     #df[~pd.isnull(df['Courses'])]\n",
    "    df.loc[df['KYC_CREATE_DATE'] < pd.Timestamp(2022, 1, 9),\"kyc_status\"] = 0\n",
    "    \n",
    "    return df"
   ]
  },
  {
   "cell_type": "code",
   "execution_count": 14,
   "metadata": {
    "tags": []
   },
   "outputs": [],
   "source": [
    "def cat_date(df):\n",
    "    df['cat_date'] = None\n",
    "    "
   ]
  },
  {
   "cell_type": "code",
   "execution_count": 15,
   "metadata": {
    "tags": []
   },
   "outputs": [],
   "source": [
    "import os\n",
    "\n",
    "mylist = os.listdir(f\"{month}/{circle}/rural\")"
   ]
  },
  {
   "cell_type": "code",
   "execution_count": 16,
   "metadata": {
    "tags": []
   },
   "outputs": [
    {
     "data": {
      "text/plain": [
       "['GONDA_ZONE__0723_45.CSV',\n",
       " 'GONDA_ZONE__0723_CG.CSV',\n",
       " 'GONDA_ZONE__0723_GM.CSV',\n",
       " 'MD_REPORT_0723_GD.CSV']"
      ]
     },
     "execution_count": 16,
     "metadata": {},
     "output_type": "execute_result"
    }
   ],
   "source": [
    "mylist"
   ]
  },
  {
   "cell_type": "code",
   "execution_count": 17,
   "metadata": {
    "scrolled": true,
    "tags": []
   },
   "outputs": [
    {
     "name": "stderr",
     "output_type": "stream",
     "text": [
      "[Parallel(n_jobs=-1)]: Using backend ThreadingBackend with 4 concurrent workers.\n",
      "C:\\Users\\pc\\AppData\\Local\\Temp\\ipykernel_3324\\4049885345.py:3: DtypeWarning: Columns (0,7,174,186,219) have mixed types. Specify dtype option on import or set low_memory=False.\n",
      "  return pd.read_csv(f\"{month}/{circle}/rural/{file_name}\", encoding = \"ISO-8859-1\")\n",
      "[Parallel(n_jobs=-1)]: Done   1 tasks      | elapsed:    4.4s\n",
      "C:\\Users\\pc\\AppData\\Local\\Temp\\ipykernel_3324\\4049885345.py:3: DtypeWarning: Columns (184,211,219) have mixed types. Specify dtype option on import or set low_memory=False.\n",
      "  return pd.read_csv(f\"{month}/{circle}/rural/{file_name}\", encoding = \"ISO-8859-1\")\n",
      "[Parallel(n_jobs=-1)]: Done   2 out of   4 | elapsed:   12.0s remaining:   12.0s\n",
      "C:\\Users\\pc\\AppData\\Local\\Temp\\ipykernel_3324\\4049885345.py:3: DtypeWarning: Columns (0,186,194) have mixed types. Specify dtype option on import or set low_memory=False.\n",
      "  return pd.read_csv(f\"{month}/{circle}/rural/{file_name}\", encoding = \"ISO-8859-1\")\n",
      "C:\\Users\\pc\\AppData\\Local\\Temp\\ipykernel_3324\\4049885345.py:3: DtypeWarning: Columns (0,20,180,186) have mixed types. Specify dtype option on import or set low_memory=False.\n",
      "  return pd.read_csv(f\"{month}/{circle}/rural/{file_name}\", encoding = \"ISO-8859-1\")\n",
      "[Parallel(n_jobs=-1)]: Done   4 out of   4 | elapsed:   14.9s remaining:    0.0s\n",
      "[Parallel(n_jobs=-1)]: Done   4 out of   4 | elapsed:   14.9s finished\n"
     ]
    },
    {
     "name": "stdout",
     "output_type": "stream",
     "text": [
      "CSV: 16.776853561401367\n"
     ]
    }
   ],
   "source": [
    "start = time.time()\n",
    "df = []\n",
    "df = Parallel(n_jobs=-1, verbose=10,prefer=\"threads\")(delayed(loop)(file_name) for file_name in mylist)\n",
    "# print(df)\n",
    "df = pd.concat(df, ignore_index=True)\n",
    "\n",
    "end = time.time()\n",
    "print(\"CSV:\", end - start)"
   ]
  },
  {
   "cell_type": "code",
   "execution_count": 18,
   "metadata": {
    "tags": []
   },
   "outputs": [
    {
     "data": {
      "text/plain": [
       "BOOK_CODE             int64\n",
       "DIVISION             object\n",
       "DIVISION_ID          object\n",
       "SUBDIVISION          object\n",
       "SUBSTATION           object\n",
       "                     ...   \n",
       "WHATSAPP_NO         float64\n",
       "INOPERATIVE_AMT     float64\n",
       "INOPERATIVE_DATE     object\n",
       "KYC_CREATE_DATE      object\n",
       "HV_BILL_FLAG         object\n",
       "Length: 222, dtype: object"
      ]
     },
     "execution_count": 18,
     "metadata": {},
     "output_type": "execute_result"
    }
   ],
   "source": [
    "df.dtypes"
   ]
  },
  {
   "cell_type": "code",
   "execution_count": 19,
   "metadata": {
    "tags": []
   },
   "outputs": [
    {
     "data": {
      "text/plain": [
       "array(['EDD-I-BAHRAICH', 'EDD-III-BAHRAICH-KAISERGANJ',\n",
       "       'EDD-II-BAHRAICH-NANPARA'], dtype=object)"
      ]
     },
     "execution_count": 19,
     "metadata": {},
     "output_type": "execute_result"
    }
   ],
   "source": [
    "df.DIVISION.unique()"
   ]
  },
  {
   "cell_type": "code",
   "execution_count": 20,
   "metadata": {
    "tags": []
   },
   "outputs": [],
   "source": [
    "column =list(df.columns)"
   ]
  },
  {
   "cell_type": "code",
   "execution_count": 51,
   "metadata": {},
   "outputs": [
    {
     "data": {
      "text/plain": [
       "array(['Live', 'Account Closed', 'Temp.Disconnected', 'First Bill Issued',\n",
       "       'Bill Stopped', 'Dismantled', 'New Connection'], dtype=object)"
      ]
     },
     "execution_count": 51,
     "metadata": {},
     "output_type": "execute_result"
    }
   ],
   "source": [
    "df['BILLING_STATUS'].unique()"
   ]
  },
  {
   "cell_type": "code",
   "execution_count": 18,
   "metadata": {
    "tags": []
   },
   "outputs": [],
   "source": [
    "column=['BOOK_CODE',\n",
    " 'DIVISION',\n",
    " 'DIVISION_ID',\n",
    " 'SUBDIVISION',\n",
    " 'SUBSTATION',\n",
    " 'FEEDER',\n",
    " 'SUPPLY_TYPE',\n",
    " 'SCNO',\n",
    " 'OLDSCNO',\n",
    " 'BILLDATE',\n",
    " 'BILLNO',\n",
    " 'BILLED_MONTHS',\n",
    " 'BILLDUEDATE',\n",
    " 'BILLDISCON',\n",
    " 'ADDRESS1',\n",
    " 'ADDRESS2',\n",
    " 'ADDRESS3',\n",
    " 'NAME',\n",
    "'FATHER_NAME',\n",
    "        'VILLAGE_NAME',\n",
    "         'MTR_NUMBER',\n",
    " 'OWNERSHIP',\n",
    " 'PIN',\n",
    " 'PHONE',\n",
    " 'EMAIL',\n",
    " 'BILLBASIS',\n",
    " 'CONTRACTLOAD',\n",
    " 'VOLSUPLY',\n",
    " 'PF',\n",
    "\n",
    " 'METERED_KWH',\n",
    " 'METERED_KVAH',\n",
    " 'ADJ_UNITS',\n",
    " 'BILLABLE_UNIT',\n",
    " 'MAX_DEMAND',\n",
    " 'ENRGYCHG',\n",
    " 'MCG',\n",
    " 'FIXEDCHG',\n",
    " 'DEMANDCHG',\n",
    " 'EXCESSDCHG',\n",
    " 'EDCHG',\n",
    " 'VOLSUPREB',\n",
    " 'VOLSUPSURCHG',\n",
    " 'CAPACITOR',\n",
    " 'LPFSURCHARGE',\n",
    " 'SOLARCAP',\n",
    " 'SOLARREBATE',\n",
    " 'PROVADJ',\n",
    " 'TOTBILL',\n",
    " 'SUBSIDY',\n",
    " 'CURTOTAMT',\n",
    " 'LATEPAYSUR',\n",
    " 'OLDDUEAMT',\n",
    " 'TOTPAYAMT',\n",
    " 'AMOUNT',\n",
    " 'AMTAFTRDUE',\n",
    " 'AMTAFTRDIS',\n",
    " 'CONSID',\n",
    " 'BILLING_STATUS',\n",
    " 'SUPP_RELEASE_DATE',\n",
    " 'MF',\n",
    " 'BILLID',\n",
    " 'PREV_RDG_DATE',\n",
    " 'PRST_RDG_DATE',\n",
    " 'PREV_RDG_KWH',\n",
    " 'PREV_RDG_KVAH',\n",
    " 'PRST_RDG_KWH',\n",
    " 'PRST_RDG_KVAH',\n",
    " 'BILLED_CATEGORY',\n",
    " 'APPROVE',\n",
    " 'GRACEDATE',\n",
    " 'ADDL_SURCHARGE',\n",
    " \n",
    " 'CAT_CODE',\n",
    " 'MTR_TYPE',\n",
    " 'BILL_GRP',\n",
    " 'SECURITY',\n",
    " 'CATID',\n",
    " 'ICDAMT',\n",
    " 'PROVAMT',\n",
    " 'PROVPERIOD',\n",
    " 'PROVUNITS',\n",
    " 'ARREAR',\n",
    " 'CIN',\n",
    " 'LOAD_UNIT',\n",
    " 'BILL_CYCLE',\n",
    " 'ARREAR_SURCHG',\n",
    " 'ASSESED_UNITS',\n",
    " 'CHEQUEBOUNCE_DATE',\n",
    " 'ISCHK_RESTRICTION',\n",
    " 'BLISSUEDATE',\n",
    " 'BILLED_KWH',\n",
    " 'MTR_STATUS_CODE',\n",
    " 'CUML_ACTUAL_UNITS',\n",
    " 'CUML_BILL_UNITS',\n",
    " 'BILLING_FLAG',\n",
    " 'TOTPAYMENTADJ',\n",
    " 'ROUNDAMT',\n",
    " 'OTHER_DUES',\n",
    " 'MTR_FLG',\n",
    " 'PREV_BLISSUE_DT',\n",
    " 'PREV_FIN_YR_ARR',\n",
    " 'PREV_FIN_YR_LPS',\n",
    " 'CURR_FIN_YR_ARR',\n",
    " 'CURR_FIN_YR_LPS',\n",
    " 'ARR_COUNT',\n",
    " 'BILLDISCON1',\n",
    " 'CREATE_DATE',\n",
    " 'MCG_EC_ADJ',\n",
    " 'MCG_ADJ_CF',\n",
    " 'FCA_ADJ_AMT',\n",
    " 'FSA_CHG',\n",
    " 'CUST_ADJ_AMT',\n",
    " 'BILL_TYPE',\n",
    " 'ACCOUNTNO',\n",
    " 'MTR_STATUS',\n",
    " 'ICD_AMT',\n",
    " 'MINIMUM_CHG',\n",
    " 'REG_SURCHG1',\n",
    " 'REG_SURCHG2',\n",
    " 'REBATE_GIVEN',\n",
    " 'BILL_FROM_DT',\n",
    " 'BILL_TO_DT',\n",
    " 'ADDITIONAL_REBATE',\n",
    " 'POWER_LOOM_CHG',\n",
    " 'POWER_LOOM_ED',\n",
    " 'NO_OF_LOOMS_LS60',\n",
    " 'NO_OF_LOOMS_GT60',\n",
    " 'DISCOUNT',\n",
    " 'DEBIT',\n",
    " 'CREDIT',\n",
    " 'ARR_ADLEC_CHG',\n",
    " 'ARR_ADLED_CHG',\n",
    " 'PRVYRARR',\n",
    " 'PRVYRLPS',\n",
    " 'LAST_PAID_AMT',\n",
    " 'LAST_PAID_DATE',\n",
    " 'IMEI_NO',\n",
    " 'LATITUDE',\n",
    " 'LONGITUDE',\n",
    " 'GOVT_FLAG',\n",
    " 'PHASE',\n",
    " 'METER_FAULT_CNT',\n",
    " 'MD_KW',\n",
    " 'MD_KVA',\n",
    " 'CONSUMPTION_UNIT',\n",
    " 'PROV_BILLED_KWH',\n",
    " 'PROV_BILLED_KVAH',\n",
    " 'AMOUNT_PAID_IN_BILLMONTH',\n",
    " 'AMOUNTPAID_CNT_IN_BILLMONTH',\n",
    " 'AMOUNT_PAID_REPORT_MONTH',\n",
    " 'AMOUNTPAID_CNT_REPORT_MONTH',\n",
    " 'MTR_MAKE',\n",
    " 'OFFICE_ID',\n",
    " 'REPORT_MONTH',\n",
    " 'REPORT_YEAR',\n",
    " 'FEEDER_ACODE',\n",
    " 'DISTRICT_NAME',\n",
    "\n",
    " 'VILLAGE_CODE',\n",
    " 'HABITATION_NAME',\n",
    " 'HABITATION_CODE',\n",
    " 'LAST_OK_RDG_KWH',\n",
    " 'LAST_OK_RDG_KVAH',\n",
    " 'LAST_MU_RDG_DATE',\n",
    " 'LAST_3_MONTHS_CONSUMPTION',\n",
    " 'READER_LOGIN_ID',\n",
    " 'SCHEME',\n",
    " 'SCHEME_TYPE',\n",
    " 'SOURCE_TYPE',\n",
    " 'PR_TOWN',\n",
    " 'CURYRARR',\n",
    " 'CURYRLPS',\n",
    " 'MTR_OPNRDGDT',\n",
    " 'MTR_OPNRDG',\n",
    " 'METER_STATUS',\n",
    " 'MDI',\n",
    " 'METER_READ_REMARK',\n",
    " 'MR_SOURCE_CD',\n",
    " 'CONSUMER_CREATE_DT',\n",
    " 'MTR_RDR_OBSERVATION',\n",
    " 'MT_CHANGE_DATE',\n",
    " 'ST_CHANGE_DATE',\n",
    " 'OLD_ST',\n",
    " 'ED_AVAIL_ADJ',\n",
    " 'ED_CUR_ADJ',\n",
    " 'SERVICEREGION',\n",
    " 'UNBILLED_EXCEPTION',\n",
    " 'LAST_ACD_AMT',\n",
    " 'LAST_ACD_COL_DT',\n",
    " 'OLD_BR_AMOUNT',\n",
    " 'DISCONNECTION_DT',\n",
    " 'DISCONNECTION_CREATE_DT',\n",
    " 'SMID',\n",
    " 'FMID',\n",
    " 'READER_NAME',\n",
    " 'READER_MOBILE_NO',\n",
    " 'INSTALLMENT_FLAG',\n",
    " 'NO_OF_PENDING_INS',\n",
    " 'INST_AMOUNT',\n",
    " 'ACTUAL_MTR_NUMBER',\n",
    " 'ACTUAL_MTR_MAKE_NAME',\n",
    " 'GOVT_CODE',\n",
    " 'GOVT_TYPE',\n",
    " 'RECONN_CHG',\n",
    " 'PROBE_OBSERVATION',\n",
    " 'TCS_CHG',\n",
    " 'CONSUMER_TYPE',\n",
    " 'PANNUM',\n",
    " 'OPR_FLAG',\n",
    " 'SDO_CODE',\n",
    " 'FEEDER_CODE',\n",
    " 'DTR_CODE',\n",
    " 'DTR_NAME',\n",
    " 'DT_GISUID',\n",
    " 'ROUTE_NAME',\n",
    " 'PAYMENT_TYPE',\n",
    " 'PLOOM_CHG',\n",
    " 'PTW_REBATE',\n",
    " 'PTW50REBATE',\n",
    " 'WHATSAPP_NO',\n",
    " 'INOPERATIVE_AMT',\n",
    " 'INOPERATIVE_DATE',\n",
    " 'KYC_CREATE_DATE',\n",
    " 'HV_BILL_FLAG']"
   ]
  },
  {
   "cell_type": "code",
   "execution_count": 22,
   "metadata": {
    "tags": []
   },
   "outputs": [],
   "source": [
    "im_col = ['DIVISION',\n",
    "          'SCNO',\n",
    "          'ACCOUNTNO',\n",
    "\n",
    " 'SUBDIVISION',\n",
    " 'SUBSTATION',\n",
    " 'FEEDER',\n",
    " 'SUPPLY_TYPE',\n",
    "          'BILLING_STATUS',\n",
    "          'CAT_CODE',\n",
    "          'ADDRESS1',\n",
    "          'VILLAGE_NAME',\n",
    " 'VILLAGE_CODE',\n",
    " 'HABITATION_NAME',\n",
    " 'HABITATION_CODE',\n",
    "          \n",
    " 'ADDRESS2',\n",
    " 'ADDRESS3',\n",
    " 'NAME','FATHER_NAME','PHONE','MTR_NUMBER', 'BILLBASIS','BILLDATE','METERED_KWH','BILLABLE_UNIT',\n",
    "        \n",
    " 'CONTRACTLOAD','TOTBILL','CURTOTAMT','TOTPAYAMT',\n",
    " 'AMOUNT','CURYRARR',\n",
    " 'CURYRLPS','SUPP_RELEASE_DATE','BILLED_CATEGORY','MTR_STATUS','LAST_PAID_AMT',\n",
    " 'LAST_PAID_DATE','LAST_OK_RDG_KWH','METER_FAULT_CNT',\n",
    "          'MT_CHANGE_DATE',\n",
    " 'ST_CHANGE_DATE','LAST_MU_RDG_DATE',\n",
    "        'READER_NAME',\n",
    " 'READER_MOBILE_NO',\n",
    " 'LAST_OK_RDG_KVAH',\n",
    " 'LAST_MU_RDG_DATE',\n",
    " 'GOVT_FLAG','GOVT_CODE',\n",
    "          \n",
    " 'GOVT_TYPE','PAYMENT_TYPE','AMOUNT_PAID_IN_BILLMONTH','SCHEME','OPR_FLAG','KYC_CREATE_DATE','DISCONNECTION_DT','DISCONNECTION_CREATE_DT','AMOUNT_PAID_IN_BILLMONTH']"
   ]
  },
  {
   "cell_type": "code",
   "execution_count": null,
   "metadata": {},
   "outputs": [],
   "source": []
  },
  {
   "cell_type": "code",
   "execution_count": 19,
   "metadata": {
    "tags": []
   },
   "outputs": [],
   "source": [
    "df = df[column]"
   ]
  },
  {
   "cell_type": "code",
   "execution_count": 20,
   "metadata": {
    "tags": []
   },
   "outputs": [],
   "source": [
    "df_duplicate=df[df.duplicated(subset=['NAME','FATHER_NAME','VILLAGE_NAME'],keep=False)]"
   ]
  },
  {
   "cell_type": "code",
   "execution_count": 21,
   "metadata": {
    "tags": []
   },
   "outputs": [
    {
     "name": "stderr",
     "output_type": "stream",
     "text": [
      "C:\\Users\\pc\\AppData\\Local\\Temp\\ipykernel_3324\\2424249031.py:1: SettingWithCopyWarning: \n",
      "A value is trying to be set on a copy of a slice from a DataFrame.\n",
      "Try using .loc[row_indexer,col_indexer] = value instead\n",
      "\n",
      "See the caveats in the documentation: https://pandas.pydata.org/pandas-docs/stable/user_guide/indexing.html#returning-a-view-versus-a-copy\n",
      "  df_duplicate['duplicate'] = False\n",
      "C:\\Users\\pc\\AppData\\Local\\Temp\\ipykernel_3324\\2424249031.py:2: SettingWithCopyWarning: \n",
      "A value is trying to be set on a copy of a slice from a DataFrame.\n",
      "Try using .loc[row_indexer,col_indexer] = value instead\n",
      "\n",
      "See the caveats in the documentation: https://pandas.pydata.org/pandas-docs/stable/user_guide/indexing.html#returning-a-view-versus-a-copy\n",
      "  df_duplicate['duplicate']=df.duplicated(subset=['NAME','FATHER_NAME','VILLAGE_NAME'])\n"
     ]
    }
   ],
   "source": [
    "df_duplicate['duplicate'] = False\n",
    "df_duplicate['duplicate']=df.duplicated(subset=['NAME','FATHER_NAME','VILLAGE_NAME'])"
   ]
  },
  {
   "cell_type": "code",
   "execution_count": null,
   "metadata": {},
   "outputs": [],
   "source": []
  },
  {
   "cell_type": "code",
   "execution_count": 55,
   "metadata": {},
   "outputs": [
    {
     "data": {
      "text/plain": [
       "array(['Live', 'Account Closed', 'Temp.Disconnected', 'First Bill Issued',\n",
       "       'Bill Stopped', 'Dismantled', 'New Connection'], dtype=object)"
      ]
     },
     "execution_count": 55,
     "metadata": {},
     "output_type": "execute_result"
    }
   ],
   "source": [
    "df['BILLING_STATUS'].unique()"
   ]
  },
  {
   "cell_type": "code",
   "execution_count": 56,
   "metadata": {},
   "outputs": [],
   "source": [
    "df['srd']=df['SUPP_RELEASE_DATE'].copy()"
   ]
  },
  {
   "cell_type": "code",
   "execution_count": 57,
   "metadata": {},
   "outputs": [
    {
     "data": {
      "text/plain": [
       "array(['16-MAY-23', '09-JUN-23', nan, '17-MAY-23', '30-MAY-23',\n",
       "       '12-MAY-23', '03-JUN-23', '13-MAY-23', '01-JUL-23', '31-MAY-23',\n",
       "       '09-MAY-23', '02-JUN-23', '26-FEB-23', '29-JUN-23', '04-SEP-22',\n",
       "       '14-MAY-23', '27-JUN-23', '11-MAY-23', '20-MAY-23', '07-JUN-23',\n",
       "       '18-JUL-23', '15-MAY-23', '19-MAY-23', '29-MAY-23', '30-JUN-23',\n",
       "       '18-MAY-23', '08-JUN-23', '13-APR-23', '22-JUL-23', '14-FEB-23',\n",
       "       '11-FEB-23', '15-FEB-23', '03-FEB-23', '26-JUN-23', '06-SEP-22',\n",
       "       '10-SEP-22', '28-MAY-23', '28-JAN-23', '05-JUN-23', '19-NOV-22',\n",
       "       '02-FEB-23', '26-MAY-23', '27-MAY-23', '08-OCT-22', '11-NOV-22',\n",
       "       '13-SEP-22', '16-JUN-23', '22-MAY-23', '27-MAR-23', '21-FEB-23',\n",
       "       '27-FEB-23', '19-JUL-23', '01-JUN-23', '06-JUN-23', '09-MAR-23',\n",
       "       '12-JUL-23', '07-SEP-22', '23-JUN-23', '28-MAR-23', '28-JUN-23',\n",
       "       '16-NOV-22', '30-JAN-23', '12-JAN-23', '08-MAY-23', '04-FEB-23',\n",
       "       '05-APR-23', '13-FEB-23', '17-JUL-23', '10-MAY-23', '05-SEP-22',\n",
       "       '20-FEB-23', '10-FEB-23', '31-JAN-23', '07-FEB-23', '08-SEP-22',\n",
       "       '29-JAN-23', '24-JAN-23', '09-FEB-23', '02-NOV-22', '29-MAR-23',\n",
       "       '13-JUL-23', '11-SEP-22', '24-FEB-23', '12-SEP-22', '16-DEC-22',\n",
       "       '18-NOV-22', '14-SEP-22', '24-JUN-23', '25-FEB-23', '04-APR-23',\n",
       "       '25-MAY-23', '09-SEP-22', '06-MAY-23', '28-FEB-23', '02-MAR-23',\n",
       "       '03-MAR-23', '10-MAR-23', '28-SEP-22', '16-AUG-22', '05-JUL-23',\n",
       "       '02-DEC-22', '01-MAR-23', '22-JUN-23', '16-FEB-23', '17-NOV-22',\n",
       "       '19-JUN-23', '19-FEB-23', '06-APR-23', '21-JUL-23', '04-JAN-23',\n",
       "       '15-JUN-23', '19-APR-23', '20-MAR-23', '31-DEC-22', '12-MAR-23',\n",
       "       '24-NOV-22', '21-MAR-23', '14-JUL-23', '09-NOV-22', '18-JAN-23',\n",
       "       '07-MAR-23', '24-MAR-23', '02-JAN-23', '30-OCT-22', '12-FEB-23',\n",
       "       '17-JUN-23', '04-JUL-23', '13-JAN-23', '10-APR-23', '17-APR-23',\n",
       "       '05-JAN-23', '22-NOV-22', '01-APR-23', '17-FEB-23', '22-FEB-23',\n",
       "       '18-APR-23', '13-JUN-23', '23-SEP-22', '11-JUL-23', '10-JAN-23',\n",
       "       '13-DEC-22', '16-JAN-23', '03-SEP-22', '23-FEB-23', '26-APR-23',\n",
       "       '29-SEP-22', '07-JUL-23', '23-MAY-23', '10-JUL-23', '10-JUN-23',\n",
       "       '24-SEP-22', '22-DEC-22', '05-DEC-22', '24-MAY-23', '20-JUL-23',\n",
       "       '21-APR-23', '25-MAR-23', '05-OCT-22', '11-JAN-23', '05-MAR-23',\n",
       "       '30-DEC-22', '11-OCT-22', '23-MAR-23', '26-SEP-22', '02-MAY-23',\n",
       "       '09-JAN-23', '23-JAN-23', '04-NOV-22', '12-DEC-22', '03-AUG-22',\n",
       "       '14-MAR-23', '01-FEB-23', '15-APR-23', '14-JUN-23', '04-OCT-22',\n",
       "       '13-MAR-23', '07-DEC-22', '11-MAR-23', '31-MAR-23', '14-APR-23',\n",
       "       '27-DEC-22', '19-SEP-22', '26-NOV-22', '13-NOV-22', '22-MAR-23',\n",
       "       '21-JUN-23', '03-NOV-22', '18-DEC-22', '25-JAN-23', '07-JAN-23',\n",
       "       '05-FEB-23', '12-APR-23', '12-JUN-23', '06-FEB-23', '03-APR-23',\n",
       "       '11-APR-23', '29-APR-23', '14-NOV-22', '20-APR-23', '04-MAR-23',\n",
       "       '10-AUG-22', '27-APR-23', '30-MAR-23', '08-FEB-23', '12-NOV-22',\n",
       "       '06-MAR-23', '24-APR-23', '28-APR-23', '02-AUG-22', '03-MAY-23',\n",
       "       '25-APR-23', '02-APR-23', '16-SEP-22', '27-JAN-23', '18-FEB-23',\n",
       "       '10-NOV-22', '08-MAR-23', '03-JUL-23', '09-AUG-22', '01-MAY-23',\n",
       "       '21-DEC-22', '19-AUG-22', '18-AUG-22', '22-AUG-22', '01-OCT-22',\n",
       "       '17-AUG-22', '15-JUL-23', '05-AUG-22', '08-APR-23', '20-JUN-23',\n",
       "       '11-JUN-23', '02-SEP-22', '06-AUG-22', '21-AUG-22', '23-DEC-22',\n",
       "       '28-DEC-22', '06-JUL-23', '08-AUG-22', '15-NOV-22', '20-AUG-22',\n",
       "       '21-JAN-23', '12-AUG-22', '04-AUG-22', '29-OCT-22', '10-DEC-22',\n",
       "       '20-SEP-22', '11-AUG-22', '25-DEC-22', '13-AUG-22', '14-DEC-22',\n",
       "       '19-JAN-23', '04-JUN-23', '24-DEC-22', '28-JUL-22', '21-OCT-22',\n",
       "       '26-DEC-22', '23-NOV-22', '15-AUG-22', '21-NOV-22', '08-DEC-22',\n",
       "       '07-AUG-22', '19-DEC-22', '22-JAN-23', '20-DEC-22', '04-MAY-23',\n",
       "       '29-AUG-22', '17-JAN-23', '14-AUG-22', '22-OCT-22', '26-MAR-23',\n",
       "       '02-JUL-23', '08-JUL-23', '23-OCT-22', '17-OCT-22', '20-JAN-23',\n",
       "       '23-AUG-22', '07-APR-23', '15-DEC-22', '09-JUL-23', '07-NOV-22',\n",
       "       '09-APR-23', '05-MAY-23', '30-NOV-22', '03-JAN-23', '26-AUG-22',\n",
       "       '28-OCT-22', '27-AUG-22', '12-OCT-22', '21-SEP-22', '29-DEC-22',\n",
       "       '07-MAY-23', '01-SEP-22', '25-JUN-23', '22-SEP-22', '25-NOV-22',\n",
       "       '05-NOV-22', '18-OCT-22', '31-AUG-22', '18-SEP-22', '11-DEC-22',\n",
       "       '20-OCT-22', '24-AUG-22', '14-JAN-23', '06-DEC-22', '25-AUG-22',\n",
       "       '21-MAY-23', '26-JAN-23', '16-MAR-23', '01-AUG-22', '16-JUL-23',\n",
       "       '04-DEC-22', '17-MAR-23', '15-SEP-22', '30-SEP-22', '08-JAN-23',\n",
       "       '19-OCT-22', '02-OCT-22', '16-APR-23', '28-NOV-22', '08-NOV-22',\n",
       "       '09-DEC-22', '25-OCT-22', '23-JUL-23', '03-OCT-22', '10-OCT-22',\n",
       "       '18-MAR-23', '17-DEC-22', '29-NOV-22', '31-OCT-22', '15-MAR-23',\n",
       "       '27-SEP-22', '13-OCT-22', '15-OCT-22', '14-OCT-22', '01-NOV-22',\n",
       "       '03-DEC-22', '06-OCT-22', '06-JAN-23', '17-SEP-22', '16-OCT-22',\n",
       "       '01-JAN-23', '10-05-23', '12-07-23', '23-06-23', '27-02-23',\n",
       "       '22-06-23', '03-06-23', '05-06-23', '13-02-23', '11-05-23',\n",
       "       '11-06-23', '25-02-23', '28-01-23', '09-09-22', '09-02-23',\n",
       "       '14-07-23', '24-04-23', '08-06-23', '04-07-23', '03-02-23',\n",
       "       '24-02-23', '22-07-23', '15-06-23', '06-06-23', '06-02-23',\n",
       "       '03-07-23', '04-02-23', '26-06-23', '24-01-23', '06-07-23',\n",
       "       '03-01-23', '09-03-23', '24-03-23', '19-08-22', '23-07-23',\n",
       "       '15-02-23', '25-03-23', '02-02-23', '23-02-23', '30-01-23',\n",
       "       '27-06-23', '10-02-23', '29-06-23', '22-11-22', '16-02-23',\n",
       "       '29-01-23', '07-02-23', '13-03-23', '29-03-23', '27-01-23',\n",
       "       '11-02-23', '27-05-23', '12-09-22', '26-01-23', '05-02-23',\n",
       "       '14-02-23', '05-09-22', '25-01-23', '19-01-23', '01-02-23',\n",
       "       '07-11-22', '21-02-23', '22-02-23', '11-09-22', '08-02-23',\n",
       "       '07-09-22', '28-03-23', '08-09-22', '07-10-22', '06-09-22',\n",
       "       '28-02-23', '30-05-23', '15-05-23', '12-02-23', '26-02-23',\n",
       "       '16-06-23', '15-08-22', '27-08-22', '10-06-23', '10-09-22',\n",
       "       '16-05-23', '19-05-23', '05-04-23', '07-06-23', '02-09-22',\n",
       "       '07-07-23', '20-06-23', '02-05-23', '04-05-23', '18-01-23',\n",
       "       '18-05-23', '14-05-23', '01-06-23', '22-05-23', '30-06-23',\n",
       "       '31-01-23', '18-04-23', '21-07-23', '24-06-23', '13-05-23',\n",
       "       '15-07-23', '23-01-23', '05-07-23', '14-03-23', '19-06-23',\n",
       "       '12-06-23', '13-09-22', '06-11-22', '28-06-23', '01-05-23',\n",
       "       '10-11-22', '06-12-22', '29-05-23', '06-05-23', '23-11-22',\n",
       "       '25-05-23', '20-05-23', '25-11-22', '19-02-23', '18-11-22',\n",
       "       '11-11-22', '02-12-22', '01-07-23', '20-04-23', '04-04-23',\n",
       "       '17-01-23', '09-05-23', '01-03-23', '13-07-23', '14-09-22',\n",
       "       '12-05-23', '11-03-23', '20-01-23', '17-02-23', '07-05-23',\n",
       "       '23-03-23', '03-04-23', '27-03-23', '26-11-22', '11-12-22',\n",
       "       '13-06-23', '04-09-22', '18-02-23', '11-01-23', '21-06-23',\n",
       "       '06-04-23', '27-12-22', '02-03-23', '13-12-22', '31-12-22',\n",
       "       '08-05-23', '23-05-23', '23-09-22', '10-10-22', '03-03-23',\n",
       "       '09-12-22', '11-07-23', '02-06-23', '17-05-23', '10-04-23',\n",
       "       '29-04-23', '10-03-23', '26-05-23', '12-03-23', '09-06-23',\n",
       "       '03-09-22', '21-04-23', '30-10-22', '28-04-23', '09-11-22',\n",
       "       '21-11-22', '22-03-23', '17-06-23', '17-07-23', '04-03-23',\n",
       "       '16-08-22', '19-07-23', '10-08-22', '29-09-22', '26-08-22',\n",
       "       '14-06-23', '13-04-23', '24-12-22', '12-04-23', '12-10-22',\n",
       "       '25-08-22', '18-07-23', '25-04-23', '21-03-23', '25-06-23',\n",
       "       '03-10-22', '20-07-23', '02-11-22', '26-04-23', '22-08-22',\n",
       "       '20-02-23', '01-04-23', '16-01-23', '11-04-23', '05-12-22',\n",
       "       '20-08-22', '27-04-23', '20-03-23', '15-09-22', '04-01-23',\n",
       "       '19-04-23', '14-08-22', '31-10-22', '21-01-23', '31-03-23',\n",
       "       '06-03-23', '10-07-23', '08-07-23', '27-10-22', '20-09-22',\n",
       "       '09-07-23', '17-04-23', '16-09-22', '19-11-22', '05-01-23',\n",
       "       '02-01-23', '07-12-22', '29-08-22', '19-12-22', '04-11-22',\n",
       "       '13-08-22', '11-08-22', '13-01-23', '23-08-22', '15-10-22',\n",
       "       '02-07-23', '03-05-23', '12-11-22', '24-08-22', '11-10-22',\n",
       "       '07-03-23', '15-12-22', '18-08-22', '14-10-22', '14-11-22',\n",
       "       '27-09-22', '23-12-22', '15-11-22', '24-11-22', '08-12-22',\n",
       "       '16-12-22', '26-09-22', '14-12-22', '16-11-22', '06-10-22',\n",
       "       '22-12-22', '15-04-23', '19-09-22', '21-09-22', '18-10-22',\n",
       "       '31-05-23', '17-11-22', '12-12-22', '01-09-22', '28-12-22',\n",
       "       '21-12-22', '08-08-22', '04-08-22', '20-10-22', '17-08-22',\n",
       "       '12-01-23', '19-10-22', '04-06-23', '02-10-22', '12-08-22',\n",
       "       '30-03-23', '09-08-22', '30-09-22', '21-08-22', '24-05-23',\n",
       "       '03-08-22', '08-11-22', '28-10-22', '05-08-22', '20-12-22',\n",
       "       '16-04-23', '30-12-22', '08-10-22', '08-04-23', '01-11-22',\n",
       "       '29-10-22', '18-12-22', '17-10-22', '22-04-23', '09-04-23',\n",
       "       '05-05-23', '07-01-23', '26-12-22', '22-09-22', '10-12-22',\n",
       "       '21-10-22', '04-12-22', '09-01-23', '05-11-22', '28-11-22',\n",
       "       '30-04-23', '06-08-22', '10-01-23', '13-10-22', '14-04-23',\n",
       "       '29-11-22', '18-06-23', '06-01-23', '07-08-22', '24-09-22',\n",
       "       '31-08-22', '15-03-23', '16-07-23', '16-03-23', '22-10-22',\n",
       "       '05-03-23', '28-09-22', '28-05-23', '28-08-22', '14-01-23',\n",
       "       '25-12-22', '15-01-23', '03-11-22', '26-10-22', '23-04-23',\n",
       "       '29-07-22', '26-07-22', '25-09-22', '02-08-22', '30-11-22',\n",
       "       '22-01-23'], dtype=object)"
      ]
     },
     "execution_count": 57,
     "metadata": {},
     "output_type": "execute_result"
    }
   ],
   "source": [
    "df['KYC_CREATE_DATE'].unique()"
   ]
  },
  {
   "cell_type": "code",
   "execution_count": 58,
   "metadata": {},
   "outputs": [],
   "source": [
    "df['lpd']=df['LAST_PAID_DATE'].copy()"
   ]
  },
  {
   "cell_type": "code",
   "execution_count": 59,
   "metadata": {},
   "outputs": [
    {
     "data": {
      "text/plain": [
       "array(['Live', 'Account Closed', 'Temp.Disconnected', 'First Bill Issued',\n",
       "       'Bill Stopped', 'Dismantled', 'New Connection'], dtype=object)"
      ]
     },
     "execution_count": 59,
     "metadata": {},
     "output_type": "execute_result"
    }
   ],
   "source": [
    "df['BILLING_STATUS'].unique()"
   ]
  },
  {
   "cell_type": "code",
   "execution_count": 60,
   "metadata": {},
   "outputs": [
    {
     "data": {
      "text/plain": [
       "0   NaT\n",
       "1   NaT\n",
       "2   NaT\n",
       "3   NaT\n",
       "4   NaT\n",
       "Name: DISCONNECTION_DT, dtype: datetime64[ns]"
      ]
     },
     "execution_count": 60,
     "metadata": {},
     "output_type": "execute_result"
    }
   ],
   "source": [
    "pd.to_datetime(df['DISCONNECTION_DT'][:5],format=\"%d-%b-%y\")"
   ]
  },
  {
   "cell_type": "code",
   "execution_count": 61,
   "metadata": {},
   "outputs": [
    {
     "data": {
      "text/plain": [
       "array(['Live', 'Account Closed', 'Temp.Disconnected', 'First Bill Issued',\n",
       "       'Bill Stopped', 'Dismantled', 'New Connection'], dtype=object)"
      ]
     },
     "execution_count": 61,
     "metadata": {},
     "output_type": "execute_result"
    }
   ],
   "source": [
    "df['BILLING_STATUS'].unique()"
   ]
  },
  {
   "cell_type": "code",
   "execution_count": 62,
   "metadata": {},
   "outputs": [],
   "source": [
    "df = date(df)\n",
    "df = unpaid(df)\n",
    "df = Neverpaid(df)\n",
    "df=kyc_status(df)"
   ]
  },
  {
   "cell_type": "code",
   "execution_count": 63,
   "metadata": {},
   "outputs": [
    {
     "data": {
      "text/plain": [
       "<DatetimeArray>\n",
       "['2023-05-16 00:00:00', '2023-06-09 00:00:00',                 'NaT',\n",
       " '2023-05-17 00:00:00', '2023-05-30 00:00:00', '2023-05-12 00:00:00',\n",
       " '2023-06-03 00:00:00', '2023-05-13 00:00:00', '2023-07-01 00:00:00',\n",
       " '2023-05-31 00:00:00',\n",
       " ...\n",
       " '2022-10-13 00:00:00', '2022-10-15 00:00:00', '2022-10-14 00:00:00',\n",
       " '2022-11-01 00:00:00', '2022-12-03 00:00:00', '2022-10-06 00:00:00',\n",
       " '2023-01-06 00:00:00', '2022-09-17 00:00:00', '2022-10-16 00:00:00',\n",
       " '2023-01-01 00:00:00']\n",
       "Length: 341, dtype: datetime64[ns]"
      ]
     },
     "execution_count": 63,
     "metadata": {},
     "output_type": "execute_result"
    }
   ],
   "source": [
    "df['KYC_CREATE_DATE'].unique()"
   ]
  },
  {
   "cell_type": "code",
   "execution_count": 64,
   "metadata": {},
   "outputs": [
    {
     "data": {
      "text/plain": [
       "0               NaT\n",
       "1               NaT\n",
       "2               NaT\n",
       "3               NaT\n",
       "4        2023-07-17\n",
       "            ...    \n",
       "466948   2023-06-08\n",
       "466949   2022-05-05\n",
       "466950   2020-09-14\n",
       "466951   2023-04-19\n",
       "466952          NaT\n",
       "Name: LAST_PAID_DATE, Length: 466953, dtype: datetime64[ns]"
      ]
     },
     "execution_count": 64,
     "metadata": {},
     "output_type": "execute_result"
    }
   ],
   "source": [
    "df['LAST_PAID_DATE']"
   ]
  },
  {
   "cell_type": "code",
   "execution_count": 65,
   "metadata": {},
   "outputs": [],
   "source": [
    "# df['LAST_PAID_DATE'].isna()"
   ]
  },
  {
   "cell_type": "code",
   "execution_count": 66,
   "metadata": {},
   "outputs": [
    {
     "data": {
      "text/plain": [
       "<DatetimeArray>\n",
       "['2019-06-06 00:00:00', '1999-01-25 00:00:00', '2018-08-10 00:00:00',\n",
       " '1992-03-23 00:00:00', '2018-10-15 00:00:00', '2017-09-01 00:00:00',\n",
       " '1959-04-01 00:00:00', '2018-10-31 00:00:00', '2017-12-17 00:00:00',\n",
       " '2018-09-12 00:00:00',\n",
       " ...\n",
       " '1996-04-03 00:00:00', '1990-12-05 00:00:00', '1973-04-21 00:00:00',\n",
       " '1994-03-18 00:00:00', '2004-06-17 00:00:00', '1980-05-24 00:00:00',\n",
       " '1983-01-31 00:00:00', '1986-04-15 00:00:00', '2002-04-04 00:00:00',\n",
       " '1995-01-17 00:00:00']\n",
       "Length: 12154, dtype: datetime64[ns]"
      ]
     },
     "execution_count": 66,
     "metadata": {},
     "output_type": "execute_result"
    }
   ],
   "source": [
    "df['SUPP_RELEASE_DATE'].unique()"
   ]
  },
  {
   "cell_type": "code",
   "execution_count": 67,
   "metadata": {},
   "outputs": [
    {
     "data": {
      "text/plain": [
       "array(['2023-07-17 04:55:49 PM', '2023-07-07 03:37:16 PM', nan, ...,\n",
       "       '2023-07-10 07:45:30 AM', '2023-07-10 08:24:05 PM',\n",
       "       '2023-07-02 02:40:23 PM'], dtype=object)"
      ]
     },
     "execution_count": 67,
     "metadata": {},
     "output_type": "execute_result"
    }
   ],
   "source": [
    "df['BILLDATE'].unique()"
   ]
  },
  {
   "cell_type": "code",
   "execution_count": null,
   "metadata": {},
   "outputs": [],
   "source": []
  },
  {
   "cell_type": "code",
   "execution_count": null,
   "metadata": {},
   "outputs": [],
   "source": []
  },
  {
   "cell_type": "code",
   "execution_count": 68,
   "metadata": {},
   "outputs": [
    {
     "data": {
      "text/plain": [
       "array([nan])"
      ]
     },
     "execution_count": 68,
     "metadata": {},
     "output_type": "execute_result"
    }
   ],
   "source": [
    "df['DISCONNECTION_DT'].unique()"
   ]
  },
  {
   "cell_type": "code",
   "execution_count": 69,
   "metadata": {},
   "outputs": [],
   "source": [
    "df = NonGOVT(df)"
   ]
  },
  {
   "cell_type": "code",
   "execution_count": 70,
   "metadata": {},
   "outputs": [],
   "source": [
    "df = relGov(df)"
   ]
  },
  {
   "cell_type": "code",
   "execution_count": 71,
   "metadata": {},
   "outputs": [],
   "source": [
    "df = faulty_Ageing(df)"
   ]
  },
  {
   "cell_type": "code",
   "execution_count": 72,
   "metadata": {},
   "outputs": [
    {
     "data": {
      "text/plain": [
       "array(['Live', 'Account Closed', 'Temp.Disconnected', 'First Bill Issued',\n",
       "       'Bill Stopped', 'Dismantled', 'New Connection'], dtype=object)"
      ]
     },
     "execution_count": 72,
     "metadata": {},
     "output_type": "execute_result"
    }
   ],
   "source": [
    "df['BILLING_STATUS'].unique()"
   ]
  },
  {
   "cell_type": "code",
   "execution_count": 73,
   "metadata": {},
   "outputs": [],
   "source": [
    "df = billable(df)\n"
   ]
  },
  {
   "cell_type": "code",
   "execution_count": 74,
   "metadata": {},
   "outputs": [
    {
     "data": {
      "text/plain": [
       "array(['Live', 'Account Closed', 'Temp.Disconnected', 'First Bill Issued',\n",
       "       'Bill Stopped', 'Dismantled', 'New Connection'], dtype=object)"
      ]
     },
     "execution_count": 74,
     "metadata": {},
     "output_type": "execute_result"
    }
   ],
   "source": [
    "df['BILLING_STATUS'].unique()"
   ]
  },
  {
   "cell_type": "code",
   "execution_count": 75,
   "metadata": {},
   "outputs": [],
   "source": [
    "df['AMOUNT'] = pd.to_numeric(df['AMOUNT'],errors=\"coerce\")\n",
    "df = arrear(df)"
   ]
  },
  {
   "cell_type": "code",
   "execution_count": 76,
   "metadata": {},
   "outputs": [
    {
     "data": {
      "text/plain": [
       "array(['Live', 'Account Closed', 'Temp.Disconnected', 'First Bill Issued',\n",
       "       'Bill Stopped', 'Dismantled', 'New Connection'], dtype=object)"
      ]
     },
     "execution_count": 76,
     "metadata": {},
     "output_type": "execute_result"
    }
   ],
   "source": [
    "df['BILLING_STATUS'].unique()"
   ]
  },
  {
   "cell_type": "code",
   "execution_count": null,
   "metadata": {},
   "outputs": [],
   "source": []
  },
  {
   "cell_type": "code",
   "execution_count": null,
   "metadata": {},
   "outputs": [],
   "source": []
  },
  {
   "cell_type": "code",
   "execution_count": null,
   "metadata": {},
   "outputs": [],
   "source": []
  },
  {
   "cell_type": "code",
   "execution_count": null,
   "metadata": {},
   "outputs": [],
   "source": []
  },
  {
   "cell_type": "code",
   "execution_count": 77,
   "metadata": {},
   "outputs": [],
   "source": [
    "# df['LAST_PAID_DATE'] = pd.to_datetime(df.LAST_PAID_DATE)\n",
    "# df['SUPP_RELEASE_DATE'] = pd.to_datetime(df.SUPP_RELEASE_DATE)"
   ]
  },
  {
   "cell_type": "code",
   "execution_count": 78,
   "metadata": {},
   "outputs": [
    {
     "data": {
      "text/plain": [
       "DIVISION         object\n",
       "SCNO             object\n",
       "ACCOUNTNO         int64\n",
       "SUBDIVISION      object\n",
       "SUBSTATION       object\n",
       "                  ...  \n",
       "gov_flag           bool\n",
       "relGov           object\n",
       "faulty_Ageing    object\n",
       "bilable_flag       bool\n",
       "ARREAR_FILTER    object\n",
       "Length: 64, dtype: object"
      ]
     },
     "execution_count": 78,
     "metadata": {},
     "output_type": "execute_result"
    }
   ],
   "source": [
    "df.dtypes\n"
   ]
  },
  {
   "cell_type": "code",
   "execution_count": null,
   "metadata": {},
   "outputs": [],
   "source": []
  },
  {
   "cell_type": "code",
   "execution_count": 79,
   "metadata": {},
   "outputs": [],
   "source": [
    "df=CatLoad(df)"
   ]
  },
  {
   "cell_type": "code",
   "execution_count": 80,
   "metadata": {},
   "outputs": [],
   "source": [
    "# df1 = df[(df['gov_flag'] == False)]"
   ]
  },
  {
   "cell_type": "code",
   "execution_count": 81,
   "metadata": {},
   "outputs": [],
   "source": [
    "# df1=date(df1)"
   ]
  },
  {
   "cell_type": "code",
   "execution_count": 82,
   "metadata": {},
   "outputs": [],
   "source": [
    "# df1 = df1[df1['SUPP_RELEASE_DATE'] >= pd.Timestamp(2018, 4, 1)]"
   ]
  },
  {
   "cell_type": "code",
   "execution_count": 83,
   "metadata": {},
   "outputs": [],
   "source": [
    "# df1 =  df1[df1['bilable_flag'] == True]"
   ]
  },
  {
   "cell_type": "code",
   "execution_count": 84,
   "metadata": {},
   "outputs": [],
   "source": [
    "# df1 = df1[((df1['LAST_PAID_DATE'] < pd.Timestamp(2022, 12, 1)) | (pd.isnull(df['LAST_PAID_DATE'] )))]"
   ]
  },
  {
   "cell_type": "code",
   "execution_count": 85,
   "metadata": {},
   "outputs": [],
   "source": [
    "# df1 =  df1[df1['BILLING_STATUS'] == 'Temp.Disconnected']"
   ]
  },
  {
   "cell_type": "code",
   "execution_count": 22,
   "metadata": {
    "tags": []
   },
   "outputs": [
    {
     "name": "stderr",
     "output_type": "stream",
     "text": [
      "C:\\Users\\pc\\AppData\\Local\\Temp\\ipykernel_3324\\255396345.py:1: SettingWithCopyWarning: \n",
      "A value is trying to be set on a copy of a slice from a DataFrame\n",
      "\n",
      "See the caveats in the documentation: https://pandas.pydata.org/pandas-docs/stable/user_guide/indexing.html#returning-a-view-versus-a-copy\n",
      "  df_duplicate.sort_values(by=['NAME','FATHER_NAME','VILLAGE_NAME'], inplace=True,ascending=False)\n"
     ]
    }
   ],
   "source": [
    "df_duplicate.sort_values(by=['NAME','FATHER_NAME','VILLAGE_NAME'], inplace=True,ascending=False)"
   ]
  },
  {
   "cell_type": "code",
   "execution_count": 34,
   "metadata": {
    "tags": []
   },
   "outputs": [
    {
     "data": {
      "text/html": [
       "<div>\n",
       "<style scoped>\n",
       "    .dataframe tbody tr th:only-of-type {\n",
       "        vertical-align: middle;\n",
       "    }\n",
       "\n",
       "    .dataframe tbody tr th {\n",
       "        vertical-align: top;\n",
       "    }\n",
       "\n",
       "    .dataframe thead th {\n",
       "        text-align: right;\n",
       "    }\n",
       "</style>\n",
       "<table border=\"1\" class=\"dataframe\">\n",
       "  <thead>\n",
       "    <tr style=\"text-align: right;\">\n",
       "      <th></th>\n",
       "      <th>BOOK_CODE</th>\n",
       "      <th>DIVISION</th>\n",
       "      <th>DIVISION_ID</th>\n",
       "      <th>SUBDIVISION</th>\n",
       "      <th>SUBSTATION</th>\n",
       "      <th>FEEDER</th>\n",
       "      <th>SUPPLY_TYPE</th>\n",
       "      <th>SCNO</th>\n",
       "      <th>OLDSCNO</th>\n",
       "      <th>BILLDATE</th>\n",
       "      <th>...</th>\n",
       "      <th>ROUTE_NAME</th>\n",
       "      <th>PAYMENT_TYPE</th>\n",
       "      <th>PLOOM_CHG</th>\n",
       "      <th>PTW_REBATE</th>\n",
       "      <th>PTW50REBATE</th>\n",
       "      <th>WHATSAPP_NO</th>\n",
       "      <th>INOPERATIVE_AMT</th>\n",
       "      <th>INOPERATIVE_DATE</th>\n",
       "      <th>KYC_CREATE_DATE</th>\n",
       "      <th>HV_BILL_FLAG</th>\n",
       "    </tr>\n",
       "  </thead>\n",
       "  <tbody>\n",
       "    <tr>\n",
       "      <th>7619</th>\n",
       "      <td>3615</td>\n",
       "      <td>EDD-I-BAHRAICH</td>\n",
       "      <td>49</td>\n",
       "      <td>EDSD I BAHRAICH</td>\n",
       "      <td>BAXIPURA_354921</td>\n",
       "      <td>RURAL_35492110453RUL</td>\n",
       "      <td>17</td>\n",
       "      <td>4913615110560</td>\n",
       "      <td>NaN</td>\n",
       "      <td>NaN</td>\n",
       "      <td>...</td>\n",
       "      <td>NaN</td>\n",
       "      <td>NaN</td>\n",
       "      <td>0</td>\n",
       "      <td>0.0</td>\n",
       "      <td>0.0</td>\n",
       "      <td>NaN</td>\n",
       "      <td>NaN</td>\n",
       "      <td>NaN</td>\n",
       "      <td>NaN</td>\n",
       "      <td>NaN</td>\n",
       "    </tr>\n",
       "    <tr>\n",
       "      <th>16523</th>\n",
       "      <td>3515</td>\n",
       "      <td>EDD-I-BAHRAICH</td>\n",
       "      <td>49</td>\n",
       "      <td>EDSD I BAHRAICH</td>\n",
       "      <td>BAXIPURA_354921</td>\n",
       "      <td>RURAL_35492110453RUL</td>\n",
       "      <td>17</td>\n",
       "      <td>4913515110151</td>\n",
       "      <td>NaN</td>\n",
       "      <td>2023-07-10 10:11:33 AM</td>\n",
       "      <td>...</td>\n",
       "      <td>BEATMVV08528</td>\n",
       "      <td>NaN</td>\n",
       "      <td>0</td>\n",
       "      <td>0.0</td>\n",
       "      <td>0.0</td>\n",
       "      <td>9.565258e+09</td>\n",
       "      <td>NaN</td>\n",
       "      <td>NaN</td>\n",
       "      <td>09-FEB-23</td>\n",
       "      <td>NaN</td>\n",
       "    </tr>\n",
       "    <tr>\n",
       "      <th>100482</th>\n",
       "      <td>5418</td>\n",
       "      <td>EDD-III-BAHRAICH-KAISERGANJ</td>\n",
       "      <td>KG</td>\n",
       "      <td>EDSDIIIBAHRAICHRANJEETPUR</td>\n",
       "      <td>CHIRAIYA TAND_354923</td>\n",
       "      <td>SHIVDAHA_35492140464SVA</td>\n",
       "      <td>17</td>\n",
       "      <td>KG25418118721</td>\n",
       "      <td>KG25418118721</td>\n",
       "      <td>2023-07-05 08:16:37 AM</td>\n",
       "      <td>...</td>\n",
       "      <td>BEATMVV09192</td>\n",
       "      <td>NaN</td>\n",
       "      <td>0</td>\n",
       "      <td>0.0</td>\n",
       "      <td>0.0</td>\n",
       "      <td>NaN</td>\n",
       "      <td>NaN</td>\n",
       "      <td>NaN</td>\n",
       "      <td>03-02-23</td>\n",
       "      <td>NaN</td>\n",
       "    </tr>\n",
       "    <tr>\n",
       "      <th>137250</th>\n",
       "      <td>5451</td>\n",
       "      <td>EDD-III-BAHRAICH-KAISERGANJ</td>\n",
       "      <td>KG</td>\n",
       "      <td>EDSDIIIBAHRAICHRANJEETPUR</td>\n",
       "      <td>CHIRAIYA TAND_354923</td>\n",
       "      <td>SHIVDAHA_35492140464SVA</td>\n",
       "      <td>17</td>\n",
       "      <td>KG15451118721</td>\n",
       "      <td>KG15451118721</td>\n",
       "      <td>2023-07-09 03:33:44 PM</td>\n",
       "      <td>...</td>\n",
       "      <td>BEATMVV09190</td>\n",
       "      <td>NaN</td>\n",
       "      <td>0</td>\n",
       "      <td>0.0</td>\n",
       "      <td>0.0</td>\n",
       "      <td>9.721458e+09</td>\n",
       "      <td>NaN</td>\n",
       "      <td>NaN</td>\n",
       "      <td>21-06-23</td>\n",
       "      <td>NaN</td>\n",
       "    </tr>\n",
       "    <tr>\n",
       "      <th>231560</th>\n",
       "      <td>414</td>\n",
       "      <td>EDD-II-BAHRAICH-NANPARA</td>\n",
       "      <td>NP</td>\n",
       "      <td>EDSD I NANPARA</td>\n",
       "      <td>SAHABA/BABAGANJ</td>\n",
       "      <td>NaN</td>\n",
       "      <td>17A</td>\n",
       "      <td>NP20414112756</td>\n",
       "      <td>NP10451112756</td>\n",
       "      <td>2023-07-10 08:34:45 AM</td>\n",
       "      <td>...</td>\n",
       "      <td>BEATMVV09384</td>\n",
       "      <td>NaN</td>\n",
       "      <td>0</td>\n",
       "      <td>0.0</td>\n",
       "      <td>0.0</td>\n",
       "      <td>9.918476e+09</td>\n",
       "      <td>NaN</td>\n",
       "      <td>NaN</td>\n",
       "      <td>27-06-23</td>\n",
       "      <td>NaN</td>\n",
       "    </tr>\n",
       "  </tbody>\n",
       "</table>\n",
       "<p>5 rows × 222 columns</p>\n",
       "</div>"
      ],
      "text/plain": [
       "        BOOK_CODE                     DIVISION DIVISION_ID  \\\n",
       "7619         3615               EDD-I-BAHRAICH          49   \n",
       "16523        3515               EDD-I-BAHRAICH          49   \n",
       "100482       5418  EDD-III-BAHRAICH-KAISERGANJ          KG   \n",
       "137250       5451  EDD-III-BAHRAICH-KAISERGANJ          KG   \n",
       "231560        414      EDD-II-BAHRAICH-NANPARA          NP   \n",
       "\n",
       "                      SUBDIVISION            SUBSTATION  \\\n",
       "7619              EDSD I BAHRAICH       BAXIPURA_354921   \n",
       "16523             EDSD I BAHRAICH       BAXIPURA_354921   \n",
       "100482  EDSDIIIBAHRAICHRANJEETPUR  CHIRAIYA TAND_354923   \n",
       "137250  EDSDIIIBAHRAICHRANJEETPUR  CHIRAIYA TAND_354923   \n",
       "231560             EDSD I NANPARA       SAHABA/BABAGANJ   \n",
       "\n",
       "                         FEEDER SUPPLY_TYPE           SCNO        OLDSCNO  \\\n",
       "7619       RURAL_35492110453RUL          17  4913615110560            NaN   \n",
       "16523      RURAL_35492110453RUL          17  4913515110151            NaN   \n",
       "100482  SHIVDAHA_35492140464SVA          17  KG25418118721  KG25418118721   \n",
       "137250  SHIVDAHA_35492140464SVA          17  KG15451118721  KG15451118721   \n",
       "231560                      NaN         17A  NP20414112756  NP10451112756   \n",
       "\n",
       "                      BILLDATE  ...    ROUTE_NAME  PAYMENT_TYPE PLOOM_CHG  \\\n",
       "7619                       NaN  ...           NaN           NaN         0   \n",
       "16523   2023-07-10 10:11:33 AM  ...  BEATMVV08528           NaN         0   \n",
       "100482  2023-07-05 08:16:37 AM  ...  BEATMVV09192           NaN         0   \n",
       "137250  2023-07-09 03:33:44 PM  ...  BEATMVV09190           NaN         0   \n",
       "231560  2023-07-10 08:34:45 AM  ...  BEATMVV09384           NaN         0   \n",
       "\n",
       "       PTW_REBATE PTW50REBATE   WHATSAPP_NO INOPERATIVE_AMT INOPERATIVE_DATE  \\\n",
       "7619          0.0         0.0           NaN             NaN              NaN   \n",
       "16523         0.0         0.0  9.565258e+09             NaN              NaN   \n",
       "100482        0.0         0.0           NaN             NaN              NaN   \n",
       "137250        0.0         0.0  9.721458e+09             NaN              NaN   \n",
       "231560        0.0         0.0  9.918476e+09             NaN              NaN   \n",
       "\n",
       "        KYC_CREATE_DATE  HV_BILL_FLAG  \n",
       "7619                NaN           NaN  \n",
       "16523         09-FEB-23           NaN  \n",
       "100482         03-02-23           NaN  \n",
       "137250         21-06-23           NaN  \n",
       "231560         27-06-23           NaN  \n",
       "\n",
       "[5 rows x 222 columns]"
      ]
     },
     "execution_count": 34,
     "metadata": {},
     "output_type": "execute_result"
    }
   ],
   "source": [
    "df_duplicate.head()"
   ]
  },
  {
   "cell_type": "code",
   "execution_count": 87,
   "metadata": {
    "jupyter": {
     "source_hidden": true
    },
    "tags": []
   },
   "outputs": [],
   "source": [
    "# df1.head(10)"
   ]
  },
  {
   "cell_type": "code",
   "execution_count": 88,
   "metadata": {},
   "outputs": [],
   "source": [
    "# df1=df1.groupby('DIVISION').head(10).reset_index(drop=True)"
   ]
  },
  {
   "cell_type": "code",
   "execution_count": 89,
   "metadata": {},
   "outputs": [],
   "source": [
    "# df1.head()"
   ]
  },
  {
   "cell_type": "code",
   "execution_count": 23,
   "metadata": {
    "tags": []
   },
   "outputs": [
    {
     "name": "stdout",
     "output_type": "stream",
     "text": [
      "CSV: 4.10788106918335\n"
     ]
    }
   ],
   "source": [
    "start = time.time()\n",
    "# df.to_csv(\"EDC_new.CSV\")\n",
    "# df.to_csv(f\"{month}/{circle}/{circle}_jul.csv\") \n",
    "df_duplicate.to_csv(f\"{month}/{circle}/{circle}_jul_duplicate_saubhag.csv\")\n",
    "# df1.to_excel(f\"{month}/top_10-td-nonrapdrp.xlsx\")\n",
    "end = time.time()\n",
    "print(\"CSV:\", end - start)"
   ]
  },
  {
   "cell_type": "code",
   "execution_count": 91,
   "metadata": {},
   "outputs": [],
   "source": [
    "\n",
    "# # import pandas\n",
    "# import pandas as pd\n",
    "   \n",
    "# # read csv data\n",
    "# df1 = pd.read_csv('Student_data.csv')\n",
    "# df2 = pd.read_csv('Course_enrolled.csv')\n",
    "   \n",
    "# Left_join = pd.merge(df1, \n",
    "#                      df2, \n",
    "#                      on ='Name', \n",
    "#                      how ='left')\n",
    "# Left_join"
   ]
  },
  {
   "cell_type": "code",
   "execution_count": 92,
   "metadata": {},
   "outputs": [],
   "source": [
    "import pandas as pd\n",
    "from datetime import datetime\n",
    "from datetime import date\n",
    "\n",
    "d = {'col0': [1, 2, 6], \n",
    "     'col1': [3, 8, 3], \n",
    "     'col2': ['17.02.1979', '11.11.1993', '01.08.1961']}\n",
    "\n",
    "# df = pd.DataFrame(data=d)\n",
    "\n",
    "# def calculate_age(born):\n",
    "#     born = datetime.strptime(born, \"%d.%m.%Y\").date()\n",
    "#     today = date.today()\n",
    "#     return today.year - born.year - ((today.month, today.day) < (born.month, born.day))\n",
    "\n",
    "# df['age'] = df['col6'].apply(calculate_age)\n",
    "# print(df)"
   ]
  },
  {
   "cell_type": "code",
   "execution_count": 93,
   "metadata": {},
   "outputs": [],
   "source": [
    "df = pd.DataFrame(data=d)"
   ]
  },
  {
   "cell_type": "code",
   "execution_count": 94,
   "metadata": {},
   "outputs": [],
   "source": [
    "def calculate_age(born):\n",
    "    born = datetime.strptime(born, \"%d.%m.%Y\").date()\n",
    "    today = date.today()\n",
    "    return today.year - born.year - ((today.month, today.day) < (born.month, born.day))\n"
   ]
  },
  {
   "cell_type": "code",
   "execution_count": 95,
   "metadata": {},
   "outputs": [
    {
     "name": "stdout",
     "output_type": "stream",
     "text": [
      "   col0  col1        col2  age\n",
      "0     1     3  17.02.1979   44\n",
      "1     2     8  11.11.1993   29\n",
      "2     6     3  01.08.1961   62\n"
     ]
    }
   ],
   "source": [
    "df['age'] = df['col2'].apply(calculate_age)\n",
    "print(df)"
   ]
  },
  {
   "cell_type": "code",
   "execution_count": null,
   "metadata": {},
   "outputs": [],
   "source": []
  },
  {
   "cell_type": "code",
   "execution_count": null,
   "metadata": {},
   "outputs": [],
   "source": []
  },
  {
   "cell_type": "code",
   "execution_count": null,
   "metadata": {},
   "outputs": [],
   "source": []
  },
  {
   "cell_type": "code",
   "execution_count": null,
   "metadata": {},
   "outputs": [],
   "source": []
  },
  {
   "cell_type": "code",
   "execution_count": null,
   "metadata": {},
   "outputs": [],
   "source": []
  },
  {
   "cell_type": "code",
   "execution_count": null,
   "metadata": {},
   "outputs": [],
   "source": []
  },
  {
   "cell_type": "code",
   "execution_count": null,
   "metadata": {},
   "outputs": [],
   "source": []
  },
  {
   "cell_type": "code",
   "execution_count": null,
   "metadata": {},
   "outputs": [],
   "source": []
  },
  {
   "cell_type": "code",
   "execution_count": null,
   "metadata": {},
   "outputs": [],
   "source": []
  },
  {
   "cell_type": "code",
   "execution_count": null,
   "metadata": {},
   "outputs": [],
   "source": []
  },
  {
   "cell_type": "code",
   "execution_count": null,
   "metadata": {},
   "outputs": [],
   "source": []
  },
  {
   "cell_type": "code",
   "execution_count": null,
   "metadata": {},
   "outputs": [],
   "source": []
  },
  {
   "cell_type": "code",
   "execution_count": null,
   "metadata": {},
   "outputs": [],
   "source": []
  },
  {
   "cell_type": "code",
   "execution_count": null,
   "metadata": {},
   "outputs": [],
   "source": []
  },
  {
   "cell_type": "code",
   "execution_count": null,
   "metadata": {},
   "outputs": [],
   "source": []
  }
 ],
 "metadata": {
  "celltoolbar": "Slideshow",
  "kernelspec": {
   "display_name": "Python 3 (ipykernel)",
   "language": "python",
   "name": "python3"
  },
  "language_info": {
   "codemirror_mode": {
    "name": "ipython",
    "version": 3
   },
   "file_extension": ".py",
   "mimetype": "text/x-python",
   "name": "python",
   "nbconvert_exporter": "python",
   "pygments_lexer": "ipython3",
   "version": "3.11.4"
  },
  "vscode": {
   "interpreter": {
    "hash": "301b31d429b14192281f7a701a91574750e8ba94d24452be6651b8a091308c8c"
   }
  }
 },
 "nbformat": 4,
 "nbformat_minor": 4
}
