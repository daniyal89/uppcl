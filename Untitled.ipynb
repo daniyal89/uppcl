{
 "cells": [
  {
   "cell_type": "code",
   "execution_count": 1,
   "id": "2aa88add-bdc4-4dbe-9cce-017c3859212e",
   "metadata": {
    "tags": []
   },
   "outputs": [
    {
     "name": "stdout",
     "output_type": "stream",
     "text": [
      "Original DataFrame:\n",
      "    A  B  C\n",
      "0  1  4  7\n",
      "1  2  5  8\n",
      "2  3  6  9\n",
      "\n",
      "After Applying Function: \n",
      "   A  B  C  add\n",
      "0  1  4  7   12\n",
      "1  2  5  8   15\n",
      "2  3  6  9   18\n"
     ]
    }
   ],
   "source": [
    "\n",
    "# Import pandas package\n",
    "import pandas as pd\n",
    " \n",
    "# Function to add\n",
    "def add(a, b, c):\n",
    "    return a + b + c\n",
    " \n",
    "def main():\n",
    "     \n",
    "    # create a dictionary with\n",
    "    # three fields each\n",
    "    data = {\n",
    "            'A':[1, 2, 3],\n",
    "            'B':[4, 5, 6],\n",
    "            'C':[7, 8, 9] }\n",
    "     \n",
    "    # Convert the dictionary into DataFrame\n",
    "    df = pd.DataFrame(data)\n",
    "    print(\"Original DataFrame:\\n\", df)\n",
    "     \n",
    "    df['add'] = df.apply(lambda row : add(row['A'],\n",
    "                     row['B'], row['C']), axis = 1)\n",
    "  \n",
    "    print('\\nAfter Applying Function: ')\n",
    "    # printing the new dataframe\n",
    "    print(df)\n",
    "  \n",
    "if __name__ == '__main__':\n",
    "    main()"
   ]
  },
  {
   "cell_type": "code",
   "execution_count": null,
   "id": "80f1e309-98c9-4c6a-bb61-4af04868a63e",
   "metadata": {},
   "outputs": [],
   "source": []
  }
 ],
 "metadata": {
  "kernelspec": {
   "display_name": "Python 3 (ipykernel)",
   "language": "python",
   "name": "python3"
  },
  "language_info": {
   "codemirror_mode": {
    "name": "ipython",
    "version": 3
   },
   "file_extension": ".py",
   "mimetype": "text/x-python",
   "name": "python",
   "nbconvert_exporter": "python",
   "pygments_lexer": "ipython3",
   "version": "3.11.4"
  }
 },
 "nbformat": 4,
 "nbformat_minor": 5
}
