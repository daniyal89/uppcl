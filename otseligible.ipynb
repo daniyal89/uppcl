{
 "cells": [
  {
   "cell_type": "code",
   "execution_count": 1,
   "id": "1fbb02b6-46a2-4867-871c-430e64060aae",
   "metadata": {
    "tags": []
   },
   "outputs": [],
   "source": [
    "import pandas as pd\n",
    "import numpy as np\n",
    "from joblib import Parallel, delayed\n",
    "from datetime import datetime \n",
    "import xlsxwriter\n",
    "import os, shutil\n",
    "\n",
    "import time"
   ]
  },
  {
   "cell_type": "code",
   "execution_count": 2,
   "id": "61c87c4f-551f-40df-8c50-c65f0dd63f9b",
   "metadata": {
    "tags": []
   },
   "outputs": [],
   "source": [
    "#  parameters\n",
    "circle=\"Zone\"\n",
    "month=\"nov2023\"\n",
    "month_doc=9\n",
    "month_unpaid=11\n",
    "date='22112023'\n",
    "ftpHost = 'ftp.uppclonline.com'\n",
    "ftpUname = 'mvftpreport'\n",
    "ftpPass = 'Mvftp@321'\n",
    "localFolderPath = f\".\\\\{month}\\\\ots\"\n",
    "remoteFolder = \"OTS_NOV2023/OTS_DATA/ELIGIBLE_LIST\"  \n",
    "# ftp://mvftpreport@ftp.uppclonline.com/OTS_NOV2023/OTS_DATA/ELIGIBLE_LIST/\n"
   ]
  },
  {
   "cell_type": "code",
   "execution_count": 3,
   "id": "84554218-e44c-462f-90f0-6f9566799af1",
   "metadata": {
    "tags": []
   },
   "outputs": [],
   "source": [
    "def bifurcation(column_name,area):\n",
    "    #area = [Circle,Division]\n",
    "# column_name = 'Country'\n",
    "# replace_symbols = ['>', '<', ':', '\"', '/', '\\\\\\\\', '\\|', '\\?', '\\*']\n",
    "# df[column_name] = (\n",
    "#     df[column_name].replace(replace_symbols, '', regex=True).str.strip().str.title()\n",
    "# )\n",
    "\n",
    "    os.mkdir(f'{month}/{circle}/master_{area}') \n",
    "    unique_values = df[column_name].unique()\n",
    "    print(unique_values)\n",
    "    for unique_value in unique_values:\n",
    "        start = time.time()\n",
    "        print(unique_value)\n",
    "        df_output = df[df[column_name].str.contains(unique_value)]\n",
    "        output_path = os.path.join(f'{month}/{circle}/master_{area}', str(unique_value) + '.csv')\n",
    "        df_output.to_csv(output_path, index=False)\n",
    "        end = time.time()\n",
    "        print(\"CSV:\", end - start)"
   ]
  },
  {
   "cell_type": "code",
   "execution_count": 4,
   "id": "dd6a4ce9-0946-40ea-8a78-f00f02baa5be",
   "metadata": {
    "tags": []
   },
   "outputs": [
    {
     "ename": "error_perm",
     "evalue": "550 Failed to change directory.",
     "output_type": "error",
     "traceback": [
      "\u001b[1;31m---------------------------------------------------------------------------\u001b[0m",
      "\u001b[1;31merror_perm\u001b[0m                                Traceback (most recent call last)",
      "Cell \u001b[1;32mIn[4], line 59\u001b[0m\n\u001b[0;32m     55\u001b[0m remoteFilenames \u001b[38;5;241m=\u001b[39m [ \u001b[38;5;124m'\u001b[39m\u001b[38;5;124mOTS_LIST1_2023.csv\u001b[39m\u001b[38;5;124m'\u001b[39m,\u001b[38;5;124m'\u001b[39m\u001b[38;5;124mOTS_LIST2_2023.csv\u001b[39m\u001b[38;5;124m'\u001b[39m,\u001b[38;5;124m'\u001b[39m\u001b[38;5;124mOTS_LIST3_2023.csv\u001b[39m\u001b[38;5;124m'\u001b[39m,\u001b[38;5;124m'\u001b[39m\u001b[38;5;124mOTS_LIST4_2023.csv\u001b[39m\u001b[38;5;124m'\u001b[39m,\u001b[38;5;124m'\u001b[39m\u001b[38;5;124mOTS_LIST5_2023.csv\u001b[39m\u001b[38;5;124m'\u001b[39m,\u001b[38;5;124m'\u001b[39m\u001b[38;5;124mOTS_LIST6_2023.csv\u001b[39m\u001b[38;5;124m'\u001b[39m,\u001b[38;5;124m'\u001b[39m\u001b[38;5;124mOTS_LIST7_2023.csv\u001b[39m\u001b[38;5;124m'\u001b[39m,\u001b[38;5;124m'\u001b[39m\u001b[38;5;124mOTS_LIST8_2023.csv\u001b[39m\u001b[38;5;124m'\u001b[39m]\n\u001b[0;32m     58\u001b[0m \u001b[38;5;66;03m# run the function to download the files from FTP server\u001b[39;00m\n\u001b[1;32m---> 59\u001b[0m isDownloadSuccess \u001b[38;5;241m=\u001b[39m downloadFilesFromFtp(\n\u001b[0;32m     60\u001b[0m     localFolderPath,remoteFilenames, ftpHost,ftpUname, ftpPass, remoteFolder)\n\u001b[0;32m     62\u001b[0m \u001b[38;5;28mprint\u001b[39m(\u001b[38;5;124m\"\u001b[39m\u001b[38;5;124mdownload status = \u001b[39m\u001b[38;5;132;01m{0}\u001b[39;00m\u001b[38;5;124m\"\u001b[39m\u001b[38;5;241m.\u001b[39mformat(isDownloadSuccess))\n",
      "Cell \u001b[1;32mIn[4], line 25\u001b[0m, in \u001b[0;36mdownloadFilesFromFtp\u001b[1;34m(localfolderPath, targetFilenames, ftpHost, ftpUname, ftpPass, remoteWorkingDirectory)\u001b[0m\n\u001b[0;32m     23\u001b[0m \u001b[38;5;66;03m# change current working directory if specified\u001b[39;00m\n\u001b[0;32m     24\u001b[0m \u001b[38;5;28;01mif\u001b[39;00m \u001b[38;5;129;01mnot\u001b[39;00m (remoteWorkingDirectory \u001b[38;5;241m==\u001b[39m \u001b[38;5;28;01mNone\u001b[39;00m \u001b[38;5;129;01mor\u001b[39;00m remoteWorkingDirectory\u001b[38;5;241m.\u001b[39mstrip() \u001b[38;5;241m==\u001b[39m \u001b[38;5;124m\"\u001b[39m\u001b[38;5;124m\"\u001b[39m):\n\u001b[1;32m---> 25\u001b[0m     _ \u001b[38;5;241m=\u001b[39m ftp\u001b[38;5;241m.\u001b[39mcwd(remoteWorkingDirectory)\n\u001b[0;32m     27\u001b[0m \u001b[38;5;66;03m# iterate through each remote filename and download\u001b[39;00m\n\u001b[0;32m     28\u001b[0m \u001b[38;5;28;01mfor\u001b[39;00m fItr \u001b[38;5;129;01min\u001b[39;00m \u001b[38;5;28mrange\u001b[39m(\u001b[38;5;28mlen\u001b[39m(targetFilenames)):\n",
      "File \u001b[1;32m~\\anaconda3\\Lib\\ftplib.py:625\u001b[0m, in \u001b[0;36mFTP.cwd\u001b[1;34m(self, dirname)\u001b[0m\n\u001b[0;32m    623\u001b[0m     dirname \u001b[38;5;241m=\u001b[39m \u001b[38;5;124m'\u001b[39m\u001b[38;5;124m.\u001b[39m\u001b[38;5;124m'\u001b[39m  \u001b[38;5;66;03m# does nothing, but could return error\u001b[39;00m\n\u001b[0;32m    624\u001b[0m cmd \u001b[38;5;241m=\u001b[39m \u001b[38;5;124m'\u001b[39m\u001b[38;5;124mCWD \u001b[39m\u001b[38;5;124m'\u001b[39m \u001b[38;5;241m+\u001b[39m dirname\n\u001b[1;32m--> 625\u001b[0m \u001b[38;5;28;01mreturn\u001b[39;00m \u001b[38;5;28mself\u001b[39m\u001b[38;5;241m.\u001b[39mvoidcmd(cmd)\n",
      "File \u001b[1;32m~\\anaconda3\\Lib\\ftplib.py:286\u001b[0m, in \u001b[0;36mFTP.voidcmd\u001b[1;34m(self, cmd)\u001b[0m\n\u001b[0;32m    284\u001b[0m \u001b[38;5;250m\u001b[39m\u001b[38;5;124;03m\"\"\"Send a command and expect a response beginning with '2'.\"\"\"\u001b[39;00m\n\u001b[0;32m    285\u001b[0m \u001b[38;5;28mself\u001b[39m\u001b[38;5;241m.\u001b[39mputcmd(cmd)\n\u001b[1;32m--> 286\u001b[0m \u001b[38;5;28;01mreturn\u001b[39;00m \u001b[38;5;28mself\u001b[39m\u001b[38;5;241m.\u001b[39mvoidresp()\n",
      "File \u001b[1;32m~\\anaconda3\\Lib\\ftplib.py:259\u001b[0m, in \u001b[0;36mFTP.voidresp\u001b[1;34m(self)\u001b[0m\n\u001b[0;32m    257\u001b[0m \u001b[38;5;28;01mdef\u001b[39;00m \u001b[38;5;21mvoidresp\u001b[39m(\u001b[38;5;28mself\u001b[39m):\n\u001b[0;32m    258\u001b[0m \u001b[38;5;250m    \u001b[39m\u001b[38;5;124;03m\"\"\"Expect a response beginning with '2'.\"\"\"\u001b[39;00m\n\u001b[1;32m--> 259\u001b[0m     resp \u001b[38;5;241m=\u001b[39m \u001b[38;5;28mself\u001b[39m\u001b[38;5;241m.\u001b[39mgetresp()\n\u001b[0;32m    260\u001b[0m     \u001b[38;5;28;01mif\u001b[39;00m resp[:\u001b[38;5;241m1\u001b[39m] \u001b[38;5;241m!=\u001b[39m \u001b[38;5;124m'\u001b[39m\u001b[38;5;124m2\u001b[39m\u001b[38;5;124m'\u001b[39m:\n\u001b[0;32m    261\u001b[0m         \u001b[38;5;28;01mraise\u001b[39;00m error_reply(resp)\n",
      "File \u001b[1;32m~\\anaconda3\\Lib\\ftplib.py:254\u001b[0m, in \u001b[0;36mFTP.getresp\u001b[1;34m(self)\u001b[0m\n\u001b[0;32m    252\u001b[0m     \u001b[38;5;28;01mraise\u001b[39;00m error_temp(resp)\n\u001b[0;32m    253\u001b[0m \u001b[38;5;28;01mif\u001b[39;00m c \u001b[38;5;241m==\u001b[39m \u001b[38;5;124m'\u001b[39m\u001b[38;5;124m5\u001b[39m\u001b[38;5;124m'\u001b[39m:\n\u001b[1;32m--> 254\u001b[0m     \u001b[38;5;28;01mraise\u001b[39;00m error_perm(resp)\n\u001b[0;32m    255\u001b[0m \u001b[38;5;28;01mraise\u001b[39;00m error_proto(resp)\n",
      "\u001b[1;31merror_perm\u001b[0m: 550 Failed to change directory."
     ]
    }
   ],
   "source": [
    "import ftplib\n",
    "import os\n",
    "import gzip\n",
    "import shutil\n",
    "import time\n",
    "\n",
    "\n",
    "\n",
    "def downloadFilesFromFtp(localfolderPath, targetFilenames, ftpHost, ftpUname, ftpPass, remoteWorkingDirectory):\n",
    "    # initialize the flag that specifies if download is success\n",
    "    isDownloadSuccess: bool = False\n",
    "\n",
    "    # create an FTP client instance, use the timeout parameter for slow connections only\n",
    "    ftp = ftplib.FTP(timeout=30)\n",
    "    ftp.encoding = \"utf-8\"\n",
    "\n",
    "    # connect to the FTP server\n",
    "    ftp.connect(ftpHost)\n",
    "\n",
    "    # login to the FTP server\n",
    "    ftp.login(ftpUname, ftpPass)\n",
    "\n",
    "    # change current working directory if specified\n",
    "    if not (remoteWorkingDirectory == None or remoteWorkingDirectory.strip() == \"\"):\n",
    "        _ = ftp.cwd(remoteWorkingDirectory)\n",
    "\n",
    "    # iterate through each remote filename and download\n",
    "    for fItr in range(len(targetFilenames)):\n",
    "        targetFilename = targetFilenames[fItr]\n",
    "        print(targetFilename)\n",
    "        # derive the local file path by appending the local folder path with remote filename\n",
    "        localFilePath = os.path.join(localfolderPath, targetFilename)\n",
    "        print(localFilePath)\n",
    "        print(\"downloading file {0}\".format(targetFilename))\n",
    "        # download FTP file using retrbinary function\n",
    "        with open(localFilePath, \"wb\") as file:\n",
    "            retCode = ftp.retrbinary(\"RETR \" + targetFilename, file.write)\n",
    "         \n",
    "        # with gzip.open(localFilePath, 'rb') as f_in:\n",
    "        #     with open(localFilePath[:-3], 'wb') as f_out:\n",
    "        #         shutil.copyfileobj(f_in, f_out)\n",
    "        # os.remove(localFilePath)\n",
    "    # read file\n",
    "            \n",
    "    # send QUIT command to the FTP server and close the connection\n",
    "    ftp.quit()\n",
    "\n",
    "    # check if download is success using the return code (retCode)\n",
    "    if retCode.startswith('226'):\n",
    "        isDownloadSuccess = True\n",
    "    return isDownloadSuccess\n",
    "\n",
    "\n",
    "\n",
    "remoteFilenames = [ 'OTS_LIST1_2023.csv','OTS_LIST2_2023.csv','OTS_LIST3_2023.csv','OTS_LIST4_2023.csv','OTS_LIST5_2023.csv','OTS_LIST6_2023.csv','OTS_LIST7_2023.csv','OTS_LIST8_2023.csv']\n",
    "\n",
    "\n",
    "# run the function to download the files from FTP server\n",
    "isDownloadSuccess = downloadFilesFromFtp(\n",
    "    localFolderPath,remoteFilenames, ftpHost,ftpUname, ftpPass, remoteFolder)\n",
    "\n",
    "print(\"download status = {0}\".format(isDownloadSuccess))"
   ]
  },
  {
   "cell_type": "code",
   "execution_count": 9,
   "id": "e1e1fe42-cc3f-4eb4-894f-02953fe849a0",
   "metadata": {
    "tags": []
   },
   "outputs": [],
   "source": [
    "bill=\"ots\""
   ]
  },
  {
   "cell_type": "code",
   "execution_count": 10,
   "id": "29adb913-46c9-4c43-be9a-b3f149228546",
   "metadata": {
    "tags": []
   },
   "outputs": [],
   "source": [
    "def loop(file_name):\n",
    "    return pd.read_csv(f\"{month}/{bill}/{file_name}\",encoding='windows-1252')"
   ]
  },
  {
   "cell_type": "code",
   "execution_count": 11,
   "id": "90501bb6-82da-4604-9a82-b7a7f516d0b1",
   "metadata": {
    "tags": []
   },
   "outputs": [],
   "source": [
    "mylist = os.listdir(f\"{month}/{bill}\")"
   ]
  },
  {
   "cell_type": "code",
   "execution_count": 12,
   "id": "861b4a25-fbc0-4ce6-ba91-e2c4938b0c96",
   "metadata": {
    "tags": []
   },
   "outputs": [
    {
     "data": {
      "text/plain": [
       "[]"
      ]
     },
     "execution_count": 12,
     "metadata": {},
     "output_type": "execute_result"
    }
   ],
   "source": [
    "mylist"
   ]
  },
  {
   "cell_type": "code",
   "execution_count": 7,
   "id": "f88fe0fb-cbc2-42ad-8e18-370baea14117",
   "metadata": {
    "tags": []
   },
   "outputs": [
    {
     "name": "stderr",
     "output_type": "stream",
     "text": [
      "[Parallel(n_jobs=-1)]: Using backend ThreadingBackend with 20 concurrent workers.\n",
      "C:\\Users\\HP\\AppData\\Local\\Temp\\ipykernel_22400\\994463276.py:2: DtypeWarning: Columns (3) have mixed types. Specify dtype option on import or set low_memory=False.\n",
      "  return pd.read_csv(f\"{month}/{bill}/{file_name}\",encoding='windows-1252')\n",
      "C:\\Users\\HP\\AppData\\Local\\Temp\\ipykernel_22400\\994463276.py:2: DtypeWarning: Columns (3) have mixed types. Specify dtype option on import or set low_memory=False.\n",
      "  return pd.read_csv(f\"{month}/{bill}/{file_name}\",encoding='windows-1252')\n",
      "[Parallel(n_jobs=-1)]: Done   2 out of   8 | elapsed:   24.2s remaining:  1.2min\n",
      "C:\\Users\\HP\\AppData\\Local\\Temp\\ipykernel_22400\\994463276.py:2: DtypeWarning: Columns (3) have mixed types. Specify dtype option on import or set low_memory=False.\n",
      "  return pd.read_csv(f\"{month}/{bill}/{file_name}\",encoding='windows-1252')\n",
      "[Parallel(n_jobs=-1)]: Done   3 out of   8 | elapsed:   26.0s remaining:   43.4s\n",
      "C:\\Users\\HP\\AppData\\Local\\Temp\\ipykernel_22400\\994463276.py:2: DtypeWarning: Columns (3) have mixed types. Specify dtype option on import or set low_memory=False.\n",
      "  return pd.read_csv(f\"{month}/{bill}/{file_name}\",encoding='windows-1252')\n",
      "C:\\Users\\HP\\AppData\\Local\\Temp\\ipykernel_22400\\994463276.py:2: DtypeWarning: Columns (3) have mixed types. Specify dtype option on import or set low_memory=False.\n",
      "  return pd.read_csv(f\"{month}/{bill}/{file_name}\",encoding='windows-1252')\n",
      "C:\\Users\\HP\\AppData\\Local\\Temp\\ipykernel_22400\\994463276.py:2: DtypeWarning: Columns (3) have mixed types. Specify dtype option on import or set low_memory=False.\n",
      "  return pd.read_csv(f\"{month}/{bill}/{file_name}\",encoding='windows-1252')\n",
      "[Parallel(n_jobs=-1)]: Done   4 out of   8 | elapsed:   27.2s remaining:   27.2s\n",
      "[Parallel(n_jobs=-1)]: Done   5 out of   8 | elapsed:   27.9s remaining:   16.7s\n",
      "C:\\Users\\HP\\AppData\\Local\\Temp\\ipykernel_22400\\994463276.py:2: DtypeWarning: Columns (3) have mixed types. Specify dtype option on import or set low_memory=False.\n",
      "  return pd.read_csv(f\"{month}/{bill}/{file_name}\",encoding='windows-1252')\n",
      "[Parallel(n_jobs=-1)]: Done   6 out of   8 | elapsed:   28.2s remaining:    9.3s\n",
      "C:\\Users\\HP\\AppData\\Local\\Temp\\ipykernel_22400\\994463276.py:2: DtypeWarning: Columns (3) have mixed types. Specify dtype option on import or set low_memory=False.\n",
      "  return pd.read_csv(f\"{month}/{bill}/{file_name}\",encoding='windows-1252')\n",
      "[Parallel(n_jobs=-1)]: Done   8 out of   8 | elapsed:   29.4s remaining:    0.0s\n",
      "[Parallel(n_jobs=-1)]: Done   8 out of   8 | elapsed:   29.4s finished\n"
     ]
    },
    {
     "name": "stdout",
     "output_type": "stream",
     "text": [
      "CSV: 32.46273851394653\n"
     ]
    }
   ],
   "source": [
    "start = time.time()\n",
    "df = []\n",
    "df = Parallel(n_jobs=-1, verbose=10,prefer=\"threads\")(delayed(loop)(file_name) for file_name in mylist)\n",
    "df = pd.concat(df, ignore_index=True)\n",
    "\n",
    "end = time.time()\n",
    "print(\"CSV:\", end - start)"
   ]
  },
  {
   "cell_type": "code",
   "execution_count": 8,
   "id": "eadb0a12-84ac-44c0-9226-8bd167abc7a1",
   "metadata": {
    "tags": []
   },
   "outputs": [],
   "source": [
    "df = df[(df['ZONE_NAME']=='DEVIPATAN')]"
   ]
  },
  {
   "cell_type": "code",
   "execution_count": null,
   "id": "88dbf0c7-da66-4c0b-a105-9a80625cdfa3",
   "metadata": {
    "tags": []
   },
   "outputs": [],
   "source": [
    "df.info()"
   ]
  },
  {
   "cell_type": "code",
   "execution_count": null,
   "id": "7f95a6a1-59fc-4ec7-ba2d-6d1f3c3b6a60",
   "metadata": {
    "tags": []
   },
   "outputs": [],
   "source": []
  },
  {
   "cell_type": "code",
   "execution_count": 9,
   "id": "44665bf7-e1e1-4912-a3e1-aa47a9691618",
   "metadata": {
    "tags": []
   },
   "outputs": [
    {
     "data": {
      "text/plain": [
       "TYP1A    1062507\n",
       "TYP1B      65559\n",
       "TYP2A      27313\n",
       "TYP5        7076\n",
       "TYP2B       2465\n",
       "TYP6         739\n",
       "TYP4          89\n",
       "Name: OTS_TYP, dtype: int64"
      ]
     },
     "execution_count": 9,
     "metadata": {},
     "output_type": "execute_result"
    }
   ],
   "source": [
    "df['OTS_TYP'].value_counts()"
   ]
  },
  {
   "cell_type": "code",
   "execution_count": 10,
   "id": "b74860df-4261-4c6e-b9ea-ddfd38540215",
   "metadata": {
    "tags": []
   },
   "outputs": [],
   "source": [
    "df['OTS_TYP'] = df['OTS_TYP'].astype('category')\n",
    "df['OTS_TYP'] = df['OTS_TYP'].cat.rename_categories({'TYP1B': 'LMV-1 (more than 1 kW)', 'TYP1A': 'LMV-1 (upto 1 kW)', 'TYP2B':'LMV-2 (more than 3 Kw)', 'TYP2A': 'LMV-2 (upto 3 kW)', 'TYP4':'LMV-4B', 'TYP5':'LMV-5', 'TYP6': 'LMV-6'})"
   ]
  },
  {
   "cell_type": "code",
   "execution_count": 11,
   "id": "cb120b53-4085-44c5-8b52-cf710304e9d1",
   "metadata": {
    "tags": []
   },
   "outputs": [],
   "source": [
    "ots_1=df.pivot_table(index=['CIRCLE_NAME','DIV_NAME'], columns=['OTS_TYP'],values=['ACCT_ID','TOTAL_AMT_PAYABLE_31OCT'],\n",
    "                    aggfunc={'ACCT_ID':'count','TOTAL_AMT_PAYABLE_31OCT':np.sum},fill_value=0,margins=True,margins_name='Total' )\n"
   ]
  },
  {
   "cell_type": "code",
   "execution_count": 13,
   "id": "11a83127-6796-4897-9d43-c541d47ef07e",
   "metadata": {
    "tags": []
   },
   "outputs": [
    {
     "ename": "ValueError",
     "evalue": "This sheet is too large! Your sheet size is: 1165753, 22 Max sheet size is: 1048576, 16384",
     "output_type": "error",
     "traceback": [
      "\u001b[1;31m---------------------------------------------------------------------------\u001b[0m",
      "\u001b[1;31mValueError\u001b[0m                                Traceback (most recent call last)",
      "Cell \u001b[1;32mIn[13], line 1\u001b[0m\n\u001b[1;32m----> 1\u001b[0m df\u001b[38;5;241m.\u001b[39mto_excel(\u001b[38;5;124mf\u001b[39m\u001b[38;5;124m\"\u001b[39m\u001b[38;5;132;01m{\u001b[39;00mmonth\u001b[38;5;132;01m}\u001b[39;00m\u001b[38;5;124m/\u001b[39m\u001b[38;5;132;01m{\u001b[39;00mcircle\u001b[38;5;132;01m}\u001b[39;00m\u001b[38;5;124m_cat_oct_eligible.xlsx\u001b[39m\u001b[38;5;124m\"\u001b[39m)\n",
      "File \u001b[1;32m~\\anaconda3\\Lib\\site-packages\\pandas\\util\\_decorators.py:211\u001b[0m, in \u001b[0;36mdeprecate_kwarg.<locals>._deprecate_kwarg.<locals>.wrapper\u001b[1;34m(*args, **kwargs)\u001b[0m\n\u001b[0;32m    209\u001b[0m     \u001b[38;5;28;01melse\u001b[39;00m:\n\u001b[0;32m    210\u001b[0m         kwargs[new_arg_name] \u001b[38;5;241m=\u001b[39m new_arg_value\n\u001b[1;32m--> 211\u001b[0m \u001b[38;5;28;01mreturn\u001b[39;00m func(\u001b[38;5;241m*\u001b[39margs, \u001b[38;5;241m*\u001b[39m\u001b[38;5;241m*\u001b[39mkwargs)\n",
      "File \u001b[1;32m~\\anaconda3\\Lib\\site-packages\\pandas\\util\\_decorators.py:211\u001b[0m, in \u001b[0;36mdeprecate_kwarg.<locals>._deprecate_kwarg.<locals>.wrapper\u001b[1;34m(*args, **kwargs)\u001b[0m\n\u001b[0;32m    209\u001b[0m     \u001b[38;5;28;01melse\u001b[39;00m:\n\u001b[0;32m    210\u001b[0m         kwargs[new_arg_name] \u001b[38;5;241m=\u001b[39m new_arg_value\n\u001b[1;32m--> 211\u001b[0m \u001b[38;5;28;01mreturn\u001b[39;00m func(\u001b[38;5;241m*\u001b[39margs, \u001b[38;5;241m*\u001b[39m\u001b[38;5;241m*\u001b[39mkwargs)\n",
      "File \u001b[1;32m~\\anaconda3\\Lib\\site-packages\\pandas\\core\\generic.py:2374\u001b[0m, in \u001b[0;36mNDFrame.to_excel\u001b[1;34m(self, excel_writer, sheet_name, na_rep, float_format, columns, header, index, index_label, startrow, startcol, engine, merge_cells, encoding, inf_rep, verbose, freeze_panes, storage_options)\u001b[0m\n\u001b[0;32m   2361\u001b[0m \u001b[38;5;28;01mfrom\u001b[39;00m \u001b[38;5;21;01mpandas\u001b[39;00m\u001b[38;5;21;01m.\u001b[39;00m\u001b[38;5;21;01mio\u001b[39;00m\u001b[38;5;21;01m.\u001b[39;00m\u001b[38;5;21;01mformats\u001b[39;00m\u001b[38;5;21;01m.\u001b[39;00m\u001b[38;5;21;01mexcel\u001b[39;00m \u001b[38;5;28;01mimport\u001b[39;00m ExcelFormatter\n\u001b[0;32m   2363\u001b[0m formatter \u001b[38;5;241m=\u001b[39m ExcelFormatter(\n\u001b[0;32m   2364\u001b[0m     df,\n\u001b[0;32m   2365\u001b[0m     na_rep\u001b[38;5;241m=\u001b[39mna_rep,\n\u001b[1;32m   (...)\u001b[0m\n\u001b[0;32m   2372\u001b[0m     inf_rep\u001b[38;5;241m=\u001b[39minf_rep,\n\u001b[0;32m   2373\u001b[0m )\n\u001b[1;32m-> 2374\u001b[0m formatter\u001b[38;5;241m.\u001b[39mwrite(\n\u001b[0;32m   2375\u001b[0m     excel_writer,\n\u001b[0;32m   2376\u001b[0m     sheet_name\u001b[38;5;241m=\u001b[39msheet_name,\n\u001b[0;32m   2377\u001b[0m     startrow\u001b[38;5;241m=\u001b[39mstartrow,\n\u001b[0;32m   2378\u001b[0m     startcol\u001b[38;5;241m=\u001b[39mstartcol,\n\u001b[0;32m   2379\u001b[0m     freeze_panes\u001b[38;5;241m=\u001b[39mfreeze_panes,\n\u001b[0;32m   2380\u001b[0m     engine\u001b[38;5;241m=\u001b[39mengine,\n\u001b[0;32m   2381\u001b[0m     storage_options\u001b[38;5;241m=\u001b[39mstorage_options,\n\u001b[0;32m   2382\u001b[0m )\n",
      "File \u001b[1;32m~\\anaconda3\\Lib\\site-packages\\pandas\\io\\formats\\excel.py:933\u001b[0m, in \u001b[0;36mExcelFormatter.write\u001b[1;34m(self, writer, sheet_name, startrow, startcol, freeze_panes, engine, storage_options)\u001b[0m\n\u001b[0;32m    931\u001b[0m num_rows, num_cols \u001b[38;5;241m=\u001b[39m \u001b[38;5;28mself\u001b[39m\u001b[38;5;241m.\u001b[39mdf\u001b[38;5;241m.\u001b[39mshape\n\u001b[0;32m    932\u001b[0m \u001b[38;5;28;01mif\u001b[39;00m num_rows \u001b[38;5;241m>\u001b[39m \u001b[38;5;28mself\u001b[39m\u001b[38;5;241m.\u001b[39mmax_rows \u001b[38;5;129;01mor\u001b[39;00m num_cols \u001b[38;5;241m>\u001b[39m \u001b[38;5;28mself\u001b[39m\u001b[38;5;241m.\u001b[39mmax_cols:\n\u001b[1;32m--> 933\u001b[0m     \u001b[38;5;28;01mraise\u001b[39;00m \u001b[38;5;167;01mValueError\u001b[39;00m(\n\u001b[0;32m    934\u001b[0m         \u001b[38;5;124mf\u001b[39m\u001b[38;5;124m\"\u001b[39m\u001b[38;5;124mThis sheet is too large! Your sheet size is: \u001b[39m\u001b[38;5;132;01m{\u001b[39;00mnum_rows\u001b[38;5;132;01m}\u001b[39;00m\u001b[38;5;124m, \u001b[39m\u001b[38;5;132;01m{\u001b[39;00mnum_cols\u001b[38;5;132;01m}\u001b[39;00m\u001b[38;5;124m \u001b[39m\u001b[38;5;124m\"\u001b[39m\n\u001b[0;32m    935\u001b[0m         \u001b[38;5;124mf\u001b[39m\u001b[38;5;124m\"\u001b[39m\u001b[38;5;124mMax sheet size is: \u001b[39m\u001b[38;5;132;01m{\u001b[39;00m\u001b[38;5;28mself\u001b[39m\u001b[38;5;241m.\u001b[39mmax_rows\u001b[38;5;132;01m}\u001b[39;00m\u001b[38;5;124m, \u001b[39m\u001b[38;5;132;01m{\u001b[39;00m\u001b[38;5;28mself\u001b[39m\u001b[38;5;241m.\u001b[39mmax_cols\u001b[38;5;132;01m}\u001b[39;00m\u001b[38;5;124m\"\u001b[39m\n\u001b[0;32m    936\u001b[0m     )\n\u001b[0;32m    938\u001b[0m formatted_cells \u001b[38;5;241m=\u001b[39m \u001b[38;5;28mself\u001b[39m\u001b[38;5;241m.\u001b[39mget_formatted_cells()\n\u001b[0;32m    939\u001b[0m \u001b[38;5;28;01mif\u001b[39;00m \u001b[38;5;28misinstance\u001b[39m(writer, ExcelWriter):\n",
      "\u001b[1;31mValueError\u001b[0m: This sheet is too large! Your sheet size is: 1165753, 22 Max sheet size is: 1048576, 16384"
     ]
    }
   ],
   "source": [
    "df.to_excel(f\"{month}/{circle}_cat_oct_eligible.xlsx\")"
   ]
  },
  {
   "cell_type": "code",
   "execution_count": 14,
   "id": "50742cd3-51e0-42fd-93a2-d7ab1ba641f2",
   "metadata": {
    "tags": []
   },
   "outputs": [
    {
     "data": {
      "text/plain": [
       "LMV-1 (upto 1 kW)         1062507\n",
       "LMV-1 (more than 1 kW)      65559\n",
       "LMV-2 (upto 3 kW)           27313\n",
       "LMV-5                        7076\n",
       "LMV-2 (more than 3 Kw)       2465\n",
       "LMV-6                         739\n",
       "LMV-4B                         89\n",
       "Name: OTS_TYP, dtype: int64"
      ]
     },
     "execution_count": 14,
     "metadata": {},
     "output_type": "execute_result"
    }
   ],
   "source": [
    "df['OTS_TYP'].value_counts()"
   ]
  },
  {
   "cell_type": "code",
   "execution_count": 15,
   "id": "e91f0d9d-eea6-4e40-8272-7e87a0b6f7ef",
   "metadata": {
    "tags": []
   },
   "outputs": [],
   "source": [
    "# df = df[df.OTS_TYP.isin(['LMV-2 (more than 3 Kw)', 'LMV-4B', 'LMV-5', 'LMV-6'])]\n",
    "df = df[df[\"TOTAL_AMT_PAYABLE_31OCT\"]>=100000]"
   ]
  },
  {
   "cell_type": "code",
   "execution_count": 21,
   "id": "2c747429-7f97-4b81-8492-36520fda39a9",
   "metadata": {
    "tags": []
   },
   "outputs": [],
   "source": [
    "df.to_excel(f\"{month}/{circle}_cat_oct_eligible1lac.xlsx\")"
   ]
  },
  {
   "cell_type": "code",
   "execution_count": 16,
   "id": "20d7790b-6e4f-4c14-ac11-b9c4388639aa",
   "metadata": {
    "tags": []
   },
   "outputs": [
    {
     "data": {
      "text/plain": [
       "LMV-1 (upto 1 kW)         28480\n",
       "LMV-1 (more than 1 kW)    12507\n",
       "LMV-2 (upto 3 kW)          2970\n",
       "LMV-5                      1081\n",
       "LMV-2 (more than 3 Kw)      447\n",
       "LMV-6                       157\n",
       "LMV-4B                        6\n",
       "Name: OTS_TYP, dtype: int64"
      ]
     },
     "execution_count": 16,
     "metadata": {},
     "output_type": "execute_result"
    }
   ],
   "source": [
    "df['OTS_TYP'].value_counts()"
   ]
  },
  {
   "cell_type": "code",
   "execution_count": 19,
   "id": "e6388ad1-19e1-4d0f-8551-ee5a0e2ccb85",
   "metadata": {
    "tags": []
   },
   "outputs": [
    {
     "ename": "FileExistsError",
     "evalue": "[WinError 183] Cannot create a file when that file already exists: 'oct2023/Zone/master_Circle'",
     "output_type": "error",
     "traceback": [
      "\u001b[1;31m---------------------------------------------------------------------------\u001b[0m",
      "\u001b[1;31mFileExistsError\u001b[0m                           Traceback (most recent call last)",
      "Cell \u001b[1;32mIn[19], line 1\u001b[0m\n\u001b[1;32m----> 1\u001b[0m bifurcation(\u001b[38;5;124m\"\u001b[39m\u001b[38;5;124mCIRCLE_NAME\u001b[39m\u001b[38;5;124m\"\u001b[39m,\u001b[38;5;124m'\u001b[39m\u001b[38;5;124mCircle\u001b[39m\u001b[38;5;124m'\u001b[39m)\n",
      "Cell \u001b[1;32mIn[18], line 9\u001b[0m, in \u001b[0;36mbifurcation\u001b[1;34m(column_name, area)\u001b[0m\n\u001b[0;32m      1\u001b[0m \u001b[38;5;28;01mdef\u001b[39;00m \u001b[38;5;21mbifurcation\u001b[39m(column_name,area):\n\u001b[0;32m      2\u001b[0m     \u001b[38;5;66;03m#area = [Circle,Division]\u001b[39;00m\n\u001b[0;32m      3\u001b[0m \u001b[38;5;66;03m# column_name = 'Country'\u001b[39;00m\n\u001b[1;32m   (...)\u001b[0m\n\u001b[0;32m      6\u001b[0m \u001b[38;5;66;03m#     df[column_name].replace(replace_symbols, '', regex=True).str.strip().str.title()\u001b[39;00m\n\u001b[0;32m      7\u001b[0m \u001b[38;5;66;03m# )\u001b[39;00m\n\u001b[1;32m----> 9\u001b[0m     os\u001b[38;5;241m.\u001b[39mmkdir(\u001b[38;5;124mf\u001b[39m\u001b[38;5;124m'\u001b[39m\u001b[38;5;132;01m{\u001b[39;00mmonth\u001b[38;5;132;01m}\u001b[39;00m\u001b[38;5;124m/\u001b[39m\u001b[38;5;132;01m{\u001b[39;00mcircle\u001b[38;5;132;01m}\u001b[39;00m\u001b[38;5;124m/master_\u001b[39m\u001b[38;5;132;01m{\u001b[39;00marea\u001b[38;5;132;01m}\u001b[39;00m\u001b[38;5;124m'\u001b[39m) \n\u001b[0;32m     10\u001b[0m     unique_values \u001b[38;5;241m=\u001b[39m df[column_name]\u001b[38;5;241m.\u001b[39munique()\n\u001b[0;32m     11\u001b[0m     \u001b[38;5;28mprint\u001b[39m(unique_values)\n",
      "\u001b[1;31mFileExistsError\u001b[0m: [WinError 183] Cannot create a file when that file already exists: 'oct2023/Zone/master_Circle'"
     ]
    }
   ],
   "source": [
    "bifurcation(\"CIRCLE_NAME\",'Circle1lac') "
   ]
  },
  {
   "cell_type": "code",
   "execution_count": 70,
   "id": "2f049524-20ca-4da7-829a-6082836a5cbc",
   "metadata": {
    "tags": []
   },
   "outputs": [
    {
     "data": {
      "text/plain": [
       "['EDD BALRAMPUR.csv',\n",
       " 'EDD I BAHRAICH.csv',\n",
       " 'EDD I GONDA.csv',\n",
       " 'EDD II BAHRAICH NANPARA.csv',\n",
       " 'EDD II GONDA.csv',\n",
       " 'EDD III BAHRAICH KAISERGANJ.csv',\n",
       " 'EDD III GONDA COLONELGANJ.csv',\n",
       " 'EDD IV GONDA MANAKPUR.csv',\n",
       " 'EDD SHARVASTI.csv',\n",
       " 'EDD TULSIPUR.csv']"
      ]
     },
     "execution_count": 70,
     "metadata": {},
     "output_type": "execute_result"
    }
   ],
   "source": [
    "\n",
    "# # names = df['OTS_TYP'].unique().tolist()\n",
    "# mylist = os.listdir(f\"{month}/zone/master_DIV_NAME_3\")\n",
    "# for file in mylist:\n",
    "#     writer = pandas.ExcelWriter(\"MyData.xlsx\", engine='xlsxwriter')\n",
    "\n",
    "# for myname in names:\n",
    "#     mydf = df.loc[df.name==myname]\n",
    "#     mydf.to_excel(writer, sheet_name=myname)\n",
    "\n",
    "# writer.save()"
   ]
  },
  {
   "cell_type": "code",
   "execution_count": 77,
   "id": "12fa4164-8378-4d3b-96ab-be3717c7ada5",
   "metadata": {
    "tags": []
   },
   "outputs": [],
   "source": [
    "import os\n",
    "\n",
    "directory_path = \"oct2023/zone/master_DIV_NAME_3\"\n",
    "directory_stat = os.stat(directory_path)\n",
    "uid = directory_stat.st_uid\n"
   ]
  },
  {
   "cell_type": "code",
   "execution_count": 79,
   "id": "37ed7f7b-36d2-4112-8b75-1fd727d68799",
   "metadata": {
    "tags": []
   },
   "outputs": [
    {
     "ename": "AttributeError",
     "evalue": "module 'os' has no attribute 'getuser'",
     "output_type": "error",
     "traceback": [
      "\u001b[1;31m---------------------------------------------------------------------------\u001b[0m",
      "\u001b[1;31mAttributeError\u001b[0m                            Traceback (most recent call last)",
      "Cell \u001b[1;32mIn[79], line 1\u001b[0m\n\u001b[1;32m----> 1\u001b[0m current_user \u001b[38;5;241m=\u001b[39m os\u001b[38;5;241m.\u001b[39mgetuser()\n\u001b[0;32m      2\u001b[0m os\u001b[38;5;241m.\u001b[39mchown(directory_path, current_user, current_user)\n",
      "\u001b[1;31mAttributeError\u001b[0m: module 'os' has no attribute 'getuser'"
     ]
    }
   ],
   "source": [
    "current_user = os.getuser()\n",
    "os.chown(directory_path, current_user, current_user)"
   ]
  },
  {
   "cell_type": "code",
   "execution_count": 80,
   "id": "d5d403de-2300-4c2f-8292-8a23b360d83e",
   "metadata": {
    "tags": []
   },
   "outputs": [],
   "source": [
    "os.chmod(directory_path, 0o700)"
   ]
  },
  {
   "cell_type": "code",
   "execution_count": 24,
   "id": "05e4c5f6-91c7-4c7e-866e-207269d1aab5",
   "metadata": {
    "tags": []
   },
   "outputs": [],
   "source": [
    "df.to_excel(f\"{month}/LESA_CIS.xlsx\")"
   ]
  },
  {
   "cell_type": "code",
   "execution_count": 86,
   "id": "51842a53-fdd2-4b1e-b97b-55cece4c6d9a",
   "metadata": {
    "tags": []
   },
   "outputs": [
    {
     "name": "stdout",
     "output_type": "stream",
     "text": [
      "EDD BALRAMPUR.csv\n",
      "EDD I BAHRAICH.csv\n",
      "EDD I GONDA.csv\n",
      "EDD II BAHRAICH NANPARA.csv\n",
      "EDD II GONDA.csv\n",
      "EDD III BAHRAICH KAISERGANJ.csv\n",
      "EDD III GONDA COLONELGANJ.csv\n",
      "EDD IV GONDA MANAKPUR.csv\n",
      "EDD SHARVASTI.csv\n",
      "EDD TULSIPUR.csv\n",
      "new\n"
     ]
    },
    {
     "ename": "PermissionError",
     "evalue": "[Errno 13] Permission denied: 'oct2023/zone/master_DIV_NAME_3/new'",
     "output_type": "error",
     "traceback": [
      "\u001b[1;31m---------------------------------------------------------------------------\u001b[0m",
      "\u001b[1;31mPermissionError\u001b[0m                           Traceback (most recent call last)",
      "Cell \u001b[1;32mIn[86], line 4\u001b[0m\n\u001b[0;32m      2\u001b[0m \u001b[38;5;28;01mfor\u001b[39;00m file \u001b[38;5;129;01min\u001b[39;00m mylist:\n\u001b[0;32m      3\u001b[0m     \u001b[38;5;28mprint\u001b[39m(file)\n\u001b[1;32m----> 4\u001b[0m     df \u001b[38;5;241m=\u001b[39m pd\u001b[38;5;241m.\u001b[39mread_csv(\u001b[38;5;124mf\u001b[39m\u001b[38;5;124m\"\u001b[39m\u001b[38;5;132;01m{\u001b[39;00mmonth\u001b[38;5;132;01m}\u001b[39;00m\u001b[38;5;124m/zone/master_DIV_NAME_3/\u001b[39m\u001b[38;5;132;01m{\u001b[39;00mfile\u001b[38;5;132;01m}\u001b[39;00m\u001b[38;5;124m\"\u001b[39m)\n",
      "File \u001b[1;32m~\\anaconda3\\Lib\\site-packages\\pandas\\util\\_decorators.py:211\u001b[0m, in \u001b[0;36mdeprecate_kwarg.<locals>._deprecate_kwarg.<locals>.wrapper\u001b[1;34m(*args, **kwargs)\u001b[0m\n\u001b[0;32m    209\u001b[0m     \u001b[38;5;28;01melse\u001b[39;00m:\n\u001b[0;32m    210\u001b[0m         kwargs[new_arg_name] \u001b[38;5;241m=\u001b[39m new_arg_value\n\u001b[1;32m--> 211\u001b[0m \u001b[38;5;28;01mreturn\u001b[39;00m func(\u001b[38;5;241m*\u001b[39margs, \u001b[38;5;241m*\u001b[39m\u001b[38;5;241m*\u001b[39mkwargs)\n",
      "File \u001b[1;32m~\\anaconda3\\Lib\\site-packages\\pandas\\util\\_decorators.py:331\u001b[0m, in \u001b[0;36mdeprecate_nonkeyword_arguments.<locals>.decorate.<locals>.wrapper\u001b[1;34m(*args, **kwargs)\u001b[0m\n\u001b[0;32m    325\u001b[0m \u001b[38;5;28;01mif\u001b[39;00m \u001b[38;5;28mlen\u001b[39m(args) \u001b[38;5;241m>\u001b[39m num_allow_args:\n\u001b[0;32m    326\u001b[0m     warnings\u001b[38;5;241m.\u001b[39mwarn(\n\u001b[0;32m    327\u001b[0m         msg\u001b[38;5;241m.\u001b[39mformat(arguments\u001b[38;5;241m=\u001b[39m_format_argument_list(allow_args)),\n\u001b[0;32m    328\u001b[0m         \u001b[38;5;167;01mFutureWarning\u001b[39;00m,\n\u001b[0;32m    329\u001b[0m         stacklevel\u001b[38;5;241m=\u001b[39mfind_stack_level(),\n\u001b[0;32m    330\u001b[0m     )\n\u001b[1;32m--> 331\u001b[0m \u001b[38;5;28;01mreturn\u001b[39;00m func(\u001b[38;5;241m*\u001b[39margs, \u001b[38;5;241m*\u001b[39m\u001b[38;5;241m*\u001b[39mkwargs)\n",
      "File \u001b[1;32m~\\anaconda3\\Lib\\site-packages\\pandas\\io\\parsers\\readers.py:950\u001b[0m, in \u001b[0;36mread_csv\u001b[1;34m(filepath_or_buffer, sep, delimiter, header, names, index_col, usecols, squeeze, prefix, mangle_dupe_cols, dtype, engine, converters, true_values, false_values, skipinitialspace, skiprows, skipfooter, nrows, na_values, keep_default_na, na_filter, verbose, skip_blank_lines, parse_dates, infer_datetime_format, keep_date_col, date_parser, dayfirst, cache_dates, iterator, chunksize, compression, thousands, decimal, lineterminator, quotechar, quoting, doublequote, escapechar, comment, encoding, encoding_errors, dialect, error_bad_lines, warn_bad_lines, on_bad_lines, delim_whitespace, low_memory, memory_map, float_precision, storage_options)\u001b[0m\n\u001b[0;32m    935\u001b[0m kwds_defaults \u001b[38;5;241m=\u001b[39m _refine_defaults_read(\n\u001b[0;32m    936\u001b[0m     dialect,\n\u001b[0;32m    937\u001b[0m     delimiter,\n\u001b[1;32m   (...)\u001b[0m\n\u001b[0;32m    946\u001b[0m     defaults\u001b[38;5;241m=\u001b[39m{\u001b[38;5;124m\"\u001b[39m\u001b[38;5;124mdelimiter\u001b[39m\u001b[38;5;124m\"\u001b[39m: \u001b[38;5;124m\"\u001b[39m\u001b[38;5;124m,\u001b[39m\u001b[38;5;124m\"\u001b[39m},\n\u001b[0;32m    947\u001b[0m )\n\u001b[0;32m    948\u001b[0m kwds\u001b[38;5;241m.\u001b[39mupdate(kwds_defaults)\n\u001b[1;32m--> 950\u001b[0m \u001b[38;5;28;01mreturn\u001b[39;00m _read(filepath_or_buffer, kwds)\n",
      "File \u001b[1;32m~\\anaconda3\\Lib\\site-packages\\pandas\\io\\parsers\\readers.py:605\u001b[0m, in \u001b[0;36m_read\u001b[1;34m(filepath_or_buffer, kwds)\u001b[0m\n\u001b[0;32m    602\u001b[0m _validate_names(kwds\u001b[38;5;241m.\u001b[39mget(\u001b[38;5;124m\"\u001b[39m\u001b[38;5;124mnames\u001b[39m\u001b[38;5;124m\"\u001b[39m, \u001b[38;5;28;01mNone\u001b[39;00m))\n\u001b[0;32m    604\u001b[0m \u001b[38;5;66;03m# Create the parser.\u001b[39;00m\n\u001b[1;32m--> 605\u001b[0m parser \u001b[38;5;241m=\u001b[39m TextFileReader(filepath_or_buffer, \u001b[38;5;241m*\u001b[39m\u001b[38;5;241m*\u001b[39mkwds)\n\u001b[0;32m    607\u001b[0m \u001b[38;5;28;01mif\u001b[39;00m chunksize \u001b[38;5;129;01mor\u001b[39;00m iterator:\n\u001b[0;32m    608\u001b[0m     \u001b[38;5;28;01mreturn\u001b[39;00m parser\n",
      "File \u001b[1;32m~\\anaconda3\\Lib\\site-packages\\pandas\\io\\parsers\\readers.py:1442\u001b[0m, in \u001b[0;36mTextFileReader.__init__\u001b[1;34m(self, f, engine, **kwds)\u001b[0m\n\u001b[0;32m   1439\u001b[0m     \u001b[38;5;28mself\u001b[39m\u001b[38;5;241m.\u001b[39moptions[\u001b[38;5;124m\"\u001b[39m\u001b[38;5;124mhas_index_names\u001b[39m\u001b[38;5;124m\"\u001b[39m] \u001b[38;5;241m=\u001b[39m kwds[\u001b[38;5;124m\"\u001b[39m\u001b[38;5;124mhas_index_names\u001b[39m\u001b[38;5;124m\"\u001b[39m]\n\u001b[0;32m   1441\u001b[0m \u001b[38;5;28mself\u001b[39m\u001b[38;5;241m.\u001b[39mhandles: IOHandles \u001b[38;5;241m|\u001b[39m \u001b[38;5;28;01mNone\u001b[39;00m \u001b[38;5;241m=\u001b[39m \u001b[38;5;28;01mNone\u001b[39;00m\n\u001b[1;32m-> 1442\u001b[0m \u001b[38;5;28mself\u001b[39m\u001b[38;5;241m.\u001b[39m_engine \u001b[38;5;241m=\u001b[39m \u001b[38;5;28mself\u001b[39m\u001b[38;5;241m.\u001b[39m_make_engine(f, \u001b[38;5;28mself\u001b[39m\u001b[38;5;241m.\u001b[39mengine)\n",
      "File \u001b[1;32m~\\anaconda3\\Lib\\site-packages\\pandas\\io\\parsers\\readers.py:1735\u001b[0m, in \u001b[0;36mTextFileReader._make_engine\u001b[1;34m(self, f, engine)\u001b[0m\n\u001b[0;32m   1733\u001b[0m     \u001b[38;5;28;01mif\u001b[39;00m \u001b[38;5;124m\"\u001b[39m\u001b[38;5;124mb\u001b[39m\u001b[38;5;124m\"\u001b[39m \u001b[38;5;129;01mnot\u001b[39;00m \u001b[38;5;129;01min\u001b[39;00m mode:\n\u001b[0;32m   1734\u001b[0m         mode \u001b[38;5;241m+\u001b[39m\u001b[38;5;241m=\u001b[39m \u001b[38;5;124m\"\u001b[39m\u001b[38;5;124mb\u001b[39m\u001b[38;5;124m\"\u001b[39m\n\u001b[1;32m-> 1735\u001b[0m \u001b[38;5;28mself\u001b[39m\u001b[38;5;241m.\u001b[39mhandles \u001b[38;5;241m=\u001b[39m get_handle(\n\u001b[0;32m   1736\u001b[0m     f,\n\u001b[0;32m   1737\u001b[0m     mode,\n\u001b[0;32m   1738\u001b[0m     encoding\u001b[38;5;241m=\u001b[39m\u001b[38;5;28mself\u001b[39m\u001b[38;5;241m.\u001b[39moptions\u001b[38;5;241m.\u001b[39mget(\u001b[38;5;124m\"\u001b[39m\u001b[38;5;124mencoding\u001b[39m\u001b[38;5;124m\"\u001b[39m, \u001b[38;5;28;01mNone\u001b[39;00m),\n\u001b[0;32m   1739\u001b[0m     compression\u001b[38;5;241m=\u001b[39m\u001b[38;5;28mself\u001b[39m\u001b[38;5;241m.\u001b[39moptions\u001b[38;5;241m.\u001b[39mget(\u001b[38;5;124m\"\u001b[39m\u001b[38;5;124mcompression\u001b[39m\u001b[38;5;124m\"\u001b[39m, \u001b[38;5;28;01mNone\u001b[39;00m),\n\u001b[0;32m   1740\u001b[0m     memory_map\u001b[38;5;241m=\u001b[39m\u001b[38;5;28mself\u001b[39m\u001b[38;5;241m.\u001b[39moptions\u001b[38;5;241m.\u001b[39mget(\u001b[38;5;124m\"\u001b[39m\u001b[38;5;124mmemory_map\u001b[39m\u001b[38;5;124m\"\u001b[39m, \u001b[38;5;28;01mFalse\u001b[39;00m),\n\u001b[0;32m   1741\u001b[0m     is_text\u001b[38;5;241m=\u001b[39mis_text,\n\u001b[0;32m   1742\u001b[0m     errors\u001b[38;5;241m=\u001b[39m\u001b[38;5;28mself\u001b[39m\u001b[38;5;241m.\u001b[39moptions\u001b[38;5;241m.\u001b[39mget(\u001b[38;5;124m\"\u001b[39m\u001b[38;5;124mencoding_errors\u001b[39m\u001b[38;5;124m\"\u001b[39m, \u001b[38;5;124m\"\u001b[39m\u001b[38;5;124mstrict\u001b[39m\u001b[38;5;124m\"\u001b[39m),\n\u001b[0;32m   1743\u001b[0m     storage_options\u001b[38;5;241m=\u001b[39m\u001b[38;5;28mself\u001b[39m\u001b[38;5;241m.\u001b[39moptions\u001b[38;5;241m.\u001b[39mget(\u001b[38;5;124m\"\u001b[39m\u001b[38;5;124mstorage_options\u001b[39m\u001b[38;5;124m\"\u001b[39m, \u001b[38;5;28;01mNone\u001b[39;00m),\n\u001b[0;32m   1744\u001b[0m )\n\u001b[0;32m   1745\u001b[0m \u001b[38;5;28;01massert\u001b[39;00m \u001b[38;5;28mself\u001b[39m\u001b[38;5;241m.\u001b[39mhandles \u001b[38;5;129;01mis\u001b[39;00m \u001b[38;5;129;01mnot\u001b[39;00m \u001b[38;5;28;01mNone\u001b[39;00m\n\u001b[0;32m   1746\u001b[0m f \u001b[38;5;241m=\u001b[39m \u001b[38;5;28mself\u001b[39m\u001b[38;5;241m.\u001b[39mhandles\u001b[38;5;241m.\u001b[39mhandle\n",
      "File \u001b[1;32m~\\anaconda3\\Lib\\site-packages\\pandas\\io\\common.py:856\u001b[0m, in \u001b[0;36mget_handle\u001b[1;34m(path_or_buf, mode, encoding, compression, memory_map, is_text, errors, storage_options)\u001b[0m\n\u001b[0;32m    851\u001b[0m \u001b[38;5;28;01melif\u001b[39;00m \u001b[38;5;28misinstance\u001b[39m(handle, \u001b[38;5;28mstr\u001b[39m):\n\u001b[0;32m    852\u001b[0m     \u001b[38;5;66;03m# Check whether the filename is to be opened in binary mode.\u001b[39;00m\n\u001b[0;32m    853\u001b[0m     \u001b[38;5;66;03m# Binary mode does not support 'encoding' and 'newline'.\u001b[39;00m\n\u001b[0;32m    854\u001b[0m     \u001b[38;5;28;01mif\u001b[39;00m ioargs\u001b[38;5;241m.\u001b[39mencoding \u001b[38;5;129;01mand\u001b[39;00m \u001b[38;5;124m\"\u001b[39m\u001b[38;5;124mb\u001b[39m\u001b[38;5;124m\"\u001b[39m \u001b[38;5;129;01mnot\u001b[39;00m \u001b[38;5;129;01min\u001b[39;00m ioargs\u001b[38;5;241m.\u001b[39mmode:\n\u001b[0;32m    855\u001b[0m         \u001b[38;5;66;03m# Encoding\u001b[39;00m\n\u001b[1;32m--> 856\u001b[0m         handle \u001b[38;5;241m=\u001b[39m \u001b[38;5;28mopen\u001b[39m(\n\u001b[0;32m    857\u001b[0m             handle,\n\u001b[0;32m    858\u001b[0m             ioargs\u001b[38;5;241m.\u001b[39mmode,\n\u001b[0;32m    859\u001b[0m             encoding\u001b[38;5;241m=\u001b[39mioargs\u001b[38;5;241m.\u001b[39mencoding,\n\u001b[0;32m    860\u001b[0m             errors\u001b[38;5;241m=\u001b[39merrors,\n\u001b[0;32m    861\u001b[0m             newline\u001b[38;5;241m=\u001b[39m\u001b[38;5;124m\"\u001b[39m\u001b[38;5;124m\"\u001b[39m,\n\u001b[0;32m    862\u001b[0m         )\n\u001b[0;32m    863\u001b[0m     \u001b[38;5;28;01melse\u001b[39;00m:\n\u001b[0;32m    864\u001b[0m         \u001b[38;5;66;03m# Binary mode\u001b[39;00m\n\u001b[0;32m    865\u001b[0m         handle \u001b[38;5;241m=\u001b[39m \u001b[38;5;28mopen\u001b[39m(handle, ioargs\u001b[38;5;241m.\u001b[39mmode)\n",
      "\u001b[1;31mPermissionError\u001b[0m: [Errno 13] Permission denied: 'oct2023/zone/master_DIV_NAME_3/new'"
     ]
    }
   ],
   "source": [
    "mylist = os.listdir(f\"{month}/zone/master_DIV_NAME_3\")\n",
    "for file in mylist:\n",
    "    print(file)\n",
    "    df = pd.read_csv(f\"{month}/zone/master_DIV_NAME_3/{file}\")"
   ]
  },
  {
   "cell_type": "code",
   "execution_count": 87,
   "id": "dfa8eab3-6a06-434a-bb04-7b583095743a",
   "metadata": {
    "tags": []
   },
   "outputs": [
    {
     "name": "stderr",
     "output_type": "stream",
     "text": [
      "C:\\Users\\HP\\AppData\\Local\\Temp\\ipykernel_21652\\306236240.py:13: FutureWarning: save is not part of the public API, usage can give unexpected results and will be removed in a future version\n",
      "  writer.save()\n",
      "C:\\Users\\HP\\AppData\\Local\\Temp\\ipykernel_21652\\306236240.py:13: FutureWarning: save is not part of the public API, usage can give unexpected results and will be removed in a future version\n",
      "  writer.save()\n",
      "C:\\Users\\HP\\AppData\\Local\\Temp\\ipykernel_21652\\306236240.py:13: FutureWarning: save is not part of the public API, usage can give unexpected results and will be removed in a future version\n",
      "  writer.save()\n",
      "C:\\Users\\HP\\AppData\\Local\\Temp\\ipykernel_21652\\306236240.py:13: FutureWarning: save is not part of the public API, usage can give unexpected results and will be removed in a future version\n",
      "  writer.save()\n",
      "C:\\Users\\HP\\AppData\\Local\\Temp\\ipykernel_21652\\306236240.py:13: FutureWarning: save is not part of the public API, usage can give unexpected results and will be removed in a future version\n",
      "  writer.save()\n",
      "C:\\Users\\HP\\AppData\\Local\\Temp\\ipykernel_21652\\306236240.py:13: FutureWarning: save is not part of the public API, usage can give unexpected results and will be removed in a future version\n",
      "  writer.save()\n",
      "C:\\Users\\HP\\AppData\\Local\\Temp\\ipykernel_21652\\306236240.py:13: FutureWarning: save is not part of the public API, usage can give unexpected results and will be removed in a future version\n",
      "  writer.save()\n",
      "C:\\Users\\HP\\AppData\\Local\\Temp\\ipykernel_21652\\306236240.py:13: FutureWarning: save is not part of the public API, usage can give unexpected results and will be removed in a future version\n",
      "  writer.save()\n",
      "C:\\Users\\HP\\AppData\\Local\\Temp\\ipykernel_21652\\306236240.py:13: FutureWarning: save is not part of the public API, usage can give unexpected results and will be removed in a future version\n",
      "  writer.save()\n",
      "C:\\Users\\HP\\AppData\\Local\\Temp\\ipykernel_21652\\306236240.py:13: FutureWarning: save is not part of the public API, usage can give unexpected results and will be removed in a future version\n",
      "  writer.save()\n"
     ]
    }
   ],
   "source": [
    "import pandas as pd\n",
    "\n",
    "# Read the Excel sheet into a Pandas DataFrame\n",
    "mylist = os.listdir(f\"{month}/zone/master_DIV_NAME_3\")\n",
    "for file in mylist:\n",
    "    df = pd.read_csv(f\"{month}/zone/master_DIV_NAME_3/{file}\")\n",
    "    \n",
    "    writer = pd.ExcelWriter(f\"{month}/new/{file[:-3]}.xlsx\",engine = 'xlsxwriter')\n",
    "    for cat in df['OTS_TYP'].unique():\n",
    "        newdf = df[df['OTS_TYP'] == cat]\n",
    "        newdf.to_excel(writer,sheet_name = cat,index = False)\n",
    "        \n",
    "    writer.save()\n",
    "\n",
    "# Split the DataFrame into multiple DataFrames based on the 'Country' column value\n",
    "#     df_split = df.groupby('OTS_TYP')\n",
    "\n",
    "# # Create a new Excel sheet for each DataFrame\n",
    "#     for name, group in df_split:\n",
    "#         group.to_excel(f'{month}/zone/master_DIV_NAME_3/new/{name}.xlsx', index=False)"
   ]
  },
  {
   "cell_type": "code",
   "execution_count": null,
   "id": "2c0e82c1-26dd-42d5-aa7e-8e6b4004af4e",
   "metadata": {},
   "outputs": [],
   "source": []
  }
 ],
 "metadata": {
  "kernelspec": {
   "display_name": "Python 3 (ipykernel)",
   "language": "python",
   "name": "python3"
  },
  "language_info": {
   "codemirror_mode": {
    "name": "ipython",
    "version": 3
   },
   "file_extension": ".py",
   "mimetype": "text/x-python",
   "name": "python",
   "nbconvert_exporter": "python",
   "pygments_lexer": "ipython3",
   "version": "3.11.4"
  }
 },
 "nbformat": 4,
 "nbformat_minor": 5
}
