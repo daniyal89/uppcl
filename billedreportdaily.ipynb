{
 "cells": [
  {
   "cell_type": "code",
   "execution_count": 5,
   "id": "72cbafa3-e42b-4fec-a4b9-a37cae5f4693",
   "metadata": {
    "tags": []
   },
   "outputs": [],
   "source": [
    "import pandas as pd\n",
    "import numpy as np\n",
    "from joblib import Parallel, delayed\n",
    "from datetime import datetime \n",
    "\n",
    "import time"
   ]
  },
  {
   "cell_type": "code",
   "execution_count": 6,
   "id": "a7ba4e2f-3cdf-4a0c-9fd5-b8e74ebbcd18",
   "metadata": {
    "tags": []
   },
   "outputs": [],
   "source": [
    "#  parameters\n",
    "circle=\"Zone\"\n",
    "month=\"nov2023\"\n",
    "month_doc=9\n",
    "month_unpaid=12\n",
    "date='28122023'\n",
    "ftpHost = 'ftp.uppclonline.com'\n",
    "ftpUname = 'mvftpreport'\n",
    "ftpPass = 'Mvftp@321'\n",
    "localFolderPath = f\".\\\\{month}\\\\billed\"\n",
    "remoteFolder = f\"CSV_BILLED/{date}\""
   ]
  },
  {
   "cell_type": "code",
   "execution_count": 7,
   "id": "768243d4-9f4c-48ff-b955-076fd8cf14e3",
   "metadata": {
    "tags": []
   },
   "outputs": [],
   "source": [
    "import os, shutil\n",
    "folder = f\".\\\\{month}\\\\billed\"\n",
    "for filename in os.listdir(folder):\n",
    "    file_path = os.path.join(folder, filename)\n",
    "    try:\n",
    "        if os.path.isfile(file_path) or os.path.islink(file_path):\n",
    "            os.unlink(file_path)\n",
    "        elif os.path.isdir(file_path):\n",
    "            shutil.rmtree(file_path)\n",
    "    except Exception as e:\n",
    "        print('Failed to delete %s. Reason: %s' % (file_path, e))\n",
    "        \n",
    "folder = f\".\\\\{month}\\\\unbilled\"\n",
    "for filename in os.listdir(folder):\n",
    "    file_path = os.path.join(folder, filename)\n",
    "    try:\n",
    "        if os.path.isfile(file_path) or os.path.islink(file_path):\n",
    "            os.unlink(file_path)\n",
    "        elif os.path.isdir(file_path):\n",
    "            shutil.rmtree(file_path)\n",
    "    except Exception as e:\n",
    "        print('Failed to delete %s. Reason: %s' % (file_path, e))"
   ]
  },
  {
   "cell_type": "code",
   "execution_count": 8,
   "id": "dac56dc2-ddb9-409b-a7d4-fb5aadb4f7d5",
   "metadata": {
    "tags": []
   },
   "outputs": [
    {
     "name": "stdout",
     "output_type": "stream",
     "text": [
      "BILLED_MVVNL_DIV354921_28122023.csv.gz\n",
      ".\\nov2023\\billed\\BILLED_MVVNL_DIV354921_28122023.csv.gz\n",
      "downloading file BILLED_MVVNL_DIV354921_28122023.csv.gz\n"
     ]
    },
    {
     "ename": "error_perm",
     "evalue": "550 Failed to open file.",
     "output_type": "error",
     "traceback": [
      "\u001b[1;31m---------------------------------------------------------------------------\u001b[0m",
      "\u001b[1;31merror_perm\u001b[0m                                Traceback (most recent call last)",
      "Cell \u001b[1;32mIn[8], line 59\u001b[0m\n\u001b[0;32m     55\u001b[0m remoteFilenames \u001b[38;5;241m=\u001b[39m [ \u001b[38;5;124mf\u001b[39m\u001b[38;5;124m'\u001b[39m\u001b[38;5;124mBILLED_MVVNL_DIV354921_\u001b[39m\u001b[38;5;132;01m{\u001b[39;00mdate\u001b[38;5;132;01m}\u001b[39;00m\u001b[38;5;124m.csv.gz\u001b[39m\u001b[38;5;124m'\u001b[39m, \u001b[38;5;124mf\u001b[39m\u001b[38;5;124m'\u001b[39m\u001b[38;5;124mBILLED_MVVNL_DIV354922_\u001b[39m\u001b[38;5;132;01m{\u001b[39;00mdate\u001b[38;5;132;01m}\u001b[39;00m\u001b[38;5;124m.csv.gz\u001b[39m\u001b[38;5;124m'\u001b[39m, \u001b[38;5;124mf\u001b[39m\u001b[38;5;124m'\u001b[39m\u001b[38;5;124mBILLED_MVVNL_DIV354923_\u001b[39m\u001b[38;5;132;01m{\u001b[39;00mdate\u001b[38;5;132;01m}\u001b[39;00m\u001b[38;5;124m.csv.gz\u001b[39m\u001b[38;5;124m'\u001b[39m, \u001b[38;5;124mf\u001b[39m\u001b[38;5;124m'\u001b[39m\u001b[38;5;124mBILLED_MVVNL_DIV355131_\u001b[39m\u001b[38;5;132;01m{\u001b[39;00mdate\u001b[38;5;132;01m}\u001b[39;00m\u001b[38;5;124m.csv.gz\u001b[39m\u001b[38;5;124m'\u001b[39m, \u001b[38;5;124mf\u001b[39m\u001b[38;5;124m'\u001b[39m\u001b[38;5;124mBILLED_MVVNL_DIV355132_\u001b[39m\u001b[38;5;132;01m{\u001b[39;00mdate\u001b[38;5;132;01m}\u001b[39;00m\u001b[38;5;124m.csv.gz\u001b[39m\u001b[38;5;124m'\u001b[39m, \u001b[38;5;124mf\u001b[39m\u001b[38;5;124m'\u001b[39m\u001b[38;5;124mBILLED_MVVNL_DIV355133_\u001b[39m\u001b[38;5;132;01m{\u001b[39;00mdate\u001b[38;5;132;01m}\u001b[39;00m\u001b[38;5;124m.csv.gz\u001b[39m\u001b[38;5;124m'\u001b[39m, \u001b[38;5;124mf\u001b[39m\u001b[38;5;124m'\u001b[39m\u001b[38;5;124mBILLED_MVVNL_DIV355211_\u001b[39m\u001b[38;5;132;01m{\u001b[39;00mdate\u001b[38;5;132;01m}\u001b[39;00m\u001b[38;5;124m.csv.gz\u001b[39m\u001b[38;5;124m'\u001b[39m, \u001b[38;5;124mf\u001b[39m\u001b[38;5;124m'\u001b[39m\u001b[38;5;124mBILLED_MVVNL_DIV355212_\u001b[39m\u001b[38;5;132;01m{\u001b[39;00mdate\u001b[38;5;132;01m}\u001b[39;00m\u001b[38;5;124m.csv.gz\u001b[39m\u001b[38;5;124m'\u001b[39m, \u001b[38;5;124mf\u001b[39m\u001b[38;5;124m'\u001b[39m\u001b[38;5;124mBILLED_MVVNL_DIV355213_\u001b[39m\u001b[38;5;132;01m{\u001b[39;00mdate\u001b[38;5;132;01m}\u001b[39;00m\u001b[38;5;124m.csv.gz\u001b[39m\u001b[38;5;124m'\u001b[39m, \u001b[38;5;124mf\u001b[39m\u001b[38;5;124m'\u001b[39m\u001b[38;5;124mBILLED_MVVNL_DIV355214_\u001b[39m\u001b[38;5;132;01m{\u001b[39;00mdate\u001b[38;5;132;01m}\u001b[39;00m\u001b[38;5;124m.csv.gz\u001b[39m\u001b[38;5;124m'\u001b[39m]\n\u001b[0;32m     58\u001b[0m \u001b[38;5;66;03m# run the function to download the files from FTP server\u001b[39;00m\n\u001b[1;32m---> 59\u001b[0m isDownloadSuccess \u001b[38;5;241m=\u001b[39m downloadFilesFromFtp(\n\u001b[0;32m     60\u001b[0m     localFolderPath,remoteFilenames, ftpHost,ftpUname, ftpPass, remoteFolder)\n\u001b[0;32m     62\u001b[0m \u001b[38;5;28mprint\u001b[39m(\u001b[38;5;124m\"\u001b[39m\u001b[38;5;124mdownload status = \u001b[39m\u001b[38;5;132;01m{0}\u001b[39;00m\u001b[38;5;124m\"\u001b[39m\u001b[38;5;241m.\u001b[39mformat(isDownloadSuccess))\n",
      "Cell \u001b[1;32mIn[8], line 37\u001b[0m, in \u001b[0;36mdownloadFilesFromFtp\u001b[1;34m(localfolderPath, targetFilenames, ftpHost, ftpUname, ftpPass, remoteWorkingDirectory)\u001b[0m\n\u001b[0;32m     35\u001b[0m \u001b[38;5;66;03m# download FTP file using retrbinary function\u001b[39;00m\n\u001b[0;32m     36\u001b[0m \u001b[38;5;28;01mwith\u001b[39;00m \u001b[38;5;28mopen\u001b[39m(localFilePath, \u001b[38;5;124m\"\u001b[39m\u001b[38;5;124mwb\u001b[39m\u001b[38;5;124m\"\u001b[39m) \u001b[38;5;28;01mas\u001b[39;00m file:\n\u001b[1;32m---> 37\u001b[0m     retCode \u001b[38;5;241m=\u001b[39m ftp\u001b[38;5;241m.\u001b[39mretrbinary(\u001b[38;5;124m\"\u001b[39m\u001b[38;5;124mRETR \u001b[39m\u001b[38;5;124m\"\u001b[39m \u001b[38;5;241m+\u001b[39m targetFilename, file\u001b[38;5;241m.\u001b[39mwrite)\n\u001b[0;32m     39\u001b[0m \u001b[38;5;28;01mwith\u001b[39;00m gzip\u001b[38;5;241m.\u001b[39mopen(localFilePath, \u001b[38;5;124m'\u001b[39m\u001b[38;5;124mrb\u001b[39m\u001b[38;5;124m'\u001b[39m) \u001b[38;5;28;01mas\u001b[39;00m f_in:\n\u001b[0;32m     40\u001b[0m     \u001b[38;5;28;01mwith\u001b[39;00m \u001b[38;5;28mopen\u001b[39m(localFilePath[:\u001b[38;5;241m-\u001b[39m\u001b[38;5;241m3\u001b[39m], \u001b[38;5;124m'\u001b[39m\u001b[38;5;124mwb\u001b[39m\u001b[38;5;124m'\u001b[39m) \u001b[38;5;28;01mas\u001b[39;00m f_out:\n",
      "File \u001b[1;32m~\\anaconda3\\Lib\\ftplib.py:436\u001b[0m, in \u001b[0;36mFTP.retrbinary\u001b[1;34m(self, cmd, callback, blocksize, rest)\u001b[0m\n\u001b[0;32m    422\u001b[0m \u001b[38;5;250m\u001b[39m\u001b[38;5;124;03m\"\"\"Retrieve data in binary mode.  A new port is created for you.\u001b[39;00m\n\u001b[0;32m    423\u001b[0m \n\u001b[0;32m    424\u001b[0m \u001b[38;5;124;03mArgs:\u001b[39;00m\n\u001b[1;32m   (...)\u001b[0m\n\u001b[0;32m    433\u001b[0m \u001b[38;5;124;03m  The response code.\u001b[39;00m\n\u001b[0;32m    434\u001b[0m \u001b[38;5;124;03m\"\"\"\u001b[39;00m\n\u001b[0;32m    435\u001b[0m \u001b[38;5;28mself\u001b[39m\u001b[38;5;241m.\u001b[39mvoidcmd(\u001b[38;5;124m'\u001b[39m\u001b[38;5;124mTYPE I\u001b[39m\u001b[38;5;124m'\u001b[39m)\n\u001b[1;32m--> 436\u001b[0m \u001b[38;5;28;01mwith\u001b[39;00m \u001b[38;5;28mself\u001b[39m\u001b[38;5;241m.\u001b[39mtransfercmd(cmd, rest) \u001b[38;5;28;01mas\u001b[39;00m conn:\n\u001b[0;32m    437\u001b[0m     \u001b[38;5;28;01mwhile\u001b[39;00m \u001b[38;5;241m1\u001b[39m:\n\u001b[0;32m    438\u001b[0m         data \u001b[38;5;241m=\u001b[39m conn\u001b[38;5;241m.\u001b[39mrecv(blocksize)\n",
      "File \u001b[1;32m~\\anaconda3\\Lib\\ftplib.py:393\u001b[0m, in \u001b[0;36mFTP.transfercmd\u001b[1;34m(self, cmd, rest)\u001b[0m\n\u001b[0;32m    391\u001b[0m \u001b[38;5;28;01mdef\u001b[39;00m \u001b[38;5;21mtransfercmd\u001b[39m(\u001b[38;5;28mself\u001b[39m, cmd, rest\u001b[38;5;241m=\u001b[39m\u001b[38;5;28;01mNone\u001b[39;00m):\n\u001b[0;32m    392\u001b[0m \u001b[38;5;250m    \u001b[39m\u001b[38;5;124;03m\"\"\"Like ntransfercmd() but returns only the socket.\"\"\"\u001b[39;00m\n\u001b[1;32m--> 393\u001b[0m     \u001b[38;5;28;01mreturn\u001b[39;00m \u001b[38;5;28mself\u001b[39m\u001b[38;5;241m.\u001b[39mntransfercmd(cmd, rest)[\u001b[38;5;241m0\u001b[39m]\n",
      "File \u001b[1;32m~\\anaconda3\\Lib\\ftplib.py:359\u001b[0m, in \u001b[0;36mFTP.ntransfercmd\u001b[1;34m(self, cmd, rest)\u001b[0m\n\u001b[0;32m    357\u001b[0m \u001b[38;5;28;01mif\u001b[39;00m rest \u001b[38;5;129;01mis\u001b[39;00m \u001b[38;5;129;01mnot\u001b[39;00m \u001b[38;5;28;01mNone\u001b[39;00m:\n\u001b[0;32m    358\u001b[0m     \u001b[38;5;28mself\u001b[39m\u001b[38;5;241m.\u001b[39msendcmd(\u001b[38;5;124m\"\u001b[39m\u001b[38;5;124mREST \u001b[39m\u001b[38;5;132;01m%s\u001b[39;00m\u001b[38;5;124m\"\u001b[39m \u001b[38;5;241m%\u001b[39m rest)\n\u001b[1;32m--> 359\u001b[0m resp \u001b[38;5;241m=\u001b[39m \u001b[38;5;28mself\u001b[39m\u001b[38;5;241m.\u001b[39msendcmd(cmd)\n\u001b[0;32m    360\u001b[0m \u001b[38;5;66;03m# Some servers apparently send a 200 reply to\u001b[39;00m\n\u001b[0;32m    361\u001b[0m \u001b[38;5;66;03m# a LIST or STOR command, before the 150 reply\u001b[39;00m\n\u001b[0;32m    362\u001b[0m \u001b[38;5;66;03m# (and way before the 226 reply). This seems to\u001b[39;00m\n\u001b[0;32m    363\u001b[0m \u001b[38;5;66;03m# be in violation of the protocol (which only allows\u001b[39;00m\n\u001b[0;32m    364\u001b[0m \u001b[38;5;66;03m# 1xx or error messages for LIST), so we just discard\u001b[39;00m\n\u001b[0;32m    365\u001b[0m \u001b[38;5;66;03m# this response.\u001b[39;00m\n\u001b[0;32m    366\u001b[0m \u001b[38;5;28;01mif\u001b[39;00m resp[\u001b[38;5;241m0\u001b[39m] \u001b[38;5;241m==\u001b[39m \u001b[38;5;124m'\u001b[39m\u001b[38;5;124m2\u001b[39m\u001b[38;5;124m'\u001b[39m:\n",
      "File \u001b[1;32m~\\anaconda3\\Lib\\ftplib.py:281\u001b[0m, in \u001b[0;36mFTP.sendcmd\u001b[1;34m(self, cmd)\u001b[0m\n\u001b[0;32m    279\u001b[0m \u001b[38;5;250m\u001b[39m\u001b[38;5;124;03m'''Send a command and return the response.'''\u001b[39;00m\n\u001b[0;32m    280\u001b[0m \u001b[38;5;28mself\u001b[39m\u001b[38;5;241m.\u001b[39mputcmd(cmd)\n\u001b[1;32m--> 281\u001b[0m \u001b[38;5;28;01mreturn\u001b[39;00m \u001b[38;5;28mself\u001b[39m\u001b[38;5;241m.\u001b[39mgetresp()\n",
      "File \u001b[1;32m~\\anaconda3\\Lib\\ftplib.py:254\u001b[0m, in \u001b[0;36mFTP.getresp\u001b[1;34m(self)\u001b[0m\n\u001b[0;32m    252\u001b[0m     \u001b[38;5;28;01mraise\u001b[39;00m error_temp(resp)\n\u001b[0;32m    253\u001b[0m \u001b[38;5;28;01mif\u001b[39;00m c \u001b[38;5;241m==\u001b[39m \u001b[38;5;124m'\u001b[39m\u001b[38;5;124m5\u001b[39m\u001b[38;5;124m'\u001b[39m:\n\u001b[1;32m--> 254\u001b[0m     \u001b[38;5;28;01mraise\u001b[39;00m error_perm(resp)\n\u001b[0;32m    255\u001b[0m \u001b[38;5;28;01mraise\u001b[39;00m error_proto(resp)\n",
      "\u001b[1;31merror_perm\u001b[0m: 550 Failed to open file."
     ]
    }
   ],
   "source": [
    "import ftplib\n",
    "import os\n",
    "import gzip\n",
    "import shutil\n",
    "import time\n",
    "\n",
    "\n",
    "\n",
    "def downloadFilesFromFtp(localfolderPath, targetFilenames, ftpHost, ftpUname, ftpPass, remoteWorkingDirectory):\n",
    "    # initialize the flag that specifies if download is success\n",
    "    isDownloadSuccess: bool = False\n",
    "\n",
    "    # create an FTP client instance, use the timeout parameter for slow connections only\n",
    "    ftp = ftplib.FTP(timeout=30)\n",
    "    ftp.encoding = \"utf-8\"\n",
    "\n",
    "    # connect to the FTP server\n",
    "    ftp.connect(ftpHost)\n",
    "\n",
    "    # login to the FTP server\n",
    "    ftp.login(ftpUname, ftpPass)\n",
    "\n",
    "    # change current working directory if specified\n",
    "    if not (remoteWorkingDirectory == None or remoteWorkingDirectory.strip() == \"\"):\n",
    "        _ = ftp.cwd(remoteWorkingDirectory)\n",
    "\n",
    "    # iterate through each remote filename and download\n",
    "    for fItr in range(len(targetFilenames)):\n",
    "        targetFilename = targetFilenames[fItr]\n",
    "        print(targetFilename)\n",
    "        # derive the local file path by appending the local folder path with remote filename\n",
    "        localFilePath = os.path.join(localfolderPath, targetFilename)\n",
    "        print(localFilePath)\n",
    "        print(\"downloading file {0}\".format(targetFilename))\n",
    "        # download FTP file using retrbinary function\n",
    "        with open(localFilePath, \"wb\") as file:\n",
    "            retCode = ftp.retrbinary(\"RETR \" + targetFilename, file.write)\n",
    "         \n",
    "        with gzip.open(localFilePath, 'rb') as f_in:\n",
    "            with open(localFilePath[:-3], 'wb') as f_out:\n",
    "                shutil.copyfileobj(f_in, f_out)\n",
    "        os.remove(localFilePath)\n",
    "    # read file\n",
    "            \n",
    "    # send QUIT command to the FTP server and close the connection\n",
    "    ftp.quit()\n",
    "\n",
    "    # check if download is success using the return code (retCode)\n",
    "    if retCode.startswith('226'):\n",
    "        isDownloadSuccess = True\n",
    "    return isDownloadSuccess\n",
    "\n",
    "\n",
    "\n",
    "remoteFilenames = [ f'BILLED_MVVNL_DIV354921_{date}.csv.gz', f'BILLED_MVVNL_DIV354922_{date}.csv.gz', f'BILLED_MVVNL_DIV354923_{date}.csv.gz', f'BILLED_MVVNL_DIV355131_{date}.csv.gz', f'BILLED_MVVNL_DIV355132_{date}.csv.gz', f'BILLED_MVVNL_DIV355133_{date}.csv.gz', f'BILLED_MVVNL_DIV355211_{date}.csv.gz', f'BILLED_MVVNL_DIV355212_{date}.csv.gz', f'BILLED_MVVNL_DIV355213_{date}.csv.gz', f'BILLED_MVVNL_DIV355214_{date}.csv.gz']\n",
    "\n",
    "\n",
    "# run the function to download the files from FTP server\n",
    "isDownloadSuccess = downloadFilesFromFtp(\n",
    "    localFolderPath,remoteFilenames, ftpHost,ftpUname, ftpPass, remoteFolder)\n",
    "\n",
    "print(\"download status = {0}\".format(isDownloadSuccess))"
   ]
  },
  {
   "cell_type": "code",
   "execution_count": null,
   "id": "42b1f4c5-6375-45f8-a9a9-e75c5814031f",
   "metadata": {
    "tags": []
   },
   "outputs": [],
   "source": [
    "bill=\"billed\""
   ]
  },
  {
   "cell_type": "code",
   "execution_count": null,
   "id": "251fbba8-efdc-4131-8839-eab582137342",
   "metadata": {},
   "outputs": [],
   "source": [
    "def loop(file_name):\n",
    "    return pd.read_csv(f\"{month}/{bill}/{file_name}\")"
   ]
  },
  {
   "cell_type": "code",
   "execution_count": null,
   "id": "c99ab4c4-979d-4203-bb3a-7346e7ad7050",
   "metadata": {},
   "outputs": [],
   "source": [
    "mylist = os.listdir(f\"{month}/{bill}\")"
   ]
  },
  {
   "cell_type": "code",
   "execution_count": null,
   "id": "ef3bdd0c-782e-4868-8971-6132a0541324",
   "metadata": {},
   "outputs": [],
   "source": [
    "mylist"
   ]
  },
  {
   "cell_type": "code",
   "execution_count": null,
   "id": "4cd64a63-1fad-4ceb-882a-11e5ae601ede",
   "metadata": {},
   "outputs": [],
   "source": [
    "start = time.time()\n",
    "billed = []\n",
    "billed = Parallel(n_jobs=-1, verbose=10,prefer=\"threads\")(delayed(loop)(file_name) for file_name in mylist)\n",
    "billed = pd.concat(billed, ignore_index=True)\n",
    "\n",
    "end = time.time()\n",
    "print(\"CSV:\", end - start)"
   ]
  },
  {
   "cell_type": "code",
   "execution_count": null,
   "id": "e38298cc-c3c7-4cff-b335-949b1fdd7687",
   "metadata": {},
   "outputs": [],
   "source": [
    "billed = billed[billed['ACCT_ID'].notna()]"
   ]
  },
  {
   "cell_type": "code",
   "execution_count": null,
   "id": "886887d7-d8b9-4266-b9e4-37aa50edb1d1",
   "metadata": {},
   "outputs": [],
   "source": [
    "cat = [ 'LMV2', 'LMV6','LMV4']"
   ]
  },
  {
   "cell_type": "code",
   "execution_count": null,
   "id": "733ae792-b793-4318-a466-5f0252310753",
   "metadata": {},
   "outputs": [],
   "source": [
    "div_billed=billed[(billed.TARIFF_TYPE.isin(cat))].pivot_table(index=['CIRCLE_NAME','DIV_NAME'], columns=['BILL_BASIS'],values=['ACCT_ID'],\n",
    "                    aggfunc={'ACCT_ID':'count'},fill_value=0 )"
   ]
  },
  {
   "cell_type": "code",
   "execution_count": null,
   "id": "9b4784d8-1688-4361-b632-ed02917e9c2f",
   "metadata": {
    "tags": []
   },
   "outputs": [],
   "source": [
    "div_billed.to_excel(f\"{month}/zone/report/{circle}_{date}_billed.xlsx\")"
   ]
  },
  {
   "cell_type": "code",
   "execution_count": null,
   "id": "62d148a9-9262-46ca-8f1b-e3c741f09600",
   "metadata": {},
   "outputs": [],
   "source": []
  }
 ],
 "metadata": {
  "kernelspec": {
   "display_name": "Python 3 (ipykernel)",
   "language": "python",
   "name": "python3"
  },
  "language_info": {
   "codemirror_mode": {
    "name": "ipython",
    "version": 3
   },
   "file_extension": ".py",
   "mimetype": "text/x-python",
   "name": "python",
   "nbconvert_exporter": "python",
   "pygments_lexer": "ipython3",
   "version": "3.11.4"
  }
 },
 "nbformat": 4,
 "nbformat_minor": 5
}
