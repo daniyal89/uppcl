{
 "cells": [
  {
   "cell_type": "code",
   "execution_count": 1,
   "id": "bae48474-1571-49e1-a8a6-6c51af1d046b",
   "metadata": {
    "tags": []
   },
   "outputs": [],
   "source": [
    "import pandas as pd\n",
    "import numpy as np\n",
    "from joblib import Parallel, delayed\n",
    "from datetime import datetime \n",
    "import math\n",
    "import time\n"
   ]
  },
  {
   "cell_type": "code",
   "execution_count": 2,
   "id": "67a9a018-3ae3-410a-8f3d-50dcad7161a4",
   "metadata": {
    "tags": []
   },
   "outputs": [],
   "source": [
    "pd.options.display.max_rows = 10000\n"
   ]
  },
  {
   "cell_type": "code",
   "execution_count": 10,
   "id": "f901516d-448c-43e5-9197-4d06fbb8147e",
   "metadata": {
    "tags": []
   },
   "outputs": [],
   "source": [
    "\n",
    "#  parameters\n",
    "# %env PROVIDER_API_KEY=YOUR_API_KEY_HERE\n",
    "circle=\"zone\"\n",
    "month=\"aug2023\"\n",
    "month_doc=8\n",
    "month_unpaid=10\n",
    "\n",
    "date='DEC_2023'\n",
    "ftpHost = 'ftp.uppclonline.com'\n",
    "ftpUname = 'mvftpreport'\n",
    "ftpPass = 'Mvftp@321'\n",
    "localFolderPath = f\".\\{month}\\{circle}\\master\"\n",
    "remoteFolder = \"MASTER_DATA/DEC_2023\""
   ]
  },
  {
   "cell_type": "code",
   "execution_count": 11,
   "id": "bbef3223-f025-4cb6-bc92-468c09c1e9dc",
   "metadata": {
    "tags": []
   },
   "outputs": [],
   "source": [
    "# import ftplib\n",
    "# import os\n",
    "# import gzip\n",
    "# import shutil\n",
    "# import time\n",
    "\n",
    "\n",
    "\n",
    "# def downloadFilesFromFtp(localfolderPath, targetFilenames, ftpHost, ftpUname, ftpPass, remoteWorkingDirectory):\n",
    "#     # initialize the flag that specifies if download is success\n",
    "#     isDownloadSuccess: bool = False\n",
    "\n",
    "#     # create an FTP client instance, use the timeout parameter for slow connections only\n",
    "#     ftp = ftplib.FTP(timeout=30)\n",
    "#     ftp.encoding = \"utf-8\"\n",
    "\n",
    "#     # connect to the FTP server\n",
    "#     ftp.connect(ftpHost)\n",
    "\n",
    "#     # login to the FTP server\n",
    "#     ftp.login(ftpUname, ftpPass)\n",
    "\n",
    "#     # change current working directory if specified\n",
    "#     if not (remoteWorkingDirectory == None or remoteWorkingDirectory.strip() == \"\"):\n",
    "#         _ = ftp.cwd(remoteWorkingDirectory)\n",
    "\n",
    "#     # iterate through each remote filename and download\n",
    "#     for fItr in range(len(targetFilenames)):\n",
    "#         targetFilename = targetFilenames[fItr]\n",
    "#         # derive the local file path by appending the local folder path with remote filename\n",
    "#         localFilePath = os.path.join(localfolderPath, targetFilename)\n",
    "     \n",
    "#         print(\"downloading file {0}\".format(targetFilename))\n",
    "#         # download FTP file using retrbinary function\n",
    "#         with open(localFilePath, \"wb\") as file:\n",
    "#             retCode = ftp.retrbinary(\"RETR \" + targetFilename, file.write)\n",
    "         \n",
    "#         with gzip.open(localFilePath, 'rb') as f_in:\n",
    "#             with open(localFilePath[:-3], 'wb') as f_out:\n",
    "#                 shutil.copyfileobj(f_in, f_out)\n",
    "#         os.remove(localFilePath)\n",
    "#     # read file\n",
    "            \n",
    "#     # send QUIT command to the FTP server and close the connection\n",
    "#     ftp.quit()\n",
    "\n",
    "#     # check if download is success using the return code (retCode)\n",
    "#     if retCode.startswith('226'):\n",
    "#         isDownloadSuccess = True\n",
    "#     return isDownloadSuccess\n",
    "\n",
    "\n",
    "\n",
    "# remoteFilenames = [ f'MASTER_MVVNL_DIV354921_{date}.csv.gz', f'MASTER_MVVNL_DIV354922_{date}.csv.gz', f'MASTER_MVVNL_DIV354923_{date}.csv.gz', f'MASTER_MVVNL_DIV355131_{date}.csv.gz', f'MASTER_MVVNL_DIV355132_{date}.csv.gz', f'MASTER_MVVNL_DIV355133_{date}.csv.gz', f'MASTER_MVVNL_DIV355211_{date}.csv.gz', f'MASTER_MVVNL_DIV355212_{date}.csv.gz', f'MASTER_MVVNL_DIV355213_{date}.csv.gz', f'MASTER_MVVNL_DIV355214_{date}.csv.gz']\n",
    "\n",
    "# # run the function to download the files from FTP server\n",
    "# isDownloadSuccess = downloadFilesFromFtp(\n",
    "#     localFolderPath,remoteFilenames, ftpHost,ftpUname, ftpPass, remoteFolder)\n",
    "\n",
    "# print(\"download status = {0}\".format(isDownloadSuccess))"
   ]
  },
  {
   "cell_type": "code",
   "execution_count": 12,
   "id": "d0f9711e-93e7-4bdd-8e1d-ff75bd27bae4",
   "metadata": {
    "tags": []
   },
   "outputs": [],
   "source": [
    "def loop(file_name):\n",
    "    return pd.read_csv(f\"{month}/{circle}/master/{file_name}\",on_bad_lines='skip')"
   ]
  },
  {
   "cell_type": "code",
   "execution_count": 13,
   "id": "13392212-1f47-4d1c-ae62-993b4ee62aaf",
   "metadata": {
    "tags": []
   },
   "outputs": [],
   "source": [
    "import os\n",
    "\n",
    "mylist = os.listdir(f\"{month}/{circle}/master\")"
   ]
  },
  {
   "cell_type": "code",
   "execution_count": null,
   "id": "0cddcd52-41e2-4cfd-8dff-8cb9eb2f6076",
   "metadata": {
    "tags": []
   },
   "outputs": [],
   "source": []
  },
  {
   "cell_type": "code",
   "execution_count": 14,
   "id": "281a7e02-4ed9-4b4b-bb86-daaa4c6da367",
   "metadata": {
    "tags": []
   },
   "outputs": [],
   "source": [
    "def bifurcation(column_name,area):\n",
    "    #area = [Circle,Division]\n",
    "# column_name = 'Country'\n",
    "# replace_symbols = ['>', '<', ':', '\"', '/', '\\\\\\\\', '\\|', '\\?', '\\*']\n",
    "# df[column_name] = (\n",
    "#     df[column_name].replace(replace_symbols, '', regex=True).str.strip().str.title()\n",
    "# )\n",
    "\n",
    "    os.mkdir(f'{month}/{circle}/master_{area}') \n",
    "    unique_values = df[column_name].unique()\n",
    "    print(unique_values)\n",
    "    for unique_value in unique_values:\n",
    "        start = time.time()\n",
    "        print(unique_value)\n",
    "        df_output = df[df[column_name].str.contains(unique_value)]\n",
    "        output_path = os.path.join(f'{month}/{circle}/master_{area}', str(unique_value) + '.csv')\n",
    "        df_output.to_csv(output_path, index=False)\n",
    "        end = time.time()\n",
    "        print(\"CSV:\", end - start)"
   ]
  },
  {
   "cell_type": "code",
   "execution_count": 15,
   "id": "2b0f9aa6-b9ef-47cd-9bb3-40fc8096c6d9",
   "metadata": {
    "tags": []
   },
   "outputs": [
    {
     "data": {
      "text/plain": [
       "['MASTER_MVVNL_DIV354921_AUG_2023.csv',\n",
       " 'MASTER_MVVNL_DIV354922_AUG_2023.csv',\n",
       " 'MASTER_MVVNL_DIV354923_AUG_2023.csv',\n",
       " 'MASTER_MVVNL_DIV355131_AUG_2023.csv',\n",
       " 'MASTER_MVVNL_DIV355132_AUG_2023.csv',\n",
       " 'MASTER_MVVNL_DIV355133_AUG_2023.csv',\n",
       " 'MASTER_MVVNL_DIV355211_AUG_2023.csv',\n",
       " 'MASTER_MVVNL_DIV355212_AUG_2023.csv',\n",
       " 'MASTER_MVVNL_DIV355213_AUG_2023.csv',\n",
       " 'MASTER_MVVNL_DIV355214_AUG_2023.csv']"
      ]
     },
     "execution_count": 15,
     "metadata": {},
     "output_type": "execute_result"
    }
   ],
   "source": [
    "mylist"
   ]
  },
  {
   "cell_type": "code",
   "execution_count": 16,
   "id": "99f05d68-73eb-4624-a67f-e1dd5b42356e",
   "metadata": {
    "tags": []
   },
   "outputs": [],
   "source": [
    "def NonGOVT(df):\n",
    "    convert_dict = {'SUPPLY_TYPE': str,\n",
    "                \n",
    "                }\n",
    " \n",
    "    df = df.astype(convert_dict)\n",
    "    df['SUPPLY_TYPE'] = df['SUPPLY_TYPE'].astype(str).str.replace('\\\\.0+$', '')\n",
    "    govt = ['30','31','32','33','34','35','36','37','38','39','40','40A', '41', '41A', '42', '42A', '43', '44', '45','48','72','73','74','75','80','81','82','83','100','101','102','103','104','105','106','107','80B','42A','41A','40A','H31'\n",
    "           'H32','H33','H41','H42','H43','HV41','H13','H14']\n",
    "    govt = [str(x) for x in govt]\n",
    "    df['gov_flag'] = df['SUPPLY_TYPE'].isin(govt)\n",
    "    return df"
   ]
  },
  {
   "cell_type": "code",
   "execution_count": 17,
   "id": "fe926cd8-120f-42dd-a826-e8d82ce46184",
   "metadata": {
    "tags": []
   },
   "outputs": [],
   "source": [
    "def relGov(df):\n",
    "#    ((df['gov_flag'] == False) & ( (pd.isnull(df['GOVT_CODE'] )))) \n",
    "    df['relGov'] = 'Goverment'\n",
    "    df.loc[(pd.isnull(df['GOVT_CODE'] ))  ,\"relGov\"] = 'Non-Goverment'\n",
    "    return df"
   ]
  },
  {
   "cell_type": "code",
   "execution_count": 18,
   "id": "fc04639a-10d6-4986-825f-f7e987c3022e",
   "metadata": {
    "tags": []
   },
   "outputs": [],
   "source": [
    "def arrear(df):\n",
    "    \n",
    "#     df = df[df['TOTAL_OUTSTANDING'] > 0]\n",
    "    df['ARREAR_FILTER'] = None\n",
    "    # df.loc[(df['TOTAL_OUTSTANDING'] < 5000) ,\"ARREAR_FILTER\"] = \"<5k\"\n",
    "    # df.loc[((df['TOTAL_OUTSTANDING'] >= 5000) & (df['TOTAL_OUTSTANDING'] < 100000)),\"ARREAR_FILTER\"] = \"Between 5K-25K\t\"\n",
    "    # df.loc[((df['TOTAL_OUTSTANDING'] >= 25000) & (df['TOTAL_OUTSTANDING'] < 50000)),\"ARREAR_FILTER\"] = \"Between 25K-50K\"\n",
    "    # df.loc[((df['TOTAL_OUTSTANDING'] >= 50000) & (df['TOTAL_OUTSTANDING'] < 100000)),\"ARREAR_FILTER\"] = \"Between 50K-1Lac\"\n",
    "    # df.loc[df['TOTAL_OUTSTANDING'] >= 100000,\"ARREAR_FILTER\"] = \"Above 1Lac\"\n",
    "    df.loc[(df['arrear_withot_Lpsc'] < 5000) ,\"ARREAR_FILTER\"] = \"<5k\"\n",
    "    df.loc[((df['arrear_withot_Lpsc'] >= 5000) & (df['arrear_withot_Lpsc'] < 100000)),\"ARREAR_FILTER\"] = \"Between 5K-25K\"\n",
    "    df.loc[((df['arrear_withot_Lpsc'] >= 25000) & (df['arrear_withot_Lpsc'] < 50000)),\"ARREAR_FILTER\"] = \"Between 25K-50K\"\n",
    "    df.loc[((df['arrear_withot_Lpsc'] >= 50000) & (df['arrear_withot_Lpsc'] < 100000)),\"ARREAR_FILTER\"] = \"Between 50K-1Lac\"\n",
    "    df.loc[df['arrear_withot_Lpsc'] >= 100000,\"ARREAR_FILTER\"] = \"Above 1Lac\"\n",
    "    \n",
    "    \n",
    "    return df"
   ]
  },
  {
   "cell_type": "code",
   "execution_count": 19,
   "id": "ea6c488a-a8b1-4695-aa1a-889c7a09bf62",
   "metadata": {
    "tags": []
   },
   "outputs": [],
   "source": [
    "\n",
    "def low_consumtion_filter(df):\n",
    "    \n",
    "#     df = df[df['TOTAL_OUTSTANDING'] > 0]\n",
    "    df['low_consumtion_filter'] = None\n",
    "    df.loc[df['CONSUMPTION_CURR_MNTH'] <= 10,\"low_consumtion_filter\"] = \"0-10\"\n",
    "    df.loc[((df['CONSUMPTION_CURR_MNTH'] > 10 ) & (df['CONSUMPTION_CURR_MNTH'] <= 30)),\"low_consumtion_filter\"] = \"10-30\"\n",
    "    df.loc[((df['CONSUMPTION_CURR_MNTH'] > 30) & (df['CONSUMPTION_CURR_MNTH'] <= 50)),\"low_consumtion_filter\"] = \"30-50\"\n",
    "    df.loc[((df['CONSUMPTION_CURR_MNTH'] > 50) & (df['CONSUMPTION_CURR_MNTH'] <=100)),\"low_consumtion_filter\"] = \"50-100\"\n",
    "    df.loc[df['CONSUMPTION_CURR_MNTH'] > 100,\"low_consumtion_filter\"] = \"> 100\"\n",
    "    \n",
    "    return df"
   ]
  },
  {
   "cell_type": "code",
   "execution_count": 46,
   "id": "95d93351",
   "metadata": {},
   "outputs": [],
   "source": [
    "def life_line(df):\n",
    "    \n",
    "#     df = df[df['TOTAL_OUTSTANDING'] > 0]\n",
    "    df['life_line'] = False\n",
    "#     df.loc[df['CONSUMPTION_CURR_MNTH'] <= 10,\"low_consumtion_filter\"] = \"0-10\"\n",
    "#     df.loc[((df['CONSUMPTION_CURR_MNTH'] > 10 ) & (df['CONSUMPTION_CURR_MNTH'] <= 30)),\"low_consumtion_filter\"] = \"10-30\"\n",
    "#     df.loc[((df['CONSUMPTION_CURR_MNTH'] > 30) & (df['CONSUMPTION_CURR_MNTH'] <= 50)),\"low_consumtion_filter\"] = \"30-50\"\n",
    "    df.loc[((df['Cat'] == 'LMV1') & (df['CONSUMPTION_CURR_MNTH'] <=100) & (df['CON_STATUS'] == 'In Service') & (df['LOAD'] <= 1)),\"life_line\"] = True\n",
    "#     df.loc[df['CONSUMPTION_CURR_MNTH'] > 100,\"low_consumtion_filter\"] = \"> 100\"\n",
    "    \n",
    "    return df"
   ]
  },
  {
   "cell_type": "code",
   "execution_count": 21,
   "id": "818483cc-1010-4499-a53d-09d9bad772c1",
   "metadata": {
    "tags": []
   },
   "outputs": [],
   "source": [
    "def mdi_cat(mdi,load):\n",
    "    result=\"\"\n",
    "    \n",
    "    if (math.isnan(mdi) or math.isnan(load) ):\n",
    "        return None\n",
    "    \n",
    "    elif mdi <= 0.25*load:\n",
    "        result = \"less than 25% of load\"\n",
    "        return(result)\n",
    "    elif mdi <= .5*load:\n",
    "        result = \"less than 50% of load and grtr than 25%\"\n",
    "        return(result)\n",
    "    elif mdi <= load:\n",
    "        result = \"less than 100% of load and grtr than 50%\"\n",
    "        return(result)\n",
    "    elif mdi<=1.50*load:\n",
    "        result = \"greter than 100% of load and less than 150%\"\n",
    "        return(result)\n",
    "    elif (mdi<=2*load):\n",
    "        result = \"greter than 150% of load and less than 200%\"\n",
    "        return(result)\n",
    "    return(\"greter than 200%\")\n",
    "    \n",
    "        \n",
    "    \n",
    "        \n",
    "    \n",
    "\n",
    "\n",
    "\n",
    "def MDI_filter(df):\n",
    "    \n",
    "#     df = df[df['TOTAL_OUTSTANDING'] > 0]\n",
    "    df['MDI_filter'] = df.apply(lambda row : mdi_cat(row['MDI'],row['LOAD']), axis = 1)\n",
    "    \n",
    "    \n",
    "    \n",
    "    return df"
   ]
  },
  {
   "cell_type": "code",
   "execution_count": 22,
   "id": "2642d987-d5fb-444a-9132-c1b08b1ffb26",
   "metadata": {
    "tags": []
   },
   "outputs": [],
   "source": [
    "def billable(df):\n",
    "    bil = ['In Service','TD','TD >6 MONTHS']\n",
    "    df['bilable_flag'] = df['CON_STATUS'].isin(bil)\n",
    "    return df\n",
    "  "
   ]
  },
  {
   "cell_type": "code",
   "execution_count": 23,
   "id": "d7038b8d-f537-4d81-a88d-4c61c4e1c402",
   "metadata": {
    "tags": []
   },
   "outputs": [],
   "source": [
    "def CatLoad(df):\n",
    "    df['LOAD'] = pd.to_numeric(df['LOAD'])   #,errors=\"coerce\"\n",
    "    df['LOAD_FILTER'] = None\n",
    "    df.loc[df['LOAD'] < 5,\"LOAD_FILTER\"] = \"1-5kw\"\n",
    "    df.loc[((df['LOAD'] >= 5) & (df['LOAD'] < 10)),\"LOAD_FILTER\"] = \"5-9kw\"\n",
    "    df.loc[df['LOAD'] >= 10,\"LOAD_FILTER\"] = \"great than 10kw\"\n",
    "    return df\n"
   ]
  },
  {
   "cell_type": "code",
   "execution_count": 24,
   "id": "c482ab89-46dd-4197-aa92-e3a6d76f3d90",
   "metadata": {
    "tags": []
   },
   "outputs": [],
   "source": [
    "def rdf_cat(df):\n",
    "    cat246=['LMV2','LMV4B','LMV6']\n",
    "    # df.Cat.isin(cat)\n",
    "    df['LOAD'] = pd.to_numeric(df['LOAD'])   #,errors=\"coerce\"\n",
    "    df['rdf_cat'] = None\n",
    "    df.loc[(df.Cat.isin(cat246)),\"rdf_cat\"] = \"LMV2,LMV4B,LMV6\"\n",
    "    df.loc[((df['LOAD'] >= 3) & (df['Cat']=='LMV1')),\"rdf_cat\"] = \"LMV1(3-9kw)\"\n",
    "    df.loc[((df['Cat']=='LMV1') & (df['LOAD'] <3)),\"rdf_cat\"] = \"LMV1(less than 3kw)\"\n",
    "    # df.loc[((df['SUPPLY_TYPE'] == '17') & (df['LOAD'] <3)),\"rdf_cat\"] = \"LMV1(rural and < 3kw)\"\n",
    "    # df.loc[((df['LOAD'] >= 5) & (df['LOAD'] < 10)),\"rdf_cat\"] = \"5-9kw\"\n",
    "    df.loc[df['LOAD'] >= 10,\"rdf_cat\"] = \"great than 10kw\"\n",
    "    df.loc[~df['rdf_cat'].notna(),\"rdf_cat\"] = \"other(LMV3,LMV4A,LMV7)\"\n",
    "    \n",
    "    \n",
    "    return df\n"
   ]
  },
  {
   "cell_type": "code",
   "execution_count": 25,
   "id": "a2ceedef-3288-442d-a861-8726a59151e6",
   "metadata": {
    "tags": []
   },
   "outputs": [],
   "source": [
    "def Cat_VC(df):\n",
    "    df['LOAD'] = pd.to_numeric(df['LOAD'])   #,errors=\"coerce\"\n",
    "    df['Cat_vc'] = None\n",
    "    df.loc[((df['LOAD'] >= 1) & (df['Cat']=='LMV2')),\"Cat_vc\"] = \"LMV2(1-5kw)\"\n",
    "    df.loc[((df['LOAD'] >= 3) & (df['Cat']=='LMV1')),\"Cat_vc\"] = \"LMV1(3-5kw)\"\n",
    "    df.loc[((df['Cat']=='LMV1') & (df['LOAD'] <3)),\"Cat_vc\"] = \"LMV1(urban and < 3kw)\"\n",
    "    df.loc[((df['SUPPLY_TYPE'] == '17') & (df['LOAD'] <3)),\"Cat_vc\"] = \"LMV1(rural and < 3kw)\"\n",
    "    \n",
    "    df.loc[((df['LOAD'] >= 5) & (df['LOAD'] < 10)),\"Cat_vc\"] = \"5-9kw\"\n",
    "    df.loc[df['LOAD'] >= 10,\"Cat_vc\"] = \"great than 10kw\"\n",
    "    return df\n"
   ]
  },
  {
   "cell_type": "code",
   "execution_count": 26,
   "id": "92e6f855",
   "metadata": {},
   "outputs": [],
   "source": [
    "def new_cat(df):\n",
    "    df['LOAD'] = pd.to_numeric(df['LOAD'])   #,errors=\"coerce\"\n",
    "    df['new_cat'] = None\n",
    "    df.loc[((df['LOAD'] >= 1) & (df['Cat']=='LMV1')),\"new_cat\"] = \"LMV1(2-5kw)\"\n",
    "    df.loc[((df['LOAD'] >= 5) & (df['Cat']=='LMV1')),\"new_cat\"] = \"LMV1(5-9kw)\"\n",
    "    df.loc[((df['LOAD'] >= 1) & (df['Cat']=='LMV2')),\"new_cat\"] = \"LMV2(2-5kw)\"\n",
    "    df.loc[((df['LOAD'] >= 5) & (df['Cat']=='LMV2')),\"new_cat\"] = \"LMV2(5-9kw)\"\n",
    "    df.loc[((df['LOAD'] >= 1) & (df['Cat']=='LMV4A')),\"new_cat\"] = \"LMV4(2-5kw)\"\n",
    "    df.loc[((df['LOAD'] >= 5) & (df['Cat']=='LMV4A')),\"new_cat\"] = \"LMV4(5-9kw)\"\n",
    "    df.loc[((df['LOAD'] >= 1) & (df['Cat']=='LMV4B')),\"new_cat\"] = \"LMV4(2-5kw)\"\n",
    "    df.loc[((df['LOAD'] >= 5) & (df['Cat']=='LMV4B')),\"new_cat\"] = \"LMV4(5-9kw)\"\n",
    "    df.loc[df['LOAD'] >= 10,\"new_cat\"] = \"great than 10kw\"\n",
    "    return df\n"
   ]
  },
  {
   "cell_type": "code",
   "execution_count": 27,
   "id": "0e1c0eb8-2688-452b-8adb-273f6b6bdd2a",
   "metadata": {
    "tags": []
   },
   "outputs": [],
   "source": [
    "def graph_VC(df):\n",
    "    # df['LOAD'] = pd.to_numeric(df['LOAD'])   #,errors=\"coerce\"\n",
    "    df['graph_vc'] = None\n",
    "    df.loc[(df['Cat']=='LMV2'),\"graph_vc\"] = \"LMV2(urban)\"\n",
    "    df.loc[(df['Cat']=='LMV1'),\"graph_vc\"] = \"LMV1(urban)\"\n",
    "    df.loc[(df['SUPPLY_TYPE'] == '17'),\"graph_vc\"] = \"LMV1(rural)\"\n",
    "    df.loc[(df['SUPPLY_TYPE'] == '27'),\"graph_vc\"] = \"LMV2(rural)\"\n",
    "    df.loc[(((df['Cat']=='HV1') | (df['Cat']=='HV2') | (df['Cat']=='LMV6')) & (df.gov_flag == False)) ,\"graph_vc\"] = \"HV1,HV2 and LMV6\"\n",
    "    df.loc[(((df['Cat']=='LMV4B') | (df['Cat']=='LMV5') | (df['Cat']=='LMV9'))) ,\"graph_vc\"] = \"Other(4b,5,9)\"\n",
    "    df.loc[( df.gov_flag == True) ,\"graph_vc\"] = \"Government\"\n",
    "    \n",
    "    # df.loc[((df['LOAD'] >= 5) & (df['LOAD'] < 10)),\"Cat_vc\"] = \"5-9kw\"\n",
    "    # df.loc[df['LOAD'] >= 10,\"Cat_vc\"] = \"great than 10kw\"\n",
    "    return df\n"
   ]
  },
  {
   "cell_type": "code",
   "execution_count": 28,
   "id": "ee37f711-1bcc-4e53-b7f2-b31834599166",
   "metadata": {
    "tags": []
   },
   "outputs": [],
   "source": [
    "def ots(df):\n",
    "    # df['LOAD'] = pd.to_numeric(df['LOAD'])   #,errors=\"coerce\"\n",
    "    df['ots_vc'] = None\n",
    "    df['discount_Nov'] = None\n",
    "    df['discount_Dec(1-15)'] = None\n",
    "    df['Registration_amount'] = None\n",
    "    df['Registration_amount'] = 0.3*df['TOTAL_OUTSTANDING']\n",
    "    df['Amount_to_be_paid_after_disc_Nov'] = None\n",
    "    df['Amount_to_be_paid_after_disc_dec(1-15)'] = None\n",
    "    \n",
    "    df.loc[((df['Cat']=='LMV1') & (df['LOAD'] <= 1)),\"ots_vc\"] = \"LMV1 And <=1kwh\"\n",
    "    df.loc[((df['Cat']=='LMV1')& (df['LOAD'] > 1)),\"ots_vc\"] = \"LMV1 And >1kwh\"\n",
    "    df.loc[((df['Cat']=='LMV2') & (df['LOAD'] <= 3)),\"ots_vc\"] = \"LMV2 And <=3kwh\"\n",
    "    df.loc[((df['Cat']=='LMV2')& (df['LOAD'] > 3)),\"ots_vc\"] = \"LMV2 And >3kwh\"\n",
    "    df.loc[(df['Cat']=='LMV4B'),\"ots_vc\"] = \"LMV4B\"\n",
    "    df.loc[(df['Cat']=='LMV5'),\"ots_vc\"] = \"LMV5\"\n",
    "    df.loc[(df['Cat']=='LMV6'),\"ots_vc\"] = \"LMV6\"\n",
    "    df.loc[(df['ots_vc']=='LMV1 And <=1kwh'),\"discount_Nov\"] = df[df['ots_vc']=='LMV1 And <=1kwh']['LPSC']*1\n",
    "    df.loc[(df['ots_vc']=='LMV1 And <=1kwh'),\"discount_Dec(1-15)\"] = df[df['ots_vc']=='LMV1 And <=1kwh']['LPSC']*1\n",
    "    df.loc[(df['ots_vc']=='LMV1 And >1kwh'),\"discount_Nov\"] = df[df['ots_vc']=='LMV1 And >1kwh']['LPSC']*0.9\n",
    "    df.loc[(df['ots_vc']=='LMV1 And >1kwh'),\"discount_Dec(1-15)\"] = df[df['ots_vc']=='LMV1 And >1kwh']['LPSC']*0.8\n",
    "    df.loc[(df['ots_vc']=='LMV2 And <=3kwh'),\"discount_Nov\"] = df[df['ots_vc']=='LMV2 And <=3kwh']['LPSC']*0.8\n",
    "    df.loc[(df['ots_vc']=='LMV2 And <=3kwh'),\"discount_Dec(1-15)\"] = df[df['ots_vc']=='LMV2 And <=3kwh']['LPSC']*0.7\n",
    "    df.loc[(df['ots_vc']=='LMV2 And >3kwh'),\"discount_Nov\"] = df[df['ots_vc']=='LMV2 And >3kwh']['LPSC']*0.6\n",
    "    df.loc[(df['ots_vc']=='LMV2 And >3kwh'),\"discount_Dec(1-15)\"] = df[df['ots_vc']=='LMV2 And >3kwh']['LPSC']*0.5\n",
    "    df.loc[(df['ots_vc']=='LMV4B'),\"discount_Dec(1-15)\"] = df[df['ots_vc']=='LMV4B']['LPSC']*0.5\n",
    "    df.loc[(df['ots_vc']=='LMV4B'),\"discount_Nov\"] = df[df['ots_vc']=='LMV4B']['LPSC']*0.4\n",
    "    df.loc[(df['ots_vc']=='LMV5'),\"discount_Dec(1-15)\"] = df[df['ots_vc']=='LMV5']['LPSC']*1\n",
    "    df.loc[(df['ots_vc']=='LMV5'),\"discount_Nov\"] = df[df['ots_vc']=='LMV5']['LPSC']*1\n",
    "    df.loc[(df['ots_vc']=='LMV6'),\"discount_Dec(1-15)\"] = df[df['ots_vc']=='LMV6']['LPSC']*0.5\n",
    "    df.loc[(df['ots_vc']=='LMV6'),\"discount_Nov\"] = df[df['ots_vc']=='LMV6']['LPSC']*0.4\n",
    "    \n",
    "    df['Amount_to_be_paid_after_disc_Nov'] = df['TOTAL_OUTSTANDING']-df['discount_Nov']\n",
    "    df['Amount_to_be_paid_after_disc_dec(1-15)'] = df['TOTAL_OUTSTANDING']-df['discount_Dec(1-15)']\n",
    "    df['arrear_withot_Lpsc'] = df['TOTAL_OUTSTANDING']-df['LPSC']\n",
    "    \n",
    "\n",
    "    \n",
    "    \n",
    "    # df.loc[((df['LOAD'] >= 5) & (df['LOAD'] < 10)),\"Cat_vc\"] = \"5-9kw\"\n",
    "    # df.loc[df['LOAD'] >= 10,\"Cat_vc\"] = \"great than 10kw\"\n",
    "    return df\n"
   ]
  },
  {
   "cell_type": "code",
   "execution_count": 29,
   "id": "ddd4c623-1743-44ba-aacc-743a0db54a13",
   "metadata": {
    "tags": []
   },
   "outputs": [],
   "source": [
    "def paid_arrear(df):\n",
    "    df[\"paid_arrear\"] = 0\n",
    "    df[\"temp\"] = 0\n",
    "    df.loc[(df['CURRENT_ASSESSMENT']>=0),\"temp\"] = df[df['CURRENT_ASSESSMENT']>=0]['CURRENT_ASSESSMENT'] - df[df['CURRENT_ASSESSMENT']>=0]['TOTAL_PAY_AMT']\n",
    "    df.loc[(df['temp']<0),\"paid_arrear\"] = -1 * (df[df['temp']<0][\"temp\"])\n",
    "    df.drop('temp', inplace=True, axis=1)\n",
    "    return df"
   ]
  },
  {
   "cell_type": "code",
   "execution_count": 30,
   "id": "ddcaf13f-08ea-4b8d-8811-99e57737cb6a",
   "metadata": {
    "tags": []
   },
   "outputs": [],
   "source": [
    "# def div(df):\n",
    "#        #,errors=\"coerce\"\n",
    "#     df['Division'] = None\n",
    "#     df.loc[((df['LOAD'] >= 1) & (df['Cat']=='LMV2')),\"Division\"] = \"LMV2(1-5kw)\"\n",
    "#     df.loc[((df['LOAD'] >= 3) & (df['Cat']=='LMV1')),\"Cat_vc\"] = \"LMV1(3-5kw)\"\n",
    "    \n",
    "#     df.loc[((df['LOAD'] >= 5) & (df['LOAD'] < 10)),\"Cat_vc\"] = \"5-9kw\"\n",
    "#     df.loc[df['LOAD'] >= 10,\"Cat_vc\"] = \"great than 10kw\"\n",
    "#     return df\n"
   ]
  },
  {
   "cell_type": "code",
   "execution_count": 31,
   "id": "44503597-5bd9-4552-9ac3-b4a0f2b9d377",
   "metadata": {
    "tags": []
   },
   "outputs": [],
   "source": [
    "def Division_Name(df):\n",
    "    # df['LOAD'] = pd.to_numeric(df['LOAD'])   #,errors=\"coerce\"\n",
    "    \n",
    "    # df['Circle_Name'] = None\n",
    "    df.insert(loc=0, column=\"Circle_Name\", value=None)\n",
    "    # df['Division_Name'] = None\n",
    "    df.insert(loc=1, column=\"Division_Name\", value=None)\n",
    "    \n",
    "    \n",
    "    \n",
    "    df.loc[df['DIV_CODE']== 'DIV354921',\"Division_Name\"] = \"EDD I Bahraich\"\n",
    "    df.loc[df['DIV_CODE']== 'DIV354921',\"Circle_Name\"] = \"EDC Bahraich\"\n",
    "    df.loc[df['DIV_CODE']== 'DIV354922',\"Division_Name\"] = \"EDD II Nanpara\"\n",
    "    df.loc[df['DIV_CODE']== 'DIV354922',\"Circle_Name\"] = \"EDC Bahraich\"\n",
    "    df.loc[df['DIV_CODE']== 'DIV354923',\"Division_Name\"] = \"EDD III Kaisarganj\"\n",
    "    df.loc[df['DIV_CODE']== 'DIV354923',\"Circle_Name\"] = \"EDC Bahraich\"\n",
    "    df.loc[df['DIV_CODE']== 'DIV355211',\"Division_Name\"] = \"EDD I Gonda\"\n",
    "    df.loc[df['DIV_CODE']== 'DIV355211',\"Circle_Name\"] = \"EDC Gonda\"\n",
    "    df.loc[df['DIV_CODE']== 'DIV355212',\"Division_Name\"] = \"EDD II Gonda\"\n",
    "    df.loc[df['DIV_CODE']== 'DIV355212',\"Circle_Name\"] = \"EDC Gonda\"\n",
    "    df.loc[df['DIV_CODE']== 'DIV355213',\"Division_Name\"] = \"EDD III COLONELGANJ\"\n",
    "    df.loc[df['DIV_CODE']== 'DIV355213',\"Circle_Name\"] = \"EDC Gonda\"\n",
    "    df.loc[df['DIV_CODE']== 'DIV355214',\"Division_Name\"] = \"EDD IV MANKAPUR\"\n",
    "    df.loc[df['DIV_CODE']== 'DIV355214',\"Circle_Name\"] = \"EDC Gonda\"\n",
    "    df.loc[df['DIV_CODE']== 'DIV355131',\"Division_Name\"] = \"EDD Balrampur\"\n",
    "    df.loc[df['DIV_CODE']== 'DIV355131',\"Circle_Name\"] = \"EDC Balrampur\"\n",
    "    df.loc[df['DIV_CODE']== 'DIV355132',\"Division_Name\"] = \"EDD SHRAWASTI\"\n",
    "    df.loc[df['DIV_CODE']== 'DIV355132',\"Circle_Name\"] = \"EDC Balrampur\"\n",
    "    df.loc[df['DIV_CODE']== 'DIV355133',\"Division_Name\"] = \"EDD Tulsipur\"\n",
    "    df.loc[df['DIV_CODE']== 'DIV355133',\"Circle_Name\"] = \"EDC Balrampur\"\n",
    "\n",
    "    return df\n",
    "    "
   ]
  },
  {
   "cell_type": "code",
   "execution_count": 32,
   "id": "e016a73c-e102-4425-a90d-3f2b04411e2b",
   "metadata": {
    "tags": []
   },
   "outputs": [],
   "source": [
    "def faulty_Ageing(df):\n",
    "    df['METER_READ_FLTY_CNT'] = pd.to_numeric(df['METER_READ_FLTY_CNT'])       #,errors=\"coerce\"\n",
    "    df['faulty_Ageing'] = None\n",
    "    df.loc[df['METER_READ_FLTY_CNT'] < 2,\"faulty_Ageing\"] = \"faulty<2\"\n",
    "    df.loc[((df['METER_READ_FLTY_CNT'] >= 2) & (df['METER_READ_FLTY_CNT'] < 3)),\"faulty_Ageing\"] = \"faulty>=2 TO <3\"\n",
    "    df.loc[df['METER_READ_FLTY_CNT'] >= 3,\"faulty_Ageing\"] = \"faulty >=3\"\n",
    "    return df\n"
   ]
  },
  {
   "cell_type": "code",
   "execution_count": 33,
   "id": "db527a8c-d439-4289-b458-29dabd0d0557",
   "metadata": {
    "tags": []
   },
   "outputs": [],
   "source": [
    "def categories(df):\n",
    "    #Supplytype.srs.startswith('1') for lmv1\n",
    "    convert_dict = {'SUPPLY_TYPE': str,\n",
    "                \n",
    "                }\n",
    " \n",
    "    df = df.astype(convert_dict)\n",
    "    df['SUPPLY_TYPE'] = df['SUPPLY_TYPE'].astype(str).str.replace('\\\\.0+$', '')\n",
    "    df['Cat'] = None\n",
    "#     df[df['SUPPLY_TYPE'].str.startswith('1')] = \"LMV1\"\n",
    "    df.loc[df['SUPPLY_TYPE'].str.startswith('1', na=False),\"Cat\"] = \"LMV1\"\n",
    "    df.loc[df['SUPPLY_TYPE'].str.startswith('2',na=False),\"Cat\"] = \"LMV2\"\n",
    "    df.loc[df['SUPPLY_TYPE'].str.startswith('3', na=False),\"Cat\"] = \"LMV3\"\n",
    "    # df.loc[df['SUPPLY_TYPE'].str.startswith('4', na=False),\"Cat\"] = \"LMV4\"\n",
    "    df.loc[df['SUPPLY_TYPE'].str.startswith('5', na=False),\"Cat\"] = \"LMV5\"\n",
    "    df.loc[df['SUPPLY_TYPE'].str.startswith('6', na=False),\"Cat\"] = \"LMV6\"\n",
    "    df.loc[df['SUPPLY_TYPE'].str.startswith('7', na=False),\"Cat\"] = \"LMV7\"\n",
    "    df.loc[df['SUPPLY_TYPE'].str.startswith('8', na=False),\"Cat\"] = \"LMV8\"\n",
    "    df.loc[df['SUPPLY_TYPE'].str.startswith('9', na=False),\"Cat\"] = \"LMV9\"\n",
    "#     df.loc[df['SUPPLY_TYPE'].str.startswith('10'),\"Cat\"] = \"LMV10\"\n",
    "    df.loc[df['SUPPLY_TYPE'].str.startswith('H1', na=False),\"Cat\"] = \"HV1\"\n",
    "    df.loc[df['SUPPLY_TYPE'].str.startswith('H2', na=False),\"Cat\"] = \"HV2\"\n",
    "    df.loc[df['SUPPLY_TYPE'].str.startswith('H3', na=False),\"Cat\"] = \"HV3\"\n",
    "    df.loc[df['SUPPLY_TYPE'].str.startswith('H4', na=False),\"Cat\"] = \"HV4\"\n",
    "    lmv10 = ['100', '101', '103', '104', '105']\n",
    "    # df['gov_flag'] = df['SUPPLY_TYPE'].isin(lmv10)\n",
    "    df.loc[df['SUPPLY_TYPE'].isin(lmv10),\"Cat\"] = \"LMV10\"\n",
    "    lmv4a = ['40','40A', '41', '41A', '42', '42A', '43', '44', '45','48']\n",
    "    lmv4b = ['46', '47']\n",
    "    df.loc[df['SUPPLY_TYPE'].isin(lmv4a),\"Cat\"] = \"LMV4A\"\n",
    "    df.loc[df['SUPPLY_TYPE'].isin(lmv4b),\"Cat\"] = \"LMV4B\"\n",
    "    return df"
   ]
  },
  {
   "cell_type": "code",
   "execution_count": 34,
   "id": "a6384935-3f38-49b9-a579-49a7d82acbae",
   "metadata": {
    "tags": []
   },
   "outputs": [],
   "source": [
    "def type(df):\n",
    "    df['LAST_PAY_DATE'] = pd.to_datetime(df['LAST_PAY_DATE'],dayfirst=True,errors ='coerce')\n",
    "    df['DOC'] = pd.to_datetime(df['DOC'],dayfirst=True,errors ='coerce')\n",
    "    df['LAST_BILL_DATE'] = pd.to_datetime(df['LAST_BILL_DATE'],dayfirst=True,errors ='coerce')\n",
    "    df['LAST_OK_READ_STATUS'] = pd.to_datetime(df['LAST_OK_READ_STATUS'],dayfirst=True,errors ='coerce')\n",
    "    df['TOTAL_OUTSTANDING'] = pd.to_numeric(df['TOTAL_OUTSTANDING'],errors=\"coerce\")\n",
    "    df['LOAD'] = pd.to_numeric(df['LOAD'],errors=\"coerce\")\n",
    "    df['CONSUMPTION_CURR_MNTH'] = pd.to_numeric(df['CONSUMPTION_CURR_MNTH'],errors=\"coerce\")\n",
    "    df['MDI'] = pd.to_numeric(df['MDI'],errors=\"coerce\")\n",
    "    df['CURRENT_ASSESSMENT'] = pd.to_numeric(df['CURRENT_ASSESSMENT'],errors=\"coerce\")\n",
    "    df['TOTAL_PAY_AMT'] = pd.to_numeric(df['TOTAL_PAY_AMT'],errors=\"coerce\")\n",
    "    df['LAST_PAY_AMT'] = pd.to_numeric(df['LAST_PAY_AMT'],errors=\"coerce\")\n",
    "    \n",
    "    return df"
   ]
  },
  {
   "cell_type": "code",
   "execution_count": 35,
   "id": "21b543e7-3f7f-49ef-adc3-e636a88e5af8",
   "metadata": {
    "tags": []
   },
   "outputs": [],
   "source": [
    "def unpaid(df):\n",
    "    df['paid_status'] = 0\n",
    "    # df.loc[df['LAST_PAY_DATE'] < pd.Timestamp(2023, 1, month_unpaid),\"unpaid_status\"] = 0\n",
    "    # df.loc[(pd.isnull(df['LAST_PAY_DATE'] )),\"unpaid_status\"] = 0     \n",
    "    df.loc[df['LAST_PAY_DATE'] >= pd.Timestamp(2023, month_unpaid,1),\"paid_status\"] = 1\n",
    "    \n",
    "    return df"
   ]
  },
  {
   "cell_type": "code",
   "execution_count": 36,
   "id": "6b3b944d-142a-4ea5-89cd-18a09cc65c86",
   "metadata": {
    "tags": []
   },
   "outputs": [],
   "source": [
    "def newconection(df):\n",
    "    df['newconection'] = 0\n",
    "    # df.loc[df['LAST_PAY_DATE'] < pd.Timestamp(2023, 1, month_unpaid),\"unpaid_status\"] = 0\n",
    "    # df.loc[(pd.isnull(df['LAST_PAY_DATE'] )),\"unpaid_status\"] = 0     \n",
    "    df.loc[df['DOC'] >= pd.Timestamp(2022, 1,1),\"newconection\"] = 1\n",
    "    \n",
    "    return df"
   ]
  },
  {
   "cell_type": "code",
   "execution_count": 37,
   "id": "d411264c-036a-4e70-b1ea-c43eafaa65a4",
   "metadata": {
    "tags": []
   },
   "outputs": [],
   "source": [
    "def conection_month(df):\n",
    "    df['conection_month'] = \"till_Aug\"\n",
    "    # df.loc[df['LAST_PAY_DATE'] < pd.Timestamp(2023, 1, month_unpaid),\"unpaid_status\"] = 0\n",
    "    # df.loc[(pd.isnull(df['LAST_PAY_DATE'] )),\"unpaid_status\"] = 0     \n",
    "    df.loc[df['DOC'] >= pd.Timestamp(2023, 9,1),\"conection_month\"] = \"New Connection\"\n",
    "    # df.loc[((df['DOC'] >= pd.Timestamp(2023, 9,1)) & (df['DOC']< pd.Timestamp(2023, 10,1))),\"conection_month\"] = \"Sep\"\n",
    "    # df.loc[((df['DOC'] >= pd.Timestamp(2023, 10,1)) & (df['DOC']< pd.Timestamp(2023, 11,1))),\"conection_month\"] = \"Oct\"\n",
    "    # df.loc[((df['DOC'] >= pd.Timestamp(2023, 11,1)) & (df['DOC']< pd.Timestamp(2023, 12,1))),\"conection_month\"] = \"Nov\"\n",
    "    \n",
    "    return df"
   ]
  },
  {
   "cell_type": "code",
   "execution_count": 38,
   "id": "7c03fd8f-026c-4d1a-b610-f9f0edc7d985",
   "metadata": {
    "tags": []
   },
   "outputs": [],
   "source": [
    "def Neverpaid(df):\n",
    "    df['Neverpaid_count'] = 0\n",
    "    df.loc[((pd.isnull(df['LAST_PAY_DATE'] )) & (df['DOC'] < pd.Timestamp(2023,month_doc, 1))),\"Neverpaid_status\"] = 1\n",
    "    # df.loc[pd.isnull(df['Neverpaid_status']),\"Neverpaid_status\"] = 0\n",
    "    \n",
    "    return df"
   ]
  },
  {
   "cell_type": "code",
   "execution_count": 39,
   "id": "7d61ceef-b485-4eba-bcab-e811a8ffdaaa",
   "metadata": {
    "tags": []
   },
   "outputs": [
    {
     "name": "stderr",
     "output_type": "stream",
     "text": [
      "[Parallel(n_jobs=-1)]: Using backend ThreadingBackend with 20 concurrent workers.\n",
      "C:\\Users\\HP\\AppData\\Local\\Temp\\ipykernel_21180\\2667646776.py:2: DtypeWarning: Columns (3,11,14,17,20,51,52,82) have mixed types. Specify dtype option on import or set low_memory=False.\n",
      "  return pd.read_csv(f\"{month}/{circle}/master/{file_name}\",on_bad_lines='skip')\n",
      "C:\\Users\\HP\\AppData\\Local\\Temp\\ipykernel_21180\\2667646776.py:2: DtypeWarning: Columns (3,82) have mixed types. Specify dtype option on import or set low_memory=False.\n",
      "  return pd.read_csv(f\"{month}/{circle}/master/{file_name}\",on_bad_lines='skip')\n",
      "C:\\Users\\HP\\AppData\\Local\\Temp\\ipykernel_21180\\2667646776.py:2: DtypeWarning: Columns (3,82) have mixed types. Specify dtype option on import or set low_memory=False.\n",
      "  return pd.read_csv(f\"{month}/{circle}/master/{file_name}\",on_bad_lines='skip')\n",
      "[Parallel(n_jobs=-1)]: Done   3 out of  10 | elapsed:   14.7s remaining:   34.3s\n",
      "C:\\Users\\HP\\AppData\\Local\\Temp\\ipykernel_21180\\2667646776.py:2: DtypeWarning: Columns (80,82,109) have mixed types. Specify dtype option on import or set low_memory=False.\n",
      "  return pd.read_csv(f\"{month}/{circle}/master/{file_name}\",on_bad_lines='skip')\n",
      "C:\\Users\\HP\\AppData\\Local\\Temp\\ipykernel_21180\\2667646776.py:2: DtypeWarning: Columns (5,77,80,82,109) have mixed types. Specify dtype option on import or set low_memory=False.\n",
      "  return pd.read_csv(f\"{month}/{circle}/master/{file_name}\",on_bad_lines='skip')\n",
      "[Parallel(n_jobs=-1)]: Done   5 out of  10 | elapsed:   18.3s remaining:   18.3s\n",
      "C:\\Users\\HP\\AppData\\Local\\Temp\\ipykernel_21180\\2667646776.py:2: DtypeWarning: Columns (2,3,10,20,80,82,109) have mixed types. Specify dtype option on import or set low_memory=False.\n",
      "  return pd.read_csv(f\"{month}/{circle}/master/{file_name}\",on_bad_lines='skip')\n",
      "C:\\Users\\HP\\AppData\\Local\\Temp\\ipykernel_21180\\2667646776.py:2: DtypeWarning: Columns (10,77,80,82,109) have mixed types. Specify dtype option on import or set low_memory=False.\n",
      "  return pd.read_csv(f\"{month}/{circle}/master/{file_name}\",on_bad_lines='skip')\n",
      "[Parallel(n_jobs=-1)]: Done   7 out of  10 | elapsed:   20.8s remaining:    8.9s\n",
      "C:\\Users\\HP\\AppData\\Local\\Temp\\ipykernel_21180\\2667646776.py:2: DtypeWarning: Columns (5,80,82,109,111) have mixed types. Specify dtype option on import or set low_memory=False.\n",
      "  return pd.read_csv(f\"{month}/{circle}/master/{file_name}\",on_bad_lines='skip')\n",
      "C:\\Users\\HP\\AppData\\Local\\Temp\\ipykernel_21180\\2667646776.py:2: DtypeWarning: Columns (3,17,80,82) have mixed types. Specify dtype option on import or set low_memory=False.\n",
      "  return pd.read_csv(f\"{month}/{circle}/master/{file_name}\",on_bad_lines='skip')\n",
      "C:\\Users\\HP\\AppData\\Local\\Temp\\ipykernel_21180\\2667646776.py:2: DtypeWarning: Columns (2,3,4,21,82) have mixed types. Specify dtype option on import or set low_memory=False.\n",
      "  return pd.read_csv(f\"{month}/{circle}/master/{file_name}\",on_bad_lines='skip')\n",
      "[Parallel(n_jobs=-1)]: Done  10 out of  10 | elapsed:   24.8s finished\n"
     ]
    },
    {
     "name": "stdout",
     "output_type": "stream",
     "text": [
      "CSV: 28.97943902015686\n"
     ]
    }
   ],
   "source": [
    "start = time.time()\n",
    "df = []\n",
    "df = Parallel(n_jobs=-1, verbose=10,prefer=\"threads\")(delayed(loop)(file_name) for file_name in mylist)\n",
    "df = pd.concat(df, ignore_index=True)\n",
    "\n",
    "\n",
    "end = time.time()\n",
    "print(\"CSV:\", end - start)"
   ]
  },
  {
   "cell_type": "code",
   "execution_count": 91,
   "id": "c0fc8f1e-90ab-441b-a18a-30033fcd3c48",
   "metadata": {
    "tags": []
   },
   "outputs": [],
   "source": [
    "# for x in mylist:\n",
    "#     df = loop(x)\n",
    "#     div = ['DIV354921', 'DIV354922','DIV354923', 'DIV355131',\n",
    "#        'DIV355132', 'DIV355133', 'DIV355211', 'DIV355212', 'DIV355213', 'DIV355214']\n",
    "#     df.drop(df.index[~df[\"DIV_CODE\"].isin(div)],axis=0,inplace=True)\n",
    "    "
   ]
  },
  {
   "cell_type": "code",
   "execution_count": 92,
   "id": "f8d02729-95cc-4656-b2d2-32f466e4f08b",
   "metadata": {
    "tags": []
   },
   "outputs": [],
   "source": [
    "types=df.dtypes"
   ]
  },
  {
   "cell_type": "code",
   "execution_count": 93,
   "id": "361e3354-2d84-47de-8621-c678e9e80cff",
   "metadata": {
    "tags": []
   },
   "outputs": [
    {
     "data": {
      "text/plain": [
       "DIV_CODE                          object\n",
       "SDO_CODE                          object\n",
       "ACCT_ID                          float64\n",
       "KNO                               object\n",
       "MOBILE_NO                        float64\n",
       "LANDLINE_NO                      float64\n",
       "BOOK_NO                           object\n",
       "SCNO                              object\n",
       "NAME                              object\n",
       "ADDRESS                           object\n",
       "SUPPLY_TYPE                       object\n",
       "LOAD                             float64\n",
       "LOAD_UNIT                         object\n",
       "DOC                               object\n",
       "SECURITY_AMT                      object\n",
       "CON_STATUS                        object\n",
       "SERIAL_NBR                        object\n",
       "MULTIPLY_FACTOR                  float64\n",
       "METER_STATUS                      object\n",
       "LAST_BILL_DATE                    object\n",
       "CLOSE_READING                     object\n",
       "MDI                               object\n",
       "BILL_BASIS                        object\n",
       "BILL_TYP                          object\n",
       "CONSUMPTION_CURR_MNTH             object\n",
       "CONSUMPTION_PREV_MNTH             object\n",
       "CONSUMPTION_PREV_TO_PREV_MNTH    float64\n",
       "ARREAR                           float64\n",
       "LPSC                              object\n",
       "CURRENT_ASSESSMENT               float64\n",
       "CURRENT_CYCLE_LPSC               float64\n",
       "TOTAL_OUTSTANDING                float64\n",
       "DUE_DATE_REBATE                  float64\n",
       "LAST_OK_READING                  float64\n",
       "LAST_OK_READ_STATUS               object\n",
       "METER_READ_FLTY_CNT              float64\n",
       "LAST_PAY_AMT                     float64\n",
       "LAST_PAY_DATE                     object\n",
       "SUBSTATION                        object\n",
       "FEEDER                            object\n",
       "DT                                object\n",
       "POLE_NO                           object\n",
       "OPR_FLG                           object\n",
       "BILL_AFTER_DATE                   object\n",
       "METER_READ_REMARK                 object\n",
       "INSTALLATION_DATE                 object\n",
       "SBM_BILL_DATE                     object\n",
       "SBM_MACHINE_ID                    object\n",
       "BILL_CYC_CD                       object\n",
       "TOWN                              object\n",
       "SERVICE_CYC_CD                    object\n",
       "CT_RATIO                          object\n",
       "PT_RATIO                          object\n",
       "EC                               float64\n",
       "FC                               float64\n",
       "REBATES                          float64\n",
       "MIN_CHARGES                      float64\n",
       "FUEL_SURCHARGE                   float64\n",
       "DEMAND_AMT                       float64\n",
       "LTMETERING_CHARGES               float64\n",
       "CAP_CHARGES                      float64\n",
       "REG_SURCHARGE                     object\n",
       "REG_SURCHARGE_2                   object\n",
       "ELECTRICITY_DUTY                 float64\n",
       "TARIFF_ADJUSTMENTS               float64\n",
       "PROV_ADJUSTMENTS                 float64\n",
       "CA_ABR                           float64\n",
       "INF_BILL                          object\n",
       "MR_SOURCE_CD                      object\n",
       "HEALTHY_CONSUMER_FLAG             object\n",
       "METER_BADGE_NO                    object\n",
       "MTR_MAKE                          object\n",
       "CONNECTION_TYPE                   object\n",
       "LOOMS_GRTRTHN_60                 float64\n",
       "LOOMS_LESSTHN_60                 float64\n",
       "SUPPLY_VOLTAGE                    object\n",
       "METER_VOLTAGE                    float64\n",
       "MTR_TYPE_CD                       object\n",
       "LATITUDE                         float64\n",
       "LONGTIUDE                        float64\n",
       "INDUSTRIAL_FLAG                   object\n",
       "ACCT_INFLALTED_FLAG               object\n",
       "GOVT_CODE                         object\n",
       "OPENING_READING_KWH              float64\n",
       "OPENING_READING_KVAH             float64\n",
       "OPENING_READING_DATE              object\n",
       "CLOSING_READING_KWH              float64\n",
       "CLOSING_READING_KVAH             float64\n",
       "CLOSING_READING_DATE              object\n",
       "CONSUMPTION_KWH                  float64\n",
       "CONSUMPTION_KVAH                 float64\n",
       "BILLED_AMOUNT                    float64\n",
       "MTR_EXCEP_CD                     float64\n",
       "MTR_NO_RECORDED                   object\n",
       "MTR_MAKE_RECORDED                 object\n",
       "MANUL_BILL_EXCEP                  object\n",
       "MTR_CONFIG_TY_CD                  object\n",
       "TOTAL_PAY_AMT                    float64\n",
       "PAYMENT_SRCE                      object\n",
       "MTR_RDR_AGENCY                    object\n",
       "SS_NAME                           object\n",
       "SS_GIS_CODE                       object\n",
       "FEEDER_NAME                       object\n",
       "FEEDER_GIS_CODE                   object\n",
       "DT_NAME                           object\n",
       "DT_GIS_ID                         object\n",
       "DT_GIS_CODE                       object\n",
       "NETWID                            object\n",
       "CONSUMER_BASE                     object\n",
       "CONSUMER_BASE.1                   object\n",
       "FATHER_NAME                       object\n",
       "VILLAGE_CODE                     float64\n",
       "VILLAGE_NAME                      object\n",
       "HABITAT_CODE                     float64\n",
       "HABITAT_NAME                      object\n",
       "DISTRICT                          object\n",
       "TEMP_DISCON_DATE                  object\n",
       "CROSS_SUBSIDY                    float64\n",
       "PTW_SUBSIDY                      float64\n",
       "TARIFF_SUBSIDY                   float64\n",
       "POWER_LOOM_SUBSIDY               float64\n",
       "INOP_AMT                         float64\n",
       "dtype: object"
      ]
     },
     "execution_count": 93,
     "metadata": {},
     "output_type": "execute_result"
    }
   ],
   "source": [
    "types"
   ]
  },
  {
   "cell_type": "code",
   "execution_count": 94,
   "id": "598b0707-5135-42e8-b795-a7b3adba986c",
   "metadata": {
    "tags": []
   },
   "outputs": [
    {
     "data": {
      "text/plain": [
       "array(['URBAN', 'RURAL', nan], dtype=object)"
      ]
     },
     "execution_count": 94,
     "metadata": {},
     "output_type": "execute_result"
    }
   ],
   "source": [
    "df.CONSUMER_BASE.unique()"
   ]
  },
  {
   "cell_type": "code",
   "execution_count": 95,
   "id": "2498b395-7984-4a17-b6a1-535cd2b0dfd7",
   "metadata": {
    "tags": []
   },
   "outputs": [
    {
     "name": "stdout",
     "output_type": "stream",
     "text": [
      "<class 'pandas.core.frame.DataFrame'>\n",
      "RangeIndex: 1521793 entries, 0 to 1521792\n",
      "Columns: 122 entries, DIV_CODE to INOP_AMT\n",
      "dtypes: float64(47), object(75)\n",
      "memory usage: 1.4+ GB\n"
     ]
    }
   ],
   "source": [
    "df.info()"
   ]
  },
  {
   "cell_type": "code",
   "execution_count": 40,
   "id": "0c9ba5ad-a7e8-4a96-8b2e-07db77676ac2",
   "metadata": {
    "tags": []
   },
   "outputs": [],
   "source": [
    "df = df[df['CONSUMER_BASE'].notna()]"
   ]
  },
  {
   "cell_type": "code",
   "execution_count": 97,
   "id": "1ae379c0-4cda-4a0f-a7e4-ab0ef8959146",
   "metadata": {
    "tags": []
   },
   "outputs": [
    {
     "data": {
      "text/plain": [
       "Index(['DIV_CODE', 'SDO_CODE', 'ACCT_ID', 'KNO', 'MOBILE_NO', 'LANDLINE_NO',\n",
       "       'BOOK_NO', 'SCNO', 'NAME', 'ADDRESS',\n",
       "       ...\n",
       "       'VILLAGE_NAME', 'HABITAT_CODE', 'HABITAT_NAME', 'DISTRICT',\n",
       "       'TEMP_DISCON_DATE', 'CROSS_SUBSIDY', 'PTW_SUBSIDY', 'TARIFF_SUBSIDY',\n",
       "       'POWER_LOOM_SUBSIDY', 'INOP_AMT'],\n",
       "      dtype='object', length=122)"
      ]
     },
     "execution_count": 97,
     "metadata": {},
     "output_type": "execute_result"
    }
   ],
   "source": [
    "df.columns"
   ]
  },
  {
   "cell_type": "code",
   "execution_count": 98,
   "id": "ecc16e22-4a16-4265-9761-9c0665677eb4",
   "metadata": {
    "tags": []
   },
   "outputs": [
    {
     "data": {
      "text/plain": [
       "array(['DIV354921', 'DIV354922', 'DIV354923', 'DIV355131', 'DIV355132',\n",
       "       'DIV355133', 'DIV355211', 'DIV355212', 'DIV355213', 'DIV355214'],\n",
       "      dtype=object)"
      ]
     },
     "execution_count": 98,
     "metadata": {},
     "output_type": "execute_result"
    }
   ],
   "source": [
    "df.DIV_CODE.unique()"
   ]
  },
  {
   "cell_type": "code",
   "execution_count": 41,
   "id": "44c7f0a4-a681-4e34-bcad-37ffef32f51d",
   "metadata": {
    "tags": []
   },
   "outputs": [],
   "source": [
    "div = ['DIV354921', 'DIV354922','DIV354923', 'DIV355131',\n",
    "       'DIV355132', 'DIV355133', 'DIV355211', 'DIV355212', 'DIV355213', 'DIV355214']\n",
    "df.drop(df.index[~df[\"DIV_CODE\"].isin(div)],axis=0,inplace=True)\n"
   ]
  },
  {
   "cell_type": "code",
   "execution_count": 100,
   "id": "7b161f09-07fc-43f4-8d20-7eb46fc6179d",
   "metadata": {
    "tags": []
   },
   "outputs": [
    {
     "data": {
      "text/plain": [
       "array(['DIV354921', 'DIV354922', 'DIV354923', 'DIV355131', 'DIV355132',\n",
       "       'DIV355133', 'DIV355211', 'DIV355212', 'DIV355213', 'DIV355214'],\n",
       "      dtype=object)"
      ]
     },
     "execution_count": 100,
     "metadata": {},
     "output_type": "execute_result"
    }
   ],
   "source": [
    "df.DIV_CODE.unique()"
   ]
  },
  {
   "cell_type": "code",
   "execution_count": 101,
   "id": "1564ad11-f2b6-4a22-96e0-02211dd15039",
   "metadata": {
    "tags": []
   },
   "outputs": [
    {
     "data": {
      "text/plain": [
       "array(['SDO3549212', 'SDO3549211', 'SDO3249329', 'SDO3549222',\n",
       "       'SDO3549223', 'SDO3549221', 'SDO3549224', 'SDO3549231',\n",
       "       'SDO3549234', 'SDO3549237', 'SDO3549232', 'SDO3549236',\n",
       "       'SDO3551311', 'SDO3551312', 'SDO3551321', 'SDO3551323',\n",
       "       'SDO3551324', 'SDO3551322', 'SDO3551331', 'SDO3551336',\n",
       "       'SDO3551334', 'SDO3551335', 'SDO3551332', 'SDO3552111',\n",
       "       'SDO3552113', 'SDO3552112', 'SDO3552124', 'SDO3552122',\n",
       "       'SDO3552125', 'SDO3552121', 'SDO3552123', 'SDO3552131',\n",
       "       'SDO3552132', 'SDO3552142', 'SDO3552143', 'SDO3552141'],\n",
       "      dtype=object)"
      ]
     },
     "execution_count": 101,
     "metadata": {},
     "output_type": "execute_result"
    }
   ],
   "source": [
    "df.SDO_CODE.unique()"
   ]
  },
  {
   "cell_type": "code",
   "execution_count": 102,
   "id": "efb1dcdd-cbb3-491d-9a33-86617f18f0fc",
   "metadata": {
    "tags": []
   },
   "outputs": [
    {
     "data": {
      "text/html": [
       "<div>\n",
       "<style scoped>\n",
       "    .dataframe tbody tr th:only-of-type {\n",
       "        vertical-align: middle;\n",
       "    }\n",
       "\n",
       "    .dataframe tbody tr th {\n",
       "        vertical-align: top;\n",
       "    }\n",
       "\n",
       "    .dataframe thead th {\n",
       "        text-align: right;\n",
       "    }\n",
       "</style>\n",
       "<table border=\"1\" class=\"dataframe\">\n",
       "  <thead>\n",
       "    <tr style=\"text-align: right;\">\n",
       "      <th></th>\n",
       "      <th>DIV_CODE</th>\n",
       "      <th>SDO_CODE</th>\n",
       "      <th>ACCT_ID</th>\n",
       "      <th>KNO</th>\n",
       "      <th>MOBILE_NO</th>\n",
       "      <th>LANDLINE_NO</th>\n",
       "      <th>BOOK_NO</th>\n",
       "      <th>SCNO</th>\n",
       "      <th>NAME</th>\n",
       "      <th>ADDRESS</th>\n",
       "      <th>...</th>\n",
       "      <th>VILLAGE_NAME</th>\n",
       "      <th>HABITAT_CODE</th>\n",
       "      <th>HABITAT_NAME</th>\n",
       "      <th>DISTRICT</th>\n",
       "      <th>TEMP_DISCON_DATE</th>\n",
       "      <th>CROSS_SUBSIDY</th>\n",
       "      <th>PTW_SUBSIDY</th>\n",
       "      <th>TARIFF_SUBSIDY</th>\n",
       "      <th>POWER_LOOM_SUBSIDY</th>\n",
       "      <th>INOP_AMT</th>\n",
       "    </tr>\n",
       "  </thead>\n",
       "  <tbody>\n",
       "    <tr>\n",
       "      <th>2284</th>\n",
       "      <td>DIV354921</td>\n",
       "      <td>SDO3249329</td>\n",
       "      <td>6.566506e+09</td>\n",
       "      <td>NaN</td>\n",
       "      <td>8.052109e+09</td>\n",
       "      <td>NaN</td>\n",
       "      <td>' 324932902501</td>\n",
       "      <td>MV_0120249</td>\n",
       "      <td>RAJESH KUMAR GUPTA S/O RAM LAKHAN GUPTA</td>\n",
       "      <td>STEELGANJ TALAB BAHRAICH Bahraich UP-271801 IND</td>\n",
       "      <td>...</td>\n",
       "      <td>NaN</td>\n",
       "      <td>NaN</td>\n",
       "      <td>NaN</td>\n",
       "      <td>BAHRAICH</td>\n",
       "      <td>NaN</td>\n",
       "      <td>0.0</td>\n",
       "      <td>0.0</td>\n",
       "      <td>0.0</td>\n",
       "      <td>0.0</td>\n",
       "      <td>NaN</td>\n",
       "    </tr>\n",
       "    <tr>\n",
       "      <th>3365</th>\n",
       "      <td>DIV354921</td>\n",
       "      <td>SDO3249329</td>\n",
       "      <td>7.615839e+09</td>\n",
       "      <td>NaN</td>\n",
       "      <td>8.090600e+09</td>\n",
       "      <td>NaN</td>\n",
       "      <td>' 324932902501</td>\n",
       "      <td>NaN</td>\n",
       "      <td>SRI PRAKASH SONI S/O SRI UMASHANKAR SONI</td>\n",
       "      <td>QAZIPURA NEAR PACHKAUDI HOTEL BAHRAICH Bahraic...</td>\n",
       "      <td>...</td>\n",
       "      <td>NaN</td>\n",
       "      <td>NaN</td>\n",
       "      <td>NaN</td>\n",
       "      <td>BAHRAICH</td>\n",
       "      <td>NaN</td>\n",
       "      <td>0.0</td>\n",
       "      <td>0.0</td>\n",
       "      <td>0.0</td>\n",
       "      <td>0.0</td>\n",
       "      <td>NaN</td>\n",
       "    </tr>\n",
       "    <tr>\n",
       "      <th>5582</th>\n",
       "      <td>DIV354921</td>\n",
       "      <td>SDO3249329</td>\n",
       "      <td>9.065903e+09</td>\n",
       "      <td>NaN</td>\n",
       "      <td>8.874604e+09</td>\n",
       "      <td>NaN</td>\n",
       "      <td>' 324932912721</td>\n",
       "      <td>NaN</td>\n",
       "      <td>SMT RINKU DEVI W/O MANOJ KUMAR</td>\n",
       "      <td>HAMJAPURA NEAR HANUMAN PRASAD YADAV   BAHRAICH...</td>\n",
       "      <td>...</td>\n",
       "      <td>NaN</td>\n",
       "      <td>NaN</td>\n",
       "      <td>NaN</td>\n",
       "      <td>BAHRAICH</td>\n",
       "      <td>NaN</td>\n",
       "      <td>0.0</td>\n",
       "      <td>0.0</td>\n",
       "      <td>0.0</td>\n",
       "      <td>0.0</td>\n",
       "      <td>NaN</td>\n",
       "    </tr>\n",
       "    <tr>\n",
       "      <th>5606</th>\n",
       "      <td>DIV354921</td>\n",
       "      <td>SDO3249329</td>\n",
       "      <td>3.408189e+09</td>\n",
       "      <td>NaN</td>\n",
       "      <td>9.450426e+09</td>\n",
       "      <td>NaN</td>\n",
       "      <td>' 324932912711</td>\n",
       "      <td>NaN</td>\n",
       "      <td>IRFAN AHMAD S/O KURBAN AHMAD</td>\n",
       "      <td>NOORUDDINCHAK DARGAH SHARIF BAHRAICH Bahraich ...</td>\n",
       "      <td>...</td>\n",
       "      <td>NaN</td>\n",
       "      <td>NaN</td>\n",
       "      <td>NaN</td>\n",
       "      <td>BAHRAICH</td>\n",
       "      <td>NaN</td>\n",
       "      <td>0.0</td>\n",
       "      <td>0.0</td>\n",
       "      <td>0.0</td>\n",
       "      <td>0.0</td>\n",
       "      <td>NaN</td>\n",
       "    </tr>\n",
       "    <tr>\n",
       "      <th>5648</th>\n",
       "      <td>DIV354921</td>\n",
       "      <td>SDO3249329</td>\n",
       "      <td>8.798896e+09</td>\n",
       "      <td>NaN</td>\n",
       "      <td>NaN</td>\n",
       "      <td>NaN</td>\n",
       "      <td>' 324932912618</td>\n",
       "      <td>MV_064554</td>\n",
       "      <td>MOHD GUFRAN</td>\n",
       "      <td>KAZIPURA ' BAHRAICH Bahraich UP-271801 IND</td>\n",
       "      <td>...</td>\n",
       "      <td>NaN</td>\n",
       "      <td>NaN</td>\n",
       "      <td>NaN</td>\n",
       "      <td>BAHRAICH</td>\n",
       "      <td>NaN</td>\n",
       "      <td>0.0</td>\n",
       "      <td>0.0</td>\n",
       "      <td>0.0</td>\n",
       "      <td>0.0</td>\n",
       "      <td>NaN</td>\n",
       "    </tr>\n",
       "    <tr>\n",
       "      <th>5714</th>\n",
       "      <td>DIV354921</td>\n",
       "      <td>SDO3249329</td>\n",
       "      <td>7.239130e+09</td>\n",
       "      <td>NaN</td>\n",
       "      <td>6.390595e+09</td>\n",
       "      <td>NaN</td>\n",
       "      <td>' 324932912613</td>\n",
       "      <td>NaN</td>\n",
       "      <td>ARMAAN ALI S/O JALEEL AHMAD</td>\n",
       "      <td>SALARGANJ NEAR GHASIYARI MASJID   BAHRAICH Bah...</td>\n",
       "      <td>...</td>\n",
       "      <td>NaN</td>\n",
       "      <td>NaN</td>\n",
       "      <td>NaN</td>\n",
       "      <td>BAHRAICH</td>\n",
       "      <td>NaN</td>\n",
       "      <td>0.0</td>\n",
       "      <td>0.0</td>\n",
       "      <td>0.0</td>\n",
       "      <td>0.0</td>\n",
       "      <td>NaN</td>\n",
       "    </tr>\n",
       "    <tr>\n",
       "      <th>8385</th>\n",
       "      <td>DIV354921</td>\n",
       "      <td>SDO3249329</td>\n",
       "      <td>3.834376e+09</td>\n",
       "      <td>NaN</td>\n",
       "      <td>NaN</td>\n",
       "      <td>NaN</td>\n",
       "      <td>' 324932902501</td>\n",
       "      <td>MV_0120346</td>\n",
       "      <td>MITHLESH KUMARI PANDEY W/O RAM KUMAR PANEY</td>\n",
       "      <td>JHURIYA SEKHDAHIR BAHRAICH Bahraich UP-271801 IND</td>\n",
       "      <td>...</td>\n",
       "      <td>NaN</td>\n",
       "      <td>NaN</td>\n",
       "      <td>NaN</td>\n",
       "      <td>BAHRAICH</td>\n",
       "      <td>NaN</td>\n",
       "      <td>0.0</td>\n",
       "      <td>0.0</td>\n",
       "      <td>0.0</td>\n",
       "      <td>0.0</td>\n",
       "      <td>NaN</td>\n",
       "    </tr>\n",
       "    <tr>\n",
       "      <th>9043</th>\n",
       "      <td>DIV354921</td>\n",
       "      <td>SDO3249329</td>\n",
       "      <td>8.220708e+09</td>\n",
       "      <td>NaN</td>\n",
       "      <td>1.000000e+10</td>\n",
       "      <td>NaN</td>\n",
       "      <td>' 324932902501</td>\n",
       "      <td>MV_0109141</td>\n",
       "      <td>KARINA W/O MOHD SHARIF</td>\n",
       "      <td>MAHRAAJ GAON BAXIPURA KALPIPARA  BAHRAICH Bahr...</td>\n",
       "      <td>...</td>\n",
       "      <td>NaN</td>\n",
       "      <td>NaN</td>\n",
       "      <td>NaN</td>\n",
       "      <td>BAHRAICH</td>\n",
       "      <td>NaN</td>\n",
       "      <td>0.0</td>\n",
       "      <td>0.0</td>\n",
       "      <td>0.0</td>\n",
       "      <td>0.0</td>\n",
       "      <td>NaN</td>\n",
       "    </tr>\n",
       "    <tr>\n",
       "      <th>11549</th>\n",
       "      <td>DIV354921</td>\n",
       "      <td>SDO3249329</td>\n",
       "      <td>5.077762e+09</td>\n",
       "      <td>NaN</td>\n",
       "      <td>9.451406e+09</td>\n",
       "      <td>NaN</td>\n",
       "      <td>' 324932912735</td>\n",
       "      <td>NaN</td>\n",
       "      <td>RICHA SHUKLA</td>\n",
       "      <td>000 SINGHAPARASI PAHADA FAKKAD BAHRAICH BAHRAI...</td>\n",
       "      <td>...</td>\n",
       "      <td>NaN</td>\n",
       "      <td>NaN</td>\n",
       "      <td>NaN</td>\n",
       "      <td>BAHRAICH</td>\n",
       "      <td>NaN</td>\n",
       "      <td>-17.0</td>\n",
       "      <td>0.0</td>\n",
       "      <td>0.0</td>\n",
       "      <td>0.0</td>\n",
       "      <td>NaN</td>\n",
       "    </tr>\n",
       "    <tr>\n",
       "      <th>14620</th>\n",
       "      <td>DIV354921</td>\n",
       "      <td>SDO3249329</td>\n",
       "      <td>1.840163e+09</td>\n",
       "      <td>NaN</td>\n",
       "      <td>9.450425e+09</td>\n",
       "      <td>NaN</td>\n",
       "      <td>' 324932902501</td>\n",
       "      <td>MV_0120394</td>\n",
       "      <td>HABEEB AHMAd S/O HAZI DARGAHI</td>\n",
       "      <td>SUFIPURA BAHRAICH Bahraich UP-271801 IND</td>\n",
       "      <td>...</td>\n",
       "      <td>NaN</td>\n",
       "      <td>NaN</td>\n",
       "      <td>NaN</td>\n",
       "      <td>BAHRAICH</td>\n",
       "      <td>NaN</td>\n",
       "      <td>0.0</td>\n",
       "      <td>0.0</td>\n",
       "      <td>0.0</td>\n",
       "      <td>0.0</td>\n",
       "      <td>NaN</td>\n",
       "    </tr>\n",
       "    <tr>\n",
       "      <th>17472</th>\n",
       "      <td>DIV354921</td>\n",
       "      <td>SDO3249329</td>\n",
       "      <td>5.010189e+09</td>\n",
       "      <td>NaN</td>\n",
       "      <td>8.417878e+09</td>\n",
       "      <td>NaN</td>\n",
       "      <td>' 324932912828</td>\n",
       "      <td>MV_0120395</td>\n",
       "      <td>Mr MAYANK TANDON S/O Mr S N TANDON</td>\n",
       "      <td>HNO 193 RAIPURRAJA CIVIL LINE BAHRAICH Bahraic...</td>\n",
       "      <td>...</td>\n",
       "      <td>NaN</td>\n",
       "      <td>NaN</td>\n",
       "      <td>NaN</td>\n",
       "      <td>BAHRAICH</td>\n",
       "      <td>NaN</td>\n",
       "      <td>0.0</td>\n",
       "      <td>0.0</td>\n",
       "      <td>0.0</td>\n",
       "      <td>0.0</td>\n",
       "      <td>NaN</td>\n",
       "    </tr>\n",
       "    <tr>\n",
       "      <th>19276</th>\n",
       "      <td>DIV354921</td>\n",
       "      <td>SDO3249329</td>\n",
       "      <td>6.095345e+09</td>\n",
       "      <td>NaN</td>\n",
       "      <td>NaN</td>\n",
       "      <td>NaN</td>\n",
       "      <td>' 324932902501</td>\n",
       "      <td>NaN</td>\n",
       "      <td>SRI SANA ULLAH KHAN S/O SRI AMAN ULLAH KHAN</td>\n",
       "      <td>NAZIRPURA BAHRAICH Bahraich UP-271801 IND</td>\n",
       "      <td>...</td>\n",
       "      <td>NaN</td>\n",
       "      <td>NaN</td>\n",
       "      <td>NaN</td>\n",
       "      <td>BAHRAICH</td>\n",
       "      <td>NaN</td>\n",
       "      <td>0.0</td>\n",
       "      <td>0.0</td>\n",
       "      <td>0.0</td>\n",
       "      <td>0.0</td>\n",
       "      <td>NaN</td>\n",
       "    </tr>\n",
       "    <tr>\n",
       "      <th>20745</th>\n",
       "      <td>DIV354921</td>\n",
       "      <td>SDO3249329</td>\n",
       "      <td>3.396572e+08</td>\n",
       "      <td>NaN</td>\n",
       "      <td>9.628364e+09</td>\n",
       "      <td>NaN</td>\n",
       "      <td>' 324932912816</td>\n",
       "      <td>MV_0118726</td>\n",
       "      <td>SUMITRA DEVI W/O LATE-SANJAY KUMAR</td>\n",
       "      <td>BARIHOT NEAR-MAKBARA CHOURAHA  BAHRAICH Bahrai...</td>\n",
       "      <td>...</td>\n",
       "      <td>NaN</td>\n",
       "      <td>NaN</td>\n",
       "      <td>NaN</td>\n",
       "      <td>BAHRAICH</td>\n",
       "      <td>02-SEP-2020</td>\n",
       "      <td>-112.0</td>\n",
       "      <td>0.0</td>\n",
       "      <td>0.0</td>\n",
       "      <td>0.0</td>\n",
       "      <td>NaN</td>\n",
       "    </tr>\n",
       "    <tr>\n",
       "      <th>21386</th>\n",
       "      <td>DIV354921</td>\n",
       "      <td>SDO3249329</td>\n",
       "      <td>6.702401e+09</td>\n",
       "      <td>NaN</td>\n",
       "      <td>7.275273e+09</td>\n",
       "      <td>NaN</td>\n",
       "      <td>' 324932913132</td>\n",
       "      <td>NaN</td>\n",
       "      <td>SEE MA</td>\n",
       "      <td>mojmahamand jalal nagar near kaushal narsing h...</td>\n",
       "      <td>...</td>\n",
       "      <td>NaN</td>\n",
       "      <td>NaN</td>\n",
       "      <td>NaN</td>\n",
       "      <td>SHAHJAHANPUR</td>\n",
       "      <td>NaN</td>\n",
       "      <td>0.0</td>\n",
       "      <td>0.0</td>\n",
       "      <td>0.0</td>\n",
       "      <td>0.0</td>\n",
       "      <td>NaN</td>\n",
       "    </tr>\n",
       "    <tr>\n",
       "      <th>23038</th>\n",
       "      <td>DIV354921</td>\n",
       "      <td>SDO3249329</td>\n",
       "      <td>8.220286e+09</td>\n",
       "      <td>NaN</td>\n",
       "      <td>9.838073e+09</td>\n",
       "      <td>NaN</td>\n",
       "      <td>' 324932912719</td>\n",
       "      <td>MV_0120389</td>\n",
       "      <td>SMT NAFEES FATMA W/O LATE SRI HABEEB ULLAH KHAN</td>\n",
       "      <td>GULAM ALIPURA BAHRAICH Bahraich UP-271801 IND</td>\n",
       "      <td>...</td>\n",
       "      <td>NaN</td>\n",
       "      <td>NaN</td>\n",
       "      <td>NaN</td>\n",
       "      <td>BAHRAICH</td>\n",
       "      <td>NaN</td>\n",
       "      <td>0.0</td>\n",
       "      <td>0.0</td>\n",
       "      <td>0.0</td>\n",
       "      <td>0.0</td>\n",
       "      <td>NaN</td>\n",
       "    </tr>\n",
       "    <tr>\n",
       "      <th>26640</th>\n",
       "      <td>DIV354921</td>\n",
       "      <td>SDO3249329</td>\n",
       "      <td>7.696859e+09</td>\n",
       "      <td>NaN</td>\n",
       "      <td>9.616990e+09</td>\n",
       "      <td>NaN</td>\n",
       "      <td>' 354921212820</td>\n",
       "      <td>MV_0120268</td>\n",
       "      <td>Smt KRISHNA PATHAK D/O INDRAJEET PATHAK</td>\n",
       "      <td>DHAPALIPURWA NAZIRPURA BAHRAICH Bahraich UP-27...</td>\n",
       "      <td>...</td>\n",
       "      <td>NaN</td>\n",
       "      <td>NaN</td>\n",
       "      <td>NaN</td>\n",
       "      <td>BAHRAICH</td>\n",
       "      <td>NaN</td>\n",
       "      <td>-148.5</td>\n",
       "      <td>0.0</td>\n",
       "      <td>0.0</td>\n",
       "      <td>0.0</td>\n",
       "      <td>NaN</td>\n",
       "    </tr>\n",
       "    <tr>\n",
       "      <th>29554</th>\n",
       "      <td>DIV354921</td>\n",
       "      <td>SDO3249329</td>\n",
       "      <td>2.124688e+09</td>\n",
       "      <td>NaN</td>\n",
       "      <td>7.087868e+09</td>\n",
       "      <td>NaN</td>\n",
       "      <td>' 354921212622</td>\n",
       "      <td>NaN</td>\n",
       "      <td>MANTI DEVI</td>\n",
       "      <td>154/104 BASHIR GANJ BASHIR GANJ BAHRAICH UP-27...</td>\n",
       "      <td>...</td>\n",
       "      <td>NaN</td>\n",
       "      <td>NaN</td>\n",
       "      <td>NaN</td>\n",
       "      <td></td>\n",
       "      <td>NaN</td>\n",
       "      <td>0.0</td>\n",
       "      <td>0.0</td>\n",
       "      <td>-248.5</td>\n",
       "      <td>0.0</td>\n",
       "      <td>NaN</td>\n",
       "    </tr>\n",
       "    <tr>\n",
       "      <th>29806</th>\n",
       "      <td>DIV354921</td>\n",
       "      <td>SDO3249329</td>\n",
       "      <td>5.436829e+09</td>\n",
       "      <td>NaN</td>\n",
       "      <td>7.081084e+09</td>\n",
       "      <td>NaN</td>\n",
       "      <td>' 324932902501</td>\n",
       "      <td>NaN</td>\n",
       "      <td>FARIYAD ALI S/O CHAND BABU</td>\n",
       "      <td>MADHAVRETI BAHRAICH Bahraich UP-271801 IND</td>\n",
       "      <td>...</td>\n",
       "      <td>NaN</td>\n",
       "      <td>NaN</td>\n",
       "      <td>NaN</td>\n",
       "      <td>BAHRAICH</td>\n",
       "      <td>NaN</td>\n",
       "      <td>0.0</td>\n",
       "      <td>0.0</td>\n",
       "      <td>0.0</td>\n",
       "      <td>0.0</td>\n",
       "      <td>NaN</td>\n",
       "    </tr>\n",
       "    <tr>\n",
       "      <th>30039</th>\n",
       "      <td>DIV354921</td>\n",
       "      <td>SDO3249329</td>\n",
       "      <td>6.698243e+09</td>\n",
       "      <td>NaN</td>\n",
       "      <td>9.125669e+09</td>\n",
       "      <td>NaN</td>\n",
       "      <td>' 354921212615</td>\n",
       "      <td>NaN</td>\n",
       "      <td>RAJESH KUMAR GOEL</td>\n",
       "      <td>00045 BHAWAN SASARPARA BAHRAICH UP-271801 IND</td>\n",
       "      <td>...</td>\n",
       "      <td>RAMPUR DHOBIYA HAR</td>\n",
       "      <td>171489002.0</td>\n",
       "      <td>NaN</td>\n",
       "      <td>BAHRAICH</td>\n",
       "      <td>NaN</td>\n",
       "      <td>0.0</td>\n",
       "      <td>0.0</td>\n",
       "      <td>0.0</td>\n",
       "      <td>0.0</td>\n",
       "      <td>NaN</td>\n",
       "    </tr>\n",
       "    <tr>\n",
       "      <th>32427</th>\n",
       "      <td>DIV354921</td>\n",
       "      <td>SDO3249329</td>\n",
       "      <td>3.113953e+08</td>\n",
       "      <td>NaN</td>\n",
       "      <td>8.887640e+09</td>\n",
       "      <td>NaN</td>\n",
       "      <td>' 324932912521</td>\n",
       "      <td>MV_0100756</td>\n",
       "      <td>RANJANA NIGAM W/O SHALENDRA MOHAN</td>\n",
       "      <td>BRAHMANIPURA  BAHRAICH Bahraich UP-271801 IND</td>\n",
       "      <td>...</td>\n",
       "      <td>NaN</td>\n",
       "      <td>NaN</td>\n",
       "      <td>NaN</td>\n",
       "      <td>BAHRAICH</td>\n",
       "      <td>10-JAN-2023</td>\n",
       "      <td>0.0</td>\n",
       "      <td>0.0</td>\n",
       "      <td>0.0</td>\n",
       "      <td>0.0</td>\n",
       "      <td>4873.0</td>\n",
       "    </tr>\n",
       "    <tr>\n",
       "      <th>34155</th>\n",
       "      <td>DIV354921</td>\n",
       "      <td>SDO3249329</td>\n",
       "      <td>6.579782e+09</td>\n",
       "      <td>NaN</td>\n",
       "      <td>9.454946e+09</td>\n",
       "      <td>NaN</td>\n",
       "      <td>' 324932912617</td>\n",
       "      <td>NaN</td>\n",
       "      <td>Nizamul Hasan</td>\n",
       "      <td>New Kasimpura Sabeer Vidhayak Kasimpura BAHRAI...</td>\n",
       "      <td>...</td>\n",
       "      <td>NaN</td>\n",
       "      <td>NaN</td>\n",
       "      <td>NaN</td>\n",
       "      <td>BAHRAICH</td>\n",
       "      <td>NaN</td>\n",
       "      <td>-81.0</td>\n",
       "      <td>0.0</td>\n",
       "      <td>0.0</td>\n",
       "      <td>0.0</td>\n",
       "      <td>NaN</td>\n",
       "    </tr>\n",
       "    <tr>\n",
       "      <th>34272</th>\n",
       "      <td>DIV354921</td>\n",
       "      <td>SDO3249329</td>\n",
       "      <td>8.397109e+09</td>\n",
       "      <td>NaN</td>\n",
       "      <td>9.452035e+09</td>\n",
       "      <td>NaN</td>\n",
       "      <td>' 324932912735</td>\n",
       "      <td>NaN</td>\n",
       "      <td>AKANKSHA SRIVASTAVA</td>\n",
       "      <td>00 PALRI BAG AKHTAR BAGIYA KE PAS BAKSHIPURA B...</td>\n",
       "      <td>...</td>\n",
       "      <td>NaN</td>\n",
       "      <td>NaN</td>\n",
       "      <td>NaN</td>\n",
       "      <td>BAHRAICH</td>\n",
       "      <td>NaN</td>\n",
       "      <td>-48.0</td>\n",
       "      <td>0.0</td>\n",
       "      <td>0.0</td>\n",
       "      <td>0.0</td>\n",
       "      <td>NaN</td>\n",
       "    </tr>\n",
       "    <tr>\n",
       "      <th>35033</th>\n",
       "      <td>DIV354921</td>\n",
       "      <td>SDO3249329</td>\n",
       "      <td>7.826995e+08</td>\n",
       "      <td>NaN</td>\n",
       "      <td>8.604696e+09</td>\n",
       "      <td>NaN</td>\n",
       "      <td>' 354921212615</td>\n",
       "      <td>NaN</td>\n",
       "      <td>SALIM AHMAD S/O SAFIULLHA</td>\n",
       "      <td>MANSOORGANJ BADI TAKIYA  BAHRAICH Bahraich UP-...</td>\n",
       "      <td>...</td>\n",
       "      <td>NaN</td>\n",
       "      <td>NaN</td>\n",
       "      <td>NaN</td>\n",
       "      <td>BAHRAICH</td>\n",
       "      <td>NaN</td>\n",
       "      <td>-143.0</td>\n",
       "      <td>0.0</td>\n",
       "      <td>0.0</td>\n",
       "      <td>0.0</td>\n",
       "      <td>NaN</td>\n",
       "    </tr>\n",
       "    <tr>\n",
       "      <th>35567</th>\n",
       "      <td>DIV354921</td>\n",
       "      <td>SDO3249329</td>\n",
       "      <td>8.128586e+09</td>\n",
       "      <td>NaN</td>\n",
       "      <td>7.985186e+09</td>\n",
       "      <td>NaN</td>\n",
       "      <td>' 324932912915</td>\n",
       "      <td>NaN</td>\n",
       "      <td>SMT ZUBEIDA SIDDIQUI</td>\n",
       "      <td>NA NA SHAHPUR JOT HAT BAHRAICH UP-271801 IND</td>\n",
       "      <td>...</td>\n",
       "      <td>NaN</td>\n",
       "      <td>NaN</td>\n",
       "      <td>NaN</td>\n",
       "      <td></td>\n",
       "      <td>NaN</td>\n",
       "      <td>-11.0</td>\n",
       "      <td>0.0</td>\n",
       "      <td>0.0</td>\n",
       "      <td>0.0</td>\n",
       "      <td>NaN</td>\n",
       "    </tr>\n",
       "    <tr>\n",
       "      <th>37498</th>\n",
       "      <td>DIV354921</td>\n",
       "      <td>SDO3249329</td>\n",
       "      <td>7.020961e+09</td>\n",
       "      <td>NaN</td>\n",
       "      <td>7.398974e+09</td>\n",
       "      <td>NaN</td>\n",
       "      <td>' 324932912705</td>\n",
       "      <td>NaN</td>\n",
       "      <td>TASVVAR BEG</td>\n",
       "      <td>12336 SABJI MANDI SALARPUR SABJI MANDI BAHRAIC...</td>\n",
       "      <td>...</td>\n",
       "      <td>NaN</td>\n",
       "      <td>NaN</td>\n",
       "      <td>NaN</td>\n",
       "      <td>BAHRAICH</td>\n",
       "      <td>NaN</td>\n",
       "      <td>0.0</td>\n",
       "      <td>0.0</td>\n",
       "      <td>0.0</td>\n",
       "      <td>0.0</td>\n",
       "      <td>NaN</td>\n",
       "    </tr>\n",
       "    <tr>\n",
       "      <th>37966</th>\n",
       "      <td>DIV354921</td>\n",
       "      <td>SDO3249329</td>\n",
       "      <td>9.004753e+09</td>\n",
       "      <td>NaN</td>\n",
       "      <td>9.956277e+09</td>\n",
       "      <td>NaN</td>\n",
       "      <td>' 324932962905</td>\n",
       "      <td>NaN</td>\n",
       "      <td>Jagdish Prasad</td>\n",
       "      <td>bahadur chak bahadur chak CHITAURA BAHRAICH UP...</td>\n",
       "      <td>...</td>\n",
       "      <td>RAMPUR BARAIE</td>\n",
       "      <td>1207793.0</td>\n",
       "      <td>NaN</td>\n",
       "      <td>BAHRAICH</td>\n",
       "      <td>NaN</td>\n",
       "      <td>NaN</td>\n",
       "      <td>NaN</td>\n",
       "      <td>NaN</td>\n",
       "      <td>NaN</td>\n",
       "      <td>NaN</td>\n",
       "    </tr>\n",
       "    <tr>\n",
       "      <th>39050</th>\n",
       "      <td>DIV354921</td>\n",
       "      <td>SDO3249329</td>\n",
       "      <td>4.304487e+09</td>\n",
       "      <td>NaN</td>\n",
       "      <td>NaN</td>\n",
       "      <td>NaN</td>\n",
       "      <td>' 324932902501</td>\n",
       "      <td>NaN</td>\n",
       "      <td>RAJU S/O NIZAMUDDIN</td>\n",
       "      <td>SALARGANJ NAGOKHATTA\\t BAHRAICH Bahraich UP-27...</td>\n",
       "      <td>...</td>\n",
       "      <td>NaN</td>\n",
       "      <td>NaN</td>\n",
       "      <td>NaN</td>\n",
       "      <td>BAHRAICH</td>\n",
       "      <td>NaN</td>\n",
       "      <td>0.0</td>\n",
       "      <td>0.0</td>\n",
       "      <td>0.0</td>\n",
       "      <td>0.0</td>\n",
       "      <td>NaN</td>\n",
       "    </tr>\n",
       "    <tr>\n",
       "      <th>39620</th>\n",
       "      <td>DIV354921</td>\n",
       "      <td>SDO3249329</td>\n",
       "      <td>8.417425e+09</td>\n",
       "      <td>NaN</td>\n",
       "      <td>9.450473e+09</td>\n",
       "      <td>NaN</td>\n",
       "      <td>' 324932902501</td>\n",
       "      <td>NaN</td>\n",
       "      <td>SMT RESHMA W/O SRI HASAN AHMAD</td>\n",
       "      <td>QAZIPURA SOUTH BAHRAICH Bahraich UP-271801 IND</td>\n",
       "      <td>...</td>\n",
       "      <td>NaN</td>\n",
       "      <td>NaN</td>\n",
       "      <td>NaN</td>\n",
       "      <td>BAHRAICH</td>\n",
       "      <td>NaN</td>\n",
       "      <td>0.0</td>\n",
       "      <td>0.0</td>\n",
       "      <td>0.0</td>\n",
       "      <td>0.0</td>\n",
       "      <td>NaN</td>\n",
       "    </tr>\n",
       "    <tr>\n",
       "      <th>39668</th>\n",
       "      <td>DIV354921</td>\n",
       "      <td>SDO3249329</td>\n",
       "      <td>7.357592e+09</td>\n",
       "      <td>NaN</td>\n",
       "      <td>9.838204e+09</td>\n",
       "      <td>NaN</td>\n",
       "      <td>' 324932902501</td>\n",
       "      <td>MV_0120296</td>\n",
       "      <td>AZIM KHAN S/O AZMAT KHAN</td>\n",
       "      <td>SUMAIYA MALL NAZIRPURA BAHRAICH Bahraich UP-27...</td>\n",
       "      <td>...</td>\n",
       "      <td>NaN</td>\n",
       "      <td>NaN</td>\n",
       "      <td>NaN</td>\n",
       "      <td>BAHRAICH</td>\n",
       "      <td>NaN</td>\n",
       "      <td>0.0</td>\n",
       "      <td>0.0</td>\n",
       "      <td>0.0</td>\n",
       "      <td>0.0</td>\n",
       "      <td>NaN</td>\n",
       "    </tr>\n",
       "    <tr>\n",
       "      <th>40087</th>\n",
       "      <td>DIV354921</td>\n",
       "      <td>SDO3249329</td>\n",
       "      <td>2.253558e+09</td>\n",
       "      <td>NaN</td>\n",
       "      <td>9.044435e+09</td>\n",
       "      <td>NaN</td>\n",
       "      <td>' 324932902501</td>\n",
       "      <td>NaN</td>\n",
       "      <td>SMT BABITA W/O VIVEK KUMAR</td>\n",
       "      <td>RAIPUR RAJA JAIL ROAD   BAHRAICH Bahraich UP-2...</td>\n",
       "      <td>...</td>\n",
       "      <td>NaN</td>\n",
       "      <td>NaN</td>\n",
       "      <td>NaN</td>\n",
       "      <td>BAHRAICH</td>\n",
       "      <td>NaN</td>\n",
       "      <td>0.0</td>\n",
       "      <td>0.0</td>\n",
       "      <td>0.0</td>\n",
       "      <td>0.0</td>\n",
       "      <td>NaN</td>\n",
       "    </tr>\n",
       "    <tr>\n",
       "      <th>46684</th>\n",
       "      <td>DIV354921</td>\n",
       "      <td>SDO3249329</td>\n",
       "      <td>5.183055e+09</td>\n",
       "      <td>NaN</td>\n",
       "      <td>8.874022e+09</td>\n",
       "      <td>NaN</td>\n",
       "      <td>' 324932912613</td>\n",
       "      <td>MBV_0101296</td>\n",
       "      <td>KALLU SINGH S/O BHAGOUTI SINGH</td>\n",
       "      <td>SALARGANJ KALENDERPURWA  BAHRAICH Bahraich UP-...</td>\n",
       "      <td>...</td>\n",
       "      <td>NaN</td>\n",
       "      <td>NaN</td>\n",
       "      <td>NaN</td>\n",
       "      <td>BAHRAICH</td>\n",
       "      <td>NaN</td>\n",
       "      <td>-137.0</td>\n",
       "      <td>0.0</td>\n",
       "      <td>0.0</td>\n",
       "      <td>0.0</td>\n",
       "      <td>NaN</td>\n",
       "    </tr>\n",
       "    <tr>\n",
       "      <th>46794</th>\n",
       "      <td>DIV354921</td>\n",
       "      <td>SDO3249329</td>\n",
       "      <td>6.940671e+08</td>\n",
       "      <td>NaN</td>\n",
       "      <td>8.115010e+09</td>\n",
       "      <td>NaN</td>\n",
       "      <td>' 324932902501</td>\n",
       "      <td>NaN</td>\n",
       "      <td>SANDEEP KUMAR JAISWAL S/O CHOTE LAL JAISWAL</td>\n",
       "      <td>CHAWNI SARKAR VISHNO  COLONY  BAHRAICH Bahraic...</td>\n",
       "      <td>...</td>\n",
       "      <td>NaN</td>\n",
       "      <td>NaN</td>\n",
       "      <td>NaN</td>\n",
       "      <td>BAHRAICH</td>\n",
       "      <td>NaN</td>\n",
       "      <td>0.0</td>\n",
       "      <td>0.0</td>\n",
       "      <td>0.0</td>\n",
       "      <td>0.0</td>\n",
       "      <td>NaN</td>\n",
       "    </tr>\n",
       "    <tr>\n",
       "      <th>50545</th>\n",
       "      <td>DIV354921</td>\n",
       "      <td>SDO3249329</td>\n",
       "      <td>3.618005e+09</td>\n",
       "      <td>NaN</td>\n",
       "      <td>7.800095e+09</td>\n",
       "      <td>NaN</td>\n",
       "      <td>' 324932902501</td>\n",
       "      <td>NaN</td>\n",
       "      <td>SMT NAZEERA BEGAM W/O LATE NASIR AHMAD</td>\n",
       "      <td>SALARGANJ   BAHRAICH Bahraich UP-271801 IND</td>\n",
       "      <td>...</td>\n",
       "      <td>NaN</td>\n",
       "      <td>NaN</td>\n",
       "      <td>NaN</td>\n",
       "      <td>BAHRAICH</td>\n",
       "      <td>NaN</td>\n",
       "      <td>0.0</td>\n",
       "      <td>0.0</td>\n",
       "      <td>0.0</td>\n",
       "      <td>0.0</td>\n",
       "      <td>NaN</td>\n",
       "    </tr>\n",
       "    <tr>\n",
       "      <th>52721</th>\n",
       "      <td>DIV354921</td>\n",
       "      <td>SDO3249329</td>\n",
       "      <td>7.778312e+09</td>\n",
       "      <td>NaN</td>\n",
       "      <td>9.648387e+09</td>\n",
       "      <td>NaN</td>\n",
       "      <td>' 324932900101</td>\n",
       "      <td>NaN</td>\n",
       "      <td>MOHD AHMAD S/O SHAFIQUE AHMAD</td>\n",
       "      <td>WAZIRBAG NEAR - ALOK JWELARS BAHRAICH Bahraich...</td>\n",
       "      <td>...</td>\n",
       "      <td>NaN</td>\n",
       "      <td>NaN</td>\n",
       "      <td>NaN</td>\n",
       "      <td>BAHRAICH</td>\n",
       "      <td>NaN</td>\n",
       "      <td>0.0</td>\n",
       "      <td>0.0</td>\n",
       "      <td>0.0</td>\n",
       "      <td>0.0</td>\n",
       "      <td>NaN</td>\n",
       "    </tr>\n",
       "    <tr>\n",
       "      <th>53478</th>\n",
       "      <td>DIV354921</td>\n",
       "      <td>SDO3249329</td>\n",
       "      <td>2.677499e+09</td>\n",
       "      <td>NaN</td>\n",
       "      <td>7.376961e+09</td>\n",
       "      <td>NaN</td>\n",
       "      <td>' 324932962905</td>\n",
       "      <td>NaN</td>\n",
       "      <td>MUBARAK</td>\n",
       "      <td>BISHUNPUR RAHU BISHUNPUR RAHU CHITATURA BAHRAI...</td>\n",
       "      <td>...</td>\n",
       "      <td>RAMPUR BARAIE</td>\n",
       "      <td>1207793.0</td>\n",
       "      <td>NaN</td>\n",
       "      <td>BAHRAICH</td>\n",
       "      <td>NaN</td>\n",
       "      <td>NaN</td>\n",
       "      <td>NaN</td>\n",
       "      <td>NaN</td>\n",
       "      <td>NaN</td>\n",
       "      <td>NaN</td>\n",
       "    </tr>\n",
       "    <tr>\n",
       "      <th>55922</th>\n",
       "      <td>DIV354921</td>\n",
       "      <td>SDO3249329</td>\n",
       "      <td>3.258851e+09</td>\n",
       "      <td>NaN</td>\n",
       "      <td>1.000000e+10</td>\n",
       "      <td>NaN</td>\n",
       "      <td>' 324932902501</td>\n",
       "      <td>MV_0109080</td>\n",
       "      <td>SMT SHANTI W/O LATE RATAN LAL</td>\n",
       "      <td>HAMJAPURA   BAHRAICH Bahraich UP-271801 IND</td>\n",
       "      <td>...</td>\n",
       "      <td>NaN</td>\n",
       "      <td>NaN</td>\n",
       "      <td>NaN</td>\n",
       "      <td>BAHRAICH</td>\n",
       "      <td>NaN</td>\n",
       "      <td>0.0</td>\n",
       "      <td>0.0</td>\n",
       "      <td>0.0</td>\n",
       "      <td>0.0</td>\n",
       "      <td>NaN</td>\n",
       "    </tr>\n",
       "    <tr>\n",
       "      <th>58899</th>\n",
       "      <td>DIV354921</td>\n",
       "      <td>SDO3249329</td>\n",
       "      <td>3.637950e+09</td>\n",
       "      <td>NaN</td>\n",
       "      <td>8.738063e+09</td>\n",
       "      <td>NaN</td>\n",
       "      <td>' 324932912711</td>\n",
       "      <td>NaN</td>\n",
       "      <td>ARJUN S/O RAM BABU</td>\n",
       "      <td>MEERPUR KASBA HASAN NAGAR  BAHRAICH Bahraich U...</td>\n",
       "      <td>...</td>\n",
       "      <td>NaN</td>\n",
       "      <td>NaN</td>\n",
       "      <td>NaN</td>\n",
       "      <td>BAHRAICH</td>\n",
       "      <td>NaN</td>\n",
       "      <td>0.0</td>\n",
       "      <td>0.0</td>\n",
       "      <td>0.0</td>\n",
       "      <td>0.0</td>\n",
       "      <td>NaN</td>\n",
       "    </tr>\n",
       "    <tr>\n",
       "      <th>59143</th>\n",
       "      <td>DIV354921</td>\n",
       "      <td>SDO3249329</td>\n",
       "      <td>3.439509e+09</td>\n",
       "      <td>NaN</td>\n",
       "      <td>6.306116e+09</td>\n",
       "      <td>NaN</td>\n",
       "      <td>' 324932912614</td>\n",
       "      <td>NaN</td>\n",
       "      <td>AFTAB AHMAD ANSARI</td>\n",
       "      <td>305 GUDRI NEAR HAJI RASHEED MASJID GUDRI BAHRA...</td>\n",
       "      <td>...</td>\n",
       "      <td>NaN</td>\n",
       "      <td>NaN</td>\n",
       "      <td>NaN</td>\n",
       "      <td></td>\n",
       "      <td>NaN</td>\n",
       "      <td>0.0</td>\n",
       "      <td>0.0</td>\n",
       "      <td>0.0</td>\n",
       "      <td>0.0</td>\n",
       "      <td>NaN</td>\n",
       "    </tr>\n",
       "    <tr>\n",
       "      <th>61507</th>\n",
       "      <td>DIV354921</td>\n",
       "      <td>SDO3249329</td>\n",
       "      <td>9.095954e+09</td>\n",
       "      <td>NaN</td>\n",
       "      <td>8.858288e+09</td>\n",
       "      <td>NaN</td>\n",
       "      <td>' 324932902501</td>\n",
       "      <td>MV_0120389</td>\n",
       "      <td>HANEEF S/O JALEEL</td>\n",
       "      <td>NAZIRPURA BAHRAICH Bahraich UP-271801 IND</td>\n",
       "      <td>...</td>\n",
       "      <td>NaN</td>\n",
       "      <td>NaN</td>\n",
       "      <td>NaN</td>\n",
       "      <td>BAHRAICH</td>\n",
       "      <td>NaN</td>\n",
       "      <td>0.0</td>\n",
       "      <td>0.0</td>\n",
       "      <td>0.0</td>\n",
       "      <td>0.0</td>\n",
       "      <td>NaN</td>\n",
       "    </tr>\n",
       "    <tr>\n",
       "      <th>61537</th>\n",
       "      <td>DIV354921</td>\n",
       "      <td>SDO3249329</td>\n",
       "      <td>3.399746e+09</td>\n",
       "      <td>NaN</td>\n",
       "      <td>1.000000e+10</td>\n",
       "      <td>NaN</td>\n",
       "      <td>' 324932902501</td>\n",
       "      <td>NaN</td>\n",
       "      <td>MOHD SHOAIB S/O MOHD SALIM</td>\n",
       "      <td>SALARGANJ   BAHRAICH Bahraich UP-271801 IND</td>\n",
       "      <td>...</td>\n",
       "      <td>NaN</td>\n",
       "      <td>NaN</td>\n",
       "      <td>NaN</td>\n",
       "      <td>BAHRAICH</td>\n",
       "      <td>NaN</td>\n",
       "      <td>0.0</td>\n",
       "      <td>0.0</td>\n",
       "      <td>0.0</td>\n",
       "      <td>0.0</td>\n",
       "      <td>NaN</td>\n",
       "    </tr>\n",
       "    <tr>\n",
       "      <th>62101</th>\n",
       "      <td>DIV354921</td>\n",
       "      <td>SDO3249329</td>\n",
       "      <td>7.894845e+09</td>\n",
       "      <td>NaN</td>\n",
       "      <td>9.598209e+09</td>\n",
       "      <td>NaN</td>\n",
       "      <td>' 324932912617</td>\n",
       "      <td>NaN</td>\n",
       "      <td>NIYAMAT ALI S/O RAHMAT ALI</td>\n",
       "      <td>CHANDPURA NEAR SHABBIR MLA HOUSE   BAHRAICH Ba...</td>\n",
       "      <td>...</td>\n",
       "      <td>NaN</td>\n",
       "      <td>NaN</td>\n",
       "      <td>NaN</td>\n",
       "      <td>BAHRAICH</td>\n",
       "      <td>NaN</td>\n",
       "      <td>0.0</td>\n",
       "      <td>0.0</td>\n",
       "      <td>0.0</td>\n",
       "      <td>0.0</td>\n",
       "      <td>NaN</td>\n",
       "    </tr>\n",
       "    <tr>\n",
       "      <th>62813</th>\n",
       "      <td>DIV354921</td>\n",
       "      <td>SDO3249329</td>\n",
       "      <td>9.949870e+08</td>\n",
       "      <td>NaN</td>\n",
       "      <td>8.081002e+09</td>\n",
       "      <td>NaN</td>\n",
       "      <td>' 324932962504</td>\n",
       "      <td>MV_0101980</td>\n",
       "      <td>ADITYA SHUKLA S/O DEVI PRASAD SHUKLA</td>\n",
       "      <td>BARHAMANIPURA NEAR-ANAND HOTEL  BAHRAICH Bahra...</td>\n",
       "      <td>...</td>\n",
       "      <td>NaN</td>\n",
       "      <td>NaN</td>\n",
       "      <td>NaN</td>\n",
       "      <td>BAHRAICH</td>\n",
       "      <td>04-NOV-2022</td>\n",
       "      <td>0.0</td>\n",
       "      <td>0.0</td>\n",
       "      <td>0.0</td>\n",
       "      <td>0.0</td>\n",
       "      <td>NaN</td>\n",
       "    </tr>\n",
       "    <tr>\n",
       "      <th>67486</th>\n",
       "      <td>DIV354921</td>\n",
       "      <td>SDO3249329</td>\n",
       "      <td>4.412696e+09</td>\n",
       "      <td>NaN</td>\n",
       "      <td>9.670561e+09</td>\n",
       "      <td>NaN</td>\n",
       "      <td>' 324932902501</td>\n",
       "      <td>NaN</td>\n",
       "      <td>RAHMAT ALI KHAN S/O FAYYAJ ALI</td>\n",
       "      <td>CHAUK BAZAR BAHRAICH Bahraich UP-271801 IND</td>\n",
       "      <td>...</td>\n",
       "      <td>NaN</td>\n",
       "      <td>NaN</td>\n",
       "      <td>NaN</td>\n",
       "      <td>BAHRAICH</td>\n",
       "      <td>NaN</td>\n",
       "      <td>0.0</td>\n",
       "      <td>0.0</td>\n",
       "      <td>0.0</td>\n",
       "      <td>0.0</td>\n",
       "      <td>NaN</td>\n",
       "    </tr>\n",
       "    <tr>\n",
       "      <th>73411</th>\n",
       "      <td>DIV354921</td>\n",
       "      <td>SDO3249329</td>\n",
       "      <td>1.834526e+08</td>\n",
       "      <td>NaN</td>\n",
       "      <td>7.388365e+09</td>\n",
       "      <td>NaN</td>\n",
       "      <td>' 354921212613</td>\n",
       "      <td>NaN</td>\n",
       "      <td>SMT HASRAT JAHAN W/O AHMAD KHAN</td>\n",
       "      <td>SALARGANJ NEAR MAULANA ARIF ALI HOUSE\\tBAHRAIC...</td>\n",
       "      <td>...</td>\n",
       "      <td>NaN</td>\n",
       "      <td>NaN</td>\n",
       "      <td>NaN</td>\n",
       "      <td>BAHRAICH</td>\n",
       "      <td>14-JAN-2023</td>\n",
       "      <td>-1.0</td>\n",
       "      <td>0.0</td>\n",
       "      <td>0.0</td>\n",
       "      <td>0.0</td>\n",
       "      <td>NaN</td>\n",
       "    </tr>\n",
       "    <tr>\n",
       "      <th>77139</th>\n",
       "      <td>DIV354921</td>\n",
       "      <td>SDO3249329</td>\n",
       "      <td>7.120729e+09</td>\n",
       "      <td>NaN</td>\n",
       "      <td>8.423887e+09</td>\n",
       "      <td>NaN</td>\n",
       "      <td>' 324932902501</td>\n",
       "      <td>NaN</td>\n",
       "      <td>SMT SAHANA PRAVEEN W/O HABIB AHMAD</td>\n",
       "      <td>SALARGANJ   BAHRAICH Bahraich UP-271801 IND</td>\n",
       "      <td>...</td>\n",
       "      <td>NaN</td>\n",
       "      <td>NaN</td>\n",
       "      <td>NaN</td>\n",
       "      <td>BAHRAICH</td>\n",
       "      <td>NaN</td>\n",
       "      <td>0.0</td>\n",
       "      <td>0.0</td>\n",
       "      <td>0.0</td>\n",
       "      <td>0.0</td>\n",
       "      <td>NaN</td>\n",
       "    </tr>\n",
       "    <tr>\n",
       "      <th>77770</th>\n",
       "      <td>DIV354921</td>\n",
       "      <td>SDO3249329</td>\n",
       "      <td>1.843786e+09</td>\n",
       "      <td>NaN</td>\n",
       "      <td>9.721954e+09</td>\n",
       "      <td>NaN</td>\n",
       "      <td>' 324932962905</td>\n",
       "      <td>NaN</td>\n",
       "      <td>Bhola Prasad</td>\n",
       "      <td>RATANPUR RATANPUR JAMUNAHA BAHRAICH UP-111111 IND</td>\n",
       "      <td>...</td>\n",
       "      <td>RAMPUR BARAIE</td>\n",
       "      <td>1207793.0</td>\n",
       "      <td>NaN</td>\n",
       "      <td>BAHRAICH</td>\n",
       "      <td>NaN</td>\n",
       "      <td>NaN</td>\n",
       "      <td>NaN</td>\n",
       "      <td>NaN</td>\n",
       "      <td>NaN</td>\n",
       "      <td>NaN</td>\n",
       "    </tr>\n",
       "    <tr>\n",
       "      <th>79282</th>\n",
       "      <td>DIV354921</td>\n",
       "      <td>SDO3249329</td>\n",
       "      <td>5.908154e+09</td>\n",
       "      <td>NaN</td>\n",
       "      <td>9.781324e+09</td>\n",
       "      <td>NaN</td>\n",
       "      <td>' 324932912735</td>\n",
       "      <td>NaN</td>\n",
       "      <td>CHANDRAVATI</td>\n",
       "      <td>00 NASUTIYA KALPIPARA GADARIYAN PURWA BAHRAICH...</td>\n",
       "      <td>...</td>\n",
       "      <td>NaN</td>\n",
       "      <td>NaN</td>\n",
       "      <td>NaN</td>\n",
       "      <td></td>\n",
       "      <td>NaN</td>\n",
       "      <td>0.0</td>\n",
       "      <td>0.0</td>\n",
       "      <td>-84.0</td>\n",
       "      <td>0.0</td>\n",
       "      <td>NaN</td>\n",
       "    </tr>\n",
       "    <tr>\n",
       "      <th>82453</th>\n",
       "      <td>DIV354921</td>\n",
       "      <td>SDO3249329</td>\n",
       "      <td>6.241259e+09</td>\n",
       "      <td>NaN</td>\n",
       "      <td>7.068764e+09</td>\n",
       "      <td>NaN</td>\n",
       "      <td>' 324932912711</td>\n",
       "      <td>NaN</td>\n",
       "      <td>SMT MUUNI WO SRI RAJU</td>\n",
       "      <td>NA DARGAH SHARIF NEAR MONU HOTEL DARGAH SHARIF...</td>\n",
       "      <td>...</td>\n",
       "      <td>NaN</td>\n",
       "      <td>NaN</td>\n",
       "      <td>NaN</td>\n",
       "      <td>BAHRAICH</td>\n",
       "      <td>NaN</td>\n",
       "      <td>-152.5</td>\n",
       "      <td>0.0</td>\n",
       "      <td>0.0</td>\n",
       "      <td>0.0</td>\n",
       "      <td>NaN</td>\n",
       "    </tr>\n",
       "    <tr>\n",
       "      <th>82580</th>\n",
       "      <td>DIV354921</td>\n",
       "      <td>SDO3249329</td>\n",
       "      <td>3.763080e+09</td>\n",
       "      <td>NaN</td>\n",
       "      <td>9.889373e+09</td>\n",
       "      <td>NaN</td>\n",
       "      <td>' 324932902501</td>\n",
       "      <td>NaN</td>\n",
       "      <td>RAZA ABBAS S/O ARSHAD HUSAIN</td>\n",
       "      <td>AKBARPURA SUMAIYA MAAL BAHRAICH Bahraich UP-27...</td>\n",
       "      <td>...</td>\n",
       "      <td>NaN</td>\n",
       "      <td>NaN</td>\n",
       "      <td>NaN</td>\n",
       "      <td>BAHRAICH</td>\n",
       "      <td>NaN</td>\n",
       "      <td>0.0</td>\n",
       "      <td>0.0</td>\n",
       "      <td>0.0</td>\n",
       "      <td>0.0</td>\n",
       "      <td>NaN</td>\n",
       "    </tr>\n",
       "    <tr>\n",
       "      <th>84193</th>\n",
       "      <td>DIV354921</td>\n",
       "      <td>SDO3249329</td>\n",
       "      <td>8.811008e+09</td>\n",
       "      <td>NaN</td>\n",
       "      <td>9.919691e+09</td>\n",
       "      <td>NaN</td>\n",
       "      <td>' 324932902501</td>\n",
       "      <td>MV_0120250</td>\n",
       "      <td>MAHTAB ALAM S/O KHALEEL AHMAD</td>\n",
       "      <td>BADIHAT BAHRAICH Bahraich UP-271801 IND</td>\n",
       "      <td>...</td>\n",
       "      <td>NaN</td>\n",
       "      <td>NaN</td>\n",
       "      <td>NaN</td>\n",
       "      <td>BAHRAICH</td>\n",
       "      <td>NaN</td>\n",
       "      <td>0.0</td>\n",
       "      <td>0.0</td>\n",
       "      <td>0.0</td>\n",
       "      <td>0.0</td>\n",
       "      <td>NaN</td>\n",
       "    </tr>\n",
       "  </tbody>\n",
       "</table>\n",
       "<p>50 rows × 122 columns</p>\n",
       "</div>"
      ],
      "text/plain": [
       "        DIV_CODE    SDO_CODE       ACCT_ID  KNO     MOBILE_NO  LANDLINE_NO  \\\n",
       "2284   DIV354921  SDO3249329  6.566506e+09  NaN  8.052109e+09          NaN   \n",
       "3365   DIV354921  SDO3249329  7.615839e+09  NaN  8.090600e+09          NaN   \n",
       "5582   DIV354921  SDO3249329  9.065903e+09  NaN  8.874604e+09          NaN   \n",
       "5606   DIV354921  SDO3249329  3.408189e+09  NaN  9.450426e+09          NaN   \n",
       "5648   DIV354921  SDO3249329  8.798896e+09  NaN           NaN          NaN   \n",
       "5714   DIV354921  SDO3249329  7.239130e+09  NaN  6.390595e+09          NaN   \n",
       "8385   DIV354921  SDO3249329  3.834376e+09  NaN           NaN          NaN   \n",
       "9043   DIV354921  SDO3249329  8.220708e+09  NaN  1.000000e+10          NaN   \n",
       "11549  DIV354921  SDO3249329  5.077762e+09  NaN  9.451406e+09          NaN   \n",
       "14620  DIV354921  SDO3249329  1.840163e+09  NaN  9.450425e+09          NaN   \n",
       "17472  DIV354921  SDO3249329  5.010189e+09  NaN  8.417878e+09          NaN   \n",
       "19276  DIV354921  SDO3249329  6.095345e+09  NaN           NaN          NaN   \n",
       "20745  DIV354921  SDO3249329  3.396572e+08  NaN  9.628364e+09          NaN   \n",
       "21386  DIV354921  SDO3249329  6.702401e+09  NaN  7.275273e+09          NaN   \n",
       "23038  DIV354921  SDO3249329  8.220286e+09  NaN  9.838073e+09          NaN   \n",
       "26640  DIV354921  SDO3249329  7.696859e+09  NaN  9.616990e+09          NaN   \n",
       "29554  DIV354921  SDO3249329  2.124688e+09  NaN  7.087868e+09          NaN   \n",
       "29806  DIV354921  SDO3249329  5.436829e+09  NaN  7.081084e+09          NaN   \n",
       "30039  DIV354921  SDO3249329  6.698243e+09  NaN  9.125669e+09          NaN   \n",
       "32427  DIV354921  SDO3249329  3.113953e+08  NaN  8.887640e+09          NaN   \n",
       "34155  DIV354921  SDO3249329  6.579782e+09  NaN  9.454946e+09          NaN   \n",
       "34272  DIV354921  SDO3249329  8.397109e+09  NaN  9.452035e+09          NaN   \n",
       "35033  DIV354921  SDO3249329  7.826995e+08  NaN  8.604696e+09          NaN   \n",
       "35567  DIV354921  SDO3249329  8.128586e+09  NaN  7.985186e+09          NaN   \n",
       "37498  DIV354921  SDO3249329  7.020961e+09  NaN  7.398974e+09          NaN   \n",
       "37966  DIV354921  SDO3249329  9.004753e+09  NaN  9.956277e+09          NaN   \n",
       "39050  DIV354921  SDO3249329  4.304487e+09  NaN           NaN          NaN   \n",
       "39620  DIV354921  SDO3249329  8.417425e+09  NaN  9.450473e+09          NaN   \n",
       "39668  DIV354921  SDO3249329  7.357592e+09  NaN  9.838204e+09          NaN   \n",
       "40087  DIV354921  SDO3249329  2.253558e+09  NaN  9.044435e+09          NaN   \n",
       "46684  DIV354921  SDO3249329  5.183055e+09  NaN  8.874022e+09          NaN   \n",
       "46794  DIV354921  SDO3249329  6.940671e+08  NaN  8.115010e+09          NaN   \n",
       "50545  DIV354921  SDO3249329  3.618005e+09  NaN  7.800095e+09          NaN   \n",
       "52721  DIV354921  SDO3249329  7.778312e+09  NaN  9.648387e+09          NaN   \n",
       "53478  DIV354921  SDO3249329  2.677499e+09  NaN  7.376961e+09          NaN   \n",
       "55922  DIV354921  SDO3249329  3.258851e+09  NaN  1.000000e+10          NaN   \n",
       "58899  DIV354921  SDO3249329  3.637950e+09  NaN  8.738063e+09          NaN   \n",
       "59143  DIV354921  SDO3249329  3.439509e+09  NaN  6.306116e+09          NaN   \n",
       "61507  DIV354921  SDO3249329  9.095954e+09  NaN  8.858288e+09          NaN   \n",
       "61537  DIV354921  SDO3249329  3.399746e+09  NaN  1.000000e+10          NaN   \n",
       "62101  DIV354921  SDO3249329  7.894845e+09  NaN  9.598209e+09          NaN   \n",
       "62813  DIV354921  SDO3249329  9.949870e+08  NaN  8.081002e+09          NaN   \n",
       "67486  DIV354921  SDO3249329  4.412696e+09  NaN  9.670561e+09          NaN   \n",
       "73411  DIV354921  SDO3249329  1.834526e+08  NaN  7.388365e+09          NaN   \n",
       "77139  DIV354921  SDO3249329  7.120729e+09  NaN  8.423887e+09          NaN   \n",
       "77770  DIV354921  SDO3249329  1.843786e+09  NaN  9.721954e+09          NaN   \n",
       "79282  DIV354921  SDO3249329  5.908154e+09  NaN  9.781324e+09          NaN   \n",
       "82453  DIV354921  SDO3249329  6.241259e+09  NaN  7.068764e+09          NaN   \n",
       "82580  DIV354921  SDO3249329  3.763080e+09  NaN  9.889373e+09          NaN   \n",
       "84193  DIV354921  SDO3249329  8.811008e+09  NaN  9.919691e+09          NaN   \n",
       "\n",
       "              BOOK_NO         SCNO  \\\n",
       "2284   ' 324932902501   MV_0120249   \n",
       "3365   ' 324932902501          NaN   \n",
       "5582   ' 324932912721          NaN   \n",
       "5606   ' 324932912711          NaN   \n",
       "5648   ' 324932912618    MV_064554   \n",
       "5714   ' 324932912613          NaN   \n",
       "8385   ' 324932902501   MV_0120346   \n",
       "9043   ' 324932902501   MV_0109141   \n",
       "11549  ' 324932912735          NaN   \n",
       "14620  ' 324932902501   MV_0120394   \n",
       "17472  ' 324932912828   MV_0120395   \n",
       "19276  ' 324932902501          NaN   \n",
       "20745  ' 324932912816   MV_0118726   \n",
       "21386  ' 324932913132          NaN   \n",
       "23038  ' 324932912719   MV_0120389   \n",
       "26640  ' 354921212820   MV_0120268   \n",
       "29554  ' 354921212622          NaN   \n",
       "29806  ' 324932902501          NaN   \n",
       "30039  ' 354921212615          NaN   \n",
       "32427  ' 324932912521   MV_0100756   \n",
       "34155  ' 324932912617          NaN   \n",
       "34272  ' 324932912735          NaN   \n",
       "35033  ' 354921212615          NaN   \n",
       "35567  ' 324932912915          NaN   \n",
       "37498  ' 324932912705          NaN   \n",
       "37966  ' 324932962905          NaN   \n",
       "39050  ' 324932902501          NaN   \n",
       "39620  ' 324932902501          NaN   \n",
       "39668  ' 324932902501   MV_0120296   \n",
       "40087  ' 324932902501          NaN   \n",
       "46684  ' 324932912613  MBV_0101296   \n",
       "46794  ' 324932902501          NaN   \n",
       "50545  ' 324932902501          NaN   \n",
       "52721  ' 324932900101          NaN   \n",
       "53478  ' 324932962905          NaN   \n",
       "55922  ' 324932902501   MV_0109080   \n",
       "58899  ' 324932912711          NaN   \n",
       "59143  ' 324932912614          NaN   \n",
       "61507  ' 324932902501   MV_0120389   \n",
       "61537  ' 324932902501          NaN   \n",
       "62101  ' 324932912617          NaN   \n",
       "62813  ' 324932962504   MV_0101980   \n",
       "67486  ' 324932902501          NaN   \n",
       "73411  ' 354921212613          NaN   \n",
       "77139  ' 324932902501          NaN   \n",
       "77770  ' 324932962905          NaN   \n",
       "79282  ' 324932912735          NaN   \n",
       "82453  ' 324932912711          NaN   \n",
       "82580  ' 324932902501          NaN   \n",
       "84193  ' 324932902501   MV_0120250   \n",
       "\n",
       "                                                  NAME  \\\n",
       "2284           RAJESH KUMAR GUPTA S/O RAM LAKHAN GUPTA   \n",
       "3365          SRI PRAKASH SONI S/O SRI UMASHANKAR SONI   \n",
       "5582                    SMT RINKU DEVI W/O MANOJ KUMAR   \n",
       "5606                      IRFAN AHMAD S/O KURBAN AHMAD   \n",
       "5648                                       MOHD GUFRAN   \n",
       "5714                       ARMAAN ALI S/O JALEEL AHMAD   \n",
       "8385        MITHLESH KUMARI PANDEY W/O RAM KUMAR PANEY   \n",
       "9043                            KARINA W/O MOHD SHARIF   \n",
       "11549                                     RICHA SHUKLA   \n",
       "14620                    HABEEB AHMAd S/O HAZI DARGAHI   \n",
       "17472               Mr MAYANK TANDON S/O Mr S N TANDON   \n",
       "19276      SRI SANA ULLAH KHAN S/O SRI AMAN ULLAH KHAN   \n",
       "20745               SUMITRA DEVI W/O LATE-SANJAY KUMAR   \n",
       "21386                                           SEE MA   \n",
       "23038  SMT NAFEES FATMA W/O LATE SRI HABEEB ULLAH KHAN   \n",
       "26640          Smt KRISHNA PATHAK D/O INDRAJEET PATHAK   \n",
       "29554                                       MANTI DEVI   \n",
       "29806                       FARIYAD ALI S/O CHAND BABU   \n",
       "30039                                RAJESH KUMAR GOEL   \n",
       "32427                RANJANA NIGAM W/O SHALENDRA MOHAN   \n",
       "34155                                    Nizamul Hasan   \n",
       "34272                              AKANKSHA SRIVASTAVA   \n",
       "35033                        SALIM AHMAD S/O SAFIULLHA   \n",
       "35567                             SMT ZUBEIDA SIDDIQUI   \n",
       "37498                                      TASVVAR BEG   \n",
       "37966                                   Jagdish Prasad   \n",
       "39050                              RAJU S/O NIZAMUDDIN   \n",
       "39620                   SMT RESHMA W/O SRI HASAN AHMAD   \n",
       "39668                         AZIM KHAN S/O AZMAT KHAN   \n",
       "40087                       SMT BABITA W/O VIVEK KUMAR   \n",
       "46684                   KALLU SINGH S/O BHAGOUTI SINGH   \n",
       "46794      SANDEEP KUMAR JAISWAL S/O CHOTE LAL JAISWAL   \n",
       "50545           SMT NAZEERA BEGAM W/O LATE NASIR AHMAD   \n",
       "52721                    MOHD AHMAD S/O SHAFIQUE AHMAD   \n",
       "53478                                          MUBARAK   \n",
       "55922                    SMT SHANTI W/O LATE RATAN LAL   \n",
       "58899                               ARJUN S/O RAM BABU   \n",
       "59143                               AFTAB AHMAD ANSARI   \n",
       "61507                                HANEEF S/O JALEEL   \n",
       "61537                       MOHD SHOAIB S/O MOHD SALIM   \n",
       "62101                       NIYAMAT ALI S/O RAHMAT ALI   \n",
       "62813             ADITYA SHUKLA S/O DEVI PRASAD SHUKLA   \n",
       "67486                   RAHMAT ALI KHAN S/O FAYYAJ ALI   \n",
       "73411                  SMT HASRAT JAHAN W/O AHMAD KHAN   \n",
       "77139               SMT SAHANA PRAVEEN W/O HABIB AHMAD   \n",
       "77770                                     Bhola Prasad   \n",
       "79282                                      CHANDRAVATI   \n",
       "82453                            SMT MUUNI WO SRI RAJU   \n",
       "82580                     RAZA ABBAS S/O ARSHAD HUSAIN   \n",
       "84193                    MAHTAB ALAM S/O KHALEEL AHMAD   \n",
       "\n",
       "                                                 ADDRESS  ...  \\\n",
       "2284     STEELGANJ TALAB BAHRAICH Bahraich UP-271801 IND  ...   \n",
       "3365   QAZIPURA NEAR PACHKAUDI HOTEL BAHRAICH Bahraic...  ...   \n",
       "5582   HAMJAPURA NEAR HANUMAN PRASAD YADAV   BAHRAICH...  ...   \n",
       "5606   NOORUDDINCHAK DARGAH SHARIF BAHRAICH Bahraich ...  ...   \n",
       "5648          KAZIPURA ' BAHRAICH Bahraich UP-271801 IND  ...   \n",
       "5714   SALARGANJ NEAR GHASIYARI MASJID   BAHRAICH Bah...  ...   \n",
       "8385   JHURIYA SEKHDAHIR BAHRAICH Bahraich UP-271801 IND  ...   \n",
       "9043   MAHRAAJ GAON BAXIPURA KALPIPARA  BAHRAICH Bahr...  ...   \n",
       "11549  000 SINGHAPARASI PAHADA FAKKAD BAHRAICH BAHRAI...  ...   \n",
       "14620           SUFIPURA BAHRAICH Bahraich UP-271801 IND  ...   \n",
       "17472  HNO 193 RAIPURRAJA CIVIL LINE BAHRAICH Bahraic...  ...   \n",
       "19276          NAZIRPURA BAHRAICH Bahraich UP-271801 IND  ...   \n",
       "20745  BARIHOT NEAR-MAKBARA CHOURAHA  BAHRAICH Bahrai...  ...   \n",
       "21386  mojmahamand jalal nagar near kaushal narsing h...  ...   \n",
       "23038      GULAM ALIPURA BAHRAICH Bahraich UP-271801 IND  ...   \n",
       "26640  DHAPALIPURWA NAZIRPURA BAHRAICH Bahraich UP-27...  ...   \n",
       "29554  154/104 BASHIR GANJ BASHIR GANJ BAHRAICH UP-27...  ...   \n",
       "29806         MADHAVRETI BAHRAICH Bahraich UP-271801 IND  ...   \n",
       "30039      00045 BHAWAN SASARPARA BAHRAICH UP-271801 IND  ...   \n",
       "32427      BRAHMANIPURA  BAHRAICH Bahraich UP-271801 IND  ...   \n",
       "34155  New Kasimpura Sabeer Vidhayak Kasimpura BAHRAI...  ...   \n",
       "34272  00 PALRI BAG AKHTAR BAGIYA KE PAS BAKSHIPURA B...  ...   \n",
       "35033  MANSOORGANJ BADI TAKIYA  BAHRAICH Bahraich UP-...  ...   \n",
       "35567       NA NA SHAHPUR JOT HAT BAHRAICH UP-271801 IND  ...   \n",
       "37498  12336 SABJI MANDI SALARPUR SABJI MANDI BAHRAIC...  ...   \n",
       "37966  bahadur chak bahadur chak CHITAURA BAHRAICH UP...  ...   \n",
       "39050  SALARGANJ NAGOKHATTA\\t BAHRAICH Bahraich UP-27...  ...   \n",
       "39620     QAZIPURA SOUTH BAHRAICH Bahraich UP-271801 IND  ...   \n",
       "39668  SUMAIYA MALL NAZIRPURA BAHRAICH Bahraich UP-27...  ...   \n",
       "40087  RAIPUR RAJA JAIL ROAD   BAHRAICH Bahraich UP-2...  ...   \n",
       "46684  SALARGANJ KALENDERPURWA  BAHRAICH Bahraich UP-...  ...   \n",
       "46794  CHAWNI SARKAR VISHNO  COLONY  BAHRAICH Bahraic...  ...   \n",
       "50545        SALARGANJ   BAHRAICH Bahraich UP-271801 IND  ...   \n",
       "52721  WAZIRBAG NEAR - ALOK JWELARS BAHRAICH Bahraich...  ...   \n",
       "53478  BISHUNPUR RAHU BISHUNPUR RAHU CHITATURA BAHRAI...  ...   \n",
       "55922        HAMJAPURA   BAHRAICH Bahraich UP-271801 IND  ...   \n",
       "58899  MEERPUR KASBA HASAN NAGAR  BAHRAICH Bahraich U...  ...   \n",
       "59143  305 GUDRI NEAR HAJI RASHEED MASJID GUDRI BAHRA...  ...   \n",
       "61507          NAZIRPURA BAHRAICH Bahraich UP-271801 IND  ...   \n",
       "61537        SALARGANJ   BAHRAICH Bahraich UP-271801 IND  ...   \n",
       "62101  CHANDPURA NEAR SHABBIR MLA HOUSE   BAHRAICH Ba...  ...   \n",
       "62813  BARHAMANIPURA NEAR-ANAND HOTEL  BAHRAICH Bahra...  ...   \n",
       "67486        CHAUK BAZAR BAHRAICH Bahraich UP-271801 IND  ...   \n",
       "73411  SALARGANJ NEAR MAULANA ARIF ALI HOUSE\\tBAHRAIC...  ...   \n",
       "77139        SALARGANJ   BAHRAICH Bahraich UP-271801 IND  ...   \n",
       "77770  RATANPUR RATANPUR JAMUNAHA BAHRAICH UP-111111 IND  ...   \n",
       "79282  00 NASUTIYA KALPIPARA GADARIYAN PURWA BAHRAICH...  ...   \n",
       "82453  NA DARGAH SHARIF NEAR MONU HOTEL DARGAH SHARIF...  ...   \n",
       "82580  AKBARPURA SUMAIYA MAAL BAHRAICH Bahraich UP-27...  ...   \n",
       "84193            BADIHAT BAHRAICH Bahraich UP-271801 IND  ...   \n",
       "\n",
       "             VILLAGE_NAME  HABITAT_CODE HABITAT_NAME      DISTRICT  \\\n",
       "2284                  NaN           NaN          NaN      BAHRAICH   \n",
       "3365                  NaN           NaN          NaN      BAHRAICH   \n",
       "5582                  NaN           NaN          NaN      BAHRAICH   \n",
       "5606                  NaN           NaN          NaN      BAHRAICH   \n",
       "5648                  NaN           NaN          NaN      BAHRAICH   \n",
       "5714                  NaN           NaN          NaN      BAHRAICH   \n",
       "8385                  NaN           NaN          NaN      BAHRAICH   \n",
       "9043                  NaN           NaN          NaN      BAHRAICH   \n",
       "11549                 NaN           NaN          NaN      BAHRAICH   \n",
       "14620                 NaN           NaN          NaN      BAHRAICH   \n",
       "17472                 NaN           NaN          NaN      BAHRAICH   \n",
       "19276                 NaN           NaN          NaN      BAHRAICH   \n",
       "20745                 NaN           NaN          NaN      BAHRAICH   \n",
       "21386                 NaN           NaN          NaN  SHAHJAHANPUR   \n",
       "23038                 NaN           NaN          NaN      BAHRAICH   \n",
       "26640                 NaN           NaN          NaN      BAHRAICH   \n",
       "29554                 NaN           NaN          NaN                 \n",
       "29806                 NaN           NaN          NaN      BAHRAICH   \n",
       "30039  RAMPUR DHOBIYA HAR   171489002.0          NaN      BAHRAICH   \n",
       "32427                 NaN           NaN          NaN      BAHRAICH   \n",
       "34155                 NaN           NaN          NaN      BAHRAICH   \n",
       "34272                 NaN           NaN          NaN      BAHRAICH   \n",
       "35033                 NaN           NaN          NaN      BAHRAICH   \n",
       "35567                 NaN           NaN          NaN                 \n",
       "37498                 NaN           NaN          NaN      BAHRAICH   \n",
       "37966       RAMPUR BARAIE     1207793.0          NaN      BAHRAICH   \n",
       "39050                 NaN           NaN          NaN      BAHRAICH   \n",
       "39620                 NaN           NaN          NaN      BAHRAICH   \n",
       "39668                 NaN           NaN          NaN      BAHRAICH   \n",
       "40087                 NaN           NaN          NaN      BAHRAICH   \n",
       "46684                 NaN           NaN          NaN      BAHRAICH   \n",
       "46794                 NaN           NaN          NaN      BAHRAICH   \n",
       "50545                 NaN           NaN          NaN      BAHRAICH   \n",
       "52721                 NaN           NaN          NaN      BAHRAICH   \n",
       "53478       RAMPUR BARAIE     1207793.0          NaN      BAHRAICH   \n",
       "55922                 NaN           NaN          NaN      BAHRAICH   \n",
       "58899                 NaN           NaN          NaN      BAHRAICH   \n",
       "59143                 NaN           NaN          NaN                 \n",
       "61507                 NaN           NaN          NaN      BAHRAICH   \n",
       "61537                 NaN           NaN          NaN      BAHRAICH   \n",
       "62101                 NaN           NaN          NaN      BAHRAICH   \n",
       "62813                 NaN           NaN          NaN      BAHRAICH   \n",
       "67486                 NaN           NaN          NaN      BAHRAICH   \n",
       "73411                 NaN           NaN          NaN      BAHRAICH   \n",
       "77139                 NaN           NaN          NaN      BAHRAICH   \n",
       "77770       RAMPUR BARAIE     1207793.0          NaN      BAHRAICH   \n",
       "79282                 NaN           NaN          NaN                 \n",
       "82453                 NaN           NaN          NaN      BAHRAICH   \n",
       "82580                 NaN           NaN          NaN      BAHRAICH   \n",
       "84193                 NaN           NaN          NaN      BAHRAICH   \n",
       "\n",
       "      TEMP_DISCON_DATE CROSS_SUBSIDY PTW_SUBSIDY  TARIFF_SUBSIDY  \\\n",
       "2284               NaN           0.0         0.0             0.0   \n",
       "3365               NaN           0.0         0.0             0.0   \n",
       "5582               NaN           0.0         0.0             0.0   \n",
       "5606               NaN           0.0         0.0             0.0   \n",
       "5648               NaN           0.0         0.0             0.0   \n",
       "5714               NaN           0.0         0.0             0.0   \n",
       "8385               NaN           0.0         0.0             0.0   \n",
       "9043               NaN           0.0         0.0             0.0   \n",
       "11549              NaN         -17.0         0.0             0.0   \n",
       "14620              NaN           0.0         0.0             0.0   \n",
       "17472              NaN           0.0         0.0             0.0   \n",
       "19276              NaN           0.0         0.0             0.0   \n",
       "20745      02-SEP-2020        -112.0         0.0             0.0   \n",
       "21386              NaN           0.0         0.0             0.0   \n",
       "23038              NaN           0.0         0.0             0.0   \n",
       "26640              NaN        -148.5         0.0             0.0   \n",
       "29554              NaN           0.0         0.0          -248.5   \n",
       "29806              NaN           0.0         0.0             0.0   \n",
       "30039              NaN           0.0         0.0             0.0   \n",
       "32427      10-JAN-2023           0.0         0.0             0.0   \n",
       "34155              NaN         -81.0         0.0             0.0   \n",
       "34272              NaN         -48.0         0.0             0.0   \n",
       "35033              NaN        -143.0         0.0             0.0   \n",
       "35567              NaN         -11.0         0.0             0.0   \n",
       "37498              NaN           0.0         0.0             0.0   \n",
       "37966              NaN           NaN         NaN             NaN   \n",
       "39050              NaN           0.0         0.0             0.0   \n",
       "39620              NaN           0.0         0.0             0.0   \n",
       "39668              NaN           0.0         0.0             0.0   \n",
       "40087              NaN           0.0         0.0             0.0   \n",
       "46684              NaN        -137.0         0.0             0.0   \n",
       "46794              NaN           0.0         0.0             0.0   \n",
       "50545              NaN           0.0         0.0             0.0   \n",
       "52721              NaN           0.0         0.0             0.0   \n",
       "53478              NaN           NaN         NaN             NaN   \n",
       "55922              NaN           0.0         0.0             0.0   \n",
       "58899              NaN           0.0         0.0             0.0   \n",
       "59143              NaN           0.0         0.0             0.0   \n",
       "61507              NaN           0.0         0.0             0.0   \n",
       "61537              NaN           0.0         0.0             0.0   \n",
       "62101              NaN           0.0         0.0             0.0   \n",
       "62813      04-NOV-2022           0.0         0.0             0.0   \n",
       "67486              NaN           0.0         0.0             0.0   \n",
       "73411      14-JAN-2023          -1.0         0.0             0.0   \n",
       "77139              NaN           0.0         0.0             0.0   \n",
       "77770              NaN           NaN         NaN             NaN   \n",
       "79282              NaN           0.0         0.0           -84.0   \n",
       "82453              NaN        -152.5         0.0             0.0   \n",
       "82580              NaN           0.0         0.0             0.0   \n",
       "84193              NaN           0.0         0.0             0.0   \n",
       "\n",
       "      POWER_LOOM_SUBSIDY INOP_AMT  \n",
       "2284                 0.0      NaN  \n",
       "3365                 0.0      NaN  \n",
       "5582                 0.0      NaN  \n",
       "5606                 0.0      NaN  \n",
       "5648                 0.0      NaN  \n",
       "5714                 0.0      NaN  \n",
       "8385                 0.0      NaN  \n",
       "9043                 0.0      NaN  \n",
       "11549                0.0      NaN  \n",
       "14620                0.0      NaN  \n",
       "17472                0.0      NaN  \n",
       "19276                0.0      NaN  \n",
       "20745                0.0      NaN  \n",
       "21386                0.0      NaN  \n",
       "23038                0.0      NaN  \n",
       "26640                0.0      NaN  \n",
       "29554                0.0      NaN  \n",
       "29806                0.0      NaN  \n",
       "30039                0.0      NaN  \n",
       "32427                0.0   4873.0  \n",
       "34155                0.0      NaN  \n",
       "34272                0.0      NaN  \n",
       "35033                0.0      NaN  \n",
       "35567                0.0      NaN  \n",
       "37498                0.0      NaN  \n",
       "37966                NaN      NaN  \n",
       "39050                0.0      NaN  \n",
       "39620                0.0      NaN  \n",
       "39668                0.0      NaN  \n",
       "40087                0.0      NaN  \n",
       "46684                0.0      NaN  \n",
       "46794                0.0      NaN  \n",
       "50545                0.0      NaN  \n",
       "52721                0.0      NaN  \n",
       "53478                NaN      NaN  \n",
       "55922                0.0      NaN  \n",
       "58899                0.0      NaN  \n",
       "59143                0.0      NaN  \n",
       "61507                0.0      NaN  \n",
       "61537                0.0      NaN  \n",
       "62101                0.0      NaN  \n",
       "62813                0.0      NaN  \n",
       "67486                0.0      NaN  \n",
       "73411                0.0      NaN  \n",
       "77139                0.0      NaN  \n",
       "77770                NaN      NaN  \n",
       "79282                0.0      NaN  \n",
       "82453                0.0      NaN  \n",
       "82580                0.0      NaN  \n",
       "84193                0.0      NaN  \n",
       "\n",
       "[50 rows x 122 columns]"
      ]
     },
     "execution_count": 102,
     "metadata": {},
     "output_type": "execute_result"
    }
   ],
   "source": [
    "df[df[\"SDO_CODE\"] == 'SDO3249329' ]"
   ]
  },
  {
   "cell_type": "code",
   "execution_count": 103,
   "id": "b941fd74-fa22-4043-8dab-3f19dfd5ea92",
   "metadata": {
    "tags": []
   },
   "outputs": [
    {
     "name": "stderr",
     "output_type": "stream",
     "text": [
      "C:\\Users\\HP\\AppData\\Local\\Temp\\ipykernel_24392\\3229557052.py:1: FutureWarning: null_counts is deprecated. Use show_counts instead\n",
      "  df.info(verbose = True,null_counts = True)\n"
     ]
    },
    {
     "name": "stdout",
     "output_type": "stream",
     "text": [
      "<class 'pandas.core.frame.DataFrame'>\n",
      "Int64Index: 1521791 entries, 0 to 1521792\n",
      "Data columns (total 122 columns):\n",
      " #    Column                         Non-Null Count    Dtype  \n",
      "---   ------                         --------------    -----  \n",
      " 0    DIV_CODE                       1521791 non-null  object \n",
      " 1    SDO_CODE                       1521791 non-null  object \n",
      " 2    ACCT_ID                        1521791 non-null  float64\n",
      " 3    KNO                            1416958 non-null  object \n",
      " 4    MOBILE_NO                      1406586 non-null  float64\n",
      " 5    LANDLINE_NO                    21 non-null       float64\n",
      " 6    BOOK_NO                        1521791 non-null  object \n",
      " 7    SCNO                           1455677 non-null  object \n",
      " 8    NAME                           1521263 non-null  object \n",
      " 9    ADDRESS                        1521791 non-null  object \n",
      " 10   SUPPLY_TYPE                    1517280 non-null  object \n",
      " 11   LOAD                           1502258 non-null  float64\n",
      " 12   LOAD_UNIT                      1502258 non-null  object \n",
      " 13   DOC                            1521791 non-null  object \n",
      " 14   SECURITY_AMT                   1517465 non-null  object \n",
      " 15   CON_STATUS                     1521791 non-null  object \n",
      " 16   SERIAL_NBR                     1344592 non-null  object \n",
      " 17   MULTIPLY_FACTOR                1344592 non-null  float64\n",
      " 18   METER_STATUS                   1344592 non-null  object \n",
      " 19   LAST_BILL_DATE                 1360001 non-null  object \n",
      " 20   CLOSE_READING                  1314445 non-null  object \n",
      " 21   MDI                            1370150 non-null  object \n",
      " 22   BILL_BASIS                     1311932 non-null  object \n",
      " 23   BILL_TYP                       1313151 non-null  object \n",
      " 24   CONSUMPTION_CURR_MNTH          1371335 non-null  object \n",
      " 25   CONSUMPTION_PREV_MNTH          1362246 non-null  object \n",
      " 26   CONSUMPTION_PREV_TO_PREV_MNTH  1358706 non-null  float64\n",
      " 27   ARREAR                         1504612 non-null  float64\n",
      " 28   LPSC                           1458747 non-null  object \n",
      " 29   CURRENT_ASSESSMENT             1371335 non-null  float64\n",
      " 30   CURRENT_CYCLE_LPSC             1371335 non-null  float64\n",
      " 31   TOTAL_OUTSTANDING              1519719 non-null  float64\n",
      " 32   DUE_DATE_REBATE                64792 non-null    float64\n",
      " 33   LAST_OK_READING                1357512 non-null  float64\n",
      " 34   LAST_OK_READ_STATUS            1357512 non-null  object \n",
      " 35   METER_READ_FLTY_CNT            173241 non-null   float64\n",
      " 36   LAST_PAY_AMT                   819496 non-null   float64\n",
      " 37   LAST_PAY_DATE                  819496 non-null   object \n",
      " 38   SUBSTATION                     1470708 non-null  object \n",
      " 39   FEEDER                         1447836 non-null  object \n",
      " 40   DT                             273638 non-null   object \n",
      " 41   POLE_NO                        1521791 non-null  object \n",
      " 42   OPR_FLG                        1521791 non-null  object \n",
      " 43   BILL_AFTER_DATE                9713 non-null     object \n",
      " 44   METER_READ_REMARK              1357494 non-null  object \n",
      " 45   INSTALLATION_DATE              1344591 non-null  object \n",
      " 46   SBM_BILL_DATE                  1220405 non-null  object \n",
      " 47   SBM_MACHINE_ID                 1220405 non-null  object \n",
      " 48   BILL_CYC_CD                    1521791 non-null  object \n",
      " 49   TOWN                           184045 non-null   object \n",
      " 50   SERVICE_CYC_CD                 1502258 non-null  object \n",
      " 51   CT_RATIO                       18 non-null       object \n",
      " 52   PT_RATIO                       18 non-null       object \n",
      " 53   EC                             1371335 non-null  float64\n",
      " 54   FC                             1371335 non-null  float64\n",
      " 55   REBATES                        1371335 non-null  float64\n",
      " 56   MIN_CHARGES                    1368597 non-null  float64\n",
      " 57   FUEL_SURCHARGE                 1371335 non-null  float64\n",
      " 58   DEMAND_AMT                     1371335 non-null  float64\n",
      " 59   LTMETERING_CHARGES             1371335 non-null  float64\n",
      " 60   CAP_CHARGES                    1371335 non-null  float64\n",
      " 61   REG_SURCHARGE                  1364388 non-null  object \n",
      " 62   REG_SURCHARGE_2                1371335 non-null  object \n",
      " 63   ELECTRICITY_DUTY               1371335 non-null  float64\n",
      " 64   TARIFF_ADJUSTMENTS             1 non-null        float64\n",
      " 65   PROV_ADJUSTMENTS               1371335 non-null  float64\n",
      " 66   CA_ABR                         1361650 non-null  float64\n",
      " 67   INF_BILL                       1371335 non-null  object \n",
      " 68   MR_SOURCE_CD                   1311707 non-null  object \n",
      " 69   HEALTHY_CONSUMER_FLAG          1521791 non-null  object \n",
      " 70   METER_BADGE_NO                 1344592 non-null  object \n",
      " 71   MTR_MAKE                       1344584 non-null  object \n",
      " 72   CONNECTION_TYPE                1519980 non-null  object \n",
      " 73   LOOMS_GRTRTHN_60               1517731 non-null  float64\n",
      " 74   LOOMS_LESSTHN_60               1517731 non-null  float64\n",
      " 75   SUPPLY_VOLTAGE                 1502257 non-null  object \n",
      " 76   METER_VOLTAGE                  1384474 non-null  float64\n",
      " 77   MTR_TYPE_CD                    130235 non-null   object \n",
      " 78   LATITUDE                       1209657 non-null  float64\n",
      " 79   LONGTIUDE                      1209657 non-null  float64\n",
      " 80   INDUSTRIAL_FLAG                1573 non-null     object \n",
      " 81   ACCT_INFLALTED_FLAG            1371335 non-null  object \n",
      " 82   GOVT_CODE                      21113 non-null    object \n",
      " 83   OPENING_READING_KWH            1311966 non-null  float64\n",
      " 84   OPENING_READING_KVAH           1160858 non-null  float64\n",
      " 85   OPENING_READING_DATE           1311966 non-null  object \n",
      " 86   CLOSING_READING_KWH            1311966 non-null  float64\n",
      " 87   CLOSING_READING_KVAH           1160858 non-null  float64\n",
      " 88   CLOSING_READING_DATE           1311966 non-null  object \n",
      " 89   CONSUMPTION_KWH                1311966 non-null  float64\n",
      " 90   CONSUMPTION_KVAH               1160858 non-null  float64\n",
      " 91   BILLED_AMOUNT                  1371335 non-null  float64\n",
      " 92   MTR_EXCEP_CD                   12239 non-null    float64\n",
      " 93   MTR_NO_RECORDED                1238423 non-null  object \n",
      " 94   MTR_MAKE_RECORDED              1238463 non-null  object \n",
      " 95   MANUL_BILL_EXCEP               1170359 non-null  object \n",
      " 96   MTR_CONFIG_TY_CD               1344591 non-null  object \n",
      " 97   TOTAL_PAY_AMT                  211381 non-null   float64\n",
      " 98   PAYMENT_SRCE                   202317 non-null   object \n",
      " 99   MTR_RDR_AGENCY                 1211281 non-null  object \n",
      " 100  SS_NAME                        106008 non-null   object \n",
      " 101  SS_GIS_CODE                    106008 non-null   object \n",
      " 102  FEEDER_NAME                    106008 non-null   object \n",
      " 103  FEEDER_GIS_CODE                106008 non-null   object \n",
      " 104  DT_NAME                        115052 non-null   object \n",
      " 105  DT_GIS_ID                      106008 non-null   object \n",
      " 106  DT_GIS_CODE                    106008 non-null   object \n",
      " 107  NETWID                         52202 non-null    object \n",
      " 108  CONSUMER_BASE                  1521791 non-null  object \n",
      " 109  CONSUMER_BASE.1                1521791 non-null  object \n",
      " 110  FATHER_NAME                    1279888 non-null  object \n",
      " 111  VILLAGE_CODE                   953963 non-null   float64\n",
      " 112  VILLAGE_NAME                   28817 non-null    object \n",
      " 113  HABITAT_CODE                   953963 non-null   float64\n",
      " 114  HABITAT_NAME                   925124 non-null   object \n",
      " 115  DISTRICT                       1521790 non-null  object \n",
      " 116  TEMP_DISCON_DATE               26693 non-null    object \n",
      " 117  CROSS_SUBSIDY                  1371335 non-null  float64\n",
      " 118  PTW_SUBSIDY                    1371335 non-null  float64\n",
      " 119  TARIFF_SUBSIDY                 1371335 non-null  float64\n",
      " 120  POWER_LOOM_SUBSIDY             1371335 non-null  float64\n",
      " 121  INOP_AMT                       182475 non-null   float64\n",
      "dtypes: float64(47), object(75)\n",
      "memory usage: 1.4+ GB\n"
     ]
    }
   ],
   "source": [
    "df.info(verbose = True,null_counts = True)\n"
   ]
  },
  {
   "cell_type": "code",
   "execution_count": 104,
   "id": "e489dcb2-a198-49ab-8823-f964d97d5ee7",
   "metadata": {
    "tags": []
   },
   "outputs": [],
   "source": [
    "# df =Division_Name(df)  "
   ]
  },
  {
   "cell_type": "code",
   "execution_count": 105,
   "id": "7146a1a6-2db0-498e-a1df-b95d556ac296",
   "metadata": {
    "tags": []
   },
   "outputs": [],
   "source": [
    "# # df[\"Division_Name\"].unique()\n",
    "# df = df[(df.bilable_flag == True) & (df.LPSC > 1) & (df.ots_vc.isin(['LMV2 And >3kwh', 'LMV4B', 'LMV5', 'LMV6']))]"
   ]
  },
  {
   "cell_type": "code",
   "execution_count": 106,
   "id": "c11dca91-bdb6-4c3c-b216-0d18835edaa3",
   "metadata": {
    "tags": []
   },
   "outputs": [],
   "source": [
    "# bifurcation(\"Division_Name\",'Division')   \n",
    "# \"Division_Name\"\n",
    "# \"Circle_Name\"\n"
   ]
  },
  {
   "cell_type": "code",
   "execution_count": 107,
   "id": "8fe6e499-1ff5-4b7e-8970-ba5c39bbee8a",
   "metadata": {
    "tags": []
   },
   "outputs": [],
   "source": [
    "# df = type(df)\n",
    "# df = categories(df)\n",
    "# df = new_cat(df)"
   ]
  },
  {
   "cell_type": "code",
   "execution_count": 108,
   "id": "3a1d2de3",
   "metadata": {},
   "outputs": [],
   "source": [
    "# df =Division_Name(df)"
   ]
  },
  {
   "cell_type": "code",
   "execution_count": 45,
   "id": "2a8d61ea-2f7a-46f3-a5ec-91fe124e7f62",
   "metadata": {
    "scrolled": false,
    "tags": []
   },
   "outputs": [
    {
     "data": {
      "text/plain": [
       "COLONELGANJ RURAL_355213                     54302\n",
       "FAKHARPUR_354923                             41559\n",
       "MOTIPUR_354922                               35772\n",
       "KAISERGANJ_354923                            33046\n",
       "TULSIPUR DEHAT_355133                        31054\n",
       "UTRAULA DEHAT_355133                         31020\n",
       "MANKAPUR_355214                              30768\n",
       "NAWABGANJ_355212                             29338\n",
       "TARABGANJ_355212                             28913\n",
       "URLAHAWA_355132                              28546\n",
       "MASKANWA_355214                              28050\n",
       "PARASPUR_355212                              26846\n",
       "ARYA NAGAR_355213                            26169\n",
       "MAHSI_354922                                 25711\n",
       "BELSAR_355212                                25403\n",
       "PAYAGPUR_354923                              25055\n",
       "BHINGA_355132                                24814\n",
       "JAIL ROAD GONDA_30170                        24205\n",
       "ITIATHOK_355214                              24040\n",
       "GHARIGHAT_355214                             21829\n",
       "RANJEETPUR_354923                            20728\n",
       "DHANEPUR_355214                              20321\n",
       "STEAM POWER HOUSE_355131                     20306\n",
       "PACHPEDWA_355133                             20246\n",
       "BANJARAN TANDA (TAHSEEL MUKHYALAY)_354922    20193\n",
       "SITADWAR_355132                              20041\n",
       "HARRAYA SATGHARWA_355133                     19138\n",
       "SUB-STATION REHRA_355133                     18844\n",
       "NANPARA_354922                               17920\n",
       "RISIA_354922                                 17204\n",
       "MAHARAJ GANJ TARAI_355131                    16873\n",
       "MATERA_354922                                16760\n",
       "VISHESHWARGANJ_354923                        16431\n",
       "CHIRAIYA TAND_354923                         16017\n",
       "TEJWAPUR_354923                              15662\n",
       "GHOLIYA_355132                               15627\n",
       "KHORANHSA_355212                             15285\n",
       "LAXMAN NAGAR_355132                          15274\n",
       "SAHABA/BABAGANJ                              14572\n",
       "ACHALPUR CHAUDHARY_355133                    14189\n",
       "DUMERIYADEEH_355212                          14088\n",
       "JARWAL_354923                                13838\n",
       "RAIBOJHA_354922                              13596\n",
       "GAIDAS BUJURG_355133                         13237\n",
       "KHARGUPUR_355213                             13122\n",
       "BALRAMPUR 132_355131                         13031\n",
       "BASHIRGANJ_30166                             11662\n",
       "BHANGAHA_355132                              11141\n",
       "PARSA PALAIDEEH_355133                       11122\n",
       "BHABHUA_355213                               10992\n",
       "KATRA_355132                                 10956\n",
       "GAURA(NAUBATAMUNDILA)_355133                 10606\n",
       "NAWABGANJ_354922                             10380\n",
       "JAIL ROAD GONDA_355211                       10372\n",
       "NANPARA_30065                                10262\n",
       "CIVIL LINE_34116                             10244\n",
       "BHAGWATIGANJ_30252                            9786\n",
       "KHUTEHNA_354923                               9530\n",
       "SHRIDUTTGANJ_355133                           9418\n",
       "PARSAURA_354921                               9344\n",
       "AVAS VIKAS_30168                              9212\n",
       "GULLABEER_34119                               9057\n",
       "DEISEL POWER HOUSE_30165                      9032\n",
       "BADAGAON_34103                                9021\n",
       "BAXIPURA_34118                                8845\n",
       "BALRAMPUR TOWN_34077                          8817\n",
       "BEHDA_354922                                  8649\n",
       "BHAKALA_354923                                8591\n",
       "JHANJARI_34089                                8551\n",
       "GILAULA_355132                                8216\n",
       "SHIVPURA/HARIHARPUR_355131                    8127\n",
       "RAJAPUR PARSAURA_355214                       7910\n",
       "MAHNAUN_355214                                7793\n",
       "KAILASHPURI_354922                            7459\n",
       "COLONELGANJ TAHSEEL_355213                    7304\n",
       "WAZIRGANJ_355212                              6553\n",
       "TULSIPUR TAHSIL_355133                        6549\n",
       "DHANUHI_354923                                6305\n",
       "RAGHURAJ NAGAR_355212                         6208\n",
       "UTRAULA TAHSIL_355133                         6083\n",
       "PACHPEDWA IPDS_355133                         5975\n",
       "JARWAL ROAD_354923                            5926\n",
       "NEVADA MODE_354922                            5813\n",
       "LAXSHMAN PUR BAZAAR_355132                    5795\n",
       "HOSPITAL CHAURAHA_34114                       5666\n",
       "CHANDVATPUR_355213                            5657\n",
       "GHANTAGHAR_34115                              5611\n",
       "KATILIYA CHAURAHA_354922                      5469\n",
       "UTTRAULA IPDS_355133                          5391\n",
       "MADDOPUR DEVARIYA_355214                      5358\n",
       "NAA                                           4620\n",
       "SUB-STATION IKAUNA_355132                     4552\n",
       "AMBEDKAR CHAURAHA_34101                       4105\n",
       "BALPUR_355213                                 4085\n",
       "MANAKAPUR THASEEL_355214                      3953\n",
       "MAHSI TAHSEEL_354922                          3765\n",
       "PURABTOLA NAHAR BALAGANJ_34095                3491\n",
       "RISIYA TOWN_354922                            3232\n",
       "PURE SHIVA (BAKHTAWAR)_34102                  3165\n",
       "MADHYANAGAR_355132                            3089\n",
       "BHINGA IPDS_355132                            2914\n",
       "TULSIPUR IPDS_355133                          2736\n",
       "KATRA SHIV DAYALGANJ_355212                   2654\n",
       "KHARGUPUR IPDS_355213                         2528\n",
       "KALPI PARA_34117                              2367\n",
       "JhanJhari                                     2329\n",
       "220 KV SS Jail Road Gonda                     2327\n",
       "TARGANJ THASEEL_355212                        2242\n",
       "KAISER GANJ TEHSIL_354923                     2011\n",
       "Badagaon                                      1801\n",
       "BAXIPURA_354921                               1532\n",
       "BALRAMPURTOWN                                 1528\n",
       "Awas Vikas                                    1379\n",
       "KALPIPARA                                     1210\n",
       "450101009                                     1205\n",
       "KATRA BAZAR_355213                            1172\n",
       "NANPARA                                       1009\n",
       "CIVIL LINE                                     876\n",
       "PARSA TIWARI_355214                            869\n",
       "BHAGWATIGANJ                                   794\n",
       "GULLABIR                                       778\n",
       "HOSPITAL                                       741\n",
       "SUB STATION JAMUNAHA_355132                    723\n",
       "DIESEL POWER HOUSE                             691\n",
       "BASHIR GANJ                                    681\n",
       "GHANTAGHAR                                     656\n",
       "420301014                                      373\n",
       "Ambedkar Chauraha                              296\n",
       "420302020                                      295\n",
       "BAXIPURA                                       289\n",
       "DUBAHA_355213                                  248\n",
       "PURE DALAI_324521                              184\n",
       "132 MANKAPUR_355214                            180\n",
       "UTRAULA DEHAT                                  136\n",
       "450101016                                      135\n",
       "KATRA IPDS_355213                              112\n",
       "SUBHAGPUR_355213                               106\n",
       "IPDS IKAUNA                                     96\n",
       "132 KV BALRAM PUR (2X5MVA)                      86\n",
       "BALRAMPUR_30017                                 79\n",
       "JHANJHARI                                       59\n",
       "AMBEDKAR CHAURAHA                               59\n",
       "NNP                                             43\n",
       "33/11 KV POORAB TOLA                            39\n",
       "BASEERGANJ                                      39\n",
       "HOS                                             38\n",
       "SDO3552111                                      36\n",
       "220/132/33 KV Sub Station Gonda                 32\n",
       "450201020                                       23\n",
       "SHRIDUTTGANJ                                    23\n",
       "450101014                                       18\n",
       "420303056                                       14\n",
       "220 KV GONDA_36213                               8\n",
       "450201005                                        8\n",
       "Jhanjhari                                        7\n",
       "PARSAURA                                         6\n",
       "SAHABA BABAGANJ_34235                            5\n",
       "JHAJHARI                                         5\n",
       "na                                               5\n",
       "420302001                                        5\n",
       "PURE SIVA BAKTAVAR                               5\n",
       "N                                                5\n",
       "AWAS VIKAS                                       4\n",
       "Jail Road                                        4\n",
       "Awas-Vikas                                       4\n",
       "BADAGAON                                         4\n",
       "33/11 KV KATRA                                   3\n",
       "132 KV BALRAMPUR_30017                           3\n",
       "132 KV PAYAGPUR_36232                            3\n",
       "220/132/33 KV SUB STATION GONDA-JAIL ROAD        3\n",
       "Badgaon                                          3\n",
       "GHANTA GHAR                                      2\n",
       "DARIYABAD_324521                                 2\n",
       "jhanjhari                                        2\n",
       "JAIDPUR_324521                                   2\n",
       "UTRAULA TAHSHIL_355133                           2\n",
       "133 KV BEGAMPUR_36247                            2\n",
       "132/33/11 KVBALRAMPUR                            2\n",
       "GULLABEER                                        1\n",
       "355211101                                        1\n",
       "civil line                                       1\n",
       "gullabir                                         1\n",
       "220 KV BAHRAICH_37001                            1\n",
       "355214                                           1\n",
       "132 KV BAHRAICH_36212                            1\n",
       "450102013                                        1\n",
       "420306009                                        1\n",
       "420301030                                        1\n",
       "132 KV BHINGA_36227                              1\n",
       "ACHALPUR_CHAUDHARYA_355133                       1\n",
       "35521120228PTC                                   1\n",
       "JAIL ROAD                                        1\n",
       "MP PATARI_24676                                  1\n",
       "Name: SUBSTATION, dtype: int64"
      ]
     },
     "execution_count": 45,
     "metadata": {},
     "output_type": "execute_result"
    }
   ],
   "source": [
    "df['SUBSTATION'].value_counts()"
   ]
  },
  {
   "cell_type": "code",
   "execution_count": 110,
   "id": "fb7433d4-9c6b-4166-9771-8dd03fafdec2",
   "metadata": {
    "tags": []
   },
   "outputs": [
    {
     "data": {
      "text/plain": [
       "(1521791, 122)"
      ]
     },
     "execution_count": 110,
     "metadata": {},
     "output_type": "execute_result"
    }
   ],
   "source": [
    "df.shape"
   ]
  },
  {
   "cell_type": "code",
   "execution_count": 111,
   "id": "65d81e60-6d76-4917-ab73-d741afa9d1c8",
   "metadata": {
    "tags": []
   },
   "outputs": [],
   "source": [
    "column =list(df.columns)"
   ]
  },
  {
   "cell_type": "code",
   "execution_count": 112,
   "id": "1ac9e01a-bfea-4b2a-bf81-80970f8d389f",
   "metadata": {
    "tags": []
   },
   "outputs": [],
   "source": [
    "short_col = ['ACCT_ID','KNO','DIV_CODE','Division_Name','Cat','CONSUMPTION_CURR_MNTH','LOAD','MDI','CON_STATUS']"
   ]
  },
  {
   "cell_type": "code",
   "execution_count": 42,
   "id": "7bfc348a-a71c-4c8d-9544-3c35bfdd009b",
   "metadata": {
    "tags": []
   },
   "outputs": [],
   "source": [
    "im_col = ['DIV_CODE',\n",
    " 'SDO_CODE',\n",
    "          'SUBSTATION',\n",
    "          'FEEDER',\n",
    " 'ACCT_ID',\n",
    " 'KNO',\n",
    "          \n",
    "    \n",
    "          'NAME',\n",
    "          'ADDRESS',\n",
    "          'MOBILE_NO',\n",
    "          'SUPPLY_TYPE',\n",
    "          'CONSUMPTION_CURR_MNTH',\n",
    "          'CONSUMPTION_PREV_MNTH',\n",
    "          'DOC',\n",
    "          'BILL_BASIS',\n",
    "          'METER_STATUS',\n",
    "          'METER_READ_REMARK',\n",
    "          'BILL_TYP',\n",
    "          'SBM_MACHINE_ID',\n",
    "          'CON_STATUS',\n",
    "          'LOAD',\n",
    "           'MDI',\n",
    "\n",
    "          'ARREAR',\n",
    "          'CURRENT_ASSESSMENT',\n",
    "          'TOTAL_OUTSTANDING',\n",
    "          'LPSC',\n",
    "          'LAST_OK_READING',\n",
    "          'LAST_OK_READ_STATUS',\n",
    "          'METER_READ_FLTY_CNT',\n",
    "          'LAST_PAY_AMT',\n",
    "          'LAST_PAY_DATE',\n",
    "          'INDUSTRIAL_FLAG',\n",
    "          'INF_BILL',\n",
    "          'ACCT_INFLALTED_FLAG',\n",
    "          'GOVT_CODE',\n",
    "          'LAST_BILL_DATE',\n",
    "          'PAYMENT_SRCE',\n",
    "          'TOTAL_PAY_AMT',\n",
    "         'CONSUMER_BASE']"
   ]
  },
  {
   "cell_type": "code",
   "execution_count": 43,
   "id": "16428afb-7df2-44d6-abf8-e6a1213db949",
   "metadata": {
    "tags": []
   },
   "outputs": [],
   "source": [
    "df = df[im_col]"
   ]
  },
  {
   "cell_type": "code",
   "execution_count": 44,
   "id": "8809f556-1c79-4090-bc09-666fe4c17fd1",
   "metadata": {
    "tags": []
   },
   "outputs": [],
   "source": [
    "df.dropna(subset = ['ACCT_ID'], inplace=True)"
   ]
  },
  {
   "cell_type": "code",
   "execution_count": null,
   "id": "8e57a1eb-4688-41ce-878b-a22241f8ff0e",
   "metadata": {
    "tags": []
   },
   "outputs": [],
   "source": []
  },
  {
   "cell_type": "code",
   "execution_count": 45,
   "id": "67164229-dba9-4746-b992-4a95cf542018",
   "metadata": {
    "tags": []
   },
   "outputs": [
    {
     "name": "stderr",
     "output_type": "stream",
     "text": [
      "C:\\Users\\HP\\AppData\\Local\\Temp\\ipykernel_21180\\2198998957.py:7: FutureWarning: The default value of regex will change from True to False in a future version.\n",
      "  df['SUPPLY_TYPE'] = df['SUPPLY_TYPE'].astype(str).str.replace('\\\\.0+$', '')\n",
      "C:\\Users\\HP\\AppData\\Local\\Temp\\ipykernel_21180\\1802877464.py:8: FutureWarning: The default value of regex will change from True to False in a future version.\n",
      "  df['SUPPLY_TYPE'] = df['SUPPLY_TYPE'].astype(str).str.replace('\\\\.0+$', '')\n"
     ]
    }
   ],
   "source": [
    "df = type(df)\n",
    "df = unpaid(df)\n",
    "df=Neverpaid(df)\n",
    "df = NonGOVT(df)\n",
    "# df = relGov(df)\n",
    "# df = faulty_Ageing(df)\n",
    "df = billable(df)\n",
    "# graph_VC(df)\n",
    "# df = MDI_filter(df)\n",
    "\n",
    "# df = low_consumtion_filter(df)\n",
    "# df = arrear(df)\n",
    "df = categories(df)\n",
    "# df = ots(df)\n",
    "# df = arrear(df)\n",
    "df=CatLoad(df)\n",
    "df=Cat_VC(df)\n",
    "df=graph_VC(df)\n",
    "df =Division_Name(df)\n",
    "df=paid_arrear(df)\n",
    "df = conection_month(df)\n",
    "df = life_line(df)\n",
    "df = newconection(df)"
   ]
  },
  {
   "cell_type": "code",
   "execution_count": null,
   "id": "39da637a",
   "metadata": {},
   "outputs": [],
   "source": [
    "# file_jul = \"./load/urban/merged_data_urban.xlsx\"\n",
    "# df = newconection(df)"
   ]
  },
  {
   "cell_type": "code",
   "execution_count": 72,
   "id": "4a1dbdaf-95da-4d34-824e-dd8cd20271dd",
   "metadata": {
    "tags": []
   },
   "outputs": [],
   "source": [
    "# df = rdf_cat(df)\n",
    "# df_load = pd.read_excel(file_jul)"
   ]
  },
  {
   "cell_type": "code",
   "execution_count": 80,
   "id": "ca8246c1",
   "metadata": {},
   "outputs": [],
   "source": [
    "# df1 = df[df['MDI'] > df['LOAD']]"
   ]
  },
  {
   "cell_type": "code",
   "execution_count": 81,
   "id": "b43b395e",
   "metadata": {},
   "outputs": [],
   "source": [
    "# df1 = df1[short_col]"
   ]
  },
  {
   "cell_type": "code",
   "execution_count": 82,
   "id": "eda59bb1",
   "metadata": {},
   "outputs": [],
   "source": [
    "# df1['month'] = month"
   ]
  },
  {
   "cell_type": "code",
   "execution_count": 83,
   "id": "a024ce4d-a277-4d35-85bf-8d8f37e7ad4e",
   "metadata": {
    "tags": []
   },
   "outputs": [
    {
     "name": "stdout",
     "output_type": "stream",
     "text": [
      "Left Merged DataFrame:\n"
     ]
    },
    {
     "name": "stderr",
     "output_type": "stream",
     "text": [
      "C:\\Users\\HP\\AppData\\Local\\Temp\\ipykernel_19460\\3903627788.py:2: FutureWarning: In a future version, the Index constructor will not infer numeric dtypes when passed object-dtype sequences (matching Series behavior)\n",
      "  merged_df = pd.merge(df_load, df1, on='ACCT_ID', how='outer',suffixes=('', '_aug'))\n"
     ]
    }
   ],
   "source": [
    "# # Performing a left merge based on the 'key' column\n",
    "# merged_df = pd.merge(df_load, df1, on='ACCT_ID', how='outer',suffixes=('', '_aug'))\n",
    "\n",
    "# print(\"Left Merged DataFrame:\")\n",
    "# # print(merged_df_left)"
   ]
  },
  {
   "cell_type": "code",
   "execution_count": 84,
   "id": "00429079-a971-439d-9f6c-38ae1308dfe3",
   "metadata": {
    "tags": []
   },
   "outputs": [],
   "source": [
    "# # df=CatLoad(df)\n",
    "# # Save the merged dataframe to a new CSV file\n",
    "# merged_file = \"./load/urban/merged_data_tillAug.xlsx\"\n",
    "# merged_df.to_excel(merged_file, index=False)"
   ]
  },
  {
   "cell_type": "code",
   "execution_count": 39,
   "id": "0253f0e1-bc13-4996-926b-bb7fe1b6b89b",
   "metadata": {
    "tags": []
   },
   "outputs": [],
   "source": [
    "df['PAYMENT_SRCE']=df['PAYMENT_SRCE'].str.strip()\n"
   ]
  },
  {
   "cell_type": "code",
   "execution_count": null,
   "id": "c0427c45-f752-4347-84dd-04da02a4c0b9",
   "metadata": {
    "tags": []
   },
   "outputs": [],
   "source": [
    "# df=Cat_VC(df)\n",
    "\n",
    "df.PAYMENT_SRCE.value_counts()"
   ]
  },
  {
   "cell_type": "code",
   "execution_count": null,
   "id": "04d7eee8-804d-485d-9348-60bf36a9c408",
   "metadata": {
    "tags": []
   },
   "outputs": [],
   "source": [
    "df.columns"
   ]
  },
  {
   "cell_type": "code",
   "execution_count": null,
   "id": "98998aa9-6119-474c-92bf-f8e0eeb83ab5",
   "metadata": {
    "tags": []
   },
   "outputs": [],
   "source": [
    "# df = df[(df.bilable_flag==True) & (df.ots_vc.notna())]"
   ]
  },
  {
   "cell_type": "code",
   "execution_count": 43,
   "id": "b88f7ab0-83ff-4c70-88fd-56738ad072b0",
   "metadata": {
    "tags": []
   },
   "outputs": [],
   "source": [
    "# df = df[df['TOTAL_OUTSTANDING'] >= 50000]\n"
   ]
  },
  {
   "cell_type": "code",
   "execution_count": 47,
   "id": "0b51be90-e9e4-4a9a-9929-b7fdff0f32b2",
   "metadata": {},
   "outputs": [],
   "source": [
    "div_connection=df[(df.bilable_flag == True)].pivot_table(index=['Circle_Name','Division_Name'], columns=['conection_month'],values=['ACCT_ID','LOAD'],\n",
    "                    aggfunc={'ACCT_ID':'count','LOAD':np.sum},fill_value=0 )\n"
   ]
  },
  {
   "cell_type": "code",
   "execution_count": 47,
   "id": "4e9de0e0-9726-4fa4-ba63-83b47b768e41",
   "metadata": {},
   "outputs": [],
   "source": [
    "div_life_line=df[(df.life_line == True)].pivot_table(index=['Circle_Name','Division_Name'], columns=['CONSUMER_BASE'],values=['ACCT_ID','LOAD'],\n",
    "                    aggfunc={'ACCT_ID':'count','LOAD':np.sum},fill_value=0 )\n",
    "\n"
   ]
  },
  {
   "cell_type": "code",
   "execution_count": 50,
   "id": "2c83dba8",
   "metadata": {},
   "outputs": [],
   "source": [
    "div_life_line1=df[(df.Cat == 'LMV1') & (df.LOAD <= 1)].pivot_table(index=['Circle_Name','Division_Name'], columns=['CONSUMER_BASE'],values=['ACCT_ID','LOAD'],\n",
    "                    aggfunc={'ACCT_ID':'count','LOAD':np.sum},fill_value=0 )\n"
   ]
  },
  {
   "cell_type": "code",
   "execution_count": 51,
   "id": "29e6fb4d-73c7-4273-ae49-14210d42e3c2",
   "metadata": {},
   "outputs": [],
   "source": [
    "div_life_line1.to_excel(f\"dec2023/{circle}/report/{circle}_{month}_life_line1.xlsx\")\n"
   ]
  },
  {
   "cell_type": "code",
   "execution_count": 139,
   "id": "ba57a8af-3d37-484f-9c75-f07981027446",
   "metadata": {},
   "outputs": [],
   "source": [
    "# df1 = df[(df.life_line == True) & ((df.CONSUMER_BASE == 'URBAN'))]"
   ]
  },
  {
   "cell_type": "code",
   "execution_count": 140,
   "id": "cac9bd83",
   "metadata": {},
   "outputs": [],
   "source": [
    "# df1.to_excel(f\"dec2023/{circle}/report/{circle}_{month}_life_line_list.xlsx\")\n"
   ]
  },
  {
   "cell_type": "code",
   "execution_count": 91,
   "id": "d3f24c17-e6ee-470d-9c4d-5cef80c000fd",
   "metadata": {},
   "outputs": [],
   "source": [
    "# div_connection.to_excel(f\"nov2023/{circle}/report/{circle}_{month}_connection_aug.xlsx\")"
   ]
  },
  {
   "cell_type": "code",
   "execution_count": 74,
   "id": "367c9ba5-87e2-4cac-a103-ea08344d60db",
   "metadata": {
    "tags": []
   },
   "outputs": [],
   "source": [
    "cat = [\"LMV2\",\"LMV4A\",\"LMV4B\",\"LMV6\"]\n",
    "div_bill246=df[(df.Cat.isin(cat)) & (df.bilable_flag==True)].pivot_table(index=['Circle_Name','Division_Name'],columns=[\"Cat\"],values=['ACCT_ID'],\n",
    "                    aggfunc={'ACCT_ID':'count'},fill_value=0 )\n",
    "div_bill246.to_excel(f\"{month}/{circle}/report/{circle}_{month}_246.xlsx\")"
   ]
  },
  {
   "cell_type": "code",
   "execution_count": 48,
   "id": "59c9fdcb",
   "metadata": {},
   "outputs": [],
   "source": [
    "cat = [\"LMV9\"]\n",
    "div_bill9=df[(df.Cat.isin(cat)) & (df.bilable_flag==True)].pivot_table(index=['Circle_Name','Division_Name','CON_STATUS'],columns=[\"Cat\"],values=['ACCT_ID','CURRENT_ASSESSMENT','TOTAL_OUTSTANDING','TOTAL_PAY_AMT','paid_status'],\n",
    "                    aggfunc={'ACCT_ID':'count','CURRENT_ASSESSMENT':np.sum,'TOTAL_OUTSTANDING':np.sum,'TOTAL_PAY_AMT':np.sum,'paid_status':np.sum},fill_value=0 )\n",
    "div_bill9.to_excel(f\"{month}/{circle}/report/{circle}_{month}_9_2.xlsx\")"
   ]
  },
  {
   "cell_type": "code",
   "execution_count": 42,
   "id": "aa59ef9c-c85d-464e-9aa2-c88e66eadd7b",
   "metadata": {
    "tags": []
   },
   "outputs": [],
   "source": [
    "# cat = ['LMV1', 'LMV2', 'LMV6', 'LMV8', 'LMV10', 'LMV9',\n",
    "#        'LMV5', 'HV2', 'HV1', 'LMV4A', 'HV4']\n",
    "# # cat=['LMV4A']\n",
    "cat = [\"LMV2,LMV4B,LMV6\",\"LMV1(3-9kw)\",\"great than 10kw\"]"
   ]
  },
  {
   "cell_type": "code",
   "execution_count": 49,
   "id": "8e1b80a7-d42e-493c-b9f1-8b102d40e2d8",
   "metadata": {
    "tags": []
   },
   "outputs": [],
   "source": [
    "# div_payment_4a_nov = df[((df.paid_status == 1)&(df.Cat.isin(cat)))].pivot_table(\n",
    "#     index=['LAST_PAY_DATE'], columns=['Circle_Name', 'Division_Name'], values=['TOTAL_PAY_AMT'],\n",
    "#     aggfunc={'TOTAL_PAY_AMT': np.sum}, fill_value=0\n",
    "# )"
   ]
  },
  {
   "cell_type": "code",
   "execution_count": null,
   "id": "10fdd888-7f8a-43a1-800a-ecb3ad4262ce",
   "metadata": {},
   "outputs": [],
   "source": [
    "div_payment_4a_nov = df[((df.paid_status == 1)&(df.Cat.isin(cat)))].pivot_table(\n",
    "    index=['LAST_PAY_DATE'], columns=['Circle_Name', 'Division_Name'], values=['TOTAL_PAY_AMT'],\n",
    "    aggfunc={'TOTAL_PAY_AMT': np.sum}, fill_value=0\n",
    ")"
   ]
  },
  {
   "cell_type": "code",
   "execution_count": 44,
   "id": "c7b16650-2934-4260-af0a-def14c776c19",
   "metadata": {
    "tags": []
   },
   "outputs": [],
   "source": [
    "div_sub = df[df.bilable_flag == True].pivot_table(\n",
    "    index=['Circle_Name', 'Division_Name','SDO_CODE','SUBSTATION'], values=['ACCT_ID'],\n",
    "    aggfunc={'ACCT_ID':'count'}, fill_value=0\n",
    ")"
   ]
  },
  {
   "cell_type": "code",
   "execution_count": 49,
   "id": "f9c950cf-8f63-4768-a437-f4c81d48c740",
   "metadata": {
    "tags": []
   },
   "outputs": [],
   "source": [
    "rdf_div=df[(df.bilable_flag == True) &(df.METER_READ_REMARK== 'RDF')].pivot_table(index=['Circle_Name','Division_Name'],columns=['rdf_cat','CON_STATUS'],values=['ACCT_ID'],\n",
    "                    aggfunc={'ACCT_ID':'count'},fill_value=0,margins=True,margins_name='Total' )"
   ]
  },
  {
   "cell_type": "code",
   "execution_count": 50,
   "id": "cc4b1d36-fda6-44bd-b756-9e104d1d30e0",
   "metadata": {
    "tags": []
   },
   "outputs": [],
   "source": [
    "idf_div=df[(df.bilable_flag == True) &(df.METER_READ_REMARK== 'IDF')].pivot_table(index=['Circle_Name','Division_Name'],columns=['rdf_cat','CON_STATUS'],values=['ACCT_ID'],\n",
    "                    aggfunc={'ACCT_ID':'count'},fill_value=0,margins=True,margins_name='Total' )"
   ]
  },
  {
   "cell_type": "code",
   "execution_count": 48,
   "id": "03b7ac5c-e310-4b25-9caa-19dbaaa94bd3",
   "metadata": {
    "tags": []
   },
   "outputs": [],
   "source": [
    "rdf_list = df[(df.bilable_flag == True) &(df.METER_READ_REMARK== 'RDF')&(df.rdf_cat.isin(cat))]"
   ]
  },
  {
   "cell_type": "code",
   "execution_count": 49,
   "id": "0a4ff7d5-571f-4496-9579-1235f320e5e3",
   "metadata": {
    "tags": []
   },
   "outputs": [],
   "source": [
    "idf_list = df[(df.bilable_flag == True) &(df.METER_READ_REMARK== 'IDF')&(df.rdf_cat.isin(cat))]"
   ]
  },
  {
   "cell_type": "code",
   "execution_count": 50,
   "id": "480fc6c4-2116-4382-aaeb-90e0dbf42f55",
   "metadata": {
    "tags": []
   },
   "outputs": [],
   "source": [
    "div_payment_4a_nov.to_excel(f\"{month}/{circle}/report/{circle}_{month}_4a_payment.xlsx\")"
   ]
  },
  {
   "cell_type": "code",
   "execution_count": 45,
   "id": "12f00b5e-f5c8-4b2f-95be-fef0ec2ca8ec",
   "metadata": {
    "tags": []
   },
   "outputs": [
    {
     "ename": "NameError",
     "evalue": "name 'rdf_div' is not defined",
     "output_type": "error",
     "traceback": [
      "\u001b[1;31m---------------------------------------------------------------------------\u001b[0m",
      "\u001b[1;31mNameError\u001b[0m                                 Traceback (most recent call last)",
      "Cell \u001b[1;32mIn[45], line 1\u001b[0m\n\u001b[1;32m----> 1\u001b[0m rdf_div\u001b[38;5;241m.\u001b[39mto_excel(\u001b[38;5;124mf\u001b[39m\u001b[38;5;124m\"\u001b[39m\u001b[38;5;132;01m{\u001b[39;00mmonth\u001b[38;5;132;01m}\u001b[39;00m\u001b[38;5;124m/\u001b[39m\u001b[38;5;132;01m{\u001b[39;00mcircle\u001b[38;5;132;01m}\u001b[39;00m\u001b[38;5;124m/report/\u001b[39m\u001b[38;5;132;01m{\u001b[39;00mcircle\u001b[38;5;132;01m}\u001b[39;00m\u001b[38;5;124m_\u001b[39m\u001b[38;5;132;01m{\u001b[39;00mmonth\u001b[38;5;132;01m}\u001b[39;00m\u001b[38;5;124m_rdf_list.xlsx\u001b[39m\u001b[38;5;124m\"\u001b[39m)\n",
      "\u001b[1;31mNameError\u001b[0m: name 'rdf_div' is not defined"
     ]
    }
   ],
   "source": [
    "rdf_div.to_excel(f\"{month}/{circle}/report/{circle}_{month}_rdf.xlsx\")"
   ]
  },
  {
   "cell_type": "code",
   "execution_count": 45,
   "id": "4a54b6fd-c3a3-44c6-9d5a-30e2791e4c08",
   "metadata": {
    "tags": []
   },
   "outputs": [],
   "source": [
    "div_sub.to_excel(f\"{month}/{circle}/report/{circle}_{month}_sub.xlsx\")"
   ]
  },
  {
   "cell_type": "code",
   "execution_count": 50,
   "id": "314ed596-d57d-4fac-91be-fc84c17743c1",
   "metadata": {
    "tags": []
   },
   "outputs": [],
   "source": [
    "rdf_list.to_excel(f\"{month}/{circle}/report/{circle}_{month}_rdf_list.xlsx\")"
   ]
  },
  {
   "cell_type": "code",
   "execution_count": null,
   "id": "19633dda-ed55-4cad-be89-f22e5e4b9135",
   "metadata": {
    "tags": []
   },
   "outputs": [],
   "source": [
    "idf_div.to_excel(f\"{month}/{circle}/report/{circle}_{month}_idf.xlsx\")"
   ]
  },
  {
   "cell_type": "code",
   "execution_count": 51,
   "id": "f72a5de5-b4ad-4493-8052-ba0714311801",
   "metadata": {
    "tags": []
   },
   "outputs": [],
   "source": [
    "idf_list.to_excel(f\"{month}/{circle}/report/{circle}_{month}_idf_list.xlsx\")"
   ]
  },
  {
   "cell_type": "code",
   "execution_count": null,
   "id": "af595158-2674-44b6-a7f4-1119f55d34a2",
   "metadata": {},
   "outputs": [],
   "source": []
  },
  {
   "cell_type": "code",
   "execution_count": 132,
   "id": "9cb26f28-da92-4a81-bf1b-5070d839afe2",
   "metadata": {
    "tags": []
   },
   "outputs": [
    {
     "ename": "ValueError",
     "evalue": "cannot insert Circle_Name, already exists",
     "output_type": "error",
     "traceback": [
      "\u001b[1;31m---------------------------------------------------------------------------\u001b[0m",
      "\u001b[1;31mValueError\u001b[0m                                Traceback (most recent call last)",
      "Cell \u001b[1;32mIn[132], line 1\u001b[0m\n\u001b[1;32m----> 1\u001b[0m df \u001b[38;5;241m=\u001b[39mDivision_Name(df)\n",
      "Cell \u001b[1;32mIn[65], line 5\u001b[0m, in \u001b[0;36mDivision_Name\u001b[1;34m(df)\u001b[0m\n\u001b[0;32m      1\u001b[0m \u001b[38;5;28;01mdef\u001b[39;00m \u001b[38;5;21mDivision_Name\u001b[39m(df):\n\u001b[0;32m      2\u001b[0m     \u001b[38;5;66;03m# df['LOAD'] = pd.to_numeric(df['LOAD'])   #,errors=\"coerce\"\u001b[39;00m\n\u001b[0;32m      3\u001b[0m     \n\u001b[0;32m      4\u001b[0m     \u001b[38;5;66;03m# df['Circle_Name'] = None\u001b[39;00m\n\u001b[1;32m----> 5\u001b[0m     df\u001b[38;5;241m.\u001b[39minsert(loc\u001b[38;5;241m=\u001b[39m\u001b[38;5;241m0\u001b[39m, column\u001b[38;5;241m=\u001b[39m\u001b[38;5;124m\"\u001b[39m\u001b[38;5;124mCircle_Name\u001b[39m\u001b[38;5;124m\"\u001b[39m, value\u001b[38;5;241m=\u001b[39m\u001b[38;5;28;01mNone\u001b[39;00m)\n\u001b[0;32m      6\u001b[0m     \u001b[38;5;66;03m# df['Division_Name'] = None\u001b[39;00m\n\u001b[0;32m      7\u001b[0m     df\u001b[38;5;241m.\u001b[39minsert(loc\u001b[38;5;241m=\u001b[39m\u001b[38;5;241m1\u001b[39m, column\u001b[38;5;241m=\u001b[39m\u001b[38;5;124m\"\u001b[39m\u001b[38;5;124mDivision_Name\u001b[39m\u001b[38;5;124m\"\u001b[39m, value\u001b[38;5;241m=\u001b[39m\u001b[38;5;28;01mNone\u001b[39;00m)\n",
      "File \u001b[1;32m~\\anaconda3\\Lib\\site-packages\\pandas\\core\\frame.py:4817\u001b[0m, in \u001b[0;36mDataFrame.insert\u001b[1;34m(self, loc, column, value, allow_duplicates)\u001b[0m\n\u001b[0;32m   4811\u001b[0m     \u001b[38;5;28;01mraise\u001b[39;00m \u001b[38;5;167;01mValueError\u001b[39;00m(\n\u001b[0;32m   4812\u001b[0m         \u001b[38;5;124m\"\u001b[39m\u001b[38;5;124mCannot specify \u001b[39m\u001b[38;5;124m'\u001b[39m\u001b[38;5;124mallow_duplicates=True\u001b[39m\u001b[38;5;124m'\u001b[39m\u001b[38;5;124m when \u001b[39m\u001b[38;5;124m\"\u001b[39m\n\u001b[0;32m   4813\u001b[0m         \u001b[38;5;124m\"\u001b[39m\u001b[38;5;124m'\u001b[39m\u001b[38;5;124mself.flags.allows_duplicate_labels\u001b[39m\u001b[38;5;124m'\u001b[39m\u001b[38;5;124m is False.\u001b[39m\u001b[38;5;124m\"\u001b[39m\n\u001b[0;32m   4814\u001b[0m     )\n\u001b[0;32m   4815\u001b[0m \u001b[38;5;28;01mif\u001b[39;00m \u001b[38;5;129;01mnot\u001b[39;00m allow_duplicates \u001b[38;5;129;01mand\u001b[39;00m column \u001b[38;5;129;01min\u001b[39;00m \u001b[38;5;28mself\u001b[39m\u001b[38;5;241m.\u001b[39mcolumns:\n\u001b[0;32m   4816\u001b[0m     \u001b[38;5;66;03m# Should this be a different kind of error??\u001b[39;00m\n\u001b[1;32m-> 4817\u001b[0m     \u001b[38;5;28;01mraise\u001b[39;00m \u001b[38;5;167;01mValueError\u001b[39;00m(\u001b[38;5;124mf\u001b[39m\u001b[38;5;124m\"\u001b[39m\u001b[38;5;124mcannot insert \u001b[39m\u001b[38;5;132;01m{\u001b[39;00mcolumn\u001b[38;5;132;01m}\u001b[39;00m\u001b[38;5;124m, already exists\u001b[39m\u001b[38;5;124m\"\u001b[39m)\n\u001b[0;32m   4818\u001b[0m \u001b[38;5;28;01mif\u001b[39;00m \u001b[38;5;129;01mnot\u001b[39;00m \u001b[38;5;28misinstance\u001b[39m(loc, \u001b[38;5;28mint\u001b[39m):\n\u001b[0;32m   4819\u001b[0m     \u001b[38;5;28;01mraise\u001b[39;00m \u001b[38;5;167;01mTypeError\u001b[39;00m(\u001b[38;5;124m\"\u001b[39m\u001b[38;5;124mloc must be int\u001b[39m\u001b[38;5;124m\"\u001b[39m)\n",
      "\u001b[1;31mValueError\u001b[0m: cannot insert Circle_Name, already exists"
     ]
    }
   ],
   "source": [
    "# # df =Division_Name(df)\n",
    "#     df['LOAD'] = pd.to_numeric(df['LOAD'])   #,errors=\"coerce\"\n",
    "#     df['LOAD_FILTER'] = None\n",
    "#     df.loc[df['LOAD'] < 5,\"LOAD_FILTER\"] = \"1-5kw\"\n",
    "#     df.loc[((df['LOAD'] >= 5) & (df['LOAD'] < 10)),\"LOAD_FILTER\"] = \"5-9kw\"\n",
    "#     df.loc[df['LOAD'] >= 10,\"LOAD_FILTER\"] = \"great than 10kw\""
   ]
  },
  {
   "cell_type": "code",
   "execution_count": 42,
   "id": "f8ad9b1a-3e30-4ded-8886-246e73aed5ae",
   "metadata": {
    "tags": []
   },
   "outputs": [],
   "source": [
    "# df1=df[df['LOAD_FILTER']=='great than 10kw']"
   ]
  },
  {
   "cell_type": "code",
   "execution_count": 51,
   "id": "2b7d9d5d-f783-4e7e-acfc-f84656c769b9",
   "metadata": {
    "tags": []
   },
   "outputs": [
    {
     "data": {
      "text/plain": [
       "Circle_Name                      object\n",
       "Division_Name                    object\n",
       "DIV_CODE                         object\n",
       "SDO_CODE                         object\n",
       "SUBSTATION                       object\n",
       "FEEDER                           object\n",
       "ACCT_ID                         float64\n",
       "KNO                              object\n",
       "NAME                             object\n",
       "ADDRESS                          object\n",
       "MOBILE_NO                       float64\n",
       "SUPPLY_TYPE                      object\n",
       "CONSUMPTION_CURR_MNTH           float64\n",
       "CONSUMPTION_PREV_MNTH            object\n",
       "DOC                      datetime64[ns]\n",
       "BILL_BASIS                       object\n",
       "METER_STATUS                     object\n",
       "METER_READ_REMARK                object\n",
       "BILL_TYP                         object\n",
       "SBM_MACHINE_ID                   object\n",
       "CON_STATUS                       object\n",
       "LOAD                            float64\n",
       "MDI                             float64\n",
       "ARREAR                          float64\n",
       "CURRENT_ASSESSMENT              float64\n",
       "TOTAL_OUTSTANDING               float64\n",
       "LPSC                             object\n",
       "LAST_OK_READING                 float64\n",
       "LAST_OK_READ_STATUS      datetime64[ns]\n",
       "METER_READ_FLTY_CNT             float64\n",
       "LAST_PAY_AMT                    float64\n",
       "LAST_PAY_DATE            datetime64[ns]\n",
       "INDUSTRIAL_FLAG                  object\n",
       "ACCT_INFLALTED_FLAG              object\n",
       "GOVT_CODE                        object\n",
       "LAST_BILL_DATE           datetime64[ns]\n",
       "PAYMENT_SRCE                     object\n",
       "TOTAL_PAY_AMT                   float64\n",
       "CONSUMER_BASE                    object\n",
       "paid_status                       int64\n",
       "Neverpaid_count                   int64\n",
       "Neverpaid_status                float64\n",
       "gov_flag                           bool\n",
       "bilable_flag                       bool\n",
       "Cat                              object\n",
       "LOAD_FILTER                      object\n",
       "Cat_vc                           object\n",
       "graph_vc                         object\n",
       "paid_arrear                     float64\n",
       "conection_month                  object\n",
       "life_line                          bool\n",
       "newconection                      int64\n",
       "dtype: object"
      ]
     },
     "execution_count": 51,
     "metadata": {},
     "output_type": "execute_result"
    }
   ],
   "source": [
    "df.dtypes"
   ]
  },
  {
   "cell_type": "code",
   "execution_count": 81,
   "id": "1f875e0d-8205-4070-b136-e7dde239d632",
   "metadata": {
    "tags": []
   },
   "outputs": [
    {
     "name": "stdout",
     "output_type": "stream",
     "text": [
      "CSV: 76.53425645828247\n"
     ]
    }
   ],
   "source": [
    "start = time.time()\n",
    "# df1.to_excel(f\"{month}/top10-td-rapdrp.xlsx\")\n",
    "df.to_csv(f\"{month}/{circle}/{circle}_oct23_ots.csv\") \n",
    "\n",
    "end = time.time()\n",
    "print(\"CSV:\", end - start)"
   ]
  },
  {
   "cell_type": "code",
   "execution_count": 39,
   "id": "549f57ea-9178-44da-98a8-f798aa88be86",
   "metadata": {
    "tags": []
   },
   "outputs": [
    {
     "name": "stdout",
     "output_type": "stream",
     "text": [
      "CSV: 53.3649525642395\n"
     ]
    }
   ],
   "source": [
    "# start = time.time()\n",
    "# # df1.to_excel(f\"{month}/top10-td-rapdrp.xlsx\")\n",
    "# df.to_csv(f\"{month}/{circle}/{circle}sep23_8oct.csv\") \n",
    "\n",
    "# end = time.time()\n",
    "# print(\"CSV:\", end - start)"
   ]
  },
  {
   "cell_type": "code",
   "execution_count": 42,
   "id": "b3086516",
   "metadata": {},
   "outputs": [
    {
     "data": {
      "text/plain": [
       "LMV1(2-5kw)        1341922\n",
       "LMV2(2-5kw)          56055\n",
       "LMV4(2-5kw)          19702\n",
       "great than 10kw       9912\n",
       "LMV2(5-9kw)           2662\n",
       "LMV1(5-9kw)           1661\n",
       "LMV4(5-9kw)            786\n",
       "Name: new_cat, dtype: int64"
      ]
     },
     "execution_count": 42,
     "metadata": {},
     "output_type": "execute_result"
    }
   ],
   "source": [
    "df.new_cat.value_counts()"
   ]
  },
  {
   "cell_type": "code",
   "execution_count": 88,
   "id": "c8bd8400",
   "metadata": {},
   "outputs": [],
   "source": [
    "df = df[df.new_cat.notna()]"
   ]
  },
  {
   "cell_type": "code",
   "execution_count": 104,
   "id": "4951c4da-29b2-4384-b51b-f7fc3f15c186",
   "metadata": {
    "tags": []
   },
   "outputs": [
    {
     "name": "stdout",
     "output_type": "stream",
     "text": [
      "['EDD I Bahraich' 'EDD II Nanpara' 'EDD III Kaisarganj' 'EDD Balrampur'\n",
      " 'EDD SHRAWASTI' 'EDD Tulsipur' 'EDD I Gonda' 'EDD II Gonda'\n",
      " 'EDD III COLONELGANJ' 'EDD IV MANKAPUR']\n",
      "EDD I Bahraich\n",
      "CSV: 12.913344621658325\n",
      "EDD II Nanpara\n",
      "CSV: 22.742069244384766\n",
      "EDD III Kaisarganj\n",
      "CSV: 21.657413721084595\n",
      "EDD Balrampur\n",
      "CSV: 9.60334825515747\n",
      "EDD SHRAWASTI\n",
      "CSV: 15.763208627700806\n",
      "EDD Tulsipur\n",
      "CSV: 22.403606414794922\n",
      "EDD I Gonda\n",
      "CSV: 9.498378038406372\n",
      "EDD II Gonda\n",
      "CSV: 16.380317449569702\n",
      "EDD III COLONELGANJ\n",
      "CSV: 13.315404415130615\n",
      "EDD IV MANKAPUR\n",
      "CSV: 16.226884603500366\n"
     ]
    }
   ],
   "source": [
    "\n",
    "bifurcation(\"Division_Name\",'Division_raw')  \n",
    "# \"Division_Name\"\n",
    "# \"Circle_Name\"\n"
   ]
  },
  {
   "cell_type": "code",
   "execution_count": null,
   "id": "615598b5-d6fd-44a2-bff7-01318f3a4e43",
   "metadata": {
    "tags": []
   },
   "outputs": [],
   "source": [
    "df.columns"
   ]
  },
  {
   "cell_type": "code",
   "execution_count": 46,
   "id": "6b67d3d7-a26e-4e01-a422-ba7e1ba71e72",
   "metadata": {
    "tags": []
   },
   "outputs": [],
   "source": [
    "rdf_sdo=df[(df.bilable_flag == True) & (df.gov_flag == False) &(df.METER_READ_REMARK== 'RDF')].pivot_table(index=['Circle_Name','Division_Name','SDO_CODE','SUBSTATION'],columns=['CON_STATUS'],values=['ACCT_ID'],\n",
    "                    aggfunc={'ACCT_ID':'count'},fill_value=0,margins=True,margins_name='Total' )\n"
   ]
  },
  {
   "cell_type": "code",
   "execution_count": 112,
   "id": "94f6862b-457c-4b42-b57b-41f06aef6288",
   "metadata": {
    "tags": []
   },
   "outputs": [],
   "source": [
    "meter_read_remark =df.pivot_table(index=['Circle_Name','Division_Name',],columns=['METER_READ_REMARK','CON_STATUS'],values=['ACCT_ID'],\n",
    "                    aggfunc={'ACCT_ID':'count'},fill_value=0,margins=True,margins_name='Total' )"
   ]
  },
  {
   "cell_type": "code",
   "execution_count": 113,
   "id": "6bbabc8c-c3e6-4b09-8656-461e42f1cc8c",
   "metadata": {
    "tags": []
   },
   "outputs": [],
   "source": [
    "BILL_BASIS =df.pivot_table(index=['Circle_Name','Division_Name',],columns=['BILL_BASIS','CON_STATUS'],values=['ACCT_ID'],\n",
    "                    aggfunc={'ACCT_ID':'count'},fill_value=0,margins=True,margins_name='Total' )"
   ]
  },
  {
   "cell_type": "code",
   "execution_count": 132,
   "id": "e0900d41-cd1c-449e-87c5-69cda6c19254",
   "metadata": {
    "tags": []
   },
   "outputs": [],
   "source": [
    "Sbm =df[df.BILL_TYP=='SBM'].pivot_table(index=['Circle_Name','Division_Name','SBM_MACHINE_ID'],values=['ACCT_ID'],\n",
    "                    aggfunc={'ACCT_ID':'count'},fill_value=0,margins=True,margins_name='Total' )"
   ]
  },
  {
   "cell_type": "code",
   "execution_count": 114,
   "id": "2f4893f4-d130-4419-957c-370febcbad86",
   "metadata": {
    "tags": []
   },
   "outputs": [],
   "source": [
    "# pivot_table.plot(kind='pie',\n",
    "#             subplots=True,\n",
    "#               title='Population (1955-2020)',autopct='%1.0f%%')\n",
    "\n",
    "Catvc=df[(df.bilable_flag == True) & (df.gov_flag == False)].pivot_table(index=['Circle_Name','Division_Name',], columns=['Cat_vc'],values=['ACCT_ID','CURRENT_ASSESSMENT','TOTAL_OUTSTANDING','TOTAL_PAY_AMT','paid_status'],\n",
    "                    aggfunc={'ACCT_ID':'count','CURRENT_ASSESSMENT':np.sum,'TOTAL_OUTSTANDING':np.sum,'TOTAL_PAY_AMT':np.sum,'paid_status':np.sum},fill_value=0,margins=True,margins_name='Total' )\n"
   ]
  },
  {
   "cell_type": "code",
   "execution_count": 115,
   "id": "cf4e5af4-6172-46dd-b4ed-fa0da6aeec0c",
   "metadata": {
    "tags": []
   },
   "outputs": [],
   "source": [
    "# pivot_table.plot(kind='pie',\n",
    "#             subplots=True,\n",
    "#               title='Population (1955-2020)',autopct='%1.0f%%')\n",
    "\n",
    "graphvc=df[(df.bilable_flag == True)].pivot_table(index=['Circle_Name','Division_Name',], columns=['graph_vc'],values=['ACCT_ID','CURRENT_ASSESSMENT','TOTAL_OUTSTANDING','CONSUMPTION_CURR_MNTH','TOTAL_PAY_AMT','paid_status','LOAD'],\n",
    "                    aggfunc={'ACCT_ID':'count','CURRENT_ASSESSMENT':np.sum,'TOTAL_OUTSTANDING':np.sum,'CONSUMPTION_CURR_MNTH':np.sum,'TOTAL_PAY_AMT':np.sum,'LOAD':np.sum,'paid_status':np.sum},fill_value=0,margins=True,margins_name='Total' )\n"
   ]
  },
  {
   "cell_type": "code",
   "execution_count": 50,
   "id": "1426dc25",
   "metadata": {},
   "outputs": [
    {
     "data": {
      "text/plain": [
       "Index(['Circle_Name', 'Division_Name', 'DIV_CODE', 'SDO_CODE', 'SUBSTATION',\n",
       "       'FEEDER', 'ACCT_ID', 'KNO', 'NAME', 'ADDRESS', 'MOBILE_NO',\n",
       "       'SUPPLY_TYPE', 'CONSUMPTION_CURR_MNTH', 'CONSUMPTION_PREV_MNTH', 'DOC',\n",
       "       'BILL_BASIS', 'METER_STATUS', 'METER_READ_REMARK', 'BILL_TYP',\n",
       "       'SBM_MACHINE_ID', 'CON_STATUS', 'LOAD', 'MDI', 'ARREAR',\n",
       "       'CURRENT_ASSESSMENT', 'TOTAL_OUTSTANDING', 'LPSC', 'LAST_OK_READING',\n",
       "       'LAST_OK_READ_STATUS', 'METER_READ_FLTY_CNT', 'LAST_PAY_AMT',\n",
       "       'LAST_PAY_DATE', 'INDUSTRIAL_FLAG', 'ACCT_INFLALTED_FLAG', 'GOVT_CODE',\n",
       "       'LAST_BILL_DATE', 'PAYMENT_SRCE', 'TOTAL_PAY_AMT', 'CONSUMER_BASE',\n",
       "       'paid_status', 'Neverpaid_count', 'Neverpaid_status', 'gov_flag',\n",
       "       'bilable_flag', 'Cat', 'LOAD_FILTER', 'Cat_vc', 'graph_vc',\n",
       "       'paid_arrear', 'conection_month', 'life_line', 'newconection'],\n",
       "      dtype='object')"
      ]
     },
     "execution_count": 50,
     "metadata": {},
     "output_type": "execute_result"
    }
   ],
   "source": [
    "df.columns"
   ]
  },
  {
   "cell_type": "code",
   "execution_count": 42,
   "id": "398bd8aa",
   "metadata": {},
   "outputs": [],
   "source": [
    "# pivot_table.plot(kind='pie',\n",
    "#             subplots=True,\n",
    "#               title='Population (1955-2020)',autopct='%1.0f%%')\n",
    "\n",
    "unpaid_new=df[(df.bilable_flag == True) & (df.gov_flag == False) & (df.newconection == 1) & (df.paid_status == 0)].pivot_table(index=['Circle_Name','Division_Name',], columns=['INF_BILL','BILL_BASIS'],values=['ACCT_ID','CURRENT_ASSESSMENT','TOTAL_OUTSTANDING','CONSUMPTION_CURR_MNTH'],\n",
    "                    aggfunc={'ACCT_ID':'count','CURRENT_ASSESSMENT':np.sum,'TOTAL_OUTSTANDING':np.sum,'CONSUMPTION_CURR_MNTH':np.sum},fill_value=0)\n"
   ]
  },
  {
   "cell_type": "code",
   "execution_count": 44,
   "id": "8cbe832b",
   "metadata": {},
   "outputs": [],
   "source": [
    "unpaid_new.to_excel(f\"{month}/{circle}/report/{circle}_{month}_upaid_new.xlsx\")"
   ]
  },
  {
   "cell_type": "code",
   "execution_count": null,
   "id": "6de5565c",
   "metadata": {},
   "outputs": [],
   "source": []
  },
  {
   "cell_type": "code",
   "execution_count": 116,
   "id": "edd774ec-9b55-493d-bbd4-c0748ff22011",
   "metadata": {
    "tags": []
   },
   "outputs": [],
   "source": [
    "# pivot_table.plot(kind='pie',\n",
    "#             subplots=True,\n",
    "#               title='Population (1955-2020)',autopct='%1.0f%%')\n",
    "\n",
    "Catvc=df[(df.bilable_flag == True) & (df.gov_flag == False)].pivot_table(index=['Circle_Name','Division_Name',], columns=['Cat_vc'],values=['ACCT_ID','CURRENT_ASSESSMENT','TOTAL_OUTSTANDING','TOTAL_PAY_AMT','paid_status','LOAD'],\n",
    "                    aggfunc={'ACCT_ID':'count','CURRENT_ASSESSMENT':np.sum,'TOTAL_OUTSTANDING':np.sum,'TOTAL_PAY_AMT':np.sum,'paid_status':np.sum,'LOAD':np.sum},fill_value=0,margins=True,margins_name='Total' )\n"
   ]
  },
  {
   "cell_type": "code",
   "execution_count": 131,
   "id": "21a45006-1963-4a94-8228-2b5ca9908b0e",
   "metadata": {},
   "outputs": [],
   "source": [
    "# pivot_table.plot(kind='pie',\n",
    "#             subplots=True,\n",
    "#               title='Population (1955-2020)',autopct='%1.0f%%')\n",
    "\n",
    "div_cat=df[(df.bilable_flag == True) & (df.gov_flag == False)].pivot_table(index=['Circle_Name','Division_Name',], columns=['Cat'],values=['ACCT_ID','CURRENT_ASSESSMENT','TOTAL_OUTSTANDING','TOTAL_PAY_AMT','paid_status','LOAD'],\n",
    "                    aggfunc={'ACCT_ID':'count','CURRENT_ASSESSMENT':np.sum,'TOTAL_OUTSTANDING':np.sum,'TOTAL_PAY_AMT':np.sum,'paid_status':np.sum,'LOAD':np.sum},fill_value=0,margins=True,margins_name='Total' )\n"
   ]
  },
  {
   "cell_type": "code",
   "execution_count": 52,
   "id": "788aec3e-8a2c-4f7e-8db1-3a3d9eb79ba8",
   "metadata": {
    "tags": []
   },
   "outputs": [],
   "source": [
    "# pivot_table.plot(kind='pie',\n",
    "#             subplots=True,\n",
    "#               title='Population (1955-2020)',autopct='%1.0f%%')\n",
    "\n",
    "ots_1=df[(df.bilable_flag == True) & (df.LPSC >1) ].pivot_table(index=['Circle_Name','Division_Name'], columns=['ots_vc'],values=['ACCT_ID','arrear_withot_Lpsc'],\n",
    "                    aggfunc={'ACCT_ID':'count','arrear_withot_Lpsc':np.sum},fill_value=0,margins=True,margins_name='Total' )\n"
   ]
  },
  {
   "cell_type": "code",
   "execution_count": 53,
   "id": "6cc18fba-3b15-48e8-a122-7876b50d66fb",
   "metadata": {
    "tags": []
   },
   "outputs": [],
   "source": [
    "# pivot_table.plot(kind='pie',\n",
    "#             subplots=True,\n",
    "#               title='Population (1955-2020)',autopct='%1.0f%%')\n",
    "\n",
    "ots_500=df[(df.bilable_flag == True) & (df.LPSC >= 500) ].pivot_table(index=['Circle_Name','Division_Name','ARREAR_FILTER'], columns=['ots_vc'],values=['ACCT_ID','arrear_withot_Lpsc'],\n",
    "                    aggfunc={'ACCT_ID':'count','arrear_withot_Lpsc':np.sum},fill_value=0,margins=True,margins_name='Total' )\n"
   ]
  },
  {
   "cell_type": "code",
   "execution_count": 146,
   "id": "78c068f3-f42f-4ae2-b9e5-f2885208c2ff",
   "metadata": {
    "tags": []
   },
   "outputs": [],
   "source": [
    "# df['discount_Nov'] = None\n",
    "#     df['discount_Dec(1-15)'] = None\n",
    "#     df['Registration_amount'] = None\n",
    "#     df['Registration_amount'] = 0.3*df['TOTAL_OUTSTANDING']\n",
    "#     df['Amount_to_be_paid_after_disc_Nov'] = None\n",
    "#     df['Amount_to_be_paid_after_disc_dec(1-15)']\n",
    "feeder = [\"RANI BAZAR_35521114103RIR\",\"TOWN III_35521110170TO3\",'BALESHWAR GANJ_35523410632BWJ',\"TARAB GANJ TOWN_35523420638TTW \",\"TAHSEEL_35523310390THL\",\"DHANEPUR TOWN_35523110163DTW\",\"DHARAMPUR_35513110252DRP\",\"LIFT CANAL_35513110176LCL\",\"EAST_35513110180EAT\",\"SADULLA NAGAR_35513130186SLR\",\"IPDS 1_35513131017IP1\",\"SEMRI DEHAT_35492210434SDT\",\"SIRSIYA_35492210434SRA\",\"PACHDEVARI_35492220437PHI\",\"JAMUNHA_35492210436JUA\",\"TIWARI GAON_35492210436TRN\",\"RURAL_35492110453RUL\",\"RAHVA_35491110455RAA\",\"NEJABHAAR_35492220555NAR\",\"MAHARAJGANJ_35492220556MRJ\",\"JAITAPUR_35492150460JAT\"]"
   ]
  },
  {
   "cell_type": "code",
   "execution_count": 50,
   "id": "16e923f1-512c-4a4f-9f29-d89b2aa806cc",
   "metadata": {
    "tags": []
   },
   "outputs": [],
   "source": [
    "div_highloss_nov = df[(df.bilable_flag == True) & (df.FEEDER.isin(feeder))].pivot_table(\n",
    "    index=['Circle_Name', 'Division_Name','FEEDER'], values=['ACCT_ID','CONSUMPTION_CURR_MNTH','CURRENT_ASSESSMENT','TOTAL_PAY_AMT','LOAD'],\n",
    "    aggfunc={'ACCT_ID':'count','LOAD':np.sum,'CONSUMPTION_CURR_MNTH':np.sum,'CURRENT_ASSESSMENT':np.sum,'TOTAL_PAY_AMT':np.sum}, fill_value=0\n",
    ")"
   ]
  },
  {
   "cell_type": "code",
   "execution_count": 51,
   "id": "b457685c-1c8e-4438-9d85-66d97d9ca91e",
   "metadata": {
    "tags": []
   },
   "outputs": [],
   "source": [
    "div_highloss_nov.to_excel(f\"{month}/{circle}/report/{circle}_{month}_highloss_nov.xlsx\")"
   ]
  },
  {
   "cell_type": "code",
   "execution_count": 55,
   "id": "043ea052-42ae-40f7-83d8-7d4816df2330",
   "metadata": {
    "tags": []
   },
   "outputs": [],
   "source": [
    "# pivot_table.plot(kind='pie',\n",
    "#             subplots=True,\n",
    "#               title='Population (1955-2020)',autopct='%1.0f%%')\n",
    "\n",
    "ots_detail=df[(df.bilable_flag == True) & (df.LPSC >= 100) ].pivot_table(index=['Circle_Name','Division_Name'], columns=['ots_vc'],values=['ACCT_ID','TOTAL_OUTSTANDING','discount_Nov','Registration_amount','Amount_to_be_paid_after_disc_Nov'],\n",
    "                    aggfunc={'ACCT_ID':'count','discount_Nov':np.sum,'TOTAL_OUTSTANDING':np.sum,'Registration_amount':np.sum,'Amount_to_be_paid_after_disc_Nov':np.sum},fill_value=0,margins=True,margins_name='Total' )\n"
   ]
  },
  {
   "cell_type": "code",
   "execution_count": null,
   "id": "5cc1c674-f06d-4b62-b942-a53940c6d4e9",
   "metadata": {},
   "outputs": [],
   "source": []
  },
  {
   "cell_type": "code",
   "execution_count": 31,
   "id": "c254074e-88c9-4646-a07b-7e145a96851b",
   "metadata": {
    "tags": []
   },
   "outputs": [],
   "source": [
    "# # pivot_table.plot(kind='pie',\n",
    "# #             subplots=True,\n",
    "# #               title='Population (1955-2020)',autopct='%1.0f%%')\n",
    "\n",
    "# Csc_count=df[(df.PAYMENT_SRCE == \"EGSIL001\") & (df.paid_status==1)].pivot_table(index=['Circle_Name','Division_Name'],values=['ACCT_ID','TOTAL_PAY_AMT','paid_status'],\n",
    "#                     aggfunc={'ACCT_ID':'count','TOTAL_PAY_AMT':np.sum,'paid_status':np.sum},fill_value=0,margins=True,margins_name='Total' )\n"
   ]
  },
  {
   "cell_type": "code",
   "execution_count": 55,
   "id": "3c98cf04-4b6b-443d-9c2e-dfc1316c4dc7",
   "metadata": {
    "tags": []
   },
   "outputs": [],
   "source": [
    "# # pivot_table.plot(kind='pie',\n",
    "# #             subplots=True,\n",
    "# #               title='Population (1955-2020)',autopct='%1.0f%%')\n",
    "\n",
    "# Catvc_acc=df[(df.bilable_flag == True)].pivot_table(index=['Circle_Name','Division_Name'], columns=['Cat'],values=['ACCT_ID'],\n",
    "#                     aggfunc={'ACCT_ID':'count'},fill_value=0,margins=True,margins_name='Total' )\n"
   ]
  },
  {
   "cell_type": "code",
   "execution_count": 47,
   "id": "edbefe97-baae-4333-8d93-0c887c8d8e50",
   "metadata": {
    "tags": []
   },
   "outputs": [],
   "source": [
    "# pivot_table.plot(kind='pie',\n",
    "#             subplots=True,\n",
    "#               title='Population (1955-2020)',autopct='%1.0f%%')\n",
    "\n",
    "div_cat_connection=df[(df.bilable_flag == True)&(df.newconection== 0)].pivot_table(index=['Circle_Name','Division_Name'], columns=['gov_flag','Cat'],values=['ACCT_ID','LOAD','CONSUMPTION_CURR_MNTH','CURRENT_ASSESSMENT','TOTAL_OUTSTANDING','TOTAL_PAY_AMT','paid_status'],\n",
    "                    aggfunc={'ACCT_ID':'count','LOAD':np.sum,'CONSUMPTION_CURR_MNTH':np.sum,'CURRENT_ASSESSMENT':np.sum,'TOTAL_OUTSTANDING':np.sum,'TOTAL_PAY_AMT':np.sum,'paid_status':np.sum},fill_value=0 )\n"
   ]
  },
  {
   "cell_type": "code",
   "execution_count": 57,
   "id": "4f96dba9-1778-4bf5-90d5-df2a59c25c0c",
   "metadata": {
    "tags": []
   },
   "outputs": [],
   "source": [
    "# pivot_table.plot(kind='pie',\n",
    "#             subplots=True,\n",
    "#               title='Population (1955-2020)',autopct='%1.0f%%')\n",
    "\n",
    "arrear_paid=df[(df.bilable_flag == True)].pivot_table(index=['Circle_Name','Division_Name'], columns=['gov_flag'],values=['TOTAL_PAY_AMT','paid_arrear'],\n",
    "                    aggfunc={'paid_arrear':np.sum,'TOTAL_PAY_AMT':np.sum},fill_value=0 )\n"
   ]
  },
  {
   "cell_type": "code",
   "execution_count": null,
   "id": "dded95a9-5bb9-4f99-bd27-f8dc27656535",
   "metadata": {},
   "outputs": [],
   "source": []
  },
  {
   "cell_type": "code",
   "execution_count": 117,
   "id": "75d44c98-2828-40c0-b6e8-4557760b27b0",
   "metadata": {
    "tags": []
   },
   "outputs": [],
   "source": [
    "# pivot_table.plot(kind='pie',\n",
    "#             subplots=True,\n",
    "#               title='Population (1955-2020)',autopct='%1.0f%%')\n",
    "\n",
    "div=df[(df.bilable_flag == True)].pivot_table(index=['Circle_Name','Division_Name'], columns=[],values=['ACCT_ID','LOAD','CONSUMPTION_CURR_MNTH','CURRENT_ASSESSMENT','TOTAL_OUTSTANDING','TOTAL_PAY_AMT','paid_status'],\n",
    "                    aggfunc={'ACCT_ID':'count','LOAD':np.sum,'CONSUMPTION_CURR_MNTH':np.sum,'CURRENT_ASSESSMENT':np.sum,'TOTAL_OUTSTANDING':np.sum,'TOTAL_PAY_AMT':np.sum,'paid_status':np.sum},fill_value=0 )\n"
   ]
  },
  {
   "cell_type": "code",
   "execution_count": 134,
   "id": "95434717-9c25-4357-abf8-399585461feb",
   "metadata": {
    "tags": []
   },
   "outputs": [],
   "source": [
    "# pivot_table.plot(kind='pie',\n",
    "#             subplots=True,\n",
    "#               title='Population (1955-2020)',autopct='%1.0f%%')\n",
    "\n",
    "div_csc=df[(df.bilable_flag == True) & (df.paid_status==1) & (df.PAYMENT_SRCE=='EGSIL001')].pivot_table(index=['Circle_Name','Division_Name'], columns=['LAST_PAY_DATE'],values=['TOTAL_PAY_AMT'],\n",
    "                    aggfunc={'TOTAL_PAY_AMT':np.sum},fill_value=0 )\n"
   ]
  },
  {
   "cell_type": "code",
   "execution_count": 136,
   "id": "ffafd979-0e4a-45de-8075-5dd19d7c0417",
   "metadata": {
    "tags": []
   },
   "outputs": [],
   "source": [
    "# pivot_table.plot(kind='pie',\n",
    "#             subplots=True,\n",
    "#               title='Population (1955-2020)',autopct='%1.0f%%')\n",
    "\n",
    "div_csc_other=df[(df.bilable_flag == True) & (df.paid_status==1) & (df.PAYMENT_SRCE=='EGSIL001')].pivot_table(index=['LAST_PAY_DATE'], columns=['Circle_Name','Division_Name'],values=['TOTAL_PAY_AMT'],\n",
    "                    aggfunc={'TOTAL_PAY_AMT':np.sum},fill_value=0 )\n"
   ]
  },
  {
   "cell_type": "code",
   "execution_count": null,
   "id": "a9934e2a-7d0f-45d0-b5e8-e9bd820a64a9",
   "metadata": {},
   "outputs": [],
   "source": []
  },
  {
   "cell_type": "code",
   "execution_count": 118,
   "id": "4b37be56-231e-4d6c-aa84-03d846606b32",
   "metadata": {
    "tags": []
   },
   "outputs": [
    {
     "ename": "ValueError",
     "evalue": "No objects to concatenate",
     "output_type": "error",
     "traceback": [
      "\u001b[1;31m---------------------------------------------------------------------------\u001b[0m",
      "\u001b[1;31mValueError\u001b[0m                                Traceback (most recent call last)",
      "Cell \u001b[1;32mIn[118], line 1\u001b[0m\n\u001b[1;32m----> 1\u001b[0m zone_arrear_cat_vc \u001b[38;5;241m=\u001b[39mdf[(df\u001b[38;5;241m.\u001b[39mgov_flag \u001b[38;5;241m==\u001b[39m \u001b[38;5;28;01mFalse\u001b[39;00m) \u001b[38;5;241m&\u001b[39m(df\u001b[38;5;241m.\u001b[39mbilable_flag \u001b[38;5;241m==\u001b[39m \u001b[38;5;28;01mTrue\u001b[39;00m) ]\u001b[38;5;241m.\u001b[39mpivot_table(index\u001b[38;5;241m=\u001b[39m[\u001b[38;5;124m'\u001b[39m\u001b[38;5;124mCircle_Name\u001b[39m\u001b[38;5;124m'\u001b[39m,\u001b[38;5;124m'\u001b[39m\u001b[38;5;124mDivision_Name\u001b[39m\u001b[38;5;124m'\u001b[39m], columns\u001b[38;5;241m=\u001b[39m[\u001b[38;5;124m'\u001b[39m\u001b[38;5;124mARREAR_FILTER\u001b[39m\u001b[38;5;124m'\u001b[39m], values\u001b[38;5;241m=\u001b[39m[\u001b[38;5;124m'\u001b[39m\u001b[38;5;124mACCT_ID\u001b[39m\u001b[38;5;124m'\u001b[39m,\u001b[38;5;124m'\u001b[39m\u001b[38;5;124mCURRENT_ASSESSMENT\u001b[39m\u001b[38;5;124m'\u001b[39m,\u001b[38;5;124m'\u001b[39m\u001b[38;5;124mTOTAL_OUTSTANDING\u001b[39m\u001b[38;5;124m'\u001b[39m,\u001b[38;5;124m'\u001b[39m\u001b[38;5;124mTOTAL_PAY_AMT\u001b[39m\u001b[38;5;124m'\u001b[39m,\u001b[38;5;124m'\u001b[39m\u001b[38;5;124mpaid_status\u001b[39m\u001b[38;5;124m'\u001b[39m,\u001b[38;5;124m'\u001b[39m\u001b[38;5;124mNeverpaid_status\u001b[39m\u001b[38;5;124m'\u001b[39m],\n\u001b[0;32m      2\u001b[0m                     aggfunc\u001b[38;5;241m=\u001b[39m{\u001b[38;5;124m'\u001b[39m\u001b[38;5;124mACCT_ID\u001b[39m\u001b[38;5;124m'\u001b[39m:\u001b[38;5;124m'\u001b[39m\u001b[38;5;124mcount\u001b[39m\u001b[38;5;124m'\u001b[39m,\u001b[38;5;124m'\u001b[39m\u001b[38;5;124mTOTAL_OUTSTANDING\u001b[39m\u001b[38;5;124m'\u001b[39m:np\u001b[38;5;241m.\u001b[39msum,\u001b[38;5;124m'\u001b[39m\u001b[38;5;124mCURRENT_ASSESSMENT\u001b[39m\u001b[38;5;124m'\u001b[39m:np\u001b[38;5;241m.\u001b[39msum,\n\u001b[0;32m      3\u001b[0m                             \u001b[38;5;124m'\u001b[39m\u001b[38;5;124mTOTAL_PAY_AMT\u001b[39m\u001b[38;5;124m'\u001b[39m:np\u001b[38;5;241m.\u001b[39msum,\u001b[38;5;124m'\u001b[39m\u001b[38;5;124mpaid_status\u001b[39m\u001b[38;5;124m'\u001b[39m:np\u001b[38;5;241m.\u001b[39msum,\u001b[38;5;124m'\u001b[39m\u001b[38;5;124mNeverpaid_status\u001b[39m\u001b[38;5;124m'\u001b[39m:np\u001b[38;5;241m.\u001b[39msum},fill_value\u001b[38;5;241m=\u001b[39m\u001b[38;5;241m0\u001b[39m,margins\u001b[38;5;241m=\u001b[39m\u001b[38;5;28;01mTrue\u001b[39;00m,margins_name\u001b[38;5;241m=\u001b[39m\u001b[38;5;124m'\u001b[39m\u001b[38;5;124mTotal\u001b[39m\u001b[38;5;124m'\u001b[39m )\n",
      "File \u001b[1;32m~\\anaconda3\\Lib\\site-packages\\pandas\\core\\frame.py:8731\u001b[0m, in \u001b[0;36mDataFrame.pivot_table\u001b[1;34m(self, values, index, columns, aggfunc, fill_value, margins, dropna, margins_name, observed, sort)\u001b[0m\n\u001b[0;32m   8714\u001b[0m \u001b[38;5;129m@Substitution\u001b[39m(\u001b[38;5;124m\"\u001b[39m\u001b[38;5;124m\"\u001b[39m)\n\u001b[0;32m   8715\u001b[0m \u001b[38;5;129m@Appender\u001b[39m(_shared_docs[\u001b[38;5;124m\"\u001b[39m\u001b[38;5;124mpivot_table\u001b[39m\u001b[38;5;124m\"\u001b[39m])\n\u001b[0;32m   8716\u001b[0m \u001b[38;5;28;01mdef\u001b[39;00m \u001b[38;5;21mpivot_table\u001b[39m(\n\u001b[1;32m   (...)\u001b[0m\n\u001b[0;32m   8727\u001b[0m     sort\u001b[38;5;241m=\u001b[39m\u001b[38;5;28;01mTrue\u001b[39;00m,\n\u001b[0;32m   8728\u001b[0m ) \u001b[38;5;241m-\u001b[39m\u001b[38;5;241m>\u001b[39m DataFrame:\n\u001b[0;32m   8729\u001b[0m     \u001b[38;5;28;01mfrom\u001b[39;00m \u001b[38;5;21;01mpandas\u001b[39;00m\u001b[38;5;21;01m.\u001b[39;00m\u001b[38;5;21;01mcore\u001b[39;00m\u001b[38;5;21;01m.\u001b[39;00m\u001b[38;5;21;01mreshape\u001b[39;00m\u001b[38;5;21;01m.\u001b[39;00m\u001b[38;5;21;01mpivot\u001b[39;00m \u001b[38;5;28;01mimport\u001b[39;00m pivot_table\n\u001b[1;32m-> 8731\u001b[0m     \u001b[38;5;28;01mreturn\u001b[39;00m pivot_table(\n\u001b[0;32m   8732\u001b[0m         \u001b[38;5;28mself\u001b[39m,\n\u001b[0;32m   8733\u001b[0m         values\u001b[38;5;241m=\u001b[39mvalues,\n\u001b[0;32m   8734\u001b[0m         index\u001b[38;5;241m=\u001b[39mindex,\n\u001b[0;32m   8735\u001b[0m         columns\u001b[38;5;241m=\u001b[39mcolumns,\n\u001b[0;32m   8736\u001b[0m         aggfunc\u001b[38;5;241m=\u001b[39maggfunc,\n\u001b[0;32m   8737\u001b[0m         fill_value\u001b[38;5;241m=\u001b[39mfill_value,\n\u001b[0;32m   8738\u001b[0m         margins\u001b[38;5;241m=\u001b[39mmargins,\n\u001b[0;32m   8739\u001b[0m         dropna\u001b[38;5;241m=\u001b[39mdropna,\n\u001b[0;32m   8740\u001b[0m         margins_name\u001b[38;5;241m=\u001b[39mmargins_name,\n\u001b[0;32m   8741\u001b[0m         observed\u001b[38;5;241m=\u001b[39mobserved,\n\u001b[0;32m   8742\u001b[0m         sort\u001b[38;5;241m=\u001b[39msort,\n\u001b[0;32m   8743\u001b[0m     )\n",
      "File \u001b[1;32m~\\anaconda3\\Lib\\site-packages\\pandas\\core\\reshape\\pivot.py:97\u001b[0m, in \u001b[0;36mpivot_table\u001b[1;34m(data, values, index, columns, aggfunc, fill_value, margins, dropna, margins_name, observed, sort)\u001b[0m\n\u001b[0;32m     94\u001b[0m     table \u001b[38;5;241m=\u001b[39m concat(pieces, keys\u001b[38;5;241m=\u001b[39mkeys, axis\u001b[38;5;241m=\u001b[39m\u001b[38;5;241m1\u001b[39m)\n\u001b[0;32m     95\u001b[0m     \u001b[38;5;28;01mreturn\u001b[39;00m table\u001b[38;5;241m.\u001b[39m__finalize__(data, method\u001b[38;5;241m=\u001b[39m\u001b[38;5;124m\"\u001b[39m\u001b[38;5;124mpivot_table\u001b[39m\u001b[38;5;124m\"\u001b[39m)\n\u001b[1;32m---> 97\u001b[0m table \u001b[38;5;241m=\u001b[39m __internal_pivot_table(\n\u001b[0;32m     98\u001b[0m     data,\n\u001b[0;32m     99\u001b[0m     values,\n\u001b[0;32m    100\u001b[0m     index,\n\u001b[0;32m    101\u001b[0m     columns,\n\u001b[0;32m    102\u001b[0m     aggfunc,\n\u001b[0;32m    103\u001b[0m     fill_value,\n\u001b[0;32m    104\u001b[0m     margins,\n\u001b[0;32m    105\u001b[0m     dropna,\n\u001b[0;32m    106\u001b[0m     margins_name,\n\u001b[0;32m    107\u001b[0m     observed,\n\u001b[0;32m    108\u001b[0m     sort,\n\u001b[0;32m    109\u001b[0m )\n\u001b[0;32m    110\u001b[0m \u001b[38;5;28;01mreturn\u001b[39;00m table\u001b[38;5;241m.\u001b[39m__finalize__(data, method\u001b[38;5;241m=\u001b[39m\u001b[38;5;124m\"\u001b[39m\u001b[38;5;124mpivot_table\u001b[39m\u001b[38;5;124m\"\u001b[39m)\n",
      "File \u001b[1;32m~\\anaconda3\\Lib\\site-packages\\pandas\\core\\reshape\\pivot.py:243\u001b[0m, in \u001b[0;36m__internal_pivot_table\u001b[1;34m(data, values, index, columns, aggfunc, fill_value, margins, dropna, margins_name, observed, sort)\u001b[0m\n\u001b[0;32m    241\u001b[0m     \u001b[38;5;28;01mif\u001b[39;00m dropna:\n\u001b[0;32m    242\u001b[0m         data \u001b[38;5;241m=\u001b[39m data[data\u001b[38;5;241m.\u001b[39mnotna()\u001b[38;5;241m.\u001b[39mall(axis\u001b[38;5;241m=\u001b[39m\u001b[38;5;241m1\u001b[39m)]\n\u001b[1;32m--> 243\u001b[0m     table \u001b[38;5;241m=\u001b[39m _add_margins(\n\u001b[0;32m    244\u001b[0m         table,\n\u001b[0;32m    245\u001b[0m         data,\n\u001b[0;32m    246\u001b[0m         values,\n\u001b[0;32m    247\u001b[0m         rows\u001b[38;5;241m=\u001b[39mindex,\n\u001b[0;32m    248\u001b[0m         cols\u001b[38;5;241m=\u001b[39mcolumns,\n\u001b[0;32m    249\u001b[0m         aggfunc\u001b[38;5;241m=\u001b[39maggfunc,\n\u001b[0;32m    250\u001b[0m         observed\u001b[38;5;241m=\u001b[39mdropna,\n\u001b[0;32m    251\u001b[0m         margins_name\u001b[38;5;241m=\u001b[39mmargins_name,\n\u001b[0;32m    252\u001b[0m         fill_value\u001b[38;5;241m=\u001b[39mfill_value,\n\u001b[0;32m    253\u001b[0m     )\n\u001b[0;32m    255\u001b[0m \u001b[38;5;66;03m# discard the top level\u001b[39;00m\n\u001b[0;32m    256\u001b[0m \u001b[38;5;28;01mif\u001b[39;00m values_passed \u001b[38;5;129;01mand\u001b[39;00m \u001b[38;5;129;01mnot\u001b[39;00m values_multi \u001b[38;5;129;01mand\u001b[39;00m table\u001b[38;5;241m.\u001b[39mcolumns\u001b[38;5;241m.\u001b[39mnlevels \u001b[38;5;241m>\u001b[39m \u001b[38;5;241m1\u001b[39m:\n",
      "File \u001b[1;32m~\\anaconda3\\Lib\\site-packages\\pandas\\core\\reshape\\pivot.py:307\u001b[0m, in \u001b[0;36m_add_margins\u001b[1;34m(table, data, values, rows, cols, aggfunc, observed, margins_name, fill_value)\u001b[0m\n\u001b[0;32m    304\u001b[0m     \u001b[38;5;28;01mreturn\u001b[39;00m table\u001b[38;5;241m.\u001b[39m_append(Series({key: grand_margin[margins_name]}))\n\u001b[0;32m    306\u001b[0m \u001b[38;5;28;01melif\u001b[39;00m values:\n\u001b[1;32m--> 307\u001b[0m     marginal_result_set \u001b[38;5;241m=\u001b[39m _generate_marginal_results(\n\u001b[0;32m    308\u001b[0m         table, data, values, rows, cols, aggfunc, observed, margins_name\n\u001b[0;32m    309\u001b[0m     )\n\u001b[0;32m    310\u001b[0m     \u001b[38;5;28;01mif\u001b[39;00m \u001b[38;5;129;01mnot\u001b[39;00m \u001b[38;5;28misinstance\u001b[39m(marginal_result_set, \u001b[38;5;28mtuple\u001b[39m):\n\u001b[0;32m    311\u001b[0m         \u001b[38;5;28;01mreturn\u001b[39;00m marginal_result_set\n",
      "File \u001b[1;32m~\\anaconda3\\Lib\\site-packages\\pandas\\core\\reshape\\pivot.py:413\u001b[0m, in \u001b[0;36m_generate_marginal_results\u001b[1;34m(table, data, values, rows, cols, aggfunc, observed, margins_name)\u001b[0m\n\u001b[0;32m    410\u001b[0m         table_pieces\u001b[38;5;241m.\u001b[39mappend(transformed_piece)\n\u001b[0;32m    411\u001b[0m         margin_keys\u001b[38;5;241m.\u001b[39mappend(all_key)\n\u001b[1;32m--> 413\u001b[0m result \u001b[38;5;241m=\u001b[39m concat(table_pieces, axis\u001b[38;5;241m=\u001b[39mcat_axis)\n\u001b[0;32m    415\u001b[0m \u001b[38;5;28;01mif\u001b[39;00m \u001b[38;5;28mlen\u001b[39m(rows) \u001b[38;5;241m==\u001b[39m \u001b[38;5;241m0\u001b[39m:\n\u001b[0;32m    416\u001b[0m     \u001b[38;5;28;01mreturn\u001b[39;00m result\n",
      "File \u001b[1;32m~\\anaconda3\\Lib\\site-packages\\pandas\\util\\_decorators.py:331\u001b[0m, in \u001b[0;36mdeprecate_nonkeyword_arguments.<locals>.decorate.<locals>.wrapper\u001b[1;34m(*args, **kwargs)\u001b[0m\n\u001b[0;32m    325\u001b[0m \u001b[38;5;28;01mif\u001b[39;00m \u001b[38;5;28mlen\u001b[39m(args) \u001b[38;5;241m>\u001b[39m num_allow_args:\n\u001b[0;32m    326\u001b[0m     warnings\u001b[38;5;241m.\u001b[39mwarn(\n\u001b[0;32m    327\u001b[0m         msg\u001b[38;5;241m.\u001b[39mformat(arguments\u001b[38;5;241m=\u001b[39m_format_argument_list(allow_args)),\n\u001b[0;32m    328\u001b[0m         \u001b[38;5;167;01mFutureWarning\u001b[39;00m,\n\u001b[0;32m    329\u001b[0m         stacklevel\u001b[38;5;241m=\u001b[39mfind_stack_level(),\n\u001b[0;32m    330\u001b[0m     )\n\u001b[1;32m--> 331\u001b[0m \u001b[38;5;28;01mreturn\u001b[39;00m func(\u001b[38;5;241m*\u001b[39margs, \u001b[38;5;241m*\u001b[39m\u001b[38;5;241m*\u001b[39mkwargs)\n",
      "File \u001b[1;32m~\\anaconda3\\Lib\\site-packages\\pandas\\core\\reshape\\concat.py:368\u001b[0m, in \u001b[0;36mconcat\u001b[1;34m(objs, axis, join, ignore_index, keys, levels, names, verify_integrity, sort, copy)\u001b[0m\n\u001b[0;32m    146\u001b[0m \u001b[38;5;129m@deprecate_nonkeyword_arguments\u001b[39m(version\u001b[38;5;241m=\u001b[39m\u001b[38;5;28;01mNone\u001b[39;00m, allowed_args\u001b[38;5;241m=\u001b[39m[\u001b[38;5;124m\"\u001b[39m\u001b[38;5;124mobjs\u001b[39m\u001b[38;5;124m\"\u001b[39m])\n\u001b[0;32m    147\u001b[0m \u001b[38;5;28;01mdef\u001b[39;00m \u001b[38;5;21mconcat\u001b[39m(\n\u001b[0;32m    148\u001b[0m     objs: Iterable[NDFrame] \u001b[38;5;241m|\u001b[39m Mapping[HashableT, NDFrame],\n\u001b[1;32m   (...)\u001b[0m\n\u001b[0;32m    157\u001b[0m     copy: \u001b[38;5;28mbool\u001b[39m \u001b[38;5;241m=\u001b[39m \u001b[38;5;28;01mTrue\u001b[39;00m,\n\u001b[0;32m    158\u001b[0m ) \u001b[38;5;241m-\u001b[39m\u001b[38;5;241m>\u001b[39m DataFrame \u001b[38;5;241m|\u001b[39m Series:\n\u001b[0;32m    159\u001b[0m \u001b[38;5;250m    \u001b[39m\u001b[38;5;124;03m\"\"\"\u001b[39;00m\n\u001b[0;32m    160\u001b[0m \u001b[38;5;124;03m    Concatenate pandas objects along a particular axis.\u001b[39;00m\n\u001b[0;32m    161\u001b[0m \n\u001b[1;32m   (...)\u001b[0m\n\u001b[0;32m    366\u001b[0m \u001b[38;5;124;03m    1   3   4\u001b[39;00m\n\u001b[0;32m    367\u001b[0m \u001b[38;5;124;03m    \"\"\"\u001b[39;00m\n\u001b[1;32m--> 368\u001b[0m     op \u001b[38;5;241m=\u001b[39m _Concatenator(\n\u001b[0;32m    369\u001b[0m         objs,\n\u001b[0;32m    370\u001b[0m         axis\u001b[38;5;241m=\u001b[39maxis,\n\u001b[0;32m    371\u001b[0m         ignore_index\u001b[38;5;241m=\u001b[39mignore_index,\n\u001b[0;32m    372\u001b[0m         join\u001b[38;5;241m=\u001b[39mjoin,\n\u001b[0;32m    373\u001b[0m         keys\u001b[38;5;241m=\u001b[39mkeys,\n\u001b[0;32m    374\u001b[0m         levels\u001b[38;5;241m=\u001b[39mlevels,\n\u001b[0;32m    375\u001b[0m         names\u001b[38;5;241m=\u001b[39mnames,\n\u001b[0;32m    376\u001b[0m         verify_integrity\u001b[38;5;241m=\u001b[39mverify_integrity,\n\u001b[0;32m    377\u001b[0m         copy\u001b[38;5;241m=\u001b[39mcopy,\n\u001b[0;32m    378\u001b[0m         sort\u001b[38;5;241m=\u001b[39msort,\n\u001b[0;32m    379\u001b[0m     )\n\u001b[0;32m    381\u001b[0m     \u001b[38;5;28;01mreturn\u001b[39;00m op\u001b[38;5;241m.\u001b[39mget_result()\n",
      "File \u001b[1;32m~\\anaconda3\\Lib\\site-packages\\pandas\\core\\reshape\\concat.py:425\u001b[0m, in \u001b[0;36m_Concatenator.__init__\u001b[1;34m(self, objs, axis, join, keys, levels, names, ignore_index, verify_integrity, copy, sort)\u001b[0m\n\u001b[0;32m    422\u001b[0m     objs \u001b[38;5;241m=\u001b[39m \u001b[38;5;28mlist\u001b[39m(objs)\n\u001b[0;32m    424\u001b[0m \u001b[38;5;28;01mif\u001b[39;00m \u001b[38;5;28mlen\u001b[39m(objs) \u001b[38;5;241m==\u001b[39m \u001b[38;5;241m0\u001b[39m:\n\u001b[1;32m--> 425\u001b[0m     \u001b[38;5;28;01mraise\u001b[39;00m \u001b[38;5;167;01mValueError\u001b[39;00m(\u001b[38;5;124m\"\u001b[39m\u001b[38;5;124mNo objects to concatenate\u001b[39m\u001b[38;5;124m\"\u001b[39m)\n\u001b[0;32m    427\u001b[0m \u001b[38;5;28;01mif\u001b[39;00m keys \u001b[38;5;129;01mis\u001b[39;00m \u001b[38;5;28;01mNone\u001b[39;00m:\n\u001b[0;32m    428\u001b[0m     objs \u001b[38;5;241m=\u001b[39m \u001b[38;5;28mlist\u001b[39m(com\u001b[38;5;241m.\u001b[39mnot_none(\u001b[38;5;241m*\u001b[39mobjs))\n",
      "\u001b[1;31mValueError\u001b[0m: No objects to concatenate"
     ]
    }
   ],
   "source": [
    "zone_arrear_cat_vc =df[(df.gov_flag == False) &(df.bilable_flag == True) ].pivot_table(index=['Circle_Name','Division_Name'], columns=['ARREAR_FILTER'], values=['ACCT_ID','CURRENT_ASSESSMENT','TOTAL_OUTSTANDING','TOTAL_PAY_AMT','paid_status','Neverpaid_status'],\n",
    "                    aggfunc={'ACCT_ID':'count','TOTAL_OUTSTANDING':np.sum,'CURRENT_ASSESSMENT':np.sum,\n",
    "                            'TOTAL_PAY_AMT':np.sum,'paid_status':np.sum,'Neverpaid_status':np.sum},fill_value=0,margins=True,margins_name='Total' )"
   ]
  },
  {
   "cell_type": "code",
   "execution_count": 119,
   "id": "775e78b0-176b-4a36-a4a9-e871e2a1df7a",
   "metadata": {
    "tags": []
   },
   "outputs": [],
   "source": [
    "zone_cat_cat =df[(df.gov_flag == False) &(df.bilable_flag == True) ].pivot_table(index=['Circle_Name','Division_Name'], columns=['Cat_vc'], values=['ACCT_ID','CURRENT_ASSESSMENT','TOTAL_OUTSTANDING','TOTAL_PAY_AMT','paid_status','Neverpaid_status'],\n",
    "                    aggfunc={'ACCT_ID':'count','TOTAL_OUTSTANDING':np.sum,'CURRENT_ASSESSMENT':np.sum,\n",
    "                            'TOTAL_PAY_AMT':np.sum,'paid_status':np.sum,'Neverpaid_status':np.sum},fill_value=0,margins=True,margins_name='Total' )"
   ]
  },
  {
   "cell_type": "code",
   "execution_count": 147,
   "id": "908de7ec-6419-4ba7-80c2-4b342c4c50a5",
   "metadata": {
    "tags": []
   },
   "outputs": [],
   "source": [
    "feeder = [\"RANI BAZAR_35521114103RIR\",\"TOWN III_35521110170TO3\",\"TARAB GANJ TOWN_35523420638TTW\",\"TAHSEEL_35523310390THL\",\"DHANEPUR TOWN_35523110163DTW\",\"DHARAMPUR_35513110252DRP\",\"LIFT CANAL_35513110176LCL\",\"EAST_35513110180EAT\",\"SADULLA NAGAR_35513130186SLR\",\"IPDS 1_35513131017IP1\",\"SEMRI DEHAT_35492210434SDT\",\"SIRSIYA_35492210434SRA\",\"PACHDEVARI_35492220437PHI\",\"JAMUNHA_35492210436JUA\",\"TIWARI GAON_35492210436TRN\",\"RURAL_35492110453RUL\",\"RAHVA_35491110455RAA\",\"NEJABHAAR_35492220555NAR\",\"MAHARAJGANJ_35492220556MRJ\",\"JAITAPUR_35492150460JAT\"]\n",
    "feeder_report =df[(df.bilable_flag == True) & (df['FEEDER'].isin(feeder))].pivot_table(index=['Circle_Name','Division_Name','FEEDER'], values=['ACCT_ID','LOAD','CONSUMPTION_CURR_MNTH','CURRENT_ASSESSMENT','TOTAL_PAY_AMT','paid_status','TOTAL_OUTSTANDING'],\n",
    "                    aggfunc={'ACCT_ID':'count','TOTAL_OUTSTANDING':np.sum,'CURRENT_ASSESSMENT':np.sum,'LOAD':np.sum,'CONSUMPTION_CURR_MNTH':np.sum,\n",
    "                            'TOTAL_PAY_AMT':np.sum,'paid_status':np.sum},fill_value=0,margins=True)"
   ]
  },
  {
   "cell_type": "code",
   "execution_count": 148,
   "id": "b265219b-0a50-44f9-92e2-109277eb58d2",
   "metadata": {},
   "outputs": [],
   "source": [
    "# feeder = [\"RANI BAZAR_35521114103RIR\",\"TOWN III_35521110170TO3\",\"TARAB GANJ TOWN_35523420638TTW \",\"TAHSEEL_35523310390THL\",\"DHANEPUR TOWN_35523110163DTW\",\"DHARAMPUR_35513110252DRP\",\"LIFT CANAL_35513110176LCL\",\"EAST_35513110180EAT\",\"SADULLA NAGAR_35513130186SLR\",\"IPDS 1_35513131017IP1\",\"SEMRI DEHAT_35492210434SDT\",\"SIRSIYA_35492210434SRA\",\"PACHDEVARI_35492220437PHI\",\"JAMUNHA_35492210436JUA\",\"TIWARI GAON_35492210436TRN\",\"RURAL_35492110453RUL\",\"RAHVA_35491110455RAA\",\"NEJABHAAR_35492220555NAR\",\"MAHARAJGANJ_35492220556MRJ\",\"JAITAPUR_35492150460JAT\"]\n",
    "feeder_report_load =df[(df.bilable_flag == True) & (df['FEEDER'].isin(feeder))].pivot_table(index=['Circle_Name','Division_Name','SUBSTATION','FEEDER'],columns = ['Cat','conection_month'], values=['ACCT_ID','LOAD'],\n",
    "                    aggfunc={'ACCT_ID':'count','LOAD':np.sum},fill_value=0,margins=True)"
   ]
  },
  {
   "cell_type": "code",
   "execution_count": 149,
   "id": "aef58796-0765-4052-809b-64ef9674b85d",
   "metadata": {},
   "outputs": [],
   "source": [
    "# feeder = [\"RANI BAZAR_35521114103RIR\",\"TOWN III_35521110170TO3\",\"TARAB GANJ TOWN_35523420638TTW \",\"TAHSEEL_35523310390THL\",\"DHANEPUR TOWN_35523110163DTW\",\"DHARAMPUR_35513110252DRP\",\"LIFT CANAL_35513110176LCL\",\"EAST_35513110180EAT\",\"SADULLA NAGAR_35513130186SLR\",\"IPDS 1_35513131017IP1\",\"SEMRI DEHAT_35492210434SDT\",\"SIRSIYA_35492210434SRA\",\"PACHDEVARI_35492220437PHI\",\"JAMUNHA_35492210436JUA\",\"TIWARI GAON_35492210436TRN\",\"RURAL_35492110453RUL\",\"RAHVA_35491110455RAA\",\"NEJABHAAR_35492220555NAR\",\"MAHARAJGANJ_35492220556MRJ\",\"JAITAPUR_35492150460JAT\"]\n",
    "feeder_report_idfrdf =df[(df.bilable_flag == True) & (df['FEEDER'].isin(feeder)) & ((df.METER_READ_REMARK== 'RDF') | (df.METER_READ_REMARK== 'IDF'))].pivot_table(index=['Circle_Name','Division_Name','SUBSTATION','FEEDER'],columns = ['METER_READ_REMARK'], values=['ACCT_ID'],\n",
    "                    aggfunc={'ACCT_ID':'count'},fill_value=0,margins=True)"
   ]
  },
  {
   "cell_type": "code",
   "execution_count": 152,
   "id": "480849fd-a6d9-4117-a4dc-c4e169493ead",
   "metadata": {},
   "outputs": [],
   "source": [
    "feeder_report_idfrdf.to_excel(f\"nov2023/{circle}/report/{circle}_feeder_idfrdf_nov.xlsx\")"
   ]
  },
  {
   "cell_type": "code",
   "execution_count": 153,
   "id": "19668ad5-417a-4d98-af14-9925104b1243",
   "metadata": {},
   "outputs": [],
   "source": [
    "feeder_report_load.to_excel(f\"nov2023/{circle}/report/{circle}_feeder_load_nov.xlsx\")"
   ]
  },
  {
   "cell_type": "code",
   "execution_count": 120,
   "id": "c832c396-ab8f-43fe-bf85-b287db672dac",
   "metadata": {
    "tags": []
   },
   "outputs": [],
   "source": [
    "graphvc.to_excel(f\"{month}/{circle}/report/{circle}_graph_dec_new.xlsx\")"
   ]
  },
  {
   "cell_type": "code",
   "execution_count": 127,
   "id": "4a8f4a7e",
   "metadata": {},
   "outputs": [],
   "source": [
    "Catvc.to_excel(f\"{month}/{circle}/report/{circle}_Cat_VC_dec_new.xlsx\")"
   ]
  },
  {
   "cell_type": "code",
   "execution_count": 133,
   "id": "b89592b1",
   "metadata": {},
   "outputs": [],
   "source": [
    "div_cat.to_excel(f\"{month}/{circle}/report/{circle}_div_cat_dec_new.xlsx\")"
   ]
  },
  {
   "cell_type": "code",
   "execution_count": 128,
   "id": "e8827496",
   "metadata": {},
   "outputs": [],
   "source": [
    "div.to_excel(f\"{month}/{circle}/report/{circle}_Cat_VC_dec_new.xlsx\")"
   ]
  },
  {
   "cell_type": "code",
   "execution_count": 117,
   "id": "d57fc80f-5f88-499d-a6b5-3221f0e5f3b3",
   "metadata": {
    "tags": []
   },
   "outputs": [],
   "source": [
    "meter_read_remark.to_excel(f\"{month}/{circle}/report/{circle}_read_remark_nov.xlsx\")"
   ]
  },
  {
   "cell_type": "code",
   "execution_count": 118,
   "id": "c341a25d-32a6-496a-9e1a-20f5a0de4096",
   "metadata": {
    "tags": []
   },
   "outputs": [],
   "source": [
    "BILL_BASIS.to_excel(f\"{month}/{circle}/report/{circle}_BILL_BASIS_nov.xlsx\")"
   ]
  },
  {
   "cell_type": "code",
   "execution_count": 134,
   "id": "8e98ac26-8c4f-4a9d-baa2-57b578fc75fa",
   "metadata": {
    "tags": []
   },
   "outputs": [],
   "source": [
    "Sbm.to_excel(f\"{month}/{circle}/report/{circle}_sbm_nov.xlsx\")"
   ]
  },
  {
   "cell_type": "code",
   "execution_count": 43,
   "id": "1282404d-03ec-4590-8081-18b38a997e88",
   "metadata": {
    "tags": []
   },
   "outputs": [],
   "source": [
    "rdf_sdo.to_excel(f\"{month}/{circle}/report/{circle}_nov_rdf_sdo.xlsx\")"
   ]
  },
  {
   "cell_type": "code",
   "execution_count": 125,
   "id": "65983e7c-7436-4fcb-85be-bfa7d32cbee7",
   "metadata": {
    "tags": []
   },
   "outputs": [
    {
     "ename": "NameError",
     "evalue": "name 'div_cat_connection' is not defined",
     "output_type": "error",
     "traceback": [
      "\u001b[1;31m---------------------------------------------------------------------------\u001b[0m",
      "\u001b[1;31mNameError\u001b[0m                                 Traceback (most recent call last)",
      "Cell \u001b[1;32mIn[125], line 1\u001b[0m\n\u001b[1;32m----> 1\u001b[0m div_cat_connection\u001b[38;5;241m.\u001b[39mto_excel(\u001b[38;5;124mf\u001b[39m\u001b[38;5;124m\"\u001b[39m\u001b[38;5;132;01m{\u001b[39;00mmonth\u001b[38;5;132;01m}\u001b[39;00m\u001b[38;5;124m/\u001b[39m\u001b[38;5;132;01m{\u001b[39;00mcircle\u001b[38;5;132;01m}\u001b[39;00m\u001b[38;5;124m/report/\u001b[39m\u001b[38;5;132;01m{\u001b[39;00mcircle\u001b[38;5;132;01m}\u001b[39;00m\u001b[38;5;124m_nov_cat_conn.xlsx\u001b[39m\u001b[38;5;124m\"\u001b[39m)\n",
      "\u001b[1;31mNameError\u001b[0m: name 'div_cat_connection' is not defined"
     ]
    }
   ],
   "source": [
    "div_cat_connection.to_excel(f\"{month}/{circle}/report/{circle}_nov_cat_conn.xlsx\")"
   ]
  },
  {
   "cell_type": "code",
   "execution_count": null,
   "id": "b5480d4f-d924-4d07-a4e2-b95c46229b74",
   "metadata": {},
   "outputs": [],
   "source": []
  },
  {
   "cell_type": "code",
   "execution_count": 121,
   "id": "9e6442fe-9e4e-43be-a572-1f60946d582d",
   "metadata": {
    "tags": []
   },
   "outputs": [
    {
     "ename": "NameError",
     "evalue": "name 'zone_arrear_cat_vc' is not defined",
     "output_type": "error",
     "traceback": [
      "\u001b[1;31m---------------------------------------------------------------------------\u001b[0m",
      "\u001b[1;31mNameError\u001b[0m                                 Traceback (most recent call last)",
      "Cell \u001b[1;32mIn[121], line 1\u001b[0m\n\u001b[1;32m----> 1\u001b[0m zone_arrear_cat_vc\u001b[38;5;241m.\u001b[39mto_excel(\u001b[38;5;124mf\u001b[39m\u001b[38;5;124m\"\u001b[39m\u001b[38;5;132;01m{\u001b[39;00mmonth\u001b[38;5;132;01m}\u001b[39;00m\u001b[38;5;124m/\u001b[39m\u001b[38;5;132;01m{\u001b[39;00mcircle\u001b[38;5;132;01m}\u001b[39;00m\u001b[38;5;124m/report/\u001b[39m\u001b[38;5;132;01m{\u001b[39;00mcircle\u001b[38;5;132;01m}\u001b[39;00m\u001b[38;5;124m_arrear_cat_dec.xlsx\u001b[39m\u001b[38;5;124m\"\u001b[39m)\n",
      "\u001b[1;31mNameError\u001b[0m: name 'zone_arrear_cat_vc' is not defined"
     ]
    }
   ],
   "source": [
    "zone_arrear_cat_vc.to_excel(f\"{month}/{circle}/report/{circle}_arrear_cat_dec.xlsx\")"
   ]
  },
  {
   "cell_type": "code",
   "execution_count": 122,
   "id": "10469631-6990-401f-873a-a8a261cc413e",
   "metadata": {
    "tags": []
   },
   "outputs": [],
   "source": [
    "zone_cat_cat.to_excel(f\"{month}/{circle}/report/{circle}_arrear_catVC_dec.xlsx\")"
   ]
  },
  {
   "cell_type": "code",
   "execution_count": 75,
   "id": "d097e947-1c6c-4c61-8c44-3244568c64b2",
   "metadata": {
    "tags": []
   },
   "outputs": [],
   "source": [
    "ots_1.to_excel(f\"{month}/{circle}/report/{circle}_cat_nov_ots_1.xlsx\")"
   ]
  },
  {
   "cell_type": "code",
   "execution_count": 76,
   "id": "df942c82-7caf-4750-b7e0-0156666ae32a",
   "metadata": {
    "tags": []
   },
   "outputs": [],
   "source": [
    "ots_500.to_excel(f\"{month}/{circle}/report/{circle}_cat_nov_ots_500.xlsx\")"
   ]
  },
  {
   "cell_type": "code",
   "execution_count": 77,
   "id": "202125cf-2f52-43a6-94ec-cdbebca7c0fa",
   "metadata": {
    "tags": []
   },
   "outputs": [
    {
     "ename": "NameError",
     "evalue": "name 'div_csc_other' is not defined",
     "output_type": "error",
     "traceback": [
      "\u001b[1;31m---------------------------------------------------------------------------\u001b[0m",
      "\u001b[1;31mNameError\u001b[0m                                 Traceback (most recent call last)",
      "Cell \u001b[1;32mIn[77], line 1\u001b[0m\n\u001b[1;32m----> 1\u001b[0m div_csc_other\u001b[38;5;241m.\u001b[39mto_excel(\u001b[38;5;124mf\u001b[39m\u001b[38;5;124m\"\u001b[39m\u001b[38;5;132;01m{\u001b[39;00mmonth\u001b[38;5;132;01m}\u001b[39;00m\u001b[38;5;124m/\u001b[39m\u001b[38;5;132;01m{\u001b[39;00mcircle\u001b[38;5;132;01m}\u001b[39;00m\u001b[38;5;124m/report/\u001b[39m\u001b[38;5;132;01m{\u001b[39;00mcircle\u001b[38;5;132;01m}\u001b[39;00m\u001b[38;5;124m_CSC_nov_other.xlsx\u001b[39m\u001b[38;5;124m\"\u001b[39m)\n",
      "\u001b[1;31mNameError\u001b[0m: name 'div_csc_other' is not defined"
     ]
    }
   ],
   "source": [
    "div_csc_other.to_excel(f\"{month}/{circle}/report/{circle}_CSC_nov_other.xlsx\")"
   ]
  },
  {
   "cell_type": "code",
   "execution_count": 123,
   "id": "2eaa742e-ea95-47aa-9a16-24ec8568ab32",
   "metadata": {
    "tags": []
   },
   "outputs": [
    {
     "ename": "NameError",
     "evalue": "name 'arrear_paid' is not defined",
     "output_type": "error",
     "traceback": [
      "\u001b[1;31m---------------------------------------------------------------------------\u001b[0m",
      "\u001b[1;31mNameError\u001b[0m                                 Traceback (most recent call last)",
      "Cell \u001b[1;32mIn[123], line 1\u001b[0m\n\u001b[1;32m----> 1\u001b[0m arrear_paid\u001b[38;5;241m.\u001b[39mto_excel(\u001b[38;5;124mf\u001b[39m\u001b[38;5;124m\"\u001b[39m\u001b[38;5;132;01m{\u001b[39;00mmonth\u001b[38;5;132;01m}\u001b[39;00m\u001b[38;5;124m/\u001b[39m\u001b[38;5;132;01m{\u001b[39;00mcircle\u001b[38;5;132;01m}\u001b[39;00m\u001b[38;5;124m/report/\u001b[39m\u001b[38;5;132;01m{\u001b[39;00mcircle\u001b[38;5;132;01m}\u001b[39;00m\u001b[38;5;124m_arrear_paid_dec.xlsx\u001b[39m\u001b[38;5;124m\"\u001b[39m)\n",
      "\u001b[1;31mNameError\u001b[0m: name 'arrear_paid' is not defined"
     ]
    }
   ],
   "source": [
    "arrear_paid.to_excel(f\"{month}/{circle}/report/{circle}_arrear_paid_dec.xlsx\")"
   ]
  },
  {
   "cell_type": "code",
   "execution_count": 79,
   "id": "a3d47756-b3a1-4fee-8e78-82356ef1df92",
   "metadata": {
    "tags": []
   },
   "outputs": [],
   "source": [
    "feeder_report.to_excel(f\"{month}/{circle}/report/{circle}_feeder_nov.xlsx\")"
   ]
  },
  {
   "cell_type": "code",
   "execution_count": 124,
   "id": "5b3d7fd2-2796-4029-a5d6-4c2e87920695",
   "metadata": {
    "tags": []
   },
   "outputs": [
    {
     "ename": "NameError",
     "evalue": "name 'zone_graph' is not defined",
     "output_type": "error",
     "traceback": [
      "\u001b[1;31m---------------------------------------------------------------------------\u001b[0m",
      "\u001b[1;31mNameError\u001b[0m                                 Traceback (most recent call last)",
      "Cell \u001b[1;32mIn[124], line 1\u001b[0m\n\u001b[1;32m----> 1\u001b[0m zone_graph\u001b[38;5;241m.\u001b[39mto_excel(\u001b[38;5;124mf\u001b[39m\u001b[38;5;124m\"\u001b[39m\u001b[38;5;132;01m{\u001b[39;00mmonth\u001b[38;5;132;01m}\u001b[39;00m\u001b[38;5;124m/\u001b[39m\u001b[38;5;132;01m{\u001b[39;00mcircle\u001b[38;5;132;01m}\u001b[39;00m\u001b[38;5;124m/report/\u001b[39m\u001b[38;5;132;01m{\u001b[39;00mcircle\u001b[38;5;132;01m}\u001b[39;00m\u001b[38;5;124m_graph_dec.xlsx\u001b[39m\u001b[38;5;124m\"\u001b[39m)\n",
      "\u001b[1;31mNameError\u001b[0m: name 'zone_graph' is not defined"
     ]
    }
   ],
   "source": [
    "zone_graph.to_excel(f\"{month}/{circle}/report/{circle}_graph_dec.xlsx\")"
   ]
  },
  {
   "cell_type": "code",
   "execution_count": 44,
   "id": "54881d24-6582-4df1-8951-ae2bcb9c04c7",
   "metadata": {
    "tags": []
   },
   "outputs": [
    {
     "data": {
      "text/plain": [
       "(9878, 55)"
      ]
     },
     "execution_count": 44,
     "metadata": {},
     "output_type": "execute_result"
    }
   ],
   "source": [
    "df1.shape"
   ]
  },
  {
   "cell_type": "code",
   "execution_count": 43,
   "id": "08cdf3ab-661d-4ac2-9eea-e178bfa62eaa",
   "metadata": {
    "tags": []
   },
   "outputs": [],
   "source": [
    "df1.to_excel(f\"{month}/{circle}_oct_10kw.xlsx\")"
   ]
  },
  {
   "cell_type": "code",
   "execution_count": 81,
   "id": "c6b8ce88-b516-46c2-b55d-bcdfa2a0d73c",
   "metadata": {
    "tags": []
   },
   "outputs": [],
   "source": [
    "div_cat.to_excel(f\"{month}/{circle}/report/{circle}_divCAT_nov.xlsx\")"
   ]
  },
  {
   "cell_type": "code",
   "execution_count": null,
   "id": "b444423f-ed59-4f2a-aa63-80516a1fbfe1",
   "metadata": {},
   "outputs": [],
   "source": [
    "import ftplib\n",
    "\n",
    "path = 'ftp://mvftpreport@ftp.uppclonline.com/CSV_MASTER/25092023/MASTER_MVVNL_DIV354921_25092023.csv.gz'\n",
    "filename = 'MASTER_MVVNL_DIV354921_25092023.csv.gz'  \n",
    "# ftp://mvftpreport@ftp.uppclonline.com/CSV_MASTER/25092023/MASTER_MVVNL_DIV354921_25092023.csv.gz\n",
    "\n",
    "ftp = ftplib.FTP(\"Server IP\") \n",
    "ftp.login(\"UserName\", \"Password\") \n",
    "ftp.cwd(path)\n",
    "ftp.retrbinary(\"RETR \" + filename, open(filename, 'wb').write)\n",
    "ftp.quit()"
   ]
  },
  {
   "cell_type": "code",
   "execution_count": 1,
   "id": "fc357107-fad0-433d-a560-cee79bed4f4c",
   "metadata": {},
   "outputs": [
    {
     "ename": "ModuleNotFoundError",
     "evalue": "No module named 'wget'",
     "output_type": "error",
     "traceback": [
      "\u001b[1;31m---------------------------------------------------------------------------\u001b[0m",
      "\u001b[1;31mModuleNotFoundError\u001b[0m                       Traceback (most recent call last)",
      "Cell \u001b[1;32mIn[1], line 1\u001b[0m\n\u001b[1;32m----> 1\u001b[0m \u001b[38;5;28;01mimport\u001b[39;00m \u001b[38;5;21;01mwget\u001b[39;00m\n\u001b[0;32m      2\u001b[0m link \u001b[38;5;241m=\u001b[39m \u001b[38;5;124m'\u001b[39m\u001b[38;5;124mftp://mvftpreport@ftp.uppclonline.com/CSV_BILLED/25092023/BILLED_MVVNL_DIV354921_25092023.csv.gz\u001b[39m\u001b[38;5;124m'\u001b[39m\n\u001b[0;32m      3\u001b[0m wget\u001b[38;5;241m.\u001b[39mdownload(link)\n",
      "\u001b[1;31mModuleNotFoundError\u001b[0m: No module named 'wget'"
     ]
    }
   ],
   "source": [
    "import wget\n",
    "link = 'ftp://mvftpreport@ftp.uppclonline.com/CSV_MASTER/25092023/MASTER_MVVNL_DIV354921_25092023.csv.gz'\n",
    "wget.download(link)"
   ]
  },
  {
   "cell_type": "code",
   "execution_count": null,
   "id": "922f16d8-bc13-4868-b516-452e75eab397",
   "metadata": {},
   "outputs": [],
   "source": []
  }
 ],
 "metadata": {
  "kernelspec": {
   "display_name": "Python 3 (ipykernel)",
   "language": "python",
   "name": "python3"
  },
  "language_info": {
   "codemirror_mode": {
    "name": "ipython",
    "version": 3
   },
   "file_extension": ".py",
   "mimetype": "text/x-python",
   "name": "python",
   "nbconvert_exporter": "python",
   "pygments_lexer": "ipython3",
   "version": "3.11.4"
  }
 },
 "nbformat": 4,
 "nbformat_minor": 5
}
