{
 "cells": [
  {
   "cell_type": "code",
   "execution_count": 1,
   "id": "bae48474-1571-49e1-a8a6-6c51af1d046b",
   "metadata": {
    "tags": []
   },
   "outputs": [],
   "source": [
    "import pandas as pd\n",
    "import numpy as np\n",
    "from joblib import Parallel, delayed\n",
    "from datetime import datetime\n",
    "import math\n",
    "import time\n",
    "\n",
    "\n",
    "def process_data(data: pd.DataFrame, threshold: float) -> pd.DataFrame:\n",
    "    \"\"\"\n",
    "    Process the input data by applying a threshold to a specific column.\n",
    "\n",
    "    Parameters:\n",
    "    - data (pd.DataFrame): Input data.\n",
    "    - threshold (float): Threshold value for the column.\n",
    "\n",
    "    Returns:\n",
    "    - pd.DataFrame: Processed data.\n",
    "    \"\"\"\n",
    "    # Extracting the relevant column\n",
    "    column_to_process = data['target_column']\n",
    "\n",
    "    # Applying the threshold\n",
    "    processed_column = apply_threshold(column_to_process, threshold)\n",
    "\n",
    "    # Updating the original dataframe with the processed column\n",
    "    data['processed_column'] = processed_column\n",
    "\n",
    "    return data\n",
    "\n",
    "\n",
    "def apply_threshold(column: pd.Series, threshold: float) -> pd.Series:\n",
    "    \"\"\"\n",
    "    Apply a threshold to the values in a column.\n",
    "\n",
    "    Parameters:\n",
    "    - column (pd.Series): Input column.\n",
    "    - threshold (float): Threshold value for the column.\n",
    "\n",
    "    Returns:\n",
    "    - pd.Series: Column with threshold applied.\n",
    "    \"\"\"\n",
    "    # Using numpy to efficiently apply the threshold\n",
    "    processed_values = np.where(column > threshold, column, 0)\n",
    "\n",
    "    return pd.Series(processed_values)\n",
    "\n",
    "\n",
    "class DataProcessor:\n",
    "    \"\"\"\n",
    "    Class for processing data with a specified threshold.\n",
    "\n",
    "    Attributes:\n",
    "    - threshold (float): Threshold value for processing.\n",
    "    \"\"\"\n",
    "\n",
    "    def __init__(self, threshold: float):\n",
    "        self.threshold = threshold\n",
    "\n",
    "    def process_data(self, data: pd.DataFrame) -> pd.DataFrame:\n",
    "        \"\"\"\n",
    "        Process the input data by applying the specified threshold.\n",
    "\n",
    "        Parameters:\n",
    "        - data (pd.DataFrame): Input data.\n",
    "\n",
    "        Returns:\n",
    "        - pd.DataFrame: Processed data.\n",
    "        \"\"\"\n",
    "        return process_data(data, self.threshold)\n"
   ]
  },
  {
   "cell_type": "code",
   "execution_count": 21,
   "id": "67a9a018-3ae3-410a-8f3d-50dcad7161a4",
   "metadata": {
    "tags": []
   },
   "outputs": [],
   "source": [
    "# Focal Cell\n",
    "\n",
    "# Parameters\n",
    "# %env PROVIDER_API_KEY=YOUR_API_KEY_HERE\n",
    "circle = \"zone\"\n",
    "month = \"dec2023\"\n",
    "month_doc = 9\n",
    "month_unpaid = 12\n",
    "\n",
    "# Date information\n",
    "date = 'DEC_2023'\n",
    "\n",
    "# FTP Configuration\n",
    "ftpHost = 'ftp.uppclonline.com'\n",
    "ftpUname = 'mvftpreport'\n",
    "ftpPass = 'Mvftp@321'\n",
    "\n",
    "# File Paths\n",
    "localFolderPath = f\".\\{month}\\{circle}\\master\"\n",
    "remoteFolder = \"MASTER_DATA/DEC_2023\""
   ]
  },
  {
   "cell_type": "code",
   "execution_count": 31,
   "id": "f901516d-448c-43e5-9197-4d06fbb8147e",
   "metadata": {
    "tags": []
   },
   "outputs": [],
   "source": [
    "import pandas as pd\n",
    "\n",
    "def set_display_options():\n",
    "    \"\"\"\n",
    "    Set display options for Pandas to show a maximum of 10000 rows.\n",
    "    \"\"\"\n",
    "    pd.options.display.max_rows = 10000\n",
    "\n",
    "# Call the function to set display options\n",
    "set_display_options()\n",
    "\n"
   ]
  },
  {
   "cell_type": "code",
   "execution_count": 32,
   "id": "bbef3223-f025-4cb6-bc92-468c09c1e9dc",
   "metadata": {
    "tags": []
   },
   "outputs": [
    {
     "name": "stdout",
     "output_type": "stream",
     "text": [
      "downloading file MASTER_MVVNL_DIV354921_DEC_2023.csv.gz\n",
      "downloading file MASTER_MVVNL_DIV354922_DEC_2023.csv.gz\n",
      "downloading file MASTER_MVVNL_DIV354923_DEC_2023.csv.gz\n",
      "downloading file MASTER_MVVNL_DIV355131_DEC_2023.csv.gz\n",
      "downloading file MASTER_MVVNL_DIV355132_DEC_2023.csv.gz\n",
      "downloading file MASTER_MVVNL_DIV355133_DEC_2023.csv.gz\n",
      "downloading file MASTER_MVVNL_DIV355211_DEC_2023.csv.gz\n",
      "downloading file MASTER_MVVNL_DIV355212_DEC_2023.csv.gz\n",
      "downloading file MASTER_MVVNL_DIV355213_DEC_2023.csv.gz\n",
      "downloading file MASTER_MVVNL_DIV355214_DEC_2023.csv.gz\n",
      "download status = True\n"
     ]
    }
   ],
   "source": [
    "import ftplib\n",
    "import os\n",
    "import gzip\n",
    "import shutil\n",
    "import time\n",
    "\n",
    "\n",
    "\n",
    "def downloadFilesFromFtp(localfolderPath, targetFilenames, ftpHost, ftpUname, ftpPass, remoteWorkingDirectory):\n",
    "    # initialize the flag that specifies if download is success\n",
    "    isDownloadSuccess: bool = False\n",
    "\n",
    "    # create an FTP client instance, use the timeout parameter for slow connections only\n",
    "    ftp = ftplib.FTP(timeout=30)\n",
    "    ftp.encoding = \"utf-8\"\n",
    "\n",
    "    # connect to the FTP server\n",
    "    ftp.connect(ftpHost)\n",
    "\n",
    "    # login to the FTP server\n",
    "    ftp.login(ftpUname, ftpPass)\n",
    "\n",
    "    # change current working directory if specified\n",
    "    if not (remoteWorkingDirectory == None or remoteWorkingDirectory.strip() == \"\"):\n",
    "        _ = ftp.cwd(remoteWorkingDirectory)\n",
    "\n",
    "    # iterate through each remote filename and download\n",
    "    for fItr in range(len(targetFilenames)):\n",
    "        targetFilename = targetFilenames[fItr]\n",
    "        # derive the local file path by appending the local folder path with remote filename\n",
    "        localFilePath = os.path.join(localfolderPath, targetFilename)\n",
    "     \n",
    "        print(\"downloading file {0}\".format(targetFilename))\n",
    "        # download FTP file using retrbinary function\n",
    "        with open(localFilePath, \"wb\") as file:\n",
    "            retCode = ftp.retrbinary(\"RETR \" + targetFilename, file.write)\n",
    "         \n",
    "        with gzip.open(localFilePath, 'rb') as f_in:\n",
    "            with open(localFilePath[:-3], 'wb') as f_out:\n",
    "                shutil.copyfileobj(f_in, f_out)\n",
    "        os.remove(localFilePath)\n",
    "    # read file\n",
    "            \n",
    "    # send QUIT command to the FTP server and close the connection\n",
    "    ftp.quit()\n",
    "\n",
    "    # check if download is success using the return code (retCode)\n",
    "    if retCode.startswith('226'):\n",
    "        isDownloadSuccess = True\n",
    "    return isDownloadSuccess\n",
    "\n",
    "\n",
    "\n",
    "remoteFilenames = [ f'MASTER_MVVNL_DIV354921_{date}.csv.gz', f'MASTER_MVVNL_DIV354922_{date}.csv.gz', f'MASTER_MVVNL_DIV354923_{date}.csv.gz', f'MASTER_MVVNL_DIV355131_{date}.csv.gz', f'MASTER_MVVNL_DIV355132_{date}.csv.gz', f'MASTER_MVVNL_DIV355133_{date}.csv.gz', f'MASTER_MVVNL_DIV355211_{date}.csv.gz', f'MASTER_MVVNL_DIV355212_{date}.csv.gz', f'MASTER_MVVNL_DIV355213_{date}.csv.gz', f'MASTER_MVVNL_DIV355214_{date}.csv.gz']\n",
    "\n",
    "# run the function to download the files from FTP server\n",
    "isDownloadSuccess = downloadFilesFromFtp(\n",
    "    localFolderPath,remoteFilenames, ftpHost,ftpUname, ftpPass, remoteFolder)\n",
    "\n",
    "print(\"download status = {0}\".format(isDownloadSuccess))"
   ]
  },
  {
   "cell_type": "code",
   "execution_count": 33,
   "id": "d0f9711e-93e7-4bdd-8e1d-ff75bd27bae4",
   "metadata": {
    "tags": []
   },
   "outputs": [],
   "source": [
    "def loop(file_name):\n",
    "    return pd.read_csv(f\"{month}/{circle}/master/{file_name}\",on_bad_lines='skip')"
   ]
  },
  {
   "cell_type": "code",
   "execution_count": 70,
   "id": "13392212-1f47-4d1c-ae62-993b4ee62aaf",
   "metadata": {
    "tags": []
   },
   "outputs": [],
   "source": [
    "import os\n",
    "\n",
    "mylist = os.listdir(f\"{month}/{circle}/master\")"
   ]
  },
  {
   "cell_type": "code",
   "execution_count": null,
   "id": "0cddcd52-41e2-4cfd-8dff-8cb9eb2f6076",
   "metadata": {
    "tags": []
   },
   "outputs": [],
   "source": []
  },
  {
   "cell_type": "code",
   "execution_count": 71,
   "id": "281a7e02-4ed9-4b4b-bb86-daaa4c6da367",
   "metadata": {
    "tags": []
   },
   "outputs": [],
   "source": [
    "def bifurcation(column_name,area):\n",
    "    #area = [Circle,Division]\n",
    "# column_name = 'Country'\n",
    "# replace_symbols = ['>', '<', ':', '\"', '/', '\\\\\\\\', '\\|', '\\?', '\\*']\n",
    "# df[column_name] = (\n",
    "#     df[column_name].replace(replace_symbols, '', regex=True).str.strip().str.title()\n",
    "# )\n",
    "\n",
    "    os.mkdir(f'{month}/{circle}/master_{area}') \n",
    "    unique_values = df[column_name].unique()\n",
    "    print(unique_values)\n",
    "    for unique_value in unique_values:\n",
    "        start = time.time()\n",
    "        print(unique_value)\n",
    "        df_output = df[df[column_name].str.contains(unique_value)]\n",
    "        output_path = os.path.join(f'{month}/{circle}/master_{area}', str(unique_value) + '.csv')\n",
    "        df_output.to_csv(output_path, index=False)\n",
    "        end = time.time()\n",
    "        print(\"CSV:\", end - start)"
   ]
  },
  {
   "cell_type": "code",
   "execution_count": 72,
   "id": "2b0f9aa6-b9ef-47cd-9bb3-40fc8096c6d9",
   "metadata": {
    "tags": []
   },
   "outputs": [
    {
     "data": {
      "text/plain": [
       "['MASTER_MVVNL_DIV354921_DEC_2023.csv',\n",
       " 'MASTER_MVVNL_DIV354922_DEC_2023.csv',\n",
       " 'MASTER_MVVNL_DIV354923_DEC_2023.csv',\n",
       " 'MASTER_MVVNL_DIV355131_DEC_2023.csv',\n",
       " 'MASTER_MVVNL_DIV355132_DEC_2023.csv',\n",
       " 'MASTER_MVVNL_DIV355133_DEC_2023.csv',\n",
       " 'MASTER_MVVNL_DIV355211_DEC_2023.csv',\n",
       " 'MASTER_MVVNL_DIV355212_DEC_2023.csv',\n",
       " 'MASTER_MVVNL_DIV355213_DEC_2023.csv',\n",
       " 'MASTER_MVVNL_DIV355214_DEC_2023.csv']"
      ]
     },
     "execution_count": 72,
     "metadata": {},
     "output_type": "execute_result"
    }
   ],
   "source": [
    "mylist"
   ]
  },
  {
   "cell_type": "code",
   "execution_count": 73,
   "id": "99f05d68-73eb-4624-a67f-e1dd5b42356e",
   "metadata": {
    "tags": []
   },
   "outputs": [],
   "source": [
    "def NonGOVT(df):\n",
    "    convert_dict = {'SUPPLY_TYPE': str,\n",
    "                \n",
    "                }\n",
    " \n",
    "    df = df.astype(convert_dict)\n",
    "    df['SUPPLY_TYPE'] = df['SUPPLY_TYPE'].astype(str).str.replace('\\\\.0+$', '')\n",
    "    govt = ['30','31','32','33','34','35','36','37','38','39','40','40A', '41', '41A', '42', '42A', '43', '44', '45','48','72','73','74','75','80','81','82','83','100','101','102','103','104','105','106','107','80B','42A','41A','40A','H31'\n",
    "           'H32','H33','H41','H42','H43','HV41','H13','H14']\n",
    "    govt = [str(x) for x in govt]\n",
    "    df['gov_flag'] = df['SUPPLY_TYPE'].isin(govt)\n",
    "    return df"
   ]
  },
  {
   "cell_type": "code",
   "execution_count": 74,
   "id": "fe926cd8-120f-42dd-a826-e8d82ce46184",
   "metadata": {
    "tags": []
   },
   "outputs": [],
   "source": [
    "def relGov(df):\n",
    "#    ((df['gov_flag'] == False) & ( (pd.isnull(df['GOVT_CODE'] )))) \n",
    "    df['relGov'] = 'Goverment'\n",
    "    df.loc[(pd.isnull(df['GOVT_CODE'] ))  ,\"relGov\"] = 'Non-Goverment'\n",
    "    return df"
   ]
  },
  {
   "cell_type": "code",
   "execution_count": 75,
   "id": "fc04639a-10d6-4986-825f-f7e987c3022e",
   "metadata": {
    "tags": []
   },
   "outputs": [],
   "source": [
    "def arrear(df):\n",
    "    \n",
    "#     df = df[df['TOTAL_OUTSTANDING'] > 0]\n",
    "    df['ARREAR_FILTER'] = None\n",
    "    # df.loc[(df['TOTAL_OUTSTANDING'] < 5000) ,\"ARREAR_FILTER\"] = \"<5k\"\n",
    "    # df.loc[((df['TOTAL_OUTSTANDING'] >= 5000) & (df['TOTAL_OUTSTANDING'] < 100000)),\"ARREAR_FILTER\"] = \"Between 5K-25K\t\"\n",
    "    # df.loc[((df['TOTAL_OUTSTANDING'] >= 25000) & (df['TOTAL_OUTSTANDING'] < 50000)),\"ARREAR_FILTER\"] = \"Between 25K-50K\"\n",
    "    # df.loc[((df['TOTAL_OUTSTANDING'] >= 50000) & (df['TOTAL_OUTSTANDING'] < 100000)),\"ARREAR_FILTER\"] = \"Between 50K-1Lac\"\n",
    "    # df.loc[df['TOTAL_OUTSTANDING'] >= 100000,\"ARREAR_FILTER\"] = \"Above 1Lac\"\n",
    "    df.loc[(df['arrear_withot_Lpsc'] < 5000) ,\"ARREAR_FILTER\"] = \"<5k\"\n",
    "    df.loc[((df['arrear_withot_Lpsc'] >= 5000) & (df['arrear_withot_Lpsc'] < 100000)),\"ARREAR_FILTER\"] = \"Between 5K-25K\"\n",
    "    df.loc[((df['arrear_withot_Lpsc'] >= 25000) & (df['arrear_withot_Lpsc'] < 50000)),\"ARREAR_FILTER\"] = \"Between 25K-50K\"\n",
    "    df.loc[((df['arrear_withot_Lpsc'] >= 50000) & (df['arrear_withot_Lpsc'] < 100000)),\"ARREAR_FILTER\"] = \"Between 50K-1Lac\"\n",
    "    df.loc[df['arrear_withot_Lpsc'] >= 100000,\"ARREAR_FILTER\"] = \"Above 1Lac\"\n",
    "    \n",
    "    \n",
    "    return df"
   ]
  },
  {
   "cell_type": "code",
   "execution_count": 76,
   "id": "ea6c488a-a8b1-4695-aa1a-889c7a09bf62",
   "metadata": {
    "tags": []
   },
   "outputs": [],
   "source": [
    "\n",
    "def low_consumtion_filter(df):\n",
    "    \n",
    "#     df = df[df['TOTAL_OUTSTANDING'] > 0]\n",
    "    df['low_consumtion_filter'] = None\n",
    "    df.loc[df['CONSUMPTION_CURR_MNTH'] <= 10,\"low_consumtion_filter\"] = \"0-10\"\n",
    "    df.loc[((df['CONSUMPTION_CURR_MNTH'] > 10 ) & (df['CONSUMPTION_CURR_MNTH'] <= 30)),\"low_consumtion_filter\"] = \"10-30\"\n",
    "    df.loc[((df['CONSUMPTION_CURR_MNTH'] > 30) & (df['CONSUMPTION_CURR_MNTH'] <= 50)),\"low_consumtion_filter\"] = \"30-50\"\n",
    "    df.loc[((df['CONSUMPTION_CURR_MNTH'] > 50) & (df['CONSUMPTION_CURR_MNTH'] <=100)),\"low_consumtion_filter\"] = \"50-100\"\n",
    "    df.loc[df['CONSUMPTION_CURR_MNTH'] > 100,\"low_consumtion_filter\"] = \"> 100\"\n",
    "    \n",
    "    return df"
   ]
  },
  {
   "cell_type": "code",
   "execution_count": 77,
   "id": "818483cc-1010-4499-a53d-09d9bad772c1",
   "metadata": {
    "tags": []
   },
   "outputs": [],
   "source": [
    "def mdi_cat(mdi,load):\n",
    "    result=\"\"\n",
    "    \n",
    "    if (math.isnan(mdi) or math.isnan(load) ):\n",
    "        return None\n",
    "    \n",
    "    elif mdi <= 0.25*load:\n",
    "        result = \"less than 25% of load\"\n",
    "        return(result)\n",
    "    elif mdi <= .5*load:\n",
    "        result = \"less than 50% of load and grtr than 25%\"\n",
    "        return(result)\n",
    "    elif mdi <= load:\n",
    "        result = \"less than 100% of load and grtr than 50%\"\n",
    "        return(result)\n",
    "    elif mdi<=1.50*load:\n",
    "        result = \"greter than 100% of load and less than 150%\"\n",
    "        return(result)\n",
    "    elif (mdi<=2*load):\n",
    "        result = \"greter than 150% of load and less than 200%\"\n",
    "        return(result)\n",
    "    return(\"greter than 200%\")\n",
    "    \n",
    "        \n",
    "    \n",
    "        \n",
    "    \n",
    "\n",
    "\n",
    "\n",
    "def MDI_filter(df):\n",
    "    \n",
    "#     df = df[df['TOTAL_OUTSTANDING'] > 0]\n",
    "    df['MDI_filter'] = df.apply(lambda row : mdi_cat(row['MDI'],row['LOAD']), axis = 1)\n",
    "    \n",
    "    \n",
    "    \n",
    "    return df"
   ]
  },
  {
   "cell_type": "code",
   "execution_count": 78,
   "id": "2642d987-d5fb-444a-9132-c1b08b1ffb26",
   "metadata": {
    "tags": []
   },
   "outputs": [],
   "source": [
    "def billable(df):\n",
    "    bil = ['In Service','TD','TD >6 MONTHS']\n",
    "    df['bilable_flag'] = df['CON_STATUS'].isin(bil)\n",
    "    return df\n",
    "  "
   ]
  },
  {
   "cell_type": "code",
   "execution_count": 79,
   "id": "d7038b8d-f537-4d81-a88d-4c61c4e1c402",
   "metadata": {
    "tags": []
   },
   "outputs": [],
   "source": [
    "def CatLoad(df):\n",
    "    df['LOAD'] = pd.to_numeric(df['LOAD'])   #,errors=\"coerce\"\n",
    "    df['LOAD_FILTER'] = None\n",
    "    df.loc[df['LOAD'] < 5,\"LOAD_FILTER\"] = \"1-5kw\"\n",
    "    df.loc[((df['LOAD'] >= 5) & (df['LOAD'] < 10)),\"LOAD_FILTER\"] = \"5-9kw\"\n",
    "    df.loc[df['LOAD'] >= 10,\"LOAD_FILTER\"] = \"great than 10kw\"\n",
    "    return df\n"
   ]
  },
  {
   "cell_type": "code",
   "execution_count": 80,
   "id": "c482ab89-46dd-4197-aa92-e3a6d76f3d90",
   "metadata": {
    "tags": []
   },
   "outputs": [],
   "source": [
    "def rdf_cat(df):\n",
    "    cat246=['LMV2','LMV4B','LMV6']\n",
    "    # df.Cat.isin(cat)\n",
    "    df['LOAD'] = pd.to_numeric(df['LOAD'])   #,errors=\"coerce\"\n",
    "    df['rdf_cat'] = None\n",
    "    df.loc[(df.Cat.isin(cat246)),\"rdf_cat\"] = \"LMV2,LMV4B,LMV6\"\n",
    "    df.loc[((df['LOAD'] >= 3) & (df['Cat']=='LMV1')),\"rdf_cat\"] = \"LMV1(3-9kw)\"\n",
    "    df.loc[((df['Cat']=='LMV1') & (df['LOAD'] <3)),\"rdf_cat\"] = \"LMV1(less than 3kw)\"\n",
    "    # df.loc[((df['SUPPLY_TYPE'] == '17') & (df['LOAD'] <3)),\"rdf_cat\"] = \"LMV1(rural and < 3kw)\"\n",
    "    # df.loc[((df['LOAD'] >= 5) & (df['LOAD'] < 10)),\"rdf_cat\"] = \"5-9kw\"\n",
    "    df.loc[df['LOAD'] >= 10,\"rdf_cat\"] = \"great than 10kw\"\n",
    "    df.loc[~df['rdf_cat'].notna(),\"rdf_cat\"] = \"other(LMV3,LMV4A,LMV7)\"\n",
    "    \n",
    "    \n",
    "    return df\n"
   ]
  },
  {
   "cell_type": "code",
   "execution_count": 81,
   "id": "a2ceedef-3288-442d-a861-8726a59151e6",
   "metadata": {
    "tags": []
   },
   "outputs": [],
   "source": [
    "def Cat_VC(df):\n",
    "    df['LOAD'] = pd.to_numeric(df['LOAD'])   #,errors=\"coerce\"\n",
    "    df['Cat_vc'] = None\n",
    "    df.loc[((df['LOAD'] >= 1) & (df['Cat']=='LMV2')),\"Cat_vc\"] = \"LMV2(1-5kw)\"\n",
    "    df.loc[((df['LOAD'] >= 3) & (df['Cat']=='LMV1')),\"Cat_vc\"] = \"LMV1(3-5kw)\"\n",
    "    df.loc[((df['Cat']=='LMV1') & (df['LOAD'] <3)),\"Cat_vc\"] = \"LMV1(urban and < 3kw)\"\n",
    "    df.loc[((df['SUPPLY_TYPE'] == '17') & (df['LOAD'] <3)),\"Cat_vc\"] = \"LMV1(rural and < 3kw)\"\n",
    "    \n",
    "    df.loc[((df['LOAD'] >= 5) & (df['LOAD'] < 10)),\"Cat_vc\"] = \"5-9kw\"\n",
    "    df.loc[df['LOAD'] >= 10,\"Cat_vc\"] = \"great than 10kw\"\n",
    "    return df\n"
   ]
  },
  {
   "cell_type": "code",
   "execution_count": 82,
   "id": "92e6f855",
   "metadata": {},
   "outputs": [],
   "source": [
    "def new_cat(df):\n",
    "    df['LOAD'] = pd.to_numeric(df['LOAD'])   #,errors=\"coerce\"\n",
    "    df['new_cat'] = None\n",
    "    df.loc[((df['LOAD'] >= 1) & (df['Cat']=='LMV1')),\"new_cat\"] = \"LMV1(2-5kw)\"\n",
    "    df.loc[((df['LOAD'] >= 5) & (df['Cat']=='LMV1')),\"new_cat\"] = \"LMV1(5-9kw)\"\n",
    "    df.loc[((df['LOAD'] >= 1) & (df['Cat']=='LMV2')),\"new_cat\"] = \"LMV2(2-5kw)\"\n",
    "    df.loc[((df['LOAD'] >= 5) & (df['Cat']=='LMV2')),\"new_cat\"] = \"LMV2(5-9kw)\"\n",
    "    df.loc[((df['LOAD'] >= 1) & (df['Cat']=='LMV4A')),\"new_cat\"] = \"LMV4(2-5kw)\"\n",
    "    df.loc[((df['LOAD'] >= 5) & (df['Cat']=='LMV4A')),\"new_cat\"] = \"LMV4(5-9kw)\"\n",
    "    df.loc[((df['LOAD'] >= 1) & (df['Cat']=='LMV4B')),\"new_cat\"] = \"LMV4(2-5kw)\"\n",
    "    df.loc[((df['LOAD'] >= 5) & (df['Cat']=='LMV4B')),\"new_cat\"] = \"LMV4(5-9kw)\"\n",
    "    df.loc[df['LOAD'] >= 10,\"new_cat\"] = \"great than 10kw\"\n",
    "    return df\n"
   ]
  },
  {
   "cell_type": "code",
   "execution_count": 83,
   "id": "0e1c0eb8-2688-452b-8adb-273f6b6bdd2a",
   "metadata": {
    "tags": []
   },
   "outputs": [],
   "source": [
    "def graph_VC(df):\n",
    "    # df['LOAD'] = pd.to_numeric(df['LOAD'])   #,errors=\"coerce\"\n",
    "    df['graph_vc'] = None\n",
    "    df.loc[(df['Cat']=='LMV2'),\"graph_vc\"] = \"LMV2(urban)\"\n",
    "    df.loc[(df['Cat']=='LMV1'),\"graph_vc\"] = \"LMV1(urban)\"\n",
    "    df.loc[(df['SUPPLY_TYPE'] == '17'),\"graph_vc\"] = \"LMV1(rural)\"\n",
    "    df.loc[(df['SUPPLY_TYPE'] == '27'),\"graph_vc\"] = \"LMV2(rural)\"\n",
    "    df.loc[(((df['Cat']=='HV1') | (df['Cat']=='HV2') | (df['Cat']=='LMV6')) & (df.gov_flag == False)) ,\"graph_vc\"] = \"HV1,HV2 and LMV6\"\n",
    "    df.loc[(((df['Cat']=='LMV4B') | (df['Cat']=='LMV5') | (df['Cat']=='LMV9'))) ,\"graph_vc\"] = \"Other(4b,5,9)\"\n",
    "    df.loc[( df.gov_flag == True) ,\"graph_vc\"] = \"Government\"\n",
    "    \n",
    "    # df.loc[((df['LOAD'] >= 5) & (df['LOAD'] < 10)),\"Cat_vc\"] = \"5-9kw\"\n",
    "    # df.loc[df['LOAD'] >= 10,\"Cat_vc\"] = \"great than 10kw\"\n",
    "    return df\n"
   ]
  },
  {
   "cell_type": "code",
   "execution_count": 84,
   "id": "ee37f711-1bcc-4e53-b7f2-b31834599166",
   "metadata": {
    "tags": []
   },
   "outputs": [],
   "source": [
    "def ots(df):\n",
    "    # df['LOAD'] = pd.to_numeric(df['LOAD'])   #,errors=\"coerce\"\n",
    "    df['ots_vc'] = None\n",
    "    df['discount_Nov'] = None\n",
    "    df['discount_Dec(1-15)'] = None\n",
    "    df['Registration_amount'] = None\n",
    "    df['Registration_amount'] = 0.3*df['TOTAL_OUTSTANDING']\n",
    "    df['Amount_to_be_paid_after_disc_Nov'] = None\n",
    "    df['Amount_to_be_paid_after_disc_dec(1-15)'] = None\n",
    "    \n",
    "    df.loc[((df['Cat']=='LMV1') & (df['LOAD'] <= 1)),\"ots_vc\"] = \"LMV1 And <=1kwh\"\n",
    "    df.loc[((df['Cat']=='LMV1')& (df['LOAD'] > 1)),\"ots_vc\"] = \"LMV1 And >1kwh\"\n",
    "    df.loc[((df['Cat']=='LMV2') & (df['LOAD'] <= 3)),\"ots_vc\"] = \"LMV2 And <=3kwh\"\n",
    "    df.loc[((df['Cat']=='LMV2')& (df['LOAD'] > 3)),\"ots_vc\"] = \"LMV2 And >3kwh\"\n",
    "    df.loc[(df['Cat']=='LMV4B'),\"ots_vc\"] = \"LMV4B\"\n",
    "    df.loc[(df['Cat']=='LMV5'),\"ots_vc\"] = \"LMV5\"\n",
    "    df.loc[(df['Cat']=='LMV6'),\"ots_vc\"] = \"LMV6\"\n",
    "    df.loc[(df['ots_vc']=='LMV1 And <=1kwh'),\"discount_Nov\"] = df[df['ots_vc']=='LMV1 And <=1kwh']['LPSC']*1\n",
    "    df.loc[(df['ots_vc']=='LMV1 And <=1kwh'),\"discount_Dec(1-15)\"] = df[df['ots_vc']=='LMV1 And <=1kwh']['LPSC']*1\n",
    "    df.loc[(df['ots_vc']=='LMV1 And >1kwh'),\"discount_Nov\"] = df[df['ots_vc']=='LMV1 And >1kwh']['LPSC']*0.9\n",
    "    df.loc[(df['ots_vc']=='LMV1 And >1kwh'),\"discount_Dec(1-15)\"] = df[df['ots_vc']=='LMV1 And >1kwh']['LPSC']*0.8\n",
    "    df.loc[(df['ots_vc']=='LMV2 And <=3kwh'),\"discount_Nov\"] = df[df['ots_vc']=='LMV2 And <=3kwh']['LPSC']*0.8\n",
    "    df.loc[(df['ots_vc']=='LMV2 And <=3kwh'),\"discount_Dec(1-15)\"] = df[df['ots_vc']=='LMV2 And <=3kwh']['LPSC']*0.7\n",
    "    df.loc[(df['ots_vc']=='LMV2 And >3kwh'),\"discount_Nov\"] = df[df['ots_vc']=='LMV2 And >3kwh']['LPSC']*0.6\n",
    "    df.loc[(df['ots_vc']=='LMV2 And >3kwh'),\"discount_Dec(1-15)\"] = df[df['ots_vc']=='LMV2 And >3kwh']['LPSC']*0.5\n",
    "    df.loc[(df['ots_vc']=='LMV4B'),\"discount_Dec(1-15)\"] = df[df['ots_vc']=='LMV4B']['LPSC']*0.5\n",
    "    df.loc[(df['ots_vc']=='LMV4B'),\"discount_Nov\"] = df[df['ots_vc']=='LMV4B']['LPSC']*0.4\n",
    "    df.loc[(df['ots_vc']=='LMV5'),\"discount_Dec(1-15)\"] = df[df['ots_vc']=='LMV5']['LPSC']*1\n",
    "    df.loc[(df['ots_vc']=='LMV5'),\"discount_Nov\"] = df[df['ots_vc']=='LMV5']['LPSC']*1\n",
    "    df.loc[(df['ots_vc']=='LMV6'),\"discount_Dec(1-15)\"] = df[df['ots_vc']=='LMV6']['LPSC']*0.5\n",
    "    df.loc[(df['ots_vc']=='LMV6'),\"discount_Nov\"] = df[df['ots_vc']=='LMV6']['LPSC']*0.4\n",
    "    \n",
    "    df['Amount_to_be_paid_after_disc_Nov'] = df['TOTAL_OUTSTANDING']-df['discount_Nov']\n",
    "    df['Amount_to_be_paid_after_disc_dec(1-15)'] = df['TOTAL_OUTSTANDING']-df['discount_Dec(1-15)']\n",
    "    df['arrear_withot_Lpsc'] = df['TOTAL_OUTSTANDING']-df['LPSC']\n",
    "    \n",
    "\n",
    "    \n",
    "    \n",
    "    # df.loc[((df['LOAD'] >= 5) & (df['LOAD'] < 10)),\"Cat_vc\"] = \"5-9kw\"\n",
    "    # df.loc[df['LOAD'] >= 10,\"Cat_vc\"] = \"great than 10kw\"\n",
    "    return df\n"
   ]
  },
  {
   "cell_type": "code",
   "execution_count": 85,
   "id": "ddd4c623-1743-44ba-aacc-743a0db54a13",
   "metadata": {
    "tags": []
   },
   "outputs": [],
   "source": [
    "def paid_arrear(df):\n",
    "    df[\"paid_arrear\"] = 0\n",
    "    df[\"temp\"] = 0\n",
    "    df.loc[(df['CURRENT_ASSESSMENT']>=0),\"temp\"] = df[df['CURRENT_ASSESSMENT']>=0]['CURRENT_ASSESSMENT'] - df[df['CURRENT_ASSESSMENT']>=0]['TOTAL_PAY_AMT']\n",
    "    df.loc[(df['temp']<0),\"paid_arrear\"] = -1 * (df[df['temp']<0][\"temp\"])\n",
    "    df.drop('temp', inplace=True, axis=1)\n",
    "    return df"
   ]
  },
  {
   "cell_type": "code",
   "execution_count": 86,
   "id": "ddcaf13f-08ea-4b8d-8811-99e57737cb6a",
   "metadata": {
    "tags": []
   },
   "outputs": [],
   "source": [
    "# def div(df):\n",
    "#        #,errors=\"coerce\"\n",
    "#     df['Division'] = None\n",
    "#     df.loc[((df['LOAD'] >= 1) & (df['Cat']=='LMV2')),\"Division\"] = \"LMV2(1-5kw)\"\n",
    "#     df.loc[((df['LOAD'] >= 3) & (df['Cat']=='LMV1')),\"Cat_vc\"] = \"LMV1(3-5kw)\"\n",
    "    \n",
    "#     df.loc[((df['LOAD'] >= 5) & (df['LOAD'] < 10)),\"Cat_vc\"] = \"5-9kw\"\n",
    "#     df.loc[df['LOAD'] >= 10,\"Cat_vc\"] = \"great than 10kw\"\n",
    "#     return df\n"
   ]
  },
  {
   "cell_type": "code",
   "execution_count": 87,
   "id": "44503597-5bd9-4552-9ac3-b4a0f2b9d377",
   "metadata": {
    "tags": []
   },
   "outputs": [],
   "source": [
    "def Division_Name(df):\n",
    "    # df['LOAD'] = pd.to_numeric(df['LOAD'])   #,errors=\"coerce\"\n",
    "    \n",
    "    # df['Circle_Name'] = None\n",
    "    df.insert(loc=0, column=\"Circle_Name\", value=None)\n",
    "    # df['Division_Name'] = None\n",
    "    df.insert(loc=1, column=\"Division_Name\", value=None)\n",
    "    \n",
    "    \n",
    "    \n",
    "    df.loc[df['DIV_CODE']== 'DIV354921',\"Division_Name\"] = \"EDD I Bahraich\"\n",
    "    df.loc[df['DIV_CODE']== 'DIV354921',\"Circle_Name\"] = \"EDC Bahraich\"\n",
    "    df.loc[df['DIV_CODE']== 'DIV354922',\"Division_Name\"] = \"EDD II Nanpara\"\n",
    "    df.loc[df['DIV_CODE']== 'DIV354922',\"Circle_Name\"] = \"EDC Bahraich\"\n",
    "    df.loc[df['DIV_CODE']== 'DIV354923',\"Division_Name\"] = \"EDD III Kaisarganj\"\n",
    "    df.loc[df['DIV_CODE']== 'DIV354923',\"Circle_Name\"] = \"EDC Bahraich\"\n",
    "    df.loc[df['DIV_CODE']== 'DIV355211',\"Division_Name\"] = \"EDD I Gonda\"\n",
    "    df.loc[df['DIV_CODE']== 'DIV355211',\"Circle_Name\"] = \"EDC Gonda\"\n",
    "    df.loc[df['DIV_CODE']== 'DIV355212',\"Division_Name\"] = \"EDD II Gonda\"\n",
    "    df.loc[df['DIV_CODE']== 'DIV355212',\"Circle_Name\"] = \"EDC Gonda\"\n",
    "    df.loc[df['DIV_CODE']== 'DIV355213',\"Division_Name\"] = \"EDD III COLONELGANJ\"\n",
    "    df.loc[df['DIV_CODE']== 'DIV355213',\"Circle_Name\"] = \"EDC Gonda\"\n",
    "    df.loc[df['DIV_CODE']== 'DIV355214',\"Division_Name\"] = \"EDD IV MANKAPUR\"\n",
    "    df.loc[df['DIV_CODE']== 'DIV355214',\"Circle_Name\"] = \"EDC Gonda\"\n",
    "    df.loc[df['DIV_CODE']== 'DIV355131',\"Division_Name\"] = \"EDD Balrampur\"\n",
    "    df.loc[df['DIV_CODE']== 'DIV355131',\"Circle_Name\"] = \"EDC Balrampur\"\n",
    "    df.loc[df['DIV_CODE']== 'DIV355132',\"Division_Name\"] = \"EDD SHRAWASTI\"\n",
    "    df.loc[df['DIV_CODE']== 'DIV355132',\"Circle_Name\"] = \"EDC Balrampur\"\n",
    "    df.loc[df['DIV_CODE']== 'DIV355133',\"Division_Name\"] = \"EDD Tulsipur\"\n",
    "    df.loc[df['DIV_CODE']== 'DIV355133',\"Circle_Name\"] = \"EDC Balrampur\"\n",
    "\n",
    "    return df\n",
    "    "
   ]
  },
  {
   "cell_type": "code",
   "execution_count": 88,
   "id": "e016a73c-e102-4425-a90d-3f2b04411e2b",
   "metadata": {
    "tags": []
   },
   "outputs": [],
   "source": [
    "def faulty_Ageing(df):\n",
    "    df['METER_READ_FLTY_CNT'] = pd.to_numeric(df['METER_READ_FLTY_CNT'])       #,errors=\"coerce\"\n",
    "    df['faulty_Ageing'] = None\n",
    "    df.loc[df['METER_READ_FLTY_CNT'] < 2,\"faulty_Ageing\"] = \"faulty<2\"\n",
    "    df.loc[((df['METER_READ_FLTY_CNT'] >= 2) & (df['METER_READ_FLTY_CNT'] < 3)),\"faulty_Ageing\"] = \"faulty>=2 TO <3\"\n",
    "    df.loc[df['METER_READ_FLTY_CNT'] >= 3,\"faulty_Ageing\"] = \"faulty >=3\"\n",
    "    return df\n"
   ]
  },
  {
   "cell_type": "code",
   "execution_count": 89,
   "id": "db527a8c-d439-4289-b458-29dabd0d0557",
   "metadata": {
    "tags": []
   },
   "outputs": [],
   "source": [
    "def categories(df):\n",
    "    #Supplytype.srs.startswith('1') for lmv1\n",
    "    convert_dict = {'SUPPLY_TYPE': str,\n",
    "                \n",
    "                }\n",
    " \n",
    "    df = df.astype(convert_dict)\n",
    "    df['SUPPLY_TYPE'] = df['SUPPLY_TYPE'].astype(str).str.replace('\\\\.0+$', '')\n",
    "    df['Cat'] = None\n",
    "#     df[df['SUPPLY_TYPE'].str.startswith('1')] = \"LMV1\"\n",
    "    df.loc[df['SUPPLY_TYPE'].str.startswith('1', na=False),\"Cat\"] = \"LMV1\"\n",
    "    df.loc[df['SUPPLY_TYPE'].str.startswith('2',na=False),\"Cat\"] = \"LMV2\"\n",
    "    df.loc[df['SUPPLY_TYPE'].str.startswith('3', na=False),\"Cat\"] = \"LMV3\"\n",
    "    # df.loc[df['SUPPLY_TYPE'].str.startswith('4', na=False),\"Cat\"] = \"LMV4\"\n",
    "    df.loc[df['SUPPLY_TYPE'].str.startswith('5', na=False),\"Cat\"] = \"LMV5\"\n",
    "    df.loc[df['SUPPLY_TYPE'].str.startswith('6', na=False),\"Cat\"] = \"LMV6\"\n",
    "    df.loc[df['SUPPLY_TYPE'].str.startswith('7', na=False),\"Cat\"] = \"LMV7\"\n",
    "    df.loc[df['SUPPLY_TYPE'].str.startswith('8', na=False),\"Cat\"] = \"LMV8\"\n",
    "    df.loc[df['SUPPLY_TYPE'].str.startswith('9', na=False),\"Cat\"] = \"LMV9\"\n",
    "#     df.loc[df['SUPPLY_TYPE'].str.startswith('10'),\"Cat\"] = \"LMV10\"\n",
    "    df.loc[df['SUPPLY_TYPE'].str.startswith('H1', na=False),\"Cat\"] = \"HV1\"\n",
    "    df.loc[df['SUPPLY_TYPE'].str.startswith('H2', na=False),\"Cat\"] = \"HV2\"\n",
    "    df.loc[df['SUPPLY_TYPE'].str.startswith('H3', na=False),\"Cat\"] = \"HV3\"\n",
    "    df.loc[df['SUPPLY_TYPE'].str.startswith('H4', na=False),\"Cat\"] = \"HV4\"\n",
    "    lmv10 = ['100', '101', '103', '104', '105']\n",
    "    # df['gov_flag'] = df['SUPPLY_TYPE'].isin(lmv10)\n",
    "    df.loc[df['SUPPLY_TYPE'].isin(lmv10),\"Cat\"] = \"LMV10\"\n",
    "    lmv4a = ['40','40A', '41', '41A', '42', '42A', '43', '44', '45','48']\n",
    "    lmv4b = ['46', '47']\n",
    "    df.loc[df['SUPPLY_TYPE'].isin(lmv4a),\"Cat\"] = \"LMV4A\"\n",
    "    df.loc[df['SUPPLY_TYPE'].isin(lmv4b),\"Cat\"] = \"LMV4B\"\n",
    "    return df"
   ]
  },
  {
   "cell_type": "code",
   "execution_count": 90,
   "id": "a6384935-3f38-49b9-a579-49a7d82acbae",
   "metadata": {
    "tags": []
   },
   "outputs": [],
   "source": [
    "def type(df):\n",
    "    df['LAST_PAY_DATE'] = pd.to_datetime(df['LAST_PAY_DATE'],dayfirst=True,errors ='coerce')\n",
    "    df['DOC'] = pd.to_datetime(df['DOC'],dayfirst=True,errors ='coerce')\n",
    "    df['LAST_BILL_DATE'] = pd.to_datetime(df['LAST_BILL_DATE'],dayfirst=True,errors ='coerce')\n",
    "    df['LAST_OK_READ_STATUS'] = pd.to_datetime(df['LAST_OK_READ_STATUS'],dayfirst=True,errors ='coerce')\n",
    "    df['TOTAL_OUTSTANDING'] = pd.to_numeric(df['TOTAL_OUTSTANDING'],errors=\"coerce\")\n",
    "    df['LOAD'] = pd.to_numeric(df['LOAD'],errors=\"coerce\")\n",
    "    df['CONSUMPTION_CURR_MNTH'] = pd.to_numeric(df['CONSUMPTION_CURR_MNTH'],errors=\"coerce\")\n",
    "    df['MDI'] = pd.to_numeric(df['MDI'],errors=\"coerce\")\n",
    "    df['CURRENT_ASSESSMENT'] = pd.to_numeric(df['CURRENT_ASSESSMENT'],errors=\"coerce\")\n",
    "    df['TOTAL_PAY_AMT'] = pd.to_numeric(df['TOTAL_PAY_AMT'],errors=\"coerce\")\n",
    "    df['LAST_PAY_AMT'] = pd.to_numeric(df['LAST_PAY_AMT'],errors=\"coerce\")\n",
    "    \n",
    "    return df"
   ]
  },
  {
   "cell_type": "code",
   "execution_count": 91,
   "id": "21b543e7-3f7f-49ef-adc3-e636a88e5af8",
   "metadata": {
    "tags": []
   },
   "outputs": [],
   "source": [
    "def unpaid(df):\n",
    "    df['paid_status'] = 0\n",
    "    # df.loc[df['LAST_PAY_DATE'] < pd.Timestamp(2023, 1, month_unpaid),\"unpaid_status\"] = 0\n",
    "    # df.loc[(pd.isnull(df['LAST_PAY_DATE'] )),\"unpaid_status\"] = 0     \n",
    "    df.loc[df['LAST_PAY_DATE'] >= pd.Timestamp(2023, month_unpaid,1),\"paid_status\"] = 1\n",
    "    \n",
    "    return df"
   ]
  },
  {
   "cell_type": "code",
   "execution_count": 92,
   "id": "6b3b944d-142a-4ea5-89cd-18a09cc65c86",
   "metadata": {
    "tags": []
   },
   "outputs": [],
   "source": [
    "def newconection(df):\n",
    "    df['newconection'] = 0\n",
    "    # df.loc[df['LAST_PAY_DATE'] < pd.Timestamp(2023, 1, month_unpaid),\"unpaid_status\"] = 0\n",
    "    # df.loc[(pd.isnull(df['LAST_PAY_DATE'] )),\"unpaid_status\"] = 0     \n",
    "    df.loc[df['DOC'] >= pd.Timestamp(2023, month_unpaid,1),\"newconection\"] = 1\n",
    "    \n",
    "    return df"
   ]
  },
  {
   "cell_type": "code",
   "execution_count": 93,
   "id": "d411264c-036a-4e70-b1ea-c43eafaa65a4",
   "metadata": {
    "tags": []
   },
   "outputs": [],
   "source": [
    "def conection_month(df):\n",
    "    df['conection_month'] = \"till_Aug\"\n",
    "    # df.loc[df['LAST_PAY_DATE'] < pd.Timestamp(2023, 1, month_unpaid),\"unpaid_status\"] = 0\n",
    "    # df.loc[(pd.isnull(df['LAST_PAY_DATE'] )),\"unpaid_status\"] = 0     \n",
    "    df.loc[df['DOC'] >= pd.Timestamp(2023, 9,1),\"conection_month\"] = \"New Connection\"\n",
    "    # df.loc[((df['DOC'] >= pd.Timestamp(2023, 9,1)) & (df['DOC']< pd.Timestamp(2023, 10,1))),\"conection_month\"] = \"Sep\"\n",
    "    # df.loc[((df['DOC'] >= pd.Timestamp(2023, 10,1)) & (df['DOC']< pd.Timestamp(2023, 11,1))),\"conection_month\"] = \"Oct\"\n",
    "    # df.loc[((df['DOC'] >= pd.Timestamp(2023, 11,1)) & (df['DOC']< pd.Timestamp(2023, 12,1))),\"conection_month\"] = \"Nov\"\n",
    "    \n",
    "    return df"
   ]
  },
  {
   "cell_type": "code",
   "execution_count": 94,
   "id": "7c03fd8f-026c-4d1a-b610-f9f0edc7d985",
   "metadata": {
    "tags": []
   },
   "outputs": [],
   "source": [
    "def Neverpaid(df):\n",
    "    df['Neverpaid_count'] = 0\n",
    "    df.loc[((pd.isnull(df['LAST_PAY_DATE'] )) & (df['DOC'] < pd.Timestamp(2023,month_doc, 1))),\"Neverpaid_status\"] = 1\n",
    "    # df.loc[pd.isnull(df['Neverpaid_status']),\"Neverpaid_status\"] = 0\n",
    "    \n",
    "    return df"
   ]
  },
  {
   "cell_type": "code",
   "execution_count": 95,
   "id": "7d61ceef-b485-4eba-bcab-e811a8ffdaaa",
   "metadata": {
    "tags": []
   },
   "outputs": [
    {
     "name": "stderr",
     "output_type": "stream",
     "text": [
      "[Parallel(n_jobs=-1)]: Using backend ThreadingBackend with 20 concurrent workers.\n",
      "C:\\Users\\HP\\AppData\\Local\\Temp\\ipykernel_14416\\2667646776.py:2: DtypeWarning: Columns (3,82) have mixed types. Specify dtype option on import or set low_memory=False.\n",
      "  return pd.read_csv(f\"{month}/{circle}/master/{file_name}\",on_bad_lines='skip')\n",
      "C:\\Users\\HP\\AppData\\Local\\Temp\\ipykernel_14416\\2667646776.py:2: DtypeWarning: Columns (3,10,80,82) have mixed types. Specify dtype option on import or set low_memory=False.\n",
      "  return pd.read_csv(f\"{month}/{circle}/master/{file_name}\",on_bad_lines='skip')\n",
      "C:\\Users\\HP\\AppData\\Local\\Temp\\ipykernel_14416\\2667646776.py:2: DtypeWarning: Columns (3,51,52,82) have mixed types. Specify dtype option on import or set low_memory=False.\n",
      "  return pd.read_csv(f\"{month}/{circle}/master/{file_name}\",on_bad_lines='skip')\n",
      "[Parallel(n_jobs=-1)]: Done   3 out of  10 | elapsed:   16.8s remaining:   39.4s\n",
      "C:\\Users\\HP\\AppData\\Local\\Temp\\ipykernel_14416\\2667646776.py:2: DtypeWarning: Columns (3,10,14,77,80,82,116) have mixed types. Specify dtype option on import or set low_memory=False.\n",
      "  return pd.read_csv(f\"{month}/{circle}/master/{file_name}\",on_bad_lines='skip')\n",
      "C:\\Users\\HP\\AppData\\Local\\Temp\\ipykernel_14416\\2667646776.py:2: DtypeWarning: Columns (10,77,80,82,116) have mixed types. Specify dtype option on import or set low_memory=False.\n",
      "  return pd.read_csv(f\"{month}/{circle}/master/{file_name}\",on_bad_lines='skip')\n",
      "C:\\Users\\HP\\AppData\\Local\\Temp\\ipykernel_14416\\2667646776.py:2: DtypeWarning: Columns (10,80,82,116) have mixed types. Specify dtype option on import or set low_memory=False.\n",
      "  return pd.read_csv(f\"{month}/{circle}/master/{file_name}\",on_bad_lines='skip')\n",
      "[Parallel(n_jobs=-1)]: Done   5 out of  10 | elapsed:   25.7s remaining:   25.7s\n",
      "C:\\Users\\HP\\AppData\\Local\\Temp\\ipykernel_14416\\2667646776.py:2: DtypeWarning: Columns (10,80,82,116) have mixed types. Specify dtype option on import or set low_memory=False.\n",
      "  return pd.read_csv(f\"{month}/{circle}/master/{file_name}\",on_bad_lines='skip')\n",
      "[Parallel(n_jobs=-1)]: Done   7 out of  10 | elapsed:   27.2s remaining:   11.6s\n",
      "C:\\Users\\HP\\AppData\\Local\\Temp\\ipykernel_14416\\2667646776.py:2: DtypeWarning: Columns (10,80,82,116) have mixed types. Specify dtype option on import or set low_memory=False.\n",
      "  return pd.read_csv(f\"{month}/{circle}/master/{file_name}\",on_bad_lines='skip')\n",
      "C:\\Users\\HP\\AppData\\Local\\Temp\\ipykernel_14416\\2667646776.py:2: DtypeWarning: Columns (3,10,20,21,24,25,28,43,52,61,62,82) have mixed types. Specify dtype option on import or set low_memory=False.\n",
      "  return pd.read_csv(f\"{month}/{circle}/master/{file_name}\",on_bad_lines='skip')\n",
      "C:\\Users\\HP\\AppData\\Local\\Temp\\ipykernel_14416\\2667646776.py:2: DtypeWarning: Columns (10,80,82,116) have mixed types. Specify dtype option on import or set low_memory=False.\n",
      "  return pd.read_csv(f\"{month}/{circle}/master/{file_name}\",on_bad_lines='skip')\n",
      "[Parallel(n_jobs=-1)]: Done  10 out of  10 | elapsed:   33.0s finished\n"
     ]
    },
    {
     "name": "stdout",
     "output_type": "stream",
     "text": [
      "CSV: 38.13256049156189\n"
     ]
    }
   ],
   "source": [
    "start = time.time()\n",
    "df = []\n",
    "df = Parallel(n_jobs=-1, verbose=10,prefer=\"threads\")(delayed(loop)(file_name) for file_name in mylist)\n",
    "df = pd.concat(df, ignore_index=True)\n",
    "\n",
    "\n",
    "end = time.time()\n",
    "print(\"CSV:\", end - start)"
   ]
  },
  {
   "cell_type": "code",
   "execution_count": 96,
   "id": "c0fc8f1e-90ab-441b-a18a-30033fcd3c48",
   "metadata": {
    "tags": []
   },
   "outputs": [],
   "source": [
    "# for x in mylist:\n",
    "#     df = loop(x)\n",
    "#     div = ['DIV354921', 'DIV354922','DIV354923', 'DIV355131',\n",
    "#        'DIV355132', 'DIV355133', 'DIV355211', 'DIV355212', 'DIV355213', 'DIV355214']\n",
    "#     df.drop(df.index[~df[\"DIV_CODE\"].isin(div)],axis=0,inplace=True)\n",
    "    "
   ]
  },
  {
   "cell_type": "code",
   "execution_count": 32,
   "id": "f8d02729-95cc-4656-b2d2-32f466e4f08b",
   "metadata": {
    "tags": []
   },
   "outputs": [],
   "source": [
    "types=df.dtypes"
   ]
  },
  {
   "cell_type": "code",
   "execution_count": 33,
   "id": "361e3354-2d84-47de-8621-c678e9e80cff",
   "metadata": {
    "tags": []
   },
   "outputs": [
    {
     "data": {
      "text/plain": [
       "DIV_CODE                          object\n",
       "SDO_CODE                          object\n",
       "ACCT_ID                           object\n",
       "KNO                               object\n",
       "MOBILE_NO                        float64\n",
       "LANDLINE_NO                       object\n",
       "BOOK_NO                           object\n",
       "SCNO                              object\n",
       "NAME                              object\n",
       "ADDRESS                           object\n",
       "SUPPLY_TYPE                       object\n",
       "LOAD                             float64\n",
       "LOAD_UNIT                         object\n",
       "DOC                               object\n",
       "SECURITY_AMT                      object\n",
       "CON_STATUS                        object\n",
       "SERIAL_NBR                        object\n",
       "MULTIPLY_FACTOR                  float64\n",
       "METER_STATUS                      object\n",
       "LAST_BILL_DATE                    object\n",
       "CLOSE_READING                    float64\n",
       "MDI                               object\n",
       "BILL_BASIS                        object\n",
       "BILL_TYP                          object\n",
       "CONSUMPTION_CURR_MNTH            float64\n",
       "CONSUMPTION_PREV_MNTH            float64\n",
       "CONSUMPTION_PREV_TO_PREV_MNTH    float64\n",
       "ARREAR                           float64\n",
       "LPSC                             float64\n",
       "CURRENT_ASSESSMENT               float64\n",
       "CURRENT_CYCLE_LPSC               float64\n",
       "TOTAL_OUTSTANDING                float64\n",
       "DUE_DATE_REBATE                  float64\n",
       "LAST_OK_READING                  float64\n",
       "LAST_OK_READ_STATUS               object\n",
       "METER_READ_FLTY_CNT              float64\n",
       "LAST_PAY_AMT                     float64\n",
       "LAST_PAY_DATE                     object\n",
       "SUBSTATION                        object\n",
       "FEEDER                            object\n",
       "DT                                object\n",
       "POLE_NO                           object\n",
       "OPR_FLG                           object\n",
       "BILL_AFTER_DATE                   object\n",
       "METER_READ_REMARK                 object\n",
       "INSTALLATION_DATE                 object\n",
       "SBM_BILL_DATE                     object\n",
       "SBM_MACHINE_ID                    object\n",
       "BILL_CYC_CD                       object\n",
       "TOWN                              object\n",
       "SERVICE_CYC_CD                    object\n",
       "CT_RATIO                          object\n",
       "PT_RATIO                          object\n",
       "EC                               float64\n",
       "FC                               float64\n",
       "REBATES                          float64\n",
       "MIN_CHARGES                      float64\n",
       "FUEL_SURCHARGE                   float64\n",
       "DEMAND_AMT                       float64\n",
       "LTMETERING_CHARGES               float64\n",
       "CAP_CHARGES                      float64\n",
       "REG_SURCHARGE                    float64\n",
       "REG_SURCHARGE_2                  float64\n",
       "ELECTRICITY_DUTY                 float64\n",
       "TARIFF_ADJUSTMENTS               float64\n",
       "PROV_ADJUSTMENTS                 float64\n",
       "CA_ABR                           float64\n",
       "INF_BILL                          object\n",
       "MR_SOURCE_CD                      object\n",
       "HEALTHY_CONSUMER_FLAG             object\n",
       "METER_BADGE_NO                    object\n",
       "MTR_MAKE                          object\n",
       "CONNECTION_TYPE                   object\n",
       "LOOMS_GRTRTHN_60                 float64\n",
       "LOOMS_LESSTHN_60                 float64\n",
       "SUPPLY_VOLTAGE                    object\n",
       "METER_VOLTAGE                    float64\n",
       "MTR_TYPE_CD                       object\n",
       "LATITUDE                         float64\n",
       "LONGTIUDE                        float64\n",
       "INDUSTRIAL_FLAG                   object\n",
       "ACCT_INFLALTED_FLAG               object\n",
       "GOVT_CODE                         object\n",
       "OPENING_READING_KWH              float64\n",
       "OPENING_READING_KVAH             float64\n",
       "OPENING_READING_DATE              object\n",
       "CLOSING_READING_KWH              float64\n",
       "CLOSING_READING_KVAH             float64\n",
       "CLOSING_READING_DATE              object\n",
       "CONSUMPTION_KWH                  float64\n",
       "CONSUMPTION_KVAH                 float64\n",
       "BILLED_AMOUNT                    float64\n",
       "MTR_EXCEP_CD                     float64\n",
       "MTR_NO_RECORDED                   object\n",
       "MTR_MAKE_RECORDED                 object\n",
       "MANUL_BILL_EXCEP                  object\n",
       "MTR_CONFIG_TY_CD                  object\n",
       "TOTAL_PAY_AMT                    float64\n",
       "PAYMENT_SRCE                      object\n",
       "MTR_RDR_AGENCY                    object\n",
       "SS_NAME                           object\n",
       "SS_GIS_CODE                       object\n",
       "FEEDER_NAME                       object\n",
       "FEEDER_GIS_CODE                   object\n",
       "DT_NAME                           object\n",
       "DT_GIS_ID                         object\n",
       "DT_GIS_CODE                       object\n",
       "NETWID                            object\n",
       "CONSUMER_BASE                     object\n",
       "CONSUMER_BASE.1                   object\n",
       "FATHER_NAME                       object\n",
       "VILLAGE_CODE                     float64\n",
       "VILLAGE_NAME                      object\n",
       "HABITAT_CODE                     float64\n",
       "HABITAT_NAME                      object\n",
       "DISTRICT                          object\n",
       "TEMP_DISCON_DATE                  object\n",
       "INOP_AMT                         float64\n",
       "dtype: object"
      ]
     },
     "execution_count": 33,
     "metadata": {},
     "output_type": "execute_result"
    }
   ],
   "source": [
    "types"
   ]
  },
  {
   "cell_type": "code",
   "execution_count": 34,
   "id": "598b0707-5135-42e8-b795-a7b3adba986c",
   "metadata": {
    "tags": []
   },
   "outputs": [
    {
     "data": {
      "text/plain": [
       "array(['RURAL', 'URBAN', nan], dtype=object)"
      ]
     },
     "execution_count": 34,
     "metadata": {},
     "output_type": "execute_result"
    }
   ],
   "source": [
    "df.CONSUMER_BASE.unique()"
   ]
  },
  {
   "cell_type": "code",
   "execution_count": 83,
   "id": "2498b395-7984-4a17-b6a1-535cd2b0dfd7",
   "metadata": {
    "tags": []
   },
   "outputs": [
    {
     "name": "stdout",
     "output_type": "stream",
     "text": [
      "<class 'pandas.core.frame.DataFrame'>\n",
      "Int64Index: 1512078 entries, 0 to 1512079\n",
      "Columns: 118 entries, DIV_CODE to INOP_AMT\n",
      "dtypes: float64(47), object(71)\n",
      "memory usage: 1.3+ GB\n"
     ]
    }
   ],
   "source": [
    "df.info()"
   ]
  },
  {
   "cell_type": "code",
   "execution_count": 65,
   "id": "0c9ba5ad-a7e8-4a96-8b2e-07db77676ac2",
   "metadata": {
    "tags": []
   },
   "outputs": [
    {
     "ename": "TypeError",
     "evalue": "list indices must be integers or slices, not str",
     "output_type": "error",
     "traceback": [
      "\u001b[1;31m---------------------------------------------------------------------------\u001b[0m",
      "\u001b[1;31mTypeError\u001b[0m                                 Traceback (most recent call last)",
      "Cell \u001b[1;32mIn[65], line 1\u001b[0m\n\u001b[1;32m----> 1\u001b[0m df \u001b[38;5;241m=\u001b[39m df[df[\u001b[38;5;124m'\u001b[39m\u001b[38;5;124mCONSUMER_BASE\u001b[39m\u001b[38;5;124m'\u001b[39m]\u001b[38;5;241m.\u001b[39mnotna()]\n",
      "\u001b[1;31mTypeError\u001b[0m: list indices must be integers or slices, not str"
     ]
    }
   ],
   "source": [
    "df = df[df['CONSUMER_BASE'].notna()]"
   ]
  },
  {
   "cell_type": "code",
   "execution_count": 35,
   "id": "1ae379c0-4cda-4a0f-a7e4-ab0ef8959146",
   "metadata": {
    "tags": []
   },
   "outputs": [
    {
     "data": {
      "text/plain": [
       "Index(['DIV_CODE', 'SDO_CODE', 'ACCT_ID', 'KNO', 'MOBILE_NO', 'LANDLINE_NO',\n",
       "       'BOOK_NO', 'SCNO', 'NAME', 'ADDRESS',\n",
       "       ...\n",
       "       'CONSUMER_BASE', 'CONSUMER_BASE.1', 'FATHER_NAME', 'VILLAGE_CODE',\n",
       "       'VILLAGE_NAME', 'HABITAT_CODE', 'HABITAT_NAME', 'DISTRICT',\n",
       "       'TEMP_DISCON_DATE', 'INOP_AMT'],\n",
       "      dtype='object', length=118)"
      ]
     },
     "execution_count": 35,
     "metadata": {},
     "output_type": "execute_result"
    }
   ],
   "source": [
    "df.columns"
   ]
  },
  {
   "cell_type": "code",
   "execution_count": 86,
   "id": "ecc16e22-4a16-4265-9761-9c0665677eb4",
   "metadata": {
    "tags": []
   },
   "outputs": [
    {
     "data": {
      "text/plain": [
       "array(['DIV354921', 'DIV354922', 'DIV354923', 'DIV355131', 'DIV355132',\n",
       "       'DIV355133', 'DIV355211', 'DIV355212', 'DIV355213', 'DIV355214'],\n",
       "      dtype=object)"
      ]
     },
     "execution_count": 86,
     "metadata": {},
     "output_type": "execute_result"
    }
   ],
   "source": [
    "df.DIV_CODE.unique()"
   ]
  },
  {
   "cell_type": "code",
   "execution_count": 64,
   "id": "44c7f0a4-a681-4e34-bcad-37ffef32f51d",
   "metadata": {
    "tags": []
   },
   "outputs": [
    {
     "ename": "AttributeError",
     "evalue": "'list' object has no attribute 'drop'",
     "output_type": "error",
     "traceback": [
      "\u001b[1;31m---------------------------------------------------------------------------\u001b[0m",
      "\u001b[1;31mAttributeError\u001b[0m                            Traceback (most recent call last)",
      "Cell \u001b[1;32mIn[64], line 3\u001b[0m\n\u001b[0;32m      1\u001b[0m div \u001b[38;5;241m=\u001b[39m [\u001b[38;5;124m'\u001b[39m\u001b[38;5;124mDIV354921\u001b[39m\u001b[38;5;124m'\u001b[39m, \u001b[38;5;124m'\u001b[39m\u001b[38;5;124mDIV354922\u001b[39m\u001b[38;5;124m'\u001b[39m,\u001b[38;5;124m'\u001b[39m\u001b[38;5;124mDIV354923\u001b[39m\u001b[38;5;124m'\u001b[39m, \u001b[38;5;124m'\u001b[39m\u001b[38;5;124mDIV355131\u001b[39m\u001b[38;5;124m'\u001b[39m,\n\u001b[0;32m      2\u001b[0m        \u001b[38;5;124m'\u001b[39m\u001b[38;5;124mDIV355132\u001b[39m\u001b[38;5;124m'\u001b[39m, \u001b[38;5;124m'\u001b[39m\u001b[38;5;124mDIV355133\u001b[39m\u001b[38;5;124m'\u001b[39m, \u001b[38;5;124m'\u001b[39m\u001b[38;5;124mDIV355211\u001b[39m\u001b[38;5;124m'\u001b[39m, \u001b[38;5;124m'\u001b[39m\u001b[38;5;124mDIV355212\u001b[39m\u001b[38;5;124m'\u001b[39m, \u001b[38;5;124m'\u001b[39m\u001b[38;5;124mDIV355213\u001b[39m\u001b[38;5;124m'\u001b[39m, \u001b[38;5;124m'\u001b[39m\u001b[38;5;124mDIV355214\u001b[39m\u001b[38;5;124m'\u001b[39m]\n\u001b[1;32m----> 3\u001b[0m df\u001b[38;5;241m.\u001b[39mdrop(df\u001b[38;5;241m.\u001b[39mindex[\u001b[38;5;241m~\u001b[39mdf[\u001b[38;5;124m\"\u001b[39m\u001b[38;5;124mDIV_CODE\u001b[39m\u001b[38;5;124m\"\u001b[39m]\u001b[38;5;241m.\u001b[39misin(div)],axis\u001b[38;5;241m=\u001b[39m\u001b[38;5;241m0\u001b[39m,inplace\u001b[38;5;241m=\u001b[39m\u001b[38;5;28;01mTrue\u001b[39;00m)\n",
      "\u001b[1;31mAttributeError\u001b[0m: 'list' object has no attribute 'drop'"
     ]
    }
   ],
   "source": [
    "div = ['DIV354921', 'DIV354922','DIV354923', 'DIV355131',\n",
    "       'DIV355132', 'DIV355133', 'DIV355211', 'DIV355212', 'DIV355213', 'DIV355214']\n",
    "df.drop(df.index[~df[\"DIV_CODE\"].isin(div)],axis=0,inplace=True)\n"
   ]
  },
  {
   "cell_type": "code",
   "execution_count": 40,
   "id": "7b161f09-07fc-43f4-8d20-7eb46fc6179d",
   "metadata": {
    "tags": []
   },
   "outputs": [
    {
     "data": {
      "text/plain": [
       "array(['DIV354921', 'DIV354922', 'DIV354923', 'DIV355131', 'DIV355132',\n",
       "       'DIV355133', 'DIV355211', 'DIV355212', 'DIV355213', 'DIV355214'],\n",
       "      dtype=object)"
      ]
     },
     "execution_count": 40,
     "metadata": {},
     "output_type": "execute_result"
    }
   ],
   "source": [
    "df.DIV_CODE.unique()"
   ]
  },
  {
   "cell_type": "code",
   "execution_count": 40,
   "id": "1564ad11-f2b6-4a22-96e0-02211dd15039",
   "metadata": {
    "tags": []
   },
   "outputs": [
    {
     "data": {
      "text/plain": [
       "array(['SDO3549211', 'SDO3549212', 'SDO3249329', 'SDO3549224',\n",
       "       'SDO3549221', 'SDO3549222', 'SDO3549223', 'SDO3549234',\n",
       "       'SDO3549232', 'SDO3549231', 'SDO3549237', 'SDO3549236',\n",
       "       'SDO3551311', 'SDO3551312', 'SDO3551323', 'SDO3551321',\n",
       "       'SDO3551324', 'SDO3551322', 'SDO3551336', 'SDO3551335',\n",
       "       'SDO3551331', 'SDO3551334', 'SDO3551332', 'SDO3552111',\n",
       "       'SDO3552113', 'SDO3552112', 'SDO3552123', 'SDO3552122',\n",
       "       'SDO3552124', 'SDO3552121', 'SDO3552125', 'SDO3552132',\n",
       "       'SDO3552131', 'SDO3552141', 'SDO3552142', 'SDO3552143'],\n",
       "      dtype=object)"
      ]
     },
     "execution_count": 40,
     "metadata": {},
     "output_type": "execute_result"
    }
   ],
   "source": [
    "df.SDO_CODE.unique()"
   ]
  },
  {
   "cell_type": "code",
   "execution_count": 41,
   "id": "efb1dcdd-cbb3-491d-9a33-86617f18f0fc",
   "metadata": {
    "tags": []
   },
   "outputs": [
    {
     "data": {
      "text/html": [
       "<div>\n",
       "<style scoped>\n",
       "    .dataframe tbody tr th:only-of-type {\n",
       "        vertical-align: middle;\n",
       "    }\n",
       "\n",
       "    .dataframe tbody tr th {\n",
       "        vertical-align: top;\n",
       "    }\n",
       "\n",
       "    .dataframe thead th {\n",
       "        text-align: right;\n",
       "    }\n",
       "</style>\n",
       "<table border=\"1\" class=\"dataframe\">\n",
       "  <thead>\n",
       "    <tr style=\"text-align: right;\">\n",
       "      <th></th>\n",
       "      <th>DIV_CODE</th>\n",
       "      <th>SDO_CODE</th>\n",
       "      <th>ACCT_ID</th>\n",
       "      <th>KNO</th>\n",
       "      <th>MOBILE_NO</th>\n",
       "      <th>LANDLINE_NO</th>\n",
       "      <th>BOOK_NO</th>\n",
       "      <th>SCNO</th>\n",
       "      <th>NAME</th>\n",
       "      <th>ADDRESS</th>\n",
       "      <th>...</th>\n",
       "      <th>CONSUMER_BASE</th>\n",
       "      <th>CONSUMER_BASE.1</th>\n",
       "      <th>FATHER_NAME</th>\n",
       "      <th>VILLAGE_CODE</th>\n",
       "      <th>VILLAGE_NAME</th>\n",
       "      <th>HABITAT_CODE</th>\n",
       "      <th>HABITAT_NAME</th>\n",
       "      <th>DISTRICT</th>\n",
       "      <th>TEMP_DISCON_DATE</th>\n",
       "      <th>INOP_AMT</th>\n",
       "    </tr>\n",
       "  </thead>\n",
       "  <tbody>\n",
       "    <tr>\n",
       "      <th>13441</th>\n",
       "      <td>DIV354921</td>\n",
       "      <td>SDO3249329</td>\n",
       "      <td>3834375565</td>\n",
       "      <td>NaN</td>\n",
       "      <td>NaN</td>\n",
       "      <td>NaN</td>\n",
       "      <td>' 324932902501</td>\n",
       "      <td>MV_0120346</td>\n",
       "      <td>MITHLESH KUMARI PANDEY W/O RAM KUMAR PANEY</td>\n",
       "      <td>JHURIYA SEKHDAHIR BAHRAICH Bahraich UP-271801 IND</td>\n",
       "      <td>...</td>\n",
       "      <td>URBAN</td>\n",
       "      <td>URBAN</td>\n",
       "      <td>RAM KUMAR PANEY</td>\n",
       "      <td>NaN</td>\n",
       "      <td>NaN</td>\n",
       "      <td>NaN</td>\n",
       "      <td>NaN</td>\n",
       "      <td>BAHRAICH</td>\n",
       "      <td>NaN</td>\n",
       "      <td>NaN</td>\n",
       "    </tr>\n",
       "    <tr>\n",
       "      <th>22431</th>\n",
       "      <td>DIV354921</td>\n",
       "      <td>SDO3249329</td>\n",
       "      <td>2910153529</td>\n",
       "      <td>NaN</td>\n",
       "      <td>NaN</td>\n",
       "      <td>NaN</td>\n",
       "      <td>' 324932902501</td>\n",
       "      <td>MV_0120242</td>\n",
       "      <td>RAM NARAIN YADAV S/O LATE - LALLU YADAV</td>\n",
       "      <td>TEPRA SERKHDAHIR BAHRAICH Bahraich UP-271801 IND</td>\n",
       "      <td>...</td>\n",
       "      <td>URBAN</td>\n",
       "      <td>URBAN</td>\n",
       "      <td>LATE - LALLU YADAV</td>\n",
       "      <td>NaN</td>\n",
       "      <td>NaN</td>\n",
       "      <td>NaN</td>\n",
       "      <td>NaN</td>\n",
       "      <td>BAHRAICH</td>\n",
       "      <td>NaN</td>\n",
       "      <td>NaN</td>\n",
       "    </tr>\n",
       "    <tr>\n",
       "      <th>34634</th>\n",
       "      <td>DIV354921</td>\n",
       "      <td>SDO3249329</td>\n",
       "      <td>8798895515</td>\n",
       "      <td>NaN</td>\n",
       "      <td>NaN</td>\n",
       "      <td>NaN</td>\n",
       "      <td>' 324932912618</td>\n",
       "      <td>MV_064554</td>\n",
       "      <td>MOHD GUFRAN</td>\n",
       "      <td>KAZIPURA ' BAHRAICH Bahraich UP-271801 IND</td>\n",
       "      <td>...</td>\n",
       "      <td>URBAN</td>\n",
       "      <td>URBAN</td>\n",
       "      <td>MOHD NIZAM</td>\n",
       "      <td>NaN</td>\n",
       "      <td>NaN</td>\n",
       "      <td>NaN</td>\n",
       "      <td>NaN</td>\n",
       "      <td>BAHRAICH</td>\n",
       "      <td>NaN</td>\n",
       "      <td>NaN</td>\n",
       "    </tr>\n",
       "    <tr>\n",
       "      <th>37228</th>\n",
       "      <td>DIV354921</td>\n",
       "      <td>SDO3249329</td>\n",
       "      <td>809569917</td>\n",
       "      <td>NaN</td>\n",
       "      <td>9.648250e+09</td>\n",
       "      <td>NaN</td>\n",
       "      <td>' 324932902501</td>\n",
       "      <td>NaN</td>\n",
       "      <td>SMT RABIYA W/O LALLAN</td>\n",
       "      <td>DARGAH NEAR MOBIN HOTEL  BAHRAICH Bahraich UP-...</td>\n",
       "      <td>...</td>\n",
       "      <td>URBAN</td>\n",
       "      <td>URBAN</td>\n",
       "      <td>NaN</td>\n",
       "      <td>NaN</td>\n",
       "      <td>NaN</td>\n",
       "      <td>NaN</td>\n",
       "      <td>NaN</td>\n",
       "      <td>BAHRAICH</td>\n",
       "      <td>NaN</td>\n",
       "      <td>NaN</td>\n",
       "    </tr>\n",
       "    <tr>\n",
       "      <th>38530</th>\n",
       "      <td>DIV354921</td>\n",
       "      <td>SDO3249329</td>\n",
       "      <td>6095345498</td>\n",
       "      <td>NaN</td>\n",
       "      <td>NaN</td>\n",
       "      <td>NaN</td>\n",
       "      <td>' 324932902501</td>\n",
       "      <td>NaN</td>\n",
       "      <td>SRI SANA ULLAH KHAN S/O SRI AMAN ULLAH KHAN</td>\n",
       "      <td>NAZIRPURA BAHRAICH Bahraich UP-271801 IND</td>\n",
       "      <td>...</td>\n",
       "      <td>URBAN</td>\n",
       "      <td>URBAN</td>\n",
       "      <td>SRI AMAN ULLAH KHAN</td>\n",
       "      <td>NaN</td>\n",
       "      <td>NaN</td>\n",
       "      <td>NaN</td>\n",
       "      <td>NaN</td>\n",
       "      <td>BAHRAICH</td>\n",
       "      <td>NaN</td>\n",
       "      <td>NaN</td>\n",
       "    </tr>\n",
       "    <tr>\n",
       "      <th>38626</th>\n",
       "      <td>DIV354921</td>\n",
       "      <td>SDO3249329</td>\n",
       "      <td>994987050</td>\n",
       "      <td>NaN</td>\n",
       "      <td>8.081002e+09</td>\n",
       "      <td>NaN</td>\n",
       "      <td>' 324932962504</td>\n",
       "      <td>MV_0101980</td>\n",
       "      <td>ADITYA SHUKLA S/O DEVI PRASAD SHUKLA</td>\n",
       "      <td>BARHAMANIPURA NEAR-ANAND HOTEL  BAHRAICH Bahra...</td>\n",
       "      <td>...</td>\n",
       "      <td>URBAN</td>\n",
       "      <td>URBAN</td>\n",
       "      <td>DEVI PRASAD SHUKLA</td>\n",
       "      <td>NaN</td>\n",
       "      <td>NaN</td>\n",
       "      <td>NaN</td>\n",
       "      <td>NaN</td>\n",
       "      <td>BAHRAICH</td>\n",
       "      <td>04-NOV-2022</td>\n",
       "      <td>NaN</td>\n",
       "    </tr>\n",
       "    <tr>\n",
       "      <th>38834</th>\n",
       "      <td>DIV354921</td>\n",
       "      <td>SDO3249329</td>\n",
       "      <td>1840162892</td>\n",
       "      <td>NaN</td>\n",
       "      <td>9.450425e+09</td>\n",
       "      <td>NaN</td>\n",
       "      <td>' 324932902501</td>\n",
       "      <td>MV_0120394</td>\n",
       "      <td>HABEEB AHMAd S/O HAZI DARGAHI</td>\n",
       "      <td>SUFIPURA BAHRAICH Bahraich UP-271801 IND</td>\n",
       "      <td>...</td>\n",
       "      <td>URBAN</td>\n",
       "      <td>URBAN</td>\n",
       "      <td>HAZI DARGAHI</td>\n",
       "      <td>NaN</td>\n",
       "      <td>NaN</td>\n",
       "      <td>NaN</td>\n",
       "      <td>NaN</td>\n",
       "      <td>BAHRAICH</td>\n",
       "      <td>NaN</td>\n",
       "      <td>NaN</td>\n",
       "    </tr>\n",
       "    <tr>\n",
       "      <th>42711</th>\n",
       "      <td>DIV354921</td>\n",
       "      <td>SDO3249329</td>\n",
       "      <td>4304487341</td>\n",
       "      <td>NaN</td>\n",
       "      <td>NaN</td>\n",
       "      <td>NaN</td>\n",
       "      <td>' 324932902501</td>\n",
       "      <td>NaN</td>\n",
       "      <td>RAJU S/O NIZAMUDDIN</td>\n",
       "      <td>SALARGANJ NAGOKHATTA\\t BAHRAICH Bahraich UP-27...</td>\n",
       "      <td>...</td>\n",
       "      <td>URBAN</td>\n",
       "      <td>URBAN</td>\n",
       "      <td>NIZAMUDDIN</td>\n",
       "      <td>NaN</td>\n",
       "      <td>NaN</td>\n",
       "      <td>NaN</td>\n",
       "      <td>NaN</td>\n",
       "      <td>BAHRAICH</td>\n",
       "      <td>NaN</td>\n",
       "      <td>NaN</td>\n",
       "    </tr>\n",
       "    <tr>\n",
       "      <th>43662</th>\n",
       "      <td>DIV354921</td>\n",
       "      <td>SDO3249329</td>\n",
       "      <td>3439509146</td>\n",
       "      <td>NaN</td>\n",
       "      <td>6.306116e+09</td>\n",
       "      <td>NaN</td>\n",
       "      <td>' 324932912614</td>\n",
       "      <td>NaN</td>\n",
       "      <td>AFTAB AHMAD ANSARI</td>\n",
       "      <td>305 GUDRI NEAR HAJI RASHEED MASJID GUDRI BAHRA...</td>\n",
       "      <td>...</td>\n",
       "      <td>URBAN</td>\n",
       "      <td>URBAN</td>\n",
       "      <td>LATE MOBIN AHMAD ANSARI</td>\n",
       "      <td>NaN</td>\n",
       "      <td>NaN</td>\n",
       "      <td>NaN</td>\n",
       "      <td>NaN</td>\n",
       "      <td></td>\n",
       "      <td>NaN</td>\n",
       "      <td>NaN</td>\n",
       "    </tr>\n",
       "    <tr>\n",
       "      <th>43980</th>\n",
       "      <td>DIV354921</td>\n",
       "      <td>SDO3249329</td>\n",
       "      <td>3618005301</td>\n",
       "      <td>NaN</td>\n",
       "      <td>7.800095e+09</td>\n",
       "      <td>NaN</td>\n",
       "      <td>' 324932902501</td>\n",
       "      <td>NaN</td>\n",
       "      <td>SMT NAZEERA BEGAM W/O LATE NASIR AHMAD</td>\n",
       "      <td>SALARGANJ   BAHRAICH Bahraich UP-271801 IND</td>\n",
       "      <td>...</td>\n",
       "      <td>URBAN</td>\n",
       "      <td>URBAN</td>\n",
       "      <td>NaN</td>\n",
       "      <td>NaN</td>\n",
       "      <td>NaN</td>\n",
       "      <td>NaN</td>\n",
       "      <td>NaN</td>\n",
       "      <td>BAHRAICH</td>\n",
       "      <td>NaN</td>\n",
       "      <td>NaN</td>\n",
       "    </tr>\n",
       "    <tr>\n",
       "      <th>43981</th>\n",
       "      <td>DIV354921</td>\n",
       "      <td>SDO3249329</td>\n",
       "      <td>4978716154</td>\n",
       "      <td>NaN</td>\n",
       "      <td>9.793571e+09</td>\n",
       "      <td>NaN</td>\n",
       "      <td>' 324932902501</td>\n",
       "      <td>NaN</td>\n",
       "      <td>SRI SITARAM VISHWAKARMA S/O SRI SANGAM LAL VIS...</td>\n",
       "      <td>SARASWATI NAGAR BANJARI MOD BAHRAICH Bahraich ...</td>\n",
       "      <td>...</td>\n",
       "      <td>URBAN</td>\n",
       "      <td>URBAN</td>\n",
       "      <td>SRI SANGAM LAL VISHWAKARM</td>\n",
       "      <td>NaN</td>\n",
       "      <td>NaN</td>\n",
       "      <td>NaN</td>\n",
       "      <td>NaN</td>\n",
       "      <td>BAHRAICH</td>\n",
       "      <td>NaN</td>\n",
       "      <td>NaN</td>\n",
       "    </tr>\n",
       "    <tr>\n",
       "      <th>44860</th>\n",
       "      <td>DIV354921</td>\n",
       "      <td>SDO3249329</td>\n",
       "      <td>8213061787</td>\n",
       "      <td>NaN</td>\n",
       "      <td>9.177243e+09</td>\n",
       "      <td>NaN</td>\n",
       "      <td>' 324932902501</td>\n",
       "      <td>MV_0120295</td>\n",
       "      <td>IKBAL AHMAD S/O SARDAR ALI</td>\n",
       "      <td>BASHEERGANJ BAHRAICH Bahraich UP-271801 IND</td>\n",
       "      <td>...</td>\n",
       "      <td>URBAN</td>\n",
       "      <td>URBAN</td>\n",
       "      <td>SARDAR ALI</td>\n",
       "      <td>NaN</td>\n",
       "      <td>NaN</td>\n",
       "      <td>NaN</td>\n",
       "      <td>NaN</td>\n",
       "      <td>BAHRAICH</td>\n",
       "      <td>NaN</td>\n",
       "      <td>NaN</td>\n",
       "    </tr>\n",
       "    <tr>\n",
       "      <th>46337</th>\n",
       "      <td>DIV354921</td>\n",
       "      <td>SDO3249329</td>\n",
       "      <td>181620002</td>\n",
       "      <td>NaN</td>\n",
       "      <td>8.736803e+09</td>\n",
       "      <td>NaN</td>\n",
       "      <td>' 324932902501</td>\n",
       "      <td>MV_097513</td>\n",
       "      <td>GULAM MOHAMMAD S/O IMTIYAZ HUSAIN</td>\n",
       "      <td>SALARGANJ NEAR EIDGAH ROAD\\tBAHRAICH Bahraich ...</td>\n",
       "      <td>...</td>\n",
       "      <td>URBAN</td>\n",
       "      <td>URBAN</td>\n",
       "      <td>IMTIYAZ HUSAIN</td>\n",
       "      <td>NaN</td>\n",
       "      <td>NaN</td>\n",
       "      <td>NaN</td>\n",
       "      <td>NaN</td>\n",
       "      <td>BAHRAICH</td>\n",
       "      <td>NaN</td>\n",
       "      <td>NaN</td>\n",
       "    </tr>\n",
       "    <tr>\n",
       "      <th>50539</th>\n",
       "      <td>DIV354921</td>\n",
       "      <td>SDO3249329</td>\n",
       "      <td>2435867526</td>\n",
       "      <td>NaN</td>\n",
       "      <td>8.318917e+09</td>\n",
       "      <td>NaN</td>\n",
       "      <td>' 324932902501</td>\n",
       "      <td>MV_0120397</td>\n",
       "      <td>Smt MADHURI MEHAROTRA</td>\n",
       "      <td>MAKKAPURWA RAIPURRAJA BAHRAICH Bahraich UP-271...</td>\n",
       "      <td>...</td>\n",
       "      <td>URBAN</td>\n",
       "      <td>URBAN</td>\n",
       "      <td>HARIOM</td>\n",
       "      <td>NaN</td>\n",
       "      <td>NaN</td>\n",
       "      <td>NaN</td>\n",
       "      <td>NaN</td>\n",
       "      <td>BAHRAICH</td>\n",
       "      <td>NaN</td>\n",
       "      <td>NaN</td>\n",
       "    </tr>\n",
       "    <tr>\n",
       "      <th>51014</th>\n",
       "      <td>DIV354921</td>\n",
       "      <td>SDO3249329</td>\n",
       "      <td>3701734741</td>\n",
       "      <td>NaN</td>\n",
       "      <td>7.398358e+09</td>\n",
       "      <td>NaN</td>\n",
       "      <td>' 324932902501</td>\n",
       "      <td>MV_0120340</td>\n",
       "      <td>SMT POONAM</td>\n",
       "      <td>HAMJAPURA BAHRAICH Bahraich UP-271801 IND</td>\n",
       "      <td>...</td>\n",
       "      <td>URBAN</td>\n",
       "      <td>URBAN</td>\n",
       "      <td>MANOPJ</td>\n",
       "      <td>NaN</td>\n",
       "      <td>NaN</td>\n",
       "      <td>NaN</td>\n",
       "      <td>NaN</td>\n",
       "      <td>BAHRAICH</td>\n",
       "      <td>NaN</td>\n",
       "      <td>NaN</td>\n",
       "    </tr>\n",
       "    <tr>\n",
       "      <th>51322</th>\n",
       "      <td>DIV354921</td>\n",
       "      <td>SDO3249329</td>\n",
       "      <td>7696858962</td>\n",
       "      <td>NaN</td>\n",
       "      <td>9.616990e+09</td>\n",
       "      <td>NaN</td>\n",
       "      <td>' 354921212820</td>\n",
       "      <td>MV_0120268</td>\n",
       "      <td>Smt KRISHNA PATHAK D/O INDRAJEET PATHAK</td>\n",
       "      <td>DHAPALIPURWA NAZIRPURA BAHRAICH Bahraich UP-27...</td>\n",
       "      <td>...</td>\n",
       "      <td>URBAN</td>\n",
       "      <td>URBAN</td>\n",
       "      <td>INDRAJEET PATHAK</td>\n",
       "      <td>NaN</td>\n",
       "      <td>NaN</td>\n",
       "      <td>NaN</td>\n",
       "      <td>NaN</td>\n",
       "      <td>BAHRAICH</td>\n",
       "      <td>NaN</td>\n",
       "      <td>NaN</td>\n",
       "    </tr>\n",
       "    <tr>\n",
       "      <th>52882</th>\n",
       "      <td>DIV354921</td>\n",
       "      <td>SDO3249329</td>\n",
       "      <td>9434394941</td>\n",
       "      <td>NaN</td>\n",
       "      <td>6.392819e+09</td>\n",
       "      <td>NaN</td>\n",
       "      <td>' 324932912617</td>\n",
       "      <td>NaN</td>\n",
       "      <td>MUKEEM AHMAD S/O MUBEEN AHMAD</td>\n",
       "      <td>CHANDPURA NEAR KASAI MASJID   BAHRAICH Bahraic...</td>\n",
       "      <td>...</td>\n",
       "      <td>URBAN</td>\n",
       "      <td>URBAN</td>\n",
       "      <td>MUBEEN AHMAD</td>\n",
       "      <td>NaN</td>\n",
       "      <td>NaN</td>\n",
       "      <td>NaN</td>\n",
       "      <td>NaN</td>\n",
       "      <td>BAHRAICH</td>\n",
       "      <td>NaN</td>\n",
       "      <td>NaN</td>\n",
       "    </tr>\n",
       "    <tr>\n",
       "      <th>52883</th>\n",
       "      <td>DIV354921</td>\n",
       "      <td>SDO3249329</td>\n",
       "      <td>742110186</td>\n",
       "      <td>NaN</td>\n",
       "      <td>7.985703e+09</td>\n",
       "      <td>NaN</td>\n",
       "      <td>' 324932902501</td>\n",
       "      <td>MV_0120247</td>\n",
       "      <td>RADHESHYAM JAISWAL</td>\n",
       "      <td>AKBARPURA BAHRAICH Bahraich UP-271801 IND</td>\n",
       "      <td>...</td>\n",
       "      <td>URBAN</td>\n",
       "      <td>URBAN</td>\n",
       "      <td>RAM BRIKSH</td>\n",
       "      <td>NaN</td>\n",
       "      <td>NaN</td>\n",
       "      <td>NaN</td>\n",
       "      <td>NaN</td>\n",
       "      <td>BAHRAICH</td>\n",
       "      <td>NaN</td>\n",
       "      <td>NaN</td>\n",
       "    </tr>\n",
       "    <tr>\n",
       "      <th>53941</th>\n",
       "      <td>DIV354921</td>\n",
       "      <td>SDO3249329</td>\n",
       "      <td>1537587740</td>\n",
       "      <td>NaN</td>\n",
       "      <td>9.454002e+09</td>\n",
       "      <td>NaN</td>\n",
       "      <td>' 324932902501</td>\n",
       "      <td>NaN</td>\n",
       "      <td>SMT MAMTA W/O VINOD KUMAR</td>\n",
       "      <td>FUTAHA KUWAN\\t BAHRAICH Bahraich UP-271801 IND</td>\n",
       "      <td>...</td>\n",
       "      <td>URBAN</td>\n",
       "      <td>URBAN</td>\n",
       "      <td>NaN</td>\n",
       "      <td>NaN</td>\n",
       "      <td>NaN</td>\n",
       "      <td>NaN</td>\n",
       "      <td>NaN</td>\n",
       "      <td>BAHRAICH</td>\n",
       "      <td>NaN</td>\n",
       "      <td>NaN</td>\n",
       "    </tr>\n",
       "    <tr>\n",
       "      <th>54500</th>\n",
       "      <td>DIV354921</td>\n",
       "      <td>SDO3249329</td>\n",
       "      <td>4120172640</td>\n",
       "      <td>NaN</td>\n",
       "      <td>9.792767e+09</td>\n",
       "      <td>NaN</td>\n",
       "      <td>' 324932902501</td>\n",
       "      <td>NaN</td>\n",
       "      <td>BARKATALI  S/O AGNU</td>\n",
       "      <td>BUXIPURA NEAR -BARKAT HOTEL BAHRAICH Bahraich ...</td>\n",
       "      <td>...</td>\n",
       "      <td>URBAN</td>\n",
       "      <td>URBAN</td>\n",
       "      <td>AGNU</td>\n",
       "      <td>NaN</td>\n",
       "      <td>NaN</td>\n",
       "      <td>NaN</td>\n",
       "      <td>NaN</td>\n",
       "      <td>BAHRAICH</td>\n",
       "      <td>NaN</td>\n",
       "      <td>NaN</td>\n",
       "    </tr>\n",
       "    <tr>\n",
       "      <th>59377</th>\n",
       "      <td>DIV354921</td>\n",
       "      <td>SDO3249329</td>\n",
       "      <td>2359422814</td>\n",
       "      <td>NaN</td>\n",
       "      <td>9.839473e+09</td>\n",
       "      <td>NaN</td>\n",
       "      <td>' 324932902501</td>\n",
       "      <td>NaN</td>\n",
       "      <td>SHAMIL AHMAD S/O SAFI ULLAH</td>\n",
       "      <td>SALARGANJ PANI TANKI  BAHRAICH Bahraich UP-271...</td>\n",
       "      <td>...</td>\n",
       "      <td>URBAN</td>\n",
       "      <td>URBAN</td>\n",
       "      <td>SAFI ULLAH</td>\n",
       "      <td>NaN</td>\n",
       "      <td>NaN</td>\n",
       "      <td>NaN</td>\n",
       "      <td>NaN</td>\n",
       "      <td>BAHRAICH</td>\n",
       "      <td>NaN</td>\n",
       "      <td>NaN</td>\n",
       "    </tr>\n",
       "    <tr>\n",
       "      <th>72498</th>\n",
       "      <td>DIV354921</td>\n",
       "      <td>SDO3249329</td>\n",
       "      <td>3801046576</td>\n",
       "      <td>NaN</td>\n",
       "      <td>9.473738e+09</td>\n",
       "      <td>NaN</td>\n",
       "      <td>' 324932902501</td>\n",
       "      <td>NaN</td>\n",
       "      <td>SMT UMA DEVI W/O SRI RAM PRAKASH</td>\n",
       "      <td>SUFIPURA SARASWATI VIDYA MANDIR JAGTAPUR BAHRA...</td>\n",
       "      <td>...</td>\n",
       "      <td>URBAN</td>\n",
       "      <td>URBAN</td>\n",
       "      <td>NaN</td>\n",
       "      <td>NaN</td>\n",
       "      <td>NaN</td>\n",
       "      <td>NaN</td>\n",
       "      <td>NaN</td>\n",
       "      <td>BAHRAICH</td>\n",
       "      <td>NaN</td>\n",
       "      <td>NaN</td>\n",
       "    </tr>\n",
       "    <tr>\n",
       "      <th>72499</th>\n",
       "      <td>DIV354921</td>\n",
       "      <td>SDO3249329</td>\n",
       "      <td>4412695921</td>\n",
       "      <td>NaN</td>\n",
       "      <td>9.670561e+09</td>\n",
       "      <td>NaN</td>\n",
       "      <td>' 324932902501</td>\n",
       "      <td>NaN</td>\n",
       "      <td>RAHMAT ALI KHAN S/O FAYYAJ ALI</td>\n",
       "      <td>CHAUK BAZAR BAHRAICH Bahraich UP-271801 IND</td>\n",
       "      <td>...</td>\n",
       "      <td>URBAN</td>\n",
       "      <td>URBAN</td>\n",
       "      <td>FAYYAJ ALI</td>\n",
       "      <td>NaN</td>\n",
       "      <td>NaN</td>\n",
       "      <td>NaN</td>\n",
       "      <td>NaN</td>\n",
       "      <td>BAHRAICH</td>\n",
       "      <td>NaN</td>\n",
       "      <td>NaN</td>\n",
       "    </tr>\n",
       "    <tr>\n",
       "      <th>84415</th>\n",
       "      <td>DIV354921</td>\n",
       "      <td>SDO3249329</td>\n",
       "      <td>6522590639</td>\n",
       "      <td>NaN</td>\n",
       "      <td>9.839536e+09</td>\n",
       "      <td>NaN</td>\n",
       "      <td>' 324932900101</td>\n",
       "      <td>NaN</td>\n",
       "      <td>NAFEES AHMAD S/O KANCHED</td>\n",
       "      <td>GULAMALI PURA NEAR GIC SCHOOL\\t BAHRAICH Bahra...</td>\n",
       "      <td>...</td>\n",
       "      <td>URBAN</td>\n",
       "      <td>URBAN</td>\n",
       "      <td>KANCHED</td>\n",
       "      <td>NaN</td>\n",
       "      <td>NaN</td>\n",
       "      <td>NaN</td>\n",
       "      <td>NaN</td>\n",
       "      <td>BAHRAICH</td>\n",
       "      <td>NaN</td>\n",
       "      <td>NaN</td>\n",
       "    </tr>\n",
       "    <tr>\n",
       "      <th>84416</th>\n",
       "      <td>DIV354921</td>\n",
       "      <td>SDO3249329</td>\n",
       "      <td>9060394408</td>\n",
       "      <td>NaN</td>\n",
       "      <td>9.415072e+09</td>\n",
       "      <td>NaN</td>\n",
       "      <td>' 324932900101</td>\n",
       "      <td>NaN</td>\n",
       "      <td>DEEPAK KHANNA</td>\n",
       "      <td>AMINPUR NAGRAUR UP-271801 IND</td>\n",
       "      <td>...</td>\n",
       "      <td>URBAN</td>\n",
       "      <td>URBAN</td>\n",
       "      <td>LATE V K\\tKHANNA</td>\n",
       "      <td>NaN</td>\n",
       "      <td>NaN</td>\n",
       "      <td>NaN</td>\n",
       "      <td>NaN</td>\n",
       "      <td></td>\n",
       "      <td>NaN</td>\n",
       "      <td>NaN</td>\n",
       "    </tr>\n",
       "    <tr>\n",
       "      <th>84417</th>\n",
       "      <td>DIV354921</td>\n",
       "      <td>SDO3249329</td>\n",
       "      <td>9446185</td>\n",
       "      <td>NaN</td>\n",
       "      <td>6.387355e+09</td>\n",
       "      <td>NaN</td>\n",
       "      <td>' 324932902501</td>\n",
       "      <td>NaN</td>\n",
       "      <td>SMT SABINA W/O ASHRAF ALI</td>\n",
       "      <td>SALARGANJ EIDGAH PULIYA  BAHRAICH Bahraich UP-...</td>\n",
       "      <td>...</td>\n",
       "      <td>URBAN</td>\n",
       "      <td>URBAN</td>\n",
       "      <td>NaN</td>\n",
       "      <td>NaN</td>\n",
       "      <td>NaN</td>\n",
       "      <td>NaN</td>\n",
       "      <td>NaN</td>\n",
       "      <td>BAHRAICH</td>\n",
       "      <td>NaN</td>\n",
       "      <td>NaN</td>\n",
       "    </tr>\n",
       "    <tr>\n",
       "      <th>84418</th>\n",
       "      <td>DIV354921</td>\n",
       "      <td>SDO3249329</td>\n",
       "      <td>1810917403</td>\n",
       "      <td>NaN</td>\n",
       "      <td>9.670768e+09</td>\n",
       "      <td>NaN</td>\n",
       "      <td>' 324932902501</td>\n",
       "      <td>MV_0120248</td>\n",
       "      <td>SUSHEEL KUMAR</td>\n",
       "      <td>BRAHMANIPURA BAHRAICH Bahraich UP-271801 IND</td>\n",
       "      <td>...</td>\n",
       "      <td>URBAN</td>\n",
       "      <td>URBAN</td>\n",
       "      <td>JAGDISH PRASAAD</td>\n",
       "      <td>NaN</td>\n",
       "      <td>NaN</td>\n",
       "      <td>NaN</td>\n",
       "      <td>NaN</td>\n",
       "      <td>BAHRAICH</td>\n",
       "      <td>NaN</td>\n",
       "      <td>NaN</td>\n",
       "    </tr>\n",
       "    <tr>\n",
       "      <th>84419</th>\n",
       "      <td>DIV354921</td>\n",
       "      <td>SDO3249329</td>\n",
       "      <td>3258851448</td>\n",
       "      <td>NaN</td>\n",
       "      <td>1.000000e+10</td>\n",
       "      <td>NaN</td>\n",
       "      <td>' 324932902501</td>\n",
       "      <td>MV_0109080</td>\n",
       "      <td>SMT SHANTI W/O LATE RATAN LAL</td>\n",
       "      <td>HAMJAPURA   BAHRAICH Bahraich UP-271801 IND</td>\n",
       "      <td>...</td>\n",
       "      <td>URBAN</td>\n",
       "      <td>URBAN</td>\n",
       "      <td>NaN</td>\n",
       "      <td>NaN</td>\n",
       "      <td>NaN</td>\n",
       "      <td>NaN</td>\n",
       "      <td>NaN</td>\n",
       "      <td>BAHRAICH</td>\n",
       "      <td>NaN</td>\n",
       "      <td>NaN</td>\n",
       "    </tr>\n",
       "    <tr>\n",
       "      <th>84420</th>\n",
       "      <td>DIV354921</td>\n",
       "      <td>SDO3249329</td>\n",
       "      <td>3805915342</td>\n",
       "      <td>NaN</td>\n",
       "      <td>9.918790e+09</td>\n",
       "      <td>NaN</td>\n",
       "      <td>' 324932902501</td>\n",
       "      <td>NaN</td>\n",
       "      <td>SABDAR ALI S/O JAFAR ALI</td>\n",
       "      <td>SALARGANJ PAANI TANKI\\t BAHRAICH Bahraich UP-2...</td>\n",
       "      <td>...</td>\n",
       "      <td>URBAN</td>\n",
       "      <td>URBAN</td>\n",
       "      <td>JAFAR ALI</td>\n",
       "      <td>NaN</td>\n",
       "      <td>NaN</td>\n",
       "      <td>NaN</td>\n",
       "      <td>NaN</td>\n",
       "      <td>BAHRAICH</td>\n",
       "      <td>NaN</td>\n",
       "      <td>NaN</td>\n",
       "    </tr>\n",
       "    <tr>\n",
       "      <th>84421</th>\n",
       "      <td>DIV354921</td>\n",
       "      <td>SDO3249329</td>\n",
       "      <td>4895400210</td>\n",
       "      <td>NaN</td>\n",
       "      <td>8.052030e+09</td>\n",
       "      <td>NaN</td>\n",
       "      <td>' 324932900101</td>\n",
       "      <td>NaN</td>\n",
       "      <td>SATISH CHANDRA RAY S/O JANG BAHADUR RAY</td>\n",
       "      <td>FUTAHA ROAD BAHRAICH Bahraich UP-271801 IND</td>\n",
       "      <td>...</td>\n",
       "      <td>URBAN</td>\n",
       "      <td>URBAN</td>\n",
       "      <td>NaN</td>\n",
       "      <td>NaN</td>\n",
       "      <td>NaN</td>\n",
       "      <td>NaN</td>\n",
       "      <td>NaN</td>\n",
       "      <td>BAHRAICH</td>\n",
       "      <td>NaN</td>\n",
       "      <td>NaN</td>\n",
       "    </tr>\n",
       "    <tr>\n",
       "      <th>84422</th>\n",
       "      <td>DIV354921</td>\n",
       "      <td>SDO3249329</td>\n",
       "      <td>5600273331</td>\n",
       "      <td>NaN</td>\n",
       "      <td>8.858390e+09</td>\n",
       "      <td>NaN</td>\n",
       "      <td>' 324932962711</td>\n",
       "      <td>NaN</td>\n",
       "      <td>Umalesh Verma</td>\n",
       "      <td>58 MOHALLA KALPIPARA PAHADA PAKAD KALPIPARA BA...</td>\n",
       "      <td>...</td>\n",
       "      <td>URBAN</td>\n",
       "      <td>URBAN</td>\n",
       "      <td>GURUDEEN VERMA</td>\n",
       "      <td>NaN</td>\n",
       "      <td>NaN</td>\n",
       "      <td>NaN</td>\n",
       "      <td>NaN</td>\n",
       "      <td></td>\n",
       "      <td>NaN</td>\n",
       "      <td>NaN</td>\n",
       "    </tr>\n",
       "    <tr>\n",
       "      <th>84424</th>\n",
       "      <td>DIV354921</td>\n",
       "      <td>SDO3249329</td>\n",
       "      <td>6703347245</td>\n",
       "      <td>NaN</td>\n",
       "      <td>8.756218e+09</td>\n",
       "      <td>NaN</td>\n",
       "      <td>' 324932912735</td>\n",
       "      <td>NaN</td>\n",
       "      <td>TILAK RAM</td>\n",
       "      <td>0 BELHANPURWA NASUTIYA  KALPIPAR NEAR BEKARI B...</td>\n",
       "      <td>...</td>\n",
       "      <td>URBAN</td>\n",
       "      <td>URBAN</td>\n",
       "      <td>SURYALAL</td>\n",
       "      <td>NaN</td>\n",
       "      <td>NaN</td>\n",
       "      <td>NaN</td>\n",
       "      <td>NaN</td>\n",
       "      <td>BAHRAICH</td>\n",
       "      <td>NaN</td>\n",
       "      <td>NaN</td>\n",
       "    </tr>\n",
       "    <tr>\n",
       "      <th>84425</th>\n",
       "      <td>DIV354921</td>\n",
       "      <td>SDO3249329</td>\n",
       "      <td>9095954057</td>\n",
       "      <td>NaN</td>\n",
       "      <td>8.858288e+09</td>\n",
       "      <td>NaN</td>\n",
       "      <td>' 324932902501</td>\n",
       "      <td>MV_0120389</td>\n",
       "      <td>HANEEF S/O JALEEL</td>\n",
       "      <td>NAZIRPURA BAHRAICH Bahraich UP-271801 IND</td>\n",
       "      <td>...</td>\n",
       "      <td>URBAN</td>\n",
       "      <td>URBAN</td>\n",
       "      <td>JALEEL</td>\n",
       "      <td>NaN</td>\n",
       "      <td>NaN</td>\n",
       "      <td>NaN</td>\n",
       "      <td>NaN</td>\n",
       "      <td>BAHRAICH</td>\n",
       "      <td>NaN</td>\n",
       "      <td>NaN</td>\n",
       "    </tr>\n",
       "    <tr>\n",
       "      <th>84426</th>\n",
       "      <td>DIV354921</td>\n",
       "      <td>SDO3249329</td>\n",
       "      <td>1054995905</td>\n",
       "      <td>NaN</td>\n",
       "      <td>7.307342e+09</td>\n",
       "      <td>NaN</td>\n",
       "      <td>' 324932912735</td>\n",
       "      <td>NaN</td>\n",
       "      <td>NITISH KUMAR</td>\n",
       "      <td>00 KALPIPARA COLONY SARYU NAHAR KHA BAHRAICH U...</td>\n",
       "      <td>...</td>\n",
       "      <td>URBAN</td>\n",
       "      <td>URBAN</td>\n",
       "      <td>DORILAL</td>\n",
       "      <td>NaN</td>\n",
       "      <td>NaN</td>\n",
       "      <td>NaN</td>\n",
       "      <td>NaN</td>\n",
       "      <td></td>\n",
       "      <td>NaN</td>\n",
       "      <td>NaN</td>\n",
       "    </tr>\n",
       "    <tr>\n",
       "      <th>84427</th>\n",
       "      <td>DIV354921</td>\n",
       "      <td>SDO3249329</td>\n",
       "      <td>2828836662</td>\n",
       "      <td>NaN</td>\n",
       "      <td>7.068467e+09</td>\n",
       "      <td>NaN</td>\n",
       "      <td>' 324932902501</td>\n",
       "      <td>MV_096722</td>\n",
       "      <td>MOHD SHAKEEL S/O MOHD SALEEM</td>\n",
       "      <td>DARGAH SHARIF GHOSIYANA  BAHRAICH Bahraich UP-...</td>\n",
       "      <td>...</td>\n",
       "      <td>URBAN</td>\n",
       "      <td>URBAN</td>\n",
       "      <td>MOHD. SALEEM</td>\n",
       "      <td>NaN</td>\n",
       "      <td>NaN</td>\n",
       "      <td>NaN</td>\n",
       "      <td>NaN</td>\n",
       "      <td>BAHRAICH</td>\n",
       "      <td>NaN</td>\n",
       "      <td>NaN</td>\n",
       "    </tr>\n",
       "    <tr>\n",
       "      <th>84428</th>\n",
       "      <td>DIV354921</td>\n",
       "      <td>SDO3249329</td>\n",
       "      <td>6618095087</td>\n",
       "      <td>NaN</td>\n",
       "      <td>9.450427e+09</td>\n",
       "      <td>NaN</td>\n",
       "      <td>' 324932902501</td>\n",
       "      <td>MV_0120383</td>\n",
       "      <td>IRFAN AHAMD S/O KURBAN AHMAD</td>\n",
       "      <td>NOORUDDINCHAK DARGAH SHARIF BAHRAICH Bahraich ...</td>\n",
       "      <td>...</td>\n",
       "      <td>URBAN</td>\n",
       "      <td>URBAN</td>\n",
       "      <td>IRFAN AHAMD S/O KURBAN AHMAD</td>\n",
       "      <td>NaN</td>\n",
       "      <td>NaN</td>\n",
       "      <td>NaN</td>\n",
       "      <td>NaN</td>\n",
       "      <td>BAHRAICH</td>\n",
       "      <td>NaN</td>\n",
       "      <td>NaN</td>\n",
       "    </tr>\n",
       "    <tr>\n",
       "      <th>84429</th>\n",
       "      <td>DIV354921</td>\n",
       "      <td>SDO3249329</td>\n",
       "      <td>8220285560</td>\n",
       "      <td>NaN</td>\n",
       "      <td>9.838073e+09</td>\n",
       "      <td>NaN</td>\n",
       "      <td>' 324932912719</td>\n",
       "      <td>MV_0120389</td>\n",
       "      <td>SMT NAFEES FATMA W/O LATE SRI HABEEB ULLAH KHAN</td>\n",
       "      <td>GULAM ALIPURA BAHRAICH Bahraich UP-271801 IND</td>\n",
       "      <td>...</td>\n",
       "      <td>URBAN</td>\n",
       "      <td>URBAN</td>\n",
       "      <td>NaN</td>\n",
       "      <td>NaN</td>\n",
       "      <td>NaN</td>\n",
       "      <td>NaN</td>\n",
       "      <td>NaN</td>\n",
       "      <td>BAHRAICH</td>\n",
       "      <td>NaN</td>\n",
       "      <td>NaN</td>\n",
       "    </tr>\n",
       "    <tr>\n",
       "      <th>84430</th>\n",
       "      <td>DIV354921</td>\n",
       "      <td>SDO3249329</td>\n",
       "      <td>311395308</td>\n",
       "      <td>NaN</td>\n",
       "      <td>8.887640e+09</td>\n",
       "      <td>NaN</td>\n",
       "      <td>' 324932912521</td>\n",
       "      <td>MV_0100756</td>\n",
       "      <td>RANJANA NIGAM W/O SHALENDRA MOHAN</td>\n",
       "      <td>BRAHMANIPURA  BAHRAICH Bahraich UP-271801 IND</td>\n",
       "      <td>...</td>\n",
       "      <td>URBAN</td>\n",
       "      <td>URBAN</td>\n",
       "      <td>NaN</td>\n",
       "      <td>NaN</td>\n",
       "      <td>NaN</td>\n",
       "      <td>NaN</td>\n",
       "      <td>NaN</td>\n",
       "      <td>BAHRAICH</td>\n",
       "      <td>10-JAN-2023</td>\n",
       "      <td>4873.0</td>\n",
       "    </tr>\n",
       "    <tr>\n",
       "      <th>84431</th>\n",
       "      <td>DIV354921</td>\n",
       "      <td>SDO3249329</td>\n",
       "      <td>796799355</td>\n",
       "      <td>NaN</td>\n",
       "      <td>9.936077e+09</td>\n",
       "      <td>NaN</td>\n",
       "      <td>' 354921262605</td>\n",
       "      <td>NaN</td>\n",
       "      <td>FAKHRUDDIN S/O MOHD IDRISH KHAN</td>\n",
       "      <td>SALARGANJ NEAR EIDGAH CHAURAHA\\tBAHRAICH Bahra...</td>\n",
       "      <td>...</td>\n",
       "      <td>URBAN</td>\n",
       "      <td>URBAN</td>\n",
       "      <td>MOHD IDRISH KHAN</td>\n",
       "      <td>NaN</td>\n",
       "      <td>NaN</td>\n",
       "      <td>NaN</td>\n",
       "      <td>NaN</td>\n",
       "      <td>BAHRAICH</td>\n",
       "      <td>NaN</td>\n",
       "      <td>NaN</td>\n",
       "    </tr>\n",
       "    <tr>\n",
       "      <th>84432</th>\n",
       "      <td>DIV354921</td>\n",
       "      <td>SDO3249329</td>\n",
       "      <td>3637949905</td>\n",
       "      <td>NaN</td>\n",
       "      <td>8.738063e+09</td>\n",
       "      <td>NaN</td>\n",
       "      <td>' 324932912711</td>\n",
       "      <td>NaN</td>\n",
       "      <td>ARJUN S/O RAM BABU</td>\n",
       "      <td>MEERPUR KASBA HASAN NAGAR  BAHRAICH Bahraich U...</td>\n",
       "      <td>...</td>\n",
       "      <td>URBAN</td>\n",
       "      <td>URBAN</td>\n",
       "      <td>RAM BABU</td>\n",
       "      <td>NaN</td>\n",
       "      <td>NaN</td>\n",
       "      <td>NaN</td>\n",
       "      <td>NaN</td>\n",
       "      <td>BAHRAICH</td>\n",
       "      <td>NaN</td>\n",
       "      <td>NaN</td>\n",
       "    </tr>\n",
       "    <tr>\n",
       "      <th>84433</th>\n",
       "      <td>DIV354921</td>\n",
       "      <td>SDO3249329</td>\n",
       "      <td>5843895284</td>\n",
       "      <td>NaN</td>\n",
       "      <td>8.318460e+09</td>\n",
       "      <td>NaN</td>\n",
       "      <td>' 354921212612</td>\n",
       "      <td>NaN</td>\n",
       "      <td>Smt FAIMA BANO W/O KALLAN</td>\n",
       "      <td>BYPASS ROAD BARUHA BAHRACIH Bahraich UP-271801...</td>\n",
       "      <td>...</td>\n",
       "      <td>URBAN</td>\n",
       "      <td>URBAN</td>\n",
       "      <td>KALLAN</td>\n",
       "      <td>NaN</td>\n",
       "      <td>NaN</td>\n",
       "      <td>NaN</td>\n",
       "      <td>NaN</td>\n",
       "      <td>BAHRACIH</td>\n",
       "      <td>NaN</td>\n",
       "      <td>NaN</td>\n",
       "    </tr>\n",
       "    <tr>\n",
       "      <th>84434</th>\n",
       "      <td>DIV354921</td>\n",
       "      <td>SDO3249329</td>\n",
       "      <td>7357591827</td>\n",
       "      <td>NaN</td>\n",
       "      <td>9.838204e+09</td>\n",
       "      <td>NaN</td>\n",
       "      <td>' 324932902501</td>\n",
       "      <td>MV_0120296</td>\n",
       "      <td>AZIM KHAN S/O AZMAT KHAN</td>\n",
       "      <td>SUMAIYA MALL NAZIRPURA BAHRAICH Bahraich UP-27...</td>\n",
       "      <td>...</td>\n",
       "      <td>URBAN</td>\n",
       "      <td>URBAN</td>\n",
       "      <td>AZMAT KHAN</td>\n",
       "      <td>NaN</td>\n",
       "      <td>NaN</td>\n",
       "      <td>NaN</td>\n",
       "      <td>NaN</td>\n",
       "      <td>BAHRAICH</td>\n",
       "      <td>NaN</td>\n",
       "      <td>NaN</td>\n",
       "    </tr>\n",
       "    <tr>\n",
       "      <th>84435</th>\n",
       "      <td>DIV354921</td>\n",
       "      <td>SDO3249329</td>\n",
       "      <td>7778311853</td>\n",
       "      <td>NaN</td>\n",
       "      <td>9.648387e+09</td>\n",
       "      <td>NaN</td>\n",
       "      <td>' 324932900101</td>\n",
       "      <td>NaN</td>\n",
       "      <td>MOHD AHMAD S/O SHAFIQUE AHMAD</td>\n",
       "      <td>WAZIRBAG NEAR - ALOK JWELARS BAHRAICH Bahraich...</td>\n",
       "      <td>...</td>\n",
       "      <td>URBAN</td>\n",
       "      <td>URBAN</td>\n",
       "      <td>SHAFIQUE AHMAD</td>\n",
       "      <td>NaN</td>\n",
       "      <td>NaN</td>\n",
       "      <td>NaN</td>\n",
       "      <td>NaN</td>\n",
       "      <td>BAHRAICH</td>\n",
       "      <td>NaN</td>\n",
       "      <td>NaN</td>\n",
       "    </tr>\n",
       "    <tr>\n",
       "      <th>84436</th>\n",
       "      <td>DIV354921</td>\n",
       "      <td>SDO3249329</td>\n",
       "      <td>31306930</td>\n",
       "      <td>NaN</td>\n",
       "      <td>9.415072e+09</td>\n",
       "      <td>NaN</td>\n",
       "      <td>' 324932960609</td>\n",
       "      <td>NaN</td>\n",
       "      <td>DEEPAK KHANNA</td>\n",
       "      <td>AMINPUR NAGRAUR OPP ST NORBERT SCHOOL BAHRAICH...</td>\n",
       "      <td>...</td>\n",
       "      <td>URBAN</td>\n",
       "      <td>URBAN</td>\n",
       "      <td>LATE V K  KHANNA</td>\n",
       "      <td>NaN</td>\n",
       "      <td>NaN</td>\n",
       "      <td>NaN</td>\n",
       "      <td>NaN</td>\n",
       "      <td>BAHRAICH</td>\n",
       "      <td>NaN</td>\n",
       "      <td>NaN</td>\n",
       "    </tr>\n",
       "    <tr>\n",
       "      <th>84437</th>\n",
       "      <td>DIV354921</td>\n",
       "      <td>SDO3249329</td>\n",
       "      <td>187821537</td>\n",
       "      <td>NaN</td>\n",
       "      <td>8.795837e+09</td>\n",
       "      <td>NaN</td>\n",
       "      <td>' 324932902501</td>\n",
       "      <td>NaN</td>\n",
       "      <td>ISLAMUDDIN S/O SUBHAN</td>\n",
       "      <td>DARGAH SHARIF NOORUDDIN CHAK NEAR KAANI HOUSE ...</td>\n",
       "      <td>...</td>\n",
       "      <td>URBAN</td>\n",
       "      <td>URBAN</td>\n",
       "      <td>SUBHAN</td>\n",
       "      <td>NaN</td>\n",
       "      <td>NaN</td>\n",
       "      <td>NaN</td>\n",
       "      <td>NaN</td>\n",
       "      <td>BAHRAICH</td>\n",
       "      <td>NaN</td>\n",
       "      <td>NaN</td>\n",
       "    </tr>\n",
       "    <tr>\n",
       "      <th>84440</th>\n",
       "      <td>DIV354921</td>\n",
       "      <td>SDO3249329</td>\n",
       "      <td>5077762337</td>\n",
       "      <td>NaN</td>\n",
       "      <td>9.451406e+09</td>\n",
       "      <td>NaN</td>\n",
       "      <td>' 324932912735</td>\n",
       "      <td>NaN</td>\n",
       "      <td>RICHA SHUKLA</td>\n",
       "      <td>000 SINGHAPARASI PAHADA FAKKAD BAHRAICH BAHRAI...</td>\n",
       "      <td>...</td>\n",
       "      <td>RURAL</td>\n",
       "      <td>RURAL</td>\n",
       "      <td>BHOOPENDRA TRIPATHI</td>\n",
       "      <td>NaN</td>\n",
       "      <td>NaN</td>\n",
       "      <td>NaN</td>\n",
       "      <td>NaN</td>\n",
       "      <td>BAHRAICH</td>\n",
       "      <td>NaN</td>\n",
       "      <td>NaN</td>\n",
       "    </tr>\n",
       "    <tr>\n",
       "      <th>84441</th>\n",
       "      <td>DIV354921</td>\n",
       "      <td>SDO3249329</td>\n",
       "      <td>5908154203</td>\n",
       "      <td>NaN</td>\n",
       "      <td>9.781324e+09</td>\n",
       "      <td>NaN</td>\n",
       "      <td>' 324932912735</td>\n",
       "      <td>NaN</td>\n",
       "      <td>CHANDRAVATI</td>\n",
       "      <td>00 NASUTIYA KALPIPARA GADARIYAN PURWA BAHRAICH...</td>\n",
       "      <td>...</td>\n",
       "      <td>URBAN</td>\n",
       "      <td>URBAN</td>\n",
       "      <td>NATTHU</td>\n",
       "      <td>NaN</td>\n",
       "      <td>NaN</td>\n",
       "      <td>NaN</td>\n",
       "      <td>NaN</td>\n",
       "      <td></td>\n",
       "      <td>NaN</td>\n",
       "      <td>NaN</td>\n",
       "    </tr>\n",
       "    <tr>\n",
       "      <th>84442</th>\n",
       "      <td>DIV354921</td>\n",
       "      <td>SDO3249329</td>\n",
       "      <td>7020961382</td>\n",
       "      <td>NaN</td>\n",
       "      <td>7.398974e+09</td>\n",
       "      <td>NaN</td>\n",
       "      <td>' 324932912705</td>\n",
       "      <td>NaN</td>\n",
       "      <td>TASVVAR BEG</td>\n",
       "      <td>12336 SABJI MANDI SALARPUR SABJI MANDI BAHRAIC...</td>\n",
       "      <td>...</td>\n",
       "      <td>RURAL</td>\n",
       "      <td>RURAL</td>\n",
       "      <td>MUNVVAR BEG</td>\n",
       "      <td>NaN</td>\n",
       "      <td>NaN</td>\n",
       "      <td>NaN</td>\n",
       "      <td>NaN</td>\n",
       "      <td>BAHRAICH</td>\n",
       "      <td>NaN</td>\n",
       "      <td>NaN</td>\n",
       "    </tr>\n",
       "    <tr>\n",
       "      <th>84443</th>\n",
       "      <td>DIV354921</td>\n",
       "      <td>SDO3249329</td>\n",
       "      <td>8417425142</td>\n",
       "      <td>NaN</td>\n",
       "      <td>9.450473e+09</td>\n",
       "      <td>NaN</td>\n",
       "      <td>' 324932902501</td>\n",
       "      <td>NaN</td>\n",
       "      <td>SMT RESHMA W/O SRI HASAN AHMAD</td>\n",
       "      <td>QAZIPURA SOUTH BAHRAICH Bahraich UP-271801 IND</td>\n",
       "      <td>...</td>\n",
       "      <td>URBAN</td>\n",
       "      <td>URBAN</td>\n",
       "      <td>NaN</td>\n",
       "      <td>NaN</td>\n",
       "      <td>NaN</td>\n",
       "      <td>NaN</td>\n",
       "      <td>NaN</td>\n",
       "      <td>BAHRAICH</td>\n",
       "      <td>NaN</td>\n",
       "      <td>NaN</td>\n",
       "    </tr>\n",
       "  </tbody>\n",
       "</table>\n",
       "<p>49 rows × 118 columns</p>\n",
       "</div>"
      ],
      "text/plain": [
       "        DIV_CODE    SDO_CODE     ACCT_ID  KNO     MOBILE_NO LANDLINE_NO  \\\n",
       "13441  DIV354921  SDO3249329  3834375565  NaN           NaN         NaN   \n",
       "22431  DIV354921  SDO3249329  2910153529  NaN           NaN         NaN   \n",
       "34634  DIV354921  SDO3249329  8798895515  NaN           NaN         NaN   \n",
       "37228  DIV354921  SDO3249329   809569917  NaN  9.648250e+09         NaN   \n",
       "38530  DIV354921  SDO3249329  6095345498  NaN           NaN         NaN   \n",
       "38626  DIV354921  SDO3249329   994987050  NaN  8.081002e+09         NaN   \n",
       "38834  DIV354921  SDO3249329  1840162892  NaN  9.450425e+09         NaN   \n",
       "42711  DIV354921  SDO3249329  4304487341  NaN           NaN         NaN   \n",
       "43662  DIV354921  SDO3249329  3439509146  NaN  6.306116e+09         NaN   \n",
       "43980  DIV354921  SDO3249329  3618005301  NaN  7.800095e+09         NaN   \n",
       "43981  DIV354921  SDO3249329  4978716154  NaN  9.793571e+09         NaN   \n",
       "44860  DIV354921  SDO3249329  8213061787  NaN  9.177243e+09         NaN   \n",
       "46337  DIV354921  SDO3249329   181620002  NaN  8.736803e+09         NaN   \n",
       "50539  DIV354921  SDO3249329  2435867526  NaN  8.318917e+09         NaN   \n",
       "51014  DIV354921  SDO3249329  3701734741  NaN  7.398358e+09         NaN   \n",
       "51322  DIV354921  SDO3249329  7696858962  NaN  9.616990e+09         NaN   \n",
       "52882  DIV354921  SDO3249329  9434394941  NaN  6.392819e+09         NaN   \n",
       "52883  DIV354921  SDO3249329   742110186  NaN  7.985703e+09         NaN   \n",
       "53941  DIV354921  SDO3249329  1537587740  NaN  9.454002e+09         NaN   \n",
       "54500  DIV354921  SDO3249329  4120172640  NaN  9.792767e+09         NaN   \n",
       "59377  DIV354921  SDO3249329  2359422814  NaN  9.839473e+09         NaN   \n",
       "72498  DIV354921  SDO3249329  3801046576  NaN  9.473738e+09         NaN   \n",
       "72499  DIV354921  SDO3249329  4412695921  NaN  9.670561e+09         NaN   \n",
       "84415  DIV354921  SDO3249329  6522590639  NaN  9.839536e+09         NaN   \n",
       "84416  DIV354921  SDO3249329  9060394408  NaN  9.415072e+09         NaN   \n",
       "84417  DIV354921  SDO3249329     9446185  NaN  6.387355e+09         NaN   \n",
       "84418  DIV354921  SDO3249329  1810917403  NaN  9.670768e+09         NaN   \n",
       "84419  DIV354921  SDO3249329  3258851448  NaN  1.000000e+10         NaN   \n",
       "84420  DIV354921  SDO3249329  3805915342  NaN  9.918790e+09         NaN   \n",
       "84421  DIV354921  SDO3249329  4895400210  NaN  8.052030e+09         NaN   \n",
       "84422  DIV354921  SDO3249329  5600273331  NaN  8.858390e+09         NaN   \n",
       "84424  DIV354921  SDO3249329  6703347245  NaN  8.756218e+09         NaN   \n",
       "84425  DIV354921  SDO3249329  9095954057  NaN  8.858288e+09         NaN   \n",
       "84426  DIV354921  SDO3249329  1054995905  NaN  7.307342e+09         NaN   \n",
       "84427  DIV354921  SDO3249329  2828836662  NaN  7.068467e+09         NaN   \n",
       "84428  DIV354921  SDO3249329  6618095087  NaN  9.450427e+09         NaN   \n",
       "84429  DIV354921  SDO3249329  8220285560  NaN  9.838073e+09         NaN   \n",
       "84430  DIV354921  SDO3249329   311395308  NaN  8.887640e+09         NaN   \n",
       "84431  DIV354921  SDO3249329   796799355  NaN  9.936077e+09         NaN   \n",
       "84432  DIV354921  SDO3249329  3637949905  NaN  8.738063e+09         NaN   \n",
       "84433  DIV354921  SDO3249329  5843895284  NaN  8.318460e+09         NaN   \n",
       "84434  DIV354921  SDO3249329  7357591827  NaN  9.838204e+09         NaN   \n",
       "84435  DIV354921  SDO3249329  7778311853  NaN  9.648387e+09         NaN   \n",
       "84436  DIV354921  SDO3249329    31306930  NaN  9.415072e+09         NaN   \n",
       "84437  DIV354921  SDO3249329   187821537  NaN  8.795837e+09         NaN   \n",
       "84440  DIV354921  SDO3249329  5077762337  NaN  9.451406e+09         NaN   \n",
       "84441  DIV354921  SDO3249329  5908154203  NaN  9.781324e+09         NaN   \n",
       "84442  DIV354921  SDO3249329  7020961382  NaN  7.398974e+09         NaN   \n",
       "84443  DIV354921  SDO3249329  8417425142  NaN  9.450473e+09         NaN   \n",
       "\n",
       "              BOOK_NO        SCNO  \\\n",
       "13441  ' 324932902501  MV_0120346   \n",
       "22431  ' 324932902501  MV_0120242   \n",
       "34634  ' 324932912618   MV_064554   \n",
       "37228  ' 324932902501         NaN   \n",
       "38530  ' 324932902501         NaN   \n",
       "38626  ' 324932962504  MV_0101980   \n",
       "38834  ' 324932902501  MV_0120394   \n",
       "42711  ' 324932902501         NaN   \n",
       "43662  ' 324932912614         NaN   \n",
       "43980  ' 324932902501         NaN   \n",
       "43981  ' 324932902501         NaN   \n",
       "44860  ' 324932902501  MV_0120295   \n",
       "46337  ' 324932902501   MV_097513   \n",
       "50539  ' 324932902501  MV_0120397   \n",
       "51014  ' 324932902501  MV_0120340   \n",
       "51322  ' 354921212820  MV_0120268   \n",
       "52882  ' 324932912617         NaN   \n",
       "52883  ' 324932902501  MV_0120247   \n",
       "53941  ' 324932902501         NaN   \n",
       "54500  ' 324932902501         NaN   \n",
       "59377  ' 324932902501         NaN   \n",
       "72498  ' 324932902501         NaN   \n",
       "72499  ' 324932902501         NaN   \n",
       "84415  ' 324932900101         NaN   \n",
       "84416  ' 324932900101         NaN   \n",
       "84417  ' 324932902501         NaN   \n",
       "84418  ' 324932902501  MV_0120248   \n",
       "84419  ' 324932902501  MV_0109080   \n",
       "84420  ' 324932902501         NaN   \n",
       "84421  ' 324932900101         NaN   \n",
       "84422  ' 324932962711         NaN   \n",
       "84424  ' 324932912735         NaN   \n",
       "84425  ' 324932902501  MV_0120389   \n",
       "84426  ' 324932912735         NaN   \n",
       "84427  ' 324932902501   MV_096722   \n",
       "84428  ' 324932902501  MV_0120383   \n",
       "84429  ' 324932912719  MV_0120389   \n",
       "84430  ' 324932912521  MV_0100756   \n",
       "84431  ' 354921262605         NaN   \n",
       "84432  ' 324932912711         NaN   \n",
       "84433  ' 354921212612         NaN   \n",
       "84434  ' 324932902501  MV_0120296   \n",
       "84435  ' 324932900101         NaN   \n",
       "84436  ' 324932960609         NaN   \n",
       "84437  ' 324932902501         NaN   \n",
       "84440  ' 324932912735         NaN   \n",
       "84441  ' 324932912735         NaN   \n",
       "84442  ' 324932912705         NaN   \n",
       "84443  ' 324932902501         NaN   \n",
       "\n",
       "                                                    NAME  \\\n",
       "13441         MITHLESH KUMARI PANDEY W/O RAM KUMAR PANEY   \n",
       "22431            RAM NARAIN YADAV S/O LATE - LALLU YADAV   \n",
       "34634                                        MOHD GUFRAN   \n",
       "37228                              SMT RABIYA W/O LALLAN   \n",
       "38530        SRI SANA ULLAH KHAN S/O SRI AMAN ULLAH KHAN   \n",
       "38626               ADITYA SHUKLA S/O DEVI PRASAD SHUKLA   \n",
       "38834                      HABEEB AHMAd S/O HAZI DARGAHI   \n",
       "42711                                RAJU S/O NIZAMUDDIN   \n",
       "43662                                 AFTAB AHMAD ANSARI   \n",
       "43980             SMT NAZEERA BEGAM W/O LATE NASIR AHMAD   \n",
       "43981  SRI SITARAM VISHWAKARMA S/O SRI SANGAM LAL VIS...   \n",
       "44860                         IKBAL AHMAD S/O SARDAR ALI   \n",
       "46337                  GULAM MOHAMMAD S/O IMTIYAZ HUSAIN   \n",
       "50539                              Smt MADHURI MEHAROTRA   \n",
       "51014                                         SMT POONAM   \n",
       "51322            Smt KRISHNA PATHAK D/O INDRAJEET PATHAK   \n",
       "52882                      MUKEEM AHMAD S/O MUBEEN AHMAD   \n",
       "52883                                 RADHESHYAM JAISWAL   \n",
       "53941                          SMT MAMTA W/O VINOD KUMAR   \n",
       "54500                                BARKATALI  S/O AGNU   \n",
       "59377                        SHAMIL AHMAD S/O SAFI ULLAH   \n",
       "72498                   SMT UMA DEVI W/O SRI RAM PRAKASH   \n",
       "72499                     RAHMAT ALI KHAN S/O FAYYAJ ALI   \n",
       "84415                           NAFEES AHMAD S/O KANCHED   \n",
       "84416                                      DEEPAK KHANNA   \n",
       "84417                          SMT SABINA W/O ASHRAF ALI   \n",
       "84418                                      SUSHEEL KUMAR   \n",
       "84419                      SMT SHANTI W/O LATE RATAN LAL   \n",
       "84420                           SABDAR ALI S/O JAFAR ALI   \n",
       "84421            SATISH CHANDRA RAY S/O JANG BAHADUR RAY   \n",
       "84422                                      Umalesh Verma   \n",
       "84424                                          TILAK RAM   \n",
       "84425                                  HANEEF S/O JALEEL   \n",
       "84426                                       NITISH KUMAR   \n",
       "84427                       MOHD SHAKEEL S/O MOHD SALEEM   \n",
       "84428                       IRFAN AHAMD S/O KURBAN AHMAD   \n",
       "84429    SMT NAFEES FATMA W/O LATE SRI HABEEB ULLAH KHAN   \n",
       "84430                  RANJANA NIGAM W/O SHALENDRA MOHAN   \n",
       "84431                    FAKHRUDDIN S/O MOHD IDRISH KHAN   \n",
       "84432                                 ARJUN S/O RAM BABU   \n",
       "84433                          Smt FAIMA BANO W/O KALLAN   \n",
       "84434                           AZIM KHAN S/O AZMAT KHAN   \n",
       "84435                      MOHD AHMAD S/O SHAFIQUE AHMAD   \n",
       "84436                                      DEEPAK KHANNA   \n",
       "84437                              ISLAMUDDIN S/O SUBHAN   \n",
       "84440                                       RICHA SHUKLA   \n",
       "84441                                        CHANDRAVATI   \n",
       "84442                                        TASVVAR BEG   \n",
       "84443                     SMT RESHMA W/O SRI HASAN AHMAD   \n",
       "\n",
       "                                                 ADDRESS  ... CONSUMER_BASE  \\\n",
       "13441  JHURIYA SEKHDAHIR BAHRAICH Bahraich UP-271801 IND  ...         URBAN   \n",
       "22431   TEPRA SERKHDAHIR BAHRAICH Bahraich UP-271801 IND  ...         URBAN   \n",
       "34634         KAZIPURA ' BAHRAICH Bahraich UP-271801 IND  ...         URBAN   \n",
       "37228  DARGAH NEAR MOBIN HOTEL  BAHRAICH Bahraich UP-...  ...         URBAN   \n",
       "38530          NAZIRPURA BAHRAICH Bahraich UP-271801 IND  ...         URBAN   \n",
       "38626  BARHAMANIPURA NEAR-ANAND HOTEL  BAHRAICH Bahra...  ...         URBAN   \n",
       "38834           SUFIPURA BAHRAICH Bahraich UP-271801 IND  ...         URBAN   \n",
       "42711  SALARGANJ NAGOKHATTA\\t BAHRAICH Bahraich UP-27...  ...         URBAN   \n",
       "43662  305 GUDRI NEAR HAJI RASHEED MASJID GUDRI BAHRA...  ...         URBAN   \n",
       "43980        SALARGANJ   BAHRAICH Bahraich UP-271801 IND  ...         URBAN   \n",
       "43981  SARASWATI NAGAR BANJARI MOD BAHRAICH Bahraich ...  ...         URBAN   \n",
       "44860        BASHEERGANJ BAHRAICH Bahraich UP-271801 IND  ...         URBAN   \n",
       "46337  SALARGANJ NEAR EIDGAH ROAD\\tBAHRAICH Bahraich ...  ...         URBAN   \n",
       "50539  MAKKAPURWA RAIPURRAJA BAHRAICH Bahraich UP-271...  ...         URBAN   \n",
       "51014          HAMJAPURA BAHRAICH Bahraich UP-271801 IND  ...         URBAN   \n",
       "51322  DHAPALIPURWA NAZIRPURA BAHRAICH Bahraich UP-27...  ...         URBAN   \n",
       "52882  CHANDPURA NEAR KASAI MASJID   BAHRAICH Bahraic...  ...         URBAN   \n",
       "52883          AKBARPURA BAHRAICH Bahraich UP-271801 IND  ...         URBAN   \n",
       "53941     FUTAHA KUWAN\\t BAHRAICH Bahraich UP-271801 IND  ...         URBAN   \n",
       "54500  BUXIPURA NEAR -BARKAT HOTEL BAHRAICH Bahraich ...  ...         URBAN   \n",
       "59377  SALARGANJ PANI TANKI  BAHRAICH Bahraich UP-271...  ...         URBAN   \n",
       "72498  SUFIPURA SARASWATI VIDYA MANDIR JAGTAPUR BAHRA...  ...         URBAN   \n",
       "72499        CHAUK BAZAR BAHRAICH Bahraich UP-271801 IND  ...         URBAN   \n",
       "84415  GULAMALI PURA NEAR GIC SCHOOL\\t BAHRAICH Bahra...  ...         URBAN   \n",
       "84416                      AMINPUR NAGRAUR UP-271801 IND  ...         URBAN   \n",
       "84417  SALARGANJ EIDGAH PULIYA  BAHRAICH Bahraich UP-...  ...         URBAN   \n",
       "84418       BRAHMANIPURA BAHRAICH Bahraich UP-271801 IND  ...         URBAN   \n",
       "84419        HAMJAPURA   BAHRAICH Bahraich UP-271801 IND  ...         URBAN   \n",
       "84420  SALARGANJ PAANI TANKI\\t BAHRAICH Bahraich UP-2...  ...         URBAN   \n",
       "84421        FUTAHA ROAD BAHRAICH Bahraich UP-271801 IND  ...         URBAN   \n",
       "84422  58 MOHALLA KALPIPARA PAHADA PAKAD KALPIPARA BA...  ...         URBAN   \n",
       "84424  0 BELHANPURWA NASUTIYA  KALPIPAR NEAR BEKARI B...  ...         URBAN   \n",
       "84425          NAZIRPURA BAHRAICH Bahraich UP-271801 IND  ...         URBAN   \n",
       "84426  00 KALPIPARA COLONY SARYU NAHAR KHA BAHRAICH U...  ...         URBAN   \n",
       "84427  DARGAH SHARIF GHOSIYANA  BAHRAICH Bahraich UP-...  ...         URBAN   \n",
       "84428  NOORUDDINCHAK DARGAH SHARIF BAHRAICH Bahraich ...  ...         URBAN   \n",
       "84429      GULAM ALIPURA BAHRAICH Bahraich UP-271801 IND  ...         URBAN   \n",
       "84430      BRAHMANIPURA  BAHRAICH Bahraich UP-271801 IND  ...         URBAN   \n",
       "84431  SALARGANJ NEAR EIDGAH CHAURAHA\\tBAHRAICH Bahra...  ...         URBAN   \n",
       "84432  MEERPUR KASBA HASAN NAGAR  BAHRAICH Bahraich U...  ...         URBAN   \n",
       "84433  BYPASS ROAD BARUHA BAHRACIH Bahraich UP-271801...  ...         URBAN   \n",
       "84434  SUMAIYA MALL NAZIRPURA BAHRAICH Bahraich UP-27...  ...         URBAN   \n",
       "84435  WAZIRBAG NEAR - ALOK JWELARS BAHRAICH Bahraich...  ...         URBAN   \n",
       "84436  AMINPUR NAGRAUR OPP ST NORBERT SCHOOL BAHRAICH...  ...         URBAN   \n",
       "84437  DARGAH SHARIF NOORUDDIN CHAK NEAR KAANI HOUSE ...  ...         URBAN   \n",
       "84440  000 SINGHAPARASI PAHADA FAKKAD BAHRAICH BAHRAI...  ...         RURAL   \n",
       "84441  00 NASUTIYA KALPIPARA GADARIYAN PURWA BAHRAICH...  ...         URBAN   \n",
       "84442  12336 SABJI MANDI SALARPUR SABJI MANDI BAHRAIC...  ...         RURAL   \n",
       "84443     QAZIPURA SOUTH BAHRAICH Bahraich UP-271801 IND  ...         URBAN   \n",
       "\n",
       "       CONSUMER_BASE.1                   FATHER_NAME VILLAGE_CODE  \\\n",
       "13441            URBAN               RAM KUMAR PANEY          NaN   \n",
       "22431            URBAN            LATE - LALLU YADAV          NaN   \n",
       "34634            URBAN                    MOHD NIZAM          NaN   \n",
       "37228            URBAN                           NaN          NaN   \n",
       "38530            URBAN           SRI AMAN ULLAH KHAN          NaN   \n",
       "38626            URBAN            DEVI PRASAD SHUKLA          NaN   \n",
       "38834            URBAN                  HAZI DARGAHI          NaN   \n",
       "42711            URBAN                    NIZAMUDDIN          NaN   \n",
       "43662            URBAN       LATE MOBIN AHMAD ANSARI          NaN   \n",
       "43980            URBAN                           NaN          NaN   \n",
       "43981            URBAN     SRI SANGAM LAL VISHWAKARM          NaN   \n",
       "44860            URBAN                    SARDAR ALI          NaN   \n",
       "46337            URBAN                IMTIYAZ HUSAIN          NaN   \n",
       "50539            URBAN                        HARIOM          NaN   \n",
       "51014            URBAN                        MANOPJ          NaN   \n",
       "51322            URBAN              INDRAJEET PATHAK          NaN   \n",
       "52882            URBAN                  MUBEEN AHMAD          NaN   \n",
       "52883            URBAN                    RAM BRIKSH          NaN   \n",
       "53941            URBAN                           NaN          NaN   \n",
       "54500            URBAN                          AGNU          NaN   \n",
       "59377            URBAN                    SAFI ULLAH          NaN   \n",
       "72498            URBAN                           NaN          NaN   \n",
       "72499            URBAN                    FAYYAJ ALI          NaN   \n",
       "84415            URBAN                       KANCHED          NaN   \n",
       "84416            URBAN              LATE V K\\tKHANNA          NaN   \n",
       "84417            URBAN                           NaN          NaN   \n",
       "84418            URBAN               JAGDISH PRASAAD          NaN   \n",
       "84419            URBAN                           NaN          NaN   \n",
       "84420            URBAN                     JAFAR ALI          NaN   \n",
       "84421            URBAN                           NaN          NaN   \n",
       "84422            URBAN                GURUDEEN VERMA          NaN   \n",
       "84424            URBAN                      SURYALAL          NaN   \n",
       "84425            URBAN                        JALEEL          NaN   \n",
       "84426            URBAN                       DORILAL          NaN   \n",
       "84427            URBAN                  MOHD. SALEEM          NaN   \n",
       "84428            URBAN  IRFAN AHAMD S/O KURBAN AHMAD          NaN   \n",
       "84429            URBAN                           NaN          NaN   \n",
       "84430            URBAN                           NaN          NaN   \n",
       "84431            URBAN              MOHD IDRISH KHAN          NaN   \n",
       "84432            URBAN                      RAM BABU          NaN   \n",
       "84433            URBAN                        KALLAN          NaN   \n",
       "84434            URBAN                    AZMAT KHAN          NaN   \n",
       "84435            URBAN                SHAFIQUE AHMAD          NaN   \n",
       "84436            URBAN              LATE V K  KHANNA          NaN   \n",
       "84437            URBAN                        SUBHAN          NaN   \n",
       "84440            RURAL           BHOOPENDRA TRIPATHI          NaN   \n",
       "84441            URBAN                        NATTHU          NaN   \n",
       "84442            RURAL                   MUNVVAR BEG          NaN   \n",
       "84443            URBAN                           NaN          NaN   \n",
       "\n",
       "      VILLAGE_NAME HABITAT_CODE HABITAT_NAME  DISTRICT TEMP_DISCON_DATE  \\\n",
       "13441          NaN          NaN          NaN  BAHRAICH              NaN   \n",
       "22431          NaN          NaN          NaN  BAHRAICH              NaN   \n",
       "34634          NaN          NaN          NaN  BAHRAICH              NaN   \n",
       "37228          NaN          NaN          NaN  BAHRAICH              NaN   \n",
       "38530          NaN          NaN          NaN  BAHRAICH              NaN   \n",
       "38626          NaN          NaN          NaN  BAHRAICH      04-NOV-2022   \n",
       "38834          NaN          NaN          NaN  BAHRAICH              NaN   \n",
       "42711          NaN          NaN          NaN  BAHRAICH              NaN   \n",
       "43662          NaN          NaN          NaN                        NaN   \n",
       "43980          NaN          NaN          NaN  BAHRAICH              NaN   \n",
       "43981          NaN          NaN          NaN  BAHRAICH              NaN   \n",
       "44860          NaN          NaN          NaN  BAHRAICH              NaN   \n",
       "46337          NaN          NaN          NaN  BAHRAICH              NaN   \n",
       "50539          NaN          NaN          NaN  BAHRAICH              NaN   \n",
       "51014          NaN          NaN          NaN  BAHRAICH              NaN   \n",
       "51322          NaN          NaN          NaN  BAHRAICH              NaN   \n",
       "52882          NaN          NaN          NaN  BAHRAICH              NaN   \n",
       "52883          NaN          NaN          NaN  BAHRAICH              NaN   \n",
       "53941          NaN          NaN          NaN  BAHRAICH              NaN   \n",
       "54500          NaN          NaN          NaN  BAHRAICH              NaN   \n",
       "59377          NaN          NaN          NaN  BAHRAICH              NaN   \n",
       "72498          NaN          NaN          NaN  BAHRAICH              NaN   \n",
       "72499          NaN          NaN          NaN  BAHRAICH              NaN   \n",
       "84415          NaN          NaN          NaN  BAHRAICH              NaN   \n",
       "84416          NaN          NaN          NaN                        NaN   \n",
       "84417          NaN          NaN          NaN  BAHRAICH              NaN   \n",
       "84418          NaN          NaN          NaN  BAHRAICH              NaN   \n",
       "84419          NaN          NaN          NaN  BAHRAICH              NaN   \n",
       "84420          NaN          NaN          NaN  BAHRAICH              NaN   \n",
       "84421          NaN          NaN          NaN  BAHRAICH              NaN   \n",
       "84422          NaN          NaN          NaN                        NaN   \n",
       "84424          NaN          NaN          NaN  BAHRAICH              NaN   \n",
       "84425          NaN          NaN          NaN  BAHRAICH              NaN   \n",
       "84426          NaN          NaN          NaN                        NaN   \n",
       "84427          NaN          NaN          NaN  BAHRAICH              NaN   \n",
       "84428          NaN          NaN          NaN  BAHRAICH              NaN   \n",
       "84429          NaN          NaN          NaN  BAHRAICH              NaN   \n",
       "84430          NaN          NaN          NaN  BAHRAICH      10-JAN-2023   \n",
       "84431          NaN          NaN          NaN  BAHRAICH              NaN   \n",
       "84432          NaN          NaN          NaN  BAHRAICH              NaN   \n",
       "84433          NaN          NaN          NaN  BAHRACIH              NaN   \n",
       "84434          NaN          NaN          NaN  BAHRAICH              NaN   \n",
       "84435          NaN          NaN          NaN  BAHRAICH              NaN   \n",
       "84436          NaN          NaN          NaN  BAHRAICH              NaN   \n",
       "84437          NaN          NaN          NaN  BAHRAICH              NaN   \n",
       "84440          NaN          NaN          NaN  BAHRAICH              NaN   \n",
       "84441          NaN          NaN          NaN                        NaN   \n",
       "84442          NaN          NaN          NaN  BAHRAICH              NaN   \n",
       "84443          NaN          NaN          NaN  BAHRAICH              NaN   \n",
       "\n",
       "      INOP_AMT  \n",
       "13441      NaN  \n",
       "22431      NaN  \n",
       "34634      NaN  \n",
       "37228      NaN  \n",
       "38530      NaN  \n",
       "38626      NaN  \n",
       "38834      NaN  \n",
       "42711      NaN  \n",
       "43662      NaN  \n",
       "43980      NaN  \n",
       "43981      NaN  \n",
       "44860      NaN  \n",
       "46337      NaN  \n",
       "50539      NaN  \n",
       "51014      NaN  \n",
       "51322      NaN  \n",
       "52882      NaN  \n",
       "52883      NaN  \n",
       "53941      NaN  \n",
       "54500      NaN  \n",
       "59377      NaN  \n",
       "72498      NaN  \n",
       "72499      NaN  \n",
       "84415      NaN  \n",
       "84416      NaN  \n",
       "84417      NaN  \n",
       "84418      NaN  \n",
       "84419      NaN  \n",
       "84420      NaN  \n",
       "84421      NaN  \n",
       "84422      NaN  \n",
       "84424      NaN  \n",
       "84425      NaN  \n",
       "84426      NaN  \n",
       "84427      NaN  \n",
       "84428      NaN  \n",
       "84429      NaN  \n",
       "84430   4873.0  \n",
       "84431      NaN  \n",
       "84432      NaN  \n",
       "84433      NaN  \n",
       "84434      NaN  \n",
       "84435      NaN  \n",
       "84436      NaN  \n",
       "84437      NaN  \n",
       "84440      NaN  \n",
       "84441      NaN  \n",
       "84442      NaN  \n",
       "84443      NaN  \n",
       "\n",
       "[49 rows x 118 columns]"
      ]
     },
     "execution_count": 41,
     "metadata": {},
     "output_type": "execute_result"
    }
   ],
   "source": [
    "df[df[\"SDO_CODE\"] == 'SDO3249329' ]"
   ]
  },
  {
   "cell_type": "code",
   "execution_count": 42,
   "id": "b941fd74-fa22-4043-8dab-3f19dfd5ea92",
   "metadata": {
    "tags": []
   },
   "outputs": [
    {
     "name": "stderr",
     "output_type": "stream",
     "text": [
      "C:\\Users\\HP\\AppData\\Local\\Temp\\ipykernel_13508\\3229557052.py:1: FutureWarning: null_counts is deprecated. Use show_counts instead\n",
      "  df.info(verbose = True,null_counts = True)\n"
     ]
    },
    {
     "name": "stdout",
     "output_type": "stream",
     "text": [
      "<class 'pandas.core.frame.DataFrame'>\n",
      "Int64Index: 1512078 entries, 0 to 1512079\n",
      "Data columns (total 118 columns):\n",
      " #    Column                         Non-Null Count    Dtype  \n",
      "---   ------                         --------------    -----  \n",
      " 0    DIV_CODE                       1512078 non-null  object \n",
      " 1    SDO_CODE                       1512078 non-null  object \n",
      " 2    ACCT_ID                        1512078 non-null  object \n",
      " 3    KNO                            1416958 non-null  object \n",
      " 4    MOBILE_NO                      1396593 non-null  float64\n",
      " 5    LANDLINE_NO                    21 non-null       object \n",
      " 6    BOOK_NO                        1512078 non-null  object \n",
      " 7    SCNO                           1455644 non-null  object \n",
      " 8    NAME                           1511550 non-null  object \n",
      " 9    ADDRESS                        1512078 non-null  object \n",
      " 10   SUPPLY_TYPE                    1507603 non-null  object \n",
      " 11   LOAD                           1492581 non-null  float64\n",
      " 12   LOAD_UNIT                      1492581 non-null  object \n",
      " 13   DOC                            1512078 non-null  object \n",
      " 14   SECURITY_AMT                   1507783 non-null  object \n",
      " 15   CON_STATUS                     1512078 non-null  object \n",
      " 16   SERIAL_NBR                     1335362 non-null  object \n",
      " 17   MULTIPLY_FACTOR                1335362 non-null  float64\n",
      " 18   METER_STATUS                   1335362 non-null  object \n",
      " 19   LAST_BILL_DATE                 1351479 non-null  object \n",
      " 20   CLOSE_READING                  1310696 non-null  float64\n",
      " 21   MDI                            1361060 non-null  object \n",
      " 22   BILL_BASIS                     1309572 non-null  object \n",
      " 23   BILL_TYP                       1310764 non-null  object \n",
      " 24   CONSUMPTION_CURR_MNTH          1362248 non-null  float64\n",
      " 25   CONSUMPTION_PREV_MNTH          1358709 non-null  float64\n",
      " 26   CONSUMPTION_PREV_TO_PREV_MNTH  1346781 non-null  float64\n",
      " 27   ARREAR                         1500729 non-null  float64\n",
      " 28   LPSC                           1446798 non-null  float64\n",
      " 29   CURRENT_ASSESSMENT             1362248 non-null  float64\n",
      " 30   CURRENT_CYCLE_LPSC             1362248 non-null  float64\n",
      " 31   TOTAL_OUTSTANDING              1510033 non-null  float64\n",
      " 32   DUE_DATE_REBATE                53463 non-null    float64\n",
      " 33   LAST_OK_READING                1348995 non-null  float64\n",
      " 34   LAST_OK_READ_STATUS            1348995 non-null  object \n",
      " 35   METER_READ_FLTY_CNT            169490 non-null   float64\n",
      " 36   LAST_PAY_AMT                   802417 non-null   float64\n",
      " 37   LAST_PAY_DATE                  802418 non-null   object \n",
      " 38   SUBSTATION                     1423677 non-null  object \n",
      " 39   FEEDER                         1431707 non-null  object \n",
      " 40   DT                             193460 non-null   object \n",
      " 41   POLE_NO                        1512078 non-null  object \n",
      " 42   OPR_FLG                        1512078 non-null  object \n",
      " 43   BILL_AFTER_DATE                9713 non-null     object \n",
      " 44   METER_READ_REMARK              1348978 non-null  object \n",
      " 45   INSTALLATION_DATE              1335362 non-null  object \n",
      " 46   SBM_BILL_DATE                  1240130 non-null  object \n",
      " 47   SBM_MACHINE_ID                 1240130 non-null  object \n",
      " 48   BILL_CYC_CD                    1512078 non-null  object \n",
      " 49   TOWN                           183366 non-null   object \n",
      " 50   SERVICE_CYC_CD                 1492581 non-null  object \n",
      " 51   CT_RATIO                       18 non-null       object \n",
      " 52   PT_RATIO                       18 non-null       object \n",
      " 53   EC                             1362248 non-null  float64\n",
      " 54   FC                             1362248 non-null  float64\n",
      " 55   REBATES                        1362248 non-null  float64\n",
      " 56   MIN_CHARGES                    1360968 non-null  float64\n",
      " 57   FUEL_SURCHARGE                 1362248 non-null  float64\n",
      " 58   DEMAND_AMT                     1362248 non-null  float64\n",
      " 59   LTMETERING_CHARGES             1362248 non-null  float64\n",
      " 60   CAP_CHARGES                    1362248 non-null  float64\n",
      " 61   REG_SURCHARGE                  1355298 non-null  float64\n",
      " 62   REG_SURCHARGE_2                1362248 non-null  float64\n",
      " 63   ELECTRICITY_DUTY               1362248 non-null  float64\n",
      " 64   TARIFF_ADJUSTMENTS             0 non-null        float64\n",
      " 65   PROV_ADJUSTMENTS               1362248 non-null  float64\n",
      " 66   CA_ABR                         1354018 non-null  float64\n",
      " 67   INF_BILL                       1362248 non-null  object \n",
      " 68   MR_SOURCE_CD                   1309416 non-null  object \n",
      " 69   HEALTHY_CONSUMER_FLAG          1512078 non-null  object \n",
      " 70   METER_BADGE_NO                 1335362 non-null  object \n",
      " 71   MTR_MAKE                       1335354 non-null  object \n",
      " 72   CONNECTION_TYPE                1510267 non-null  object \n",
      " 73   LOOMS_GRTRTHN_60               1508044 non-null  float64\n",
      " 74   LOOMS_LESSTHN_60               1508044 non-null  float64\n",
      " 75   SUPPLY_VOLTAGE                 1492580 non-null  object \n",
      " 76   METER_VOLTAGE                  1374947 non-null  float64\n",
      " 77   MTR_TYPE_CD                    130227 non-null   object \n",
      " 78   LATITUDE                       1237081 non-null  float64\n",
      " 79   LONGTIUDE                      1237081 non-null  float64\n",
      " 80   INDUSTRIAL_FLAG                1573 non-null     object \n",
      " 81   ACCT_INFLALTED_FLAG            1362248 non-null  object \n",
      " 82   GOVT_CODE                      21113 non-null    object \n",
      " 83   OPENING_READING_KWH            1309577 non-null  float64\n",
      " 84   OPENING_READING_KVAH           1168474 non-null  float64\n",
      " 85   OPENING_READING_DATE           1309577 non-null  object \n",
      " 86   CLOSING_READING_KWH            1309577 non-null  float64\n",
      " 87   CLOSING_READING_KVAH           1168474 non-null  float64\n",
      " 88   CLOSING_READING_DATE           1309577 non-null  object \n",
      " 89   CONSUMPTION_KWH                1309577 non-null  float64\n",
      " 90   CONSUMPTION_KVAH               1168474 non-null  float64\n",
      " 91   BILLED_AMOUNT                  1362248 non-null  float64\n",
      " 92   MTR_EXCEP_CD                   16099 non-null    float64\n",
      " 93   MTR_NO_RECORDED                1246906 non-null  object \n",
      " 94   MTR_MAKE_RECORDED              1246987 non-null  object \n",
      " 95   MANUL_BILL_EXCEP               1173814 non-null  object \n",
      " 96   MTR_CONFIG_TY_CD               1335362 non-null  object \n",
      " 97   TOTAL_PAY_AMT                  173378 non-null   float64\n",
      " 98   PAYMENT_SRCE                   161810 non-null   object \n",
      " 99   MTR_RDR_AGENCY                 1237255 non-null  object \n",
      " 100  SS_NAME                        106006 non-null   object \n",
      " 101  SS_GIS_CODE                    106006 non-null   object \n",
      " 102  FEEDER_NAME                    106006 non-null   object \n",
      " 103  FEEDER_GIS_CODE                106006 non-null   object \n",
      " 104  DT_NAME                        115050 non-null   object \n",
      " 105  DT_GIS_ID                      106006 non-null   object \n",
      " 106  DT_GIS_CODE                    106006 non-null   object \n",
      " 107  NETWID                         52202 non-null    object \n",
      " 108  CONSUMER_BASE                  1512078 non-null  object \n",
      " 109  CONSUMER_BASE.1                1512078 non-null  object \n",
      " 110  FATHER_NAME                    1270235 non-null  object \n",
      " 111  VILLAGE_CODE                   944937 non-null   float64\n",
      " 112  VILLAGE_NAME                   19800 non-null    object \n",
      " 113  HABITAT_CODE                   944937 non-null   float64\n",
      " 114  HABITAT_NAME                   925045 non-null   object \n",
      " 115  DISTRICT                       1512077 non-null  object \n",
      " 116  TEMP_DISCON_DATE               26664 non-null    object \n",
      " 117  INOP_AMT                       94809 non-null    float64\n",
      "dtypes: float64(47), object(71)\n",
      "memory usage: 1.3+ GB\n"
     ]
    }
   ],
   "source": [
    "df.info(verbose = True,null_counts = True)\n"
   ]
  },
  {
   "cell_type": "code",
   "execution_count": 43,
   "id": "e489dcb2-a198-49ab-8823-f964d97d5ee7",
   "metadata": {
    "tags": []
   },
   "outputs": [],
   "source": [
    "# df =Division_Name(df)  "
   ]
  },
  {
   "cell_type": "code",
   "execution_count": 44,
   "id": "7146a1a6-2db0-498e-a1df-b95d556ac296",
   "metadata": {
    "tags": []
   },
   "outputs": [],
   "source": [
    "# # df[\"Division_Name\"].unique()\n",
    "# df = df[(df.bilable_flag == True) & (df.LPSC > 1) & (df.ots_vc.isin(['LMV2 And >3kwh', 'LMV4B', 'LMV5', 'LMV6']))]"
   ]
  },
  {
   "cell_type": "code",
   "execution_count": 45,
   "id": "c11dca91-bdb6-4c3c-b216-0d18835edaa3",
   "metadata": {
    "tags": []
   },
   "outputs": [],
   "source": [
    "# bifurcation(\"Division_Name\",'Division')   \n",
    "# \"Division_Name\"\n",
    "# \"Circle_Name\"\n"
   ]
  },
  {
   "cell_type": "code",
   "execution_count": 63,
   "id": "8fe6e499-1ff5-4b7e-8970-ba5c39bbee8a",
   "metadata": {
    "tags": []
   },
   "outputs": [
    {
     "ename": "TypeError",
     "evalue": "list indices must be integers or slices, not str",
     "output_type": "error",
     "traceback": [
      "\u001b[1;31m---------------------------------------------------------------------------\u001b[0m",
      "\u001b[1;31mTypeError\u001b[0m                                 Traceback (most recent call last)",
      "Cell \u001b[1;32mIn[63], line 1\u001b[0m\n\u001b[1;32m----> 1\u001b[0m df \u001b[38;5;241m=\u001b[39m \u001b[38;5;28mtype\u001b[39m(df)\n\u001b[0;32m      2\u001b[0m df \u001b[38;5;241m=\u001b[39m categories(df)\n\u001b[0;32m      3\u001b[0m df \u001b[38;5;241m=\u001b[39m new_cat(df)\n",
      "Cell \u001b[1;32mIn[54], line 2\u001b[0m, in \u001b[0;36mtype\u001b[1;34m(df)\u001b[0m\n\u001b[0;32m      1\u001b[0m \u001b[38;5;28;01mdef\u001b[39;00m \u001b[38;5;21mtype\u001b[39m(df):\n\u001b[1;32m----> 2\u001b[0m     df[\u001b[38;5;124m'\u001b[39m\u001b[38;5;124mLAST_PAY_DATE\u001b[39m\u001b[38;5;124m'\u001b[39m] \u001b[38;5;241m=\u001b[39m pd\u001b[38;5;241m.\u001b[39mto_datetime(df[\u001b[38;5;124m'\u001b[39m\u001b[38;5;124mLAST_PAY_DATE\u001b[39m\u001b[38;5;124m'\u001b[39m],dayfirst\u001b[38;5;241m=\u001b[39m\u001b[38;5;28;01mTrue\u001b[39;00m,errors \u001b[38;5;241m=\u001b[39m\u001b[38;5;124m'\u001b[39m\u001b[38;5;124mcoerce\u001b[39m\u001b[38;5;124m'\u001b[39m)\n\u001b[0;32m      3\u001b[0m     df[\u001b[38;5;124m'\u001b[39m\u001b[38;5;124mDOC\u001b[39m\u001b[38;5;124m'\u001b[39m] \u001b[38;5;241m=\u001b[39m pd\u001b[38;5;241m.\u001b[39mto_datetime(df[\u001b[38;5;124m'\u001b[39m\u001b[38;5;124mDOC\u001b[39m\u001b[38;5;124m'\u001b[39m],dayfirst\u001b[38;5;241m=\u001b[39m\u001b[38;5;28;01mTrue\u001b[39;00m,errors \u001b[38;5;241m=\u001b[39m\u001b[38;5;124m'\u001b[39m\u001b[38;5;124mcoerce\u001b[39m\u001b[38;5;124m'\u001b[39m)\n\u001b[0;32m      4\u001b[0m     df[\u001b[38;5;124m'\u001b[39m\u001b[38;5;124mLAST_BILL_DATE\u001b[39m\u001b[38;5;124m'\u001b[39m] \u001b[38;5;241m=\u001b[39m pd\u001b[38;5;241m.\u001b[39mto_datetime(df[\u001b[38;5;124m'\u001b[39m\u001b[38;5;124mLAST_BILL_DATE\u001b[39m\u001b[38;5;124m'\u001b[39m],dayfirst\u001b[38;5;241m=\u001b[39m\u001b[38;5;28;01mTrue\u001b[39;00m,errors \u001b[38;5;241m=\u001b[39m\u001b[38;5;124m'\u001b[39m\u001b[38;5;124mcoerce\u001b[39m\u001b[38;5;124m'\u001b[39m)\n",
      "\u001b[1;31mTypeError\u001b[0m: list indices must be integers or slices, not str"
     ]
    }
   ],
   "source": [
    "df = type(df)\n",
    "df = categories(df)\n",
    "df = new_cat(df)"
   ]
  },
  {
   "cell_type": "code",
   "execution_count": 62,
   "id": "3a1d2de3",
   "metadata": {},
   "outputs": [
    {
     "ename": "TypeError",
     "evalue": "list.insert() takes no keyword arguments",
     "output_type": "error",
     "traceback": [
      "\u001b[1;31m---------------------------------------------------------------------------\u001b[0m",
      "\u001b[1;31mTypeError\u001b[0m                                 Traceback (most recent call last)",
      "Cell \u001b[1;32mIn[62], line 1\u001b[0m\n\u001b[1;32m----> 1\u001b[0m df \u001b[38;5;241m=\u001b[39mDivision_Name(df)\n",
      "Cell \u001b[1;32mIn[51], line 5\u001b[0m, in \u001b[0;36mDivision_Name\u001b[1;34m(df)\u001b[0m\n\u001b[0;32m      1\u001b[0m \u001b[38;5;28;01mdef\u001b[39;00m \u001b[38;5;21mDivision_Name\u001b[39m(df):\n\u001b[0;32m      2\u001b[0m     \u001b[38;5;66;03m# df['LOAD'] = pd.to_numeric(df['LOAD'])   #,errors=\"coerce\"\u001b[39;00m\n\u001b[0;32m      3\u001b[0m     \n\u001b[0;32m      4\u001b[0m     \u001b[38;5;66;03m# df['Circle_Name'] = None\u001b[39;00m\n\u001b[1;32m----> 5\u001b[0m     df\u001b[38;5;241m.\u001b[39minsert(loc\u001b[38;5;241m=\u001b[39m\u001b[38;5;241m0\u001b[39m, column\u001b[38;5;241m=\u001b[39m\u001b[38;5;124m\"\u001b[39m\u001b[38;5;124mCircle_Name\u001b[39m\u001b[38;5;124m\"\u001b[39m, value\u001b[38;5;241m=\u001b[39m\u001b[38;5;28;01mNone\u001b[39;00m)\n\u001b[0;32m      6\u001b[0m     \u001b[38;5;66;03m# df['Division_Name'] = None\u001b[39;00m\n\u001b[0;32m      7\u001b[0m     df\u001b[38;5;241m.\u001b[39minsert(loc\u001b[38;5;241m=\u001b[39m\u001b[38;5;241m1\u001b[39m, column\u001b[38;5;241m=\u001b[39m\u001b[38;5;124m\"\u001b[39m\u001b[38;5;124mDivision_Name\u001b[39m\u001b[38;5;124m\"\u001b[39m, value\u001b[38;5;241m=\u001b[39m\u001b[38;5;28;01mNone\u001b[39;00m)\n",
      "\u001b[1;31mTypeError\u001b[0m: list.insert() takes no keyword arguments"
     ]
    }
   ],
   "source": [
    "df =Division_Name(df)"
   ]
  },
  {
   "cell_type": "code",
   "execution_count": 46,
   "id": "2a8d61ea-2f7a-46f3-a5ec-91fe124e7f62",
   "metadata": {
    "tags": []
   },
   "outputs": [
    {
     "data": {
      "text/plain": [
       "In Service       1169264\n",
       "PD                169250\n",
       "TD                150200\n",
       "TD Migrated         8411\n",
       "TD >6 MONTHS        6946\n",
       "NC Reject           4202\n",
       "Null                1677\n",
       "PD Initiated        1403\n",
       "NC Pending           392\n",
       "COT                  258\n",
       "REJECTED              60\n",
       "SB                    12\n",
       "COT Initiated          3\n",
       "Name: CON_STATUS, dtype: int64"
      ]
     },
     "execution_count": 46,
     "metadata": {},
     "output_type": "execute_result"
    }
   ],
   "source": [
    "df['CON_STATUS'].value_counts()"
   ]
  },
  {
   "cell_type": "code",
   "execution_count": 47,
   "id": "fb7433d4-9c6b-4166-9771-8dd03fafdec2",
   "metadata": {
    "tags": []
   },
   "outputs": [
    {
     "data": {
      "text/plain": [
       "(1512078, 118)"
      ]
     },
     "execution_count": 47,
     "metadata": {},
     "output_type": "execute_result"
    }
   ],
   "source": [
    "df.shape"
   ]
  },
  {
   "cell_type": "code",
   "execution_count": 40,
   "id": "65d81e60-6d76-4917-ab73-d741afa9d1c8",
   "metadata": {
    "tags": []
   },
   "outputs": [],
   "source": [
    "column =list(df.columns)"
   ]
  },
  {
   "cell_type": "code",
   "execution_count": 41,
   "id": "1ac9e01a-bfea-4b2a-bf81-80970f8d389f",
   "metadata": {
    "tags": []
   },
   "outputs": [
    {
     "data": {
      "text/plain": [
       "['Circle_Name',\n",
       " 'Division_Name',\n",
       " 'DIV_CODE',\n",
       " 'SDO_CODE',\n",
       " 'ACCT_ID',\n",
       " 'KNO',\n",
       " 'MOBILE_NO',\n",
       " 'LANDLINE_NO',\n",
       " 'BOOK_NO',\n",
       " 'SCNO',\n",
       " 'NAME',\n",
       " 'ADDRESS',\n",
       " 'SUPPLY_TYPE',\n",
       " 'LOAD',\n",
       " 'LOAD_UNIT',\n",
       " 'DOC',\n",
       " 'SECURITY_AMT',\n",
       " 'CON_STATUS',\n",
       " 'SERIAL_NBR',\n",
       " 'MULTIPLY_FACTOR',\n",
       " 'METER_STATUS',\n",
       " 'LAST_BILL_DATE',\n",
       " 'CLOSE_READING',\n",
       " 'MDI',\n",
       " 'BILL_BASIS',\n",
       " 'BILL_TYP',\n",
       " 'CONSUMPTION_CURR_MNTH',\n",
       " 'CONSUMPTION_PREV_MNTH',\n",
       " 'CONSUMPTION_PREV_TO_PREV_MNTH',\n",
       " 'ARREAR',\n",
       " 'LPSC',\n",
       " 'CURRENT_ASSESSMENT',\n",
       " 'CURRENT_CYCLE_LPSC',\n",
       " 'TOTAL_OUTSTANDING',\n",
       " 'DUE_DATE_REBATE',\n",
       " 'LAST_OK_READING',\n",
       " 'LAST_OK_READ_STATUS',\n",
       " 'METER_READ_FLTY_CNT',\n",
       " 'LAST_PAY_AMT',\n",
       " 'LAST_PAY_DATE',\n",
       " 'SUBSTATION',\n",
       " 'FEEDER',\n",
       " 'DT',\n",
       " 'POLE_NO',\n",
       " 'OPR_FLG',\n",
       " 'BILL_AFTER_DATE',\n",
       " 'METER_READ_REMARK',\n",
       " 'INSTALLATION_DATE',\n",
       " 'SBM_BILL_DATE',\n",
       " 'SBM_MACHINE_ID',\n",
       " 'BILL_CYC_CD',\n",
       " 'TOWN',\n",
       " 'SERVICE_CYC_CD',\n",
       " 'CT_RATIO',\n",
       " 'PT_RATIO',\n",
       " 'EC',\n",
       " 'FC',\n",
       " 'REBATES',\n",
       " 'MIN_CHARGES',\n",
       " 'FUEL_SURCHARGE',\n",
       " 'DEMAND_AMT',\n",
       " 'LTMETERING_CHARGES',\n",
       " 'CAP_CHARGES',\n",
       " 'REG_SURCHARGE',\n",
       " 'REG_SURCHARGE_2',\n",
       " 'ELECTRICITY_DUTY',\n",
       " 'TARIFF_ADJUSTMENTS',\n",
       " 'PROV_ADJUSTMENTS',\n",
       " 'CA_ABR',\n",
       " 'INF_BILL',\n",
       " 'MR_SOURCE_CD',\n",
       " 'HEALTHY_CONSUMER_FLAG',\n",
       " 'METER_BADGE_NO',\n",
       " 'MTR_MAKE',\n",
       " 'CONNECTION_TYPE',\n",
       " 'LOOMS_GRTRTHN_60',\n",
       " 'LOOMS_LESSTHN_60',\n",
       " 'SUPPLY_VOLTAGE',\n",
       " 'METER_VOLTAGE',\n",
       " 'MTR_TYPE_CD',\n",
       " 'LATITUDE',\n",
       " 'LONGTIUDE',\n",
       " 'INDUSTRIAL_FLAG',\n",
       " 'ACCT_INFLALTED_FLAG',\n",
       " 'GOVT_CODE',\n",
       " 'OPENING_READING_KWH',\n",
       " 'OPENING_READING_KVAH',\n",
       " 'OPENING_READING_DATE',\n",
       " 'CLOSING_READING_KWH',\n",
       " 'CLOSING_READING_KVAH',\n",
       " 'CLOSING_READING_DATE',\n",
       " 'CONSUMPTION_KWH',\n",
       " 'CONSUMPTION_KVAH',\n",
       " 'BILLED_AMOUNT',\n",
       " 'MTR_EXCEP_CD',\n",
       " 'MTR_NO_RECORDED',\n",
       " 'MTR_MAKE_RECORDED',\n",
       " 'MANUL_BILL_EXCEP',\n",
       " 'MTR_CONFIG_TY_CD',\n",
       " 'TOTAL_PAY_AMT',\n",
       " 'PAYMENT_SRCE',\n",
       " 'MTR_RDR_AGENCY',\n",
       " 'SS_NAME',\n",
       " 'SS_GIS_CODE',\n",
       " 'FEEDER_NAME',\n",
       " 'FEEDER_GIS_CODE',\n",
       " 'DT_NAME',\n",
       " 'DT_GIS_ID',\n",
       " 'DT_GIS_CODE',\n",
       " 'NETWID',\n",
       " 'CONSUMER_BASE',\n",
       " 'CONSUMER_BASE.1',\n",
       " 'FATHER_NAME',\n",
       " 'VILLAGE_CODE',\n",
       " 'VILLAGE_NAME',\n",
       " 'HABITAT_CODE',\n",
       " 'HABITAT_NAME',\n",
       " 'DISTRICT',\n",
       " 'TEMP_DISCON_DATE',\n",
       " 'INOP_AMT',\n",
       " 'new_cat',\n",
       " 'Cat']"
      ]
     },
     "execution_count": 41,
     "metadata": {},
     "output_type": "execute_result"
    }
   ],
   "source": [
    "column"
   ]
  },
  {
   "cell_type": "code",
   "execution_count": 33,
   "id": "7bfc348a-a71c-4c8d-9544-3c35bfdd009b",
   "metadata": {
    "tags": []
   },
   "outputs": [],
   "source": [
    "im_col = ['DIV_CODE',\n",
    " 'SDO_CODE',\n",
    "          'SUBSTATION',\n",
    "          'FEEDER',\n",
    " 'ACCT_ID',\n",
    " 'KNO',\n",
    "          \n",
    "    \n",
    "          'NAME',\n",
    "          'ADDRESS',\n",
    "          'MOBILE_NO',\n",
    "          'SUPPLY_TYPE',\n",
    "          'CONSUMPTION_CURR_MNTH',\n",
    "          'CONSUMPTION_PREV_MNTH',\n",
    "          'DOC',\n",
    "          'BILL_BASIS',\n",
    "          'METER_STATUS',\n",
    "          'METER_READ_REMARK',\n",
    "          'BILL_TYP',\n",
    "          'SBM_MACHINE_ID',\n",
    "          'CON_STATUS',\n",
    "          'LOAD',\n",
    "           'MDI',\n",
    "\n",
    "          'ARREAR',\n",
    "          'CURRENT_ASSESSMENT',\n",
    "          'TOTAL_OUTSTANDING',\n",
    "          'LPSC',\n",
    "          'LAST_OK_READING',\n",
    "          'LAST_OK_READ_STATUS',\n",
    "          'METER_READ_FLTY_CNT',\n",
    "          'LAST_PAY_AMT',\n",
    "          'LAST_PAY_DATE',\n",
    "          'INDUSTRIAL_FLAG',\n",
    "          'ACCT_INFLALTED_FLAG',\n",
    "          'GOVT_CODE',\n",
    "          'LAST_BILL_DATE',\n",
    "          'PAYMENT_SRCE',\n",
    "          'TOTAL_PAY_AMT',\n",
    "         'CONSUMER_BASE']"
   ]
  },
  {
   "cell_type": "code",
   "execution_count": 34,
   "id": "16428afb-7df2-44d6-abf8-e6a1213db949",
   "metadata": {
    "tags": []
   },
   "outputs": [],
   "source": [
    "df = df[im_col]"
   ]
  },
  {
   "cell_type": "code",
   "execution_count": 87,
   "id": "8809f556-1c79-4090-bc09-666fe4c17fd1",
   "metadata": {
    "tags": []
   },
   "outputs": [],
   "source": [
    "df.dropna(subset = ['ACCT_ID'], inplace=True)"
   ]
  },
  {
   "cell_type": "code",
   "execution_count": null,
   "id": "8e57a1eb-4688-41ce-878b-a22241f8ff0e",
   "metadata": {
    "tags": []
   },
   "outputs": [],
   "source": []
  },
  {
   "cell_type": "code",
   "execution_count": 36,
   "id": "67164229-dba9-4746-b992-4a95cf542018",
   "metadata": {
    "tags": []
   },
   "outputs": [
    {
     "name": "stderr",
     "output_type": "stream",
     "text": [
      "C:\\Users\\HP\\AppData\\Local\\Temp\\ipykernel_25624\\2198998957.py:7: FutureWarning: The default value of regex will change from True to False in a future version.\n",
      "  df['SUPPLY_TYPE'] = df['SUPPLY_TYPE'].astype(str).str.replace('\\\\.0+$', '')\n",
      "C:\\Users\\HP\\AppData\\Local\\Temp\\ipykernel_25624\\1802877464.py:8: FutureWarning: The default value of regex will change from True to False in a future version.\n",
      "  df['SUPPLY_TYPE'] = df['SUPPLY_TYPE'].astype(str).str.replace('\\\\.0+$', '')\n"
     ]
    }
   ],
   "source": [
    "df = type(df)\n",
    "df = unpaid(df)\n",
    "df=Neverpaid(df)\n",
    "df = NonGOVT(df)\n",
    "# df = relGov(df)\n",
    "# df = faulty_Ageing(df)\n",
    "df = billable(df)\n",
    "# graph_VC(df)\n",
    "# df = MDI_filter(df)\n",
    "\n",
    "# df = low_consumtion_filter(df)\n",
    "# df = arrear(df)\n",
    "df = categories(df)\n",
    "df = ots(df)\n",
    "df = arrear(df)\n",
    "df=CatLoad(df)\n",
    "df=Cat_VC(df)\n",
    "df=graph_VC(df)\n",
    "df =Division_Name(df)\n",
    "df=paid_arrear(df)\n",
    "df = conection_month(df)"
   ]
  },
  {
   "cell_type": "code",
   "execution_count": 37,
   "id": "4a1dbdaf-95da-4d34-824e-dd8cd20271dd",
   "metadata": {
    "tags": []
   },
   "outputs": [],
   "source": [
    "df = rdf_cat(df)"
   ]
  },
  {
   "cell_type": "code",
   "execution_count": 82,
   "id": "a024ce4d-a277-4d35-85bf-8d8f37e7ad4e",
   "metadata": {
    "tags": []
   },
   "outputs": [],
   "source": [
    "# df=paid_arrear(df)"
   ]
  },
  {
   "cell_type": "code",
   "execution_count": 38,
   "id": "00429079-a971-439d-9f6c-38ae1308dfe3",
   "metadata": {
    "tags": []
   },
   "outputs": [],
   "source": [
    "# df=CatLoad(df)"
   ]
  },
  {
   "cell_type": "code",
   "execution_count": 39,
   "id": "0253f0e1-bc13-4996-926b-bb7fe1b6b89b",
   "metadata": {
    "tags": []
   },
   "outputs": [],
   "source": [
    "df['PAYMENT_SRCE']=df['PAYMENT_SRCE'].str.strip()"
   ]
  },
  {
   "cell_type": "code",
   "execution_count": 2,
   "id": "c0427c45-f752-4347-84dd-04da02a4c0b9",
   "metadata": {
    "tags": []
   },
   "outputs": [
    {
     "ename": "NameError",
     "evalue": "name 'df' is not defined",
     "output_type": "error",
     "traceback": [
      "\u001b[1;31m---------------------------------------------------------------------------\u001b[0m",
      "\u001b[1;31mNameError\u001b[0m                                 Traceback (most recent call last)",
      "Cell \u001b[1;32mIn[2], line 3\u001b[0m\n\u001b[0;32m      1\u001b[0m \u001b[38;5;66;03m# df=Cat_VC(df)\u001b[39;00m\n\u001b[1;32m----> 3\u001b[0m df\u001b[38;5;241m.\u001b[39mPAYMENT_SRCE\u001b[38;5;241m.\u001b[39mvalue_counts()\n",
      "\u001b[1;31mNameError\u001b[0m: name 'df' is not defined"
     ]
    }
   ],
   "source": [
    "# df=Cat_VC(df)\n",
    "\n",
    "df.PAYMENT_SRCE.value_counts()"
   ]
  },
  {
   "cell_type": "code",
   "execution_count": 3,
   "id": "04d7eee8-804d-485d-9348-60bf36a9c408",
   "metadata": {
    "tags": []
   },
   "outputs": [
    {
     "ename": "NameError",
     "evalue": "name 'df' is not defined",
     "output_type": "error",
     "traceback": [
      "\u001b[1;31m---------------------------------------------------------------------------\u001b[0m",
      "\u001b[1;31mNameError\u001b[0m                                 Traceback (most recent call last)",
      "Cell \u001b[1;32mIn[3], line 1\u001b[0m\n\u001b[1;32m----> 1\u001b[0m df\u001b[38;5;241m.\u001b[39mcolumns\n",
      "\u001b[1;31mNameError\u001b[0m: name 'df' is not defined"
     ]
    }
   ],
   "source": [
    "df.columns"
   ]
  },
  {
   "cell_type": "code",
   "execution_count": 42,
   "id": "98998aa9-6119-474c-92bf-f8e0eeb83ab5",
   "metadata": {
    "tags": []
   },
   "outputs": [],
   "source": [
    "# df = df[(df.bilable_flag==True) & (df.ots_vc.notna())]"
   ]
  },
  {
   "cell_type": "code",
   "execution_count": 43,
   "id": "b88f7ab0-83ff-4c70-88fd-56738ad072b0",
   "metadata": {
    "tags": []
   },
   "outputs": [],
   "source": [
    "# df = df[df['TOTAL_OUTSTANDING'] >= 50000]"
   ]
  },
  {
   "cell_type": "code",
   "execution_count": 47,
   "id": "0b51be90-e9e4-4a9a-9929-b7fdff0f32b2",
   "metadata": {},
   "outputs": [],
   "source": [
    "div_connection=df[(df.bilable_flag == True)].pivot_table(index=['Circle_Name','Division_Name'], columns=['conection_month'],values=['ACCT_ID','LOAD'],\n",
    "                    aggfunc={'ACCT_ID':'count','LOAD':np.sum},fill_value=0 )\n"
   ]
  },
  {
   "cell_type": "code",
   "execution_count": 88,
   "id": "4e9de0e0-9726-4fa4-ba63-83b47b768e41",
   "metadata": {},
   "outputs": [],
   "source": [
    "\n"
   ]
  },
  {
   "cell_type": "code",
   "execution_count": 88,
   "id": "29e6fb4d-73c7-4273-ae49-14210d42e3c2",
   "metadata": {},
   "outputs": [],
   "source": [
    "\n"
   ]
  },
  {
   "cell_type": "code",
   "execution_count": 88,
   "id": "ba57a8af-3d37-484f-9c75-f07981027446",
   "metadata": {},
   "outputs": [],
   "source": []
  },
  {
   "cell_type": "code",
   "execution_count": 91,
   "id": "d3f24c17-e6ee-470d-9c4d-5cef80c000fd",
   "metadata": {},
   "outputs": [],
   "source": [
    "div_connection.to_excel(f\"nov2023/{circle}/report/{circle}_{month}_connection_aug.xlsx\")"
   ]
  },
  {
   "cell_type": "code",
   "execution_count": 74,
   "id": "367c9ba5-87e2-4cac-a103-ea08344d60db",
   "metadata": {
    "tags": []
   },
   "outputs": [],
   "source": [
    "cat = [\"LMV2\",\"LMV4A\",\"LMV4B\",\"LMV6\"]\n",
    "div_bill246=df[(df.Cat.isin(cat)) & (df.bilable_flag==True)].pivot_table(index=['Circle_Name','Division_Name'],columns=[\"Cat\"],values=['ACCT_ID'],\n",
    "                    aggfunc={'ACCT_ID':'count'},fill_value=0 )\n",
    "div_bill246.to_excel(f\"{month}/{circle}/report/{circle}_{month}_246.xlsx\")"
   ]
  },
  {
   "cell_type": "code",
   "execution_count": 48,
   "id": "59c9fdcb",
   "metadata": {},
   "outputs": [],
   "source": [
    "cat = [\"LMV9\"]\n",
    "div_bill9=df[(df.Cat.isin(cat)) & (df.bilable_flag==True)].pivot_table(index=['Circle_Name','Division_Name','CON_STATUS'],columns=[\"Cat\"],values=['ACCT_ID','CURRENT_ASSESSMENT','TOTAL_OUTSTANDING','TOTAL_PAY_AMT','paid_status'],\n",
    "                    aggfunc={'ACCT_ID':'count','CURRENT_ASSESSMENT':np.sum,'TOTAL_OUTSTANDING':np.sum,'TOTAL_PAY_AMT':np.sum,'paid_status':np.sum},fill_value=0 )\n",
    "div_bill9.to_excel(f\"{month}/{circle}/report/{circle}_{month}_9_2.xlsx\")"
   ]
  },
  {
   "cell_type": "code",
   "execution_count": 42,
   "id": "aa59ef9c-c85d-464e-9aa2-c88e66eadd7b",
   "metadata": {
    "tags": []
   },
   "outputs": [],
   "source": [
    "# cat = ['LMV1', 'LMV2', 'LMV6', 'LMV8', 'LMV10', 'LMV9',\n",
    "#        'LMV5', 'HV2', 'HV1', 'LMV4A', 'HV4']\n",
    "# # cat=['LMV4A']\n",
    "cat = [\"LMV2,LMV4B,LMV6\",\"LMV1(3-9kw)\",\"great than 10kw\"]"
   ]
  },
  {
   "cell_type": "code",
   "execution_count": 49,
   "id": "8e1b80a7-d42e-493c-b9f1-8b102d40e2d8",
   "metadata": {
    "tags": []
   },
   "outputs": [],
   "source": [
    "# div_payment_4a_nov = df[((df.paid_status == 1)&(df.Cat.isin(cat)))].pivot_table(\n",
    "#     index=['LAST_PAY_DATE'], columns=['Circle_Name', 'Division_Name'], values=['TOTAL_PAY_AMT'],\n",
    "#     aggfunc={'TOTAL_PAY_AMT': np.sum}, fill_value=0\n",
    "# )"
   ]
  },
  {
   "cell_type": "code",
   "execution_count": null,
   "id": "10fdd888-7f8a-43a1-800a-ecb3ad4262ce",
   "metadata": {},
   "outputs": [],
   "source": [
    "div_payment_4a_nov = df[((df.paid_status == 1)&(df.Cat.isin(cat)))].pivot_table(\n",
    "    index=['LAST_PAY_DATE'], columns=['Circle_Name', 'Division_Name'], values=['TOTAL_PAY_AMT'],\n",
    "    aggfunc={'TOTAL_PAY_AMT': np.sum}, fill_value=0\n",
    ")"
   ]
  },
  {
   "cell_type": "code",
   "execution_count": 44,
   "id": "c7b16650-2934-4260-af0a-def14c776c19",
   "metadata": {
    "tags": []
   },
   "outputs": [],
   "source": [
    "div_sub = df[df.bilable_flag == True].pivot_table(\n",
    "    index=['Circle_Name', 'Division_Name','SDO_CODE','SUBSTATION'], values=['ACCT_ID'],\n",
    "    aggfunc={'ACCT_ID':'count'}, fill_value=0\n",
    ")"
   ]
  },
  {
   "cell_type": "code",
   "execution_count": 49,
   "id": "f9c950cf-8f63-4768-a437-f4c81d48c740",
   "metadata": {
    "tags": []
   },
   "outputs": [],
   "source": [
    "rdf_div=df[(df.bilable_flag == True) &(df.METER_READ_REMARK== 'RDF')].pivot_table(index=['Circle_Name','Division_Name'],columns=['rdf_cat','CON_STATUS'],values=['ACCT_ID'],\n",
    "                    aggfunc={'ACCT_ID':'count'},fill_value=0,margins=True,margins_name='Total' )"
   ]
  },
  {
   "cell_type": "code",
   "execution_count": 50,
   "id": "cc4b1d36-fda6-44bd-b756-9e104d1d30e0",
   "metadata": {
    "tags": []
   },
   "outputs": [],
   "source": [
    "idf_div=df[(df.bilable_flag == True) &(df.METER_READ_REMARK== 'IDF')].pivot_table(index=['Circle_Name','Division_Name'],columns=['rdf_cat','CON_STATUS'],values=['ACCT_ID'],\n",
    "                    aggfunc={'ACCT_ID':'count'},fill_value=0,margins=True,margins_name='Total' )"
   ]
  },
  {
   "cell_type": "code",
   "execution_count": 48,
   "id": "03b7ac5c-e310-4b25-9caa-19dbaaa94bd3",
   "metadata": {
    "tags": []
   },
   "outputs": [],
   "source": [
    "rdf_list = df[(df.bilable_flag == True) &(df.METER_READ_REMARK== 'RDF')&(df.rdf_cat.isin(cat))]"
   ]
  },
  {
   "cell_type": "code",
   "execution_count": 49,
   "id": "0a4ff7d5-571f-4496-9579-1235f320e5e3",
   "metadata": {
    "tags": []
   },
   "outputs": [],
   "source": [
    "idf_list = df[(df.bilable_flag == True) &(df.METER_READ_REMARK== 'IDF')&(df.rdf_cat.isin(cat))]"
   ]
  },
  {
   "cell_type": "code",
   "execution_count": 50,
   "id": "480fc6c4-2116-4382-aaeb-90e0dbf42f55",
   "metadata": {
    "tags": []
   },
   "outputs": [],
   "source": [
    "div_payment_4a_nov.to_excel(f\"{month}/{circle}/report/{circle}_{month}_4a_payment.xlsx\")"
   ]
  },
  {
   "cell_type": "code",
   "execution_count": 45,
   "id": "12f00b5e-f5c8-4b2f-95be-fef0ec2ca8ec",
   "metadata": {
    "tags": []
   },
   "outputs": [
    {
     "ename": "NameError",
     "evalue": "name 'rdf_div' is not defined",
     "output_type": "error",
     "traceback": [
      "\u001b[1;31m---------------------------------------------------------------------------\u001b[0m",
      "\u001b[1;31mNameError\u001b[0m                                 Traceback (most recent call last)",
      "Cell \u001b[1;32mIn[45], line 1\u001b[0m\n\u001b[1;32m----> 1\u001b[0m rdf_div\u001b[38;5;241m.\u001b[39mto_excel(\u001b[38;5;124mf\u001b[39m\u001b[38;5;124m\"\u001b[39m\u001b[38;5;132;01m{\u001b[39;00mmonth\u001b[38;5;132;01m}\u001b[39;00m\u001b[38;5;124m/\u001b[39m\u001b[38;5;132;01m{\u001b[39;00mcircle\u001b[38;5;132;01m}\u001b[39;00m\u001b[38;5;124m/report/\u001b[39m\u001b[38;5;132;01m{\u001b[39;00mcircle\u001b[38;5;132;01m}\u001b[39;00m\u001b[38;5;124m_\u001b[39m\u001b[38;5;132;01m{\u001b[39;00mmonth\u001b[38;5;132;01m}\u001b[39;00m\u001b[38;5;124m_rdf_list.xlsx\u001b[39m\u001b[38;5;124m\"\u001b[39m)\n",
      "\u001b[1;31mNameError\u001b[0m: name 'rdf_div' is not defined"
     ]
    }
   ],
   "source": [
    "rdf_div.to_excel(f\"{month}/{circle}/report/{circle}_{month}_rdf.xlsx\")"
   ]
  },
  {
   "cell_type": "code",
   "execution_count": 45,
   "id": "4a54b6fd-c3a3-44c6-9d5a-30e2791e4c08",
   "metadata": {
    "tags": []
   },
   "outputs": [],
   "source": [
    "div_sub.to_excel(f\"{month}/{circle}/report/{circle}_{month}_sub.xlsx\")"
   ]
  },
  {
   "cell_type": "code",
   "execution_count": 50,
   "id": "314ed596-d57d-4fac-91be-fc84c17743c1",
   "metadata": {
    "tags": []
   },
   "outputs": [],
   "source": [
    "rdf_list.to_excel(f\"{month}/{circle}/report/{circle}_{month}_rdf_list.xlsx\")"
   ]
  },
  {
   "cell_type": "code",
   "execution_count": null,
   "id": "19633dda-ed55-4cad-be89-f22e5e4b9135",
   "metadata": {
    "tags": []
   },
   "outputs": [],
   "source": [
    "idf_div.to_excel(f\"{month}/{circle}/report/{circle}_{month}_idf.xlsx\")"
   ]
  },
  {
   "cell_type": "code",
   "execution_count": 51,
   "id": "f72a5de5-b4ad-4493-8052-ba0714311801",
   "metadata": {
    "tags": []
   },
   "outputs": [],
   "source": [
    "idf_list.to_excel(f\"{month}/{circle}/report/{circle}_{month}_idf_list.xlsx\")"
   ]
  },
  {
   "cell_type": "code",
   "execution_count": null,
   "id": "af595158-2674-44b6-a7f4-1119f55d34a2",
   "metadata": {},
   "outputs": [],
   "source": []
  },
  {
   "cell_type": "code",
   "execution_count": 132,
   "id": "9cb26f28-da92-4a81-bf1b-5070d839afe2",
   "metadata": {
    "tags": []
   },
   "outputs": [
    {
     "ename": "ValueError",
     "evalue": "cannot insert Circle_Name, already exists",
     "output_type": "error",
     "traceback": [
      "\u001b[1;31m---------------------------------------------------------------------------\u001b[0m",
      "\u001b[1;31mValueError\u001b[0m                                Traceback (most recent call last)",
      "Cell \u001b[1;32mIn[132], line 1\u001b[0m\n\u001b[1;32m----> 1\u001b[0m df \u001b[38;5;241m=\u001b[39mDivision_Name(df)\n",
      "Cell \u001b[1;32mIn[65], line 5\u001b[0m, in \u001b[0;36mDivision_Name\u001b[1;34m(df)\u001b[0m\n\u001b[0;32m      1\u001b[0m \u001b[38;5;28;01mdef\u001b[39;00m \u001b[38;5;21mDivision_Name\u001b[39m(df):\n\u001b[0;32m      2\u001b[0m     \u001b[38;5;66;03m# df['LOAD'] = pd.to_numeric(df['LOAD'])   #,errors=\"coerce\"\u001b[39;00m\n\u001b[0;32m      3\u001b[0m     \n\u001b[0;32m      4\u001b[0m     \u001b[38;5;66;03m# df['Circle_Name'] = None\u001b[39;00m\n\u001b[1;32m----> 5\u001b[0m     df\u001b[38;5;241m.\u001b[39minsert(loc\u001b[38;5;241m=\u001b[39m\u001b[38;5;241m0\u001b[39m, column\u001b[38;5;241m=\u001b[39m\u001b[38;5;124m\"\u001b[39m\u001b[38;5;124mCircle_Name\u001b[39m\u001b[38;5;124m\"\u001b[39m, value\u001b[38;5;241m=\u001b[39m\u001b[38;5;28;01mNone\u001b[39;00m)\n\u001b[0;32m      6\u001b[0m     \u001b[38;5;66;03m# df['Division_Name'] = None\u001b[39;00m\n\u001b[0;32m      7\u001b[0m     df\u001b[38;5;241m.\u001b[39minsert(loc\u001b[38;5;241m=\u001b[39m\u001b[38;5;241m1\u001b[39m, column\u001b[38;5;241m=\u001b[39m\u001b[38;5;124m\"\u001b[39m\u001b[38;5;124mDivision_Name\u001b[39m\u001b[38;5;124m\"\u001b[39m, value\u001b[38;5;241m=\u001b[39m\u001b[38;5;28;01mNone\u001b[39;00m)\n",
      "File \u001b[1;32m~\\anaconda3\\Lib\\site-packages\\pandas\\core\\frame.py:4817\u001b[0m, in \u001b[0;36mDataFrame.insert\u001b[1;34m(self, loc, column, value, allow_duplicates)\u001b[0m\n\u001b[0;32m   4811\u001b[0m     \u001b[38;5;28;01mraise\u001b[39;00m \u001b[38;5;167;01mValueError\u001b[39;00m(\n\u001b[0;32m   4812\u001b[0m         \u001b[38;5;124m\"\u001b[39m\u001b[38;5;124mCannot specify \u001b[39m\u001b[38;5;124m'\u001b[39m\u001b[38;5;124mallow_duplicates=True\u001b[39m\u001b[38;5;124m'\u001b[39m\u001b[38;5;124m when \u001b[39m\u001b[38;5;124m\"\u001b[39m\n\u001b[0;32m   4813\u001b[0m         \u001b[38;5;124m\"\u001b[39m\u001b[38;5;124m'\u001b[39m\u001b[38;5;124mself.flags.allows_duplicate_labels\u001b[39m\u001b[38;5;124m'\u001b[39m\u001b[38;5;124m is False.\u001b[39m\u001b[38;5;124m\"\u001b[39m\n\u001b[0;32m   4814\u001b[0m     )\n\u001b[0;32m   4815\u001b[0m \u001b[38;5;28;01mif\u001b[39;00m \u001b[38;5;129;01mnot\u001b[39;00m allow_duplicates \u001b[38;5;129;01mand\u001b[39;00m column \u001b[38;5;129;01min\u001b[39;00m \u001b[38;5;28mself\u001b[39m\u001b[38;5;241m.\u001b[39mcolumns:\n\u001b[0;32m   4816\u001b[0m     \u001b[38;5;66;03m# Should this be a different kind of error??\u001b[39;00m\n\u001b[1;32m-> 4817\u001b[0m     \u001b[38;5;28;01mraise\u001b[39;00m \u001b[38;5;167;01mValueError\u001b[39;00m(\u001b[38;5;124mf\u001b[39m\u001b[38;5;124m\"\u001b[39m\u001b[38;5;124mcannot insert \u001b[39m\u001b[38;5;132;01m{\u001b[39;00mcolumn\u001b[38;5;132;01m}\u001b[39;00m\u001b[38;5;124m, already exists\u001b[39m\u001b[38;5;124m\"\u001b[39m)\n\u001b[0;32m   4818\u001b[0m \u001b[38;5;28;01mif\u001b[39;00m \u001b[38;5;129;01mnot\u001b[39;00m \u001b[38;5;28misinstance\u001b[39m(loc, \u001b[38;5;28mint\u001b[39m):\n\u001b[0;32m   4819\u001b[0m     \u001b[38;5;28;01mraise\u001b[39;00m \u001b[38;5;167;01mTypeError\u001b[39;00m(\u001b[38;5;124m\"\u001b[39m\u001b[38;5;124mloc must be int\u001b[39m\u001b[38;5;124m\"\u001b[39m)\n",
      "\u001b[1;31mValueError\u001b[0m: cannot insert Circle_Name, already exists"
     ]
    }
   ],
   "source": [
    "# # df =Division_Name(df)\n",
    "#     df['LOAD'] = pd.to_numeric(df['LOAD'])   #,errors=\"coerce\"\n",
    "#     df['LOAD_FILTER'] = None\n",
    "#     df.loc[df['LOAD'] < 5,\"LOAD_FILTER\"] = \"1-5kw\"\n",
    "#     df.loc[((df['LOAD'] >= 5) & (df['LOAD'] < 10)),\"LOAD_FILTER\"] = \"5-9kw\"\n",
    "#     df.loc[df['LOAD'] >= 10,\"LOAD_FILTER\"] = \"great than 10kw\""
   ]
  },
  {
   "cell_type": "code",
   "execution_count": 42,
   "id": "f8ad9b1a-3e30-4ded-8886-246e73aed5ae",
   "metadata": {
    "tags": []
   },
   "outputs": [],
   "source": [
    "# df1=df[df['LOAD_FILTER']=='great than 10kw']"
   ]
  },
  {
   "cell_type": "code",
   "execution_count": 33,
   "id": "2b7d9d5d-f783-4e7e-acfc-f84656c769b9",
   "metadata": {
    "tags": []
   },
   "outputs": [
    {
     "data": {
      "text/plain": [
       "Circle_Name                                       object\n",
       "Division_Name                                     object\n",
       "DIV_CODE                                          object\n",
       "SDO_CODE                                          object\n",
       "ACCT_ID                                           object\n",
       "KNO                                               object\n",
       "MOBILE_NO                                         object\n",
       "LANDLINE_NO                                       object\n",
       "BOOK_NO                                           object\n",
       "SCNO                                              object\n",
       "NAME                                              object\n",
       "ADDRESS                                           object\n",
       "SUPPLY_TYPE                                       object\n",
       "LOAD                                             float64\n",
       "LOAD_UNIT                                         object\n",
       "DOC                                       datetime64[ns]\n",
       "SECURITY_AMT                                     float64\n",
       "CON_STATUS                                        object\n",
       "SERIAL_NBR                                        object\n",
       "MULTIPLY_FACTOR                                   object\n",
       "METER_STATUS                                      object\n",
       "LAST_BILL_DATE                            datetime64[ns]\n",
       "CLOSE_READING                                    float64\n",
       "MDI                                              float64\n",
       "BILL_BASIS                                        object\n",
       "BILL_TYP                                          object\n",
       "CONSUMPTION_CURR_MNTH                            float64\n",
       "CONSUMPTION_PREV_MNTH                            float64\n",
       "CONSUMPTION_PREV_TO_PREV_MNTH                    float64\n",
       "ARREAR                                           float64\n",
       "LPSC                                             float64\n",
       "CURRENT_ASSESSMENT                               float64\n",
       "CURRENT_CYCLE_LPSC                               float64\n",
       "TOTAL_OUTSTANDING                                float64\n",
       "DUE_DATE_REBATE                                  float64\n",
       "LAST_OK_READING                                  float64\n",
       "LAST_OK_READ_STATUS                       datetime64[ns]\n",
       "METER_READ_FLTY_CNT                              float64\n",
       "LAST_PAY_AMT                                     float64\n",
       "LAST_PAY_DATE                             datetime64[ns]\n",
       "SUBSTATION                                        object\n",
       "FEEDER                                            object\n",
       "DT                                                object\n",
       "POLE_NO                                           object\n",
       "OPR_FLG                                           object\n",
       "BILL_AFTER_DATE                                   object\n",
       "METER_READ_REMARK                                 object\n",
       "INSTALLATION_DATE                                 object\n",
       "SBM_BILL_DATE                                     object\n",
       "SBM_MACHINE_ID                                    object\n",
       "BILL_CYC_CD                                       object\n",
       "TOWN                                              object\n",
       "SERVICE_CYC_CD                                    object\n",
       "CT_RATIO                                          object\n",
       "PT_RATIO                                          object\n",
       "EC                                               float64\n",
       "FC                                               float64\n",
       "REBATES                                          float64\n",
       "MIN_CHARGES                                      float64\n",
       "FUEL_SURCHARGE                                   float64\n",
       "DEMAND_AMT                                       float64\n",
       "LTMETERING_CHARGES                               float64\n",
       "CAP_CHARGES                                      float64\n",
       "REG_SURCHARGE                                    float64\n",
       "REG_SURCHARGE_2                                  float64\n",
       "ELECTRICITY_DUTY                                 float64\n",
       "TARIFF_ADJUSTMENTS                               float64\n",
       "PROV_ADJUSTMENTS                                 float64\n",
       "CA_ABR                                           float64\n",
       "INF_BILL                                          object\n",
       "MR_SOURCE_CD                                      object\n",
       "HEALTHY_CONSUMER_FLAG                             object\n",
       "METER_BADGE_NO                                    object\n",
       "MTR_MAKE                                          object\n",
       "CONNECTION_TYPE                                   object\n",
       "LOOMS_GRTRTHN_60                                 float64\n",
       "LOOMS_LESSTHN_60                                 float64\n",
       "SUPPLY_VOLTAGE                                    object\n",
       "METER_VOLTAGE                                    float64\n",
       "MTR_TYPE_CD                                       object\n",
       "LATITUDE                                         float64\n",
       "LONGTIUDE                                        float64\n",
       "INDUSTRIAL_FLAG                                   object\n",
       "ACCT_INFLALTED_FLAG                               object\n",
       "GOVT_CODE                                         object\n",
       "OPENING_READING_KWH                              float64\n",
       "OPENING_READING_KVAH                             float64\n",
       "OPENING_READING_DATE                              object\n",
       "CLOSING_READING_KWH                              float64\n",
       "CLOSING_READING_KVAH                             float64\n",
       "CLOSING_READING_DATE                              object\n",
       "CONSUMPTION_KWH                                  float64\n",
       "CONSUMPTION_KVAH                                 float64\n",
       "BILLED_AMOUNT                                    float64\n",
       "MTR_EXCEP_CD                                     float64\n",
       "MTR_NO_RECORDED                                   object\n",
       "MTR_MAKE_RECORDED                                 object\n",
       "MANUL_BILL_EXCEP                                  object\n",
       "MTR_CONFIG_TY_CD                                  object\n",
       "TOTAL_PAY_AMT                                    float64\n",
       "PAYMENT_SRCE                                      object\n",
       "MTR_RDR_AGENCY                                    object\n",
       "SS_NAME                                           object\n",
       "SS_GIS_CODE                                       object\n",
       "FEEDER_NAME                                       object\n",
       "FEEDER_GIS_CODE                                   object\n",
       "DT_NAME                                           object\n",
       "DT_GIS_ID                                         object\n",
       "DT_GIS_CODE                                       object\n",
       "NETWID                                            object\n",
       "CONSUMER_BASE                                     object\n",
       "CONSUMER_BASE.1                                   object\n",
       "FATHER_NAME                                       object\n",
       "VILLAGE_CODE                                     float64\n",
       "VILLAGE_NAME                                      object\n",
       "HABITAT_CODE                                     float64\n",
       "HABITAT_NAME                                      object\n",
       "DISTRICT                                          object\n",
       "TEMP_DISCON_DATE                                  object\n",
       "INOP_AMT                                         float64\n",
       "paid_status                                        int64\n",
       "Neverpaid_count                                    int64\n",
       "Neverpaid_status                                 float64\n",
       "gov_flag                                            bool\n",
       "bilable_flag                                        bool\n",
       "Cat                                               object\n",
       "ots_vc                                            object\n",
       "discount_Nov                                      object\n",
       "discount_Dec(1-15)                                object\n",
       "Registration_amount                              float64\n",
       "Amount_to_be_paid_after_disc_Nov                  object\n",
       "Amount_to_be_paid_after_disc_dec(1-15)            object\n",
       "arrear_withot_Lpsc                               float64\n",
       "ARREAR_FILTER                                     object\n",
       "Cat_vc                                            object\n",
       "graph_vc                                          object\n",
       "paid_arrear                                      float64\n",
       "dtype: object"
      ]
     },
     "execution_count": 33,
     "metadata": {},
     "output_type": "execute_result"
    }
   ],
   "source": [
    "df.dtypes"
   ]
  },
  {
   "cell_type": "code",
   "execution_count": 81,
   "id": "1f875e0d-8205-4070-b136-e7dde239d632",
   "metadata": {
    "tags": []
   },
   "outputs": [
    {
     "name": "stdout",
     "output_type": "stream",
     "text": [
      "CSV: 76.53425645828247\n"
     ]
    }
   ],
   "source": [
    "start = time.time()\n",
    "# df1.to_excel(f\"{month}/top10-td-rapdrp.xlsx\")\n",
    "df.to_csv(f\"{month}/{circle}/{circle}_oct23_ots.csv\") \n",
    "\n",
    "end = time.time()\n",
    "print(\"CSV:\", end - start)"
   ]
  },
  {
   "cell_type": "code",
   "execution_count": 39,
   "id": "549f57ea-9178-44da-98a8-f798aa88be86",
   "metadata": {
    "tags": []
   },
   "outputs": [
    {
     "name": "stdout",
     "output_type": "stream",
     "text": [
      "CSV: 53.3649525642395\n"
     ]
    }
   ],
   "source": [
    "# start = time.time()\n",
    "# # df1.to_excel(f\"{month}/top10-td-rapdrp.xlsx\")\n",
    "# df.to_csv(f\"{month}/{circle}/{circle}sep23_8oct.csv\") \n",
    "\n",
    "# end = time.time()\n",
    "# print(\"CSV:\", end - start)"
   ]
  },
  {
   "cell_type": "code",
   "execution_count": 42,
   "id": "b3086516",
   "metadata": {},
   "outputs": [
    {
     "data": {
      "text/plain": [
       "LMV1(2-5kw)        1341922\n",
       "LMV2(2-5kw)          56055\n",
       "LMV4(2-5kw)          19702\n",
       "great than 10kw       9912\n",
       "LMV2(5-9kw)           2662\n",
       "LMV1(5-9kw)           1661\n",
       "LMV4(5-9kw)            786\n",
       "Name: new_cat, dtype: int64"
      ]
     },
     "execution_count": 42,
     "metadata": {},
     "output_type": "execute_result"
    }
   ],
   "source": [
    "df.new_cat.value_counts()"
   ]
  },
  {
   "cell_type": "code",
   "execution_count": 88,
   "id": "c8bd8400",
   "metadata": {},
   "outputs": [],
   "source": [
    "df = df[df.new_cat.notna()]"
   ]
  },
  {
   "cell_type": "code",
   "execution_count": 91,
   "id": "4951c4da-29b2-4384-b51b-f7fc3f15c186",
   "metadata": {
    "tags": []
   },
   "outputs": [
    {
     "name": "stdout",
     "output_type": "stream",
     "text": [
      "['EDD I Bahraich' 'EDD II Nanpara' 'EDD III Kaisarganj' 'EDD Balrampur'\n",
      " 'EDD SHRAWASTI' 'EDD Tulsipur' 'EDD I Gonda' 'EDD II Gonda'\n",
      " 'EDD III COLONELGANJ' 'EDD IV MANKAPUR']\n",
      "EDD I Bahraich\n",
      "CSV: 8.20287036895752\n",
      "EDD II Nanpara\n",
      "CSV: 20.649831295013428\n",
      "EDD III Kaisarganj\n",
      "CSV: 19.63773775100708\n",
      "EDD Balrampur\n",
      "CSV: 8.811492919921875\n",
      "EDD SHRAWASTI\n",
      "CSV: 14.310187578201294\n",
      "EDD Tulsipur\n",
      "CSV: 20.408112049102783\n",
      "EDD I Gonda\n",
      "CSV: 8.50493049621582\n",
      "EDD II Gonda\n",
      "CSV: 14.759137868881226\n",
      "EDD III COLONELGANJ\n",
      "CSV: 12.380542516708374\n",
      "EDD IV MANKAPUR\n",
      "CSV: 14.092096328735352\n"
     ]
    }
   ],
   "source": [
    "\n",
    "bifurcation(\"Division_Name\",'Division_cat2')  \n",
    "# \"Division_Name\"\n",
    "# \"Circle_Name\"\n"
   ]
  },
  {
   "cell_type": "code",
   "execution_count": null,
   "id": "615598b5-d6fd-44a2-bff7-01318f3a4e43",
   "metadata": {
    "tags": []
   },
   "outputs": [],
   "source": [
    "df.columns"
   ]
  },
  {
   "cell_type": "code",
   "execution_count": 46,
   "id": "6b67d3d7-a26e-4e01-a422-ba7e1ba71e72",
   "metadata": {
    "tags": []
   },
   "outputs": [],
   "source": [
    "rdf_sdo=df[(df.bilable_flag == True) & (df.gov_flag == False) &(df.METER_READ_REMARK== 'RDF')].pivot_table(index=['Circle_Name','Division_Name','SDO_CODE','SUBSTATION'],columns=['CON_STATUS'],values=['ACCT_ID'],\n",
    "                    aggfunc={'ACCT_ID':'count'},fill_value=0,margins=True,margins_name='Total' )\n"
   ]
  },
  {
   "cell_type": "code",
   "execution_count": 112,
   "id": "94f6862b-457c-4b42-b57b-41f06aef6288",
   "metadata": {
    "tags": []
   },
   "outputs": [],
   "source": [
    "meter_read_remark =df.pivot_table(index=['Circle_Name','Division_Name',],columns=['METER_READ_REMARK','CON_STATUS'],values=['ACCT_ID'],\n",
    "                    aggfunc={'ACCT_ID':'count'},fill_value=0,margins=True,margins_name='Total' )"
   ]
  },
  {
   "cell_type": "code",
   "execution_count": 113,
   "id": "6bbabc8c-c3e6-4b09-8656-461e42f1cc8c",
   "metadata": {
    "tags": []
   },
   "outputs": [],
   "source": [
    "BILL_BASIS =df.pivot_table(index=['Circle_Name','Division_Name',],columns=['BILL_BASIS','CON_STATUS'],values=['ACCT_ID'],\n",
    "                    aggfunc={'ACCT_ID':'count'},fill_value=0,margins=True,margins_name='Total' )"
   ]
  },
  {
   "cell_type": "code",
   "execution_count": 132,
   "id": "e0900d41-cd1c-449e-87c5-69cda6c19254",
   "metadata": {
    "tags": []
   },
   "outputs": [],
   "source": [
    "Sbm =df[df.BILL_TYP=='SBM'].pivot_table(index=['Circle_Name','Division_Name','SBM_MACHINE_ID'],values=['ACCT_ID'],\n",
    "                    aggfunc={'ACCT_ID':'count'},fill_value=0,margins=True,margins_name='Total' )"
   ]
  },
  {
   "cell_type": "code",
   "execution_count": 115,
   "id": "2f4893f4-d130-4419-957c-370febcbad86",
   "metadata": {
    "tags": []
   },
   "outputs": [],
   "source": [
    "# pivot_table.plot(kind='pie',\n",
    "#             subplots=True,\n",
    "#               title='Population (1955-2020)',autopct='%1.0f%%')\n",
    "\n",
    "Catvc=df[(df.bilable_flag == True) & (df.gov_flag == False)].pivot_table(index=['Circle_Name','Division_Name',], columns=['Cat_vc'],values=['ACCT_ID','CURRENT_ASSESSMENT','TOTAL_OUTSTANDING','TOTAL_PAY_AMT','paid_status'],\n",
    "                    aggfunc={'ACCT_ID':'count','CURRENT_ASSESSMENT':np.sum,'TOTAL_OUTSTANDING':np.sum,'TOTAL_PAY_AMT':np.sum,'paid_status':np.sum},fill_value=0,margins=True,margins_name='Total' )\n"
   ]
  },
  {
   "cell_type": "code",
   "execution_count": 4,
   "id": "cf4e5af4-6172-46dd-b4ed-fa0da6aeec0c",
   "metadata": {
    "tags": []
   },
   "outputs": [
    {
     "ename": "NameError",
     "evalue": "name 'df' is not defined",
     "output_type": "error",
     "traceback": [
      "\u001b[1;31m---------------------------------------------------------------------------\u001b[0m",
      "\u001b[1;31mNameError\u001b[0m                                 Traceback (most recent call last)",
      "Cell \u001b[1;32mIn[4], line 5\u001b[0m\n\u001b[0;32m      1\u001b[0m \u001b[38;5;66;03m# pivot_table.plot(kind='pie',\u001b[39;00m\n\u001b[0;32m      2\u001b[0m \u001b[38;5;66;03m#             subplots=True,\u001b[39;00m\n\u001b[0;32m      3\u001b[0m \u001b[38;5;66;03m#               title='Population (1955-2020)',autopct='%1.0f%%')\u001b[39;00m\n\u001b[1;32m----> 5\u001b[0m graphvc\u001b[38;5;241m=\u001b[39mdf[(df\u001b[38;5;241m.\u001b[39mbilable_flag \u001b[38;5;241m==\u001b[39m \u001b[38;5;28;01mTrue\u001b[39;00m)]\u001b[38;5;241m.\u001b[39mpivot_table(index\u001b[38;5;241m=\u001b[39m[\u001b[38;5;124m'\u001b[39m\u001b[38;5;124mCircle_Name\u001b[39m\u001b[38;5;124m'\u001b[39m,\u001b[38;5;124m'\u001b[39m\u001b[38;5;124mDivision_Name\u001b[39m\u001b[38;5;124m'\u001b[39m,], columns\u001b[38;5;241m=\u001b[39m[\u001b[38;5;124m'\u001b[39m\u001b[38;5;124mgraph_vc\u001b[39m\u001b[38;5;124m'\u001b[39m],values\u001b[38;5;241m=\u001b[39m[\u001b[38;5;124m'\u001b[39m\u001b[38;5;124mACCT_ID\u001b[39m\u001b[38;5;124m'\u001b[39m,\u001b[38;5;124m'\u001b[39m\u001b[38;5;124mCURRENT_ASSESSMENT\u001b[39m\u001b[38;5;124m'\u001b[39m,\u001b[38;5;124m'\u001b[39m\u001b[38;5;124mTOTAL_OUTSTANDING\u001b[39m\u001b[38;5;124m'\u001b[39m,\u001b[38;5;124m'\u001b[39m\u001b[38;5;124mCONSUMPTION_CURR_MNTH\u001b[39m\u001b[38;5;124m'\u001b[39m,\u001b[38;5;124m'\u001b[39m\u001b[38;5;124mTOTAL_PAY_AMT\u001b[39m\u001b[38;5;124m'\u001b[39m,\u001b[38;5;124m'\u001b[39m\u001b[38;5;124mpaid_status\u001b[39m\u001b[38;5;124m'\u001b[39m,\u001b[38;5;124m'\u001b[39m\u001b[38;5;124mLOAD\u001b[39m\u001b[38;5;124m'\u001b[39m],\n\u001b[0;32m      6\u001b[0m                     aggfunc\u001b[38;5;241m=\u001b[39m{\u001b[38;5;124m'\u001b[39m\u001b[38;5;124mACCT_ID\u001b[39m\u001b[38;5;124m'\u001b[39m:\u001b[38;5;124m'\u001b[39m\u001b[38;5;124mcount\u001b[39m\u001b[38;5;124m'\u001b[39m,\u001b[38;5;124m'\u001b[39m\u001b[38;5;124mCURRENT_ASSESSMENT\u001b[39m\u001b[38;5;124m'\u001b[39m:np\u001b[38;5;241m.\u001b[39msum,\u001b[38;5;124m'\u001b[39m\u001b[38;5;124mTOTAL_OUTSTANDING\u001b[39m\u001b[38;5;124m'\u001b[39m:np\u001b[38;5;241m.\u001b[39msum,\u001b[38;5;124m'\u001b[39m\u001b[38;5;124mCONSUMPTION_CURR_MNTH\u001b[39m\u001b[38;5;124m'\u001b[39m:np\u001b[38;5;241m.\u001b[39msum,\u001b[38;5;124m'\u001b[39m\u001b[38;5;124mTOTAL_PAY_AMT\u001b[39m\u001b[38;5;124m'\u001b[39m:np\u001b[38;5;241m.\u001b[39msum,\u001b[38;5;124m'\u001b[39m\u001b[38;5;124mLOAD\u001b[39m\u001b[38;5;124m'\u001b[39m:np\u001b[38;5;241m.\u001b[39msum,\u001b[38;5;124m'\u001b[39m\u001b[38;5;124mpaid_status\u001b[39m\u001b[38;5;124m'\u001b[39m:np\u001b[38;5;241m.\u001b[39msum},fill_value\u001b[38;5;241m=\u001b[39m\u001b[38;5;241m0\u001b[39m,margins\u001b[38;5;241m=\u001b[39m\u001b[38;5;28;01mTrue\u001b[39;00m,margins_name\u001b[38;5;241m=\u001b[39m\u001b[38;5;124m'\u001b[39m\u001b[38;5;124mTotal\u001b[39m\u001b[38;5;124m'\u001b[39m )\n",
      "\u001b[1;31mNameError\u001b[0m: name 'df' is not defined"
     ]
    }
   ],
   "source": [
    "# pivot_table.plot(kind='pie',\n",
    "#             subplots=True,\n",
    "#               title='Population (1955-2020)',autopct='%1.0f%%')\n",
    "\n",
    "graphvc=df[(df.bilable_flag == True)].pivot_table(index=['Circle_Name','Division_Name',], columns=['graph_vc'],values=['ACCT_ID','CURRENT_ASSESSMENT','TOTAL_OUTSTANDING','CONSUMPTION_CURR_MNTH','TOTAL_PAY_AMT','paid_status','LOAD'],\n",
    "                    aggfunc={'ACCT_ID':'count','CURRENT_ASSESSMENT':np.sum,'TOTAL_OUTSTANDING':np.sum,'CONSUMPTION_CURR_MNTH':np.sum,'TOTAL_PAY_AMT':np.sum,'LOAD':np.sum,'paid_status':np.sum},fill_value=0,margins=True,margins_name='Total' )\n"
   ]
  },
  {
   "cell_type": "code",
   "execution_count": 5,
   "id": "edd774ec-9b55-493d-bbd4-c0748ff22011",
   "metadata": {
    "tags": []
   },
   "outputs": [
    {
     "ename": "NameError",
     "evalue": "name 'df' is not defined",
     "output_type": "error",
     "traceback": [
      "\u001b[1;31m---------------------------------------------------------------------------\u001b[0m",
      "\u001b[1;31mNameError\u001b[0m                                 Traceback (most recent call last)",
      "Cell \u001b[1;32mIn[5], line 5\u001b[0m\n\u001b[0;32m      1\u001b[0m \u001b[38;5;66;03m# pivot_table.plot(kind='pie',\u001b[39;00m\n\u001b[0;32m      2\u001b[0m \u001b[38;5;66;03m#             subplots=True,\u001b[39;00m\n\u001b[0;32m      3\u001b[0m \u001b[38;5;66;03m#               title='Population (1955-2020)',autopct='%1.0f%%')\u001b[39;00m\n\u001b[1;32m----> 5\u001b[0m Catvc\u001b[38;5;241m=\u001b[39mdf[(df\u001b[38;5;241m.\u001b[39mbilable_flag \u001b[38;5;241m==\u001b[39m \u001b[38;5;28;01mTrue\u001b[39;00m) \u001b[38;5;241m&\u001b[39m (df\u001b[38;5;241m.\u001b[39mgov_flag \u001b[38;5;241m==\u001b[39m \u001b[38;5;28;01mFalse\u001b[39;00m)]\u001b[38;5;241m.\u001b[39mpivot_table(index\u001b[38;5;241m=\u001b[39m[\u001b[38;5;124m'\u001b[39m\u001b[38;5;124mCircle_Name\u001b[39m\u001b[38;5;124m'\u001b[39m,\u001b[38;5;124m'\u001b[39m\u001b[38;5;124mDivision_Name\u001b[39m\u001b[38;5;124m'\u001b[39m,], columns\u001b[38;5;241m=\u001b[39m[\u001b[38;5;124m'\u001b[39m\u001b[38;5;124mCat_vc\u001b[39m\u001b[38;5;124m'\u001b[39m],values\u001b[38;5;241m=\u001b[39m[\u001b[38;5;124m'\u001b[39m\u001b[38;5;124mACCT_ID\u001b[39m\u001b[38;5;124m'\u001b[39m,\u001b[38;5;124m'\u001b[39m\u001b[38;5;124mCURRENT_ASSESSMENT\u001b[39m\u001b[38;5;124m'\u001b[39m,\u001b[38;5;124m'\u001b[39m\u001b[38;5;124mTOTAL_OUTSTANDING\u001b[39m\u001b[38;5;124m'\u001b[39m,\u001b[38;5;124m'\u001b[39m\u001b[38;5;124mTOTAL_PAY_AMT\u001b[39m\u001b[38;5;124m'\u001b[39m,\u001b[38;5;124m'\u001b[39m\u001b[38;5;124mpaid_status\u001b[39m\u001b[38;5;124m'\u001b[39m,\u001b[38;5;124m'\u001b[39m\u001b[38;5;124mLOAD\u001b[39m\u001b[38;5;124m'\u001b[39m],\n\u001b[0;32m      6\u001b[0m                     aggfunc\u001b[38;5;241m=\u001b[39m{\u001b[38;5;124m'\u001b[39m\u001b[38;5;124mACCT_ID\u001b[39m\u001b[38;5;124m'\u001b[39m:\u001b[38;5;124m'\u001b[39m\u001b[38;5;124mcount\u001b[39m\u001b[38;5;124m'\u001b[39m,\u001b[38;5;124m'\u001b[39m\u001b[38;5;124mCURRENT_ASSESSMENT\u001b[39m\u001b[38;5;124m'\u001b[39m:np\u001b[38;5;241m.\u001b[39msum,\u001b[38;5;124m'\u001b[39m\u001b[38;5;124mTOTAL_OUTSTANDING\u001b[39m\u001b[38;5;124m'\u001b[39m:np\u001b[38;5;241m.\u001b[39msum,\u001b[38;5;124m'\u001b[39m\u001b[38;5;124mTOTAL_PAY_AMT\u001b[39m\u001b[38;5;124m'\u001b[39m:np\u001b[38;5;241m.\u001b[39msum,\u001b[38;5;124m'\u001b[39m\u001b[38;5;124mpaid_status\u001b[39m\u001b[38;5;124m'\u001b[39m:np\u001b[38;5;241m.\u001b[39msum,\u001b[38;5;124m'\u001b[39m\u001b[38;5;124mLOAD\u001b[39m\u001b[38;5;124m'\u001b[39m:np\u001b[38;5;241m.\u001b[39msum},fill_value\u001b[38;5;241m=\u001b[39m\u001b[38;5;241m0\u001b[39m,margins\u001b[38;5;241m=\u001b[39m\u001b[38;5;28;01mTrue\u001b[39;00m,margins_name\u001b[38;5;241m=\u001b[39m\u001b[38;5;124m'\u001b[39m\u001b[38;5;124mTotal\u001b[39m\u001b[38;5;124m'\u001b[39m )\n",
      "\u001b[1;31mNameError\u001b[0m: name 'df' is not defined"
     ]
    }
   ],
   "source": [
    "# pivot_table.plot(kind='pie',\n",
    "#             subplots=True,\n",
    "#               title='Population (1955-2020)',autopct='%1.0f%%')\n",
    "\n",
    "Catvc=df[(df.bilable_flag == True) & (df.gov_flag == False)].pivot_table(index=['Circle_Name','Division_Name',], columns=['Cat_vc'],values=['ACCT_ID','CURRENT_ASSESSMENT','TOTAL_OUTSTANDING','TOTAL_PAY_AMT','paid_status','LOAD'],\n",
    "                    aggfunc={'ACCT_ID':'count','CURRENT_ASSESSMENT':np.sum,'TOTAL_OUTSTANDING':np.sum,'TOTAL_PAY_AMT':np.sum,'paid_status':np.sum,'LOAD':np.sum},fill_value=0,margins=True,margins_name='Total' )\n"
   ]
  },
  {
   "cell_type": "code",
   "execution_count": null,
   "id": "21a45006-1963-4a94-8228-2b5ca9908b0e",
   "metadata": {},
   "outputs": [],
   "source": []
  },
  {
   "cell_type": "code",
   "execution_count": 52,
   "id": "788aec3e-8a2c-4f7e-8db1-3a3d9eb79ba8",
   "metadata": {
    "tags": []
   },
   "outputs": [],
   "source": [
    "# pivot_table.plot(kind='pie',\n",
    "#             subplots=True,\n",
    "#               title='Population (1955-2020)',autopct='%1.0f%%')\n",
    "\n",
    "ots_1=df[(df.bilable_flag == True) & (df.LPSC >1) ].pivot_table(index=['Circle_Name','Division_Name'], columns=['ots_vc'],values=['ACCT_ID','arrear_withot_Lpsc'],\n",
    "                    aggfunc={'ACCT_ID':'count','arrear_withot_Lpsc':np.sum},fill_value=0,margins=True,margins_name='Total' )\n"
   ]
  },
  {
   "cell_type": "code",
   "execution_count": 53,
   "id": "6cc18fba-3b15-48e8-a122-7876b50d66fb",
   "metadata": {
    "tags": []
   },
   "outputs": [],
   "source": [
    "# pivot_table.plot(kind='pie',\n",
    "#             subplots=True,\n",
    "#               title='Population (1955-2020)',autopct='%1.0f%%')\n",
    "\n",
    "ots_500=df[(df.bilable_flag == True) & (df.LPSC >= 500) ].pivot_table(index=['Circle_Name','Division_Name','ARREAR_FILTER'], columns=['ots_vc'],values=['ACCT_ID','arrear_withot_Lpsc'],\n",
    "                    aggfunc={'ACCT_ID':'count','arrear_withot_Lpsc':np.sum},fill_value=0,margins=True,margins_name='Total' )\n"
   ]
  },
  {
   "cell_type": "code",
   "execution_count": 146,
   "id": "78c068f3-f42f-4ae2-b9e5-f2885208c2ff",
   "metadata": {
    "tags": []
   },
   "outputs": [],
   "source": [
    "# df['discount_Nov'] = None\n",
    "#     df['discount_Dec(1-15)'] = None\n",
    "#     df['Registration_amount'] = None\n",
    "#     df['Registration_amount'] = 0.3*df['TOTAL_OUTSTANDING']\n",
    "#     df['Amount_to_be_paid_after_disc_Nov'] = None\n",
    "#     df['Amount_to_be_paid_after_disc_dec(1-15)']\n",
    "feeder = [\"RANI BAZAR_35521114103RIR\",\"TOWN III_35521110170TO3\",'BALESHWAR GANJ_35523410632BWJ',\"TARAB GANJ TOWN_35523420638TTW \",\"TAHSEEL_35523310390THL\",\"DHANEPUR TOWN_35523110163DTW\",\"DHARAMPUR_35513110252DRP\",\"LIFT CANAL_35513110176LCL\",\"EAST_35513110180EAT\",\"SADULLA NAGAR_35513130186SLR\",\"IPDS 1_35513131017IP1\",\"SEMRI DEHAT_35492210434SDT\",\"SIRSIYA_35492210434SRA\",\"PACHDEVARI_35492220437PHI\",\"JAMUNHA_35492210436JUA\",\"TIWARI GAON_35492210436TRN\",\"RURAL_35492110453RUL\",\"RAHVA_35491110455RAA\",\"NEJABHAAR_35492220555NAR\",\"MAHARAJGANJ_35492220556MRJ\",\"JAITAPUR_35492150460JAT\"]"
   ]
  },
  {
   "cell_type": "code",
   "execution_count": 50,
   "id": "16e923f1-512c-4a4f-9f29-d89b2aa806cc",
   "metadata": {
    "tags": []
   },
   "outputs": [],
   "source": [
    "div_highloss_nov = df[(df.bilable_flag == True) & (df.FEEDER.isin(feeder))].pivot_table(\n",
    "    index=['Circle_Name', 'Division_Name','FEEDER'], values=['ACCT_ID','CONSUMPTION_CURR_MNTH','CURRENT_ASSESSMENT','TOTAL_PAY_AMT','LOAD'],\n",
    "    aggfunc={'ACCT_ID':'count','LOAD':np.sum,'CONSUMPTION_CURR_MNTH':np.sum,'CURRENT_ASSESSMENT':np.sum,'TOTAL_PAY_AMT':np.sum}, fill_value=0\n",
    ")"
   ]
  },
  {
   "cell_type": "code",
   "execution_count": 51,
   "id": "b457685c-1c8e-4438-9d85-66d97d9ca91e",
   "metadata": {
    "tags": []
   },
   "outputs": [],
   "source": [
    "div_highloss_nov.to_excel(f\"{month}/{circle}/report/{circle}_{month}_highloss_nov.xlsx\")"
   ]
  },
  {
   "cell_type": "code",
   "execution_count": 55,
   "id": "043ea052-42ae-40f7-83d8-7d4816df2330",
   "metadata": {
    "tags": []
   },
   "outputs": [],
   "source": [
    "# pivot_table.plot(kind='pie',\n",
    "#             subplots=True,\n",
    "#               title='Population (1955-2020)',autopct='%1.0f%%')\n",
    "\n",
    "ots_detail=df[(df.bilable_flag == True) & (df.LPSC >= 100) ].pivot_table(index=['Circle_Name','Division_Name'], columns=['ots_vc'],values=['ACCT_ID','TOTAL_OUTSTANDING','discount_Nov','Registration_amount','Amount_to_be_paid_after_disc_Nov'],\n",
    "                    aggfunc={'ACCT_ID':'count','discount_Nov':np.sum,'TOTAL_OUTSTANDING':np.sum,'Registration_amount':np.sum,'Amount_to_be_paid_after_disc_Nov':np.sum},fill_value=0,margins=True,margins_name='Total' )\n"
   ]
  },
  {
   "cell_type": "code",
   "execution_count": null,
   "id": "5cc1c674-f06d-4b62-b942-a53940c6d4e9",
   "metadata": {},
   "outputs": [],
   "source": []
  },
  {
   "cell_type": "code",
   "execution_count": 31,
   "id": "c254074e-88c9-4646-a07b-7e145a96851b",
   "metadata": {
    "tags": []
   },
   "outputs": [],
   "source": [
    "# # pivot_table.plot(kind='pie',\n",
    "# #             subplots=True,\n",
    "# #               title='Population (1955-2020)',autopct='%1.0f%%')\n",
    "\n",
    "# Csc_count=df[(df.PAYMENT_SRCE == \"EGSIL001\") & (df.paid_status==1)].pivot_table(index=['Circle_Name','Division_Name'],values=['ACCT_ID','TOTAL_PAY_AMT','paid_status'],\n",
    "#                     aggfunc={'ACCT_ID':'count','TOTAL_PAY_AMT':np.sum,'paid_status':np.sum},fill_value=0,margins=True,margins_name='Total' )\n"
   ]
  },
  {
   "cell_type": "code",
   "execution_count": 55,
   "id": "3c98cf04-4b6b-443d-9c2e-dfc1316c4dc7",
   "metadata": {
    "tags": []
   },
   "outputs": [],
   "source": [
    "# # pivot_table.plot(kind='pie',\n",
    "# #             subplots=True,\n",
    "# #               title='Population (1955-2020)',autopct='%1.0f%%')\n",
    "\n",
    "# Catvc_acc=df[(df.bilable_flag == True)].pivot_table(index=['Circle_Name','Division_Name'], columns=['Cat'],values=['ACCT_ID'],\n",
    "#                     aggfunc={'ACCT_ID':'count'},fill_value=0,margins=True,margins_name='Total' )\n"
   ]
  },
  {
   "cell_type": "code",
   "execution_count": 47,
   "id": "edbefe97-baae-4333-8d93-0c887c8d8e50",
   "metadata": {
    "tags": []
   },
   "outputs": [],
   "source": [
    "# pivot_table.plot(kind='pie',\n",
    "#             subplots=True,\n",
    "#               title='Population (1955-2020)',autopct='%1.0f%%')\n",
    "\n",
    "div_cat_connection=df[(df.bilable_flag == True)&(df.newconection== 0)].pivot_table(index=['Circle_Name','Division_Name'], columns=['gov_flag','Cat'],values=['ACCT_ID','LOAD','CONSUMPTION_CURR_MNTH','CURRENT_ASSESSMENT','TOTAL_OUTSTANDING','TOTAL_PAY_AMT','paid_status'],\n",
    "                    aggfunc={'ACCT_ID':'count','LOAD':np.sum,'CONSUMPTION_CURR_MNTH':np.sum,'CURRENT_ASSESSMENT':np.sum,'TOTAL_OUTSTANDING':np.sum,'TOTAL_PAY_AMT':np.sum,'paid_status':np.sum},fill_value=0 )\n"
   ]
  },
  {
   "cell_type": "code",
   "execution_count": 57,
   "id": "4f96dba9-1778-4bf5-90d5-df2a59c25c0c",
   "metadata": {
    "tags": []
   },
   "outputs": [],
   "source": [
    "# pivot_table.plot(kind='pie',\n",
    "#             subplots=True,\n",
    "#               title='Population (1955-2020)',autopct='%1.0f%%')\n",
    "\n",
    "arrear_paid=df[(df.bilable_flag == True)].pivot_table(index=['Circle_Name','Division_Name'], columns=['gov_flag'],values=['TOTAL_PAY_AMT','paid_arrear'],\n",
    "                    aggfunc={'paid_arrear':np.sum,'TOTAL_PAY_AMT':np.sum},fill_value=0 )\n"
   ]
  },
  {
   "cell_type": "code",
   "execution_count": null,
   "id": "dded95a9-5bb9-4f99-bd27-f8dc27656535",
   "metadata": {},
   "outputs": [],
   "source": []
  },
  {
   "cell_type": "code",
   "execution_count": 58,
   "id": "75d44c98-2828-40c0-b6e8-4557760b27b0",
   "metadata": {
    "tags": []
   },
   "outputs": [],
   "source": [
    "# pivot_table.plot(kind='pie',\n",
    "#             subplots=True,\n",
    "#               title='Population (1955-2020)',autopct='%1.0f%%')\n",
    "\n",
    "div=df[(df.bilable_flag == True)].pivot_table(index=['Circle_Name','Division_Name'], columns=[],values=['ACCT_ID','LOAD','CONSUMPTION_CURR_MNTH','CURRENT_ASSESSMENT','TOTAL_OUTSTANDING','TOTAL_PAY_AMT','paid_status'],\n",
    "                    aggfunc={'ACCT_ID':'count','LOAD':np.sum,'CONSUMPTION_CURR_MNTH':np.sum,'CURRENT_ASSESSMENT':np.sum,'TOTAL_OUTSTANDING':np.sum,'TOTAL_PAY_AMT':np.sum,'paid_status':np.sum},fill_value=0 )\n"
   ]
  },
  {
   "cell_type": "code",
   "execution_count": 134,
   "id": "95434717-9c25-4357-abf8-399585461feb",
   "metadata": {
    "tags": []
   },
   "outputs": [],
   "source": [
    "# pivot_table.plot(kind='pie',\n",
    "#             subplots=True,\n",
    "#               title='Population (1955-2020)',autopct='%1.0f%%')\n",
    "\n",
    "div_csc=df[(df.bilable_flag == True) & (df.paid_status==1) & (df.PAYMENT_SRCE=='EGSIL001')].pivot_table(index=['Circle_Name','Division_Name'], columns=['LAST_PAY_DATE'],values=['TOTAL_PAY_AMT'],\n",
    "                    aggfunc={'TOTAL_PAY_AMT':np.sum},fill_value=0 )\n"
   ]
  },
  {
   "cell_type": "code",
   "execution_count": 136,
   "id": "ffafd979-0e4a-45de-8075-5dd19d7c0417",
   "metadata": {
    "tags": []
   },
   "outputs": [],
   "source": [
    "# pivot_table.plot(kind='pie',\n",
    "#             subplots=True,\n",
    "#               title='Population (1955-2020)',autopct='%1.0f%%')\n",
    "\n",
    "div_csc_other=df[(df.bilable_flag == True) & (df.paid_status==1) & (df.PAYMENT_SRCE=='EGSIL001')].pivot_table(index=['LAST_PAY_DATE'], columns=['Circle_Name','Division_Name'],values=['TOTAL_PAY_AMT'],\n",
    "                    aggfunc={'TOTAL_PAY_AMT':np.sum},fill_value=0 )\n"
   ]
  },
  {
   "cell_type": "code",
   "execution_count": null,
   "id": "a9934e2a-7d0f-45d0-b5e8-e9bd820a64a9",
   "metadata": {},
   "outputs": [],
   "source": []
  },
  {
   "cell_type": "code",
   "execution_count": 63,
   "id": "4b37be56-231e-4d6c-aa84-03d846606b32",
   "metadata": {
    "tags": []
   },
   "outputs": [],
   "source": [
    "zone_arrear_cat_vc =df[(df.gov_flag == False) &(df.bilable_flag == True) ].pivot_table(index=['Circle_Name','Division_Name'], columns=['ARREAR_FILTER'], values=['ACCT_ID','CURRENT_ASSESSMENT','TOTAL_OUTSTANDING','TOTAL_PAY_AMT','paid_status','Neverpaid_status'],\n",
    "                    aggfunc={'ACCT_ID':'count','TOTAL_OUTSTANDING':np.sum,'CURRENT_ASSESSMENT':np.sum,\n",
    "                            'TOTAL_PAY_AMT':np.sum,'paid_status':np.sum,'Neverpaid_status':np.sum},fill_value=0,margins=True,margins_name='Total' )"
   ]
  },
  {
   "cell_type": "code",
   "execution_count": 59,
   "id": "775e78b0-176b-4a36-a4a9-e871e2a1df7a",
   "metadata": {
    "tags": []
   },
   "outputs": [],
   "source": [
    "zone_cat_cat =df[(df.gov_flag == False) &(df.bilable_flag == True) ].pivot_table(index=['Circle_Name','Division_Name'], columns=['Cat_vc'], values=['ACCT_ID','CURRENT_ASSESSMENT','TOTAL_OUTSTANDING','TOTAL_PAY_AMT','paid_status','Neverpaid_status'],\n",
    "                    aggfunc={'ACCT_ID':'count','TOTAL_OUTSTANDING':np.sum,'CURRENT_ASSESSMENT':np.sum,\n",
    "                            'TOTAL_PAY_AMT':np.sum,'paid_status':np.sum,'Neverpaid_status':np.sum},fill_value=0,margins=True,margins_name='Total' )"
   ]
  },
  {
   "cell_type": "code",
   "execution_count": 147,
   "id": "908de7ec-6419-4ba7-80c2-4b342c4c50a5",
   "metadata": {
    "tags": []
   },
   "outputs": [],
   "source": [
    "feeder = [\"RANI BAZAR_35521114103RIR\",\"TOWN III_35521110170TO3\",\"TARAB GANJ TOWN_35523420638TTW\",\"TAHSEEL_35523310390THL\",\"DHANEPUR TOWN_35523110163DTW\",\"DHARAMPUR_35513110252DRP\",\"LIFT CANAL_35513110176LCL\",\"EAST_35513110180EAT\",\"SADULLA NAGAR_35513130186SLR\",\"IPDS 1_35513131017IP1\",\"SEMRI DEHAT_35492210434SDT\",\"SIRSIYA_35492210434SRA\",\"PACHDEVARI_35492220437PHI\",\"JAMUNHA_35492210436JUA\",\"TIWARI GAON_35492210436TRN\",\"RURAL_35492110453RUL\",\"RAHVA_35491110455RAA\",\"NEJABHAAR_35492220555NAR\",\"MAHARAJGANJ_35492220556MRJ\",\"JAITAPUR_35492150460JAT\"]\n",
    "feeder_report =df[(df.bilable_flag == True) & (df['FEEDER'].isin(feeder))].pivot_table(index=['Circle_Name','Division_Name','FEEDER'], values=['ACCT_ID','LOAD','CONSUMPTION_CURR_MNTH','CURRENT_ASSESSMENT','TOTAL_PAY_AMT','paid_status','TOTAL_OUTSTANDING'],\n",
    "                    aggfunc={'ACCT_ID':'count','TOTAL_OUTSTANDING':np.sum,'CURRENT_ASSESSMENT':np.sum,'LOAD':np.sum,'CONSUMPTION_CURR_MNTH':np.sum,\n",
    "                            'TOTAL_PAY_AMT':np.sum,'paid_status':np.sum},fill_value=0,margins=True)"
   ]
  },
  {
   "cell_type": "code",
   "execution_count": 148,
   "id": "b265219b-0a50-44f9-92e2-109277eb58d2",
   "metadata": {},
   "outputs": [],
   "source": [
    "# feeder = [\"RANI BAZAR_35521114103RIR\",\"TOWN III_35521110170TO3\",\"TARAB GANJ TOWN_35523420638TTW \",\"TAHSEEL_35523310390THL\",\"DHANEPUR TOWN_35523110163DTW\",\"DHARAMPUR_35513110252DRP\",\"LIFT CANAL_35513110176LCL\",\"EAST_35513110180EAT\",\"SADULLA NAGAR_35513130186SLR\",\"IPDS 1_35513131017IP1\",\"SEMRI DEHAT_35492210434SDT\",\"SIRSIYA_35492210434SRA\",\"PACHDEVARI_35492220437PHI\",\"JAMUNHA_35492210436JUA\",\"TIWARI GAON_35492210436TRN\",\"RURAL_35492110453RUL\",\"RAHVA_35491110455RAA\",\"NEJABHAAR_35492220555NAR\",\"MAHARAJGANJ_35492220556MRJ\",\"JAITAPUR_35492150460JAT\"]\n",
    "feeder_report_load =df[(df.bilable_flag == True) & (df['FEEDER'].isin(feeder))].pivot_table(index=['Circle_Name','Division_Name','SUBSTATION','FEEDER'],columns = ['Cat','conection_month'], values=['ACCT_ID','LOAD'],\n",
    "                    aggfunc={'ACCT_ID':'count','LOAD':np.sum},fill_value=0,margins=True)"
   ]
  },
  {
   "cell_type": "code",
   "execution_count": 149,
   "id": "aef58796-0765-4052-809b-64ef9674b85d",
   "metadata": {},
   "outputs": [],
   "source": [
    "# feeder = [\"RANI BAZAR_35521114103RIR\",\"TOWN III_35521110170TO3\",\"TARAB GANJ TOWN_35523420638TTW \",\"TAHSEEL_35523310390THL\",\"DHANEPUR TOWN_35523110163DTW\",\"DHARAMPUR_35513110252DRP\",\"LIFT CANAL_35513110176LCL\",\"EAST_35513110180EAT\",\"SADULLA NAGAR_35513130186SLR\",\"IPDS 1_35513131017IP1\",\"SEMRI DEHAT_35492210434SDT\",\"SIRSIYA_35492210434SRA\",\"PACHDEVARI_35492220437PHI\",\"JAMUNHA_35492210436JUA\",\"TIWARI GAON_35492210436TRN\",\"RURAL_35492110453RUL\",\"RAHVA_35491110455RAA\",\"NEJABHAAR_35492220555NAR\",\"MAHARAJGANJ_35492220556MRJ\",\"JAITAPUR_35492150460JAT\"]\n",
    "feeder_report_idfrdf =df[(df.bilable_flag == True) & (df['FEEDER'].isin(feeder)) & ((df.METER_READ_REMARK== 'RDF') | (df.METER_READ_REMARK== 'IDF'))].pivot_table(index=['Circle_Name','Division_Name','SUBSTATION','FEEDER'],columns = ['METER_READ_REMARK'], values=['ACCT_ID'],\n",
    "                    aggfunc={'ACCT_ID':'count'},fill_value=0,margins=True)"
   ]
  },
  {
   "cell_type": "code",
   "execution_count": 152,
   "id": "480849fd-a6d9-4117-a4dc-c4e169493ead",
   "metadata": {},
   "outputs": [],
   "source": [
    "feeder_report_idfrdf.to_excel(f\"nov2023/{circle}/report/{circle}_feeder_idfrdf_nov.xlsx\")"
   ]
  },
  {
   "cell_type": "code",
   "execution_count": 153,
   "id": "19668ad5-417a-4d98-af14-9925104b1243",
   "metadata": {},
   "outputs": [],
   "source": [
    "feeder_report_load.to_excel(f\"nov2023/{circle}/report/{circle}_feeder_load_nov.xlsx\")"
   ]
  },
  {
   "cell_type": "code",
   "execution_count": 40,
   "id": "c832c396-ab8f-43fe-bf85-b287db672dac",
   "metadata": {
    "tags": []
   },
   "outputs": [],
   "source": [
    "graphvc.to_excel(f\"{month}/{circle}/report/{circle}_graph_nov_new.xlsx\")"
   ]
  },
  {
   "cell_type": "code",
   "execution_count": 117,
   "id": "d57fc80f-5f88-499d-a6b5-3221f0e5f3b3",
   "metadata": {
    "tags": []
   },
   "outputs": [],
   "source": [
    "meter_read_remark.to_excel(f\"{month}/{circle}/report/{circle}_read_remark_nov.xlsx\")"
   ]
  },
  {
   "cell_type": "code",
   "execution_count": 118,
   "id": "c341a25d-32a6-496a-9e1a-20f5a0de4096",
   "metadata": {
    "tags": []
   },
   "outputs": [],
   "source": [
    "BILL_BASIS.to_excel(f\"{month}/{circle}/report/{circle}_BILL_BASIS_nov.xlsx\")"
   ]
  },
  {
   "cell_type": "code",
   "execution_count": 134,
   "id": "8e98ac26-8c4f-4a9d-baa2-57b578fc75fa",
   "metadata": {
    "tags": []
   },
   "outputs": [],
   "source": [
    "Sbm.to_excel(f\"{month}/{circle}/report/{circle}_sbm_nov.xlsx\")"
   ]
  },
  {
   "cell_type": "code",
   "execution_count": 43,
   "id": "1282404d-03ec-4590-8081-18b38a997e88",
   "metadata": {
    "tags": []
   },
   "outputs": [],
   "source": [
    "rdf_sdo.to_excel(f\"{month}/{circle}/report/{circle}_nov_rdf_sdo.xlsx\")"
   ]
  },
  {
   "cell_type": "code",
   "execution_count": 48,
   "id": "65983e7c-7436-4fcb-85be-bfa7d32cbee7",
   "metadata": {
    "tags": []
   },
   "outputs": [],
   "source": [
    "div_cat_connection.to_excel(f\"{month}/{circle}/report/{circle}_nov_cat_conn.xlsx\")"
   ]
  },
  {
   "cell_type": "code",
   "execution_count": null,
   "id": "b5480d4f-d924-4d07-a4e2-b95c46229b74",
   "metadata": {},
   "outputs": [],
   "source": []
  },
  {
   "cell_type": "code",
   "execution_count": 66,
   "id": "9e6442fe-9e4e-43be-a572-1f60946d582d",
   "metadata": {
    "tags": []
   },
   "outputs": [],
   "source": [
    "zone_arrear_cat_vc.to_excel(f\"{month}/{circle}/report/{circle}_arrear_cat_nov.xlsx\")"
   ]
  },
  {
   "cell_type": "code",
   "execution_count": 74,
   "id": "10469631-6990-401f-873a-a8a261cc413e",
   "metadata": {
    "tags": []
   },
   "outputs": [],
   "source": [
    "zone_cat_cat.to_excel(f\"{month}/{circle}/report/{circle}_arrear_catVC_nov.xlsx\")"
   ]
  },
  {
   "cell_type": "code",
   "execution_count": 75,
   "id": "d097e947-1c6c-4c61-8c44-3244568c64b2",
   "metadata": {
    "tags": []
   },
   "outputs": [],
   "source": [
    "ots_1.to_excel(f\"{month}/{circle}/report/{circle}_cat_nov_ots_1.xlsx\")"
   ]
  },
  {
   "cell_type": "code",
   "execution_count": 76,
   "id": "df942c82-7caf-4750-b7e0-0156666ae32a",
   "metadata": {
    "tags": []
   },
   "outputs": [],
   "source": [
    "ots_500.to_excel(f\"{month}/{circle}/report/{circle}_cat_nov_ots_500.xlsx\")"
   ]
  },
  {
   "cell_type": "code",
   "execution_count": 77,
   "id": "202125cf-2f52-43a6-94ec-cdbebca7c0fa",
   "metadata": {
    "tags": []
   },
   "outputs": [
    {
     "ename": "NameError",
     "evalue": "name 'div_csc_other' is not defined",
     "output_type": "error",
     "traceback": [
      "\u001b[1;31m---------------------------------------------------------------------------\u001b[0m",
      "\u001b[1;31mNameError\u001b[0m                                 Traceback (most recent call last)",
      "Cell \u001b[1;32mIn[77], line 1\u001b[0m\n\u001b[1;32m----> 1\u001b[0m div_csc_other\u001b[38;5;241m.\u001b[39mto_excel(\u001b[38;5;124mf\u001b[39m\u001b[38;5;124m\"\u001b[39m\u001b[38;5;132;01m{\u001b[39;00mmonth\u001b[38;5;132;01m}\u001b[39;00m\u001b[38;5;124m/\u001b[39m\u001b[38;5;132;01m{\u001b[39;00mcircle\u001b[38;5;132;01m}\u001b[39;00m\u001b[38;5;124m/report/\u001b[39m\u001b[38;5;132;01m{\u001b[39;00mcircle\u001b[38;5;132;01m}\u001b[39;00m\u001b[38;5;124m_CSC_nov_other.xlsx\u001b[39m\u001b[38;5;124m\"\u001b[39m)\n",
      "\u001b[1;31mNameError\u001b[0m: name 'div_csc_other' is not defined"
     ]
    }
   ],
   "source": [
    "div_csc_other.to_excel(f\"{month}/{circle}/report/{circle}_CSC_nov_other.xlsx\")"
   ]
  },
  {
   "cell_type": "code",
   "execution_count": 78,
   "id": "2eaa742e-ea95-47aa-9a16-24ec8568ab32",
   "metadata": {
    "tags": []
   },
   "outputs": [],
   "source": [
    "arrear_paid.to_excel(f\"{month}/{circle}/report/{circle}_arrear_paid_nov.xlsx\")"
   ]
  },
  {
   "cell_type": "code",
   "execution_count": 79,
   "id": "a3d47756-b3a1-4fee-8e78-82356ef1df92",
   "metadata": {
    "tags": []
   },
   "outputs": [],
   "source": [
    "feeder_report.to_excel(f\"{month}/{circle}/report/{circle}_feeder_nov.xlsx\")"
   ]
  },
  {
   "cell_type": "code",
   "execution_count": 80,
   "id": "5b3d7fd2-2796-4029-a5d6-4c2e87920695",
   "metadata": {
    "tags": []
   },
   "outputs": [
    {
     "ename": "NameError",
     "evalue": "name 'zone_graph' is not defined",
     "output_type": "error",
     "traceback": [
      "\u001b[1;31m---------------------------------------------------------------------------\u001b[0m",
      "\u001b[1;31mNameError\u001b[0m                                 Traceback (most recent call last)",
      "Cell \u001b[1;32mIn[80], line 1\u001b[0m\n\u001b[1;32m----> 1\u001b[0m zone_graph\u001b[38;5;241m.\u001b[39mto_excel(\u001b[38;5;124mf\u001b[39m\u001b[38;5;124m\"\u001b[39m\u001b[38;5;132;01m{\u001b[39;00mmonth\u001b[38;5;132;01m}\u001b[39;00m\u001b[38;5;124m/\u001b[39m\u001b[38;5;132;01m{\u001b[39;00mcircle\u001b[38;5;132;01m}\u001b[39;00m\u001b[38;5;124m/report/\u001b[39m\u001b[38;5;132;01m{\u001b[39;00mcircle\u001b[38;5;132;01m}\u001b[39;00m\u001b[38;5;124m_graph_nov.xlsx\u001b[39m\u001b[38;5;124m\"\u001b[39m)\n",
      "\u001b[1;31mNameError\u001b[0m: name 'zone_graph' is not defined"
     ]
    }
   ],
   "source": [
    "zone_graph.to_excel(f\"{month}/{circle}/report/{circle}_graph_nov.xlsx\")"
   ]
  },
  {
   "cell_type": "code",
   "execution_count": 44,
   "id": "54881d24-6582-4df1-8951-ae2bcb9c04c7",
   "metadata": {
    "tags": []
   },
   "outputs": [
    {
     "data": {
      "text/plain": [
       "(9878, 55)"
      ]
     },
     "execution_count": 44,
     "metadata": {},
     "output_type": "execute_result"
    }
   ],
   "source": [
    "df1.shape"
   ]
  },
  {
   "cell_type": "code",
   "execution_count": 43,
   "id": "08cdf3ab-661d-4ac2-9eea-e178bfa62eaa",
   "metadata": {
    "tags": []
   },
   "outputs": [],
   "source": [
    "df1.to_excel(f\"{month}/{circle}_oct_10kw.xlsx\")"
   ]
  },
  {
   "cell_type": "code",
   "execution_count": 81,
   "id": "c6b8ce88-b516-46c2-b55d-bcdfa2a0d73c",
   "metadata": {
    "tags": []
   },
   "outputs": [],
   "source": [
    "div_cat.to_excel(f\"{month}/{circle}/report/{circle}_divCAT_nov.xlsx\")"
   ]
  },
  {
   "cell_type": "code",
   "execution_count": null,
   "id": "b444423f-ed59-4f2a-aa63-80516a1fbfe1",
   "metadata": {},
   "outputs": [],
   "source": [
    "import ftplib\n",
    "\n",
    "path = 'ftp://mvftpreport@ftp.uppclonline.com/CSV_MASTER/25092023/MASTER_MVVNL_DIV354921_25092023.csv.gz'\n",
    "filename = 'MASTER_MVVNL_DIV354921_25092023.csv.gz'  \n",
    "# ftp://mvftpreport@ftp.uppclonline.com/CSV_MASTER/25092023/MASTER_MVVNL_DIV354921_25092023.csv.gz\n",
    "\n",
    "ftp = ftplib.FTP(\"Server IP\") \n",
    "ftp.login(\"UserName\", \"Password\") \n",
    "ftp.cwd(path)\n",
    "ftp.retrbinary(\"RETR \" + filename, open(filename, 'wb').write)\n",
    "ftp.quit()"
   ]
  },
  {
   "cell_type": "code",
   "execution_count": 1,
   "id": "fc357107-fad0-433d-a560-cee79bed4f4c",
   "metadata": {},
   "outputs": [
    {
     "ename": "ModuleNotFoundError",
     "evalue": "No module named 'wget'",
     "output_type": "error",
     "traceback": [
      "\u001b[1;31m---------------------------------------------------------------------------\u001b[0m",
      "\u001b[1;31mModuleNotFoundError\u001b[0m                       Traceback (most recent call last)",
      "Cell \u001b[1;32mIn[1], line 1\u001b[0m\n\u001b[1;32m----> 1\u001b[0m \u001b[38;5;28;01mimport\u001b[39;00m \u001b[38;5;21;01mwget\u001b[39;00m\n\u001b[0;32m      2\u001b[0m link \u001b[38;5;241m=\u001b[39m \u001b[38;5;124m'\u001b[39m\u001b[38;5;124mftp://mvftpreport@ftp.uppclonline.com/CSV_BILLED/25092023/BILLED_MVVNL_DIV354921_25092023.csv.gz\u001b[39m\u001b[38;5;124m'\u001b[39m\n\u001b[0;32m      3\u001b[0m wget\u001b[38;5;241m.\u001b[39mdownload(link)\n",
      "\u001b[1;31mModuleNotFoundError\u001b[0m: No module named 'wget'"
     ]
    }
   ],
   "source": [
    "import wget\n",
    "link = 'ftp://mvftpreport@ftp.uppclonline.com/CSV_MASTER/25092023/MASTER_MVVNL_DIV354921_25092023.csv.gz'\n",
    "wget.download(link)"
   ]
  },
  {
   "cell_type": "code",
   "execution_count": null,
   "id": "922f16d8-bc13-4868-b516-452e75eab397",
   "metadata": {},
   "outputs": [],
   "source": []
  }
 ],
 "metadata": {
  "kernelspec": {
   "display_name": "Python 3 (ipykernel)",
   "language": "python",
   "name": "python3"
  },
  "language_info": {
   "codemirror_mode": {
    "name": "ipython",
    "version": 3
   },
   "file_extension": ".py",
   "mimetype": "text/x-python",
   "name": "python",
   "nbconvert_exporter": "python",
   "pygments_lexer": "ipython3",
   "version": "3.11.4"
  }
 },
 "nbformat": 4,
 "nbformat_minor": 5
}
