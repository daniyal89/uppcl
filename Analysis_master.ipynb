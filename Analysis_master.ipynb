{
 "cells": [
  {
   "cell_type": "code",
   "execution_count": 1,
   "id": "f36a876f-ef06-4704-bdba-c4e007f78882",
   "metadata": {
    "tags": []
   },
   "outputs": [],
   "source": [
    "import pandas as pd\n",
    "import numpy as np\n",
    "from joblib import Parallel, delayed\n",
    "from datetime import datetime \n",
    "\n",
    "import time"
   ]
  },
  {
   "cell_type": "code",
   "execution_count": 2,
   "id": "55a7415c-0c70-4a7a-9121-968566deb035",
   "metadata": {
    "tags": []
   },
   "outputs": [],
   "source": [
    "#  parameters\n",
    "circle=\"Zone\"\n",
    "month=\"sep2023\"\n",
    "month_doc=6\n",
    "month_unpaid=9\n",
    "date='28092023'"
   ]
  },
  {
   "cell_type": "code",
   "execution_count": 3,
   "id": "9678c38e-39ee-430f-bf1a-5b10dbcd561f",
   "metadata": {
    "tags": []
   },
   "outputs": [
    {
     "name": "stderr",
     "output_type": "stream",
     "text": [
      "C:\\Users\\daniy\\AppData\\Local\\Temp\\ipykernel_2952\\3092121225.py:1: DtypeWarning: Columns (6,28,30) have mixed types. Specify dtype option on import or set low_memory=False.\n",
      "  df_master = pd.read_csv(f\"./{month}/{circle}/Zone_aug23_nc.csv\")\n"
     ]
    }
   ],
   "source": [
    "df_master = pd.read_csv(f\"./{month}/{circle}/Zone_aug23_nc.csv\")"
   ]
  },
  {
   "cell_type": "code",
   "execution_count": 31,
   "id": "2e279266-157e-472a-8bc4-ffcba2e82f46",
   "metadata": {
    "tags": []
   },
   "outputs": [
    {
     "name": "stderr",
     "output_type": "stream",
     "text": [
      "C:\\Users\\daniy\\AppData\\Local\\Temp\\ipykernel_20880\\52854990.py:1: DtypeWarning: Columns (7,11,29,31,50) have mixed types. Specify dtype option on import or set low_memory=False.\n",
      "  df = pd.read_csv(f\"./{month}/{circle}/{circle}_{date}_merge.csv\")\n"
     ]
    }
   ],
   "source": [
    "df = pd.read_csv(f\"./{month}/{circle}/{circle}_{date}_merge.csv\")"
   ]
  },
  {
   "cell_type": "code",
   "execution_count": 5,
   "id": "7afe370e-94ae-4236-88ab-73b9275c0f74",
   "metadata": {
    "tags": []
   },
   "outputs": [
    {
     "data": {
      "text/plain": [
       "Index(['Unnamed: 0', 'DIV_CODE', 'SDO_CODE', 'SUBSTATION', 'FEEDER', 'ACCT_ID',\n",
       "       'KNO', 'NAME', 'ADDRESS', 'MOBILE_NO', 'SUPPLY_TYPE',\n",
       "       'CONSUMPTION_CURR_MNTH', 'CONSUMPTION_PREV_MNTH', 'DOC', 'BILL_BASIS',\n",
       "       'METER_STATUS', 'METER_READ_REMARK', 'CON_STATUS', 'LOAD', 'MDI',\n",
       "       'ARREAR', 'CURRENT_ASSESSMENT', 'TOTAL_OUTSTANDING', 'LAST_OK_READING',\n",
       "       'LAST_OK_READ_STATUS', 'METER_READ_FLTY_CNT', 'LAST_PAY_AMT',\n",
       "       'LAST_PAY_DATE', 'INDUSTRIAL_FLAG', 'ACCT_INFLALTED_FLAG', 'GOVT_CODE',\n",
       "       'LAST_BILL_DATE', 'PAYMENT_SRCE', 'TOTAL_PAY_AMT', 'CONSUMER_BASE',\n",
       "       'paid_status', 'Neverpaid_count', 'Neverpaid_status', 'gov_flag',\n",
       "       'relGov', 'faulty_Ageing', 'bilable_flag', 'MDI_filter',\n",
       "       'low_consumtion_filter', 'ARREAR_FILTER', 'Cat', 'LOAD_FILTER'],\n",
       "      dtype='object')"
      ]
     },
     "execution_count": 5,
     "metadata": {},
     "output_type": "execute_result"
    }
   ],
   "source": [
    "df_master.columns"
   ]
  },
  {
   "cell_type": "code",
   "execution_count": 10,
   "id": "0d93dc37-9bd8-41d7-8618-e0e879f0ab13",
   "metadata": {
    "tags": []
   },
   "outputs": [],
   "source": [
    "df['DOC'] = pd.to_datetime(df['DOC'],dayfirst=True)\n",
    "zone2k_25k =df[(df.gov_flag == False) &(df.bilable_flag == True) & ((df.Cat == 'LMV1') | (df.Cat == 'LMV2')) &(df.CON_STATUS == 'In Service')  ].pivot_table(index='DIV_CODE', columns=['Cat','CONSUMER_BASE','ARREAR_FILTER'], values=['ACCT_ID','TOTAL_OUTSTANDING','TOTAL_PAY_AMT','paid_status','Neverpaid_status'],\n",
    "                    aggfunc={'ACCT_ID':'count','TOTAL_OUTSTANDING':np.sum,\n",
    "                            'TOTAL_PAY_AMT':np.sum,'paid_status':np.sum,'Neverpaid_status':np.sum},fill_value=0,margins=True,margins_name='Total' )"
   ]
  },
  {
   "cell_type": "code",
   "execution_count": 13,
   "id": "eaa06357-bc52-4712-947d-a53397703085",
   "metadata": {
    "tags": []
   },
   "outputs": [],
   "source": [
    "# pivot_table.plot(kind='pie',\n",
    "#             subplots=True,\n",
    "#               title='Population (1955-2020)',autopct='%1.0f%%')\n",
    "\n",
    "NeverpaidAug2019 =df[(df.gov_flag == False) &(df.bilable_flag == True) & ((pd.isnull(df['LAST_PAY_DATE'] )) & (df['DOC'] > pd.Timestamp(2020,4, 1))) ].pivot_table(index='DIV_CODE', columns=['Cat'],values=['ACCT_ID','CURRENT_ASSESSMENT','TOTAL_OUTSTANDING',],\n",
    "                    aggfunc={'ACCT_ID':'count','CURRENT_ASSESSMENT':np.sum,'TOTAL_OUTSTANDING':np.sum},fill_value=0,margins=True,margins_name='Total' )\n"
   ]
  },
  {
   "cell_type": "code",
   "execution_count": 9,
   "id": "6cdc2a23-c513-46aa-8751-8b459cfaa6bd",
   "metadata": {
    "tags": []
   },
   "outputs": [],
   "source": [
    "# pivot_table.plot(kind='pie',\n",
    "#             subplots=True,\n",
    "#               title='Population (1955-2020)',autopct='%1.0f%%')\n",
    "\n",
    "SUBSTATION_FEEDER_AUG =df_master[(df_master.bilable_flag == True)].pivot_table(index='DIV_CODE',values=['SUBSTATION','FEEDER'],\n",
    "                    aggfunc={'SUBSTATION':pd.Series.nunique,'FEEDER':pd.Series.nunique},fill_value=0,margins=True,margins_name='Total' )\n"
   ]
  },
  {
   "cell_type": "code",
   "execution_count": null,
   "id": "50d2971f-d2da-4b92-a909-e41db375c9c1",
   "metadata": {},
   "outputs": [],
   "source": []
  },
  {
   "cell_type": "code",
   "execution_count": null,
   "id": "5d4cb161-1049-4bf1-aab5-b83605007f1a",
   "metadata": {},
   "outputs": [],
   "source": []
  },
  {
   "cell_type": "code",
   "execution_count": 3,
   "id": "d8d4b774-c93b-419f-b09e-57dacf627549",
   "metadata": {
    "tags": []
   },
   "outputs": [],
   "source": [
    "# pivot_table.plot(kind='pie',\n",
    "#             subplots=True,\n",
    "#               title='Population (1955-2020)',autopct='%1.0f%%')\n",
    "\n",
    "load =df[(df.gov_flag == False) &(df.bilable_flag == True) ].pivot_table(index='DIV_CODE', columns=[''],values=['ACCT_ID','CURRENT_ASSESSMENT','TOTAL_OUTSTANDING','TOTAL_PAY_AMT','paid_status'],\n",
    "                    aggfunc={'ACCT_ID':'count','CURRENT_ASSESSMENT':np.sum,'TOTAL_OUTSTANDING':np.sum,'TOTAL_PAY_AMT':np.sum,'paid_status':np.sum},fill_value=0,margins=True )\n"
   ]
  },
  {
   "cell_type": "code",
   "execution_count": 4,
   "id": "0039f371-0298-4f01-91df-51a5e0932a70",
   "metadata": {
    "tags": []
   },
   "outputs": [],
   "source": [
    "# pivot_table.plot(kind='pie',\n",
    "#             subplots=True,\n",
    "#               title='Population (1955-2020)',autopct='%1.0f%%')\n",
    "\n",
    "low_consumtion =df[(df.gov_flag == False) &(df.bilable_flag == True) ].pivot_table(index='DIV_CODE', columns=['low_consumtion_filter'],values=['ACCT_ID'],\n",
    "                    aggfunc={'ACCT_ID':'count'},fill_value=0,margins=True )\n"
   ]
  },
  {
   "cell_type": "code",
   "execution_count": 6,
   "id": "ea19907b-da0c-42a5-b614-a6615ae11ef1",
   "metadata": {
    "tags": []
   },
   "outputs": [],
   "source": [
    "# pivot_table.plot(kind='pie',\n",
    "#             subplots=True,\n",
    "#               title='Population (1955-2020)',autopct='%1.0f%%')\n",
    "\n",
    "mdi_load =df[(df.gov_flag == False) &(df.bilable_flag == True) ].pivot_table(index='DIV_CODE', columns=['MDI_filter'],values=['ACCT_ID'],\n",
    "                    aggfunc={'ACCT_ID':'count'},fill_value=0,margins=True )\n"
   ]
  },
  {
   "cell_type": "code",
   "execution_count": 35,
   "id": "cbe09f1c-6353-4bfa-8d76-f9e884182794",
   "metadata": {
    "tags": []
   },
   "outputs": [],
   "source": [
    "# pivot_table.plot(kind='pie',\n",
    "#             subplots=True,\n",
    "#               title='Population (1955-2020)',autopct='%1.0f%%')\n",
    "\n",
    "Zone_arrear_billed =df[(df.gov_flag == False) & (df.CON_STATUS == 'In Service') ].pivot_table(index=['DIV_CODE','ARREAR_FILTER'], columns=['Cat'],values=['ACCT_ID','CURRENT_ASSESSMENT','TOTAL_OUTSTANDING','curr_paid_amount','paid_status_curr'],\n",
    "                    aggfunc={'ACCT_ID':'count','CURRENT_ASSESSMENT':np.sum,'TOTAL_OUTSTANDING':np.sum,'curr_paid_amount':np.sum,'paid_status_curr':np.sum},fill_value=0,margins=True,observed=True )\n"
   ]
  },
  {
   "cell_type": "code",
   "execution_count": 15,
   "id": "6e2b9a9a-5bf0-417c-a730-a950460da036",
   "metadata": {
    "tags": []
   },
   "outputs": [],
   "source": [
    "# pivot_table.plot(kind='pie',\n",
    "#             subplots=True,\n",
    "#               title='Population (1955-2020)',autopct='%1.0f%%')\n",
    "\n",
    "Zone_arrear_2k_25k =df[(df.gov_flag == False) & (df.CON_STATUS == 'In Service') & (df.ARREAR_FILTER=='>=2k-25k')].pivot_table(index='DIV_CODE',columns=['Cat'],values=['ACCT_ID','CURRENT_ASSESSMENT','TOTAL_OUTSTANDING','TOTAL_PAY_AMT','paid_status'],\n",
    "                    aggfunc={'ACCT_ID':'count','CURRENT_ASSESSMENT':np.sum,'TOTAL_OUTSTANDING':np.sum,'TOTAL_PAY_AMT':np.sum,'paid_status':np.sum},fill_value=0,margins=True)\n"
   ]
  },
  {
   "cell_type": "code",
   "execution_count": 16,
   "id": "69c44519-9cfa-4391-bb9a-0832f5c78806",
   "metadata": {
    "tags": []
   },
   "outputs": [],
   "source": [
    "# pivot_table.plot(kind='pie',\n",
    "#             subplots=True,\n",
    "#               title='Population (1955-2020)',autopct='%1.0f%%')\n",
    "\n",
    "Newconnection2020=df[(df['DOC'] > pd.Timestamp(2020,4, 1))].pivot_table(index='DIV_CODE', columns=['Cat'],values=['ACCT_ID','CURRENT_ASSESSMENT','TOTAL_OUTSTANDING',],\n",
    "                    aggfunc={'ACCT_ID':'count','CURRENT_ASSESSMENT':np.sum,'TOTAL_OUTSTANDING':np.sum},fill_value=0,margins=True,margins_name='Total' )\n"
   ]
  },
  {
   "cell_type": "code",
   "execution_count": 15,
   "id": "805ac442-33a2-4e79-8ab1-e7f81583f64c",
   "metadata": {},
   "outputs": [
    {
     "data": {
      "text/plain": [
       "<Axes: title={'center': 'Population (1955-2020)'}, ylabel='ACCT_ID'>"
      ]
     },
     "execution_count": 15,
     "metadata": {},
     "output_type": "execute_result"
    },
    {
     "data": {
      "image/png": "[encoded data removed]",
      "text/plain": [
       "<Figure size 640x480 with 1 Axes>"
      ]
     },
     "metadata": {},
     "output_type": "display_data"
    }
   ],
   "source": [
    "df[(df.bilable_flag == True) & (df.DIV_CODE =='DIV354921' )].pivot_table(index='Cat', \n",
    "                    aggfunc={'ACCT_ID':'count'},fill_value=0).plot(kind='pie',\n",
    "              y='ACCT_ID',\n",
    "              title='Population (1955-2020)',autopct='%1.0f%%'\n",
    "              )"
   ]
  },
  {
   "cell_type": "code",
   "execution_count": 10,
   "id": "b699ddad-1517-4f4f-be8e-38ba9c357041",
   "metadata": {},
   "outputs": [],
   "source": [
    "df1 = df[(df['gov_flag'] == False)]"
   ]
  },
  {
   "cell_type": "code",
   "execution_count": 15,
   "id": "cc5eb22a-52e6-4d61-8a1b-f93637fbc15e",
   "metadata": {
    "tags": []
   },
   "outputs": [],
   "source": [
    "\n",
    "circle=\"Zone\"\n",
    "month=\"aug2023\"\n",
    "NeverpaidAug2019.to_excel(f\"{month}/{circle}/{circle}_Never2020_cat.xlsx\")"
   ]
  },
  {
   "cell_type": "code",
   "execution_count": null,
   "id": "b27343ae-f676-48cd-b273-e70477d78df8",
   "metadata": {},
   "outputs": [],
   "source": []
  },
  {
   "cell_type": "code",
   "execution_count": 17,
   "id": "358b22c6-830e-4188-a11c-cb9544f7cbb4",
   "metadata": {
    "tags": []
   },
   "outputs": [],
   "source": [
    "Newconnection2020.to_excel(f\"{month}/{circle}/{circle}_New2020_cat.xlsx\")"
   ]
  },
  {
   "cell_type": "code",
   "execution_count": 11,
   "id": "421cec01",
   "metadata": {},
   "outputs": [],
   "source": [
    "df1 =  df1[df1['bilable_flag'] == True]"
   ]
  },
  {
   "cell_type": "code",
   "execution_count": 12,
   "id": "a61aca26",
   "metadata": {},
   "outputs": [],
   "source": [
    "df1 = df1[df1['TOTAL_OUTSTANDING'] >= 2500000]"
   ]
  },
  {
   "cell_type": "code",
   "execution_count": 13,
   "id": "6e78917d",
   "metadata": {},
   "outputs": [],
   "source": [
    "df1.to_excel(\"25lac-grto_excellist-gonda.xlsx\")"
   ]
  },
  {
   "cell_type": "code",
   "execution_count": 11,
   "id": "a6fe347d-310c-4cbb-bd32-0ef526ccd7cd",
   "metadata": {
    "tags": []
   },
   "outputs": [],
   "source": [
    "SUBSTATION_FEEDER_AUG.to_excel(f\"{month}/{circle}/sub-feeder.xlsx\")"
   ]
  },
  {
   "cell_type": "code",
   "execution_count": 36,
   "id": "601bcb3f-06fc-4568-bd9b-400f992a86c8",
   "metadata": {
    "tags": []
   },
   "outputs": [],
   "source": [
    "Zone_arrear_billed.to_excel(f\"{month}/{circle}/{circle}_arrear_billed.xlsx\")"
   ]
  },
  {
   "cell_type": "code",
   "execution_count": 16,
   "id": "72c99452",
   "metadata": {
    "tags": []
   },
   "outputs": [],
   "source": [
    "\n",
    "circle=\"Zone\"\n",
    "month=\"aug2023\"\n",
    "Zone_arrear_2k_25k.to_excel(f\"{month}/{circle}/{circle}_arrear2k_25k.xlsx\")\n"
   ]
  },
  {
   "cell_type": "code",
   "execution_count": 17,
   "id": "1792e258-32b6-43e6-acc9-66639db4ef1a",
   "metadata": {
    "tags": []
   },
   "outputs": [],
   "source": [
    "\n",
    "circle=\"Zone\"\n",
    "month=\"aug2023\"\n",
    "Zone_arrear.to_excel(f\"{month}/{circle}/{circle}_arrear.xlsx\")"
   ]
  },
  {
   "cell_type": "code",
   "execution_count": 4,
   "id": "1b73618d-fa84-4166-86ac-f0afa14fcd83",
   "metadata": {
    "tags": []
   },
   "outputs": [],
   "source": [
    "Zone_5_9kw_list = df[(df.gov_flag == False) & (df.bilable_flag == True) & (df.LOAD_FILTER=='5-9kw')]"
   ]
  },
  {
   "cell_type": "code",
   "execution_count": 7,
   "id": "25d9102d-1d99-47dc-adb0-060da32d5db2",
   "metadata": {
    "tags": []
   },
   "outputs": [],
   "source": [
    "circle=\"Zone\"\n",
    "month=\"aug2023\"\n",
    "Zone_5_9kw_list.to_csv(f\"{month}/{circle}/{circle}_aug23_5_9_list.csv\") "
   ]
  },
  {
   "cell_type": "code",
   "execution_count": 8,
   "id": "f4f9a43e-7425-4a12-b3e2-2353a0546360",
   "metadata": {
    "tags": []
   },
   "outputs": [],
   "source": [
    "circle=\"Zone\"\n",
    "month=\"aug2023\"\n",
    "month_doc=6\n",
    "month_unpaid=8"
   ]
  },
  {
   "cell_type": "code",
   "execution_count": 9,
   "id": "6e06f4fd-bed3-4378-a53a-5d579e694b70",
   "metadata": {
    "tags": []
   },
   "outputs": [],
   "source": [
    "import os\n",
    "\n",
    "mylist = os.listdir(f\"{month}/{circle}/billed\")"
   ]
  },
  {
   "cell_type": "code",
   "execution_count": 10,
   "id": "cb1d8fde-dc83-4f99-80c8-3990fe5c6c83",
   "metadata": {
    "tags": []
   },
   "outputs": [],
   "source": [
    "def loop(file_name):\n",
    "    return pd.read_csv(f\"{month}/{circle}/billed/{file_name}\")"
   ]
  },
  {
   "cell_type": "code",
   "execution_count": 11,
   "id": "d2aa6de5-36d5-48d4-befb-cfbd342f8c51",
   "metadata": {
    "tags": []
   },
   "outputs": [
    {
     "data": {
      "text/plain": [
       "['BILLED_MVVNL_DIV354921_28092023.csv',\n",
       " 'BILLED_MVVNL_DIV354922_28092023.csv',\n",
       " 'BILLED_MVVNL_DIV354923_28092023.csv',\n",
       " 'BILLED_MVVNL_DIV355131_28092023.csv',\n",
       " 'BILLED_MVVNL_DIV355132_28092023.csv',\n",
       " 'BILLED_MVVNL_DIV355133_28092023.csv',\n",
       " 'BILLED_MVVNL_DIV355211_28092023.csv',\n",
       " 'BILLED_MVVNL_DIV355212_28092023.csv',\n",
       " 'BILLED_MVVNL_DIV355213_28092023.csv',\n",
       " 'BILLED_MVVNL_DIV355214_28092023.csv']"
      ]
     },
     "execution_count": 11,
     "metadata": {},
     "output_type": "execute_result"
    }
   ],
   "source": [
    "mylist"
   ]
  },
  {
   "cell_type": "code",
   "execution_count": 12,
   "id": "85a200f5-d1e3-4612-bb1f-824b051ff4fb",
   "metadata": {
    "tags": []
   },
   "outputs": [
    {
     "name": "stderr",
     "output_type": "stream",
     "text": [
      "[Parallel(n_jobs=-1)]: Using backend ThreadingBackend with 20 concurrent workers.\n",
      "C:\\Users\\daniy\\AppData\\Local\\Temp\\ipykernel_20880\\2875149970.py:2: DtypeWarning: Columns (1,7,19,20,24,25,26,47,48) have mixed types. Specify dtype option on import or set low_memory=False.\n",
      "  return pd.read_csv(f\"{month}/{circle}/billed/{file_name}\")\n",
      "C:\\Users\\daniy\\AppData\\Local\\Temp\\ipykernel_20880\\2875149970.py:2: DtypeWarning: Columns (0,5,7,19,24,25,26,41,48,50) have mixed types. Specify dtype option on import or set low_memory=False.\n",
      "  return pd.read_csv(f\"{month}/{circle}/billed/{file_name}\")\n",
      "[Parallel(n_jobs=-1)]: Done   3 out of  10 | elapsed:    7.9s remaining:   18.6s\n",
      "C:\\Users\\daniy\\AppData\\Local\\Temp\\ipykernel_20880\\2875149970.py:2: DtypeWarning: Columns (38) have mixed types. Specify dtype option on import or set low_memory=False.\n",
      "  return pd.read_csv(f\"{month}/{circle}/billed/{file_name}\")\n",
      "C:\\Users\\daniy\\AppData\\Local\\Temp\\ipykernel_20880\\2875149970.py:2: DtypeWarning: Columns (38,49,52) have mixed types. Specify dtype option on import or set low_memory=False.\n",
      "  return pd.read_csv(f\"{month}/{circle}/billed/{file_name}\")\n",
      "C:\\Users\\daniy\\AppData\\Local\\Temp\\ipykernel_20880\\2875149970.py:2: DtypeWarning: Columns (49,52) have mixed types. Specify dtype option on import or set low_memory=False.\n",
      "  return pd.read_csv(f\"{month}/{circle}/billed/{file_name}\")\n",
      "[Parallel(n_jobs=-1)]: Done   5 out of  10 | elapsed:   13.2s remaining:   13.2s\n",
      "[Parallel(n_jobs=-1)]: Done   7 out of  10 | elapsed:   13.5s remaining:    5.7s\n",
      "C:\\Users\\daniy\\AppData\\Local\\Temp\\ipykernel_20880\\2875149970.py:2: DtypeWarning: Columns (38,49,52) have mixed types. Specify dtype option on import or set low_memory=False.\n",
      "  return pd.read_csv(f\"{month}/{circle}/billed/{file_name}\")\n",
      "C:\\Users\\daniy\\AppData\\Local\\Temp\\ipykernel_20880\\2875149970.py:2: DtypeWarning: Columns (49,52) have mixed types. Specify dtype option on import or set low_memory=False.\n",
      "  return pd.read_csv(f\"{month}/{circle}/billed/{file_name}\")\n",
      "[Parallel(n_jobs=-1)]: Done  10 out of  10 | elapsed:   16.0s finished\n"
     ]
    },
    {
     "name": "stdout",
     "output_type": "stream",
     "text": [
      "CSV: 18.862184047698975\n"
     ]
    }
   ],
   "source": [
    "start = time.time()\n",
    "billed = []\n",
    "billed = Parallel(n_jobs=-1, verbose=10,prefer=\"threads\")(delayed(loop)(file_name) for file_name in mylist)\n",
    "billed = pd.concat(billed, ignore_index=True)\n",
    "\n",
    "end = time.time()\n",
    "print(\"CSV:\", end - start)"
   ]
  },
  {
   "cell_type": "code",
   "execution_count": 18,
   "id": "941685f4-217b-4119-b34c-39cd757fcd05",
   "metadata": {
    "tags": []
   },
   "outputs": [
    {
     "data": {
      "text/plain": [
       "ACCT_ID                   object\n",
       "BOOK_NO                   object\n",
       "SCNO                      object\n",
       "NAME                      object\n",
       "ADDRESS                   object\n",
       "MOBILE_NO                 object\n",
       "TARIFF_TYPE               object\n",
       "SANCTION_LOAD             object\n",
       "SANCTION_LOAD_UOM         object\n",
       "SUBSTATION                object\n",
       "FEEDER                    object\n",
       "DT                        object\n",
       "POLE_NO                   object\n",
       "METER_SERIAL_NBR          object\n",
       "METER_READ_REMARK         object\n",
       "MR_SOURCE_CODE            object\n",
       "BILL_BASIS                object\n",
       "DUE_DATE                  object\n",
       "LAST_PAY_DATE             object\n",
       "LAST_PAYMENT_AMOUNT       object\n",
       "AMOUNT_PAYABLE            object\n",
       "BILL_TYP                  object\n",
       "BILL_DATE                 object\n",
       "BILL_CRE_DTTM             object\n",
       "BILLED_UNITS              object\n",
       "BILL_ID                   object\n",
       "CA                        object\n",
       "BILL_INF_FLG              object\n",
       "SBM_MACHINE_ID            object\n",
       "DISCOM                    object\n",
       "ZONE_CODE                 object\n",
       "ZONE_NAME                 object\n",
       "CIRCLE_CODE               object\n",
       "CIRCLE_NAME               object\n",
       "DIV_CODE                  object\n",
       "DIV_NAME                  object\n",
       "SDO_CODE                  object\n",
       "SDO_NAME                  object\n",
       "SUPPLY_TYPE               object\n",
       "PAYMENT_MODE              object\n",
       "BANK_NAME                 object\n",
       "CHQ_NUMBER                object\n",
       "LATITUDE                 float64\n",
       "LONGITUDE                float64\n",
       "EXECPTION_CODE           float64\n",
       "EXCEPTION_DESCRIPTION     object\n",
       "REFERENCE_ID              object\n",
       "PREV_RDG_KWH              object\n",
       "PREV_RDG_KVAH             object\n",
       "PREV_RDG_DATE             object\n",
       "CUR_RDG_KWH               object\n",
       "CUR_RDG_KVAH             float64\n",
       "CUR_RDG_DATE              object\n",
       "MTR_RDR_NAME              object\n",
       "MTR_RDR_AGENCY            object\n",
       "MTR_NO_RECORDED           object\n",
       "MTR_MAKE_RECORDED         object\n",
       "MANUL_BILL_EXCEP          object\n",
       "MF                       float64\n",
       "dtype: object"
      ]
     },
     "execution_count": 18,
     "metadata": {},
     "output_type": "execute_result"
    }
   ],
   "source": [
    "billed.dtypes"
   ]
  },
  {
   "cell_type": "code",
   "execution_count": 19,
   "id": "72fcd4b7-1c99-422e-a1ef-738ee7764418",
   "metadata": {
    "tags": []
   },
   "outputs": [
    {
     "data": {
      "text/plain": [
       "Unnamed: 0                 int64\n",
       "DIV_CODE                  object\n",
       "SDO_CODE                  object\n",
       "SUBSTATION                object\n",
       "FEEDER                    object\n",
       "ACCT_ID                  float64\n",
       "KNO                       object\n",
       "NAME                      object\n",
       "ADDRESS                   object\n",
       "MOBILE_NO                float64\n",
       "SUPPLY_TYPE               object\n",
       "CONSUMPTION_CURR_MNTH    float64\n",
       "CONSUMPTION_PREV_MNTH    float64\n",
       "DOC                       object\n",
       "BILL_BASIS                object\n",
       "METER_STATUS              object\n",
       "METER_READ_REMARK         object\n",
       "CON_STATUS                object\n",
       "LOAD                     float64\n",
       "MDI                      float64\n",
       "ARREAR                   float64\n",
       "CURRENT_ASSESSMENT       float64\n",
       "TOTAL_OUTSTANDING        float64\n",
       "LAST_OK_READING          float64\n",
       "LAST_OK_READ_STATUS       object\n",
       "METER_READ_FLTY_CNT      float64\n",
       "LAST_PAY_AMT             float64\n",
       "LAST_PAY_DATE             object\n",
       "INDUSTRIAL_FLAG           object\n",
       "ACCT_INFLALTED_FLAG       object\n",
       "GOVT_CODE                 object\n",
       "LAST_BILL_DATE            object\n",
       "PAYMENT_SRCE              object\n",
       "TOTAL_PAY_AMT            float64\n",
       "CONSUMER_BASE             object\n",
       "paid_status                int64\n",
       "Neverpaid_count            int64\n",
       "Neverpaid_status         float64\n",
       "gov_flag                    bool\n",
       "relGov                    object\n",
       "faulty_Ageing             object\n",
       "bilable_flag                bool\n",
       "MDI_filter                object\n",
       "low_consumtion_filter     object\n",
       "ARREAR_FILTER             object\n",
       "Cat                       object\n",
       "LOAD_FILTER               object\n",
       "dtype: object"
      ]
     },
     "execution_count": 19,
     "metadata": {},
     "output_type": "execute_result"
    }
   ],
   "source": [
    "df.dtypes"
   ]
  },
  {
   "cell_type": "code",
   "execution_count": 22,
   "id": "0843ea0e-de26-401f-a7d5-0571bfd8601c",
   "metadata": {
    "tags": []
   },
   "outputs": [],
   "source": [
    "billed['ACCT_ID'] = pd.to_numeric(billed['ACCT_ID'],errors='coerce')"
   ]
  },
  {
   "cell_type": "code",
   "execution_count": 23,
   "id": "21186377-ed08-4dcc-8476-0d655f5f1f28",
   "metadata": {
    "tags": []
   },
   "outputs": [
    {
     "data": {
      "text/plain": [
       "ACCT_ID                  float64\n",
       "BOOK_NO                   object\n",
       "SCNO                      object\n",
       "NAME                      object\n",
       "ADDRESS                   object\n",
       "MOBILE_NO                 object\n",
       "TARIFF_TYPE               object\n",
       "SANCTION_LOAD             object\n",
       "SANCTION_LOAD_UOM         object\n",
       "SUBSTATION                object\n",
       "FEEDER                    object\n",
       "DT                        object\n",
       "POLE_NO                   object\n",
       "METER_SERIAL_NBR          object\n",
       "METER_READ_REMARK         object\n",
       "MR_SOURCE_CODE            object\n",
       "BILL_BASIS                object\n",
       "DUE_DATE                  object\n",
       "LAST_PAY_DATE             object\n",
       "LAST_PAYMENT_AMOUNT       object\n",
       "AMOUNT_PAYABLE            object\n",
       "BILL_TYP                  object\n",
       "BILL_DATE                 object\n",
       "BILL_CRE_DTTM             object\n",
       "BILLED_UNITS              object\n",
       "BILL_ID                   object\n",
       "CA                        object\n",
       "BILL_INF_FLG              object\n",
       "SBM_MACHINE_ID            object\n",
       "DISCOM                    object\n",
       "ZONE_CODE                 object\n",
       "ZONE_NAME                 object\n",
       "CIRCLE_CODE               object\n",
       "CIRCLE_NAME               object\n",
       "DIV_CODE                  object\n",
       "DIV_NAME                  object\n",
       "SDO_CODE                  object\n",
       "SDO_NAME                  object\n",
       "SUPPLY_TYPE               object\n",
       "PAYMENT_MODE              object\n",
       "BANK_NAME                 object\n",
       "CHQ_NUMBER                object\n",
       "LATITUDE                 float64\n",
       "LONGITUDE                float64\n",
       "EXECPTION_CODE           float64\n",
       "EXCEPTION_DESCRIPTION     object\n",
       "REFERENCE_ID              object\n",
       "PREV_RDG_KWH              object\n",
       "PREV_RDG_KVAH             object\n",
       "PREV_RDG_DATE             object\n",
       "CUR_RDG_KWH               object\n",
       "CUR_RDG_KVAH             float64\n",
       "CUR_RDG_DATE              object\n",
       "MTR_RDR_NAME              object\n",
       "MTR_RDR_AGENCY            object\n",
       "MTR_NO_RECORDED           object\n",
       "MTR_MAKE_RECORDED         object\n",
       "MANUL_BILL_EXCEP          object\n",
       "MF                       float64\n",
       "dtype: object"
      ]
     },
     "execution_count": 23,
     "metadata": {},
     "output_type": "execute_result"
    }
   ],
   "source": [
    "billed.dtypes"
   ]
  },
  {
   "cell_type": "code",
   "execution_count": 31,
   "id": "43f88172-de42-4dcf-bd18-6b4c1fe07ac2",
   "metadata": {
    "tags": []
   },
   "outputs": [
    {
     "ename": "TypeError",
     "evalue": "concat() got an unexpected keyword argument 'join_axes'",
     "output_type": "error",
     "traceback": [
      "\u001b[1;31m---------------------------------------------------------------------------\u001b[0m",
      "\u001b[1;31mTypeError\u001b[0m                                 Traceback (most recent call last)",
      "Cell \u001b[1;32mIn[31], line 1\u001b[0m\n\u001b[1;32m----> 1\u001b[0m combine\u001b[38;5;241m=\u001b[39m pd\u001b[38;5;241m.\u001b[39mconcat([df, billed], axis\u001b[38;5;241m=\u001b[39m\u001b[38;5;241m1\u001b[39m, join_axes\u001b[38;5;241m=\u001b[39m[df\u001b[38;5;241m.\u001b[39mACCT_ID])\n",
      "File \u001b[1;32mC:\\ProgramData\\anaconda3\\Lib\\site-packages\\pandas\\util\\_decorators.py:331\u001b[0m, in \u001b[0;36mdeprecate_nonkeyword_arguments.<locals>.decorate.<locals>.wrapper\u001b[1;34m(*args, **kwargs)\u001b[0m\n\u001b[0;32m    325\u001b[0m \u001b[38;5;28;01mif\u001b[39;00m \u001b[38;5;28mlen\u001b[39m(args) \u001b[38;5;241m>\u001b[39m num_allow_args:\n\u001b[0;32m    326\u001b[0m     warnings\u001b[38;5;241m.\u001b[39mwarn(\n\u001b[0;32m    327\u001b[0m         msg\u001b[38;5;241m.\u001b[39mformat(arguments\u001b[38;5;241m=\u001b[39m_format_argument_list(allow_args)),\n\u001b[0;32m    328\u001b[0m         \u001b[38;5;167;01mFutureWarning\u001b[39;00m,\n\u001b[0;32m    329\u001b[0m         stacklevel\u001b[38;5;241m=\u001b[39mfind_stack_level(),\n\u001b[0;32m    330\u001b[0m     )\n\u001b[1;32m--> 331\u001b[0m \u001b[38;5;28;01mreturn\u001b[39;00m func(\u001b[38;5;241m*\u001b[39margs, \u001b[38;5;241m*\u001b[39m\u001b[38;5;241m*\u001b[39mkwargs)\n",
      "\u001b[1;31mTypeError\u001b[0m: concat() got an unexpected keyword argument 'join_axes'"
     ]
    }
   ],
   "source": [
    " combine= pd.concat([df, billed], axis=1, join_axes=[df.ACCT_ID])"
   ]
  },
  {
   "cell_type": "code",
   "execution_count": 24,
   "id": "e8f48297-cc9c-4cca-a42e-bccba1f0b6c8",
   "metadata": {
    "tags": []
   },
   "outputs": [],
   "source": [
    "# using keys from left frame\n",
    "res = pd.merge(Zone_5_9kw_list, billed, how='left', on=['ACCT_ID'])"
   ]
  },
  {
   "cell_type": "code",
   "execution_count": 25,
   "id": "99b73576-fd8c-46cb-be64-9d6dd51a5eb0",
   "metadata": {
    "tags": []
   },
   "outputs": [],
   "source": []
  },
  {
   "cell_type": "code",
   "execution_count": null,
   "id": "dcf92796-b3a6-40d1-a71e-b40a062e923c",
   "metadata": {},
   "outputs": [],
   "source": []
  }
 ],
 "metadata": {
  "kernelspec": {
   "display_name": "Python 3 (ipykernel)",
   "language": "python",
   "name": "python3"
  },
  "language_info": {
   "codemirror_mode": {
    "name": "ipython",
    "version": 3
   },
   "file_extension": ".py",
   "mimetype": "text/x-python",
   "name": "python",
   "nbconvert_exporter": "python",
   "pygments_lexer": "ipython3",
   "version": "3.11.4"
  }
 },
 "nbformat": 4,
 "nbformat_minor": 5
}
