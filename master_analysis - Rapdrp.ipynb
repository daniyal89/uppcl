{
 "cells": [
  {
   "cell_type": "code",
   "execution_count": 1,
   "metadata": {
    "tags": []
   },
   "outputs": [],
   "source": [
    "import pandas as pd\n",
    "import numpy as np\n",
    "from joblib import Parallel, delayed\n",
    "from datetime import datetime \n",
    "\n",
    "import time"
   ]
  },
  {
   "cell_type": "code",
   "execution_count": 2,
   "metadata": {},
   "outputs": [],
   "source": [
    "circle=\"Edc Bahraich\"\n",
    "month=\"jul2023\"\n",
    "month_doc=5\n",
    "month_unpaid=7"
   ]
  },
  {
   "cell_type": "code",
   "execution_count": 3,
   "metadata": {},
   "outputs": [],
   "source": [
    "def loop(file_name):\n",
    "    return pd.read_csv(f\"{month}/urban/{file_name}\")"
   ]
  },
  {
   "cell_type": "code",
   "execution_count": 4,
   "metadata": {},
   "outputs": [],
   "source": [
    "# df = loop('rapdrp_never_paid.csv')"
   ]
  },
  {
   "cell_type": "code",
   "execution_count": 5,
   "metadata": {},
   "outputs": [],
   "source": [
    "def NonGOVT(df):\n",
    "    govt = [30,31,32,33,34,35,36,37,38,39,40,41,42,43,44,45,48,72,73,74,75,80,81,82,101,102,103,104,105,106,107,'80B','42A','41A','40A','H31'\n",
    "           'H32','H33','H41','H42','H43','HV41','H13']\n",
    "    govt = [str(x) for x in govt]\n",
    "    df['gov_flag'] = df['SUPPLY_TYPE'].isin(govt)\n",
    "    return df"
   ]
  },
  {
   "cell_type": "code",
   "execution_count": 6,
   "metadata": {},
   "outputs": [],
   "source": [
    "def relGov(df):\n",
    "#    ((df['gov_flag'] == False) & ( (pd.isnull(df['GOVT_CODE'] )))) \n",
    "    df['relGov'] = 'Goverment'\n",
    "    df.loc[((df['gov_flag'] == False) & ( (pd.isnull(df['GOVT_CODE'] ))))  ,\"relGov\"] = 'Non-Goverment'\n",
    "    return df"
   ]
  },
  {
   "cell_type": "code",
   "execution_count": 7,
   "metadata": {},
   "outputs": [],
   "source": [
    "# def div(df):\n",
    "#     govt = [\"DIV354921\",\"DIV354922\",\"DIV355211\",\"DIV355131\"]\n",
    "#     govt = [str(x) for x in govt]\n",
    "#     df['div_flag'] = df['DIV_CODE'].isin(govt)\n",
    "#     return df"
   ]
  },
  {
   "cell_type": "code",
   "execution_count": 8,
   "metadata": {},
   "outputs": [],
   "source": [
    "# df=div(df)"
   ]
  },
  {
   "cell_type": "code",
   "execution_count": 9,
   "metadata": {},
   "outputs": [],
   "source": [
    "# df['div_flag'].unique()"
   ]
  },
  {
   "cell_type": "code",
   "execution_count": 10,
   "metadata": {},
   "outputs": [],
   "source": [
    "def arrear(df):\n",
    "    \n",
    "#     df = df[df['TOTAL_OUTSTANDING'] > 0]\n",
    "    df['ARREAR_FILTER'] = None\n",
    "    df.loc[df['TOTAL_OUTSTANDING'] < 5000,\"ARREAR_FILTER\"] = \"<5k\"\n",
    "    df.loc[((df['TOTAL_OUTSTANDING'] >= 5000) & (df['TOTAL_OUTSTANDING'] < 10000)),\"ARREAR_FILTER\"] = \">=5k-10k\"\n",
    "    df.loc[((df['TOTAL_OUTSTANDING'] >= 10000) & (df['TOTAL_OUTSTANDING'] < 100000)),\"ARREAR_FILTER\"] = \"10k-1L\"\n",
    "    df.loc[((df['TOTAL_OUTSTANDING'] >= 100000) & (df['TOTAL_OUTSTANDING'] < 5000000)),\"ARREAR_FILTER\"] = \"1L-50L\"\n",
    "    df.loc[df['TOTAL_OUTSTANDING'] >= 5000000,\"ARREAR_FILTER\"] = \"GRET_50L\"\n",
    "    \n",
    "    return df"
   ]
  },
  {
   "cell_type": "code",
   "execution_count": 11,
   "metadata": {},
   "outputs": [],
   "source": [
    "def billable(df):\n",
    "    bil = ['In Service','TD','TD >6 MONTHS']\n",
    "    df['bilable_flag'] = df['CON_STATUS'].isin(bil)\n",
    "    return df\n",
    "  "
   ]
  },
  {
   "cell_type": "code",
   "execution_count": 12,
   "metadata": {},
   "outputs": [],
   "source": [
    "def td(df):\n",
    "    bil = ['TD','TD >6 MONTHS']\n",
    "    \n",
    "    return df[df['CON_STATUS'].isin(bil)]"
   ]
  },
  {
   "cell_type": "code",
   "execution_count": 13,
   "metadata": {},
   "outputs": [],
   "source": [
    "def CatLoad(df):\n",
    "    df['LOAD'] = pd.to_numeric(df['LOAD'],errors=\"coerce\")\n",
    "    df['LOAD_FILTER'] = None\n",
    "    df.loc[df['LOAD'] < 5,\"LOAD_FILTER\"] = \"0-5kw\"\n",
    "    df.loc[((df['LOAD'] >= 5) & (df['LOAD'] < 10)),\"LOAD_FILTER\"] = \"5-9kw\"\n",
    "    df.loc[df['LOAD'] >= 10,\"LOAD_FILTER\"] = \"great than 10kw\"\n",
    "    return df\n",
    "\n",
    "    "
   ]
  },
  {
   "cell_type": "code",
   "execution_count": 14,
   "metadata": {},
   "outputs": [],
   "source": [
    "def faulty_Ageing(df):\n",
    "    df['METER_READ_FLTY_CNT'] = pd.to_numeric(df['METER_READ_FLTY_CNT'],errors=\"coerce\")\n",
    "    df['faulty_Ageing'] = None\n",
    "    df.loc[df['METER_READ_FLTY_CNT'] < 2,\"faulty_Ageing\"] = \"faulty<2\"\n",
    "    df.loc[((df['METER_READ_FLTY_CNT'] >= 2) & (df['METER_READ_FLTY_CNT'] < 3)),\"faulty_Ageing\"] = \"faulty>=2 TO <3\"\n",
    "    df.loc[df['METER_READ_FLTY_CNT'] >= 3,\"faulty_Ageing\"] = \"faulty >=3\"\n",
    "    return df\n"
   ]
  },
  {
   "cell_type": "code",
   "execution_count": 15,
   "metadata": {},
   "outputs": [],
   "source": [
    "def categories(df):\n",
    "    #Supplytype.srs.startswith('1') for lmv1\n",
    "    df['Cat'] = None\n",
    "#     df[df['SUPPLY_TYPE'].str.startswith('1')] = \"LMV1\"\n",
    "    df.loc[df['SUPPLY_TYPE'].str.startswith('1', na=False),\"Cat\"] = \"LMV1\"\n",
    "    df.loc[df['SUPPLY_TYPE'].str.startswith('2',na=False),\"Cat\"] = \"LMV2\"\n",
    "    df.loc[df['SUPPLY_TYPE'].str.startswith('3', na=False),\"Cat\"] = \"LMV3\"\n",
    "    df.loc[df['SUPPLY_TYPE'].str.startswith('4', na=False),\"Cat\"] = \"LMV4\"\n",
    "    df.loc[df['SUPPLY_TYPE'].str.startswith('5', na=False),\"Cat\"] = \"LMV5\"\n",
    "    df.loc[df['SUPPLY_TYPE'].str.startswith('6', na=False),\"Cat\"] = \"LMV6\"\n",
    "    df.loc[df['SUPPLY_TYPE'].str.startswith('7', na=False),\"Cat\"] = \"LMV7\"\n",
    "    df.loc[df['SUPPLY_TYPE'].str.startswith('8', na=False),\"Cat\"] = \"LMV8\"\n",
    "    df.loc[df['SUPPLY_TYPE'].str.startswith('9', na=False),\"Cat\"] = \"LMV9\"\n",
    "#     df.loc[df['SUPPLY_TYPE'].str.startswith('10'),\"Cat\"] = \"LMV10\"\n",
    "    df.loc[df['SUPPLY_TYPE'].str.startswith('H1', na=False),\"Cat\"] = \"HV1\"\n",
    "    df.loc[df['SUPPLY_TYPE'].str.startswith('H2', na=False),\"Cat\"] = \"HV2\"\n",
    "    df.loc[df['SUPPLY_TYPE'].str.startswith('H3', na=False),\"Cat\"] = \"HV3\"\n",
    "    df.loc[df['SUPPLY_TYPE'].str.startswith('H4', na=False),\"Cat\"] = \"HV4\"\n",
    "    return df"
   ]
  },
  {
   "cell_type": "code",
   "execution_count": 16,
   "metadata": {},
   "outputs": [],
   "source": [
    "def date(df):\n",
    "    df['LAST_PAY_DATE'] = pd.to_datetime(df['LAST_PAY_DATE'],format='%d-%b-%Y',errors = \"coerce\")\n",
    "    df['DOC'] = pd.to_datetime(df['DOC'],format='%d-%b-%Y',errors = \"coerce\")\n",
    "    df['LAST_BILL_DATE'] = pd.to_datetime(df['LAST_BILL_DATE'],format='%d-%b-%Y',errors = \"coerce\")\n",
    "    df['LAST_OK_READ_STATUS'] = pd.to_datetime(df['LAST_OK_READ_STATUS'],format='%d-%b-%Y',errors = \"coerce\")\n",
    "    \n",
    "    return df"
   ]
  },
  {
   "cell_type": "code",
   "execution_count": 17,
   "metadata": {},
   "outputs": [],
   "source": [
    "# def unpaid(df):\n",
    "#     df['unpaid_status'] = None\n",
    "#     df.loc[df['LAST_PAY_DATE'] < '01-04-2023',\"unpaid_status\"] = \"unpaid\"\n",
    "#     df.loc[(pd.isnull(df['LAST_PAY_DATE'])),\"unpaid_status\"] = \"unpaid\"     #df[~pd.isnull(df['Courses'])]\n",
    "#     df.loc[df['LAST_PAY_DATE'] >= '01-04-2023',\"unpaid_status\"] = \"paid\"\n",
    "    \n",
    "#     return df\n",
    "def unpaid(df):\n",
    "    df['unpaid_status'] = None\n",
    "    df.loc[df['LAST_PAY_DATE'] < pd.Timestamp(2023, 1, month_unpaid),\"unpaid_status\"] = \"unpaid\"\n",
    "    df.loc[(pd.isnull(df['LAST_PAY_DATE'] )),\"unpaid_status\"] = \"unpaid\"     \n",
    "    df.loc[df['LAST_PAY_DATE'] >= pd.Timestamp(2023, 1, month_unpaid),\"unpaid_status\"] = \"paid\"\n",
    "    \n",
    "    return df"
   ]
  },
  {
   "cell_type": "code",
   "execution_count": 18,
   "metadata": {},
   "outputs": [],
   "source": [
    "# def Neverpaid(df):\n",
    "#     df['Neverpaid_status'] = None\n",
    "\n",
    "#     df.loc[((pd.isnull(df['LAST_PAY_DATE'])) & (df['DOC'] <'01-02-2023')),\"Neverpaid_status\"] = 1    #df[~pd.isnull(df['Courses'])]\n",
    "#     df.loc[pd.isnull(df['Neverpaid_status']),\"Neverpaid_status\"] = 0\n",
    "    \n",
    "#     return df\n",
    "def Neverpaid(df):\n",
    "    df['Neverpaid_status'] = None\n",
    "    df.loc[((pd.isnull(df['LAST_PAY_DATE'] )) & (df['DOC'] < pd.Timestamp(2023, 1, month_doc))),\"Neverpaid_status\"] = 1\n",
    "    df.loc[pd.isnull(df['Neverpaid_status']),\"Neverpaid_status\"] = 0\n",
    "    \n",
    "    return df"
   ]
  },
  {
   "cell_type": "code",
   "execution_count": 19,
   "metadata": {},
   "outputs": [],
   "source": [
    "import os\n",
    "\n",
    "mylist = os.listdir(f\"{month}/urban\")"
   ]
  },
  {
   "cell_type": "code",
   "execution_count": 20,
   "metadata": {},
   "outputs": [
    {
     "data": {
      "text/plain": [
       "['MASTER_MVVNL_DIV354921_JUL_2023.csv',\n",
       " 'MASTER_MVVNL_DIV354922_JUL_2023.csv',\n",
       " 'MASTER_MVVNL_DIV355131_JUL_2023.csv',\n",
       " 'MASTER_MVVNL_DIV355211_JUL_2023.csv']"
      ]
     },
     "execution_count": 20,
     "metadata": {},
     "output_type": "execute_result"
    }
   ],
   "source": [
    "mylist\n"
   ]
  },
  {
   "cell_type": "code",
   "execution_count": 21,
   "metadata": {},
   "outputs": [
    {
     "name": "stderr",
     "output_type": "stream",
     "text": [
      "[Parallel(n_jobs=-1)]: Using backend ThreadingBackend with 20 concurrent workers.\n",
      "C:\\Users\\daniy\\AppData\\Local\\Temp\\ipykernel_10052\\1082892094.py:2: DtypeWarning: Columns (82) have mixed types. Specify dtype option on import or set low_memory=False.\n",
      "  return pd.read_csv(f\"{month}/urban/{file_name}\")\n",
      "[Parallel(n_jobs=-1)]: Done   1 tasks      | elapsed:    1.1s\n",
      "C:\\Users\\daniy\\AppData\\Local\\Temp\\ipykernel_10052\\1082892094.py:2: DtypeWarning: Columns (3,10,82) have mixed types. Specify dtype option on import or set low_memory=False.\n",
      "  return pd.read_csv(f\"{month}/urban/{file_name}\")\n",
      "[Parallel(n_jobs=-1)]: Done   2 out of   4 | elapsed:    1.7s remaining:    1.7s\n",
      "C:\\Users\\daniy\\AppData\\Local\\Temp\\ipykernel_10052\\1082892094.py:2: DtypeWarning: Columns (3,10,82) have mixed types. Specify dtype option on import or set low_memory=False.\n",
      "  return pd.read_csv(f\"{month}/urban/{file_name}\")\n",
      "C:\\Users\\daniy\\AppData\\Local\\Temp\\ipykernel_10052\\1082892094.py:2: DtypeWarning: Columns (3,10,51,52,82) have mixed types. Specify dtype option on import or set low_memory=False.\n",
      "  return pd.read_csv(f\"{month}/urban/{file_name}\")\n",
      "[Parallel(n_jobs=-1)]: Done   4 out of   4 | elapsed:    3.5s remaining:    0.0s\n",
      "[Parallel(n_jobs=-1)]: Done   4 out of   4 | elapsed:    3.5s finished\n"
     ]
    },
    {
     "name": "stdout",
     "output_type": "stream",
     "text": [
      "CSV: 4.111170291900635\n"
     ]
    }
   ],
   "source": [
    "start = time.time()\n",
    "df = []\n",
    "df = Parallel(n_jobs=-1, verbose=10,prefer=\"threads\")(delayed(loop)(file_name) for file_name in mylist)\n",
    "df = pd.concat(df, ignore_index=True)\n",
    "\n",
    "end = time.time()\n",
    "print(\"CSV:\", end - start)"
   ]
  },
  {
   "cell_type": "code",
   "execution_count": 2,
   "metadata": {
    "tags": []
   },
   "outputs": [
    {
     "ename": "NameError",
     "evalue": "name 'df' is not defined",
     "output_type": "error",
     "traceback": [
      "\u001b[1;31m---------------------------------------------------------------------------\u001b[0m",
      "\u001b[1;31mNameError\u001b[0m                                 Traceback (most recent call last)",
      "Cell \u001b[1;32mIn[2], line 1\u001b[0m\n\u001b[1;32m----> 1\u001b[0m df\u001b[38;5;241m.\u001b[39mhead(\u001b[38;5;241m10\u001b[39m)\n",
      "\u001b[1;31mNameError\u001b[0m: name 'df' is not defined"
     ]
    }
   ],
   "source": [
    "df.head(10)"
   ]
  },
  {
   "cell_type": "code",
   "execution_count": 23,
   "metadata": {},
   "outputs": [
    {
     "data": {
      "text/plain": [
       "array(['DIV354921', 'DIV354922', 'DIV355131', 'DIV355211'], dtype=object)"
      ]
     },
     "execution_count": 23,
     "metadata": {},
     "output_type": "execute_result"
    }
   ],
   "source": [
    "df.DIV_CODE.unique()"
   ]
  },
  {
   "cell_type": "code",
   "execution_count": 24,
   "metadata": {},
   "outputs": [
    {
     "data": {
      "text/plain": [
       "array(['In Service', 'TD', 'Null', 'PD', 'NC Reject', 'TD Migrated',\n",
       "       'COT', 'TD >6 MONTHS', 'PD Initiated', 'NC Pending',\n",
       "       'COT Initiated', 'REJECTED', 'SB'], dtype=object)"
      ]
     },
     "execution_count": 24,
     "metadata": {},
     "output_type": "execute_result"
    }
   ],
   "source": [
    "df['CON_STATUS'].unique()"
   ]
  },
  {
   "cell_type": "code",
   "execution_count": 25,
   "metadata": {},
   "outputs": [],
   "source": [
    "column =list(df.columns)"
   ]
  },
  {
   "cell_type": "code",
   "execution_count": null,
   "metadata": {},
   "outputs": [],
   "source": []
  },
  {
   "cell_type": "code",
   "execution_count": 26,
   "metadata": {},
   "outputs": [
    {
     "data": {
      "text/plain": [
       "['DIV_CODE',\n",
       " 'SDO_CODE',\n",
       " 'ACCT_ID',\n",
       " 'KNO',\n",
       " 'MOBILE_NO',\n",
       " 'LANDLINE_NO',\n",
       " 'BOOK_NO',\n",
       " 'SCNO',\n",
       " 'NAME',\n",
       " 'ADDRESS',\n",
       " 'SUPPLY_TYPE',\n",
       " 'LOAD',\n",
       " 'LOAD_UNIT',\n",
       " 'DOC',\n",
       " 'SECURITY_AMT',\n",
       " 'CON_STATUS',\n",
       " 'SERIAL_NBR',\n",
       " 'MULTIPLY_FACTOR',\n",
       " 'METER_STATUS',\n",
       " 'LAST_BILL_DATE',\n",
       " 'CLOSE_READING',\n",
       " 'MDI',\n",
       " 'BILL_BASIS',\n",
       " 'BILL_TYP',\n",
       " 'CONSUMPTION_CURR_MNTH',\n",
       " 'CONSUMPTION_PREV_MNTH',\n",
       " 'CONSUMPTION_PREV_TO_PREV_MNTH',\n",
       " 'ARREAR',\n",
       " 'LPSC',\n",
       " 'CURRENT_ASSESSMENT',\n",
       " 'CURRENT_CYCLE_LPSC',\n",
       " 'TOTAL_OUTSTANDING',\n",
       " 'DUE_DATE_REBATE',\n",
       " 'LAST_OK_READING',\n",
       " 'LAST_OK_READ_STATUS',\n",
       " 'METER_READ_FLTY_CNT',\n",
       " 'LAST_PAY_AMT',\n",
       " 'LAST_PAY_DATE',\n",
       " 'SUBSTATION',\n",
       " 'FEEDER',\n",
       " 'DT',\n",
       " 'POLE_NO',\n",
       " 'OPR_FLG',\n",
       " 'BILL_AFTER_DATE',\n",
       " 'METER_READ_REMARK',\n",
       " 'INSTALLATION_DATE',\n",
       " 'SBM_BILL_DATE',\n",
       " 'SBM_MACHINE_ID',\n",
       " 'BILL_CYC_CD',\n",
       " 'TOWN',\n",
       " 'SERVICE_CYC_CD',\n",
       " 'CT_RATIO',\n",
       " 'PT_RATIO',\n",
       " 'EC',\n",
       " 'FC',\n",
       " 'REBATES',\n",
       " 'MIN_CHARGES',\n",
       " 'FUEL_SURCHARGE',\n",
       " 'DEMAND_AMT',\n",
       " 'LTMETERING_CHARGES',\n",
       " 'CAP_CHARGES',\n",
       " 'REG_SURCHARGE',\n",
       " 'REG_SURCHARGE_2',\n",
       " 'ELECTRICITY_DUTY',\n",
       " 'TARIFF_ADJUSTMENTS',\n",
       " 'PROV_ADJUSTMENTS',\n",
       " 'CA_ABR',\n",
       " 'INF_BILL',\n",
       " 'MR_SOURCE_CD',\n",
       " 'HEALTHY_CONSUMER_FLAG',\n",
       " 'METER_BADGE_NO',\n",
       " 'MTR_MAKE',\n",
       " 'CONNECTION_TYPE',\n",
       " 'LOOMS_GRTRTHN_60',\n",
       " 'LOOMS_LESSTHN_60',\n",
       " 'SUPPLY_VOLTAGE',\n",
       " 'METER_VOLTAGE',\n",
       " 'MTR_TYPE_CD',\n",
       " 'LATITUDE',\n",
       " 'LONGTIUDE',\n",
       " 'INDUSTRIAL_FLAG',\n",
       " 'ACCT_INFLALTED_FLAG',\n",
       " 'GOVT_CODE',\n",
       " 'OPENING_READING_KWH',\n",
       " 'OPENING_READING_KVAH',\n",
       " 'OPENING_READING_DATE',\n",
       " 'CLOSING_READING_KWH',\n",
       " 'CLOSING_READING_KVAH',\n",
       " 'CLOSING_READING_DATE',\n",
       " 'CONSUMPTION_KWH',\n",
       " 'CONSUMPTION_KVAH',\n",
       " 'BILLED_AMOUNT',\n",
       " 'MTR_EXCEP_CD',\n",
       " 'MTR_NO_RECORDED',\n",
       " 'MTR_MAKE_RECORDED',\n",
       " 'MANUL_BILL_EXCEP',\n",
       " 'MTR_CONFIG_TY_CD',\n",
       " 'TOTAL_PAY_AMT',\n",
       " 'PAYMENT_SRCE',\n",
       " 'MTR_RDR_AGENCY',\n",
       " 'SS_NAME',\n",
       " 'SS_GIS_CODE',\n",
       " 'FEEDER_NAME',\n",
       " 'FEEDER_GIS_CODE',\n",
       " 'DT_NAME',\n",
       " 'DT_GIS_ID',\n",
       " 'DT_GIS_CODE',\n",
       " 'NETWID',\n",
       " 'CONSUMER_BASE',\n",
       " 'INOP_AMT']"
      ]
     },
     "execution_count": 26,
     "metadata": {},
     "output_type": "execute_result"
    }
   ],
   "source": [
    "column"
   ]
  },
  {
   "cell_type": "code",
   "execution_count": 27,
   "metadata": {},
   "outputs": [],
   "source": [
    "im_col = ['DIV_CODE',\n",
    "          'SDO_CODE',\n",
    "          'ACCT_ID',\n",
    "          'SUBSTATION',\n",
    "          'FEEDER',\n",
    "    \n",
    "          'NAME',\n",
    "          'ADDRESS',\n",
    "          'MOBILE_NO',\n",
    "          'SUPPLY_TYPE',\n",
    "          'CONSUMPTION_CURR_MNTH',\n",
    "          'CONSUMPTION_PREV_MNTH',\n",
    "          'DOC',\n",
    "          'BILL_BASIS',\n",
    "          'METER_STATUS',\n",
    "          'METER_READ_REMARK',\n",
    "          'CON_STATUS',\n",
    "          'LOAD',\n",
    "          'ARREAR',\n",
    "          'CURRENT_ASSESSMENT',\n",
    "          'TOTAL_OUTSTANDING',\n",
    "          'LAST_OK_READING',\n",
    "          'LAST_OK_READ_STATUS',\n",
    "          'METER_READ_FLTY_CNT',\n",
    "          'LAST_PAY_AMT',\n",
    "          'LAST_PAY_DATE',\n",
    "          'INDUSTRIAL_FLAG',\n",
    "          'ACCT_INFLALTED_FLAG',\n",
    "          'GOVT_CODE',\n",
    "          'LAST_BILL_DATE',\n",
    "          'PAYMENT_SRCE',\n",
    "          'TOTAL_PAY_AMT']"
   ]
  },
  {
   "cell_type": "code",
   "execution_count": null,
   "metadata": {},
   "outputs": [],
   "source": []
  },
  {
   "cell_type": "code",
   "execution_count": 28,
   "metadata": {},
   "outputs": [],
   "source": [
    "df = df[im_col]"
   ]
  },
  {
   "cell_type": "code",
   "execution_count": null,
   "metadata": {},
   "outputs": [],
   "source": []
  },
  {
   "cell_type": "code",
   "execution_count": 29,
   "metadata": {},
   "outputs": [],
   "source": [
    "df = date(df)\n",
    "df = unpaid(df)\n",
    "df=Neverpaid(df)"
   ]
  },
  {
   "cell_type": "code",
   "execution_count": 30,
   "metadata": {},
   "outputs": [],
   "source": [
    "df = NonGOVT(df)"
   ]
  },
  {
   "cell_type": "code",
   "execution_count": 31,
   "metadata": {},
   "outputs": [],
   "source": [
    "df = relGov(df)"
   ]
  },
  {
   "cell_type": "code",
   "execution_count": 32,
   "metadata": {},
   "outputs": [],
   "source": [
    "df = faulty_Ageing(df)"
   ]
  },
  {
   "cell_type": "code",
   "execution_count": 33,
   "metadata": {},
   "outputs": [],
   "source": [
    "df = billable(df)\n"
   ]
  },
  {
   "cell_type": "code",
   "execution_count": 34,
   "metadata": {},
   "outputs": [],
   "source": [
    "df['TOTAL_OUTSTANDING'] = pd.to_numeric(df['TOTAL_OUTSTANDING'],errors=\"coerce\")\n",
    "df = arrear(df)"
   ]
  },
  {
   "cell_type": "code",
   "execution_count": 35,
   "metadata": {},
   "outputs": [
    {
     "data": {
      "text/plain": [
       "0       <5k\n",
       "1    10k-1L\n",
       "2       <5k\n",
       "3       <5k\n",
       "4       <5k\n",
       "5       <5k\n",
       "Name: ARREAR_FILTER, dtype: object"
      ]
     },
     "execution_count": 35,
     "metadata": {},
     "output_type": "execute_result"
    }
   ],
   "source": [
    "df['ARREAR_FILTER'][:6]"
   ]
  },
  {
   "cell_type": "code",
   "execution_count": 36,
   "metadata": {},
   "outputs": [],
   "source": [
    "df = categories(df)"
   ]
  },
  {
   "cell_type": "code",
   "execution_count": 37,
   "metadata": {},
   "outputs": [
    {
     "data": {
      "text/html": [
       "<div>\n",
       "<style scoped>\n",
       "    .dataframe tbody tr th:only-of-type {\n",
       "        vertical-align: middle;\n",
       "    }\n",
       "\n",
       "    .dataframe tbody tr th {\n",
       "        vertical-align: top;\n",
       "    }\n",
       "\n",
       "    .dataframe thead th {\n",
       "        text-align: right;\n",
       "    }\n",
       "</style>\n",
       "<table border=\"1\" class=\"dataframe\">\n",
       "  <thead>\n",
       "    <tr style=\"text-align: right;\">\n",
       "      <th></th>\n",
       "      <th>DIV_CODE</th>\n",
       "      <th>SDO_CODE</th>\n",
       "      <th>ACCT_ID</th>\n",
       "      <th>SUBSTATION</th>\n",
       "      <th>FEEDER</th>\n",
       "      <th>NAME</th>\n",
       "      <th>ADDRESS</th>\n",
       "      <th>MOBILE_NO</th>\n",
       "      <th>SUPPLY_TYPE</th>\n",
       "      <th>CONSUMPTION_CURR_MNTH</th>\n",
       "      <th>...</th>\n",
       "      <th>PAYMENT_SRCE</th>\n",
       "      <th>TOTAL_PAY_AMT</th>\n",
       "      <th>unpaid_status</th>\n",
       "      <th>Neverpaid_status</th>\n",
       "      <th>gov_flag</th>\n",
       "      <th>relGov</th>\n",
       "      <th>faulty_Ageing</th>\n",
       "      <th>bilable_flag</th>\n",
       "      <th>ARREAR_FILTER</th>\n",
       "      <th>Cat</th>\n",
       "    </tr>\n",
       "  </thead>\n",
       "  <tbody>\n",
       "    <tr>\n",
       "      <th>0</th>\n",
       "      <td>DIV354921</td>\n",
       "      <td>SDO3549212</td>\n",
       "      <td>9930810375</td>\n",
       "      <td>GULLABEER_34119</td>\n",
       "      <td>RAVIDAS_35492124119RAR</td>\n",
       "      <td>Mr MOHD AHMAD S/O Mr ALI MOHD</td>\n",
       "      <td>SALARGANJ NEAR - RAM LAL CHAKKI BAHRAICH Bahra...</td>\n",
       "      <td>9.795163e+09</td>\n",
       "      <td>10</td>\n",
       "      <td>463.0</td>\n",
       "      <td>...</td>\n",
       "      <td>COUNTER</td>\n",
       "      <td>6148.0</td>\n",
       "      <td>paid</td>\n",
       "      <td>0</td>\n",
       "      <td>False</td>\n",
       "      <td>Non-Goverment</td>\n",
       "      <td>None</td>\n",
       "      <td>True</td>\n",
       "      <td>&lt;5k</td>\n",
       "      <td>LMV1</td>\n",
       "    </tr>\n",
       "    <tr>\n",
       "      <th>1</th>\n",
       "      <td>DIV354921</td>\n",
       "      <td>SDO3549212</td>\n",
       "      <td>7770804000</td>\n",
       "      <td>DEISEL POWER HOUSE_30165</td>\n",
       "      <td>DARGAH_35492120165DAR</td>\n",
       "      <td>MOHD ADIL KHAN</td>\n",
       "      <td>BUXIPURA BEHIND RAILWAY STATIONBAHRAICH BAHRAI...</td>\n",
       "      <td>6.307990e+09</td>\n",
       "      <td>10</td>\n",
       "      <td>183.0</td>\n",
       "      <td>...</td>\n",
       "      <td>COUNTER</td>\n",
       "      <td>2000.0</td>\n",
       "      <td>paid</td>\n",
       "      <td>0</td>\n",
       "      <td>False</td>\n",
       "      <td>Non-Goverment</td>\n",
       "      <td>None</td>\n",
       "      <td>True</td>\n",
       "      <td>10k-1L</td>\n",
       "      <td>LMV1</td>\n",
       "    </tr>\n",
       "    <tr>\n",
       "      <th>2</th>\n",
       "      <td>DIV354921</td>\n",
       "      <td>SDO3549212</td>\n",
       "      <td>9748257591</td>\n",
       "      <td>BASHIRGANJ_30166</td>\n",
       "      <td>KILLA FEEDER_35492120166KIL</td>\n",
       "      <td>CHUNNI W/O SHAUKAT ALI</td>\n",
       "      <td>QILA NEAR - MAHAJANI SCHOOL BAHRAICH Bahraich ...</td>\n",
       "      <td>9.415061e+09</td>\n",
       "      <td>10</td>\n",
       "      <td>99.0</td>\n",
       "      <td>...</td>\n",
       "      <td>NaN</td>\n",
       "      <td>NaN</td>\n",
       "      <td>paid</td>\n",
       "      <td>0</td>\n",
       "      <td>False</td>\n",
       "      <td>Non-Goverment</td>\n",
       "      <td>None</td>\n",
       "      <td>True</td>\n",
       "      <td>&lt;5k</td>\n",
       "      <td>LMV1</td>\n",
       "    </tr>\n",
       "    <tr>\n",
       "      <th>3</th>\n",
       "      <td>DIV354921</td>\n",
       "      <td>SDO3549212</td>\n",
       "      <td>7773812957</td>\n",
       "      <td>GULLABEER_34119</td>\n",
       "      <td>TOWN-7_35492124119TO7</td>\n",
       "      <td>RAJU S/O LATE WASIM</td>\n",
       "      <td>MANSOORGANJ NEAR SHISHA MASJID  BAHRAICH Bahra...</td>\n",
       "      <td>8.874348e+09</td>\n",
       "      <td>10</td>\n",
       "      <td>337.0</td>\n",
       "      <td>...</td>\n",
       "      <td>COUNTER</td>\n",
       "      <td>4700.0</td>\n",
       "      <td>paid</td>\n",
       "      <td>0</td>\n",
       "      <td>False</td>\n",
       "      <td>Non-Goverment</td>\n",
       "      <td>None</td>\n",
       "      <td>True</td>\n",
       "      <td>&lt;5k</td>\n",
       "      <td>LMV1</td>\n",
       "    </tr>\n",
       "    <tr>\n",
       "      <th>4</th>\n",
       "      <td>DIV354921</td>\n",
       "      <td>SDO3549212</td>\n",
       "      <td>7715704000</td>\n",
       "      <td>BAXIPURA_34118</td>\n",
       "      <td>NAVA GRAHI_35492124118NAI</td>\n",
       "      <td>RANJEET KAUR</td>\n",
       "      <td>BALWANT SINGH GHASIARYIPURBARICH BAHRAICH UP IND</td>\n",
       "      <td>9.005692e+09</td>\n",
       "      <td>10</td>\n",
       "      <td>59.0</td>\n",
       "      <td>...</td>\n",
       "      <td>EWALET01</td>\n",
       "      <td>2000.0</td>\n",
       "      <td>paid</td>\n",
       "      <td>0</td>\n",
       "      <td>False</td>\n",
       "      <td>Non-Goverment</td>\n",
       "      <td>None</td>\n",
       "      <td>True</td>\n",
       "      <td>&lt;5k</td>\n",
       "      <td>LMV1</td>\n",
       "    </tr>\n",
       "  </tbody>\n",
       "</table>\n",
       "<p>5 rows × 39 columns</p>\n",
       "</div>"
      ],
      "text/plain": [
       "    DIV_CODE    SDO_CODE     ACCT_ID                SUBSTATION  \\\n",
       "0  DIV354921  SDO3549212  9930810375           GULLABEER_34119   \n",
       "1  DIV354921  SDO3549212  7770804000  DEISEL POWER HOUSE_30165   \n",
       "2  DIV354921  SDO3549212  9748257591          BASHIRGANJ_30166   \n",
       "3  DIV354921  SDO3549212  7773812957           GULLABEER_34119   \n",
       "4  DIV354921  SDO3549212  7715704000            BAXIPURA_34118   \n",
       "\n",
       "                        FEEDER                           NAME  \\\n",
       "0       RAVIDAS_35492124119RAR  Mr MOHD AHMAD S/O Mr ALI MOHD   \n",
       "1        DARGAH_35492120165DAR                 MOHD ADIL KHAN   \n",
       "2  KILLA FEEDER_35492120166KIL         CHUNNI W/O SHAUKAT ALI   \n",
       "3        TOWN-7_35492124119TO7            RAJU S/O LATE WASIM   \n",
       "4    NAVA GRAHI_35492124118NAI                   RANJEET KAUR   \n",
       "\n",
       "                                             ADDRESS     MOBILE_NO  \\\n",
       "0  SALARGANJ NEAR - RAM LAL CHAKKI BAHRAICH Bahra...  9.795163e+09   \n",
       "1  BUXIPURA BEHIND RAILWAY STATIONBAHRAICH BAHRAI...  6.307990e+09   \n",
       "2  QILA NEAR - MAHAJANI SCHOOL BAHRAICH Bahraich ...  9.415061e+09   \n",
       "3  MANSOORGANJ NEAR SHISHA MASJID  BAHRAICH Bahra...  8.874348e+09   \n",
       "4   BALWANT SINGH GHASIARYIPURBARICH BAHRAICH UP IND  9.005692e+09   \n",
       "\n",
       "  SUPPLY_TYPE  CONSUMPTION_CURR_MNTH  ...  PAYMENT_SRCE TOTAL_PAY_AMT  \\\n",
       "0          10                  463.0  ...       COUNTER        6148.0   \n",
       "1          10                  183.0  ...       COUNTER        2000.0   \n",
       "2          10                   99.0  ...           NaN           NaN   \n",
       "3          10                  337.0  ...       COUNTER        4700.0   \n",
       "4          10                   59.0  ...      EWALET01        2000.0   \n",
       "\n",
       "  unpaid_status Neverpaid_status gov_flag         relGov  faulty_Ageing  \\\n",
       "0          paid                0    False  Non-Goverment           None   \n",
       "1          paid                0    False  Non-Goverment           None   \n",
       "2          paid                0    False  Non-Goverment           None   \n",
       "3          paid                0    False  Non-Goverment           None   \n",
       "4          paid                0    False  Non-Goverment           None   \n",
       "\n",
       "   bilable_flag  ARREAR_FILTER   Cat  \n",
       "0          True            <5k  LMV1  \n",
       "1          True         10k-1L  LMV1  \n",
       "2          True            <5k  LMV1  \n",
       "3          True            <5k  LMV1  \n",
       "4          True            <5k  LMV1  \n",
       "\n",
       "[5 rows x 39 columns]"
      ]
     },
     "execution_count": 37,
     "metadata": {},
     "output_type": "execute_result"
    }
   ],
   "source": [
    "df.head()"
   ]
  },
  {
   "cell_type": "code",
   "execution_count": null,
   "metadata": {},
   "outputs": [],
   "source": []
  },
  {
   "cell_type": "code",
   "execution_count": 38,
   "metadata": {},
   "outputs": [],
   "source": [
    "# df['LAST_PAID_DATE'] = pd.to_datetime(df.LAST_PAID_DATE)\n",
    "# df['SUPP_RELEASE_DATE'] = pd.to_datetime(df.SUPP_RELEASE_DATE)\n",
    "# df['LAST_PAY_DATE'].apply(lambda x: datetime.strptime(x, '%d/%m/%Y')) \n",
    "# df['DOC'].apply(lambda x: datetime.strptime(x, '%d/%m/%Y')) \n"
   ]
  },
  {
   "cell_type": "code",
   "execution_count": 39,
   "metadata": {},
   "outputs": [
    {
     "data": {
      "text/plain": [
       "DIV_CODE                         object\n",
       "SDO_CODE                         object\n",
       "ACCT_ID                           int64\n",
       "SUBSTATION                       object\n",
       "FEEDER                           object\n",
       "NAME                             object\n",
       "ADDRESS                          object\n",
       "MOBILE_NO                       float64\n",
       "SUPPLY_TYPE                      object\n",
       "CONSUMPTION_CURR_MNTH           float64\n",
       "CONSUMPTION_PREV_MNTH           float64\n",
       "DOC                      datetime64[ns]\n",
       "BILL_BASIS                       object\n",
       "METER_STATUS                     object\n",
       "METER_READ_REMARK                object\n",
       "CON_STATUS                       object\n",
       "LOAD                            float64\n",
       "ARREAR                          float64\n",
       "CURRENT_ASSESSMENT              float64\n",
       "TOTAL_OUTSTANDING               float64\n",
       "LAST_OK_READING                 float64\n",
       "LAST_OK_READ_STATUS      datetime64[ns]\n",
       "METER_READ_FLTY_CNT             float64\n",
       "LAST_PAY_AMT                    float64\n",
       "LAST_PAY_DATE            datetime64[ns]\n",
       "INDUSTRIAL_FLAG                  object\n",
       "ACCT_INFLALTED_FLAG              object\n",
       "GOVT_CODE                        object\n",
       "LAST_BILL_DATE           datetime64[ns]\n",
       "PAYMENT_SRCE                     object\n",
       "TOTAL_PAY_AMT                   float64\n",
       "unpaid_status                    object\n",
       "Neverpaid_status                 object\n",
       "gov_flag                           bool\n",
       "relGov                           object\n",
       "faulty_Ageing                    object\n",
       "bilable_flag                       bool\n",
       "ARREAR_FILTER                    object\n",
       "Cat                              object\n",
       "dtype: object"
      ]
     },
     "execution_count": 39,
     "metadata": {},
     "output_type": "execute_result"
    }
   ],
   "source": [
    "df.dtypes\n"
   ]
  },
  {
   "cell_type": "code",
   "execution_count": 40,
   "metadata": {},
   "outputs": [
    {
     "data": {
      "text/plain": [
       "array(['2023-07-22T00:00:00.000000000', '2023-07-13T00:00:00.000000000',\n",
       "       '2023-05-18T00:00:00.000000000', ...,\n",
       "       '2023-07-26T00:00:00.000000000', '2023-04-20T00:00:00.000000000',\n",
       "       '2023-06-13T00:00:00.000000000'], dtype='datetime64[ns]')"
      ]
     },
     "execution_count": 40,
     "metadata": {},
     "output_type": "execute_result"
    }
   ],
   "source": [
    "df.LAST_PAY_DATE.values"
   ]
  },
  {
   "cell_type": "code",
   "execution_count": 41,
   "metadata": {},
   "outputs": [],
   "source": [
    "df=CatLoad(df)"
   ]
  },
  {
   "cell_type": "code",
   "execution_count": 42,
   "metadata": {},
   "outputs": [],
   "source": [
    "# df1 =  df1[df1['bilable_flag'] == True]"
   ]
  },
  {
   "cell_type": "code",
   "execution_count": 43,
   "metadata": {},
   "outputs": [],
   "source": [
    "# df1 = df[((df['gov_flag'] == False) & ( (pd.isnull(df['GOVT_CODE'] )))) ]"
   ]
  },
  {
   "cell_type": "code",
   "execution_count": 44,
   "metadata": {},
   "outputs": [],
   "source": [
    "# df1=date(df1)"
   ]
  },
  {
   "cell_type": "code",
   "execution_count": 45,
   "metadata": {},
   "outputs": [],
   "source": [
    "# df1 = df1[df1['DOC'] >= pd.Timestamp(2018, 4, 1)]"
   ]
  },
  {
   "cell_type": "code",
   "execution_count": 46,
   "metadata": {},
   "outputs": [],
   "source": [
    "# df1 =  df[df['div_flag'] == True]"
   ]
  },
  {
   "cell_type": "code",
   "execution_count": 47,
   "metadata": {},
   "outputs": [],
   "source": [
    "# df1 = df1[((df1['LAST_PAY_DATE'] < pd.Timestamp(2022, 12, 1)) | (pd.isnull(df['LAST_PAY_DATE'] )))]"
   ]
  },
  {
   "cell_type": "code",
   "execution_count": 48,
   "metadata": {},
   "outputs": [],
   "source": [
    "# df1 = df1[((df1['gov_flag'] == False) & ( (pd.isnull(df['GOVT_CODE'] ))))]"
   ]
  },
  {
   "cell_type": "code",
   "execution_count": 49,
   "metadata": {},
   "outputs": [],
   "source": [
    "# df1.head(10)"
   ]
  },
  {
   "cell_type": "code",
   "execution_count": 105,
   "metadata": {},
   "outputs": [],
   "source": [
    "# df1 =  td(df1)"
   ]
  },
  {
   "cell_type": "code",
   "execution_count": 106,
   "metadata": {},
   "outputs": [
    {
     "data": {
      "text/html": [
       "<div>\n",
       "<style scoped>\n",
       "    .dataframe tbody tr th:only-of-type {\n",
       "        vertical-align: middle;\n",
       "    }\n",
       "\n",
       "    .dataframe tbody tr th {\n",
       "        vertical-align: top;\n",
       "    }\n",
       "\n",
       "    .dataframe thead th {\n",
       "        text-align: right;\n",
       "    }\n",
       "</style>\n",
       "<table border=\"1\" class=\"dataframe\">\n",
       "  <thead>\n",
       "    <tr style=\"text-align: right;\">\n",
       "      <th></th>\n",
       "      <th>DIV_CODE</th>\n",
       "      <th>SDO_CODE</th>\n",
       "      <th>ACCT_ID</th>\n",
       "      <th>SUBSTATION</th>\n",
       "      <th>FEEDER</th>\n",
       "      <th>NAME</th>\n",
       "      <th>ADDRESS</th>\n",
       "      <th>MOBILE_NO</th>\n",
       "      <th>SUPPLY_TYPE</th>\n",
       "      <th>CONSUMPTION_CURR_MNTH</th>\n",
       "      <th>...</th>\n",
       "      <th>TOTAL_PAY_AMT</th>\n",
       "      <th>unpaid_status</th>\n",
       "      <th>Neverpaid_status</th>\n",
       "      <th>gov_flag</th>\n",
       "      <th>relGov</th>\n",
       "      <th>faulty_Ageing</th>\n",
       "      <th>bilable_flag</th>\n",
       "      <th>ARREAR_FILTER</th>\n",
       "      <th>Cat</th>\n",
       "      <th>LOAD_FILTER</th>\n",
       "    </tr>\n",
       "  </thead>\n",
       "  <tbody>\n",
       "    <tr>\n",
       "      <th>20</th>\n",
       "      <td>DIV354921</td>\n",
       "      <td>SDO3549212</td>\n",
       "      <td>9781746000</td>\n",
       "      <td>BAXIPURA_34118</td>\n",
       "      <td>TOWN-5_35492124118TO5</td>\n",
       "      <td>RAHAT ALI</td>\n",
       "      <td>AMINPUR NAGROR BAHRAICH BAHRAICH UP IND</td>\n",
       "      <td>6.349853e+09</td>\n",
       "      <td>10</td>\n",
       "      <td>0.0</td>\n",
       "      <td>...</td>\n",
       "      <td>NaN</td>\n",
       "      <td>paid</td>\n",
       "      <td>0</td>\n",
       "      <td>False</td>\n",
       "      <td>Non-Goverment</td>\n",
       "      <td>None</td>\n",
       "      <td>True</td>\n",
       "      <td>&lt;5k</td>\n",
       "      <td>LMV1</td>\n",
       "      <td>0-5kw</td>\n",
       "    </tr>\n",
       "    <tr>\n",
       "      <th>37</th>\n",
       "      <td>DIV354921</td>\n",
       "      <td>SDO3549212</td>\n",
       "      <td>3996332243</td>\n",
       "      <td>BAXIPURA_34118</td>\n",
       "      <td>TOWN-4_35492124118TO4</td>\n",
       "      <td>PUSHPA SAINE W/O CHOTEY LAL</td>\n",
       "      <td>CHAWNI SARKAR RAIPUR RAJA  BAHRAICH Bahraich U...</td>\n",
       "      <td>9.628937e+09</td>\n",
       "      <td>10</td>\n",
       "      <td>159.0</td>\n",
       "      <td>...</td>\n",
       "      <td>NaN</td>\n",
       "      <td>paid</td>\n",
       "      <td>0</td>\n",
       "      <td>False</td>\n",
       "      <td>Non-Goverment</td>\n",
       "      <td>None</td>\n",
       "      <td>True</td>\n",
       "      <td>10k-1L</td>\n",
       "      <td>LMV1</td>\n",
       "      <td>0-5kw</td>\n",
       "    </tr>\n",
       "    <tr>\n",
       "      <th>38</th>\n",
       "      <td>DIV354921</td>\n",
       "      <td>SDO3549212</td>\n",
       "      <td>112078420</td>\n",
       "      <td>CIVIL LINE_34116</td>\n",
       "      <td>TELEPHONE_35492124116TPX</td>\n",
       "      <td>SAMIRUN W/O SIRAJUDDIN</td>\n",
       "      <td>SEKHDAHIR  BAHRAICH Bahraich UP-271801 IND</td>\n",
       "      <td>8.081113e+09</td>\n",
       "      <td>10</td>\n",
       "      <td>52.0</td>\n",
       "      <td>...</td>\n",
       "      <td>NaN</td>\n",
       "      <td>unpaid</td>\n",
       "      <td>0</td>\n",
       "      <td>False</td>\n",
       "      <td>Non-Goverment</td>\n",
       "      <td>None</td>\n",
       "      <td>True</td>\n",
       "      <td>10k-1L</td>\n",
       "      <td>LMV1</td>\n",
       "      <td>0-5kw</td>\n",
       "    </tr>\n",
       "    <tr>\n",
       "      <th>49</th>\n",
       "      <td>DIV354921</td>\n",
       "      <td>SDO3549212</td>\n",
       "      <td>8670404000</td>\n",
       "      <td>HOSPITAL CHAURAHA_34114</td>\n",
       "      <td>STADIUAM_35492124114SAM</td>\n",
       "      <td>HARI BAHADUR</td>\n",
       "      <td>CIVIL LINES K D COMPLEX BAHRAICH UP IND</td>\n",
       "      <td>8.858650e+09</td>\n",
       "      <td>20</td>\n",
       "      <td>0.0</td>\n",
       "      <td>...</td>\n",
       "      <td>NaN</td>\n",
       "      <td>unpaid</td>\n",
       "      <td>0</td>\n",
       "      <td>False</td>\n",
       "      <td>Non-Goverment</td>\n",
       "      <td>None</td>\n",
       "      <td>True</td>\n",
       "      <td>10k-1L</td>\n",
       "      <td>LMV2</td>\n",
       "      <td>0-5kw</td>\n",
       "    </tr>\n",
       "    <tr>\n",
       "      <th>63</th>\n",
       "      <td>DIV354921</td>\n",
       "      <td>SDO3549212</td>\n",
       "      <td>3873360008</td>\n",
       "      <td>DEISEL POWER HOUSE_30165</td>\n",
       "      <td>GALLA MANDI_35492120165GAI</td>\n",
       "      <td>SMT SHAMIM BANO W/O MOHAMMAD IDRISH</td>\n",
       "      <td>DARGAH SHARIF NEAR POORVI GATE  BAHRAICH Bahra...</td>\n",
       "      <td>9.792110e+09</td>\n",
       "      <td>10</td>\n",
       "      <td>80.0</td>\n",
       "      <td>...</td>\n",
       "      <td>NaN</td>\n",
       "      <td>unpaid</td>\n",
       "      <td>0</td>\n",
       "      <td>False</td>\n",
       "      <td>Non-Goverment</td>\n",
       "      <td>None</td>\n",
       "      <td>True</td>\n",
       "      <td>10k-1L</td>\n",
       "      <td>LMV1</td>\n",
       "      <td>0-5kw</td>\n",
       "    </tr>\n",
       "    <tr>\n",
       "      <th>71</th>\n",
       "      <td>DIV354921</td>\n",
       "      <td>SDO3549212</td>\n",
       "      <td>7191604000</td>\n",
       "      <td>CIVIL LINE_34116</td>\n",
       "      <td>TELEPHONE_35492124116TPX</td>\n",
       "      <td>RAM KUMAR SINGH</td>\n",
       "      <td>SARASWATI NAGAR OJHAARA MACHINE BAHRAICH UP IND</td>\n",
       "      <td>9.721158e+09</td>\n",
       "      <td>10</td>\n",
       "      <td>595.0</td>\n",
       "      <td>...</td>\n",
       "      <td>21000.0</td>\n",
       "      <td>paid</td>\n",
       "      <td>0</td>\n",
       "      <td>False</td>\n",
       "      <td>Non-Goverment</td>\n",
       "      <td>None</td>\n",
       "      <td>True</td>\n",
       "      <td>10k-1L</td>\n",
       "      <td>LMV1</td>\n",
       "      <td>0-5kw</td>\n",
       "    </tr>\n",
       "    <tr>\n",
       "      <th>88</th>\n",
       "      <td>DIV354921</td>\n",
       "      <td>SDO3549212</td>\n",
       "      <td>1119779326</td>\n",
       "      <td>DEISEL POWER HOUSE_30165</td>\n",
       "      <td>DARGAH_35492120165DAR</td>\n",
       "      <td>SMT SALIYA BEGUM W/O LATE LADDAN</td>\n",
       "      <td>MANSOORGANJ NEAR FAKEER MASJID  BAHRAICH Bahra...</td>\n",
       "      <td>8.574051e+09</td>\n",
       "      <td>10</td>\n",
       "      <td>336.0</td>\n",
       "      <td>...</td>\n",
       "      <td>2144.0</td>\n",
       "      <td>paid</td>\n",
       "      <td>0</td>\n",
       "      <td>False</td>\n",
       "      <td>Non-Goverment</td>\n",
       "      <td>None</td>\n",
       "      <td>True</td>\n",
       "      <td>&lt;5k</td>\n",
       "      <td>LMV1</td>\n",
       "      <td>0-5kw</td>\n",
       "    </tr>\n",
       "    <tr>\n",
       "      <th>113</th>\n",
       "      <td>DIV354921</td>\n",
       "      <td>SDO3549212</td>\n",
       "      <td>700846910</td>\n",
       "      <td>GULLABEER_34119</td>\n",
       "      <td>SALARGANJ_35492124119SAJ</td>\n",
       "      <td>SRI JAVED AHMAD S/O SRI CHUNNEY</td>\n",
       "      <td>SALARGANJ NEW BASTI Bahraich UP-271801 IND</td>\n",
       "      <td>9.839921e+09</td>\n",
       "      <td>10</td>\n",
       "      <td>102.0</td>\n",
       "      <td>...</td>\n",
       "      <td>4000.0</td>\n",
       "      <td>paid</td>\n",
       "      <td>0</td>\n",
       "      <td>False</td>\n",
       "      <td>Non-Goverment</td>\n",
       "      <td>None</td>\n",
       "      <td>True</td>\n",
       "      <td>&gt;=5k-10k</td>\n",
       "      <td>LMV1</td>\n",
       "      <td>0-5kw</td>\n",
       "    </tr>\n",
       "    <tr>\n",
       "      <th>134</th>\n",
       "      <td>DIV354921</td>\n",
       "      <td>SDO3549212</td>\n",
       "      <td>2215604000</td>\n",
       "      <td>GULLABEER_34119</td>\n",
       "      <td>SALARGANJ_35492124119SAJ</td>\n",
       "      <td>RAM DHIRAJ CHAUHAN</td>\n",
       "      <td>PREM CHANDRA SALAR GANJBAHRAICH BAHRAICH UP IND</td>\n",
       "      <td>1.000000e+10</td>\n",
       "      <td>10</td>\n",
       "      <td>0.0</td>\n",
       "      <td>...</td>\n",
       "      <td>NaN</td>\n",
       "      <td>unpaid</td>\n",
       "      <td>0</td>\n",
       "      <td>False</td>\n",
       "      <td>Non-Goverment</td>\n",
       "      <td>None</td>\n",
       "      <td>True</td>\n",
       "      <td>10k-1L</td>\n",
       "      <td>LMV1</td>\n",
       "      <td>0-5kw</td>\n",
       "    </tr>\n",
       "    <tr>\n",
       "      <th>197</th>\n",
       "      <td>DIV354921</td>\n",
       "      <td>SDO3549212</td>\n",
       "      <td>4303804000</td>\n",
       "      <td>BAXIPURA_34118</td>\n",
       "      <td>TOWN-4_35492124118TO4</td>\n",
       "      <td>RAKESH KUMAR</td>\n",
       "      <td>RAIPUR RAJA JAILROAD BAHRAICH UP IND</td>\n",
       "      <td>9.794500e+09</td>\n",
       "      <td>10</td>\n",
       "      <td>630.0</td>\n",
       "      <td>...</td>\n",
       "      <td>4919.0</td>\n",
       "      <td>paid</td>\n",
       "      <td>0</td>\n",
       "      <td>False</td>\n",
       "      <td>Non-Goverment</td>\n",
       "      <td>None</td>\n",
       "      <td>True</td>\n",
       "      <td>&lt;5k</td>\n",
       "      <td>LMV1</td>\n",
       "      <td>0-5kw</td>\n",
       "    </tr>\n",
       "  </tbody>\n",
       "</table>\n",
       "<p>10 rows × 40 columns</p>\n",
       "</div>"
      ],
      "text/plain": [
       "      DIV_CODE    SDO_CODE     ACCT_ID                SUBSTATION  \\\n",
       "20   DIV354921  SDO3549212  9781746000            BAXIPURA_34118   \n",
       "37   DIV354921  SDO3549212  3996332243            BAXIPURA_34118   \n",
       "38   DIV354921  SDO3549212   112078420          CIVIL LINE_34116   \n",
       "49   DIV354921  SDO3549212  8670404000   HOSPITAL CHAURAHA_34114   \n",
       "63   DIV354921  SDO3549212  3873360008  DEISEL POWER HOUSE_30165   \n",
       "71   DIV354921  SDO3549212  7191604000          CIVIL LINE_34116   \n",
       "88   DIV354921  SDO3549212  1119779326  DEISEL POWER HOUSE_30165   \n",
       "113  DIV354921  SDO3549212   700846910           GULLABEER_34119   \n",
       "134  DIV354921  SDO3549212  2215604000           GULLABEER_34119   \n",
       "197  DIV354921  SDO3549212  4303804000            BAXIPURA_34118   \n",
       "\n",
       "                         FEEDER                                 NAME  \\\n",
       "20        TOWN-5_35492124118TO5                            RAHAT ALI   \n",
       "37        TOWN-4_35492124118TO4          PUSHPA SAINE W/O CHOTEY LAL   \n",
       "38     TELEPHONE_35492124116TPX               SAMIRUN W/O SIRAJUDDIN   \n",
       "49      STADIUAM_35492124114SAM                         HARI BAHADUR   \n",
       "63   GALLA MANDI_35492120165GAI  SMT SHAMIM BANO W/O MOHAMMAD IDRISH   \n",
       "71     TELEPHONE_35492124116TPX                      RAM KUMAR SINGH   \n",
       "88        DARGAH_35492120165DAR     SMT SALIYA BEGUM W/O LATE LADDAN   \n",
       "113    SALARGANJ_35492124119SAJ      SRI JAVED AHMAD S/O SRI CHUNNEY   \n",
       "134    SALARGANJ_35492124119SAJ                   RAM DHIRAJ CHAUHAN   \n",
       "197       TOWN-4_35492124118TO4                         RAKESH KUMAR   \n",
       "\n",
       "                                               ADDRESS     MOBILE_NO  \\\n",
       "20             AMINPUR NAGROR BAHRAICH BAHRAICH UP IND  6.349853e+09   \n",
       "37   CHAWNI SARKAR RAIPUR RAJA  BAHRAICH Bahraich U...  9.628937e+09   \n",
       "38          SEKHDAHIR  BAHRAICH Bahraich UP-271801 IND  8.081113e+09   \n",
       "49             CIVIL LINES K D COMPLEX BAHRAICH UP IND  8.858650e+09   \n",
       "63   DARGAH SHARIF NEAR POORVI GATE  BAHRAICH Bahra...  9.792110e+09   \n",
       "71     SARASWATI NAGAR OJHAARA MACHINE BAHRAICH UP IND  9.721158e+09   \n",
       "88   MANSOORGANJ NEAR FAKEER MASJID  BAHRAICH Bahra...  8.574051e+09   \n",
       "113         SALARGANJ NEW BASTI Bahraich UP-271801 IND  9.839921e+09   \n",
       "134    PREM CHANDRA SALAR GANJBAHRAICH BAHRAICH UP IND  1.000000e+10   \n",
       "197               RAIPUR RAJA JAILROAD BAHRAICH UP IND  9.794500e+09   \n",
       "\n",
       "    SUPPLY_TYPE CONSUMPTION_CURR_MNTH  ...  TOTAL_PAY_AMT unpaid_status  \\\n",
       "20           10                   0.0  ...            NaN          paid   \n",
       "37           10                 159.0  ...            NaN          paid   \n",
       "38           10                  52.0  ...            NaN        unpaid   \n",
       "49           20                   0.0  ...            NaN        unpaid   \n",
       "63           10                  80.0  ...            NaN        unpaid   \n",
       "71           10                 595.0  ...        21000.0          paid   \n",
       "88           10                 336.0  ...         2144.0          paid   \n",
       "113          10                 102.0  ...         4000.0          paid   \n",
       "134          10                   0.0  ...            NaN        unpaid   \n",
       "197          10                 630.0  ...         4919.0          paid   \n",
       "\n",
       "    Neverpaid_status gov_flag         relGov faulty_Ageing  bilable_flag  \\\n",
       "20                 0    False  Non-Goverment          None          True   \n",
       "37                 0    False  Non-Goverment          None          True   \n",
       "38                 0    False  Non-Goverment          None          True   \n",
       "49                 0    False  Non-Goverment          None          True   \n",
       "63                 0    False  Non-Goverment          None          True   \n",
       "71                 0    False  Non-Goverment          None          True   \n",
       "88                 0    False  Non-Goverment          None          True   \n",
       "113                0    False  Non-Goverment          None          True   \n",
       "134                0    False  Non-Goverment          None          True   \n",
       "197                0    False  Non-Goverment          None          True   \n",
       "\n",
       "     ARREAR_FILTER   Cat  LOAD_FILTER  \n",
       "20             <5k  LMV1        0-5kw  \n",
       "37          10k-1L  LMV1        0-5kw  \n",
       "38          10k-1L  LMV1        0-5kw  \n",
       "49          10k-1L  LMV2        0-5kw  \n",
       "63          10k-1L  LMV1        0-5kw  \n",
       "71          10k-1L  LMV1        0-5kw  \n",
       "88             <5k  LMV1        0-5kw  \n",
       "113       >=5k-10k  LMV1        0-5kw  \n",
       "134         10k-1L  LMV1        0-5kw  \n",
       "197            <5k  LMV1        0-5kw  \n",
       "\n",
       "[10 rows x 40 columns]"
      ]
     },
     "execution_count": 106,
     "metadata": {},
     "output_type": "execute_result"
    }
   ],
   "source": [
    "# df1.head(10)"
   ]
  },
  {
   "cell_type": "code",
   "execution_count": 107,
   "metadata": {},
   "outputs": [],
   "source": [
    "# df1.sort_values(by=['TOTAL_OUTSTANDING'], inplace=True,ascending=False)"
   ]
  },
  {
   "cell_type": "code",
   "execution_count": null,
   "metadata": {},
   "outputs": [],
   "source": []
  },
  {
   "cell_type": "code",
   "execution_count": 108,
   "metadata": {},
   "outputs": [],
   "source": [
    "# df1=df1.groupby('DIV_CODE').head(10).reset_index(drop=True)"
   ]
  },
  {
   "cell_type": "code",
   "execution_count": null,
   "metadata": {},
   "outputs": [],
   "source": []
  },
  {
   "cell_type": "code",
   "execution_count": 50,
   "metadata": {},
   "outputs": [
    {
     "name": "stdout",
     "output_type": "stream",
     "text": [
      "CSV: 238.57917141914368\n"
     ]
    }
   ],
   "source": [
    "start = time.time()\n",
    "# df1.to_excel(f\"{month}/top10-td-rapdrp.xlsx\")\n",
    "df.to_excel(f\"{month}/gonda_rapdrp.xlsx\") \n",
    "\n",
    "end = time.time()\n",
    "print(\"CSV:\", end - start)"
   ]
  },
  {
   "cell_type": "code",
   "execution_count": 115,
   "metadata": {},
   "outputs": [],
   "source": [
    "\n",
    "# # import pandas\n",
    "# import pandas as pd\n",
    "   \n",
    "# # read csv data\n",
    "# df1 = pd.read_csv('Student_data.csv')\n",
    "# df2 = pd.read_csv('Course_enrolled.csv')\n",
    "   \n",
    "# Left_join = pd.merge(df1, \n",
    "#                      df2, \n",
    "#                      on ='Name', \n",
    "#                      how ='left')\n",
    "# Left_join"
   ]
  },
  {
   "cell_type": "code",
   "execution_count": 116,
   "metadata": {},
   "outputs": [
    {
     "name": "stdout",
     "output_type": "stream",
     "text": [
      "jhgcgs\n"
     ]
    }
   ],
   "source": [
    "print(\"jhgcgs\")"
   ]
  },
  {
   "cell_type": "code",
   "execution_count": 117,
   "metadata": {},
   "outputs": [
    {
     "name": "stdout",
     "output_type": "stream",
     "text": [
      "3\n"
     ]
    }
   ],
   "source": [
    "print(1+2)"
   ]
  },
  {
   "cell_type": "code",
   "execution_count": 118,
   "metadata": {},
   "outputs": [],
   "source": [
    "def add (a,b):\n",
    "    return a+b"
   ]
  },
  {
   "cell_type": "code",
   "execution_count": 119,
   "metadata": {},
   "outputs": [
    {
     "data": {
      "text/plain": [
       "10"
      ]
     },
     "execution_count": 119,
     "metadata": {},
     "output_type": "execute_result"
    }
   ],
   "source": [
    "add(4,6)"
   ]
  },
  {
   "cell_type": "code",
   "execution_count": null,
   "metadata": {},
   "outputs": [],
   "source": []
  },
  {
   "cell_type": "code",
   "execution_count": null,
   "metadata": {},
   "outputs": [],
   "source": []
  }
 ],
 "metadata": {
  "celltoolbar": "Slideshow",
  "kernelspec": {
   "display_name": "Python 3 (ipykernel)",
   "language": "python",
   "name": "python3"
  },
  "language_info": {
   "codemirror_mode": {
    "name": "ipython",
    "version": 3
   },
   "file_extension": ".py",
   "mimetype": "text/x-python",
   "name": "python",
   "nbconvert_exporter": "python",
   "pygments_lexer": "ipython3",
   "version": "3.11.4"
  },
  "vscode": {
   "interpreter": {
    "hash": "301b31d429b14192281f7a701a91574750e8ba94d24452be6651b8a091308c8c"
   }
  }
 },
 "nbformat": 4,
 "nbformat_minor": 4
}
